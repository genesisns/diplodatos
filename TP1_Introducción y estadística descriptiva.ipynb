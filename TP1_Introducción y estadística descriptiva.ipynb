{
 "cells": [
  {
   "cell_type": "markdown",
   "metadata": {},
   "source": [
    "# 1. Trabajo Práctico N°1: de Analisis + Visualización"
   ]
  },
  {
   "cell_type": "markdown",
   "metadata": {},
   "source": [
    "El objetivo general del práctico es realizar una anáilsis exploratorio de las observaciones del dataset.\n",
    "\n",
    "Se sugiere explorar las series de forma individual y conjunta por medio de medidas descriptivas y visualizaciones, con la finalidad de confeccionar un informe detallado sobre los índices analizados que nos ayude a modelar las series y hacer pronósticos.\n",
    "\n",
    "Como los valores observados se indican en relación al tiempo, este tipo de datos se conocen como series temporales, por lo que algunas de las herramientas estadísticas habituales deben interpretarse con cierto cuidado y se pueden usar algunos recursos analíticos adicionales. El siguiente tutorial puede ser de gran ayuda para introducirse en la confección de algunos gráficos para series de tiempo y funcionalidades básicas de pandas para dicho tipo de datos.\n",
    "\n",
    "Para los siguientes puntos elija:\n",
    "\n",
    "Un site por analizar\n",
    "Un tipo de flujo de compra (compra directa versus modo carrito)\n",
    "Dos plataformas ( Se sugiere tomar una Web Desktop o Mobile y otra de las applicaciones Android o iOS: Desktop vs Android\n",
    "De necesitarlo deberá resamplear los valores a nivel de día como mínimo\n",
    "Una vez ejecutado los pasos anteriores debería contar con 2 series temporales (y no todo el dataset) referidas al mismo pais pero en 2 plataformas diferentes."
   ]
  },
  {
   "cell_type": "markdown",
   "metadata": {},
   "source": [
    "En este práctico se pretende obtener una primera aproximación al dataset bajo análisis. En primer lugar se cargan y presentan brevemente los datos. Luego se proponen las consignas a seguir para la resolución del mismo."
   ]
  },
  {
   "cell_type": "markdown",
   "metadata": {},
   "source": [
    "### Descripción de variables\n",
    "\n",
    "Para describir el comportamienot de los usuarios usaremos 3 variales utilizadas como \"indice compuesto\"\n",
    "- **Fecha**\n",
    "- **flow**\n",
    "- **Site**\n",
    "- **Device**\n",
    "\n",
    "| Nombre   |  Tipo  | Formato      | Descripción |\n",
    "|:---------|:-------|:------------:|:------------|\n",
    "| *Fecha   |  Date  |  YYYY-MM-DD  | Los valores corresponde a los eventos registrados durante este día |\n",
    "| *flow    | String |  direct-cart | Define si el flujo corresponde a compra directa o de carrito      |\n",
    "| *Site    | String |     XXX      | Describe el site al que corresponden las sesiones   |\n",
    "| *Device  | String |              | Define el dispositivo donde se ejecuto el flujo de compra |\n",
    "| Loading  | Entero |              | Cantidad de sesiones que vieron el paso de Loading  |\n",
    "| Shipping | Entero |              | Cantidad de sesiones que vieron el paso de Shipping |\n",
    "| Payments | Entero |              | Cantidad de sesiones que vieron el paso de Payments |\n",
    "| Review   | Entero |              | Cantidad de sesiones que vieron el paso de Review   |\n",
    "| Congrats | Entero |              | Cantidad de sesiones que vieron el paso de Congrats |\n",
    "\n",
    "**Observaciones:**\n",
    "- **Loading**\n",
    "- **Shipping**\n",
    "- **Payments**\n",
    "- **Review**\n",
    "- **Congrats**\n"
   ]
  },
  {
   "cell_type": "markdown",
   "metadata": {},
   "source": [
    "# Análisis de los datos"
   ]
  },
  {
   "cell_type": "code",
   "execution_count": 187,
   "metadata": {},
   "outputs": [],
   "source": [
    "import numpy as np\n",
    "import pandas as pd\n",
    "\n",
    "%matplotlib inline\n",
    "import matplotlib.pyplot as plt\n",
    "import seaborn as sns"
   ]
  },
  {
   "cell_type": "code",
   "execution_count": 188,
   "metadata": {},
   "outputs": [],
   "source": [
    "# Configuraciones\n",
    "plt.rcParams['figure.figsize'] = (9, 6) #Tamaño de los gráficos\n",
    "pd.options.display.float_format = '{:20,.2f}'.format #configuración para sacar la notación cientifica"
   ]
  },
  {
   "cell_type": "markdown",
   "metadata": {},
   "source": [
    "El primer paso es importar la base. En el mismo momento, se indexa la variable fecha para luego poder resamplear los datos."
   ]
  },
  {
   "cell_type": "code",
   "execution_count": 189,
   "metadata": {},
   "outputs": [],
   "source": [
    "traffic_data = pd.read_csv(\"datasets/traffic_AR_CL_UY.csv\", usecols = [\"Fecha\", \"flow\", \"Site\", \"Device\", \"Loading\", \"Shipping\", \"Payments\", \"Review\", \"Congrats\"], parse_dates=[\"Fecha\"], index_col=[\"Fecha\"])"
   ]
  },
  {
   "cell_type": "code",
   "execution_count": 190,
   "metadata": {},
   "outputs": [
    {
     "data": {
      "text/html": [
       "<div>\n",
       "<style scoped>\n",
       "    .dataframe tbody tr th:only-of-type {\n",
       "        vertical-align: middle;\n",
       "    }\n",
       "\n",
       "    .dataframe tbody tr th {\n",
       "        vertical-align: top;\n",
       "    }\n",
       "\n",
       "    .dataframe thead th {\n",
       "        text-align: right;\n",
       "    }\n",
       "</style>\n",
       "<table border=\"1\" class=\"dataframe\">\n",
       "  <thead>\n",
       "    <tr style=\"text-align: right;\">\n",
       "      <th></th>\n",
       "      <th>flow</th>\n",
       "      <th>Site</th>\n",
       "      <th>Device</th>\n",
       "      <th>Loading</th>\n",
       "      <th>Shipping</th>\n",
       "      <th>Payments</th>\n",
       "      <th>Review</th>\n",
       "      <th>Congrats</th>\n",
       "    </tr>\n",
       "    <tr>\n",
       "      <th>Fecha</th>\n",
       "      <th></th>\n",
       "      <th></th>\n",
       "      <th></th>\n",
       "      <th></th>\n",
       "      <th></th>\n",
       "      <th></th>\n",
       "      <th></th>\n",
       "      <th></th>\n",
       "    </tr>\n",
       "  </thead>\n",
       "  <tbody>\n",
       "    <tr>\n",
       "      <th>2019-03-01</th>\n",
       "      <td>cart</td>\n",
       "      <td>MLA</td>\n",
       "      <td>Android</td>\n",
       "      <td>0</td>\n",
       "      <td>7084</td>\n",
       "      <td>5313</td>\n",
       "      <td>3981</td>\n",
       "      <td>3731</td>\n",
       "    </tr>\n",
       "    <tr>\n",
       "      <th>2019-03-01</th>\n",
       "      <td>cart</td>\n",
       "      <td>MLA</td>\n",
       "      <td>Desktop</td>\n",
       "      <td>0</td>\n",
       "      <td>5419</td>\n",
       "      <td>4177</td>\n",
       "      <td>3580</td>\n",
       "      <td>3479</td>\n",
       "    </tr>\n",
       "    <tr>\n",
       "      <th>2019-03-01</th>\n",
       "      <td>cart</td>\n",
       "      <td>MLA</td>\n",
       "      <td>Mobile</td>\n",
       "      <td>0</td>\n",
       "      <td>2426</td>\n",
       "      <td>1832</td>\n",
       "      <td>1373</td>\n",
       "      <td>1290</td>\n",
       "    </tr>\n",
       "    <tr>\n",
       "      <th>2019-03-01</th>\n",
       "      <td>cart</td>\n",
       "      <td>MLA</td>\n",
       "      <td>iOS</td>\n",
       "      <td>0</td>\n",
       "      <td>1179</td>\n",
       "      <td>856</td>\n",
       "      <td>671</td>\n",
       "      <td>622</td>\n",
       "    </tr>\n",
       "    <tr>\n",
       "      <th>2019-03-01</th>\n",
       "      <td>direct</td>\n",
       "      <td>MLA</td>\n",
       "      <td>Android</td>\n",
       "      <td>160081</td>\n",
       "      <td>152310</td>\n",
       "      <td>124551</td>\n",
       "      <td>89380</td>\n",
       "      <td>83856</td>\n",
       "    </tr>\n",
       "    <tr>\n",
       "      <th>2019-03-01</th>\n",
       "      <td>direct</td>\n",
       "      <td>MLA</td>\n",
       "      <td>Desktop</td>\n",
       "      <td>98263</td>\n",
       "      <td>93506</td>\n",
       "      <td>80994</td>\n",
       "      <td>63941</td>\n",
       "      <td>62256</td>\n",
       "    </tr>\n",
       "    <tr>\n",
       "      <th>2019-03-01</th>\n",
       "      <td>direct</td>\n",
       "      <td>MLA</td>\n",
       "      <td>Mobile</td>\n",
       "      <td>69273</td>\n",
       "      <td>65385</td>\n",
       "      <td>51310</td>\n",
       "      <td>35665</td>\n",
       "      <td>33229</td>\n",
       "    </tr>\n",
       "    <tr>\n",
       "      <th>2019-03-01</th>\n",
       "      <td>direct</td>\n",
       "      <td>MLA</td>\n",
       "      <td>iOS</td>\n",
       "      <td>29215</td>\n",
       "      <td>27378</td>\n",
       "      <td>23245</td>\n",
       "      <td>17899</td>\n",
       "      <td>16835</td>\n",
       "    </tr>\n",
       "    <tr>\n",
       "      <th>2019-03-01</th>\n",
       "      <td>direct</td>\n",
       "      <td>MLC</td>\n",
       "      <td>Desktop</td>\n",
       "      <td>14970</td>\n",
       "      <td>14818</td>\n",
       "      <td>12629</td>\n",
       "      <td>10444</td>\n",
       "      <td>9827</td>\n",
       "    </tr>\n",
       "    <tr>\n",
       "      <th>2019-03-01</th>\n",
       "      <td>direct</td>\n",
       "      <td>MLC</td>\n",
       "      <td>Mobile</td>\n",
       "      <td>14840</td>\n",
       "      <td>14695</td>\n",
       "      <td>11084</td>\n",
       "      <td>8567</td>\n",
       "      <td>7445</td>\n",
       "    </tr>\n",
       "  </tbody>\n",
       "</table>\n",
       "</div>"
      ],
      "text/plain": [
       "              flow Site   Device  Loading  Shipping  Payments  Review  \\\n",
       "Fecha                                                                   \n",
       "2019-03-01    cart  MLA  Android        0      7084      5313    3981   \n",
       "2019-03-01    cart  MLA  Desktop        0      5419      4177    3580   \n",
       "2019-03-01    cart  MLA   Mobile        0      2426      1832    1373   \n",
       "2019-03-01    cart  MLA      iOS        0      1179       856     671   \n",
       "2019-03-01  direct  MLA  Android   160081    152310    124551   89380   \n",
       "2019-03-01  direct  MLA  Desktop    98263     93506     80994   63941   \n",
       "2019-03-01  direct  MLA   Mobile    69273     65385     51310   35665   \n",
       "2019-03-01  direct  MLA      iOS    29215     27378     23245   17899   \n",
       "2019-03-01  direct  MLC  Desktop    14970     14818     12629   10444   \n",
       "2019-03-01  direct  MLC   Mobile    14840     14695     11084    8567   \n",
       "\n",
       "            Congrats  \n",
       "Fecha                 \n",
       "2019-03-01      3731  \n",
       "2019-03-01      3479  \n",
       "2019-03-01      1290  \n",
       "2019-03-01       622  \n",
       "2019-03-01     83856  \n",
       "2019-03-01     62256  \n",
       "2019-03-01     33229  \n",
       "2019-03-01     16835  \n",
       "2019-03-01      9827  \n",
       "2019-03-01      7445  "
      ]
     },
     "execution_count": 190,
     "metadata": {},
     "output_type": "execute_result"
    }
   ],
   "source": [
    "traffic_data.head(10)"
   ]
  },
  {
   "cell_type": "code",
   "execution_count": 191,
   "metadata": {},
   "outputs": [
    {
     "name": "stdout",
     "output_type": "stream",
     "text": [
      "<class 'pandas.core.frame.DataFrame'>\n",
      "DatetimeIndex: 7709 entries, 2019-03-01 to 2020-06-30\n",
      "Data columns (total 8 columns):\n",
      " #   Column    Non-Null Count  Dtype \n",
      "---  ------    --------------  ----- \n",
      " 0   flow      7709 non-null   object\n",
      " 1   Site      7709 non-null   object\n",
      " 2   Device    7709 non-null   object\n",
      " 3   Loading   7709 non-null   int64 \n",
      " 4   Shipping  7709 non-null   int64 \n",
      " 5   Payments  7709 non-null   int64 \n",
      " 6   Review    7709 non-null   int64 \n",
      " 7   Congrats  7709 non-null   int64 \n",
      "dtypes: int64(5), object(3)\n",
      "memory usage: 542.0+ KB\n"
     ]
    }
   ],
   "source": [
    "traffic_data.info()"
   ]
  },
  {
   "cell_type": "code",
   "execution_count": 192,
   "metadata": {},
   "outputs": [],
   "source": [
    "traffic_data[\"Weekday\"] = traffic_data.index.day_name()\n",
    "traffic_data[\"Month\"] = traffic_data.index.month\n",
    "traffic_data[\"Year\"] = traffic_data.index.year\n",
    "\n",
    "new = traffic_data[\"Month\"].copy().astype(str)\n",
    "new1 = traffic_data[\"Year\"].copy().astype(str)\n",
    "\n",
    "# concatenating team with name column\n",
    "# overwriting name column\n",
    "traffic_data[\"Months\"]= new1.str.cat(new, sep =\"-\")"
   ]
  },
  {
   "cell_type": "code",
   "execution_count": 193,
   "metadata": {},
   "outputs": [
    {
     "data": {
      "text/html": [
       "<div>\n",
       "<style scoped>\n",
       "    .dataframe tbody tr th:only-of-type {\n",
       "        vertical-align: middle;\n",
       "    }\n",
       "\n",
       "    .dataframe tbody tr th {\n",
       "        vertical-align: top;\n",
       "    }\n",
       "\n",
       "    .dataframe thead th {\n",
       "        text-align: right;\n",
       "    }\n",
       "</style>\n",
       "<table border=\"1\" class=\"dataframe\">\n",
       "  <thead>\n",
       "    <tr style=\"text-align: right;\">\n",
       "      <th></th>\n",
       "      <th>flow</th>\n",
       "      <th>Site</th>\n",
       "      <th>Device</th>\n",
       "      <th>Loading</th>\n",
       "      <th>Shipping</th>\n",
       "      <th>Payments</th>\n",
       "      <th>Review</th>\n",
       "      <th>Congrats</th>\n",
       "      <th>Weekday</th>\n",
       "      <th>Month</th>\n",
       "      <th>Year</th>\n",
       "      <th>Months</th>\n",
       "    </tr>\n",
       "    <tr>\n",
       "      <th>Fecha</th>\n",
       "      <th></th>\n",
       "      <th></th>\n",
       "      <th></th>\n",
       "      <th></th>\n",
       "      <th></th>\n",
       "      <th></th>\n",
       "      <th></th>\n",
       "      <th></th>\n",
       "      <th></th>\n",
       "      <th></th>\n",
       "      <th></th>\n",
       "      <th></th>\n",
       "    </tr>\n",
       "  </thead>\n",
       "  <tbody>\n",
       "    <tr>\n",
       "      <th>2019-03-01</th>\n",
       "      <td>cart</td>\n",
       "      <td>MLA</td>\n",
       "      <td>Android</td>\n",
       "      <td>0</td>\n",
       "      <td>7084</td>\n",
       "      <td>5313</td>\n",
       "      <td>3981</td>\n",
       "      <td>3731</td>\n",
       "      <td>Friday</td>\n",
       "      <td>3</td>\n",
       "      <td>2019</td>\n",
       "      <td>2019-3</td>\n",
       "    </tr>\n",
       "    <tr>\n",
       "      <th>2019-03-01</th>\n",
       "      <td>cart</td>\n",
       "      <td>MLA</td>\n",
       "      <td>Desktop</td>\n",
       "      <td>0</td>\n",
       "      <td>5419</td>\n",
       "      <td>4177</td>\n",
       "      <td>3580</td>\n",
       "      <td>3479</td>\n",
       "      <td>Friday</td>\n",
       "      <td>3</td>\n",
       "      <td>2019</td>\n",
       "      <td>2019-3</td>\n",
       "    </tr>\n",
       "    <tr>\n",
       "      <th>2019-03-01</th>\n",
       "      <td>cart</td>\n",
       "      <td>MLA</td>\n",
       "      <td>Mobile</td>\n",
       "      <td>0</td>\n",
       "      <td>2426</td>\n",
       "      <td>1832</td>\n",
       "      <td>1373</td>\n",
       "      <td>1290</td>\n",
       "      <td>Friday</td>\n",
       "      <td>3</td>\n",
       "      <td>2019</td>\n",
       "      <td>2019-3</td>\n",
       "    </tr>\n",
       "    <tr>\n",
       "      <th>2019-03-01</th>\n",
       "      <td>cart</td>\n",
       "      <td>MLA</td>\n",
       "      <td>iOS</td>\n",
       "      <td>0</td>\n",
       "      <td>1179</td>\n",
       "      <td>856</td>\n",
       "      <td>671</td>\n",
       "      <td>622</td>\n",
       "      <td>Friday</td>\n",
       "      <td>3</td>\n",
       "      <td>2019</td>\n",
       "      <td>2019-3</td>\n",
       "    </tr>\n",
       "    <tr>\n",
       "      <th>2019-03-01</th>\n",
       "      <td>direct</td>\n",
       "      <td>MLA</td>\n",
       "      <td>Android</td>\n",
       "      <td>160081</td>\n",
       "      <td>152310</td>\n",
       "      <td>124551</td>\n",
       "      <td>89380</td>\n",
       "      <td>83856</td>\n",
       "      <td>Friday</td>\n",
       "      <td>3</td>\n",
       "      <td>2019</td>\n",
       "      <td>2019-3</td>\n",
       "    </tr>\n",
       "    <tr>\n",
       "      <th>...</th>\n",
       "      <td>...</td>\n",
       "      <td>...</td>\n",
       "      <td>...</td>\n",
       "      <td>...</td>\n",
       "      <td>...</td>\n",
       "      <td>...</td>\n",
       "      <td>...</td>\n",
       "      <td>...</td>\n",
       "      <td>...</td>\n",
       "      <td>...</td>\n",
       "      <td>...</td>\n",
       "      <td>...</td>\n",
       "    </tr>\n",
       "    <tr>\n",
       "      <th>2020-06-30</th>\n",
       "      <td>direct</td>\n",
       "      <td>MLC</td>\n",
       "      <td>iOS</td>\n",
       "      <td>29876</td>\n",
       "      <td>29952</td>\n",
       "      <td>25386</td>\n",
       "      <td>21049</td>\n",
       "      <td>19642</td>\n",
       "      <td>Tuesday</td>\n",
       "      <td>6</td>\n",
       "      <td>2020</td>\n",
       "      <td>2020-6</td>\n",
       "    </tr>\n",
       "    <tr>\n",
       "      <th>2020-06-30</th>\n",
       "      <td>direct</td>\n",
       "      <td>MLU</td>\n",
       "      <td>Android</td>\n",
       "      <td>30437</td>\n",
       "      <td>30534</td>\n",
       "      <td>24870</td>\n",
       "      <td>18660</td>\n",
       "      <td>17698</td>\n",
       "      <td>Tuesday</td>\n",
       "      <td>6</td>\n",
       "      <td>2020</td>\n",
       "      <td>2020-6</td>\n",
       "    </tr>\n",
       "    <tr>\n",
       "      <th>2020-06-30</th>\n",
       "      <td>direct</td>\n",
       "      <td>MLU</td>\n",
       "      <td>Desktop</td>\n",
       "      <td>9859</td>\n",
       "      <td>9767</td>\n",
       "      <td>8177</td>\n",
       "      <td>6690</td>\n",
       "      <td>6566</td>\n",
       "      <td>Tuesday</td>\n",
       "      <td>6</td>\n",
       "      <td>2020</td>\n",
       "      <td>2020-6</td>\n",
       "    </tr>\n",
       "    <tr>\n",
       "      <th>2020-06-30</th>\n",
       "      <td>direct</td>\n",
       "      <td>MLU</td>\n",
       "      <td>Mobile</td>\n",
       "      <td>8416</td>\n",
       "      <td>8267</td>\n",
       "      <td>6636</td>\n",
       "      <td>4899</td>\n",
       "      <td>4626</td>\n",
       "      <td>Tuesday</td>\n",
       "      <td>6</td>\n",
       "      <td>2020</td>\n",
       "      <td>2020-6</td>\n",
       "    </tr>\n",
       "    <tr>\n",
       "      <th>2020-06-30</th>\n",
       "      <td>direct</td>\n",
       "      <td>MLU</td>\n",
       "      <td>iOS</td>\n",
       "      <td>9338</td>\n",
       "      <td>9372</td>\n",
       "      <td>8238</td>\n",
       "      <td>6333</td>\n",
       "      <td>5959</td>\n",
       "      <td>Tuesday</td>\n",
       "      <td>6</td>\n",
       "      <td>2020</td>\n",
       "      <td>2020-6</td>\n",
       "    </tr>\n",
       "  </tbody>\n",
       "</table>\n",
       "<p>7709 rows × 12 columns</p>\n",
       "</div>"
      ],
      "text/plain": [
       "              flow Site   Device  Loading  Shipping  Payments  Review  \\\n",
       "Fecha                                                                   \n",
       "2019-03-01    cart  MLA  Android        0      7084      5313    3981   \n",
       "2019-03-01    cart  MLA  Desktop        0      5419      4177    3580   \n",
       "2019-03-01    cart  MLA   Mobile        0      2426      1832    1373   \n",
       "2019-03-01    cart  MLA      iOS        0      1179       856     671   \n",
       "2019-03-01  direct  MLA  Android   160081    152310    124551   89380   \n",
       "...            ...  ...      ...      ...       ...       ...     ...   \n",
       "2020-06-30  direct  MLC      iOS    29876     29952     25386   21049   \n",
       "2020-06-30  direct  MLU  Android    30437     30534     24870   18660   \n",
       "2020-06-30  direct  MLU  Desktop     9859      9767      8177    6690   \n",
       "2020-06-30  direct  MLU   Mobile     8416      8267      6636    4899   \n",
       "2020-06-30  direct  MLU      iOS     9338      9372      8238    6333   \n",
       "\n",
       "            Congrats  Weekday  Month  Year  Months  \n",
       "Fecha                                               \n",
       "2019-03-01      3731   Friday      3  2019  2019-3  \n",
       "2019-03-01      3479   Friday      3  2019  2019-3  \n",
       "2019-03-01      1290   Friday      3  2019  2019-3  \n",
       "2019-03-01       622   Friday      3  2019  2019-3  \n",
       "2019-03-01     83856   Friday      3  2019  2019-3  \n",
       "...              ...      ...    ...   ...     ...  \n",
       "2020-06-30     19642  Tuesday      6  2020  2020-6  \n",
       "2020-06-30     17698  Tuesday      6  2020  2020-6  \n",
       "2020-06-30      6566  Tuesday      6  2020  2020-6  \n",
       "2020-06-30      4626  Tuesday      6  2020  2020-6  \n",
       "2020-06-30      5959  Tuesday      6  2020  2020-6  \n",
       "\n",
       "[7709 rows x 12 columns]"
      ]
     },
     "execution_count": 193,
     "metadata": {},
     "output_type": "execute_result"
    }
   ],
   "source": [
    "traffic_data"
   ]
  },
  {
   "cell_type": "code",
   "execution_count": 194,
   "metadata": {},
   "outputs": [
    {
     "data": {
      "text/plain": [
       "MLA    3903\n",
       "MLC    1910\n",
       "MLU    1896\n",
       "Name: Site, dtype: int64"
      ]
     },
     "execution_count": 194,
     "metadata": {},
     "output_type": "execute_result"
    }
   ],
   "source": [
    "traffic_data.Site.value_counts()"
   ]
  },
  {
   "cell_type": "code",
   "execution_count": 195,
   "metadata": {},
   "outputs": [],
   "source": [
    "# Como puede apreciarse, Mercado Libre Argentina es el sitio que cuenta con mas observaciones. Por este motivo,\n",
    "# será objeto de análisis."
   ]
  },
  {
   "cell_type": "code",
   "execution_count": 196,
   "metadata": {},
   "outputs": [
    {
     "name": "stderr",
     "output_type": "stream",
     "text": [
      "C:\\Users\\magda\\anaconda3\\lib\\site-packages\\seaborn\\_decorators.py:36: FutureWarning: Pass the following variable as a keyword arg: x. From version 0.12, the only valid positional argument will be `data`, and passing other arguments without an explicit keyword will result in an error or misinterpretation.\n",
      "  warnings.warn(\n"
     ]
    },
    {
     "data": {
      "text/plain": [
       "<AxesSubplot:xlabel='Site', ylabel='count'>"
      ]
     },
     "execution_count": 196,
     "metadata": {},
     "output_type": "execute_result"
    },
    {
     "data": {
      "image/png": "[encoded data removed]",
      "text/plain": [
       "<Figure size 288x288 with 1 Axes>"
      ]
     },
     "metadata": {
      "needs_background": "light"
     },
     "output_type": "display_data"
    }
   ],
   "source": [
    "plt.rcParams['figure.figsize'] = (4, 4) #Tamaño de los gráficos\n",
    "\n",
    "sns.countplot(traffic_data.Site, palette=\"Set1\")"
   ]
  },
  {
   "cell_type": "code",
   "execution_count": 197,
   "metadata": {},
   "outputs": [
    {
     "data": {
      "text/plain": [
       "direct    5746\n",
       "cart      1963\n",
       "Name: flow, dtype: int64"
      ]
     },
     "execution_count": 197,
     "metadata": {},
     "output_type": "execute_result"
    }
   ],
   "source": [
    "traffic_data.flow.value_counts()"
   ]
  },
  {
   "cell_type": "markdown",
   "metadata": {},
   "source": [
    "Lo mismo sucede con el flujo de compra directa, por lo que es elegida para analizarse."
   ]
  },
  {
   "cell_type": "code",
   "execution_count": 198,
   "metadata": {},
   "outputs": [
    {
     "name": "stderr",
     "output_type": "stream",
     "text": [
      "C:\\Users\\magda\\anaconda3\\lib\\site-packages\\seaborn\\_decorators.py:36: FutureWarning: Pass the following variable as a keyword arg: x. From version 0.12, the only valid positional argument will be `data`, and passing other arguments without an explicit keyword will result in an error or misinterpretation.\n",
      "  warnings.warn(\n"
     ]
    },
    {
     "data": {
      "text/plain": [
       "<AxesSubplot:xlabel='flow', ylabel='count'>"
      ]
     },
     "execution_count": 198,
     "metadata": {},
     "output_type": "execute_result"
    },
    {
     "data": {
      "image/png": "[encoded data removed]",
      "text/plain": [
       "<Figure size 288x288 with 1 Axes>"
      ]
     },
     "metadata": {
      "needs_background": "light"
     },
     "output_type": "display_data"
    }
   ],
   "source": [
    "plt.rcParams['figure.figsize'] = (4,4) #Tamaño de los gráficos\n",
    "sns.countplot(traffic_data.flow)"
   ]
  },
  {
   "cell_type": "code",
   "execution_count": 199,
   "metadata": {},
   "outputs": [
    {
     "name": "stdout",
     "output_type": "stream",
     "text": [
      "2019-03-01 00:00:00\n",
      "2020-06-30 00:00:00\n",
      "El periodo de tiempo analizado es de: 487 días\n"
     ]
    }
   ],
   "source": [
    "min=traffic_data.index.min()\n",
    "print(min)\n",
    "max=traffic_data.index.max()\n",
    "print(max)\n",
    "dif=(max-min).days\n",
    "print(\"El periodo de tiempo analizado es de:\", dif, \"días\")"
   ]
  },
  {
   "cell_type": "code",
   "execution_count": 200,
   "metadata": {},
   "outputs": [],
   "source": [
    "gbd = traffic_data.groupby(by=['Site','flow','Device']).count().reset_index()\n",
    "gbd.drop(['Shipping','Payments','Review','Congrats','Weekday'], axis='columns', inplace=True)\n"
   ]
  },
  {
   "cell_type": "code",
   "execution_count": 201,
   "metadata": {},
   "outputs": [
    {
     "data": {
      "text/html": [
       "<div>\n",
       "<style scoped>\n",
       "    .dataframe tbody tr th:only-of-type {\n",
       "        vertical-align: middle;\n",
       "    }\n",
       "\n",
       "    .dataframe tbody tr th {\n",
       "        vertical-align: top;\n",
       "    }\n",
       "\n",
       "    .dataframe thead th {\n",
       "        text-align: right;\n",
       "    }\n",
       "</style>\n",
       "<table border=\"1\" class=\"dataframe\">\n",
       "  <thead>\n",
       "    <tr style=\"text-align: right;\">\n",
       "      <th></th>\n",
       "      <th>Site</th>\n",
       "      <th>flow</th>\n",
       "      <th>Device</th>\n",
       "      <th>Loading</th>\n",
       "      <th>Month</th>\n",
       "      <th>Year</th>\n",
       "      <th>Months</th>\n",
       "    </tr>\n",
       "  </thead>\n",
       "  <tbody>\n",
       "    <tr>\n",
       "      <th>0</th>\n",
       "      <td>MLA</td>\n",
       "      <td>cart</td>\n",
       "      <td>Android</td>\n",
       "      <td>488</td>\n",
       "      <td>488</td>\n",
       "      <td>488</td>\n",
       "      <td>488</td>\n",
       "    </tr>\n",
       "    <tr>\n",
       "      <th>1</th>\n",
       "      <td>MLA</td>\n",
       "      <td>cart</td>\n",
       "      <td>Desktop</td>\n",
       "      <td>488</td>\n",
       "      <td>488</td>\n",
       "      <td>488</td>\n",
       "      <td>488</td>\n",
       "    </tr>\n",
       "    <tr>\n",
       "      <th>2</th>\n",
       "      <td>MLA</td>\n",
       "      <td>cart</td>\n",
       "      <td>Mobile</td>\n",
       "      <td>487</td>\n",
       "      <td>487</td>\n",
       "      <td>487</td>\n",
       "      <td>487</td>\n",
       "    </tr>\n",
       "    <tr>\n",
       "      <th>3</th>\n",
       "      <td>MLA</td>\n",
       "      <td>cart</td>\n",
       "      <td>iOS</td>\n",
       "      <td>488</td>\n",
       "      <td>488</td>\n",
       "      <td>488</td>\n",
       "      <td>488</td>\n",
       "    </tr>\n",
       "    <tr>\n",
       "      <th>4</th>\n",
       "      <td>MLA</td>\n",
       "      <td>direct</td>\n",
       "      <td>Android</td>\n",
       "      <td>488</td>\n",
       "      <td>488</td>\n",
       "      <td>488</td>\n",
       "      <td>488</td>\n",
       "    </tr>\n",
       "    <tr>\n",
       "      <th>5</th>\n",
       "      <td>MLA</td>\n",
       "      <td>direct</td>\n",
       "      <td>Desktop</td>\n",
       "      <td>488</td>\n",
       "      <td>488</td>\n",
       "      <td>488</td>\n",
       "      <td>488</td>\n",
       "    </tr>\n",
       "    <tr>\n",
       "      <th>6</th>\n",
       "      <td>MLA</td>\n",
       "      <td>direct</td>\n",
       "      <td>Mobile</td>\n",
       "      <td>488</td>\n",
       "      <td>488</td>\n",
       "      <td>488</td>\n",
       "      <td>488</td>\n",
       "    </tr>\n",
       "    <tr>\n",
       "      <th>7</th>\n",
       "      <td>MLA</td>\n",
       "      <td>direct</td>\n",
       "      <td>iOS</td>\n",
       "      <td>488</td>\n",
       "      <td>488</td>\n",
       "      <td>488</td>\n",
       "      <td>488</td>\n",
       "    </tr>\n",
       "    <tr>\n",
       "      <th>8</th>\n",
       "      <td>MLC</td>\n",
       "      <td>cart</td>\n",
       "      <td>Desktop</td>\n",
       "      <td>6</td>\n",
       "      <td>6</td>\n",
       "      <td>6</td>\n",
       "      <td>6</td>\n",
       "    </tr>\n",
       "    <tr>\n",
       "      <th>9</th>\n",
       "      <td>MLC</td>\n",
       "      <td>cart</td>\n",
       "      <td>Mobile</td>\n",
       "      <td>6</td>\n",
       "      <td>6</td>\n",
       "      <td>6</td>\n",
       "      <td>6</td>\n",
       "    </tr>\n",
       "    <tr>\n",
       "      <th>10</th>\n",
       "      <td>MLC</td>\n",
       "      <td>direct</td>\n",
       "      <td>Android</td>\n",
       "      <td>461</td>\n",
       "      <td>461</td>\n",
       "      <td>461</td>\n",
       "      <td>461</td>\n",
       "    </tr>\n",
       "    <tr>\n",
       "      <th>11</th>\n",
       "      <td>MLC</td>\n",
       "      <td>direct</td>\n",
       "      <td>Desktop</td>\n",
       "      <td>488</td>\n",
       "      <td>488</td>\n",
       "      <td>488</td>\n",
       "      <td>488</td>\n",
       "    </tr>\n",
       "    <tr>\n",
       "      <th>12</th>\n",
       "      <td>MLC</td>\n",
       "      <td>direct</td>\n",
       "      <td>Mobile</td>\n",
       "      <td>488</td>\n",
       "      <td>488</td>\n",
       "      <td>488</td>\n",
       "      <td>488</td>\n",
       "    </tr>\n",
       "    <tr>\n",
       "      <th>13</th>\n",
       "      <td>MLC</td>\n",
       "      <td>direct</td>\n",
       "      <td>iOS</td>\n",
       "      <td>461</td>\n",
       "      <td>461</td>\n",
       "      <td>461</td>\n",
       "      <td>461</td>\n",
       "    </tr>\n",
       "    <tr>\n",
       "      <th>14</th>\n",
       "      <td>MLU</td>\n",
       "      <td>direct</td>\n",
       "      <td>Android</td>\n",
       "      <td>461</td>\n",
       "      <td>461</td>\n",
       "      <td>461</td>\n",
       "      <td>461</td>\n",
       "    </tr>\n",
       "    <tr>\n",
       "      <th>15</th>\n",
       "      <td>MLU</td>\n",
       "      <td>direct</td>\n",
       "      <td>Desktop</td>\n",
       "      <td>487</td>\n",
       "      <td>487</td>\n",
       "      <td>487</td>\n",
       "      <td>487</td>\n",
       "    </tr>\n",
       "    <tr>\n",
       "      <th>16</th>\n",
       "      <td>MLU</td>\n",
       "      <td>direct</td>\n",
       "      <td>Mobile</td>\n",
       "      <td>487</td>\n",
       "      <td>487</td>\n",
       "      <td>487</td>\n",
       "      <td>487</td>\n",
       "    </tr>\n",
       "    <tr>\n",
       "      <th>17</th>\n",
       "      <td>MLU</td>\n",
       "      <td>direct</td>\n",
       "      <td>iOS</td>\n",
       "      <td>461</td>\n",
       "      <td>461</td>\n",
       "      <td>461</td>\n",
       "      <td>461</td>\n",
       "    </tr>\n",
       "  </tbody>\n",
       "</table>\n",
       "</div>"
      ],
      "text/plain": [
       "   Site    flow   Device  Loading  Month  Year  Months\n",
       "0   MLA    cart  Android      488    488   488     488\n",
       "1   MLA    cart  Desktop      488    488   488     488\n",
       "2   MLA    cart   Mobile      487    487   487     487\n",
       "3   MLA    cart      iOS      488    488   488     488\n",
       "4   MLA  direct  Android      488    488   488     488\n",
       "5   MLA  direct  Desktop      488    488   488     488\n",
       "6   MLA  direct   Mobile      488    488   488     488\n",
       "7   MLA  direct      iOS      488    488   488     488\n",
       "8   MLC    cart  Desktop        6      6     6       6\n",
       "9   MLC    cart   Mobile        6      6     6       6\n",
       "10  MLC  direct  Android      461    461   461     461\n",
       "11  MLC  direct  Desktop      488    488   488     488\n",
       "12  MLC  direct   Mobile      488    488   488     488\n",
       "13  MLC  direct      iOS      461    461   461     461\n",
       "14  MLU  direct  Android      461    461   461     461\n",
       "15  MLU  direct  Desktop      487    487   487     487\n",
       "16  MLU  direct   Mobile      487    487   487     487\n",
       "17  MLU  direct      iOS      461    461   461     461"
      ]
     },
     "execution_count": 201,
     "metadata": {},
     "output_type": "execute_result"
    }
   ],
   "source": [
    "gbd"
   ]
  },
  {
   "cell_type": "code",
   "execution_count": 202,
   "metadata": {},
   "outputs": [
    {
     "name": "stderr",
     "output_type": "stream",
     "text": [
      "C:\\Users\\magda\\anaconda3\\lib\\site-packages\\seaborn\\axisgrid.py:643: UserWarning: Using the barplot function without specifying `order` is likely to produce an incorrect plot.\n",
      "  warnings.warn(warning)\n"
     ]
    },
    {
     "data": {
      "text/plain": [
       "<seaborn.axisgrid.FacetGrid at 0x2dce35df4f0>"
      ]
     },
     "execution_count": 202,
     "metadata": {},
     "output_type": "execute_result"
    },
    {
     "data": {
      "image/png": "[encoded data removed]",
      "text/plain": [
       "<Figure size 432x648 with 6 Axes>"
      ]
     },
     "metadata": {
      "needs_background": "light"
     },
     "output_type": "display_data"
    }
   ],
   "source": [
    "g = sns.FacetGrid(gbd, col=\"flow\",  row=\"Site\")\n",
    "g.map(sns.barplot, \"Device\", \"Loading\")"
   ]
  },
  {
   "cell_type": "markdown",
   "metadata": {},
   "source": [
    "Dado que el periodo bajo análisis es de 487 días, se trabajará con las plataformas Desktop y Android por no contar con valores\n",
    "nulos."
   ]
  },
  {
   "cell_type": "markdown",
   "metadata": {},
   "source": [
    "Se definen 3 bases: una que contempla las dos plataformas -Desktop & Android- en conjunto y además, una con los datos\n",
    "individuales de cada plataforma para analizarlas por separado. "
   ]
  },
  {
   "cell_type": "code",
   "execution_count": 203,
   "metadata": {},
   "outputs": [],
   "source": [
    "df_traffic=traffic_data[traffic_data.Site==(\"MLA\")]\n",
    "df_traffic=df_traffic[df_traffic.flow==(\"direct\")]\n",
    "df_traffic = df_traffic[(df_traffic.Device==(\"Android\"))|(df_traffic.Device==(\"Desktop\"))]\n",
    "df_traffic[\"indice\"] = df_traffic[\"Congrats\"] / df_traffic[\"Loading\"]\n",
    "\n",
    "df_traffic_android = df_traffic[df_traffic.Device==(\"Android\")]\n",
    "df_traffic_desktop = df_traffic[df_traffic.Device==(\"Desktop\")]"
   ]
  },
  {
   "cell_type": "code",
   "execution_count": 204,
   "metadata": {},
   "outputs": [],
   "source": [
    "# YO SACARÍA ESTA PARTE\n",
    "\n",
    "#Se proponen las siguientes actividades:\n",
    "\n",
    "# Determine el tipo de variables y el período de tiempo bajo análisis\n",
    " \n",
    "# Indague sobre la existencia de valores faltantes.\n",
    "\n",
    "# ¿Cómo trataría a los faltantes? ¿Por qué? (El tratamiento de valores faltantes será parte del práctico de curación y \n",
    "# pueden omitirlos, en caso de necesitar inputar valores pueden tomar periodos que los omitan)\n",
    "\n",
    "## Analice las distribuciones por medio de gráficos(por ejemplo: histogramas y boxplots) y medidas de estadística \n",
    "# descriptiva (por ejemplo: media, varianza y coeficiente de variación). Puede derivar alguna afirmación del análisis \n",
    "# de los coeficientes de asimetría y kurtosis"
   ]
  },
  {
   "cell_type": "markdown",
   "metadata": {},
   "source": [
    "Como se mencionó anteriormente, el periodo de tiempo bajo análisis es de 487 días (16 meses). El tipo de variables con \n",
    "las que se trabajará, son las siguientes:"
   ]
  },
  {
   "cell_type": "code",
   "execution_count": 205,
   "metadata": {},
   "outputs": [
    {
     "name": "stdout",
     "output_type": "stream",
     "text": [
      "<class 'pandas.core.frame.DataFrame'>\n",
      "DatetimeIndex: 488 entries, 2019-03-01 to 2020-06-30\n",
      "Data columns (total 13 columns):\n",
      " #   Column    Non-Null Count  Dtype  \n",
      "---  ------    --------------  -----  \n",
      " 0   flow      488 non-null    object \n",
      " 1   Site      488 non-null    object \n",
      " 2   Device    488 non-null    object \n",
      " 3   Loading   488 non-null    int64  \n",
      " 4   Shipping  488 non-null    int64  \n",
      " 5   Payments  488 non-null    int64  \n",
      " 6   Review    488 non-null    int64  \n",
      " 7   Congrats  488 non-null    int64  \n",
      " 8   Weekday   488 non-null    object \n",
      " 9   Month     488 non-null    int64  \n",
      " 10  Year      488 non-null    int64  \n",
      " 11  Months    488 non-null    object \n",
      " 12  indice    488 non-null    float64\n",
      "dtypes: float64(1), int64(7), object(5)\n",
      "memory usage: 53.4+ KB\n"
     ]
    }
   ],
   "source": [
    "df_traffic_android.info()"
   ]
  },
  {
   "cell_type": "code",
   "execution_count": 206,
   "metadata": {},
   "outputs": [
    {
     "name": "stdout",
     "output_type": "stream",
     "text": [
      "<class 'pandas.core.frame.DataFrame'>\n",
      "DatetimeIndex: 488 entries, 2019-03-01 to 2020-06-30\n",
      "Data columns (total 13 columns):\n",
      " #   Column    Non-Null Count  Dtype  \n",
      "---  ------    --------------  -----  \n",
      " 0   flow      488 non-null    object \n",
      " 1   Site      488 non-null    object \n",
      " 2   Device    488 non-null    object \n",
      " 3   Loading   488 non-null    int64  \n",
      " 4   Shipping  488 non-null    int64  \n",
      " 5   Payments  488 non-null    int64  \n",
      " 6   Review    488 non-null    int64  \n",
      " 7   Congrats  488 non-null    int64  \n",
      " 8   Weekday   488 non-null    object \n",
      " 9   Month     488 non-null    int64  \n",
      " 10  Year      488 non-null    int64  \n",
      " 11  Months    488 non-null    object \n",
      " 12  indice    488 non-null    float64\n",
      "dtypes: float64(1), int64(7), object(5)\n",
      "memory usage: 53.4+ KB\n"
     ]
    }
   ],
   "source": [
    "df_traffic_desktop.info()"
   ]
  },
  {
   "cell_type": "markdown",
   "metadata": {},
   "source": [
    "Para el caso de las variables elegidas no hay valores faltantes. Por esto, no se realizará un tratamiento especial."
   ]
  },
  {
   "cell_type": "markdown",
   "metadata": {},
   "source": [
    "En primer lugar, para ver el comportamiento de los datos como serie de tiempo, se realiza un gráfico de líneas. A los fines\n",
    "de quitar el ruido de la frecuencia diaria de los datos, se resamplea la base con el promedio de ventas semanal y se grafica\n",
    "la totalidad del periodo bajo análisis."
   ]
  },
  {
   "cell_type": "code",
   "execution_count": 207,
   "metadata": {},
   "outputs": [
    {
     "data": {
      "text/plain": [
       "Text(0, 0.5, 'Cantidad de Ventas')"
      ]
     },
     "execution_count": 207,
     "metadata": {},
     "output_type": "execute_result"
    },
    {
     "data": {
      "image/png": "[encoded data removed]",
      "text/plain": [
       "<Figure size 288x288 with 1 Axes>"
      ]
     },
     "metadata": {
      "needs_background": "light"
     },
     "output_type": "display_data"
    }
   ],
   "source": [
    "df_traffic_weekly_median=df_traffic.resample(\"W\").median()\n",
    "df_traffic_weekly_median.Congrats.plot(color = \"#ffff00\", lw = 2)\n",
    "plt.title('Mediana semanal de usuarios que concretaron una compra', size = 10)\n",
    "plt.xlabel('Fecha', size = 12, labelpad = 6)\n",
    "plt.ylabel('Cantidad de Ventas', size = 12, labelpad = 6)"
   ]
  },
  {
   "cell_type": "markdown",
   "metadata": {},
   "source": [
    "Si se quiere ver el comportamiento de las ventas en el año 2020:"
   ]
  },
  {
   "cell_type": "code",
   "execution_count": 208,
   "metadata": {},
   "outputs": [
    {
     "data": {
      "text/plain": [
       "Text(0, 0.5, 'Cantidad de Ventas')"
      ]
     },
     "execution_count": 208,
     "metadata": {},
     "output_type": "execute_result"
    },
    {
     "data": {
      "image/png": "[encoded data removed]",
      "text/plain": [
       "<Figure size 288x288 with 1 Axes>"
      ]
     },
     "metadata": {
      "needs_background": "light"
     },
     "output_type": "display_data"
    }
   ],
   "source": [
    "df_traffic_weekly_median['2020-01-01':'2020-06-30'].Congrats.plot(color = \"#ffff00\", lw = 2)\n",
    "plt.title('Mediana semanal de concretaron una compra - 1S2020', size = 10)\n",
    "plt.xlabel('Fecha', size = 12, labelpad = 6)\n",
    "plt.ylabel('Cantidad de Ventas', size = 12, labelpad = 6)"
   ]
  },
  {
   "cell_type": "markdown",
   "metadata": {},
   "source": [
    "Comparación de Histogramas Pre y Post Pandemia"
   ]
  },
  {
   "cell_type": "code",
   "execution_count": 209,
   "metadata": {},
   "outputs": [
    {
     "data": {
      "text/plain": [
       "<matplotlib.legend.Legend at 0x2dce4f70b20>"
      ]
     },
     "execution_count": 209,
     "metadata": {},
     "output_type": "execute_result"
    },
    {
     "data": {
      "image/png": "[encoded data removed]",
      "text/plain": [
       "<Figure size 1080x720 with 4 Axes>"
      ]
     },
     "metadata": {
      "needs_background": "light"
     },
     "output_type": "display_data"
    }
   ],
   "source": [
    "plt.rcParams['figure.figsize'] = (15, 10) #Tamaño de los gráficos\n",
    "\n",
    "fig, axs = plt.subplots(2, 2)\n",
    "axs[0, 0].hist(df_traffic['2020-01-01':'2020-03-20']['Shipping'], label='Pre-Pandemia', alpha= 0.7, color= \"#cb3234\")\n",
    "axs[0, 0].hist(df_traffic['2020-03-21':'2020-06-30']['Shipping'], label='Post-Pandemia', alpha = 0.6, color= \"#6c4675\")\n",
    "axs[0, 0].set_title('Shipping')\n",
    "axs[0, 0].legend(loc=\"upper right\")\n",
    "axs[0, 1].hist(df_traffic['2020-01-01':'2020-03-20']['Payments'], label='Pre-Pandemia', alpha = 0.7, color= \"#a2cadf\")\n",
    "axs[0, 1].hist(df_traffic['2020-03-21':'2020-06-30']['Payments'], label='Post-Pandemia', alpha = 0.6, color= \"#084d6e\")\n",
    "axs[0, 1].set_title('Payments')\n",
    "axs[0, 1].legend(loc=\"upper right\")\n",
    "axs[1, 0].hist(df_traffic['2020-01-01':'2020-03-20']['Review'], label='Pre-Pandemia', alpha = 0.7, color= \"#1e5945\")\n",
    "axs[1, 0].hist(df_traffic['2020-03-21':'2020-06-30']['Review'], label='Post-Pandemia', alpha = 0.6, color= \"#008f39\")\n",
    "axs[1, 0].set_title('Review')\n",
    "axs[1, 0].legend(loc=\"upper right\")\n",
    "axs[1, 1].hist(df_traffic['2020-01-01':'2020-03-20']['Congrats'], label='Pre-Pandemia', alpha = 0.7, color= \"#ffff00\")\n",
    "axs[1, 1].hist(df_traffic['2020-03-21':'2020-06-30']['Congrats'], label='Post-Pandemia', alpha = 0.6, color= \"#0a1172\")\n",
    "axs[1, 1].set_title('Congrats')\n",
    "axs[1, 1].legend(loc=\"upper right\")"
   ]
  },
  {
   "cell_type": "markdown",
   "metadata": {},
   "source": [
    "La comparación de los histogramas en los periodos pre y post pandemia, nos muestran claramente que luego de ser decretada\n",
    "la cuarentena en Argentina, la compra online se volvió mas popular. Esto también puede verse en la diferencia de medias para \n",
    "los periodos bajo análisis."
   ]
  },
  {
   "cell_type": "code",
   "execution_count": 210,
   "metadata": {},
   "outputs": [
    {
     "name": "stdout",
     "output_type": "stream",
     "text": [
      "El promedio de usuarios que realizaron una compra en 2 meses y medio antes de la pandemia era de 170,414.62, mientras que el promedio 2 meses y medio luego, fue de 252,926.08\n"
     ]
    }
   ],
   "source": [
    "media_pre = df_traffic['2020-01-01':'2020-03-20']['Shipping'].mean()\n",
    "media_post = df_traffic['2020-03-11':'2020-06-30']['Shipping'].mean()\n",
    "\n",
    "txt1 = \"El promedio de usuarios que realizaron una compra en 2 meses y medio antes de la pandemia era de {:,.2f}, mientras que el promedio 2 meses y medio luego, fue de {:,.2f}\".format(media_pre, media_post)\n",
    "\n",
    "print(txt1)"
   ]
  },
  {
   "cell_type": "markdown",
   "metadata": {},
   "source": [
    "Gráficamente se puede ver observar, por ejemplo, que dada la diferencia en la mediana de cada variable, \n",
    "hay muchos mas usuarios que ingresan a la plataforma que los que terminan concretando una compra."
   ]
  },
  {
   "cell_type": "code",
   "execution_count": 211,
   "metadata": {},
   "outputs": [
    {
     "data": {
      "text/plain": [
       "<AxesSubplot:>"
      ]
     },
     "execution_count": 211,
     "metadata": {},
     "output_type": "execute_result"
    },
    {
     "data": {
      "image/png": "[encoded data removed]",
      "text/plain": [
       "<Figure size 1080x720 with 1 Axes>"
      ]
     },
     "metadata": {
      "needs_background": "light"
     },
     "output_type": "display_data"
    }
   ],
   "source": [
    "sns.boxenplot(data=df_traffic[['Loading','Shipping','Payments','Review','Congrats']], orient=\"h\")"
   ]
  },
  {
   "cell_type": "code",
   "execution_count": 212,
   "metadata": {},
   "outputs": [
    {
     "data": {
      "text/plain": [
       "Text(0.5, 1.0, 'Desktop')"
      ]
     },
     "execution_count": 212,
     "metadata": {},
     "output_type": "execute_result"
    },
    {
     "data": {
      "image/png": "[encoded data removed]",
      "text/plain": [
       "<Figure size 1080x720 with 2 Axes>"
      ]
     },
     "metadata": {
      "needs_background": "light"
     },
     "output_type": "display_data"
    }
   ],
   "source": [
    "f, axes = plt.subplots(1, 2)\n",
    "sns.boxenplot(data=df_traffic[['Loading','Shipping','Payments','Review','Congrats']][df_traffic.Device==\"Android\"], orient=\"h\", ax=axes[0]).set_title('Android')\n",
    "sns.boxenplot(data=df_traffic[['Loading','Shipping','Payments','Review','Congrats']][df_traffic.Device==\"Desktop\"], orient=\"h\", ax=axes[1]).set_title('Desktop')"
   ]
  },
  {
   "cell_type": "markdown",
   "metadata": {},
   "source": [
    "Se puede observar en el caso de Desktop como los datos para cada etapa presentan Asimetría negativa. \n",
    "Los datos se concentran en la parte superior de la distribución y la mediana suele ser mayor que la media. Esto supondría\n",
    "que la media se encuentra sesgada por valores que escapan de lo normal, por lo que la mediana suele ser mas representativa\n",
    "del comportamiento de la variable."
   ]
  },
  {
   "cell_type": "markdown",
   "metadata": {},
   "source": [
    "Algunas medidas descriptivas:"
   ]
  },
  {
   "cell_type": "code",
   "execution_count": 213,
   "metadata": {},
   "outputs": [
    {
     "data": {
      "text/html": [
       "<div>\n",
       "<style scoped>\n",
       "    .dataframe tbody tr th:only-of-type {\n",
       "        vertical-align: middle;\n",
       "    }\n",
       "\n",
       "    .dataframe tbody tr th {\n",
       "        vertical-align: top;\n",
       "    }\n",
       "\n",
       "    .dataframe thead th {\n",
       "        text-align: right;\n",
       "    }\n",
       "</style>\n",
       "<table border=\"1\" class=\"dataframe\">\n",
       "  <thead>\n",
       "    <tr style=\"text-align: right;\">\n",
       "      <th></th>\n",
       "      <th></th>\n",
       "      <th></th>\n",
       "      <th>count</th>\n",
       "      <th>mean</th>\n",
       "      <th>std</th>\n",
       "      <th>min</th>\n",
       "      <th>25%</th>\n",
       "      <th>50%</th>\n",
       "      <th>75%</th>\n",
       "      <th>max</th>\n",
       "    </tr>\n",
       "    <tr>\n",
       "      <th>Site</th>\n",
       "      <th>flow</th>\n",
       "      <th>Device</th>\n",
       "      <th></th>\n",
       "      <th></th>\n",
       "      <th></th>\n",
       "      <th></th>\n",
       "      <th></th>\n",
       "      <th></th>\n",
       "      <th></th>\n",
       "      <th></th>\n",
       "    </tr>\n",
       "  </thead>\n",
       "  <tbody>\n",
       "    <tr>\n",
       "      <th rowspan=\"2\" valign=\"top\">MLA</th>\n",
       "      <th rowspan=\"2\" valign=\"top\">direct</th>\n",
       "      <th>Android</th>\n",
       "      <td>488.00</td>\n",
       "      <td>124,947.73</td>\n",
       "      <td>48,550.66</td>\n",
       "      <td>41,229.00</td>\n",
       "      <td>91,602.75</td>\n",
       "      <td>116,846.50</td>\n",
       "      <td>143,761.25</td>\n",
       "      <td>264,742.00</td>\n",
       "    </tr>\n",
       "    <tr>\n",
       "      <th>Desktop</th>\n",
       "      <td>488.00</td>\n",
       "      <td>69,503.27</td>\n",
       "      <td>31,425.06</td>\n",
       "      <td>2,538.00</td>\n",
       "      <td>38,027.00</td>\n",
       "      <td>72,425.00</td>\n",
       "      <td>83,054.00</td>\n",
       "      <td>155,820.00</td>\n",
       "    </tr>\n",
       "  </tbody>\n",
       "</table>\n",
       "</div>"
      ],
      "text/plain": [
       "                                   count                 mean  \\\n",
       "Site flow   Device                                              \n",
       "MLA  direct Android               488.00           124,947.73   \n",
       "            Desktop               488.00            69,503.27   \n",
       "\n",
       "                                     std                  min  \\\n",
       "Site flow   Device                                              \n",
       "MLA  direct Android            48,550.66            41,229.00   \n",
       "            Desktop            31,425.06             2,538.00   \n",
       "\n",
       "                                     25%                  50%  \\\n",
       "Site flow   Device                                              \n",
       "MLA  direct Android            91,602.75           116,846.50   \n",
       "            Desktop            38,027.00            72,425.00   \n",
       "\n",
       "                                     75%                  max  \n",
       "Site flow   Device                                             \n",
       "MLA  direct Android           143,761.25           264,742.00  \n",
       "            Desktop            83,054.00           155,820.00  "
      ]
     },
     "execution_count": 213,
     "metadata": {},
     "output_type": "execute_result"
    }
   ],
   "source": [
    "df_traffic.groupby([\"Site\",\"flow\",\"Device\"]).describe().Congrats"
   ]
  },
  {
   "cell_type": "code",
   "execution_count": 214,
   "metadata": {},
   "outputs": [
    {
     "data": {
      "image/png": "[encoded data removed]",
      "text/plain": [
       "<Figure size 1080x720 with 5 Axes>"
      ]
     },
     "metadata": {
      "needs_background": "light"
     },
     "output_type": "display_data"
    }
   ],
   "source": [
    "df_traffic_android_weekly_mean=df_traffic_android.resample(\"w\").mean()\n",
    "\n",
    "cols_plot = ['Loading', 'Shipping', 'Payments', 'Review', 'Congrats']\n",
    "\n",
    "axes = df_traffic_android_weekly_mean[cols_plot].plot(marker='.', alpha=0.5, linestyle='--', figsize=(15,10), subplots=True)\n",
    "for ax in axes:\n",
    "    ax.set_ylabel('Cantidad')"
   ]
  },
  {
   "cell_type": "code",
   "execution_count": 215,
   "metadata": {},
   "outputs": [
    {
     "data": {
      "image/png": "[encoded data removed]",
      "text/plain": [
       "<Figure size 1080x720 with 5 Axes>"
      ]
     },
     "metadata": {
      "needs_background": "light"
     },
     "output_type": "display_data"
    }
   ],
   "source": [
    "df_traffic_desktop_weekly_mean=df_traffic_desktop.resample(\"W\").mean()\n",
    "\n",
    "cols_plot = ['Loading', 'Shipping', 'Payments', 'Review', 'Congrats']\n",
    "\n",
    "axes = df_traffic_desktop_weekly_mean[cols_plot].plot(marker='.', alpha=0.5, linestyle='--', figsize=(15,10), subplots=True)\n",
    "for ax in axes:\n",
    "    ax.set_ylabel('Count')"
   ]
  },
  {
   "cell_type": "markdown",
   "metadata": {},
   "source": [
    "# Outliers"
   ]
  },
  {
   "cell_type": "code",
   "execution_count": 216,
   "metadata": {},
   "outputs": [
    {
     "data": {
      "text/plain": [
       "<matplotlib.collections.PolyCollection at 0x2dce55eaf10>"
      ]
     },
     "execution_count": 216,
     "metadata": {},
     "output_type": "execute_result"
    },
    {
     "data": {
      "image/png": "[encoded data removed]",
      "text/plain": [
       "<Figure size 1296x360 with 1 Axes>"
      ]
     },
     "metadata": {
      "needs_background": "light"
     },
     "output_type": "display_data"
    }
   ],
   "source": [
    "das1 = df_traffic.loc[df_traffic[\"Device\"] == \"Android\" ]['Shipping'].to_frame()\n",
    "from tsmoothie.utils_func import sim_randomwalk\n",
    "from tsmoothie.smoother import LowessSmoother\n",
    "smoother = LowessSmoother(smooth_fraction=0.1, iterations=1)\n",
    "smoother.smooth(das)\n",
    "\n",
    "# generate intervals\n",
    "low, up = smoother.get_intervals('prediction_interval')\n",
    "\n",
    "# plot the smoothed timeseries with intervals\n",
    "plt.figure(figsize=(18,5))\n",
    "\n",
    "plt.plot(smoother.smooth_data[0], linewidth=3, color='blue')\n",
    "plt.plot(smoother.data[0], '.k')\n",
    "plt.title(f\"Outliers en Android/Shipping\"); plt.xlabel('time')\n",
    "\n",
    "plt.fill_between(range(len(smoother.data[0])), low[0], up[0], alpha=0.3)"
   ]
  },
  {
   "cell_type": "code",
   "execution_count": 217,
   "metadata": {},
   "outputs": [
    {
     "data": {
      "text/plain": [
       "<matplotlib.collections.PolyCollection at 0x2dce564c9d0>"
      ]
     },
     "execution_count": 217,
     "metadata": {},
     "output_type": "execute_result"
    },
    {
     "data": {
      "image/png": "[encoded data removed]",
      "text/plain": [
       "<Figure size 1296x360 with 1 Axes>"
      ]
     },
     "metadata": {
      "needs_background": "light"
     },
     "output_type": "display_data"
    }
   ],
   "source": [
    "das2 = df_traffic.loc[df_traffic[\"Device\"] == \"Desktop\" ]['Shipping'].to_frame()\n",
    "smoother = LowessSmoother(smooth_fraction=0.1, iterations=1)\n",
    "smoother.smooth(das2)\n",
    "\n",
    "# generate intervals\n",
    "low, up = smoother.get_intervals('prediction_interval')\n",
    "\n",
    "# plot the smoothed timeseries with intervals\n",
    "plt.figure(figsize=(18,5))\n",
    "\n",
    "plt.plot(smoother.smooth_data[0], linewidth=3, color='blue')\n",
    "plt.plot(smoother.data[0], '.k')\n",
    "plt.title(f\"Outliers en Desktop/Shipping\"); plt.xlabel('time')\n",
    "\n",
    "plt.fill_between(range(len(smoother.data[0])), low[0], up[0], alpha=0.3)"
   ]
  },
  {
   "cell_type": "markdown",
   "metadata": {},
   "source": [
    "A modo de ejemplo se plotearon las series de shipping para ambos devices. En ambos casos se pueden observar outliers, pero en su mayoría los mismos son outliers superiores a las series.\n",
    "Esos valores suelen coincidir con black fridays o cyber mondays, y por su importancia para el negocio no serán eliminados, ya que muestran transacciones superiores a la media. \n"
   ]
  },
  {
   "cell_type": "markdown",
   "metadata": {},
   "source": [
    "# Comportamiento por mes"
   ]
  },
  {
   "cell_type": "code",
   "execution_count": 218,
   "metadata": {},
   "outputs": [
    {
     "data": {
      "text/html": [
       "<div>\n",
       "<style scoped>\n",
       "    .dataframe tbody tr th:only-of-type {\n",
       "        vertical-align: middle;\n",
       "    }\n",
       "\n",
       "    .dataframe tbody tr th {\n",
       "        vertical-align: top;\n",
       "    }\n",
       "\n",
       "    .dataframe thead th {\n",
       "        text-align: right;\n",
       "    }\n",
       "</style>\n",
       "<table border=\"1\" class=\"dataframe\">\n",
       "  <thead>\n",
       "    <tr style=\"text-align: right;\">\n",
       "      <th></th>\n",
       "      <th>flow</th>\n",
       "      <th>Site</th>\n",
       "      <th>Device</th>\n",
       "      <th>Loading</th>\n",
       "      <th>Shipping</th>\n",
       "      <th>Payments</th>\n",
       "      <th>Review</th>\n",
       "      <th>Congrats</th>\n",
       "      <th>Weekday</th>\n",
       "      <th>Month</th>\n",
       "      <th>Year</th>\n",
       "      <th>Months</th>\n",
       "      <th>indice</th>\n",
       "    </tr>\n",
       "    <tr>\n",
       "      <th>Fecha</th>\n",
       "      <th></th>\n",
       "      <th></th>\n",
       "      <th></th>\n",
       "      <th></th>\n",
       "      <th></th>\n",
       "      <th></th>\n",
       "      <th></th>\n",
       "      <th></th>\n",
       "      <th></th>\n",
       "      <th></th>\n",
       "      <th></th>\n",
       "      <th></th>\n",
       "      <th></th>\n",
       "    </tr>\n",
       "  </thead>\n",
       "  <tbody>\n",
       "    <tr>\n",
       "      <th>2019-03-01</th>\n",
       "      <td>direct</td>\n",
       "      <td>MLA</td>\n",
       "      <td>Android</td>\n",
       "      <td>160081</td>\n",
       "      <td>152310</td>\n",
       "      <td>124551</td>\n",
       "      <td>89380</td>\n",
       "      <td>83856</td>\n",
       "      <td>Friday</td>\n",
       "      <td>3</td>\n",
       "      <td>2019</td>\n",
       "      <td>2019-3</td>\n",
       "      <td>0.52</td>\n",
       "    </tr>\n",
       "    <tr>\n",
       "      <th>2019-03-01</th>\n",
       "      <td>direct</td>\n",
       "      <td>MLA</td>\n",
       "      <td>Desktop</td>\n",
       "      <td>98263</td>\n",
       "      <td>93506</td>\n",
       "      <td>80994</td>\n",
       "      <td>63941</td>\n",
       "      <td>62256</td>\n",
       "      <td>Friday</td>\n",
       "      <td>3</td>\n",
       "      <td>2019</td>\n",
       "      <td>2019-3</td>\n",
       "      <td>0.63</td>\n",
       "    </tr>\n",
       "    <tr>\n",
       "      <th>2019-03-02</th>\n",
       "      <td>direct</td>\n",
       "      <td>MLA</td>\n",
       "      <td>Android</td>\n",
       "      <td>130042</td>\n",
       "      <td>122965</td>\n",
       "      <td>97941</td>\n",
       "      <td>65134</td>\n",
       "      <td>60631</td>\n",
       "      <td>Saturday</td>\n",
       "      <td>3</td>\n",
       "      <td>2019</td>\n",
       "      <td>2019-3</td>\n",
       "      <td>0.47</td>\n",
       "    </tr>\n",
       "    <tr>\n",
       "      <th>2019-03-02</th>\n",
       "      <td>direct</td>\n",
       "      <td>MLA</td>\n",
       "      <td>Desktop</td>\n",
       "      <td>51778</td>\n",
       "      <td>49285</td>\n",
       "      <td>41652</td>\n",
       "      <td>30945</td>\n",
       "      <td>30009</td>\n",
       "      <td>Saturday</td>\n",
       "      <td>3</td>\n",
       "      <td>2019</td>\n",
       "      <td>2019-3</td>\n",
       "      <td>0.58</td>\n",
       "    </tr>\n",
       "    <tr>\n",
       "      <th>2019-03-03</th>\n",
       "      <td>direct</td>\n",
       "      <td>MLA</td>\n",
       "      <td>Android</td>\n",
       "      <td>113526</td>\n",
       "      <td>106599</td>\n",
       "      <td>83077</td>\n",
       "      <td>51557</td>\n",
       "      <td>47156</td>\n",
       "      <td>Sunday</td>\n",
       "      <td>3</td>\n",
       "      <td>2019</td>\n",
       "      <td>2019-3</td>\n",
       "      <td>0.42</td>\n",
       "    </tr>\n",
       "  </tbody>\n",
       "</table>\n",
       "</div>"
      ],
      "text/plain": [
       "              flow Site   Device  Loading  Shipping  Payments  Review  \\\n",
       "Fecha                                                                   \n",
       "2019-03-01  direct  MLA  Android   160081    152310    124551   89380   \n",
       "2019-03-01  direct  MLA  Desktop    98263     93506     80994   63941   \n",
       "2019-03-02  direct  MLA  Android   130042    122965     97941   65134   \n",
       "2019-03-02  direct  MLA  Desktop    51778     49285     41652   30945   \n",
       "2019-03-03  direct  MLA  Android   113526    106599     83077   51557   \n",
       "\n",
       "            Congrats   Weekday  Month  Year  Months               indice  \n",
       "Fecha                                                                     \n",
       "2019-03-01     83856    Friday      3  2019  2019-3                 0.52  \n",
       "2019-03-01     62256    Friday      3  2019  2019-3                 0.63  \n",
       "2019-03-02     60631  Saturday      3  2019  2019-3                 0.47  \n",
       "2019-03-02     30009  Saturday      3  2019  2019-3                 0.58  \n",
       "2019-03-03     47156    Sunday      3  2019  2019-3                 0.42  "
      ]
     },
     "execution_count": 218,
     "metadata": {},
     "output_type": "execute_result"
    }
   ],
   "source": [
    "df_traffic.head()"
   ]
  },
  {
   "cell_type": "code",
   "execution_count": 232,
   "metadata": {},
   "outputs": [
    {
     "data": {
      "image/png": "[encoded data removed]",
      "text/plain": [
       "<Figure size 792x1080 with 5 Axes>"
      ]
     },
     "metadata": {
      "needs_background": "light"
     },
     "output_type": "display_data"
    }
   ],
   "source": [
    "fig, axes = plt.subplots(5, 1, figsize=(11, 15), sharex=True)\n",
    "for name, ax in zip(['Loading','Shipping','Payments','Review','Congrats'], axes):\n",
    "    sns.boxplot(data=df_traffic, x='Months', y=name, ax=ax)\n",
    "    ax.set_ylabel('Transactions')\n",
    "    ax.set_title(name)\n",
    "# Remove the automatic x-axis label from all but the bottom subplot\n",
    "if ax != axes[-1]:\n",
    "    ax.set_xlabel('')"
   ]
  },
  {
   "cell_type": "markdown",
   "metadata": {},
   "source": [
    "Como podemos observar en los gráficos anteriores, la distribución de la cantidad de transacciones no es simétrica en la mayoría de los meses, sino que están sesgadas hacia abajo, es decir que la mediana de transacciones será menor que la media en estos meses.\n",
    "En cuanto a la tendencia de los datos, se puede observar una tendencia ligeramente creciente antes de la pandemia, con una profunda caída en marzo de 2020, para luego experimentar un gran salto."
   ]
  },
  {
   "cell_type": "markdown",
   "metadata": {},
   "source": [
    "\n",
    "# Cono de conversión"
   ]
  },
  {
   "cell_type": "code",
   "execution_count": 227,
   "metadata": {},
   "outputs": [],
   "source": [
    "filtered_melted_pre = pd.melt(df_traffic['2020-01-01':'2020-03-20'].reset_index(), id_vars=[\"Fecha\",\"Device\"], value_vars=[\"Loading\", \"Shipping\", \"Payments\", \"Review\", \"Congrats\"],value_name=\"Transactions\")\n",
    "filtered_melted_pre.columns\n",
    "filtered_melted_pre['variable'] = pd.Categorical(filtered_melted_pre['variable'], categories=[\"Loading\", \"Shipping\", \"Payments\", \"Review\", \"Congrats\"], ordered=True)\n",
    "df2_pre = filtered_melted_pre.groupby(by=['Device','variable']).sum().reset_index()\n",
    "df2a_pre = df2_pre.loc[df2_pre['Device']=='Android']\n",
    "df2d_pre = df2_pre.loc[df2_pre['Device']=='Desktop']\n"
   ]
  },
  {
   "cell_type": "code",
   "execution_count": 228,
   "metadata": {},
   "outputs": [
    {
     "data": {
      "application/vnd.plotly.v1+json": {
       "config": {
        "plotlyServerURL": "https://plot.ly"
       },
       "data": [
        {
         "marker": {
          "color": [
           "#2874A6",
           "#2471A3",
           "#2980B9",
           "#5499C7",
           "#5499C7"
          ]
         },
         "name": "Desktop",
         "textinfo": "value+percent initial",
         "type": "funnel",
         "x": [
          7778035,
          7276513,
          6185582,
          4795214,
          4675155
         ],
         "y": [
          "Loading",
          "Shipping",
          "Payments",
          "Review",
          "Congrats"
         ]
        },
        {
         "marker": {
          "color": [
           "#239B56",
           "#2ECC71",
           "#58D68D",
           "#82E0AA",
           "#ABEBC6"
          ]
         },
         "name": "Android",
         "orientation": "h",
         "textinfo": "value+percent initial",
         "textposition": "inside",
         "type": "funnel",
         "x": [
          20940841,
          19989827,
          15925316,
          10537047,
          9601059
         ],
         "y": [
          "Loading",
          "Shipping",
          "Payments",
          "Review",
          "Congrats"
         ]
        }
       ],
       "layout": {
        "template": {
         "data": {
          "bar": [
           {
            "error_x": {
             "color": "#2a3f5f"
            },
            "error_y": {
             "color": "#2a3f5f"
            },
            "marker": {
             "line": {
              "color": "#E5ECF6",
              "width": 0.5
             }
            },
            "type": "bar"
           }
          ],
          "barpolar": [
           {
            "marker": {
             "line": {
              "color": "#E5ECF6",
              "width": 0.5
             }
            },
            "type": "barpolar"
           }
          ],
          "carpet": [
           {
            "aaxis": {
             "endlinecolor": "#2a3f5f",
             "gridcolor": "white",
             "linecolor": "white",
             "minorgridcolor": "white",
             "startlinecolor": "#2a3f5f"
            },
            "baxis": {
             "endlinecolor": "#2a3f5f",
             "gridcolor": "white",
             "linecolor": "white",
             "minorgridcolor": "white",
             "startlinecolor": "#2a3f5f"
            },
            "type": "carpet"
           }
          ],
          "choropleth": [
           {
            "colorbar": {
             "outlinewidth": 0,
             "ticks": ""
            },
            "type": "choropleth"
           }
          ],
          "contour": [
           {
            "colorbar": {
             "outlinewidth": 0,
             "ticks": ""
            },
            "colorscale": [
             [
              0,
              "#0d0887"
             ],
             [
              0.1111111111111111,
              "#46039f"
             ],
             [
              0.2222222222222222,
              "#7201a8"
             ],
             [
              0.3333333333333333,
              "#9c179e"
             ],
             [
              0.4444444444444444,
              "#bd3786"
             ],
             [
              0.5555555555555556,
              "#d8576b"
             ],
             [
              0.6666666666666666,
              "#ed7953"
             ],
             [
              0.7777777777777778,
              "#fb9f3a"
             ],
             [
              0.8888888888888888,
              "#fdca26"
             ],
             [
              1,
              "#f0f921"
             ]
            ],
            "type": "contour"
           }
          ],
          "contourcarpet": [
           {
            "colorbar": {
             "outlinewidth": 0,
             "ticks": ""
            },
            "type": "contourcarpet"
           }
          ],
          "heatmap": [
           {
            "colorbar": {
             "outlinewidth": 0,
             "ticks": ""
            },
            "colorscale": [
             [
              0,
              "#0d0887"
             ],
             [
              0.1111111111111111,
              "#46039f"
             ],
             [
              0.2222222222222222,
              "#7201a8"
             ],
             [
              0.3333333333333333,
              "#9c179e"
             ],
             [
              0.4444444444444444,
              "#bd3786"
             ],
             [
              0.5555555555555556,
              "#d8576b"
             ],
             [
              0.6666666666666666,
              "#ed7953"
             ],
             [
              0.7777777777777778,
              "#fb9f3a"
             ],
             [
              0.8888888888888888,
              "#fdca26"
             ],
             [
              1,
              "#f0f921"
             ]
            ],
            "type": "heatmap"
           }
          ],
          "heatmapgl": [
           {
            "colorbar": {
             "outlinewidth": 0,
             "ticks": ""
            },
            "colorscale": [
             [
              0,
              "#0d0887"
             ],
             [
              0.1111111111111111,
              "#46039f"
             ],
             [
              0.2222222222222222,
              "#7201a8"
             ],
             [
              0.3333333333333333,
              "#9c179e"
             ],
             [
              0.4444444444444444,
              "#bd3786"
             ],
             [
              0.5555555555555556,
              "#d8576b"
             ],
             [
              0.6666666666666666,
              "#ed7953"
             ],
             [
              0.7777777777777778,
              "#fb9f3a"
             ],
             [
              0.8888888888888888,
              "#fdca26"
             ],
             [
              1,
              "#f0f921"
             ]
            ],
            "type": "heatmapgl"
           }
          ],
          "histogram": [
           {
            "marker": {
             "colorbar": {
              "outlinewidth": 0,
              "ticks": ""
             }
            },
            "type": "histogram"
           }
          ],
          "histogram2d": [
           {
            "colorbar": {
             "outlinewidth": 0,
             "ticks": ""
            },
            "colorscale": [
             [
              0,
              "#0d0887"
             ],
             [
              0.1111111111111111,
              "#46039f"
             ],
             [
              0.2222222222222222,
              "#7201a8"
             ],
             [
              0.3333333333333333,
              "#9c179e"
             ],
             [
              0.4444444444444444,
              "#bd3786"
             ],
             [
              0.5555555555555556,
              "#d8576b"
             ],
             [
              0.6666666666666666,
              "#ed7953"
             ],
             [
              0.7777777777777778,
              "#fb9f3a"
             ],
             [
              0.8888888888888888,
              "#fdca26"
             ],
             [
              1,
              "#f0f921"
             ]
            ],
            "type": "histogram2d"
           }
          ],
          "histogram2dcontour": [
           {
            "colorbar": {
             "outlinewidth": 0,
             "ticks": ""
            },
            "colorscale": [
             [
              0,
              "#0d0887"
             ],
             [
              0.1111111111111111,
              "#46039f"
             ],
             [
              0.2222222222222222,
              "#7201a8"
             ],
             [
              0.3333333333333333,
              "#9c179e"
             ],
             [
              0.4444444444444444,
              "#bd3786"
             ],
             [
              0.5555555555555556,
              "#d8576b"
             ],
             [
              0.6666666666666666,
              "#ed7953"
             ],
             [
              0.7777777777777778,
              "#fb9f3a"
             ],
             [
              0.8888888888888888,
              "#fdca26"
             ],
             [
              1,
              "#f0f921"
             ]
            ],
            "type": "histogram2dcontour"
           }
          ],
          "mesh3d": [
           {
            "colorbar": {
             "outlinewidth": 0,
             "ticks": ""
            },
            "type": "mesh3d"
           }
          ],
          "parcoords": [
           {
            "line": {
             "colorbar": {
              "outlinewidth": 0,
              "ticks": ""
             }
            },
            "type": "parcoords"
           }
          ],
          "pie": [
           {
            "automargin": true,
            "type": "pie"
           }
          ],
          "scatter": [
           {
            "marker": {
             "colorbar": {
              "outlinewidth": 0,
              "ticks": ""
             }
            },
            "type": "scatter"
           }
          ],
          "scatter3d": [
           {
            "line": {
             "colorbar": {
              "outlinewidth": 0,
              "ticks": ""
             }
            },
            "marker": {
             "colorbar": {
              "outlinewidth": 0,
              "ticks": ""
             }
            },
            "type": "scatter3d"
           }
          ],
          "scattercarpet": [
           {
            "marker": {
             "colorbar": {
              "outlinewidth": 0,
              "ticks": ""
             }
            },
            "type": "scattercarpet"
           }
          ],
          "scattergeo": [
           {
            "marker": {
             "colorbar": {
              "outlinewidth": 0,
              "ticks": ""
             }
            },
            "type": "scattergeo"
           }
          ],
          "scattergl": [
           {
            "marker": {
             "colorbar": {
              "outlinewidth": 0,
              "ticks": ""
             }
            },
            "type": "scattergl"
           }
          ],
          "scattermapbox": [
           {
            "marker": {
             "colorbar": {
              "outlinewidth": 0,
              "ticks": ""
             }
            },
            "type": "scattermapbox"
           }
          ],
          "scatterpolar": [
           {
            "marker": {
             "colorbar": {
              "outlinewidth": 0,
              "ticks": ""
             }
            },
            "type": "scatterpolar"
           }
          ],
          "scatterpolargl": [
           {
            "marker": {
             "colorbar": {
              "outlinewidth": 0,
              "ticks": ""
             }
            },
            "type": "scatterpolargl"
           }
          ],
          "scatterternary": [
           {
            "marker": {
             "colorbar": {
              "outlinewidth": 0,
              "ticks": ""
             }
            },
            "type": "scatterternary"
           }
          ],
          "surface": [
           {
            "colorbar": {
             "outlinewidth": 0,
             "ticks": ""
            },
            "colorscale": [
             [
              0,
              "#0d0887"
             ],
             [
              0.1111111111111111,
              "#46039f"
             ],
             [
              0.2222222222222222,
              "#7201a8"
             ],
             [
              0.3333333333333333,
              "#9c179e"
             ],
             [
              0.4444444444444444,
              "#bd3786"
             ],
             [
              0.5555555555555556,
              "#d8576b"
             ],
             [
              0.6666666666666666,
              "#ed7953"
             ],
             [
              0.7777777777777778,
              "#fb9f3a"
             ],
             [
              0.8888888888888888,
              "#fdca26"
             ],
             [
              1,
              "#f0f921"
             ]
            ],
            "type": "surface"
           }
          ],
          "table": [
           {
            "cells": {
             "fill": {
              "color": "#EBF0F8"
             },
             "line": {
              "color": "white"
             }
            },
            "header": {
             "fill": {
              "color": "#C8D4E3"
             },
             "line": {
              "color": "white"
             }
            },
            "type": "table"
           }
          ]
         },
         "layout": {
          "annotationdefaults": {
           "arrowcolor": "#2a3f5f",
           "arrowhead": 0,
           "arrowwidth": 1
          },
          "autotypenumbers": "strict",
          "coloraxis": {
           "colorbar": {
            "outlinewidth": 0,
            "ticks": ""
           }
          },
          "colorscale": {
           "diverging": [
            [
             0,
             "#8e0152"
            ],
            [
             0.1,
             "#c51b7d"
            ],
            [
             0.2,
             "#de77ae"
            ],
            [
             0.3,
             "#f1b6da"
            ],
            [
             0.4,
             "#fde0ef"
            ],
            [
             0.5,
             "#f7f7f7"
            ],
            [
             0.6,
             "#e6f5d0"
            ],
            [
             0.7,
             "#b8e186"
            ],
            [
             0.8,
             "#7fbc41"
            ],
            [
             0.9,
             "#4d9221"
            ],
            [
             1,
             "#276419"
            ]
           ],
           "sequential": [
            [
             0,
             "#0d0887"
            ],
            [
             0.1111111111111111,
             "#46039f"
            ],
            [
             0.2222222222222222,
             "#7201a8"
            ],
            [
             0.3333333333333333,
             "#9c179e"
            ],
            [
             0.4444444444444444,
             "#bd3786"
            ],
            [
             0.5555555555555556,
             "#d8576b"
            ],
            [
             0.6666666666666666,
             "#ed7953"
            ],
            [
             0.7777777777777778,
             "#fb9f3a"
            ],
            [
             0.8888888888888888,
             "#fdca26"
            ],
            [
             1,
             "#f0f921"
            ]
           ],
           "sequentialminus": [
            [
             0,
             "#0d0887"
            ],
            [
             0.1111111111111111,
             "#46039f"
            ],
            [
             0.2222222222222222,
             "#7201a8"
            ],
            [
             0.3333333333333333,
             "#9c179e"
            ],
            [
             0.4444444444444444,
             "#bd3786"
            ],
            [
             0.5555555555555556,
             "#d8576b"
            ],
            [
             0.6666666666666666,
             "#ed7953"
            ],
            [
             0.7777777777777778,
             "#fb9f3a"
            ],
            [
             0.8888888888888888,
             "#fdca26"
            ],
            [
             1,
             "#f0f921"
            ]
           ]
          },
          "colorway": [
           "#636efa",
           "#EF553B",
           "#00cc96",
           "#ab63fa",
           "#FFA15A",
           "#19d3f3",
           "#FF6692",
           "#B6E880",
           "#FF97FF",
           "#FECB52"
          ],
          "font": {
           "color": "#2a3f5f"
          },
          "geo": {
           "bgcolor": "white",
           "lakecolor": "white",
           "landcolor": "#E5ECF6",
           "showlakes": true,
           "showland": true,
           "subunitcolor": "white"
          },
          "hoverlabel": {
           "align": "left"
          },
          "hovermode": "closest",
          "mapbox": {
           "style": "light"
          },
          "paper_bgcolor": "white",
          "plot_bgcolor": "#E5ECF6",
          "polar": {
           "angularaxis": {
            "gridcolor": "white",
            "linecolor": "white",
            "ticks": ""
           },
           "bgcolor": "#E5ECF6",
           "radialaxis": {
            "gridcolor": "white",
            "linecolor": "white",
            "ticks": ""
           }
          },
          "scene": {
           "xaxis": {
            "backgroundcolor": "#E5ECF6",
            "gridcolor": "white",
            "gridwidth": 2,
            "linecolor": "white",
            "showbackground": true,
            "ticks": "",
            "zerolinecolor": "white"
           },
           "yaxis": {
            "backgroundcolor": "#E5ECF6",
            "gridcolor": "white",
            "gridwidth": 2,
            "linecolor": "white",
            "showbackground": true,
            "ticks": "",
            "zerolinecolor": "white"
           },
           "zaxis": {
            "backgroundcolor": "#E5ECF6",
            "gridcolor": "white",
            "gridwidth": 2,
            "linecolor": "white",
            "showbackground": true,
            "ticks": "",
            "zerolinecolor": "white"
           }
          },
          "shapedefaults": {
           "line": {
            "color": "#2a3f5f"
           }
          },
          "ternary": {
           "aaxis": {
            "gridcolor": "white",
            "linecolor": "white",
            "ticks": ""
           },
           "baxis": {
            "gridcolor": "white",
            "linecolor": "white",
            "ticks": ""
           },
           "bgcolor": "#E5ECF6",
           "caxis": {
            "gridcolor": "white",
            "linecolor": "white",
            "ticks": ""
           }
          },
          "title": {
           "x": 0.05
          },
          "xaxis": {
           "automargin": true,
           "gridcolor": "white",
           "linecolor": "white",
           "ticks": "",
           "title": {
            "standoff": 15
           },
           "zerolinecolor": "white",
           "zerolinewidth": 2
          },
          "yaxis": {
           "automargin": true,
           "gridcolor": "white",
           "linecolor": "white",
           "ticks": "",
           "title": {
            "standoff": 15
           },
           "zerolinecolor": "white",
           "zerolinewidth": 2
          }
         }
        }
       }
      },
      "text/html": [
       "<div>                            <div id=\"6de7660d-f7fa-415b-8169-29215c52492c\" class=\"plotly-graph-div\" style=\"height:525px; width:100%;\"></div>            <script type=\"text/javascript\">                require([\"plotly\"], function(Plotly) {                    window.PLOTLYENV=window.PLOTLYENV || {};                                    if (document.getElementById(\"6de7660d-f7fa-415b-8169-29215c52492c\")) {                    Plotly.newPlot(                        \"6de7660d-f7fa-415b-8169-29215c52492c\",                        [{\"marker\": {\"color\": [\"#2874A6\", \"#2471A3\", \"#2980B9\", \"#5499C7\", \"#5499C7\"]}, \"name\": \"Desktop\", \"textinfo\": \"value+percent initial\", \"type\": \"funnel\", \"x\": [7778035, 7276513, 6185582, 4795214, 4675155], \"y\": [\"Loading\", \"Shipping\", \"Payments\", \"Review\", \"Congrats\"]}, {\"marker\": {\"color\": [\"#239B56\", \"#2ECC71\", \"#58D68D\", \"#82E0AA\", \"#ABEBC6\"]}, \"name\": \"Android\", \"orientation\": \"h\", \"textinfo\": \"value+percent initial\", \"textposition\": \"inside\", \"type\": \"funnel\", \"x\": [20940841, 19989827, 15925316, 10537047, 9601059], \"y\": [\"Loading\", \"Shipping\", \"Payments\", \"Review\", \"Congrats\"]}],                        {\"template\": {\"data\": {\"bar\": [{\"error_x\": {\"color\": \"#2a3f5f\"}, \"error_y\": {\"color\": \"#2a3f5f\"}, \"marker\": {\"line\": {\"color\": \"#E5ECF6\", \"width\": 0.5}}, \"type\": \"bar\"}], \"barpolar\": [{\"marker\": {\"line\": {\"color\": \"#E5ECF6\", \"width\": 0.5}}, \"type\": \"barpolar\"}], \"carpet\": [{\"aaxis\": {\"endlinecolor\": \"#2a3f5f\", \"gridcolor\": \"white\", \"linecolor\": \"white\", \"minorgridcolor\": \"white\", \"startlinecolor\": \"#2a3f5f\"}, \"baxis\": {\"endlinecolor\": \"#2a3f5f\", \"gridcolor\": \"white\", \"linecolor\": \"white\", \"minorgridcolor\": \"white\", \"startlinecolor\": \"#2a3f5f\"}, \"type\": \"carpet\"}], \"choropleth\": [{\"colorbar\": {\"outlinewidth\": 0, \"ticks\": \"\"}, \"type\": \"choropleth\"}], \"contour\": [{\"colorbar\": {\"outlinewidth\": 0, \"ticks\": \"\"}, \"colorscale\": [[0.0, \"#0d0887\"], [0.1111111111111111, \"#46039f\"], [0.2222222222222222, \"#7201a8\"], [0.3333333333333333, \"#9c179e\"], [0.4444444444444444, \"#bd3786\"], [0.5555555555555556, \"#d8576b\"], [0.6666666666666666, \"#ed7953\"], [0.7777777777777778, \"#fb9f3a\"], [0.8888888888888888, \"#fdca26\"], [1.0, \"#f0f921\"]], \"type\": \"contour\"}], \"contourcarpet\": [{\"colorbar\": {\"outlinewidth\": 0, \"ticks\": \"\"}, \"type\": \"contourcarpet\"}], \"heatmap\": [{\"colorbar\": {\"outlinewidth\": 0, \"ticks\": \"\"}, \"colorscale\": [[0.0, \"#0d0887\"], [0.1111111111111111, \"#46039f\"], [0.2222222222222222, \"#7201a8\"], [0.3333333333333333, \"#9c179e\"], [0.4444444444444444, \"#bd3786\"], [0.5555555555555556, \"#d8576b\"], [0.6666666666666666, \"#ed7953\"], [0.7777777777777778, \"#fb9f3a\"], [0.8888888888888888, \"#fdca26\"], [1.0, \"#f0f921\"]], \"type\": \"heatmap\"}], \"heatmapgl\": [{\"colorbar\": {\"outlinewidth\": 0, \"ticks\": \"\"}, \"colorscale\": [[0.0, \"#0d0887\"], [0.1111111111111111, \"#46039f\"], [0.2222222222222222, \"#7201a8\"], [0.3333333333333333, \"#9c179e\"], [0.4444444444444444, \"#bd3786\"], [0.5555555555555556, \"#d8576b\"], [0.6666666666666666, \"#ed7953\"], [0.7777777777777778, \"#fb9f3a\"], [0.8888888888888888, \"#fdca26\"], [1.0, \"#f0f921\"]], \"type\": \"heatmapgl\"}], \"histogram\": [{\"marker\": {\"colorbar\": {\"outlinewidth\": 0, \"ticks\": \"\"}}, \"type\": \"histogram\"}], \"histogram2d\": [{\"colorbar\": {\"outlinewidth\": 0, \"ticks\": \"\"}, \"colorscale\": [[0.0, \"#0d0887\"], [0.1111111111111111, \"#46039f\"], [0.2222222222222222, \"#7201a8\"], [0.3333333333333333, \"#9c179e\"], [0.4444444444444444, \"#bd3786\"], [0.5555555555555556, \"#d8576b\"], [0.6666666666666666, \"#ed7953\"], [0.7777777777777778, \"#fb9f3a\"], [0.8888888888888888, \"#fdca26\"], [1.0, \"#f0f921\"]], \"type\": \"histogram2d\"}], \"histogram2dcontour\": [{\"colorbar\": {\"outlinewidth\": 0, \"ticks\": \"\"}, \"colorscale\": [[0.0, \"#0d0887\"], [0.1111111111111111, \"#46039f\"], [0.2222222222222222, \"#7201a8\"], [0.3333333333333333, \"#9c179e\"], [0.4444444444444444, \"#bd3786\"], [0.5555555555555556, \"#d8576b\"], [0.6666666666666666, \"#ed7953\"], [0.7777777777777778, \"#fb9f3a\"], [0.8888888888888888, \"#fdca26\"], [1.0, \"#f0f921\"]], \"type\": \"histogram2dcontour\"}], \"mesh3d\": [{\"colorbar\": {\"outlinewidth\": 0, \"ticks\": \"\"}, \"type\": \"mesh3d\"}], \"parcoords\": [{\"line\": {\"colorbar\": {\"outlinewidth\": 0, \"ticks\": \"\"}}, \"type\": \"parcoords\"}], \"pie\": [{\"automargin\": true, \"type\": \"pie\"}], \"scatter\": [{\"marker\": {\"colorbar\": {\"outlinewidth\": 0, \"ticks\": \"\"}}, \"type\": \"scatter\"}], \"scatter3d\": [{\"line\": {\"colorbar\": {\"outlinewidth\": 0, \"ticks\": \"\"}}, \"marker\": {\"colorbar\": {\"outlinewidth\": 0, \"ticks\": \"\"}}, \"type\": \"scatter3d\"}], \"scattercarpet\": [{\"marker\": {\"colorbar\": {\"outlinewidth\": 0, \"ticks\": \"\"}}, \"type\": \"scattercarpet\"}], \"scattergeo\": [{\"marker\": {\"colorbar\": {\"outlinewidth\": 0, \"ticks\": \"\"}}, \"type\": \"scattergeo\"}], \"scattergl\": [{\"marker\": {\"colorbar\": {\"outlinewidth\": 0, \"ticks\": \"\"}}, \"type\": \"scattergl\"}], \"scattermapbox\": [{\"marker\": {\"colorbar\": {\"outlinewidth\": 0, \"ticks\": \"\"}}, \"type\": \"scattermapbox\"}], \"scatterpolar\": [{\"marker\": {\"colorbar\": {\"outlinewidth\": 0, \"ticks\": \"\"}}, \"type\": \"scatterpolar\"}], \"scatterpolargl\": [{\"marker\": {\"colorbar\": {\"outlinewidth\": 0, \"ticks\": \"\"}}, \"type\": \"scatterpolargl\"}], \"scatterternary\": [{\"marker\": {\"colorbar\": {\"outlinewidth\": 0, \"ticks\": \"\"}}, \"type\": \"scatterternary\"}], \"surface\": [{\"colorbar\": {\"outlinewidth\": 0, \"ticks\": \"\"}, \"colorscale\": [[0.0, \"#0d0887\"], [0.1111111111111111, \"#46039f\"], [0.2222222222222222, \"#7201a8\"], [0.3333333333333333, \"#9c179e\"], [0.4444444444444444, \"#bd3786\"], [0.5555555555555556, \"#d8576b\"], [0.6666666666666666, \"#ed7953\"], [0.7777777777777778, \"#fb9f3a\"], [0.8888888888888888, \"#fdca26\"], [1.0, \"#f0f921\"]], \"type\": \"surface\"}], \"table\": [{\"cells\": {\"fill\": {\"color\": \"#EBF0F8\"}, \"line\": {\"color\": \"white\"}}, \"header\": {\"fill\": {\"color\": \"#C8D4E3\"}, \"line\": {\"color\": \"white\"}}, \"type\": \"table\"}]}, \"layout\": {\"annotationdefaults\": {\"arrowcolor\": \"#2a3f5f\", \"arrowhead\": 0, \"arrowwidth\": 1}, \"autotypenumbers\": \"strict\", \"coloraxis\": {\"colorbar\": {\"outlinewidth\": 0, \"ticks\": \"\"}}, \"colorscale\": {\"diverging\": [[0, \"#8e0152\"], [0.1, \"#c51b7d\"], [0.2, \"#de77ae\"], [0.3, \"#f1b6da\"], [0.4, \"#fde0ef\"], [0.5, \"#f7f7f7\"], [0.6, \"#e6f5d0\"], [0.7, \"#b8e186\"], [0.8, \"#7fbc41\"], [0.9, \"#4d9221\"], [1, \"#276419\"]], \"sequential\": [[0.0, \"#0d0887\"], [0.1111111111111111, \"#46039f\"], [0.2222222222222222, \"#7201a8\"], [0.3333333333333333, \"#9c179e\"], [0.4444444444444444, \"#bd3786\"], [0.5555555555555556, \"#d8576b\"], [0.6666666666666666, \"#ed7953\"], [0.7777777777777778, \"#fb9f3a\"], [0.8888888888888888, \"#fdca26\"], [1.0, \"#f0f921\"]], \"sequentialminus\": [[0.0, \"#0d0887\"], [0.1111111111111111, \"#46039f\"], [0.2222222222222222, \"#7201a8\"], [0.3333333333333333, \"#9c179e\"], [0.4444444444444444, \"#bd3786\"], [0.5555555555555556, \"#d8576b\"], [0.6666666666666666, \"#ed7953\"], [0.7777777777777778, \"#fb9f3a\"], [0.8888888888888888, \"#fdca26\"], [1.0, \"#f0f921\"]]}, \"colorway\": [\"#636efa\", \"#EF553B\", \"#00cc96\", \"#ab63fa\", \"#FFA15A\", \"#19d3f3\", \"#FF6692\", \"#B6E880\", \"#FF97FF\", \"#FECB52\"], \"font\": {\"color\": \"#2a3f5f\"}, \"geo\": {\"bgcolor\": \"white\", \"lakecolor\": \"white\", \"landcolor\": \"#E5ECF6\", \"showlakes\": true, \"showland\": true, \"subunitcolor\": \"white\"}, \"hoverlabel\": {\"align\": \"left\"}, \"hovermode\": \"closest\", \"mapbox\": {\"style\": \"light\"}, \"paper_bgcolor\": \"white\", \"plot_bgcolor\": \"#E5ECF6\", \"polar\": {\"angularaxis\": {\"gridcolor\": \"white\", \"linecolor\": \"white\", \"ticks\": \"\"}, \"bgcolor\": \"#E5ECF6\", \"radialaxis\": {\"gridcolor\": \"white\", \"linecolor\": \"white\", \"ticks\": \"\"}}, \"scene\": {\"xaxis\": {\"backgroundcolor\": \"#E5ECF6\", \"gridcolor\": \"white\", \"gridwidth\": 2, \"linecolor\": \"white\", \"showbackground\": true, \"ticks\": \"\", \"zerolinecolor\": \"white\"}, \"yaxis\": {\"backgroundcolor\": \"#E5ECF6\", \"gridcolor\": \"white\", \"gridwidth\": 2, \"linecolor\": \"white\", \"showbackground\": true, \"ticks\": \"\", \"zerolinecolor\": \"white\"}, \"zaxis\": {\"backgroundcolor\": \"#E5ECF6\", \"gridcolor\": \"white\", \"gridwidth\": 2, \"linecolor\": \"white\", \"showbackground\": true, \"ticks\": \"\", \"zerolinecolor\": \"white\"}}, \"shapedefaults\": {\"line\": {\"color\": \"#2a3f5f\"}}, \"ternary\": {\"aaxis\": {\"gridcolor\": \"white\", \"linecolor\": \"white\", \"ticks\": \"\"}, \"baxis\": {\"gridcolor\": \"white\", \"linecolor\": \"white\", \"ticks\": \"\"}, \"bgcolor\": \"#E5ECF6\", \"caxis\": {\"gridcolor\": \"white\", \"linecolor\": \"white\", \"ticks\": \"\"}}, \"title\": {\"x\": 0.05}, \"xaxis\": {\"automargin\": true, \"gridcolor\": \"white\", \"linecolor\": \"white\", \"ticks\": \"\", \"title\": {\"standoff\": 15}, \"zerolinecolor\": \"white\", \"zerolinewidth\": 2}, \"yaxis\": {\"automargin\": true, \"gridcolor\": \"white\", \"linecolor\": \"white\", \"ticks\": \"\", \"title\": {\"standoff\": 15}, \"zerolinecolor\": \"white\", \"zerolinewidth\": 2}}}},                        {\"responsive\": true}                    ).then(function(){\n",
       "                            \n",
       "var gd = document.getElementById('6de7660d-f7fa-415b-8169-29215c52492c');\n",
       "var x = new MutationObserver(function (mutations, observer) {{\n",
       "        var display = window.getComputedStyle(gd).display;\n",
       "        if (!display || display === 'none') {{\n",
       "            console.log([gd, 'removed!']);\n",
       "            Plotly.purge(gd);\n",
       "            observer.disconnect();\n",
       "        }}\n",
       "}});\n",
       "\n",
       "// Listen for the removal of the full notebook cells\n",
       "var notebookContainer = gd.closest('#notebook-container');\n",
       "if (notebookContainer) {{\n",
       "    x.observe(notebookContainer, {childList: true});\n",
       "}}\n",
       "\n",
       "// Listen for the clearing of the current output cell\n",
       "var outputEl = gd.closest('.output');\n",
       "if (outputEl) {{\n",
       "    x.observe(outputEl, {childList: true});\n",
       "}}\n",
       "\n",
       "                        })                };                });            </script>        </div>"
      ]
     },
     "metadata": {},
     "output_type": "display_data"
    }
   ],
   "source": [
    "from plotly import graph_objects as go\n",
    "\n",
    "#prepandemia\n",
    "\n",
    "fig = go.Figure()\n",
    "\n",
    "fig.add_trace(go.Funnel(\n",
    "    name = 'Desktop',\n",
    "    y =[\"Loading\", \"Shipping\", \"Payments\", \"Review\", \"Congrats\"  ],\n",
    "    x = df2d_pre['Transactions'],\n",
    "    textinfo = \"value+percent initial\",marker = {\"color\": [\"#2874A6\", \"#2471A3\", \"#2980B9\", \"#5499C7\", \"#5499C7\"]}))\n",
    "\n",
    "fig.add_trace(go.Funnel(\n",
    "    name = 'Android',\n",
    "    orientation = \"h\",\n",
    "    y = [\"Loading\", \"Shipping\", \"Payments\", \"Review\", \"Congrats\"  ],\n",
    "    x = df2a_pre['Transactions'],\n",
    "    textposition = \"inside\",\n",
    "    textinfo = \"value+percent initial\",marker = {\"color\": [\"#239B56\",'#2ECC71', \"#58D68D\", \"#82E0AA\", \"#ABEBC6\"]}))\n",
    "\n",
    "\n",
    "fig.show()\n"
   ]
  },
  {
   "cell_type": "code",
   "execution_count": 229,
   "metadata": {},
   "outputs": [],
   "source": [
    "filtered_melted_pos = pd.melt(df_traffic['2020-03-21':'2020-06-30'].reset_index(), id_vars=[\"Fecha\",\"Device\"], value_vars=[\"Loading\", \"Shipping\", \"Payments\", \"Review\", \"Congrats\"],value_name=\"Transactions\")\n",
    "filtered_melted_pos.columns\n",
    "filtered_melted_pos['variable'] = pd.Categorical(filtered_melted_pos['variable'], categories=[\"Loading\", \"Shipping\", \"Payments\", \"Review\", \"Congrats\"], ordered=True)\n",
    "df2_pos = filtered_melted_pos.groupby(by=['Device','variable']).sum().reset_index()\n",
    "df2a_pos = df2_pos.loc[df2_pos['Device']=='Android']\n",
    "df2d_pos = df2_pos.loc[df2_pos['Device']=='Desktop']\n"
   ]
  },
  {
   "cell_type": "code",
   "execution_count": 230,
   "metadata": {},
   "outputs": [
    {
     "data": {
      "application/vnd.plotly.v1+json": {
       "config": {
        "plotlyServerURL": "https://plot.ly"
       },
       "data": [
        {
         "marker": {
          "color": [
           "#2874A6",
           "#2471A3",
           "#2980B9",
           "#5499C7",
           "#5499C7"
          ]
         },
         "name": "Desktop",
         "textinfo": "value+percent initial",
         "type": "funnel",
         "x": [
          17186014,
          15545543,
          12999189,
          9996745,
          9727672
         ],
         "y": [
          "Loading",
          "Shipping",
          "Payments",
          "Review",
          "Congrats"
         ]
        },
        {
         "marker": {
          "color": [
           "#239B56",
           "#2ECC71",
           "#58D68D",
           "#82E0AA",
           "#ABEBC6"
          ]
         },
         "name": "Android",
         "orientation": "h",
         "textinfo": "value+percent initial",
         "textposition": "inside",
         "type": "funnel",
         "x": [
          40601746,
          37658315,
          30431676,
          20326314,
          18667923
         ],
         "y": [
          "Loading",
          "Shipping",
          "Payments",
          "Review",
          "Congrats"
         ]
        }
       ],
       "layout": {
        "template": {
         "data": {
          "bar": [
           {
            "error_x": {
             "color": "#2a3f5f"
            },
            "error_y": {
             "color": "#2a3f5f"
            },
            "marker": {
             "line": {
              "color": "#E5ECF6",
              "width": 0.5
             }
            },
            "type": "bar"
           }
          ],
          "barpolar": [
           {
            "marker": {
             "line": {
              "color": "#E5ECF6",
              "width": 0.5
             }
            },
            "type": "barpolar"
           }
          ],
          "carpet": [
           {
            "aaxis": {
             "endlinecolor": "#2a3f5f",
             "gridcolor": "white",
             "linecolor": "white",
             "minorgridcolor": "white",
             "startlinecolor": "#2a3f5f"
            },
            "baxis": {
             "endlinecolor": "#2a3f5f",
             "gridcolor": "white",
             "linecolor": "white",
             "minorgridcolor": "white",
             "startlinecolor": "#2a3f5f"
            },
            "type": "carpet"
           }
          ],
          "choropleth": [
           {
            "colorbar": {
             "outlinewidth": 0,
             "ticks": ""
            },
            "type": "choropleth"
           }
          ],
          "contour": [
           {
            "colorbar": {
             "outlinewidth": 0,
             "ticks": ""
            },
            "colorscale": [
             [
              0,
              "#0d0887"
             ],
             [
              0.1111111111111111,
              "#46039f"
             ],
             [
              0.2222222222222222,
              "#7201a8"
             ],
             [
              0.3333333333333333,
              "#9c179e"
             ],
             [
              0.4444444444444444,
              "#bd3786"
             ],
             [
              0.5555555555555556,
              "#d8576b"
             ],
             [
              0.6666666666666666,
              "#ed7953"
             ],
             [
              0.7777777777777778,
              "#fb9f3a"
             ],
             [
              0.8888888888888888,
              "#fdca26"
             ],
             [
              1,
              "#f0f921"
             ]
            ],
            "type": "contour"
           }
          ],
          "contourcarpet": [
           {
            "colorbar": {
             "outlinewidth": 0,
             "ticks": ""
            },
            "type": "contourcarpet"
           }
          ],
          "heatmap": [
           {
            "colorbar": {
             "outlinewidth": 0,
             "ticks": ""
            },
            "colorscale": [
             [
              0,
              "#0d0887"
             ],
             [
              0.1111111111111111,
              "#46039f"
             ],
             [
              0.2222222222222222,
              "#7201a8"
             ],
             [
              0.3333333333333333,
              "#9c179e"
             ],
             [
              0.4444444444444444,
              "#bd3786"
             ],
             [
              0.5555555555555556,
              "#d8576b"
             ],
             [
              0.6666666666666666,
              "#ed7953"
             ],
             [
              0.7777777777777778,
              "#fb9f3a"
             ],
             [
              0.8888888888888888,
              "#fdca26"
             ],
             [
              1,
              "#f0f921"
             ]
            ],
            "type": "heatmap"
           }
          ],
          "heatmapgl": [
           {
            "colorbar": {
             "outlinewidth": 0,
             "ticks": ""
            },
            "colorscale": [
             [
              0,
              "#0d0887"
             ],
             [
              0.1111111111111111,
              "#46039f"
             ],
             [
              0.2222222222222222,
              "#7201a8"
             ],
             [
              0.3333333333333333,
              "#9c179e"
             ],
             [
              0.4444444444444444,
              "#bd3786"
             ],
             [
              0.5555555555555556,
              "#d8576b"
             ],
             [
              0.6666666666666666,
              "#ed7953"
             ],
             [
              0.7777777777777778,
              "#fb9f3a"
             ],
             [
              0.8888888888888888,
              "#fdca26"
             ],
             [
              1,
              "#f0f921"
             ]
            ],
            "type": "heatmapgl"
           }
          ],
          "histogram": [
           {
            "marker": {
             "colorbar": {
              "outlinewidth": 0,
              "ticks": ""
             }
            },
            "type": "histogram"
           }
          ],
          "histogram2d": [
           {
            "colorbar": {
             "outlinewidth": 0,
             "ticks": ""
            },
            "colorscale": [
             [
              0,
              "#0d0887"
             ],
             [
              0.1111111111111111,
              "#46039f"
             ],
             [
              0.2222222222222222,
              "#7201a8"
             ],
             [
              0.3333333333333333,
              "#9c179e"
             ],
             [
              0.4444444444444444,
              "#bd3786"
             ],
             [
              0.5555555555555556,
              "#d8576b"
             ],
             [
              0.6666666666666666,
              "#ed7953"
             ],
             [
              0.7777777777777778,
              "#fb9f3a"
             ],
             [
              0.8888888888888888,
              "#fdca26"
             ],
             [
              1,
              "#f0f921"
             ]
            ],
            "type": "histogram2d"
           }
          ],
          "histogram2dcontour": [
           {
            "colorbar": {
             "outlinewidth": 0,
             "ticks": ""
            },
            "colorscale": [
             [
              0,
              "#0d0887"
             ],
             [
              0.1111111111111111,
              "#46039f"
             ],
             [
              0.2222222222222222,
              "#7201a8"
             ],
             [
              0.3333333333333333,
              "#9c179e"
             ],
             [
              0.4444444444444444,
              "#bd3786"
             ],
             [
              0.5555555555555556,
              "#d8576b"
             ],
             [
              0.6666666666666666,
              "#ed7953"
             ],
             [
              0.7777777777777778,
              "#fb9f3a"
             ],
             [
              0.8888888888888888,
              "#fdca26"
             ],
             [
              1,
              "#f0f921"
             ]
            ],
            "type": "histogram2dcontour"
           }
          ],
          "mesh3d": [
           {
            "colorbar": {
             "outlinewidth": 0,
             "ticks": ""
            },
            "type": "mesh3d"
           }
          ],
          "parcoords": [
           {
            "line": {
             "colorbar": {
              "outlinewidth": 0,
              "ticks": ""
             }
            },
            "type": "parcoords"
           }
          ],
          "pie": [
           {
            "automargin": true,
            "type": "pie"
           }
          ],
          "scatter": [
           {
            "marker": {
             "colorbar": {
              "outlinewidth": 0,
              "ticks": ""
             }
            },
            "type": "scatter"
           }
          ],
          "scatter3d": [
           {
            "line": {
             "colorbar": {
              "outlinewidth": 0,
              "ticks": ""
             }
            },
            "marker": {
             "colorbar": {
              "outlinewidth": 0,
              "ticks": ""
             }
            },
            "type": "scatter3d"
           }
          ],
          "scattercarpet": [
           {
            "marker": {
             "colorbar": {
              "outlinewidth": 0,
              "ticks": ""
             }
            },
            "type": "scattercarpet"
           }
          ],
          "scattergeo": [
           {
            "marker": {
             "colorbar": {
              "outlinewidth": 0,
              "ticks": ""
             }
            },
            "type": "scattergeo"
           }
          ],
          "scattergl": [
           {
            "marker": {
             "colorbar": {
              "outlinewidth": 0,
              "ticks": ""
             }
            },
            "type": "scattergl"
           }
          ],
          "scattermapbox": [
           {
            "marker": {
             "colorbar": {
              "outlinewidth": 0,
              "ticks": ""
             }
            },
            "type": "scattermapbox"
           }
          ],
          "scatterpolar": [
           {
            "marker": {
             "colorbar": {
              "outlinewidth": 0,
              "ticks": ""
             }
            },
            "type": "scatterpolar"
           }
          ],
          "scatterpolargl": [
           {
            "marker": {
             "colorbar": {
              "outlinewidth": 0,
              "ticks": ""
             }
            },
            "type": "scatterpolargl"
           }
          ],
          "scatterternary": [
           {
            "marker": {
             "colorbar": {
              "outlinewidth": 0,
              "ticks": ""
             }
            },
            "type": "scatterternary"
           }
          ],
          "surface": [
           {
            "colorbar": {
             "outlinewidth": 0,
             "ticks": ""
            },
            "colorscale": [
             [
              0,
              "#0d0887"
             ],
             [
              0.1111111111111111,
              "#46039f"
             ],
             [
              0.2222222222222222,
              "#7201a8"
             ],
             [
              0.3333333333333333,
              "#9c179e"
             ],
             [
              0.4444444444444444,
              "#bd3786"
             ],
             [
              0.5555555555555556,
              "#d8576b"
             ],
             [
              0.6666666666666666,
              "#ed7953"
             ],
             [
              0.7777777777777778,
              "#fb9f3a"
             ],
             [
              0.8888888888888888,
              "#fdca26"
             ],
             [
              1,
              "#f0f921"
             ]
            ],
            "type": "surface"
           }
          ],
          "table": [
           {
            "cells": {
             "fill": {
              "color": "#EBF0F8"
             },
             "line": {
              "color": "white"
             }
            },
            "header": {
             "fill": {
              "color": "#C8D4E3"
             },
             "line": {
              "color": "white"
             }
            },
            "type": "table"
           }
          ]
         },
         "layout": {
          "annotationdefaults": {
           "arrowcolor": "#2a3f5f",
           "arrowhead": 0,
           "arrowwidth": 1
          },
          "autotypenumbers": "strict",
          "coloraxis": {
           "colorbar": {
            "outlinewidth": 0,
            "ticks": ""
           }
          },
          "colorscale": {
           "diverging": [
            [
             0,
             "#8e0152"
            ],
            [
             0.1,
             "#c51b7d"
            ],
            [
             0.2,
             "#de77ae"
            ],
            [
             0.3,
             "#f1b6da"
            ],
            [
             0.4,
             "#fde0ef"
            ],
            [
             0.5,
             "#f7f7f7"
            ],
            [
             0.6,
             "#e6f5d0"
            ],
            [
             0.7,
             "#b8e186"
            ],
            [
             0.8,
             "#7fbc41"
            ],
            [
             0.9,
             "#4d9221"
            ],
            [
             1,
             "#276419"
            ]
           ],
           "sequential": [
            [
             0,
             "#0d0887"
            ],
            [
             0.1111111111111111,
             "#46039f"
            ],
            [
             0.2222222222222222,
             "#7201a8"
            ],
            [
             0.3333333333333333,
             "#9c179e"
            ],
            [
             0.4444444444444444,
             "#bd3786"
            ],
            [
             0.5555555555555556,
             "#d8576b"
            ],
            [
             0.6666666666666666,
             "#ed7953"
            ],
            [
             0.7777777777777778,
             "#fb9f3a"
            ],
            [
             0.8888888888888888,
             "#fdca26"
            ],
            [
             1,
             "#f0f921"
            ]
           ],
           "sequentialminus": [
            [
             0,
             "#0d0887"
            ],
            [
             0.1111111111111111,
             "#46039f"
            ],
            [
             0.2222222222222222,
             "#7201a8"
            ],
            [
             0.3333333333333333,
             "#9c179e"
            ],
            [
             0.4444444444444444,
             "#bd3786"
            ],
            [
             0.5555555555555556,
             "#d8576b"
            ],
            [
             0.6666666666666666,
             "#ed7953"
            ],
            [
             0.7777777777777778,
             "#fb9f3a"
            ],
            [
             0.8888888888888888,
             "#fdca26"
            ],
            [
             1,
             "#f0f921"
            ]
           ]
          },
          "colorway": [
           "#636efa",
           "#EF553B",
           "#00cc96",
           "#ab63fa",
           "#FFA15A",
           "#19d3f3",
           "#FF6692",
           "#B6E880",
           "#FF97FF",
           "#FECB52"
          ],
          "font": {
           "color": "#2a3f5f"
          },
          "geo": {
           "bgcolor": "white",
           "lakecolor": "white",
           "landcolor": "#E5ECF6",
           "showlakes": true,
           "showland": true,
           "subunitcolor": "white"
          },
          "hoverlabel": {
           "align": "left"
          },
          "hovermode": "closest",
          "mapbox": {
           "style": "light"
          },
          "paper_bgcolor": "white",
          "plot_bgcolor": "#E5ECF6",
          "polar": {
           "angularaxis": {
            "gridcolor": "white",
            "linecolor": "white",
            "ticks": ""
           },
           "bgcolor": "#E5ECF6",
           "radialaxis": {
            "gridcolor": "white",
            "linecolor": "white",
            "ticks": ""
           }
          },
          "scene": {
           "xaxis": {
            "backgroundcolor": "#E5ECF6",
            "gridcolor": "white",
            "gridwidth": 2,
            "linecolor": "white",
            "showbackground": true,
            "ticks": "",
            "zerolinecolor": "white"
           },
           "yaxis": {
            "backgroundcolor": "#E5ECF6",
            "gridcolor": "white",
            "gridwidth": 2,
            "linecolor": "white",
            "showbackground": true,
            "ticks": "",
            "zerolinecolor": "white"
           },
           "zaxis": {
            "backgroundcolor": "#E5ECF6",
            "gridcolor": "white",
            "gridwidth": 2,
            "linecolor": "white",
            "showbackground": true,
            "ticks": "",
            "zerolinecolor": "white"
           }
          },
          "shapedefaults": {
           "line": {
            "color": "#2a3f5f"
           }
          },
          "ternary": {
           "aaxis": {
            "gridcolor": "white",
            "linecolor": "white",
            "ticks": ""
           },
           "baxis": {
            "gridcolor": "white",
            "linecolor": "white",
            "ticks": ""
           },
           "bgcolor": "#E5ECF6",
           "caxis": {
            "gridcolor": "white",
            "linecolor": "white",
            "ticks": ""
           }
          },
          "title": {
           "x": 0.05
          },
          "xaxis": {
           "automargin": true,
           "gridcolor": "white",
           "linecolor": "white",
           "ticks": "",
           "title": {
            "standoff": 15
           },
           "zerolinecolor": "white",
           "zerolinewidth": 2
          },
          "yaxis": {
           "automargin": true,
           "gridcolor": "white",
           "linecolor": "white",
           "ticks": "",
           "title": {
            "standoff": 15
           },
           "zerolinecolor": "white",
           "zerolinewidth": 2
          }
         }
        }
       }
      },
      "text/html": [
       "<div>                            <div id=\"383f2a93-7db6-46ff-bd34-6efec9b51e19\" class=\"plotly-graph-div\" style=\"height:525px; width:100%;\"></div>            <script type=\"text/javascript\">                require([\"plotly\"], function(Plotly) {                    window.PLOTLYENV=window.PLOTLYENV || {};                                    if (document.getElementById(\"383f2a93-7db6-46ff-bd34-6efec9b51e19\")) {                    Plotly.newPlot(                        \"383f2a93-7db6-46ff-bd34-6efec9b51e19\",                        [{\"marker\": {\"color\": [\"#2874A6\", \"#2471A3\", \"#2980B9\", \"#5499C7\", \"#5499C7\"]}, \"name\": \"Desktop\", \"textinfo\": \"value+percent initial\", \"type\": \"funnel\", \"x\": [17186014, 15545543, 12999189, 9996745, 9727672], \"y\": [\"Loading\", \"Shipping\", \"Payments\", \"Review\", \"Congrats\"]}, {\"marker\": {\"color\": [\"#239B56\", \"#2ECC71\", \"#58D68D\", \"#82E0AA\", \"#ABEBC6\"]}, \"name\": \"Android\", \"orientation\": \"h\", \"textinfo\": \"value+percent initial\", \"textposition\": \"inside\", \"type\": \"funnel\", \"x\": [40601746, 37658315, 30431676, 20326314, 18667923], \"y\": [\"Loading\", \"Shipping\", \"Payments\", \"Review\", \"Congrats\"]}],                        {\"template\": {\"data\": {\"bar\": [{\"error_x\": {\"color\": \"#2a3f5f\"}, \"error_y\": {\"color\": \"#2a3f5f\"}, \"marker\": {\"line\": {\"color\": \"#E5ECF6\", \"width\": 0.5}}, \"type\": \"bar\"}], \"barpolar\": [{\"marker\": {\"line\": {\"color\": \"#E5ECF6\", \"width\": 0.5}}, \"type\": \"barpolar\"}], \"carpet\": [{\"aaxis\": {\"endlinecolor\": \"#2a3f5f\", \"gridcolor\": \"white\", \"linecolor\": \"white\", \"minorgridcolor\": \"white\", \"startlinecolor\": \"#2a3f5f\"}, \"baxis\": {\"endlinecolor\": \"#2a3f5f\", \"gridcolor\": \"white\", \"linecolor\": \"white\", \"minorgridcolor\": \"white\", \"startlinecolor\": \"#2a3f5f\"}, \"type\": \"carpet\"}], \"choropleth\": [{\"colorbar\": {\"outlinewidth\": 0, \"ticks\": \"\"}, \"type\": \"choropleth\"}], \"contour\": [{\"colorbar\": {\"outlinewidth\": 0, \"ticks\": \"\"}, \"colorscale\": [[0.0, \"#0d0887\"], [0.1111111111111111, \"#46039f\"], [0.2222222222222222, \"#7201a8\"], [0.3333333333333333, \"#9c179e\"], [0.4444444444444444, \"#bd3786\"], [0.5555555555555556, \"#d8576b\"], [0.6666666666666666, \"#ed7953\"], [0.7777777777777778, \"#fb9f3a\"], [0.8888888888888888, \"#fdca26\"], [1.0, \"#f0f921\"]], \"type\": \"contour\"}], \"contourcarpet\": [{\"colorbar\": {\"outlinewidth\": 0, \"ticks\": \"\"}, \"type\": \"contourcarpet\"}], \"heatmap\": [{\"colorbar\": {\"outlinewidth\": 0, \"ticks\": \"\"}, \"colorscale\": [[0.0, \"#0d0887\"], [0.1111111111111111, \"#46039f\"], [0.2222222222222222, \"#7201a8\"], [0.3333333333333333, \"#9c179e\"], [0.4444444444444444, \"#bd3786\"], [0.5555555555555556, \"#d8576b\"], [0.6666666666666666, \"#ed7953\"], [0.7777777777777778, \"#fb9f3a\"], [0.8888888888888888, \"#fdca26\"], [1.0, \"#f0f921\"]], \"type\": \"heatmap\"}], \"heatmapgl\": [{\"colorbar\": {\"outlinewidth\": 0, \"ticks\": \"\"}, \"colorscale\": [[0.0, \"#0d0887\"], [0.1111111111111111, \"#46039f\"], [0.2222222222222222, \"#7201a8\"], [0.3333333333333333, \"#9c179e\"], [0.4444444444444444, \"#bd3786\"], [0.5555555555555556, \"#d8576b\"], [0.6666666666666666, \"#ed7953\"], [0.7777777777777778, \"#fb9f3a\"], [0.8888888888888888, \"#fdca26\"], [1.0, \"#f0f921\"]], \"type\": \"heatmapgl\"}], \"histogram\": [{\"marker\": {\"colorbar\": {\"outlinewidth\": 0, \"ticks\": \"\"}}, \"type\": \"histogram\"}], \"histogram2d\": [{\"colorbar\": {\"outlinewidth\": 0, \"ticks\": \"\"}, \"colorscale\": [[0.0, \"#0d0887\"], [0.1111111111111111, \"#46039f\"], [0.2222222222222222, \"#7201a8\"], [0.3333333333333333, \"#9c179e\"], [0.4444444444444444, \"#bd3786\"], [0.5555555555555556, \"#d8576b\"], [0.6666666666666666, \"#ed7953\"], [0.7777777777777778, \"#fb9f3a\"], [0.8888888888888888, \"#fdca26\"], [1.0, \"#f0f921\"]], \"type\": \"histogram2d\"}], \"histogram2dcontour\": [{\"colorbar\": {\"outlinewidth\": 0, \"ticks\": \"\"}, \"colorscale\": [[0.0, \"#0d0887\"], [0.1111111111111111, \"#46039f\"], [0.2222222222222222, \"#7201a8\"], [0.3333333333333333, \"#9c179e\"], [0.4444444444444444, \"#bd3786\"], [0.5555555555555556, \"#d8576b\"], [0.6666666666666666, \"#ed7953\"], [0.7777777777777778, \"#fb9f3a\"], [0.8888888888888888, \"#fdca26\"], [1.0, \"#f0f921\"]], \"type\": \"histogram2dcontour\"}], \"mesh3d\": [{\"colorbar\": {\"outlinewidth\": 0, \"ticks\": \"\"}, \"type\": \"mesh3d\"}], \"parcoords\": [{\"line\": {\"colorbar\": {\"outlinewidth\": 0, \"ticks\": \"\"}}, \"type\": \"parcoords\"}], \"pie\": [{\"automargin\": true, \"type\": \"pie\"}], \"scatter\": [{\"marker\": {\"colorbar\": {\"outlinewidth\": 0, \"ticks\": \"\"}}, \"type\": \"scatter\"}], \"scatter3d\": [{\"line\": {\"colorbar\": {\"outlinewidth\": 0, \"ticks\": \"\"}}, \"marker\": {\"colorbar\": {\"outlinewidth\": 0, \"ticks\": \"\"}}, \"type\": \"scatter3d\"}], \"scattercarpet\": [{\"marker\": {\"colorbar\": {\"outlinewidth\": 0, \"ticks\": \"\"}}, \"type\": \"scattercarpet\"}], \"scattergeo\": [{\"marker\": {\"colorbar\": {\"outlinewidth\": 0, \"ticks\": \"\"}}, \"type\": \"scattergeo\"}], \"scattergl\": [{\"marker\": {\"colorbar\": {\"outlinewidth\": 0, \"ticks\": \"\"}}, \"type\": \"scattergl\"}], \"scattermapbox\": [{\"marker\": {\"colorbar\": {\"outlinewidth\": 0, \"ticks\": \"\"}}, \"type\": \"scattermapbox\"}], \"scatterpolar\": [{\"marker\": {\"colorbar\": {\"outlinewidth\": 0, \"ticks\": \"\"}}, \"type\": \"scatterpolar\"}], \"scatterpolargl\": [{\"marker\": {\"colorbar\": {\"outlinewidth\": 0, \"ticks\": \"\"}}, \"type\": \"scatterpolargl\"}], \"scatterternary\": [{\"marker\": {\"colorbar\": {\"outlinewidth\": 0, \"ticks\": \"\"}}, \"type\": \"scatterternary\"}], \"surface\": [{\"colorbar\": {\"outlinewidth\": 0, \"ticks\": \"\"}, \"colorscale\": [[0.0, \"#0d0887\"], [0.1111111111111111, \"#46039f\"], [0.2222222222222222, \"#7201a8\"], [0.3333333333333333, \"#9c179e\"], [0.4444444444444444, \"#bd3786\"], [0.5555555555555556, \"#d8576b\"], [0.6666666666666666, \"#ed7953\"], [0.7777777777777778, \"#fb9f3a\"], [0.8888888888888888, \"#fdca26\"], [1.0, \"#f0f921\"]], \"type\": \"surface\"}], \"table\": [{\"cells\": {\"fill\": {\"color\": \"#EBF0F8\"}, \"line\": {\"color\": \"white\"}}, \"header\": {\"fill\": {\"color\": \"#C8D4E3\"}, \"line\": {\"color\": \"white\"}}, \"type\": \"table\"}]}, \"layout\": {\"annotationdefaults\": {\"arrowcolor\": \"#2a3f5f\", \"arrowhead\": 0, \"arrowwidth\": 1}, \"autotypenumbers\": \"strict\", \"coloraxis\": {\"colorbar\": {\"outlinewidth\": 0, \"ticks\": \"\"}}, \"colorscale\": {\"diverging\": [[0, \"#8e0152\"], [0.1, \"#c51b7d\"], [0.2, \"#de77ae\"], [0.3, \"#f1b6da\"], [0.4, \"#fde0ef\"], [0.5, \"#f7f7f7\"], [0.6, \"#e6f5d0\"], [0.7, \"#b8e186\"], [0.8, \"#7fbc41\"], [0.9, \"#4d9221\"], [1, \"#276419\"]], \"sequential\": [[0.0, \"#0d0887\"], [0.1111111111111111, \"#46039f\"], [0.2222222222222222, \"#7201a8\"], [0.3333333333333333, \"#9c179e\"], [0.4444444444444444, \"#bd3786\"], [0.5555555555555556, \"#d8576b\"], [0.6666666666666666, \"#ed7953\"], [0.7777777777777778, \"#fb9f3a\"], [0.8888888888888888, \"#fdca26\"], [1.0, \"#f0f921\"]], \"sequentialminus\": [[0.0, \"#0d0887\"], [0.1111111111111111, \"#46039f\"], [0.2222222222222222, \"#7201a8\"], [0.3333333333333333, \"#9c179e\"], [0.4444444444444444, \"#bd3786\"], [0.5555555555555556, \"#d8576b\"], [0.6666666666666666, \"#ed7953\"], [0.7777777777777778, \"#fb9f3a\"], [0.8888888888888888, \"#fdca26\"], [1.0, \"#f0f921\"]]}, \"colorway\": [\"#636efa\", \"#EF553B\", \"#00cc96\", \"#ab63fa\", \"#FFA15A\", \"#19d3f3\", \"#FF6692\", \"#B6E880\", \"#FF97FF\", \"#FECB52\"], \"font\": {\"color\": \"#2a3f5f\"}, \"geo\": {\"bgcolor\": \"white\", \"lakecolor\": \"white\", \"landcolor\": \"#E5ECF6\", \"showlakes\": true, \"showland\": true, \"subunitcolor\": \"white\"}, \"hoverlabel\": {\"align\": \"left\"}, \"hovermode\": \"closest\", \"mapbox\": {\"style\": \"light\"}, \"paper_bgcolor\": \"white\", \"plot_bgcolor\": \"#E5ECF6\", \"polar\": {\"angularaxis\": {\"gridcolor\": \"white\", \"linecolor\": \"white\", \"ticks\": \"\"}, \"bgcolor\": \"#E5ECF6\", \"radialaxis\": {\"gridcolor\": \"white\", \"linecolor\": \"white\", \"ticks\": \"\"}}, \"scene\": {\"xaxis\": {\"backgroundcolor\": \"#E5ECF6\", \"gridcolor\": \"white\", \"gridwidth\": 2, \"linecolor\": \"white\", \"showbackground\": true, \"ticks\": \"\", \"zerolinecolor\": \"white\"}, \"yaxis\": {\"backgroundcolor\": \"#E5ECF6\", \"gridcolor\": \"white\", \"gridwidth\": 2, \"linecolor\": \"white\", \"showbackground\": true, \"ticks\": \"\", \"zerolinecolor\": \"white\"}, \"zaxis\": {\"backgroundcolor\": \"#E5ECF6\", \"gridcolor\": \"white\", \"gridwidth\": 2, \"linecolor\": \"white\", \"showbackground\": true, \"ticks\": \"\", \"zerolinecolor\": \"white\"}}, \"shapedefaults\": {\"line\": {\"color\": \"#2a3f5f\"}}, \"ternary\": {\"aaxis\": {\"gridcolor\": \"white\", \"linecolor\": \"white\", \"ticks\": \"\"}, \"baxis\": {\"gridcolor\": \"white\", \"linecolor\": \"white\", \"ticks\": \"\"}, \"bgcolor\": \"#E5ECF6\", \"caxis\": {\"gridcolor\": \"white\", \"linecolor\": \"white\", \"ticks\": \"\"}}, \"title\": {\"x\": 0.05}, \"xaxis\": {\"automargin\": true, \"gridcolor\": \"white\", \"linecolor\": \"white\", \"ticks\": \"\", \"title\": {\"standoff\": 15}, \"zerolinecolor\": \"white\", \"zerolinewidth\": 2}, \"yaxis\": {\"automargin\": true, \"gridcolor\": \"white\", \"linecolor\": \"white\", \"ticks\": \"\", \"title\": {\"standoff\": 15}, \"zerolinecolor\": \"white\", \"zerolinewidth\": 2}}}},                        {\"responsive\": true}                    ).then(function(){\n",
       "                            \n",
       "var gd = document.getElementById('383f2a93-7db6-46ff-bd34-6efec9b51e19');\n",
       "var x = new MutationObserver(function (mutations, observer) {{\n",
       "        var display = window.getComputedStyle(gd).display;\n",
       "        if (!display || display === 'none') {{\n",
       "            console.log([gd, 'removed!']);\n",
       "            Plotly.purge(gd);\n",
       "            observer.disconnect();\n",
       "        }}\n",
       "}});\n",
       "\n",
       "// Listen for the removal of the full notebook cells\n",
       "var notebookContainer = gd.closest('#notebook-container');\n",
       "if (notebookContainer) {{\n",
       "    x.observe(notebookContainer, {childList: true});\n",
       "}}\n",
       "\n",
       "// Listen for the clearing of the current output cell\n",
       "var outputEl = gd.closest('.output');\n",
       "if (outputEl) {{\n",
       "    x.observe(outputEl, {childList: true});\n",
       "}}\n",
       "\n",
       "                        })                };                });            </script>        </div>"
      ]
     },
     "metadata": {},
     "output_type": "display_data"
    }
   ],
   "source": [
    "#prepandemia\n",
    "\n",
    "fig = go.Figure()\n",
    "\n",
    "fig.add_trace(go.Funnel(\n",
    "    name = 'Desktop',\n",
    "    y =[\"Loading\", \"Shipping\", \"Payments\", \"Review\", \"Congrats\"  ],\n",
    "    x = df2d_pos['Transactions'],\n",
    "    textinfo = \"value+percent initial\",marker = {\"color\": [\"#2874A6\", \"#2471A3\", \"#2980B9\", \"#5499C7\", \"#5499C7\"]}))\n",
    "\n",
    "fig.add_trace(go.Funnel(\n",
    "    name = 'Android',\n",
    "    orientation = \"h\",\n",
    "    y = [\"Loading\", \"Shipping\", \"Payments\", \"Review\", \"Congrats\"  ],\n",
    "    x = df2a_pos['Transactions'],\n",
    "    textposition = \"inside\",\n",
    "    textinfo = \"value+percent initial\",marker = {\"color\": [\"#239B56\",'#2ECC71', \"#58D68D\", \"#82E0AA\", \"#ABEBC6\"]}))\n",
    "\n",
    "\n",
    "fig.show()\n"
   ]
  },
  {
   "cell_type": "markdown",
   "metadata": {},
   "source": [
    "En los gráficos anteriores se muestra el cono de conversión para las dos plataformas analizadas, Desktop y Android, para los períodos pre y pos pandemia. En general, no hay grandes cambios en el cono de conversión entre el primer y el último paso, si bien se ve que se pierden más compradores en las primeras etapas luego del comienzo de la pandemia.\n",
    "Si comparamos devices, se puede decir que si bien desktop tiene una menor cantidad de usuarios, la tasa de conversión que presenta es más de un 10% superior a la de android. "
   ]
  }
 ],
 "metadata": {
  "kernelspec": {
   "display_name": "Python 3",
   "language": "python",
   "name": "python3"
  },
  "language_info": {
   "codemirror_mode": {
    "name": "ipython",
    "version": 3
   },
   "file_extension": ".py",
   "mimetype": "text/x-python",
   "name": "python",
   "nbconvert_exporter": "python",
   "pygments_lexer": "ipython3",
   "version": "3.8.5"
  }
 },
 "nbformat": 4,
 "nbformat_minor": 4
}
