{
 "cells": [
  {
   "cell_type": "markdown",
   "metadata": {},
   "source": [
    "# Práctico"
   ]
  },
  {
   "cell_type": "markdown",
   "metadata": {
    "jp-MarkdownHeadingCollapsed": true,
    "tags": []
   },
   "source": [
    "El trabajo práctico de la materia consiste en el análisis de un conjunto de datos extraído de Twitter. La idea es emplear los conceptos de grafos vistos en clase sobre un caso real de actualidad.\n",
    "\n",
    "## Dataset\n",
    "\n",
    "El dataset consiste en un conjunto de hilos de tweets, con un total de ~150000 tweets, extraídos entre Enero y Marzo de 2021. La temática de los mismos está referida a la vacunación contra el covid-19 en Argentina.\n",
    "\n",
    "Pueden descargar el dataset del siguiente [link](https://drive.google.com/file/d/1X_qKsE8muAnom2tDX4sLlmBAO0Ikfe_G/view?usp=sharing).\n",
    "\n",
    "### Campos\n",
    "\n",
    "- **created_at:** Fecha del tweet\n",
    "- **id_str:** ID del tweet\n",
    "- **full_text:** Contenido del tweet\n",
    "- **in_reply_to_status_id:** ID del tweet inmediatamente anterior en el hilo\n",
    "- **in_reply_to_user_id:** Autor del tweet inmediatamente anterior en el hilo\n",
    "- **user.id:** Autor del tweet\n",
    "- **user_retweeters:** Lista de ID de usuarios que retweetearon el tweet\n",
    "- **sentiment:** Etiquetado manual que indica el sentimiento o intención del tweet con respecto al tweet anterior en el hilo"
   ]
  },
  {
   "cell_type": "markdown",
   "metadata": {},
   "source": [
    "## Configuración inicial"
   ]
  },
  {
   "cell_type": "code",
   "execution_count": 1,
   "metadata": {},
   "outputs": [],
   "source": [
    "import seaborn as sns"
   ]
  },
  {
   "cell_type": "code",
   "execution_count": 2,
   "metadata": {},
   "outputs": [],
   "source": [
    "import pandas as pd\n",
    "from pathlib import Path\n",
    "import networkx as nx\n",
    "import igraph as ig\n",
    "\n",
    "import matplotlib.pyplot as plt\n",
    "import numpy as np\n",
    "from time import time\n",
    "\n",
    "## Descargar el csv con los datos en este directorio\n",
    "DATA_DIR = Path('./data')\n",
    "INPUT_FILE = DATA_DIR / 'vacunas.csv'\n",
    "\n",
    "## Creamos el directorio en caso de que no exista\n",
    "DATA_DIR.mkdir(parents=True, exist_ok=True)"
   ]
  },
  {
   "cell_type": "markdown",
   "metadata": {},
   "source": [
    "### Cargamos el dataset"
   ]
  },
  {
   "cell_type": "code",
   "execution_count": 3,
   "metadata": {},
   "outputs": [
    {
     "name": "stdout",
     "output_type": "stream",
     "text": [
      "(155123, 8)\n"
     ]
    },
    {
     "data": {
      "text/html": [
       "<div>\n",
       "<style scoped>\n",
       "    .dataframe tbody tr th:only-of-type {\n",
       "        vertical-align: middle;\n",
       "    }\n",
       "\n",
       "    .dataframe tbody tr th {\n",
       "        vertical-align: top;\n",
       "    }\n",
       "\n",
       "    .dataframe thead th {\n",
       "        text-align: right;\n",
       "    }\n",
       "</style>\n",
       "<table border=\"1\" class=\"dataframe\">\n",
       "  <thead>\n",
       "    <tr style=\"text-align: right;\">\n",
       "      <th></th>\n",
       "      <th>created_at</th>\n",
       "      <th>id_str</th>\n",
       "      <th>full_text</th>\n",
       "      <th>in_reply_to_status_id</th>\n",
       "      <th>in_reply_to_user_id</th>\n",
       "      <th>user.id</th>\n",
       "      <th>user_retweeters</th>\n",
       "      <th>sentiment</th>\n",
       "    </tr>\n",
       "  </thead>\n",
       "  <tbody>\n",
       "    <tr>\n",
       "      <th>0</th>\n",
       "      <td>Sat Feb 20 03:09:10 +0000 2021</td>\n",
       "      <td>1362962469749153792</td>\n",
       "      <td>Seguimos esperando el comunicado de @norabar r...</td>\n",
       "      <td>NaN</td>\n",
       "      <td>NaN</td>\n",
       "      <td>2737379453</td>\n",
       "      <td>[2258074658, 159909978, 105301854, 290671142, ...</td>\n",
       "      <td>NaN</td>\n",
       "    </tr>\n",
       "    <tr>\n",
       "      <th>1</th>\n",
       "      <td>Sat Feb 20 03:19:59 +0000 2021</td>\n",
       "      <td>1362965193509265417</td>\n",
       "      <td>@Clon_43 @norabar Nora estaba indignada porque...</td>\n",
       "      <td>1362962469749153792</td>\n",
       "      <td>2737379453</td>\n",
       "      <td>32718111</td>\n",
       "      <td>[]</td>\n",
       "      <td>NaN</td>\n",
       "    </tr>\n",
       "    <tr>\n",
       "      <th>2</th>\n",
       "      <td>Mon Feb 22 23:55:08 +0000 2021</td>\n",
       "      <td>1364000806740111363</td>\n",
       "      <td>Bueno, Alberto dijo Salud o Economía. La salud...</td>\n",
       "      <td>NaN</td>\n",
       "      <td>NaN</td>\n",
       "      <td>252168075</td>\n",
       "      <td>[1238117630696972289, 37232479, 12792246571247...</td>\n",
       "      <td>NaN</td>\n",
       "    </tr>\n",
       "    <tr>\n",
       "      <th>3</th>\n",
       "      <td>Tue Feb 23 00:09:14 +0000 2021</td>\n",
       "      <td>1364004354374696963</td>\n",
       "      <td>@spitta1969 Tuit del mes Spitta</td>\n",
       "      <td>1364000806740111363</td>\n",
       "      <td>252168075</td>\n",
       "      <td>1156346340802224128</td>\n",
       "      <td>[]</td>\n",
       "      <td>NaN</td>\n",
       "    </tr>\n",
       "    <tr>\n",
       "      <th>4</th>\n",
       "      <td>Tue Feb 23 00:00:17 +0000 2021</td>\n",
       "      <td>1364002100364128260</td>\n",
       "      <td>@spitta1969 Estas onfire</td>\n",
       "      <td>1364000806740111363</td>\n",
       "      <td>252168075</td>\n",
       "      <td>153663816</td>\n",
       "      <td>[]</td>\n",
       "      <td>NaN</td>\n",
       "    </tr>\n",
       "  </tbody>\n",
       "</table>\n",
       "</div>"
      ],
      "text/plain": [
       "                       created_at               id_str  \\\n",
       "0  Sat Feb 20 03:09:10 +0000 2021  1362962469749153792   \n",
       "1  Sat Feb 20 03:19:59 +0000 2021  1362965193509265417   \n",
       "2  Mon Feb 22 23:55:08 +0000 2021  1364000806740111363   \n",
       "3  Tue Feb 23 00:09:14 +0000 2021  1364004354374696963   \n",
       "4  Tue Feb 23 00:00:17 +0000 2021  1364002100364128260   \n",
       "\n",
       "                                           full_text in_reply_to_status_id  \\\n",
       "0  Seguimos esperando el comunicado de @norabar r...                   NaN   \n",
       "1  @Clon_43 @norabar Nora estaba indignada porque...   1362962469749153792   \n",
       "2  Bueno, Alberto dijo Salud o Economía. La salud...                   NaN   \n",
       "3                    @spitta1969 Tuit del mes Spitta   1364000806740111363   \n",
       "4                           @spitta1969 Estas onfire   1364000806740111363   \n",
       "\n",
       "  in_reply_to_user_id              user.id  \\\n",
       "0                 NaN           2737379453   \n",
       "1          2737379453             32718111   \n",
       "2                 NaN            252168075   \n",
       "3           252168075  1156346340802224128   \n",
       "4           252168075            153663816   \n",
       "\n",
       "                                     user_retweeters sentiment  \n",
       "0  [2258074658, 159909978, 105301854, 290671142, ...       NaN  \n",
       "1                                                 []       NaN  \n",
       "2  [1238117630696972289, 37232479, 12792246571247...       NaN  \n",
       "3                                                 []       NaN  \n",
       "4                                                 []       NaN  "
      ]
     },
     "execution_count": 3,
     "metadata": {},
     "output_type": "execute_result"
    }
   ],
   "source": [
    "dtypes = {\n",
    "    'id_str': str,\n",
    "    'full_text': str,\n",
    "    'in_reply_to_status_id': str,\n",
    "    'in_reply_to_user_id': str,\n",
    "    'user.id': str\n",
    "}\n",
    "df = pd.read_csv(INPUT_FILE, dtype=dtypes).dropna(subset=['user_retweeters'])\n",
    "df['user_retweeters'] = df['user_retweeters'].apply(lambda x: [str(elem) for elem in eval(x)])\n",
    "print(df.shape)\n",
    "df.head()"
   ]
  },
  {
   "cell_type": "markdown",
   "metadata": {
    "tags": []
   },
   "source": [
    "### Observamos algunos ejemplos"
   ]
  },
  {
   "cell_type": "code",
   "execution_count": 4,
   "metadata": {},
   "outputs": [
    {
     "name": "stdout",
     "output_type": "stream",
     "text": [
      "Texto: Seguimos esperando el comunicado de @norabar repudiando la situación respecto del gobierno y el tema vacunas. Seamos pacientes que con esto de la pandemia anda con mucho \"laburo\".\n",
      "Retweets: 9\n"
     ]
    }
   ],
   "source": [
    "idx = 0\n",
    "print('Texto:', df.full_text.values[idx])\n",
    "print('Retweets:', len(df.user_retweeters.values[idx]))"
   ]
  },
  {
   "cell_type": "code",
   "execution_count": 5,
   "metadata": {},
   "outputs": [
    {
     "name": "stdout",
     "output_type": "stream",
     "text": [
      "Text: Todo lo que hay que entender sobre la decisión –o no– de poner más vacunas en más brazos (por ejemplo, usar las 1º dosis en muchos y si es necesario retrasar la 2º) está en esta excelente nota de Nora Bär. https://t.co/A0I03DyxgO\n",
      "Retweets: 48\n"
     ]
    }
   ],
   "source": [
    "idx = 376\n",
    "print('Text:', df.full_text.values[idx])\n",
    "print('Retweets:', len(df.user_retweeters.values[idx]))"
   ]
  },
  {
   "cell_type": "markdown",
   "metadata": {},
   "source": [
    "### Calculamos la cantidad de hilos"
   ]
  },
  {
   "cell_type": "code",
   "execution_count": 6,
   "metadata": {},
   "outputs": [
    {
     "data": {
      "text/plain": [
       "(3174, 8)"
      ]
     },
     "execution_count": 6,
     "metadata": {},
     "output_type": "execute_result"
    }
   ],
   "source": [
    "roots = df[df['in_reply_to_user_id'].isna()]\n",
    "roots.shape"
   ]
  },
  {
   "cell_type": "markdown",
   "metadata": {},
   "source": [
    "## Actividades"
   ]
  },
  {
   "cell_type": "markdown",
   "metadata": {
    "jp-MarkdownHeadingCollapsed": true,
    "tags": []
   },
   "source": [
    "### Primera parte\n",
    "\n",
    "#### **1. Construcción del grafo** \n",
    "\n",
    "Construir el **grafo de retweets**, definido de la siguiente manera:\n",
    "\n",
    "- Tipo de grafo: Dirigido\n",
    "- Nodos: ID de los usuarios\n",
    "- Enlaces: (Usuario A) ---> (Usuario B) si B retweeteó algún tweet de A\n",
    "\n",
    "Con estos datos, el grafo debería tener alrededor de 40000 nodos y 90000 enlaces.\n",
    "\n",
    "Considerar la versión no dirigida del grafo y estudiar su conectividad. Si existe una única \"componente gigante\", realizar el resto de las actividades sobre ella, en lugar de sobre el grafo completo.\n",
    "\n",
    "Calcular las siguientes métricas globales del grafo:\n",
    "\n",
    "- Grado medio\n",
    "- Asortatividad\n",
    "- Transitividad\n",
    "- Coeficiente de clustering de Watts-Strogatz\n",
    "\n",
    "**Opcional:** Comparar las métricas calculadas anteriormente con las de un grafo aleatorio con la misma distribución de grado. Pueden utilizar para ello este [método](https://networkx.org/documentation/stable/reference/generated/networkx.generators.degree_seq.configuration_model.html?highlight=configuration#networkx.generators.degree_seq.configuration_model). Con esto en mente, comentar si los valores obtenidos anteriormente difieren significativamente del caso aleatorio.\n",
    "\n",
    "\n"
   ]
  },
  {
   "cell_type": "code",
   "execution_count": 7,
   "metadata": {},
   "outputs": [
    {
     "data": {
      "text/html": [
       "<div>\n",
       "<style scoped>\n",
       "    .dataframe tbody tr th:only-of-type {\n",
       "        vertical-align: middle;\n",
       "    }\n",
       "\n",
       "    .dataframe tbody tr th {\n",
       "        vertical-align: top;\n",
       "    }\n",
       "\n",
       "    .dataframe thead th {\n",
       "        text-align: right;\n",
       "    }\n",
       "</style>\n",
       "<table border=\"1\" class=\"dataframe\">\n",
       "  <thead>\n",
       "    <tr style=\"text-align: right;\">\n",
       "      <th></th>\n",
       "      <th>created_at</th>\n",
       "      <th>id_str</th>\n",
       "      <th>full_text</th>\n",
       "      <th>in_reply_to_status_id</th>\n",
       "      <th>in_reply_to_user_id</th>\n",
       "      <th>user.id</th>\n",
       "      <th>user_retweeters</th>\n",
       "      <th>sentiment</th>\n",
       "    </tr>\n",
       "  </thead>\n",
       "  <tbody>\n",
       "    <tr>\n",
       "      <th>0</th>\n",
       "      <td>Sat Feb 20 03:09:10 +0000 2021</td>\n",
       "      <td>1362962469749153792</td>\n",
       "      <td>Seguimos esperando el comunicado de @norabar r...</td>\n",
       "      <td>NaN</td>\n",
       "      <td>NaN</td>\n",
       "      <td>2737379453</td>\n",
       "      <td>[2258074658, 159909978, 105301854, 290671142, ...</td>\n",
       "      <td>NaN</td>\n",
       "    </tr>\n",
       "    <tr>\n",
       "      <th>1</th>\n",
       "      <td>Sat Feb 20 03:19:59 +0000 2021</td>\n",
       "      <td>1362965193509265417</td>\n",
       "      <td>@Clon_43 @norabar Nora estaba indignada porque...</td>\n",
       "      <td>1362962469749153792</td>\n",
       "      <td>2737379453</td>\n",
       "      <td>32718111</td>\n",
       "      <td>[]</td>\n",
       "      <td>NaN</td>\n",
       "    </tr>\n",
       "    <tr>\n",
       "      <th>2</th>\n",
       "      <td>Mon Feb 22 23:55:08 +0000 2021</td>\n",
       "      <td>1364000806740111363</td>\n",
       "      <td>Bueno, Alberto dijo Salud o Economía. La salud...</td>\n",
       "      <td>NaN</td>\n",
       "      <td>NaN</td>\n",
       "      <td>252168075</td>\n",
       "      <td>[1238117630696972289, 37232479, 12792246571247...</td>\n",
       "      <td>NaN</td>\n",
       "    </tr>\n",
       "    <tr>\n",
       "      <th>3</th>\n",
       "      <td>Tue Feb 23 00:09:14 +0000 2021</td>\n",
       "      <td>1364004354374696963</td>\n",
       "      <td>@spitta1969 Tuit del mes Spitta</td>\n",
       "      <td>1364000806740111363</td>\n",
       "      <td>252168075</td>\n",
       "      <td>1156346340802224128</td>\n",
       "      <td>[]</td>\n",
       "      <td>NaN</td>\n",
       "    </tr>\n",
       "    <tr>\n",
       "      <th>4</th>\n",
       "      <td>Tue Feb 23 00:00:17 +0000 2021</td>\n",
       "      <td>1364002100364128260</td>\n",
       "      <td>@spitta1969 Estas onfire</td>\n",
       "      <td>1364000806740111363</td>\n",
       "      <td>252168075</td>\n",
       "      <td>153663816</td>\n",
       "      <td>[]</td>\n",
       "      <td>NaN</td>\n",
       "    </tr>\n",
       "    <tr>\n",
       "      <th>...</th>\n",
       "      <td>...</td>\n",
       "      <td>...</td>\n",
       "      <td>...</td>\n",
       "      <td>...</td>\n",
       "      <td>...</td>\n",
       "      <td>...</td>\n",
       "      <td>...</td>\n",
       "      <td>...</td>\n",
       "    </tr>\n",
       "    <tr>\n",
       "      <th>163174</th>\n",
       "      <td>Tue Jan 12 23:24:10 +0000 2021</td>\n",
       "      <td>1349135109010677767</td>\n",
       "      <td>@Die_IsCast @norabar @enzosebastin221 Retuitea...</td>\n",
       "      <td>1349122147587940353</td>\n",
       "      <td>2955376486</td>\n",
       "      <td>176835482</td>\n",
       "      <td>[]</td>\n",
       "      <td>NaN</td>\n",
       "    </tr>\n",
       "    <tr>\n",
       "      <th>163175</th>\n",
       "      <td>Wed Jan 13 01:56:56 +0000 2021</td>\n",
       "      <td>1349173553833381888</td>\n",
       "      <td>@todosflotan @norabar @enzosebastin221 Sí, sí,...</td>\n",
       "      <td>1349135109010677767</td>\n",
       "      <td>176835482</td>\n",
       "      <td>2955376486</td>\n",
       "      <td>[]</td>\n",
       "      <td>NaN</td>\n",
       "    </tr>\n",
       "    <tr>\n",
       "      <th>163176</th>\n",
       "      <td>Wed Jan 13 02:02:07 +0000 2021</td>\n",
       "      <td>1349174860702953474</td>\n",
       "      <td>@Die_IsCast @norabar @enzosebastin221 seguí co...</td>\n",
       "      <td>1349173553833381888</td>\n",
       "      <td>2955376486</td>\n",
       "      <td>176835482</td>\n",
       "      <td>[]</td>\n",
       "      <td>NaN</td>\n",
       "    </tr>\n",
       "    <tr>\n",
       "      <th>163177</th>\n",
       "      <td>Tue Jan 12 15:07:16 +0000 2021</td>\n",
       "      <td>1349010059712491522</td>\n",
       "      <td>@mirtapsp @todosflotan @norabar Nora, trabaja ...</td>\n",
       "      <td>1349002034968719360</td>\n",
       "      <td>138734328</td>\n",
       "      <td>1219302815916527618</td>\n",
       "      <td>[]</td>\n",
       "      <td>NaN</td>\n",
       "    </tr>\n",
       "    <tr>\n",
       "      <th>163178</th>\n",
       "      <td>Tue Jan 12 22:38:02 +0000 2021</td>\n",
       "      <td>1349123499030437888</td>\n",
       "      <td>@altiroweon @norabar @carlavizzotti https://t....</td>\n",
       "      <td>1349099459033116675</td>\n",
       "      <td>1015463782259273728</td>\n",
       "      <td>2955376486</td>\n",
       "      <td>[]</td>\n",
       "      <td>NaN</td>\n",
       "    </tr>\n",
       "  </tbody>\n",
       "</table>\n",
       "<p>155123 rows × 8 columns</p>\n",
       "</div>"
      ],
      "text/plain": [
       "                            created_at               id_str  \\\n",
       "0       Sat Feb 20 03:09:10 +0000 2021  1362962469749153792   \n",
       "1       Sat Feb 20 03:19:59 +0000 2021  1362965193509265417   \n",
       "2       Mon Feb 22 23:55:08 +0000 2021  1364000806740111363   \n",
       "3       Tue Feb 23 00:09:14 +0000 2021  1364004354374696963   \n",
       "4       Tue Feb 23 00:00:17 +0000 2021  1364002100364128260   \n",
       "...                                ...                  ...   \n",
       "163174  Tue Jan 12 23:24:10 +0000 2021  1349135109010677767   \n",
       "163175  Wed Jan 13 01:56:56 +0000 2021  1349173553833381888   \n",
       "163176  Wed Jan 13 02:02:07 +0000 2021  1349174860702953474   \n",
       "163177  Tue Jan 12 15:07:16 +0000 2021  1349010059712491522   \n",
       "163178  Tue Jan 12 22:38:02 +0000 2021  1349123499030437888   \n",
       "\n",
       "                                                full_text  \\\n",
       "0       Seguimos esperando el comunicado de @norabar r...   \n",
       "1       @Clon_43 @norabar Nora estaba indignada porque...   \n",
       "2       Bueno, Alberto dijo Salud o Economía. La salud...   \n",
       "3                         @spitta1969 Tuit del mes Spitta   \n",
       "4                                @spitta1969 Estas onfire   \n",
       "...                                                   ...   \n",
       "163174  @Die_IsCast @norabar @enzosebastin221 Retuitea...   \n",
       "163175  @todosflotan @norabar @enzosebastin221 Sí, sí,...   \n",
       "163176  @Die_IsCast @norabar @enzosebastin221 seguí co...   \n",
       "163177  @mirtapsp @todosflotan @norabar Nora, trabaja ...   \n",
       "163178  @altiroweon @norabar @carlavizzotti https://t....   \n",
       "\n",
       "       in_reply_to_status_id  in_reply_to_user_id              user.id  \\\n",
       "0                        NaN                  NaN           2737379453   \n",
       "1        1362962469749153792           2737379453             32718111   \n",
       "2                        NaN                  NaN            252168075   \n",
       "3        1364000806740111363            252168075  1156346340802224128   \n",
       "4        1364000806740111363            252168075            153663816   \n",
       "...                      ...                  ...                  ...   \n",
       "163174   1349122147587940353           2955376486            176835482   \n",
       "163175   1349135109010677767            176835482           2955376486   \n",
       "163176   1349173553833381888           2955376486            176835482   \n",
       "163177   1349002034968719360            138734328  1219302815916527618   \n",
       "163178   1349099459033116675  1015463782259273728           2955376486   \n",
       "\n",
       "                                          user_retweeters sentiment  \n",
       "0       [2258074658, 159909978, 105301854, 290671142, ...       NaN  \n",
       "1                                                      []       NaN  \n",
       "2       [1238117630696972289, 37232479, 12792246571247...       NaN  \n",
       "3                                                      []       NaN  \n",
       "4                                                      []       NaN  \n",
       "...                                                   ...       ...  \n",
       "163174                                                 []       NaN  \n",
       "163175                                                 []       NaN  \n",
       "163176                                                 []       NaN  \n",
       "163177                                                 []       NaN  \n",
       "163178                                                 []       NaN  \n",
       "\n",
       "[155123 rows x 8 columns]"
      ]
     },
     "execution_count": 7,
     "metadata": {},
     "output_type": "execute_result"
    }
   ],
   "source": [
    "df"
   ]
  },
  {
   "cell_type": "code",
   "execution_count": 8,
   "metadata": {},
   "outputs": [],
   "source": [
    "G = nx.Graph()\n"
   ]
  },
  {
   "cell_type": "markdown",
   "metadata": {},
   "source": [
    "Intentamos armarlo con DiGraph, pero en uno de los puntos posteriores la librería no funcionaba con gráficos dirigidos, por lo que optamos por la versión no dirigida"
   ]
  },
  {
   "cell_type": "code",
   "execution_count": 9,
   "metadata": {},
   "outputs": [],
   "source": [
    "edges = df.apply( lambda row : [( row['user.id'] , v ) for v in row['user_retweeters']] ,  axis=1 )\n"
   ]
  },
  {
   "cell_type": "code",
   "execution_count": 10,
   "metadata": {},
   "outputs": [],
   "source": [
    "for edge in edges:\n",
    "    G.add_edges_from(edge)"
   ]
  },
  {
   "cell_type": "code",
   "execution_count": 11,
   "metadata": {},
   "outputs": [
    {
     "name": "stdout",
     "output_type": "stream",
     "text": [
      "Name: \n",
      "Type: Graph\n",
      "Number of nodes: 39800\n",
      "Number of edges: 93404\n",
      "Average degree:   4.6937\n"
     ]
    }
   ],
   "source": [
    "print(nx.info(G))\n"
   ]
  },
  {
   "cell_type": "markdown",
   "metadata": {},
   "source": [
    "## Grado medio"
   ]
  },
  {
   "cell_type": "code",
   "execution_count": 12,
   "metadata": {},
   "outputs": [
    {
     "data": {
      "text/plain": [
       "4.693668341708543"
      ]
     },
     "execution_count": 12,
     "metadata": {},
     "output_type": "execute_result"
    }
   ],
   "source": [
    "deg_seq = np.array([k for v, k in G.degree()])\n",
    "\n",
    "grado_medio = sum(deg_seq) / len(deg_seq)\n",
    "grado_medio"
   ]
  },
  {
   "cell_type": "markdown",
   "metadata": {},
   "source": [
    "Cada uno de los nodos está conectado con otros 5, en media."
   ]
  },
  {
   "cell_type": "markdown",
   "metadata": {},
   "source": [
    "## Asortatividad"
   ]
  },
  {
   "cell_type": "code",
   "execution_count": 13,
   "metadata": {},
   "outputs": [
    {
     "data": {
      "text/plain": [
       "-0.22131902542941814"
      ]
     },
     "execution_count": 13,
     "metadata": {},
     "output_type": "execute_result"
    }
   ],
   "source": [
    "assortativity = nx.degree_pearson_correlation_coefficient(G)\n",
    "assortativity"
   ]
  },
  {
   "cell_type": "markdown",
   "metadata": {},
   "source": [
    "Por su valor, la probabilidad de que dos nodos con la misma propiedad estén conectados es muy baja."
   ]
  },
  {
   "cell_type": "markdown",
   "metadata": {},
   "source": [
    "## Transitividad "
   ]
  },
  {
   "cell_type": "code",
   "execution_count": 14,
   "metadata": {},
   "outputs": [
    {
     "data": {
      "text/plain": [
       "0.0016125612488585316"
      ]
     },
     "execution_count": 14,
     "metadata": {},
     "output_type": "execute_result"
    }
   ],
   "source": [
    "transitivity = nx.transitivity(G)\n",
    "transitivity"
   ]
  },
  {
   "cell_type": "markdown",
   "metadata": {},
   "source": [
    "Implica que hay muy pocas triadas conectadas, es decir que apunta en la misma direccion que la asortatividad.\n"
   ]
  },
  {
   "cell_type": "markdown",
   "metadata": {},
   "source": [
    "## Coeficiente de clustering de Watts-Strogatz"
   ]
  },
  {
   "cell_type": "code",
   "execution_count": 15,
   "metadata": {},
   "outputs": [
    {
     "data": {
      "text/plain": [
       "0.09990623904532091"
      ]
     },
     "execution_count": 15,
     "metadata": {},
     "output_type": "execute_result"
    }
   ],
   "source": [
    "avg_clustering = nx.average_clustering(G)\n",
    "avg_clustering"
   ]
  },
  {
   "cell_type": "markdown",
   "metadata": {},
   "source": [
    "Mide la posibilidad de que dos nodos conectados al mismo nodo también estén conectados entre si. En este caso es muy baja."
   ]
  },
  {
   "cell_type": "markdown",
   "metadata": {},
   "source": [
    "#### **2. Centralidad**\n",
    "\n",
    "Calcular 5 métricas de centralidad de nodos. Graficar la distribución de cada una de ellas ¿Existe alguna correlación entre las distintas centralidades? \n",
    "\n",
    "Hacer un ranking con los 10 nodos más centrales para cada métrica. ¿Hay coincidencia entre los rankings?. ¿Qué características tienen los usuarios más centrales y sus respectivos tweets?\n",
    "\n",
    "**Opcional:** Determinar si existe alguna correlación entre la centralidad de un nodo y su actividad en red social. Es decir, evaluar si los usuarios que más escriben son los más centrales o no.\n",
    "\n"
   ]
  },
  {
   "cell_type": "markdown",
   "metadata": {},
   "source": [
    "Nos pasamos a la librería igraph ya que tiene mejor performance al calcular medidas de centralidad."
   ]
  },
  {
   "cell_type": "code",
   "execution_count": 31,
   "metadata": {},
   "outputs": [
    {
     "name": "stdout",
     "output_type": "stream",
     "text": [
      "IGRAPH UN-- 39800 93404 -- \n",
      "+ attr: name (v)\n"
     ]
    }
   ],
   "source": [
    "ig = ig.Graph.TupleList(G.edges())\n",
    "print(ig.summary())"
   ]
  },
  {
   "cell_type": "code",
   "execution_count": 32,
   "metadata": {},
   "outputs": [],
   "source": [
    "df_metrics = ig.get_vertex_dataframe()"
   ]
  },
  {
   "cell_type": "markdown",
   "metadata": {},
   "source": [
    "*Betweenness* es el número de caminos geodésicos que pasan por un nodo."
   ]
  },
  {
   "cell_type": "code",
   "execution_count": 33,
   "metadata": {},
   "outputs": [],
   "source": [
    "btw = ig.betweenness()\n",
    "df_metrics['btw'] = btw\n"
   ]
  },
  {
   "cell_type": "code",
   "execution_count": 34,
   "metadata": {},
   "outputs": [
    {
     "name": "stderr",
     "output_type": "stream",
     "text": [
      "C:\\Users\\genes\\anaconda3\\lib\\site-packages\\seaborn\\distributions.py:2551: FutureWarning: `distplot` is a deprecated function and will be removed in a future version. Please adapt your code to use either `displot` (a figure-level function with similar flexibility) or `histplot` (an axes-level function for histograms).\n",
      "  warnings.warn(msg, FutureWarning)\n"
     ]
    },
    {
     "data": {
      "text/plain": [
       "<AxesSubplot:ylabel='Density'>"
      ]
     },
     "execution_count": 34,
     "metadata": {},
     "output_type": "execute_result"
    },
    {
     "data": {
      "image/png": "[encoded data removed]",
      "text/plain": [
       "<Figure size 432x288 with 1 Axes>"
      ]
     },
     "metadata": {
      "needs_background": "light"
     },
     "output_type": "display_data"
    }
   ],
   "source": [
    "sns.distplot(btw)\n"
   ]
  },
  {
   "cell_type": "markdown",
   "metadata": {},
   "source": [
    "*Strength* es la suma de los pesos de los vértices conectados al nodo."
   ]
  },
  {
   "cell_type": "code",
   "execution_count": 35,
   "metadata": {},
   "outputs": [],
   "source": [
    "st=ig.strength()\n",
    "df_metrics['st'] = st\n"
   ]
  },
  {
   "cell_type": "code",
   "execution_count": 36,
   "metadata": {},
   "outputs": [
    {
     "name": "stderr",
     "output_type": "stream",
     "text": [
      "C:\\Users\\genes\\anaconda3\\lib\\site-packages\\seaborn\\distributions.py:2551: FutureWarning: `distplot` is a deprecated function and will be removed in a future version. Please adapt your code to use either `displot` (a figure-level function with similar flexibility) or `histplot` (an axes-level function for histograms).\n",
      "  warnings.warn(msg, FutureWarning)\n"
     ]
    },
    {
     "data": {
      "text/plain": [
       "<AxesSubplot:ylabel='Density'>"
      ]
     },
     "execution_count": 36,
     "metadata": {},
     "output_type": "execute_result"
    },
    {
     "data": {
      "image/png": "[encoded data removed]",
      "text/plain": [
       "<Figure size 432x288 with 1 Axes>"
      ]
     },
     "metadata": {
      "needs_background": "light"
     },
     "output_type": "display_data"
    }
   ],
   "source": [
    "sns.distplot(st)\n"
   ]
  },
  {
   "cell_type": "markdown",
   "metadata": {},
   "source": [
    "*Closeness* es el número de pasos necesarios para acceder a cualquier otro nodo desde el nodo."
   ]
  },
  {
   "cell_type": "code",
   "execution_count": 37,
   "metadata": {},
   "outputs": [],
   "source": [
    "closeness = ig.closeness()\n",
    "df_metrics['closeness']  = closeness\n"
   ]
  },
  {
   "cell_type": "code",
   "execution_count": 38,
   "metadata": {},
   "outputs": [
    {
     "name": "stderr",
     "output_type": "stream",
     "text": [
      "C:\\Users\\genes\\anaconda3\\lib\\site-packages\\seaborn\\distributions.py:2551: FutureWarning: `distplot` is a deprecated function and will be removed in a future version. Please adapt your code to use either `displot` (a figure-level function with similar flexibility) or `histplot` (an axes-level function for histograms).\n",
      "  warnings.warn(msg, FutureWarning)\n"
     ]
    },
    {
     "data": {
      "text/plain": [
       "<AxesSubplot:ylabel='Density'>"
      ]
     },
     "execution_count": 38,
     "metadata": {},
     "output_type": "execute_result"
    },
    {
     "data": {
      "image/png": "[encoded data removed]",
      "text/plain": [
       "<Figure size 432x288 with 1 Axes>"
      ]
     },
     "metadata": {
      "needs_background": "light"
     },
     "output_type": "display_data"
    }
   ],
   "source": [
    "sns.distplot(closeness)\n"
   ]
  },
  {
   "cell_type": "markdown",
   "metadata": {},
   "source": [
    "*Degree* es el numero de vértices conectados a un nodo, en este caso es la cantidad de personas que retuitearon el tuit de una persona."
   ]
  },
  {
   "cell_type": "code",
   "execution_count": 39,
   "metadata": {},
   "outputs": [],
   "source": [
    "degree = ig.degree()\n",
    "df_metrics['degree'] = degree\n"
   ]
  },
  {
   "cell_type": "code",
   "execution_count": 40,
   "metadata": {},
   "outputs": [
    {
     "name": "stderr",
     "output_type": "stream",
     "text": [
      "C:\\Users\\genes\\anaconda3\\lib\\site-packages\\seaborn\\distributions.py:2551: FutureWarning: `distplot` is a deprecated function and will be removed in a future version. Please adapt your code to use either `displot` (a figure-level function with similar flexibility) or `histplot` (an axes-level function for histograms).\n",
      "  warnings.warn(msg, FutureWarning)\n"
     ]
    },
    {
     "data": {
      "text/plain": [
       "<AxesSubplot:ylabel='Density'>"
      ]
     },
     "execution_count": 40,
     "metadata": {},
     "output_type": "execute_result"
    },
    {
     "data": {
      "image/png": "[encoded data removed]",
      "text/plain": [
       "<Figure size 432x288 with 1 Axes>"
      ]
     },
     "metadata": {
      "needs_background": "light"
     },
     "output_type": "display_data"
    }
   ],
   "source": [
    "sns.distplot(degree)\n"
   ]
  },
  {
   "cell_type": "markdown",
   "metadata": {},
   "source": [
    "*eigenvector centrality* Valores del primer vector propio de la matriz de adyacencia del gráfico. Los valores son altos para los vértices que están conectados a muchos otros vértices que, a su vez, están conectados a muchos otros, etc."
   ]
  },
  {
   "cell_type": "code",
   "execution_count": 41,
   "metadata": {},
   "outputs": [],
   "source": [
    "eigenvector_centrality = ig.eigenvector_centrality()\n",
    "df_metrics['eigenvector_centrality'] = eigenvector_centrality\n"
   ]
  },
  {
   "cell_type": "code",
   "execution_count": 42,
   "metadata": {},
   "outputs": [
    {
     "name": "stderr",
     "output_type": "stream",
     "text": [
      "C:\\Users\\genes\\anaconda3\\lib\\site-packages\\seaborn\\distributions.py:2551: FutureWarning: `distplot` is a deprecated function and will be removed in a future version. Please adapt your code to use either `displot` (a figure-level function with similar flexibility) or `histplot` (an axes-level function for histograms).\n",
      "  warnings.warn(msg, FutureWarning)\n"
     ]
    },
    {
     "data": {
      "text/plain": [
       "<AxesSubplot:ylabel='Density'>"
      ]
     },
     "execution_count": 42,
     "metadata": {},
     "output_type": "execute_result"
    },
    {
     "data": {
      "image/png": "[encoded data removed]",
      "text/plain": [
       "<Figure size 432x288 with 1 Axes>"
      ]
     },
     "metadata": {
      "needs_background": "light"
     },
     "output_type": "display_data"
    }
   ],
   "source": [
    "sns.distplot(eigenvector_centrality)\n"
   ]
  },
  {
   "cell_type": "markdown",
   "metadata": {},
   "source": [
    "*page rank* La centralidad de PageRank de un vértice es la fracción de tiempo que un caminante aleatorio que atraviesa el gráfico pasaría en ese vértice"
   ]
  },
  {
   "cell_type": "code",
   "execution_count": 43,
   "metadata": {},
   "outputs": [],
   "source": [
    "page_rank = ig.pagerank()\n",
    "df_metrics['page_rank'] = page_rank\n"
   ]
  },
  {
   "cell_type": "code",
   "execution_count": 44,
   "metadata": {},
   "outputs": [
    {
     "name": "stderr",
     "output_type": "stream",
     "text": [
      "C:\\Users\\genes\\anaconda3\\lib\\site-packages\\seaborn\\distributions.py:2551: FutureWarning: `distplot` is a deprecated function and will be removed in a future version. Please adapt your code to use either `displot` (a figure-level function with similar flexibility) or `histplot` (an axes-level function for histograms).\n",
      "  warnings.warn(msg, FutureWarning)\n"
     ]
    },
    {
     "data": {
      "text/plain": [
       "<AxesSubplot:ylabel='Density'>"
      ]
     },
     "execution_count": 44,
     "metadata": {},
     "output_type": "execute_result"
    },
    {
     "data": {
      "image/png": "[encoded data removed]",
      "text/plain": [
       "<Figure size 432x288 with 1 Axes>"
      ]
     },
     "metadata": {
      "needs_background": "light"
     },
     "output_type": "display_data"
    }
   ],
   "source": [
    "sns.distplot(page_rank)\n"
   ]
  },
  {
   "cell_type": "markdown",
   "metadata": {},
   "source": [
    "*Harmonic centrality* no considera aquellos cuyo length sea mayor que el límite."
   ]
  },
  {
   "cell_type": "code",
   "execution_count": 45,
   "metadata": {},
   "outputs": [],
   "source": [
    "har_centr = ig.harmonic_centrality()\n",
    "df_metrics['har_centr'] = har_centr\n"
   ]
  },
  {
   "cell_type": "code",
   "execution_count": 46,
   "metadata": {},
   "outputs": [
    {
     "name": "stderr",
     "output_type": "stream",
     "text": [
      "C:\\Users\\genes\\anaconda3\\lib\\site-packages\\seaborn\\distributions.py:2551: FutureWarning: `distplot` is a deprecated function and will be removed in a future version. Please adapt your code to use either `displot` (a figure-level function with similar flexibility) or `histplot` (an axes-level function for histograms).\n",
      "  warnings.warn(msg, FutureWarning)\n"
     ]
    },
    {
     "data": {
      "text/plain": [
       "<AxesSubplot:ylabel='Density'>"
      ]
     },
     "execution_count": 46,
     "metadata": {},
     "output_type": "execute_result"
    },
    {
     "data": {
      "image/png": "[encoded data removed]",
      "text/plain": [
       "<Figure size 432x288 with 1 Axes>"
      ]
     },
     "metadata": {
      "needs_background": "light"
     },
     "output_type": "display_data"
    }
   ],
   "source": [
    "sns.distplot(har_centr)\n"
   ]
  },
  {
   "cell_type": "code",
   "execution_count": 47,
   "metadata": {},
   "outputs": [
    {
     "data": {
      "text/html": [
       "<div>\n",
       "<style scoped>\n",
       "    .dataframe tbody tr th:only-of-type {\n",
       "        vertical-align: middle;\n",
       "    }\n",
       "\n",
       "    .dataframe tbody tr th {\n",
       "        vertical-align: top;\n",
       "    }\n",
       "\n",
       "    .dataframe thead th {\n",
       "        text-align: right;\n",
       "    }\n",
       "</style>\n",
       "<table border=\"1\" class=\"dataframe\">\n",
       "  <thead>\n",
       "    <tr style=\"text-align: right;\">\n",
       "      <th></th>\n",
       "      <th>name</th>\n",
       "      <th>btw</th>\n",
       "      <th>st</th>\n",
       "      <th>closeness</th>\n",
       "      <th>degree</th>\n",
       "      <th>eigenvector_centrality</th>\n",
       "      <th>page_rank</th>\n",
       "      <th>har_centr</th>\n",
       "    </tr>\n",
       "    <tr>\n",
       "      <th>vertex ID</th>\n",
       "      <th></th>\n",
       "      <th></th>\n",
       "      <th></th>\n",
       "      <th></th>\n",
       "      <th></th>\n",
       "      <th></th>\n",
       "      <th></th>\n",
       "      <th></th>\n",
       "    </tr>\n",
       "  </thead>\n",
       "  <tbody>\n",
       "    <tr>\n",
       "      <th>0</th>\n",
       "      <td>2737379453</td>\n",
       "      <td>78111.640852</td>\n",
       "      <td>9.0</td>\n",
       "      <td>0.244898</td>\n",
       "      <td>9</td>\n",
       "      <td>7.483957e-04</td>\n",
       "      <td>0.000038</td>\n",
       "      <td>0.250772</td>\n",
       "    </tr>\n",
       "    <tr>\n",
       "      <th>1</th>\n",
       "      <td>2258074658</td>\n",
       "      <td>130535.561685</td>\n",
       "      <td>19.0</td>\n",
       "      <td>0.286305</td>\n",
       "      <td>19</td>\n",
       "      <td>9.090829e-03</td>\n",
       "      <td>0.000070</td>\n",
       "      <td>0.307703</td>\n",
       "    </tr>\n",
       "    <tr>\n",
       "      <th>2</th>\n",
       "      <td>159909978</td>\n",
       "      <td>0.000000</td>\n",
       "      <td>1.0</td>\n",
       "      <td>0.196722</td>\n",
       "      <td>1</td>\n",
       "      <td>7.490374e-06</td>\n",
       "      <td>0.000007</td>\n",
       "      <td>0.198210</td>\n",
       "    </tr>\n",
       "    <tr>\n",
       "      <th>3</th>\n",
       "      <td>105301854</td>\n",
       "      <td>31376.713412</td>\n",
       "      <td>10.0</td>\n",
       "      <td>0.304398</td>\n",
       "      <td>10</td>\n",
       "      <td>1.069571e-02</td>\n",
       "      <td>0.000036</td>\n",
       "      <td>0.325685</td>\n",
       "    </tr>\n",
       "    <tr>\n",
       "      <th>4</th>\n",
       "      <td>290671142</td>\n",
       "      <td>291383.100735</td>\n",
       "      <td>15.0</td>\n",
       "      <td>0.308014</td>\n",
       "      <td>15</td>\n",
       "      <td>1.193750e-02</td>\n",
       "      <td>0.000056</td>\n",
       "      <td>0.329096</td>\n",
       "    </tr>\n",
       "    <tr>\n",
       "      <th>...</th>\n",
       "      <td>...</td>\n",
       "      <td>...</td>\n",
       "      <td>...</td>\n",
       "      <td>...</td>\n",
       "      <td>...</td>\n",
       "      <td>...</td>\n",
       "      <td>...</td>\n",
       "      <td>...</td>\n",
       "    </tr>\n",
       "    <tr>\n",
       "      <th>39795</th>\n",
       "      <td>1311418268205428739</td>\n",
       "      <td>0.000000</td>\n",
       "      <td>1.0</td>\n",
       "      <td>0.166180</td>\n",
       "      <td>1</td>\n",
       "      <td>6.266713e-08</td>\n",
       "      <td>0.000011</td>\n",
       "      <td>0.165806</td>\n",
       "    </tr>\n",
       "    <tr>\n",
       "      <th>39796</th>\n",
       "      <td>2650545267</td>\n",
       "      <td>0.000000</td>\n",
       "      <td>1.0</td>\n",
       "      <td>0.182163</td>\n",
       "      <td>1</td>\n",
       "      <td>1.736447e-06</td>\n",
       "      <td>0.000009</td>\n",
       "      <td>0.184600</td>\n",
       "    </tr>\n",
       "    <tr>\n",
       "      <th>39797</th>\n",
       "      <td>391590171</td>\n",
       "      <td>0.000000</td>\n",
       "      <td>1.0</td>\n",
       "      <td>1.000000</td>\n",
       "      <td>1</td>\n",
       "      <td>4.287612e-19</td>\n",
       "      <td>0.000025</td>\n",
       "      <td>0.000025</td>\n",
       "    </tr>\n",
       "    <tr>\n",
       "      <th>39798</th>\n",
       "      <td>2765081259</td>\n",
       "      <td>0.000000</td>\n",
       "      <td>1.0</td>\n",
       "      <td>1.000000</td>\n",
       "      <td>1</td>\n",
       "      <td>4.735645e-19</td>\n",
       "      <td>0.000025</td>\n",
       "      <td>0.000025</td>\n",
       "    </tr>\n",
       "    <tr>\n",
       "      <th>39799</th>\n",
       "      <td>346605471</td>\n",
       "      <td>0.000000</td>\n",
       "      <td>1.0</td>\n",
       "      <td>0.216851</td>\n",
       "      <td>1</td>\n",
       "      <td>4.767069e-06</td>\n",
       "      <td>0.000008</td>\n",
       "      <td>0.217565</td>\n",
       "    </tr>\n",
       "  </tbody>\n",
       "</table>\n",
       "<p>39800 rows × 8 columns</p>\n",
       "</div>"
      ],
      "text/plain": [
       "                          name            btw    st  closeness  degree  \\\n",
       "vertex ID                                                                \n",
       "0                   2737379453   78111.640852   9.0   0.244898       9   \n",
       "1                   2258074658  130535.561685  19.0   0.286305      19   \n",
       "2                    159909978       0.000000   1.0   0.196722       1   \n",
       "3                    105301854   31376.713412  10.0   0.304398      10   \n",
       "4                    290671142  291383.100735  15.0   0.308014      15   \n",
       "...                        ...            ...   ...        ...     ...   \n",
       "39795      1311418268205428739       0.000000   1.0   0.166180       1   \n",
       "39796               2650545267       0.000000   1.0   0.182163       1   \n",
       "39797                391590171       0.000000   1.0   1.000000       1   \n",
       "39798               2765081259       0.000000   1.0   1.000000       1   \n",
       "39799                346605471       0.000000   1.0   0.216851       1   \n",
       "\n",
       "           eigenvector_centrality  page_rank  har_centr  \n",
       "vertex ID                                                \n",
       "0                    7.483957e-04   0.000038   0.250772  \n",
       "1                    9.090829e-03   0.000070   0.307703  \n",
       "2                    7.490374e-06   0.000007   0.198210  \n",
       "3                    1.069571e-02   0.000036   0.325685  \n",
       "4                    1.193750e-02   0.000056   0.329096  \n",
       "...                           ...        ...        ...  \n",
       "39795                6.266713e-08   0.000011   0.165806  \n",
       "39796                1.736447e-06   0.000009   0.184600  \n",
       "39797                4.287612e-19   0.000025   0.000025  \n",
       "39798                4.735645e-19   0.000025   0.000025  \n",
       "39799                4.767069e-06   0.000008   0.217565  \n",
       "\n",
       "[39800 rows x 8 columns]"
      ]
     },
     "execution_count": 47,
     "metadata": {},
     "output_type": "execute_result"
    }
   ],
   "source": [
    "df_metrics\n"
   ]
  },
  {
   "cell_type": "markdown",
   "metadata": {},
   "source": [
    "¿Están correlacionadas las medidas?"
   ]
  },
  {
   "cell_type": "markdown",
   "metadata": {},
   "source": [
    "De los gráficos podemos decir que varios tienen una distribución de frecuencia similar. Vamos a generar un mapa de calor para corroborarlo."
   ]
  },
  {
   "cell_type": "code",
   "execution_count": 48,
   "metadata": {},
   "outputs": [
    {
     "data": {
      "text/plain": [
       "<AxesSubplot:>"
      ]
     },
     "execution_count": 48,
     "metadata": {},
     "output_type": "execute_result"
    },
    {
     "data": {
      "image/png": "[encoded data removed]",
      "text/plain": [
       "<Figure size 432x288 with 2 Axes>"
      ]
     },
     "metadata": {
      "needs_background": "light"
     },
     "output_type": "display_data"
    }
   ],
   "source": [
    "sns.heatmap(df_metrics.corr())"
   ]
  },
  {
   "cell_type": "markdown",
   "metadata": {},
   "source": [
    "Podemos ver que cuatro de las métricas están fuertemente correlacionadas entre si: betweenness, degree, page rank y strength. Por otro lado eigenvecto centrality tiene una correlación media con los cuatro anteriores."
   ]
  },
  {
   "cell_type": "code",
   "execution_count": 49,
   "metadata": {},
   "outputs": [],
   "source": [
    "data = {}\n",
    "for col in  ['btw', 'closeness', 'degree', 'eigenvector_centrality', 'page_rank', 'har_centr']:\n",
    "    top = df_metrics.nlargest(10, columns=[col])[col].index\n",
    "    data[col] = top"
   ]
  },
  {
   "cell_type": "code",
   "execution_count": 50,
   "metadata": {},
   "outputs": [
    {
     "data": {
      "text/html": [
       "<div>\n",
       "<style scoped>\n",
       "    .dataframe tbody tr th:only-of-type {\n",
       "        vertical-align: middle;\n",
       "    }\n",
       "\n",
       "    .dataframe tbody tr th {\n",
       "        vertical-align: top;\n",
       "    }\n",
       "\n",
       "    .dataframe thead th {\n",
       "        text-align: right;\n",
       "    }\n",
       "</style>\n",
       "<table border=\"1\" class=\"dataframe\">\n",
       "  <thead>\n",
       "    <tr style=\"text-align: right;\">\n",
       "      <th></th>\n",
       "      <th>btw</th>\n",
       "      <th>closeness</th>\n",
       "      <th>degree</th>\n",
       "      <th>eigenvector_centrality</th>\n",
       "      <th>page_rank</th>\n",
       "      <th>har_centr</th>\n",
       "    </tr>\n",
       "  </thead>\n",
       "  <tbody>\n",
       "    <tr>\n",
       "      <th>0</th>\n",
       "      <td>13</td>\n",
       "      <td>29638</td>\n",
       "      <td>13</td>\n",
       "      <td>13736</td>\n",
       "      <td>13</td>\n",
       "      <td>13</td>\n",
       "    </tr>\n",
       "    <tr>\n",
       "      <th>1</th>\n",
       "      <td>13736</td>\n",
       "      <td>29656</td>\n",
       "      <td>13736</td>\n",
       "      <td>8398</td>\n",
       "      <td>13736</td>\n",
       "      <td>13736</td>\n",
       "    </tr>\n",
       "    <tr>\n",
       "      <th>2</th>\n",
       "      <td>8398</td>\n",
       "      <td>29657</td>\n",
       "      <td>8398</td>\n",
       "      <td>13</td>\n",
       "      <td>8398</td>\n",
       "      <td>8398</td>\n",
       "    </tr>\n",
       "    <tr>\n",
       "      <th>3</th>\n",
       "      <td>13740</td>\n",
       "      <td>30425</td>\n",
       "      <td>11454</td>\n",
       "      <td>11454</td>\n",
       "      <td>13740</td>\n",
       "      <td>11454</td>\n",
       "    </tr>\n",
       "    <tr>\n",
       "      <th>4</th>\n",
       "      <td>30</td>\n",
       "      <td>30426</td>\n",
       "      <td>13740</td>\n",
       "      <td>13159</td>\n",
       "      <td>11454</td>\n",
       "      <td>4511</td>\n",
       "    </tr>\n",
       "    <tr>\n",
       "      <th>5</th>\n",
       "      <td>11454</td>\n",
       "      <td>30657</td>\n",
       "      <td>13159</td>\n",
       "      <td>13740</td>\n",
       "      <td>13159</td>\n",
       "      <td>30</td>\n",
       "    </tr>\n",
       "    <tr>\n",
       "      <th>6</th>\n",
       "      <td>13159</td>\n",
       "      <td>30954</td>\n",
       "      <td>30</td>\n",
       "      <td>13739</td>\n",
       "      <td>13734</td>\n",
       "      <td>6910</td>\n",
       "    </tr>\n",
       "    <tr>\n",
       "      <th>7</th>\n",
       "      <td>13734</td>\n",
       "      <td>30955</td>\n",
       "      <td>13734</td>\n",
       "      <td>13734</td>\n",
       "      <td>30</td>\n",
       "      <td>7977</td>\n",
       "    </tr>\n",
       "    <tr>\n",
       "      <th>8</th>\n",
       "      <td>13739</td>\n",
       "      <td>31274</td>\n",
       "      <td>13739</td>\n",
       "      <td>30</td>\n",
       "      <td>13739</td>\n",
       "      <td>2775</td>\n",
       "    </tr>\n",
       "    <tr>\n",
       "      <th>9</th>\n",
       "      <td>59</td>\n",
       "      <td>31275</td>\n",
       "      <td>13738</td>\n",
       "      <td>9068</td>\n",
       "      <td>13738</td>\n",
       "      <td>13159</td>\n",
       "    </tr>\n",
       "  </tbody>\n",
       "</table>\n",
       "</div>"
      ],
      "text/plain": [
       "     btw  closeness  degree  eigenvector_centrality  page_rank  har_centr\n",
       "0     13      29638      13                   13736         13         13\n",
       "1  13736      29656   13736                    8398      13736      13736\n",
       "2   8398      29657    8398                      13       8398       8398\n",
       "3  13740      30425   11454                   11454      13740      11454\n",
       "4     30      30426   13740                   13159      11454       4511\n",
       "5  11454      30657   13159                   13740      13159         30\n",
       "6  13159      30954      30                   13739      13734       6910\n",
       "7  13734      30955   13734                   13734         30       7977\n",
       "8  13739      31274   13739                      30      13739       2775\n",
       "9     59      31275   13738                    9068      13738      13159"
      ]
     },
     "execution_count": 50,
     "metadata": {},
     "output_type": "execute_result"
    }
   ],
   "source": [
    " pd.DataFrame(data)"
   ]
  },
  {
   "cell_type": "markdown",
   "metadata": {},
   "source": [
    "Podemos ver qie hay fuerte coincidencia entre los primeros lugares, especialmente en las medidas que mostraban alta correlación. Los usuarios en las primeras 4-5 columnas no varían mucho entre medidas."
   ]
  },
  {
   "cell_type": "code",
   "execution_count": 51,
   "metadata": {},
   "outputs": [
    {
     "data": {
      "text/html": [
       "<div>\n",
       "<style scoped>\n",
       "    .dataframe tbody tr th:only-of-type {\n",
       "        vertical-align: middle;\n",
       "    }\n",
       "\n",
       "    .dataframe tbody tr th {\n",
       "        vertical-align: top;\n",
       "    }\n",
       "\n",
       "    .dataframe thead th {\n",
       "        text-align: right;\n",
       "    }\n",
       "</style>\n",
       "<table border=\"1\" class=\"dataframe\">\n",
       "  <thead>\n",
       "    <tr style=\"text-align: right;\">\n",
       "      <th></th>\n",
       "      <th>name</th>\n",
       "      <th>btw</th>\n",
       "      <th>st</th>\n",
       "      <th>closeness</th>\n",
       "      <th>degree</th>\n",
       "      <th>eigenvector_centrality</th>\n",
       "      <th>page_rank</th>\n",
       "      <th>har_centr</th>\n",
       "    </tr>\n",
       "    <tr>\n",
       "      <th>vertex ID</th>\n",
       "      <th></th>\n",
       "      <th></th>\n",
       "      <th></th>\n",
       "      <th></th>\n",
       "      <th></th>\n",
       "      <th></th>\n",
       "      <th></th>\n",
       "      <th></th>\n",
       "    </tr>\n",
       "  </thead>\n",
       "  <tbody>\n",
       "    <tr>\n",
       "      <th>20</th>\n",
       "      <td>1003913378</td>\n",
       "      <td>6877.175297</td>\n",
       "      <td>26.0</td>\n",
       "      <td>0.297894</td>\n",
       "      <td>26</td>\n",
       "      <td>0.010618</td>\n",
       "      <td>0.000081</td>\n",
       "      <td>0.317468</td>\n",
       "    </tr>\n",
       "    <tr>\n",
       "      <th>15271</th>\n",
       "      <td>3247183779</td>\n",
       "      <td>6444.338199</td>\n",
       "      <td>4.0</td>\n",
       "      <td>0.308165</td>\n",
       "      <td>4</td>\n",
       "      <td>0.022697</td>\n",
       "      <td>0.000023</td>\n",
       "      <td>0.329100</td>\n",
       "    </tr>\n",
       "    <tr>\n",
       "      <th>7996</th>\n",
       "      <td>1566199123</td>\n",
       "      <td>0.000000</td>\n",
       "      <td>1.0</td>\n",
       "      <td>0.281730</td>\n",
       "      <td>1</td>\n",
       "      <td>0.007390</td>\n",
       "      <td>0.000008</td>\n",
       "      <td>0.302770</td>\n",
       "    </tr>\n",
       "    <tr>\n",
       "      <th>13554</th>\n",
       "      <td>403232552</td>\n",
       "      <td>0.000000</td>\n",
       "      <td>1.0</td>\n",
       "      <td>0.270762</td>\n",
       "      <td>1</td>\n",
       "      <td>0.009732</td>\n",
       "      <td>0.000009</td>\n",
       "      <td>0.286548</td>\n",
       "    </tr>\n",
       "    <tr>\n",
       "      <th>24746</th>\n",
       "      <td>1025505747734589440</td>\n",
       "      <td>8.538728</td>\n",
       "      <td>2.0</td>\n",
       "      <td>0.242240</td>\n",
       "      <td>2</td>\n",
       "      <td>0.000193</td>\n",
       "      <td>0.000012</td>\n",
       "      <td>0.247844</td>\n",
       "    </tr>\n",
       "  </tbody>\n",
       "</table>\n",
       "</div>"
      ],
      "text/plain": [
       "                          name          btw    st  closeness  degree  \\\n",
       "vertex ID                                                              \n",
       "20                  1003913378  6877.175297  26.0   0.297894      26   \n",
       "15271               3247183779  6444.338199   4.0   0.308165       4   \n",
       "7996                1566199123     0.000000   1.0   0.281730       1   \n",
       "13554                403232552     0.000000   1.0   0.270762       1   \n",
       "24746      1025505747734589440     8.538728   2.0   0.242240       2   \n",
       "\n",
       "           eigenvector_centrality  page_rank  har_centr  \n",
       "vertex ID                                                \n",
       "20                       0.010618   0.000081   0.317468  \n",
       "15271                    0.022697   0.000023   0.329100  \n",
       "7996                     0.007390   0.000008   0.302770  \n",
       "13554                    0.009732   0.000009   0.286548  \n",
       "24746                    0.000193   0.000012   0.247844  "
      ]
     },
     "execution_count": 51,
     "metadata": {},
     "output_type": "execute_result"
    }
   ],
   "source": [
    "df_metrics.iloc[[20,15271,7996,13554,24746]]\n"
   ]
  },
  {
   "cell_type": "code",
   "execution_count": 52,
   "metadata": {},
   "outputs": [],
   "source": [
    "central_users =df[df['user.id'].isin(['252168075','130979339','73102744','367933714','593189095'])]"
   ]
  },
  {
   "cell_type": "code",
   "execution_count": 53,
   "metadata": {},
   "outputs": [
    {
     "data": {
      "text/plain": [
       "Index(['created_at', 'id_str', 'full_text', 'in_reply_to_status_id',\n",
       "       'in_reply_to_user_id', 'user.id', 'user_retweeters', 'sentiment'],\n",
       "      dtype='object')"
      ]
     },
     "execution_count": 53,
     "metadata": {},
     "output_type": "execute_result"
    }
   ],
   "source": [
    "central_users.columns"
   ]
  },
  {
   "cell_type": "code",
   "execution_count": 54,
   "metadata": {},
   "outputs": [
    {
     "name": "stderr",
     "output_type": "stream",
     "text": [
      "C:\\Users\\genes\\anaconda3\\lib\\site-packages\\pandas\\core\\frame.py:4462: SettingWithCopyWarning: \n",
      "A value is trying to be set on a copy of a slice from a DataFrame\n",
      "\n",
      "See the caveats in the documentation: https://pandas.pydata.org/pandas-docs/stable/user_guide/indexing.html#returning-a-view-versus-a-copy\n",
      "  return super().fillna(\n"
     ]
    }
   ],
   "source": [
    "central_users.fillna(0,inplace=True)"
   ]
  },
  {
   "cell_type": "code",
   "execution_count": 55,
   "metadata": {},
   "outputs": [
    {
     "data": {
      "text/plain": [
       "user.id    sentiment \n",
       "130979339  0             1061\n",
       "252168075  0             1948\n",
       "           Apoyo            1\n",
       "           Comentario       3\n",
       "           Pregunta         1\n",
       "367933714  0              776\n",
       "           Comentario       6\n",
       "593189095  0              402\n",
       "           Comentario       1\n",
       "73102744   0             2190\n",
       "           Apoyo            2\n",
       "           Comentario       3\n",
       "Name: id_str, dtype: int64"
      ]
     },
     "execution_count": 55,
     "metadata": {},
     "output_type": "execute_result"
    }
   ],
   "source": [
    "central_users.groupby(by=['user.id','sentiment']).id_str.count()"
   ]
  },
  {
   "cell_type": "markdown",
   "metadata": {},
   "source": [
    "\n",
    "Son usuarios con muchos tweets, de hecho el 73102744 que está en tercer lugar en casi todas las medidas de centralidad es el que más tuits publicó. No se puede decir nada sobre sus sentimientos pues no están todos tageados.\n",
    "\n",
    "La gran mayoría de sus tuits son respuestas a otros usuarios"
   ]
  },
  {
   "cell_type": "code",
   "execution_count": 56,
   "metadata": {},
   "outputs": [],
   "source": [
    "df1 = df.fillna(0).groupby(by=['user.id']).id_str.count()"
   ]
  },
  {
   "cell_type": "code",
   "execution_count": 57,
   "metadata": {},
   "outputs": [
    {
     "data": {
      "text/plain": [
       "user.id\n",
       "73102744               2195\n",
       "252168075              1953\n",
       "130979339              1061\n",
       "2687724840              893\n",
       "367933714               782\n",
       "1077176953              410\n",
       "593189095               403\n",
       "312708081               290\n",
       "3015178264              289\n",
       "1273799426348331012     254\n",
       "931564592328781824      243\n",
       "956981248299282432      220\n",
       "144929758               205\n",
       "35680704                171\n",
       "4343677427              167\n",
       "Name: id_str, dtype: int64"
      ]
     },
     "execution_count": 57,
     "metadata": {},
     "output_type": "execute_result"
    }
   ],
   "source": [
    "df1.sort_values( ascending=False).head(15)"
   ]
  },
  {
   "cell_type": "code",
   "execution_count": 58,
   "metadata": {},
   "outputs": [
    {
     "data": {
      "text/html": [
       "<div>\n",
       "<style scoped>\n",
       "    .dataframe tbody tr th:only-of-type {\n",
       "        vertical-align: middle;\n",
       "    }\n",
       "\n",
       "    .dataframe tbody tr th {\n",
       "        vertical-align: top;\n",
       "    }\n",
       "\n",
       "    .dataframe thead th {\n",
       "        text-align: right;\n",
       "    }\n",
       "</style>\n",
       "<table border=\"1\" class=\"dataframe\">\n",
       "  <thead>\n",
       "    <tr style=\"text-align: right;\">\n",
       "      <th></th>\n",
       "      <th>created_at</th>\n",
       "      <th>id_str</th>\n",
       "      <th>full_text</th>\n",
       "      <th>in_reply_to_status_id</th>\n",
       "      <th>in_reply_to_user_id</th>\n",
       "      <th>user.id</th>\n",
       "      <th>user_retweeters</th>\n",
       "      <th>sentiment</th>\n",
       "    </tr>\n",
       "  </thead>\n",
       "  <tbody>\n",
       "    <tr>\n",
       "      <th>39</th>\n",
       "      <td>Sun Feb 28 23:51:37 +0000 2021</td>\n",
       "      <td>1366174247425556483</td>\n",
       "      <td>Argentina tiene hoy casi 18 muertos por millón...</td>\n",
       "      <td>NaN</td>\n",
       "      <td>NaN</td>\n",
       "      <td>73102744</td>\n",
       "      <td>[178105343, 2644056245, 4196856351, 215547565,...</td>\n",
       "      <td>NaN</td>\n",
       "    </tr>\n",
       "    <tr>\n",
       "      <th>107</th>\n",
       "      <td>Mon Mar 01 05:09:45 +0000 2021</td>\n",
       "      <td>1366254308426207232</td>\n",
       "      <td>@arroadri Inevitable a menos que se aceleren l...</td>\n",
       "      <td>1366218359730241543</td>\n",
       "      <td>171893542</td>\n",
       "      <td>73102744</td>\n",
       "      <td>[1083825689848135680]</td>\n",
       "      <td>NaN</td>\n",
       "    </tr>\n",
       "    <tr>\n",
       "      <th>111</th>\n",
       "      <td>Mon Mar 01 00:53:09 +0000 2021</td>\n",
       "      <td>1366189731235643394</td>\n",
       "      <td>@jadagui un rato, me cayeron los violentos</td>\n",
       "      <td>1366184037543460865</td>\n",
       "      <td>139058257</td>\n",
       "      <td>73102744</td>\n",
       "      <td>[]</td>\n",
       "      <td>NaN</td>\n",
       "    </tr>\n",
       "    <tr>\n",
       "      <th>114</th>\n",
       "      <td>Mon Mar 01 12:17:42 +0000 2021</td>\n",
       "      <td>1366362007063117827</td>\n",
       "      <td>@PTorricos Precisamente y cuidadosamente dije ...</td>\n",
       "      <td>1366357963099750404</td>\n",
       "      <td>1233442742312865792</td>\n",
       "      <td>73102744</td>\n",
       "      <td>[]</td>\n",
       "      <td>NaN</td>\n",
       "    </tr>\n",
       "    <tr>\n",
       "      <th>116</th>\n",
       "      <td>Mon Mar 01 02:43:39 +0000 2021</td>\n",
       "      <td>1366217542889598977</td>\n",
       "      <td>@Horacio86925173 Puse candado para evitar a lo...</td>\n",
       "      <td>1366185744574930944</td>\n",
       "      <td>1351278834147069953</td>\n",
       "      <td>73102744</td>\n",
       "      <td>[]</td>\n",
       "      <td>NaN</td>\n",
       "    </tr>\n",
       "    <tr>\n",
       "      <th>119</th>\n",
       "      <td>Mon Mar 01 00:05:53 +0000 2021</td>\n",
       "      <td>1366177838932631554</td>\n",
       "      <td>@cacerolapop 🥰</td>\n",
       "      <td>1366176472357101571</td>\n",
       "      <td>4497008602</td>\n",
       "      <td>73102744</td>\n",
       "      <td>[]</td>\n",
       "      <td>NaN</td>\n",
       "    </tr>\n",
       "    <tr>\n",
       "      <th>120</th>\n",
       "      <td>Mon Mar 01 03:32:38 +0000 2021</td>\n",
       "      <td>1366229867675664384</td>\n",
       "      <td>@musa_nancy ❤️</td>\n",
       "      <td>1366229748498718720</td>\n",
       "      <td>1873909063</td>\n",
       "      <td>73102744</td>\n",
       "      <td>[]</td>\n",
       "      <td>NaN</td>\n",
       "    </tr>\n",
       "    <tr>\n",
       "      <th>122</th>\n",
       "      <td>Mon Mar 01 03:49:05 +0000 2021</td>\n",
       "      <td>1366234007118225415</td>\n",
       "      <td>@musa_nancy Abrazo!</td>\n",
       "      <td>1366230372762218501</td>\n",
       "      <td>1873909063</td>\n",
       "      <td>73102744</td>\n",
       "      <td>[]</td>\n",
       "      <td>NaN</td>\n",
       "    </tr>\n",
       "    <tr>\n",
       "      <th>124</th>\n",
       "      <td>Mon Mar 01 00:51:33 +0000 2021</td>\n",
       "      <td>1366189329543032840</td>\n",
       "      <td>@vidal_aleta Se ve que no leiste nada, no te a...</td>\n",
       "      <td>1366186725341593601</td>\n",
       "      <td>984448926395793408</td>\n",
       "      <td>73102744</td>\n",
       "      <td>[]</td>\n",
       "      <td>NaN</td>\n",
       "    </tr>\n",
       "    <tr>\n",
       "      <th>128</th>\n",
       "      <td>Mon Mar 01 00:57:15 +0000 2021</td>\n",
       "      <td>1366190763625873415</td>\n",
       "      <td>@vidal_aleta No leíste el hilo completo y diji...</td>\n",
       "      <td>1366190098119860226</td>\n",
       "      <td>984448926395793408</td>\n",
       "      <td>73102744</td>\n",
       "      <td>[]</td>\n",
       "      <td>NaN</td>\n",
       "    </tr>\n",
       "  </tbody>\n",
       "</table>\n",
       "</div>"
      ],
      "text/plain": [
       "                         created_at               id_str  \\\n",
       "39   Sun Feb 28 23:51:37 +0000 2021  1366174247425556483   \n",
       "107  Mon Mar 01 05:09:45 +0000 2021  1366254308426207232   \n",
       "111  Mon Mar 01 00:53:09 +0000 2021  1366189731235643394   \n",
       "114  Mon Mar 01 12:17:42 +0000 2021  1366362007063117827   \n",
       "116  Mon Mar 01 02:43:39 +0000 2021  1366217542889598977   \n",
       "119  Mon Mar 01 00:05:53 +0000 2021  1366177838932631554   \n",
       "120  Mon Mar 01 03:32:38 +0000 2021  1366229867675664384   \n",
       "122  Mon Mar 01 03:49:05 +0000 2021  1366234007118225415   \n",
       "124  Mon Mar 01 00:51:33 +0000 2021  1366189329543032840   \n",
       "128  Mon Mar 01 00:57:15 +0000 2021  1366190763625873415   \n",
       "\n",
       "                                             full_text in_reply_to_status_id  \\\n",
       "39   Argentina tiene hoy casi 18 muertos por millón...                   NaN   \n",
       "107  @arroadri Inevitable a menos que se aceleren l...   1366218359730241543   \n",
       "111         @jadagui un rato, me cayeron los violentos   1366184037543460865   \n",
       "114  @PTorricos Precisamente y cuidadosamente dije ...   1366357963099750404   \n",
       "116  @Horacio86925173 Puse candado para evitar a lo...   1366185744574930944   \n",
       "119                                     @cacerolapop 🥰   1366176472357101571   \n",
       "120                                     @musa_nancy ❤️   1366229748498718720   \n",
       "122                                @musa_nancy Abrazo!   1366230372762218501   \n",
       "124  @vidal_aleta Se ve que no leiste nada, no te a...   1366186725341593601   \n",
       "128  @vidal_aleta No leíste el hilo completo y diji...   1366190098119860226   \n",
       "\n",
       "     in_reply_to_user_id   user.id  \\\n",
       "39                   NaN  73102744   \n",
       "107            171893542  73102744   \n",
       "111            139058257  73102744   \n",
       "114  1233442742312865792  73102744   \n",
       "116  1351278834147069953  73102744   \n",
       "119           4497008602  73102744   \n",
       "120           1873909063  73102744   \n",
       "122           1873909063  73102744   \n",
       "124   984448926395793408  73102744   \n",
       "128   984448926395793408  73102744   \n",
       "\n",
       "                                       user_retweeters sentiment  \n",
       "39   [178105343, 2644056245, 4196856351, 215547565,...       NaN  \n",
       "107                              [1083825689848135680]       NaN  \n",
       "111                                                 []       NaN  \n",
       "114                                                 []       NaN  \n",
       "116                                                 []       NaN  \n",
       "119                                                 []       NaN  \n",
       "120                                                 []       NaN  \n",
       "122                                                 []       NaN  \n",
       "124                                                 []       NaN  \n",
       "128                                                 []       NaN  "
      ]
     },
     "execution_count": 58,
     "metadata": {},
     "output_type": "execute_result"
    }
   ],
   "source": [
    "df[df['user.id'].isin(['73102744'])].head(10)"
   ]
  },
  {
   "cell_type": "markdown",
   "metadata": {},
   "source": [
    "Respecto al contenido de sus tuits podemos ver que en muchos casos son respuestas a otros usuarios, o a si mismos."
   ]
  },
  {
   "cell_type": "markdown",
   "metadata": {},
   "source": [
    "#### **3. Comunidades**\n",
    "\n",
    "Utilizar el algoritmo de Louvain con el parámetro \"resolución\" igual a 1. Caracterizar las comunidades halladas (cantidad, distribución de tamaños). Utilizar la modularidad y otras dos métricas a elección para evaluar la calidad de la partición encontrada. \n",
    "\n",
    "Variar el parámetro \"resolución\" y observar cómo cambia la distribución de comunidades encontradas. ¿Existe algún valor para el cual se identifiquen dos grandes comunidades?\n",
    "\n",
    "Elegir otro algoritmo de detección de comunidades y comparar los resultados con los obtenidos anteriormente.\n",
    "\n",
    "**Opcional:** Correr el algoritmo de Louvain con distintas semillas aleatorias. Utilizar alguna métrica de comparación externa entre las particiones obtenidas para determinar en qué medida depende el algoritmo de la condición inicial."
   ]
  },
  {
   "cell_type": "code",
   "execution_count": 59,
   "metadata": {},
   "outputs": [
    {
     "ename": "ModuleNotFoundError",
     "evalue": "No module named 'cdlib'",
     "output_type": "error",
     "traceback": [
      "\u001b[1;31m---------------------------------------------------------------------------\u001b[0m",
      "\u001b[1;31mModuleNotFoundError\u001b[0m                       Traceback (most recent call last)",
      "\u001b[1;32m<ipython-input-59-bf5cf331075d>\u001b[0m in \u001b[0;36m<module>\u001b[1;34m\u001b[0m\n\u001b[1;32m----> 1\u001b[1;33m \u001b[1;32mfrom\u001b[0m \u001b[0mcdlib\u001b[0m \u001b[1;32mimport\u001b[0m \u001b[0mNodeClustering\u001b[0m\u001b[1;33m,\u001b[0m \u001b[0mevaluation\u001b[0m\u001b[1;33m,\u001b[0m \u001b[0malgorithms\u001b[0m\u001b[1;33m\u001b[0m\u001b[1;33m\u001b[0m\u001b[0m\n\u001b[0m",
      "\u001b[1;31mModuleNotFoundError\u001b[0m: No module named 'cdlib'"
     ]
    }
   ],
   "source": [
    "from cdlib import NodeClustering, evaluation, algorithms\n"
   ]
  },
  {
   "cell_type": "code",
   "execution_count": 80,
   "metadata": {},
   "outputs": [
    {
     "ename": "NameError",
     "evalue": "name 'algorithms' is not defined",
     "output_type": "error",
     "traceback": [
      "\u001b[1;31m---------------------------------------------------------------------------\u001b[0m",
      "\u001b[1;31mNameError\u001b[0m                                 Traceback (most recent call last)",
      "\u001b[1;32m<ipython-input-80-422f2f273aeb>\u001b[0m in \u001b[0;36m<module>\u001b[1;34m\u001b[0m\n\u001b[0;32m      2\u001b[0m \u001b[0mcomms_dict\u001b[0m \u001b[1;33m=\u001b[0m \u001b[1;33m{\u001b[0m\u001b[1;33m}\u001b[0m\u001b[1;33m\u001b[0m\u001b[1;33m\u001b[0m\u001b[0m\n\u001b[0;32m      3\u001b[0m \u001b[1;32mfor\u001b[0m \u001b[0mresolution\u001b[0m \u001b[1;32min\u001b[0m \u001b[0mresolutions\u001b[0m\u001b[1;33m:\u001b[0m\u001b[1;33m\u001b[0m\u001b[1;33m\u001b[0m\u001b[0m\n\u001b[1;32m----> 4\u001b[1;33m     \u001b[0mcomms\u001b[0m \u001b[1;33m=\u001b[0m \u001b[0malgorithms\u001b[0m\u001b[1;33m.\u001b[0m\u001b[0mlouvain\u001b[0m\u001b[1;33m(\u001b[0m\u001b[0mG\u001b[0m\u001b[1;33m,\u001b[0m \u001b[0mweight\u001b[0m\u001b[1;33m=\u001b[0m\u001b[1;34m'weight'\u001b[0m\u001b[1;33m,\u001b[0m \u001b[0mresolution\u001b[0m\u001b[1;33m=\u001b[0m\u001b[0mresolution\u001b[0m\u001b[1;33m,\u001b[0m \u001b[0mrandomize\u001b[0m\u001b[1;33m=\u001b[0m\u001b[1;32mFalse\u001b[0m\u001b[1;33m)\u001b[0m\u001b[1;33m\u001b[0m\u001b[1;33m\u001b[0m\u001b[0m\n\u001b[0m\u001b[0;32m      5\u001b[0m     \u001b[0mcomms_dict\u001b[0m\u001b[1;33m[\u001b[0m\u001b[0mresolution\u001b[0m\u001b[1;33m]\u001b[0m \u001b[1;33m=\u001b[0m \u001b[0mcomms\u001b[0m\u001b[1;33m\u001b[0m\u001b[1;33m\u001b[0m\u001b[0m\n\u001b[0;32m      6\u001b[0m \u001b[1;33m\u001b[0m\u001b[0m\n",
      "\u001b[1;31mNameError\u001b[0m: name 'algorithms' is not defined"
     ]
    }
   ],
   "source": [
    "resolutions = [0.1, 1, 10]\n",
    "comms_dict = {}\n",
    "for resolution in resolutions:\n",
    "    comms = algorithms.louvain(G, weight='weight', resolution=resolution, randomize=False)\n",
    "    comms_dict[resolution] = comms \n",
    "\n"
   ]
  },
  {
   "cell_type": "markdown",
   "metadata": {},
   "source": [
    "*Modularidad* Diferenciar la fracción de bordes intracomunitarios de una partición con el número esperado de tales bordes si se distribuye de acuerdo con un modelo nulo."
   ]
  },
  {
   "cell_type": "code",
   "execution_count": null,
   "metadata": {},
   "outputs": [],
   "source": [
    "print('Comunidades encontradas:', evaluation.newman_girvan_modularity(G, comms_dict[0.1]))\n",
    "print('Comunidades encontradas:', evaluation.newman_girvan_modularity(G, comms_dict[1]))\n",
    "print('Comunidades encontradas:', evaluation.newman_girvan_modularity(G, comms_dict[10]))"
   ]
  },
  {
   "cell_type": "markdown",
   "metadata": {},
   "source": [
    "Con distintas resoluciones, la medida de modularidad aumenta, pero no linealmente."
   ]
  },
  {
   "cell_type": "markdown",
   "metadata": {},
   "source": [
    "*Indice de corte* El ratio de nodos en el borde de la comunidad."
   ]
  },
  {
   "cell_type": "code",
   "execution_count": null,
   "metadata": {},
   "outputs": [],
   "source": [
    "print('Comunidades encontradas:', evaluation.cut_ratio(G, comms_dict[0.1]))\n",
    "print('Comunidades encontradas:', evaluation.cut_ratio(G, comms_dict[1]))\n",
    "print('Comunidades encontradas:', evaluation.cut_ratio(G, comms_dict[10]))"
   ]
  },
  {
   "cell_type": "markdown",
   "metadata": {},
   "source": [
    "En todos los casos el mínimo de nodos es el mismo, y es máximo cuando resolution es 1."
   ]
  },
  {
   "cell_type": "markdown",
   "metadata": {},
   "source": [
    "*Densidad interna* Densidad de nodos internos"
   ]
  },
  {
   "cell_type": "code",
   "execution_count": null,
   "metadata": {},
   "outputs": [],
   "source": [
    "print('Comunidades encontradas:', evaluation.internal_edge_density(G, comms_dict[0.1]))\n",
    "print('Comunidades encontradas:', evaluation.internal_edge_density(G, comms_dict[1]))\n",
    "print('Comunidades encontradas:', evaluation.internal_edge_density(G, comms_dict[10]))"
   ]
  },
  {
   "cell_type": "markdown",
   "metadata": {},
   "source": [
    "La densidad es mayor cuanto más grandes son las comunidades. Y la densidad interna indica que las comunidades son mas robustas cuanto mas grandes."
   ]
  },
  {
   "cell_type": "markdown",
   "metadata": {},
   "source": [
    "### Label propagation"
   ]
  },
  {
   "cell_type": "code",
   "execution_count": null,
   "metadata": {},
   "outputs": [],
   "source": [
    "def get_communidades_cdlib(communidades):\n",
    "\n",
    "    comm = communidades.communities\n",
    "    \n",
    "    values = [] \n",
    "\n",
    "    for value in comm:\n",
    "\n",
    "        values.append([value , len(value) ])\n",
    "        df = pd.DataFrame(values, columns = [ 'miembros' , 'cantidad'])\n",
    "\n",
    "    return df"
   ]
  },
  {
   "cell_type": "code",
   "execution_count": null,
   "metadata": {},
   "outputs": [],
   "source": [
    "lp= algorithms.label_propagation(G)"
   ]
  },
  {
   "cell_type": "code",
   "execution_count": null,
   "metadata": {},
   "outputs": [],
   "source": [
    "len(lp.communities)\n"
   ]
  },
  {
   "cell_type": "code",
   "execution_count": null,
   "metadata": {},
   "outputs": [],
   "source": [
    "df = get_communidades_cdlib(lp)\n",
    "sorted_df = df.sort_values(axis=0, by=['cantidad'] , ascending=False)\n",
    "sorted_df[:10]"
   ]
  },
  {
   "cell_type": "markdown",
   "metadata": {},
   "source": [
    "Con label propagation se encontraron 1039 comunidades con tamaños muy variables."
   ]
  },
  {
   "cell_type": "code",
   "execution_count": null,
   "metadata": {},
   "outputs": [],
   "source": [
    "evaluation.internal_edge_density(G,lp )\n"
   ]
  },
  {
   "cell_type": "markdown",
   "metadata": {},
   "source": [
    "Se recalcula Louvain"
   ]
  },
  {
   "cell_type": "code",
   "execution_count": null,
   "metadata": {},
   "outputs": [],
   "source": [
    "comms = algorithms.louvain(G, resolution=2, randomize=False)\n",
    "comm_df = pd.DataFrame({\n",
    "    \"communities\": comms.communities,\n",
    "    \"comm_id\": np.arange(0, len(comms.communities))\n",
    "})\n",
    "comm_df = comm_df.assign(comm_size=comm_df[\"communities\"].apply(lambda c: len(c)))\n",
    "comm_df.to_csv('comm_df.csv')"
   ]
  },
  {
   "cell_type": "markdown",
   "metadata": {},
   "source": [
    "Según la medida de densidad interna las comunidades encontradas son buenas."
   ]
  },
  {
   "cell_type": "markdown",
   "metadata": {
    "tags": []
   },
   "source": [
    "## Segunda parte\n",
    "\n",
    "### **4. Extracción de etiquetas**\n",
    "\n",
    "En el archivo [etiquetas.csv](https://drive.google.com/file/d/1LWY3VoIRt0xKwEbbtMXYePOGZvgPsQh-/view?usp=sharing) están las etiquetas para un pequeño subconjunto de nodos. Podemos interpretar el valor de la etiqueta como la pertenencia a una determinada clase, donde los usuarios de una misma clase en general tienden a expresar apoyo entre sí.\n",
    "\n",
    "- Determinar quiénes son los usuarios referentes de cada clase (utilizar alguna medida de centralidad calculada sobre el grafo de retweets).\n",
    "- Utiliando los resultados del práctico anterior, determinar si los usuarios de cada clase forman parte de distintas comunidades.\n",
    "\n",
    "**Opcional:** Reconstruir el archivo \"etiquetas.csv\". Para eso, hacer lo siguiente\n",
    "\n",
    "- Construir un grafo en donde los nodos sean usuarios, y donde los enlaces unan dos nodos si entre ellos hubo más respuestas de apoyo que de oposición.\n",
    "- Extraer las dos componentes más grandes del grafo. Esos serán nuestros nodos etiquetados."
   ]
  },
  {
   "cell_type": "code",
   "execution_count": null,
   "metadata": {},
   "outputs": [],
   "source": [
    "import pandas as pd\n",
    "import numpy as np\n",
    "import seaborn as sn\n",
    "import matplotlib.pyplot as plt\n",
    "import math\n",
    "import igraph as ig\n",
    "import networkx as nx\n",
    "import pickle\n",
    "\n",
    "from nltk import (corpus, tokenize, download)\n",
    "from wordcloud import WordCloud, STOPWORDS, ImageColorGenerator\n",
    "download(\"stopwords\")\n",
    "download('punkt')"
   ]
  },
  {
   "cell_type": "code",
   "execution_count": 60,
   "metadata": {},
   "outputs": [],
   "source": [
    "DATASET_FILE = \"etiquetas.csv\"\n",
    "\n",
    "dtypes = {\n",
    "    'id_str': str,\n",
    "    'full_text': str,\n",
    "    'in_reply_to_status_id': str,\n",
    "    'in_reply_to_user_id': str,\n",
    "    'user.id': str}\n",
    "    \n",
    "df_etiq = pd.read_csv(DATASET_FILE, dtype=dtypes)\n",
    "df_etiq= df_etiq.rename(columns={'user.id':'user'})"
   ]
  },
  {
   "cell_type": "code",
   "execution_count": 61,
   "metadata": {},
   "outputs": [
    {
     "data": {
      "text/plain": [
       "0    107\n",
       "1     89\n",
       "Name: Clase, dtype: int64"
      ]
     },
     "execution_count": 61,
     "metadata": {},
     "output_type": "execute_result"
    }
   ],
   "source": [
    "df_etiq.Clase.value_counts()"
   ]
  },
  {
   "cell_type": "code",
   "execution_count": 62,
   "metadata": {},
   "outputs": [
    {
     "data": {
      "text/html": [
       "<div>\n",
       "<style scoped>\n",
       "    .dataframe tbody tr th:only-of-type {\n",
       "        vertical-align: middle;\n",
       "    }\n",
       "\n",
       "    .dataframe tbody tr th {\n",
       "        vertical-align: top;\n",
       "    }\n",
       "\n",
       "    .dataframe thead th {\n",
       "        text-align: right;\n",
       "    }\n",
       "</style>\n",
       "<table border=\"1\" class=\"dataframe\">\n",
       "  <thead>\n",
       "    <tr style=\"text-align: right;\">\n",
       "      <th></th>\n",
       "      <th>user</th>\n",
       "      <th>Clase</th>\n",
       "    </tr>\n",
       "  </thead>\n",
       "  <tbody>\n",
       "    <tr>\n",
       "      <th>0</th>\n",
       "      <td>1227432088925851650</td>\n",
       "      <td>0</td>\n",
       "    </tr>\n",
       "    <tr>\n",
       "      <th>1</th>\n",
       "      <td>1148843472</td>\n",
       "      <td>0</td>\n",
       "    </tr>\n",
       "    <tr>\n",
       "      <th>2</th>\n",
       "      <td>1329815581302853632</td>\n",
       "      <td>0</td>\n",
       "    </tr>\n",
       "    <tr>\n",
       "      <th>3</th>\n",
       "      <td>131669966</td>\n",
       "      <td>0</td>\n",
       "    </tr>\n",
       "    <tr>\n",
       "      <th>4</th>\n",
       "      <td>811607948</td>\n",
       "      <td>0</td>\n",
       "    </tr>\n",
       "    <tr>\n",
       "      <th>...</th>\n",
       "      <td>...</td>\n",
       "      <td>...</td>\n",
       "    </tr>\n",
       "    <tr>\n",
       "      <th>191</th>\n",
       "      <td>15750760</td>\n",
       "      <td>1</td>\n",
       "    </tr>\n",
       "    <tr>\n",
       "      <th>192</th>\n",
       "      <td>882731195834003457</td>\n",
       "      <td>1</td>\n",
       "    </tr>\n",
       "    <tr>\n",
       "      <th>193</th>\n",
       "      <td>164350783</td>\n",
       "      <td>1</td>\n",
       "    </tr>\n",
       "    <tr>\n",
       "      <th>194</th>\n",
       "      <td>1249892637085237258</td>\n",
       "      <td>1</td>\n",
       "    </tr>\n",
       "    <tr>\n",
       "      <th>195</th>\n",
       "      <td>825886716808556545</td>\n",
       "      <td>1</td>\n",
       "    </tr>\n",
       "  </tbody>\n",
       "</table>\n",
       "<p>196 rows × 2 columns</p>\n",
       "</div>"
      ],
      "text/plain": [
       "                    user  Clase\n",
       "0    1227432088925851650      0\n",
       "1             1148843472      0\n",
       "2    1329815581302853632      0\n",
       "3              131669966      0\n",
       "4              811607948      0\n",
       "..                   ...    ...\n",
       "191             15750760      1\n",
       "192   882731195834003457      1\n",
       "193            164350783      1\n",
       "194  1249892637085237258      1\n",
       "195   825886716808556545      1\n",
       "\n",
       "[196 rows x 2 columns]"
      ]
     },
     "execution_count": 62,
     "metadata": {},
     "output_type": "execute_result"
    }
   ],
   "source": [
    "df_etiq"
   ]
  },
  {
   "cell_type": "code",
   "execution_count": 70,
   "metadata": {},
   "outputs": [],
   "source": [
    "df_etiq = pd.merge(df_etiq, df_metrics, left_on='user', right_on='name', how='left')\n",
    "df_etiq= df_etiq.dropna()"
   ]
  },
  {
   "cell_type": "code",
   "execution_count": 71,
   "metadata": {},
   "outputs": [
    {
     "data": {
      "text/plain": [
       "0    94\n",
       "1    89\n",
       "Name: Clase, dtype: int64"
      ]
     },
     "execution_count": 71,
     "metadata": {},
     "output_type": "execute_result"
    }
   ],
   "source": [
    "df_etiq.Clase.value_counts()"
   ]
  },
  {
   "cell_type": "code",
   "execution_count": 72,
   "metadata": {},
   "outputs": [
    {
     "data": {
      "text/html": [
       "<div>\n",
       "<style scoped>\n",
       "    .dataframe tbody tr th:only-of-type {\n",
       "        vertical-align: middle;\n",
       "    }\n",
       "\n",
       "    .dataframe tbody tr th {\n",
       "        vertical-align: top;\n",
       "    }\n",
       "\n",
       "    .dataframe thead th {\n",
       "        text-align: right;\n",
       "    }\n",
       "</style>\n",
       "<table border=\"1\" class=\"dataframe\">\n",
       "  <thead>\n",
       "    <tr style=\"text-align: right;\">\n",
       "      <th></th>\n",
       "      <th>user</th>\n",
       "      <th>Clase</th>\n",
       "      <th>created_at</th>\n",
       "      <th>id_str</th>\n",
       "      <th>full_text</th>\n",
       "      <th>in_reply_to_status_id</th>\n",
       "      <th>in_reply_to_user_id</th>\n",
       "      <th>user.id</th>\n",
       "      <th>user_retweeters</th>\n",
       "      <th>sentiment</th>\n",
       "      <th>name</th>\n",
       "      <th>btw</th>\n",
       "      <th>st</th>\n",
       "      <th>closeness</th>\n",
       "      <th>degree</th>\n",
       "      <th>eigenvector_centrality</th>\n",
       "      <th>page_rank</th>\n",
       "      <th>har_centr</th>\n",
       "    </tr>\n",
       "  </thead>\n",
       "  <tbody>\n",
       "    <tr>\n",
       "      <th>2</th>\n",
       "      <td>1329815581302853632</td>\n",
       "      <td>0</td>\n",
       "      <td>Mon Feb 01 03:41:14 +0000 2021</td>\n",
       "      <td>1356085171875958790</td>\n",
       "      <td>@spitta1969 @IrisScarpinelli Ah joder, derechi...</td>\n",
       "      <td>1355984123261820938</td>\n",
       "      <td>252168075</td>\n",
       "      <td>1329815581302853632</td>\n",
       "      <td>[]</td>\n",
       "      <td>Apoyo</td>\n",
       "      <td>1329815581302853632</td>\n",
       "      <td>0.000000</td>\n",
       "      <td>1.0</td>\n",
       "      <td>0.281730</td>\n",
       "      <td>1.0</td>\n",
       "      <td>0.007390</td>\n",
       "      <td>0.000008</td>\n",
       "      <td>0.302770</td>\n",
       "    </tr>\n",
       "    <tr>\n",
       "      <th>4</th>\n",
       "      <td>811607948</td>\n",
       "      <td>0</td>\n",
       "      <td>Sun Feb 07 23:39:35 +0000 2021</td>\n",
       "      <td>1358561072039526400</td>\n",
       "      <td>@spitta1969 La épica del contrafáctico 🤦‍♂️</td>\n",
       "      <td>1358556988423176192</td>\n",
       "      <td>252168075</td>\n",
       "      <td>811607948</td>\n",
       "      <td>[]</td>\n",
       "      <td>Apoyo</td>\n",
       "      <td>811607948</td>\n",
       "      <td>84.061668</td>\n",
       "      <td>5.0</td>\n",
       "      <td>0.299659</td>\n",
       "      <td>5.0</td>\n",
       "      <td>0.008352</td>\n",
       "      <td>0.000019</td>\n",
       "      <td>0.318728</td>\n",
       "    </tr>\n",
       "    <tr>\n",
       "      <th>5</th>\n",
       "      <td>811960507829800960</td>\n",
       "      <td>0</td>\n",
       "      <td>Thu Jan 14 11:16:04 +0000 2021</td>\n",
       "      <td>1349676652473819136</td>\n",
       "      <td>@spitta1969 Pero porque nos empecinamos en lla...</td>\n",
       "      <td>1349375492076535808</td>\n",
       "      <td>252168075</td>\n",
       "      <td>811960507829800960</td>\n",
       "      <td>[]</td>\n",
       "      <td>Apoyo</td>\n",
       "      <td>811960507829800960</td>\n",
       "      <td>39225.262366</td>\n",
       "      <td>7.0</td>\n",
       "      <td>0.240540</td>\n",
       "      <td>7.0</td>\n",
       "      <td>0.000688</td>\n",
       "      <td>0.000031</td>\n",
       "      <td>0.247890</td>\n",
       "    </tr>\n",
       "    <tr>\n",
       "      <th>6</th>\n",
       "      <td>3108851163</td>\n",
       "      <td>0</td>\n",
       "      <td>Wed Jan 20 23:28:04 +0000 2021</td>\n",
       "      <td>1352035194539274254</td>\n",
       "      <td>@spitta1969 El Anmat autorizo el suero equino ...</td>\n",
       "      <td>1352021671612456961</td>\n",
       "      <td>252168075</td>\n",
       "      <td>3108851163</td>\n",
       "      <td>[1303185099974942720, 2288939745, 1372493378, ...</td>\n",
       "      <td>Apoyo</td>\n",
       "      <td>3108851163</td>\n",
       "      <td>87364.145848</td>\n",
       "      <td>41.0</td>\n",
       "      <td>0.310966</td>\n",
       "      <td>41.0</td>\n",
       "      <td>0.013261</td>\n",
       "      <td>0.000134</td>\n",
       "      <td>0.329604</td>\n",
       "    </tr>\n",
       "    <tr>\n",
       "      <th>7</th>\n",
       "      <td>34811840</td>\n",
       "      <td>0</td>\n",
       "      <td>Mon Feb 01 21:37:59 +0000 2021</td>\n",
       "      <td>1356356145523392517</td>\n",
       "      <td>@spitta1969 Cuantos $$$ vale tu reputación y t...</td>\n",
       "      <td>1356256145145548802</td>\n",
       "      <td>252168075</td>\n",
       "      <td>34811840</td>\n",
       "      <td>[]</td>\n",
       "      <td>Apoyo</td>\n",
       "      <td>34811840</td>\n",
       "      <td>0.000000</td>\n",
       "      <td>1.0</td>\n",
       "      <td>0.256288</td>\n",
       "      <td>1.0</td>\n",
       "      <td>0.000225</td>\n",
       "      <td>0.000007</td>\n",
       "      <td>0.259117</td>\n",
       "    </tr>\n",
       "    <tr>\n",
       "      <th>...</th>\n",
       "      <td>...</td>\n",
       "      <td>...</td>\n",
       "      <td>...</td>\n",
       "      <td>...</td>\n",
       "      <td>...</td>\n",
       "      <td>...</td>\n",
       "      <td>...</td>\n",
       "      <td>...</td>\n",
       "      <td>...</td>\n",
       "      <td>...</td>\n",
       "      <td>...</td>\n",
       "      <td>...</td>\n",
       "      <td>...</td>\n",
       "      <td>...</td>\n",
       "      <td>...</td>\n",
       "      <td>...</td>\n",
       "      <td>...</td>\n",
       "      <td>...</td>\n",
       "    </tr>\n",
       "    <tr>\n",
       "      <th>220</th>\n",
       "      <td>997060027147055104</td>\n",
       "      <td>1</td>\n",
       "      <td>Sun Mar 07 09:25:04 +0000 2021</td>\n",
       "      <td>1368492886380187648</td>\n",
       "      <td>@ernestorr No nos olvidamos pedazo de sorete h...</td>\n",
       "      <td>1368374365956538370</td>\n",
       "      <td>73102744</td>\n",
       "      <td>997060027147055104</td>\n",
       "      <td>[]</td>\n",
       "      <td>Apoyo</td>\n",
       "      <td>997060027147055104</td>\n",
       "      <td>4.228002</td>\n",
       "      <td>2.0</td>\n",
       "      <td>0.233815</td>\n",
       "      <td>2.0</td>\n",
       "      <td>0.000194</td>\n",
       "      <td>0.000013</td>\n",
       "      <td>0.240751</td>\n",
       "    </tr>\n",
       "    <tr>\n",
       "      <th>222</th>\n",
       "      <td>1183974626</td>\n",
       "      <td>1</td>\n",
       "      <td>Sat Mar 06 21:52:52 +0000 2021</td>\n",
       "      <td>1368318691792797698</td>\n",
       "      <td>@ernestorr @LANACION Hay que pegarle al chanch...</td>\n",
       "      <td>1368314581592981505</td>\n",
       "      <td>73102744</td>\n",
       "      <td>1183974626</td>\n",
       "      <td>[]</td>\n",
       "      <td>Apoyo</td>\n",
       "      <td>1183974626</td>\n",
       "      <td>22129.824556</td>\n",
       "      <td>8.0</td>\n",
       "      <td>0.329796</td>\n",
       "      <td>8.0</td>\n",
       "      <td>0.036212</td>\n",
       "      <td>0.000040</td>\n",
       "      <td>0.353427</td>\n",
       "    </tr>\n",
       "    <tr>\n",
       "      <th>223</th>\n",
       "      <td>15750760</td>\n",
       "      <td>1</td>\n",
       "      <td>Sat Feb 06 16:55:07 +0000 2021</td>\n",
       "      <td>1358096900235395079</td>\n",
       "      <td>@ernestorr Acá los ignorantes dicen que dos pa...</td>\n",
       "      <td>1358094824239464453</td>\n",
       "      <td>73102744</td>\n",
       "      <td>15750760</td>\n",
       "      <td>[1218297326709723136]</td>\n",
       "      <td>Apoyo</td>\n",
       "      <td>15750760</td>\n",
       "      <td>0.000000</td>\n",
       "      <td>1.0</td>\n",
       "      <td>0.252714</td>\n",
       "      <td>1.0</td>\n",
       "      <td>0.000310</td>\n",
       "      <td>0.000008</td>\n",
       "      <td>0.258294</td>\n",
       "    </tr>\n",
       "    <tr>\n",
       "      <th>224</th>\n",
       "      <td>882731195834003457</td>\n",
       "      <td>1</td>\n",
       "      <td>Sun Mar 07 13:49:59 +0000 2021</td>\n",
       "      <td>1368559556733902852</td>\n",
       "      <td>@ernestorr @LANACION Y quitaron vacuna del cal...</td>\n",
       "      <td>1368314581592981505</td>\n",
       "      <td>73102744</td>\n",
       "      <td>882731195834003457</td>\n",
       "      <td>[]</td>\n",
       "      <td>Apoyo</td>\n",
       "      <td>882731195834003457</td>\n",
       "      <td>0.000000</td>\n",
       "      <td>1.0</td>\n",
       "      <td>0.260124</td>\n",
       "      <td>1.0</td>\n",
       "      <td>0.000498</td>\n",
       "      <td>0.000008</td>\n",
       "      <td>0.264777</td>\n",
       "    </tr>\n",
       "    <tr>\n",
       "      <th>225</th>\n",
       "      <td>1249892637085237258</td>\n",
       "      <td>1</td>\n",
       "      <td>Wed Feb 03 03:47:13 +0000 2021</td>\n",
       "      <td>1356811453261578242</td>\n",
       "      <td>@ernestorr que sabrá de las ramas de ciencias ...</td>\n",
       "      <td>1356758801202905088</td>\n",
       "      <td>73102744</td>\n",
       "      <td>1249892637085237258</td>\n",
       "      <td>[]</td>\n",
       "      <td>Apoyo</td>\n",
       "      <td>1249892637085237258</td>\n",
       "      <td>19632.896413</td>\n",
       "      <td>5.0</td>\n",
       "      <td>0.299836</td>\n",
       "      <td>5.0</td>\n",
       "      <td>0.001774</td>\n",
       "      <td>0.000022</td>\n",
       "      <td>0.302182</td>\n",
       "    </tr>\n",
       "  </tbody>\n",
       "</table>\n",
       "<p>183 rows × 18 columns</p>\n",
       "</div>"
      ],
      "text/plain": [
       "                    user  Clase                      created_at  \\\n",
       "2    1329815581302853632      0  Mon Feb 01 03:41:14 +0000 2021   \n",
       "4              811607948      0  Sun Feb 07 23:39:35 +0000 2021   \n",
       "5     811960507829800960      0  Thu Jan 14 11:16:04 +0000 2021   \n",
       "6             3108851163      0  Wed Jan 20 23:28:04 +0000 2021   \n",
       "7               34811840      0  Mon Feb 01 21:37:59 +0000 2021   \n",
       "..                   ...    ...                             ...   \n",
       "220   997060027147055104      1  Sun Mar 07 09:25:04 +0000 2021   \n",
       "222           1183974626      1  Sat Mar 06 21:52:52 +0000 2021   \n",
       "223             15750760      1  Sat Feb 06 16:55:07 +0000 2021   \n",
       "224   882731195834003457      1  Sun Mar 07 13:49:59 +0000 2021   \n",
       "225  1249892637085237258      1  Wed Feb 03 03:47:13 +0000 2021   \n",
       "\n",
       "                  id_str                                          full_text  \\\n",
       "2    1356085171875958790  @spitta1969 @IrisScarpinelli Ah joder, derechi...   \n",
       "4    1358561072039526400        @spitta1969 La épica del contrafáctico 🤦‍♂️   \n",
       "5    1349676652473819136  @spitta1969 Pero porque nos empecinamos en lla...   \n",
       "6    1352035194539274254  @spitta1969 El Anmat autorizo el suero equino ...   \n",
       "7    1356356145523392517  @spitta1969 Cuantos $$$ vale tu reputación y t...   \n",
       "..                   ...                                                ...   \n",
       "220  1368492886380187648  @ernestorr No nos olvidamos pedazo de sorete h...   \n",
       "222  1368318691792797698  @ernestorr @LANACION Hay que pegarle al chanch...   \n",
       "223  1358096900235395079  @ernestorr Acá los ignorantes dicen que dos pa...   \n",
       "224  1368559556733902852  @ernestorr @LANACION Y quitaron vacuna del cal...   \n",
       "225  1356811453261578242  @ernestorr que sabrá de las ramas de ciencias ...   \n",
       "\n",
       "    in_reply_to_status_id in_reply_to_user_id              user.id  \\\n",
       "2     1355984123261820938           252168075  1329815581302853632   \n",
       "4     1358556988423176192           252168075            811607948   \n",
       "5     1349375492076535808           252168075   811960507829800960   \n",
       "6     1352021671612456961           252168075           3108851163   \n",
       "7     1356256145145548802           252168075             34811840   \n",
       "..                    ...                 ...                  ...   \n",
       "220   1368374365956538370            73102744   997060027147055104   \n",
       "222   1368314581592981505            73102744           1183974626   \n",
       "223   1358094824239464453            73102744             15750760   \n",
       "224   1368314581592981505            73102744   882731195834003457   \n",
       "225   1356758801202905088            73102744  1249892637085237258   \n",
       "\n",
       "                                       user_retweeters sentiment  \\\n",
       "2                                                   []     Apoyo   \n",
       "4                                                   []     Apoyo   \n",
       "5                                                   []     Apoyo   \n",
       "6    [1303185099974942720, 2288939745, 1372493378, ...     Apoyo   \n",
       "7                                                   []     Apoyo   \n",
       "..                                                 ...       ...   \n",
       "220                                                 []     Apoyo   \n",
       "222                                                 []     Apoyo   \n",
       "223                              [1218297326709723136]     Apoyo   \n",
       "224                                                 []     Apoyo   \n",
       "225                                                 []     Apoyo   \n",
       "\n",
       "                    name           btw    st  closeness  degree  \\\n",
       "2    1329815581302853632      0.000000   1.0   0.281730     1.0   \n",
       "4              811607948     84.061668   5.0   0.299659     5.0   \n",
       "5     811960507829800960  39225.262366   7.0   0.240540     7.0   \n",
       "6             3108851163  87364.145848  41.0   0.310966    41.0   \n",
       "7               34811840      0.000000   1.0   0.256288     1.0   \n",
       "..                   ...           ...   ...        ...     ...   \n",
       "220   997060027147055104      4.228002   2.0   0.233815     2.0   \n",
       "222           1183974626  22129.824556   8.0   0.329796     8.0   \n",
       "223             15750760      0.000000   1.0   0.252714     1.0   \n",
       "224   882731195834003457      0.000000   1.0   0.260124     1.0   \n",
       "225  1249892637085237258  19632.896413   5.0   0.299836     5.0   \n",
       "\n",
       "     eigenvector_centrality  page_rank  har_centr  \n",
       "2                  0.007390   0.000008   0.302770  \n",
       "4                  0.008352   0.000019   0.318728  \n",
       "5                  0.000688   0.000031   0.247890  \n",
       "6                  0.013261   0.000134   0.329604  \n",
       "7                  0.000225   0.000007   0.259117  \n",
       "..                      ...        ...        ...  \n",
       "220                0.000194   0.000013   0.240751  \n",
       "222                0.036212   0.000040   0.353427  \n",
       "223                0.000310   0.000008   0.258294  \n",
       "224                0.000498   0.000008   0.264777  \n",
       "225                0.001774   0.000022   0.302182  \n",
       "\n",
       "[183 rows x 18 columns]"
      ]
     },
     "execution_count": 72,
     "metadata": {},
     "output_type": "execute_result"
    }
   ],
   "source": [
    "df_etiq"
   ]
  },
  {
   "cell_type": "code",
   "execution_count": 73,
   "metadata": {},
   "outputs": [
    {
     "data": {
      "text/html": [
       "<div>\n",
       "<style scoped>\n",
       "    .dataframe tbody tr th:only-of-type {\n",
       "        vertical-align: middle;\n",
       "    }\n",
       "\n",
       "    .dataframe tbody tr th {\n",
       "        vertical-align: top;\n",
       "    }\n",
       "\n",
       "    .dataframe thead th {\n",
       "        text-align: right;\n",
       "    }\n",
       "</style>\n",
       "<table border=\"1\" class=\"dataframe\">\n",
       "  <thead>\n",
       "    <tr style=\"text-align: right;\">\n",
       "      <th></th>\n",
       "      <th>degree</th>\n",
       "      <th>eigenvector_centrality</th>\n",
       "      <th>page_rank</th>\n",
       "      <th>har_centr</th>\n",
       "      <th>btw</th>\n",
       "    </tr>\n",
       "  </thead>\n",
       "  <tbody>\n",
       "    <tr>\n",
       "      <th>0</th>\n",
       "      <td>252168075</td>\n",
       "      <td>252168075</td>\n",
       "      <td>252168075</td>\n",
       "      <td>252168075</td>\n",
       "      <td>252168075</td>\n",
       "    </tr>\n",
       "    <tr>\n",
       "      <th>1</th>\n",
       "      <td>252168075</td>\n",
       "      <td>252168075</td>\n",
       "      <td>252168075</td>\n",
       "      <td>252168075</td>\n",
       "      <td>252168075</td>\n",
       "    </tr>\n",
       "    <tr>\n",
       "      <th>2</th>\n",
       "      <td>252168075</td>\n",
       "      <td>252168075</td>\n",
       "      <td>252168075</td>\n",
       "      <td>252168075</td>\n",
       "      <td>252168075</td>\n",
       "    </tr>\n",
       "    <tr>\n",
       "      <th>3</th>\n",
       "      <td>252168075</td>\n",
       "      <td>252168075</td>\n",
       "      <td>252168075</td>\n",
       "      <td>252168075</td>\n",
       "      <td>252168075</td>\n",
       "    </tr>\n",
       "    <tr>\n",
       "      <th>4</th>\n",
       "      <td>252168075</td>\n",
       "      <td>252168075</td>\n",
       "      <td>252168075</td>\n",
       "      <td>252168075</td>\n",
       "      <td>252168075</td>\n",
       "    </tr>\n",
       "  </tbody>\n",
       "</table>\n",
       "</div>"
      ],
      "text/plain": [
       "      degree eigenvector_centrality  page_rank  har_centr        btw\n",
       "0  252168075              252168075  252168075  252168075  252168075\n",
       "1  252168075              252168075  252168075  252168075  252168075\n",
       "2  252168075              252168075  252168075  252168075  252168075\n",
       "3  252168075              252168075  252168075  252168075  252168075\n",
       "4  252168075              252168075  252168075  252168075  252168075"
      ]
     },
     "execution_count": 73,
     "metadata": {},
     "output_type": "execute_result"
    }
   ],
   "source": [
    "#Usuarios referentes de cada clase\n",
    "#Primero, clase 0\n",
    "columns=['degree','eigenvector_centrality','page_rank','har_centr', 'btw']\n",
    "data = {}\n",
    "for col in columns:\n",
    "    top_users = df_etiq[df_etiq['Clase'] == 0].nlargest(5, columns=[col])['user'].tolist()\n",
    "    data[col] = top_users\n",
    "pd.DataFrame(data)"
   ]
  },
  {
   "cell_type": "code",
   "execution_count": 75,
   "metadata": {},
   "outputs": [
    {
     "data": {
      "text/html": [
       "<div>\n",
       "<style scoped>\n",
       "    .dataframe tbody tr th:only-of-type {\n",
       "        vertical-align: middle;\n",
       "    }\n",
       "\n",
       "    .dataframe tbody tr th {\n",
       "        vertical-align: top;\n",
       "    }\n",
       "\n",
       "    .dataframe thead th {\n",
       "        text-align: right;\n",
       "    }\n",
       "</style>\n",
       "<table border=\"1\" class=\"dataframe\">\n",
       "  <thead>\n",
       "    <tr style=\"text-align: right;\">\n",
       "      <th></th>\n",
       "      <th>degree</th>\n",
       "      <th>eigenvector_centrality</th>\n",
       "      <th>page_rank</th>\n",
       "      <th>har_centr</th>\n",
       "      <th>btw</th>\n",
       "    </tr>\n",
       "  </thead>\n",
       "  <tbody>\n",
       "    <tr>\n",
       "      <th>0</th>\n",
       "      <td>73102744</td>\n",
       "      <td>73102744</td>\n",
       "      <td>73102744</td>\n",
       "      <td>73102744</td>\n",
       "      <td>73102744</td>\n",
       "    </tr>\n",
       "    <tr>\n",
       "      <th>1</th>\n",
       "      <td>73102744</td>\n",
       "      <td>73102744</td>\n",
       "      <td>73102744</td>\n",
       "      <td>73102744</td>\n",
       "      <td>73102744</td>\n",
       "    </tr>\n",
       "    <tr>\n",
       "      <th>2</th>\n",
       "      <td>73102744</td>\n",
       "      <td>73102744</td>\n",
       "      <td>73102744</td>\n",
       "      <td>73102744</td>\n",
       "      <td>73102744</td>\n",
       "    </tr>\n",
       "    <tr>\n",
       "      <th>3</th>\n",
       "      <td>73102744</td>\n",
       "      <td>73102744</td>\n",
       "      <td>73102744</td>\n",
       "      <td>73102744</td>\n",
       "      <td>73102744</td>\n",
       "    </tr>\n",
       "    <tr>\n",
       "      <th>4</th>\n",
       "      <td>73102744</td>\n",
       "      <td>73102744</td>\n",
       "      <td>73102744</td>\n",
       "      <td>73102744</td>\n",
       "      <td>73102744</td>\n",
       "    </tr>\n",
       "  </tbody>\n",
       "</table>\n",
       "</div>"
      ],
      "text/plain": [
       "     degree eigenvector_centrality page_rank har_centr       btw\n",
       "0  73102744               73102744  73102744  73102744  73102744\n",
       "1  73102744               73102744  73102744  73102744  73102744\n",
       "2  73102744               73102744  73102744  73102744  73102744\n",
       "3  73102744               73102744  73102744  73102744  73102744\n",
       "4  73102744               73102744  73102744  73102744  73102744"
      ]
     },
     "execution_count": 75,
     "metadata": {},
     "output_type": "execute_result"
    }
   ],
   "source": [
    "#Luego, vemos clase 1\n",
    "columns=['degree','eigenvector_centrality','page_rank','har_centr', 'btw']\n",
    "data = {}\n",
    "for col in columns:\n",
    "    top_users = df_etiq[df_etiq['Clase'] == 1].nlargest(5, columns=[col])['user'].tolist()\n",
    "    data[col] = top_users\n",
    "pd.DataFrame(data)"
   ]
  },
  {
   "cell_type": "code",
   "execution_count": 89,
   "metadata": {},
   "outputs": [],
   "source": [
    "comm_df = pd.read_csv('comm_df.csv')"
   ]
  },
  {
   "cell_type": "code",
   "execution_count": 101,
   "metadata": {},
   "outputs": [],
   "source": [
    "#Indentificar diferentes comunidades\n",
    "com_1 = (comm_df[\"communities\"][0])\n",
    "com_2 = (comm_df[\"communities\"][1])"
   ]
  },
  {
   "cell_type": "code",
   "execution_count": 91,
   "metadata": {},
   "outputs": [],
   "source": [
    "clase_0 = list(df_etiq[df_etiq['Clase'] == 0]['user'])\n",
    "clase_1 = list(df_etiq[df_etiq['Clase'] == 1]['user'])"
   ]
  },
  {
   "cell_type": "code",
   "execution_count": 105,
   "metadata": {},
   "outputs": [
    {
     "data": {
      "text/plain": [
       "86"
      ]
     },
     "execution_count": 105,
     "metadata": {},
     "output_type": "execute_result"
    }
   ],
   "source": [
    "#Q de usuarios de la clase 1 que están dentro de la comunidad 1\n",
    "len([x for x in clase_1 if x in com_1])"
   ]
  },
  {
   "cell_type": "code",
   "execution_count": 106,
   "metadata": {},
   "outputs": [
    {
     "data": {
      "text/plain": [
       "94"
      ]
     },
     "execution_count": 106,
     "metadata": {},
     "output_type": "execute_result"
    }
   ],
   "source": [
    "#Q de usuarios de la clase 0 que están dentro de la comunidad 2\n",
    "len([x for x in clase_0 if x in com_2])"
   ]
  },
  {
   "cell_type": "code",
   "execution_count": 107,
   "metadata": {},
   "outputs": [],
   "source": [
    "#Se exporta el df para ser utilizado en Ejercicio 5\n",
    "df_etiq.to_csv('etiq.csv')"
   ]
  },
  {
   "cell_type": "code",
   "execution_count": 110,
   "metadata": {
    "collapsed": true,
    "jupyter": {
     "outputs_hidden": true
    }
   },
   "outputs": [
    {
     "data": {
      "text/plain": [
       "\"['73102744', '178105343', '2644056245', '4196856351', '146536143', '1873762824', '110184114', '306513842', '1458246122', '1178090455927525383', '67175765', '402176767', '4618715801', '4340256801', '1290011392016351233', '727296065926496265', '850481701000237056', '4758703641', '1352733531630432256', '585205927', '1083825689848135680', '2612402816', '107442800', '2152001791', '791699809279287296', '312183888', '2780654617', '220457693', '1702761704', '434981389', '207217115', '158007051', '1038538969389182976', '3231977118', '186881299', '2434585328', '2662139235', '500269004', '2838925913', '450679943', '1183456464691707904', '1091857643298275328', '1110278617735589889', '712039945695862790', '3305130695', '826799015828275202', '574739820', '1959396680', '719331994665099264', '219979521', '955257133', '3399185962', '2536115590', '995474438031400960', '364517397', '1226291886517866496', '1062720837759815682', '4251243893', '152770378', '109567765', '624282243', '225285449', '381507284', '1065304987624980481', '836922686852956161', '1945618860', '1190318573861904385', '143773881', '815315055478788096', '4775222727', '198052013', '2768856442', '1155991028249313280', '157589057', '4496914043', '2989815711', '200540760', '845028124404436992', '366851605', '2384479764', '2224596615', '940667750162292736', '110325813', '932588769370427393', '2554662039', '716373545929064448', '1285717706545782785', '870845893150474242', '593228938', '842164257110278145', '193154088', '279127170', '3421061763', '3121939925', '146884525', '159916597', '288002651', '1303716133804142595', '935899801715138560', '440967655', '1206947878612217857', '603864949', '745019695074533376', '910959980341350402', '149402136', '919677972398960645', '373589831', '1244608041649086464', '167573633', '2891423547', '945473203111067648', '4352026996', '1327294614404014086', '1279280934219546624', '730033544999866368', '1163957624368521217', '138515245', '346308350', '851959851991392256', '715391920441196545', '4405043657', '903044413', '179305723', '2691725734', '2533109552', '942188943369490438', '892536648264798208', '920025221037527041', '2266607077', '1075809287987957760', '968210394', '2285364900', '1689198648', '726631311771852804', '889630770779877377', '1214369257141817346', '403141294', '1217056119077703680', '210093732', '840943277885030400', '143281052', '3296441443', '350446276', '831560484310626304', '770130524', '724762789743566848', '757790751279357956', '3462238936', '924692650372075521', '973989516649345024', '329943339', '2308816924', '1024664072', '837463774705614848', '28944606', '85651772', '958409198', '268382888', '80168901', '1160973218502586368', '408514983', '252572395', '187621580', '1283104701496594432', '191963043', '613783778', '1345769429951508486', '953615537107537921', '1241628280538763266', '917782406446354435', '4857717383', '839947911047819265', '1230229846552465410', '167939347', '910956876686381058', '886733270230216706', '131208277', '959033548379508736', '2389817672', '1146768235', '153927370', '719647313241731073', '382582233', '4874995306', '1124939622', '159465248', '367933714', '2601817933', '148829823', '125077217', '165342631', '3397285300', '1208173573698920449', '1170359442686259201', '4289437241', '149762941', '831707150938431489', '254146487', '1363179612', '1254587900290895872', '192749554', '1275313464718823424', '1238899033093128196', '897797321597046785', '151925423', '891804290737737728', '1187868912454717440', '28631631', '262127099', '1268528063941349377', '1049669440902782976', '1190391676822573058', '342771627', '713923104989388800', '1005621888', '2968944550', '139058257', '139770179', '1098564762521255936', '197776311', '830420891091759105', '4160276589', '212810052', '4915383249', '3099190497', '2936992948', '1140816715930099712', '844027202173898752', '888917884663197696', '1260373554421432328', '468166131', '2954087331', '130979339', '131329344', '2826122264', '273180114', '226561190', '36005149', '1107297680215207936', '1032043587247243265', '976699508', '556502838', '179673885', '234854149', '160062469', '319594285', '2567927971', '743153532438745088', '4078975647', '3419991129', '227861707', '164871823', '18735088', '1304524314830663682', '887860616815398913', '2828897977', '1253799791945035776', '187344626', '713013732490784769', '3701265555', '4376481495', '965260602519277569', '146525576', '488643911', '1210368056020656133', '138387736', '208614492', '1116405885226688512', '288383170', '128180368', '15899435', '281306081', '744104941', '58861810', '127045367', '3082091529', '102778527', '2687724840', '889693274', '1069312267412475904', '3098220929', '2308807824', '4705254252', '186427735', '167342139', '3893850623', '3411478462', '186575459', '1008724720135606272', '162205249', '1011347940', '119576203', '136102395', '941119495782961152', '2795726721', '1241413268062773249', '280251825', '924675616741515264', '1328318391418056704', '1182802623348559872', '1306715525997891585', '196881352', '312708081', '138628711', '4504567787', '3306174035', '1155521388', '144311959', '860869291889090565', '758466578400833536', '1183918532', '793171391398936580', '1311711165861560322', '815973282', '228190246', '18396822', '2860586303', '751868503142137856', '179208914', '1438927981', '110071165', '93130821', '946130594207096833', '136434182', '1330598771948969984', '2749829034', '3222258119', '518044253', '329445927', '492691198', '853821092', '552466601', '1144460005795598336', '1839615174', '706952997172023300', '1464972986', '1294340251985620992', '1236782724', '87421863', '3039388534', '286503562', '33945454', '718147776', '137440153', '174086978', '1299829521496113152', '4229000793', '2925634140', '1010895960275324933', '258383379', '2823327627', '161484137', '1147574669056368641', '1344669664568356865', '740238850900033540', '35806176', '1382141054', '1360492032', '291456102', '1197314713857798144', '364225576', '51808346', '591548914', '1483232784', '299356783', '4921127601', '107176039', '734813002931818497', '3165480383', '1042838120771801088', '89875741', '249013632', '204633676', '1144718982668267520', '326283637', '1323376297037410312', '3115002771', '1190979735763013632', '721283184017715200', '2150050759', '145020013', '1151290751344664582', '90401187', '1077990847', '2516290908', '334788250', '195855213', '794568188', '4160782817', '1044898124274249728', '438749411', '2821182201', '1324496601604411398', '1220415485616979968', '756188420062478336', '1296057769615863808', '149970952', '1080480764653912064', '716762605499588608', '1246120859544236032', '1558640634', '909534561784205312', '1093823672828207105', '4623480201', '136431828', '159219922', '203404027', '1130126618272423937', '828738847324459010', '1163278020905451522', '47530811', '163667925', '869343505948303360', '1136615568889569281', '1142971927159611393', '1114694285948071937', '2168824207', '176771982', '610206288', '366568552', '851431442', '54035352', '378996603', '904946757636902914', '456641366', '1190413307183869954', '554785512', '253133559', '202926669', '202809746', '4297558222', '890329942277447681', '2891268291', '2841511521', '2434582405', '1568868187', '4774564433', '119351339', '1245354207416287232', '901581533798170630', '2404888189', '1159784215858294784', '925867447944704005', '153473059', '1186643037826535426', '4269991413', '1106600142608699392', '2643977749', '3017809004', '1310638584576253952', '415998847', '135951915', '2798599649', '414434452', '1118208300024254469', '131150529', '401010601', '253321564', '1051395704', '850852377926283265', '2516200950', '1953048686', '839614585632145409', '1118960265314340866', '260277065', '2414263224', '595570681', '445007038', '1063276369222737922', '2207463210', '1083233024', '524488066', '205498485', '892480665865912320', '1172610671965548545', '370869182', '1327297680', '1185514998887526401', '197242726', '22361563', '1153657155276496897', '3983390350', '1249752252740403200', '191186437', '255098969', '4610046136', '166132740', '1220065003572748289', '827169565415059456', '286196891', '121289133', '4219076571', '3289018349', '63557164', '731269959846899713', '726239403513942017', '197330664', '1096175341893312512', '208579886', '89919734', '60229392', '596489336', '2739866696', '1071241881227542529', '311164882', '2786205989', '1339959204778487808', '1073372789044903937', '77687063', '180860252', '1133054888936652802', '282290518', '163717107', '1044603419904933889', '167567360', '110817702', '901256626769989632', '162513238', '72834161', '191297705', '78704664', '410756392', '150307949', '118545520', '69097566', '224073436', '3411303407', '147755622', '2645904638', '141726959', '230477634', '3355640230', '368560574', '1167594338483937281', '146431317', '352020016', '2150025603', '3866411715', '202820682', '362188459', '140443172', '506029543', '144929758', '2383880449', '1156375398172778496', '1237430989896507392', '825531701568876545', '1231964051439308800', '1093154329513676804', '259279154', '746321795612090368', '1265069581107974145', '1265020901847904258', '1265287642318606339', '3885926007', '1310116872554262529', '1281192313', '1067239279406080000', '778706995071201280', '157192272', '3088982421', '1017842080905940992', '273757919', '187194691', '563969022', '942620618', '1123210104', '858059336144355330', '134268923', '734131493283434496', '171305503', '1146804077726183424', '970451430661394433', '194198276', '1003404368157270017', '1192400142353207296', '889104329747070976', '1145370192182206465', '4195820001', '1163630660050984960', '1183163744521740294', '4221438887', '282102187', '183454242', '1158390721466064896', '781498431751716864', '1115285014000939008', '445722910', '2352436693', '221994109', '1116541046966632454', '1161785452665417729', '1538752518', '2764798842', '1572900254', '2376650185', '241923079', '1084900402112413706', '1258781084017360897', '315845684', '885838024977895424', '40277213', '37450522', '145370140', '1169225200740831233', '982636833887617024', '1452929635', '907602732906946561', '131557984', '1861845169', '1132327443119972352', '783801958700347393', '170804224', '98537989', '127941159', '1178494973555154946', '1144390798601068545', '534293883', '1162836550444638210', '100947147', '848154385775570944', '781590278', '393690846', '89061595', '1146448109070966784', '1433986681', '1542328532', '1279182119839948800', '354977940', '919222077391036416', '365621327', '2434533608', '161784183', '822067825', '481169226', '149999804', '141299097', '3431965715', '76481107', '886683204', '826094347', '1165089854557962240', '452334941', '158093455', '582254264', '874692996071133184', '196291109', '1968162805', '867948514260770820', '267511032', '109597254', '2848188779', '1289718527805591552', '819792308', '747521749', '1063670334140936192', '1281731341', '384696297', '274712019', '3202815225', '35988310', '1135551819906736128', '486571670', '1350143154', '2990206665', '706345489', '1303817619213082635', '770756809334325248', '18476225', '881914439645233152', '142742960', '2250684742', '2544243368', '179652838', '202884758', '34034287', '2253534297', '4778142569', '1245482636811919361', '1130147547408982017', '329690251', '2471162347', '205019468', '197273100', '88293181', '726854427882172419', '169953640', '713028058207358976', '452791971', '761462461', '1231588417961701377', '227706604', '3064247597', '1043309917564751872', '703666177067884545', '4710499403', '195578068', '1152246688616275968', '321036449', '1321556287533047811', '209262542', '4301775809', '196435835', '1135688648', '1184809631710879745', '840377572038983680', '341820349', '186797051', '883454563356987392', '4333487135', '186918499', '1285335745163657217', '1080352563218841601', '165136131', '1328102698235949058', '1249341431854104578', '138929943', '4405056695', '53158294', '1265722577139482624', '1608573751', '1192433699205341194', '721154608576491520', '201586229', '271730974', '723523358', '268488742', '2853488872', '2677599661', '551926583', '180922573', '717027589303484416', '914940832616210432', '4238988196', '440213568', '892176714612301824', '403620893', '187250524', '1088760072375861248', '2882152030', '922545797690019842', '1576578246', '877898659458949121', '105992208', '194213610', '1323655650493321216', '1653978246', '2223568152', '2170781287', '4627550895', '177222447', '607513888', '1174102904459943937', '1183088013871669255', '1499810696', '797292639217393664', '1362930477204709376', '197949481', '1214487516', '1011248068254199809', '968219573383258113', '12474802', '1004078939281739776', '1224518932729663488', '232947633', '218511496', '164653540', '209567899', '1009599916698726400', '1066423798591823872', '4011805174', '205509873', '1544696155', '830654034', '893071697515094017', '805134554', '616479708', '118756065', '100353113', '1661213119', '929838861722832896', '94730933', '376533477', '430016297', '219028502', '191225241', '179799936', '151627290', '184460563', '196837227', '341038565', '1356316053589123072', '145815773', '4727580359', '16997143', '1367479191600566272', '206371045', '836122659972853760', '713200819848482818', '37063681', '194421006', '1170596343695499265', '248987967', '80078163', '869359266586660864', '1069696081196445697', '2746909648', '601867578', '2818723862', '950957247164755968', '111327825', '41113764', '280990642', '1248357535112933377', '2353719460', '858809479', '151524020', '556432575', '1192441718429356032', '1128127394223726593', '1046052558', '2493550021', '1339294912790061058', '764231652', '1251234248784261121', '596029386', '1185844996064317440', '1267562127897878531', '2704753244', '2951814472', '898027635003068416', '192895115', '1260654133725532160', '3142505248', '143572950', '1260021889189113856', '570472495', '1723451155', '724773661', '955668668', '792049332090445824', '202812127', '3435066004', '369000620', '156338282', '1302990099668520960', '1122485088116203520', '751533871708200960', '952174717678637056', '1255014216819445760', '888084159335477248', '2188637893', '1221172637063352327', '501003454', '4071673887', '316158835', '1473195620', '18572763', '150386037', '54704530', '803002547824955392', '3010447835', '94844287', '127302277', '1113512197', '1012107120295272449', '42082228', '24900554', '2893571919', '3097425508', '1249724227', '4627777757', '1160929519437524992', '202723299', '1166171387398172672', '4194822088', '78980818', '1000194467259797504', '136722595', '117641993', '937506237327044608', '274997627', '931952762388189190', '2468610380', '1142709993566887936', '4696317872', '106804177', '1256376463135293442', '1240257692356222978', '834833858155667457', '3030778343', '1342925391984537601', '4836722543', '1298598602189701120', '941509932813291520', '2423066049', '485811183', '2439345019', '187345223', '992420860907663361', '1221803302544912392', '367269710', '759550942425538560', '2990714134', '4230334769', '4561458511', '748037632622460929', '348310913', '354085900', '204381417', '1625526020', '1165967022804656129', '2289079616', '1200475594410151936', '3088984047', '3364886187', '355873497', '1168715250285371392', '1672897488', '63385567', '1057052494902247429', '913052088116154368', '2900947893', '716826695', '177942841', '885810670717079552', '82088561', '196837354', '1054830382460387328', '3119897872', '1186769016263761920', '186685625', '2468490086', '817427911833686017', '149985248', '2867745235', '945117237123403782', '4774811733', '118964561', '1350954917234667521', '1535114328', '3247183779', '1388399880', '382958496', '1009793282', '302323152', '2240928494', '882028971986214912', '22916094', '780919134410436608', '1286222132', '3599083759', '387069889', '2808222049', '2651923058', '77748386', '29018793', '2693592596', '1559568230', '362626565', '991858487884951552', '1316801330', '1227622030415147009', '222159409', '2436508817', '1921185799', '4053916101', '1312051232639508481', '324208281', '182828801', '883750992990412801', '2961207897', '440988578', '271146151', '329435258', '571325780', '69871487', '1498952340', '1337747589840695296', '2951799183', '1244107019562483712', '147948208', '1333886010170765313', '86219321', '992178492321214465', '845045958308237313', '1140422474628304898', '1351224023141801987', '195619455', '475708025', '1065604764916948992', '1359280163381530630', '748752972352409600', '274289489', '705010122230259712', '1296889578876547073', '1146187526715166721', '105785283', '289600567', '261883138', '4691081492', '142913609', '90436767', '129254218', '316798951', '2312287350', '1127959451196174338', '1377191564', '718607638133661696', '1834436976', '453099594', '4251145041', '748328027654860804', '209390884', '209778655', '279296220', '1251201814957088772', '2770664919', '833345897689968643', '1332415014720954371', '207229366', '754070320135495684', '4194406954', '4269501149', '2367389166', '546923952', '2605369371', '852358988926726144', '1289576414757425153', '1349569096321552387', '1254110775213522944', '358890847', '1255609277496123405', '156500230', '218298154', '1087182066180153346', '396872214', '332512121', '113744392', '2745895665', '501208500', '231154231', '342735056', '733313929292701696', '1182124983776100352', '1115075193175777280', '776080579989278720', '1161720420078407682', '118525119', '242913913', '1219025542894276608', '1313295296710029312', '4046648416', '182501138', '238331874', '121556705', '727202831766265857', '188557860', '325917517', '2165537297', '1242459907', '2172491584', '2424514164', '1002331266912571393', '3062187262', '1275644219835777033', '846505999766900736', '14525749', '67443745', '200936622', '599567647', '462243481', '1092237060', '859229395755700224', '150049863', '930979640', '350858729', '797996891988492288', '1341390512276779011', '1592273498', '247909560', '1312920256978055168', '1240427176975110144', '274673624', '801948340481064960', '286988924', '39863149', '191175498', '329935132', '216689382', '7796802', '1167998339880816641', '138876046', '2188419788', '950696136', '836769048419520512', '127043504', '532356879', '64131750', '1068770118', '883737494180827138', '2885138464', '260777236', '2884926795', '830236656557031424', '2588666262', '146638302', '1488087096', '107464561', '2748096098', '5510752', '263732580', '1047105293266632704', '1126459938', '171498377', '1256610280311791616', '117452016', '955040458497028096', '390427246', '128955492', '959777020191428608', '49856581', '1283909186905092097', '2786277513', '902516646576840704', '770235201817604096', '1351278834147069953', '1277609374446387200', '1353478568660135942', '1553190722', '713793057062318080', '785612142128959488', '496500008', '106560067', '795629812018802688', '171011907', '83714354', '424533842', '194378159', '884868303805710336', '1028543186', '1013058091', '3658482501', '3232364033', '821885420912906240', '2251900600', '491871991', '1038601466506895360', '1035271246915817473', '2744921889', '1400841937', '182396010', '149976183', '1085166399591514112', '798236771666587650', '3053838782', '770398533216309249', '1072331630025555969', '560589214', '770588101', '99124127', '615522242', '333236636', '2188580918', '92089188', '1021755140074864641', '199974988', '787408664487464960', '1348387891974705153', '1488889914', '4890818927', '195188573', '1194844168033591296', '4356563429', '1141666069402267649', '2155904750', '236841454', '279665389', '1163192161510330369', '1242997429328281600', '168320440', '184309696', '362204802', '244783415', '2573039330', '151921382', '229457613', '1198998467139555330', '1144703913486180354', '1046594421289103360', '1211643040072265728', '1541614854', '37993776', '1140055891510800389', '611350464', '1065320913003003904', '1192140046729650176', '1030214466422677505', '190820229', '1162538674174746625', '802922174', '2912168109', '1191388467739201536', '748685673448796161', '833158480747962369', '1237519408324579329', '1052310988735827969', '74490526', '3053446072', '633367415', '34518850', '214559575', '242875168', '119998164', '469846951', '1220284617279918081', '1099732080357978113', '2316933988', '434473116', '932620170220228608', '1522338079', '372796630', '705524344655650817', '1251140615925989380', '1239984824468811776', '2877817457', '1280732155258318854', '802580448144740352', '149686901', '155011665', '1015355626732642306', '1212816709385474048', '149371601', '196228882', '2363243058', '1280130696741359616', '1011789263644561409', '867223140', '1084990706786189313', '1320161513576030209', '167640685', '449982133', '183247108', '95140966', '7520762', '4808224779', '4497008602', '1213199664', '1288303515845234690', '66210111', '272220311', '819982078200737793', '1368623491', '3984236176', '389543761', '1881806084', '510659204', '1035174995775967233', '1267110052424540161', '379966732', '1353271189', '191249761', '1106074093701468160', '1146016868760727552', '845504142374252544', '542033300', '1188752570581508096', '876400785675997185', '1100163009555693569', '732695961076518913', '232192072', '815803214', '1299872055765147648', '4220068583', '197192115', '60164482', '623334075', '792457828032217089', '1103466222698614790', '924249522447974401', '1036917825091325952', '2791332673', '1227443894750777346', '1184821503432548352', '1317652267668021253', '801824112251465728', '1271209319380520967', '873314507296317440', '1156795900880195585', '432451717', '781849538931879940', '157437930', '1321576572760064000', '4343677427', '1158110411570499584', '1002892512699219968', '174873651', '2372987077', '1126575136021389314', '1312170816', '1281091471723167744', '1186653933869174785', '976928353033867266', '230589789', '523721389', '2474524071', '187565891', '919387042374733826', '1160922835218550784', '908685822282665985', '2205950088', '1088871483923988481', '1087013593357451264', '2465058937', '222275297', '145797267', '385663180', '967950389650784261', '334274924', '70561356', '262045391', '147042809', '384046396', '1552059115', '251699551', '143807125', '874264198590672896', '361393440', '180151311', '923634670746693632', '180963647', '1424382415', '700703191290159104', '332462742', '858955657', '103462194', '227457272', '122156983', '1228849782187319298', '1183974626', '1008896157748166656', '3331983099', '241079233', '287778138', '983110916513333248', '2925215942', '133880481', '77420630', '43968505', '549841447', '150880129', '754092987265712128', '135022167', '280608967', '2178402951', '137224187', '152769475', '40031341', '1239867210874720256', '419760228', '717716071239782400', '63853224', '2334170956', '1207722033309782023', '1184757548', '200589323', '107424543', '860716939978604545', '1207750317741420545', '801836395132231680', '476408214', '1131219789580517376', '4636584016', '1255305952967917568', '151665073', '781283014651305988', '141475872', '838368975511764992', '153557453', '794238997', '601102125', '128240058', '1723658988', '566598578', '1280216807119425538', '362817246', '186670739', '2864944011', '1688378557', '1001667774', '3014555963', '1613783755', '1354232031392260098', '570489014', '1194023484462120960', '1154419914985357312', '195510782', '971321684048449537', '3077788095', '870962021126348800', '178419097', '978387926', '396905028', '1183562443', '1166771563447955456', '342825036', '150000086', '132894209', '1155490658871840768', '856983662881116162', '824827633565306880', '14147237', '1344295272', '731242332943699968', '396792092', '1148302112', '205308644', '306936343', '1385992417', '99993858', '389610372', '912665575', '441406061', '159116831', '171490656', '147754567', '1124355942693445633', '834371748141359104', '318089931', '395562273', '2493532482', '2482229335', '247050491', '635214315', '283672178', '1273666078984503297', '779340061263425537', '896616658252558337', '1047813459658911744', '300795636', '1004832528', '780508761165266944', '1305539761868869633', '1265759858', '761246731052933121', '1152267044299202560', '2629017858', '751522182124240896', '38488855', '1888837976', '790214785476530176', '131144050', '2872536147', '1483213278', '148801155', '353427557', '195686869', '1258075211896885250', '367605713', '1226679770097823746', '148774236', '152039426', '870816412721446912', '3698303476', '1357911', '303487087', '1186373621083770880', '923503780255150080', '144801356', '2750505700', '1225523470970343424', '773640541993140224', '4197389517', '1278869172898889735', '939652182147772417', '433442371', '4798780738', '1185914159076171777', '702463329902698496', '2474986769', '102560144', '1118202107721658374', '280248748', '1293341604477116417', '3874471936', '4204720295', '4475961447', '210962297', '886026356806627328', '129488127', '195846630', '1302815975197343750', '152098795', '208551040', '1249809101699330048', '1648996830', '190107683', '849992682063712257', '76691547', '4801283422', '2865822670', '814998861555056640', '4188564034', '792123680142856192', '361540254', '150278011', '636653571', '49491048', '89084468', '2988035913', '1221268170687815680', '1633455186', '1329942905461616641', '746684368756801536', '146575351', '324724290', '1119732710', '196426071', '2752006462', '240949950', '1209403852816048130', '253846256', '3076974052', '215299681', '3371298563', '4539314903', '79465096', '815926017445470208', '547135796', '620198037', '254442229', '339438680', '2291754181', '130171240', '1254067466264854528', '215877596', '286873807', '384121016', '273120353', '153058318', '137522068', '160021550', '163678612', '724293836', '36693585', '977202872', '233388639', '1256731832021909504', '89038524', '155779487', '586214102', '2185519068', '552328980', '132529717', '1333585888106995719', '1131562763686481921', '573145571', '4167481875', '4475853089', '321678625', '195801065', '1013926064991727616', '1146206488232431616', '56855334', '192752617', '166799115', '1244702627964780544', '2889545349', '4158425415', '284311261', '89508220', '348804417', '1186110021114957826', '1065785271806058498', '1298312987124670464', '1014148456229810178', '4759086448', '235551953', '389009125', '186196507', '1090373774380290049', '152844289', '1315422419671224320', '4822717625', '787824283888287754', '2363467771', '455349191', '1283505004419129346', '761180388467339268', '860136044217368576', '1129016166', '978689208956092419', '398954829', '140919804', '3392400994', '140249008', '992317206', '164346419', '303457643', '1024063544692748294', '57745162', '326847732', '1006337885195382784', '754329844264136704', '836090915513073665', '147064348', '166345193', '906748051', '603942871', '826021610', '1243618261050294272', '3208681887', '2228357684', '971078809968668673', '80609652', '771125846291677184', '711750082266267649', '994721312252809218', '219188457', '1077176953', '101623031', '1044691139536859136', '987445100149116931', '1165086106167197696', '2446133384', '450313646', '819336076972228609', '1246178264659435523', '2306903142', '3843015016', '102316640', '1188116617324126208', '269949036', '1636266222', '409480089', '1004214082931605509', '442463968', '1164303428388081664', '1270642544', '1061998334', '3325589709', '89481496', '220167345', '483859524', '46360003', '1120747825602625538', '1029497934038163457', '106321022', '1245165603817742339', '587057292', '197296861', '1062747310587891712', '1209677690799874049', '4838096951', '487122123', '967993742', '1160894380510765058', '109092887', '1490150263', '728468990641639424', '562507758', '13790232', '2171347651', '130363506', '897208090784878593', '3372461026', '205793505', '17580104', '2842143383', '1204810784183914497', '88738686', '1173841156385529856', '84218815', '156242969', '2992428713', '246505391', '104570894', '2600269050', '177548640', '85489878', '15398418', '1075868468438810626', '152325528', '1224698888961040384', '2278282993', '301510701', '4901900080', '1200525091299299328', '188598446', '2704611734', '1044374927103717376', '896787733238210561', '176187204', '42431196', '294294672', '3000616271', '1078344516455882754', '170911475', '1548911521', '1234624716872257536', '17229079', '192922124', '1027991638449311744', '1161095385290612736', '138062566', '1576190990', '163994424', '1113462245743316994', '1119056531750834176', '1176927818594357250', '38782874', '3059807440', '138010498', '210635524', '1331021249682808840', '1723003434', '111624085', '2269993018', '337663986', '1358669929', '1023682879061196810', '1396230055', '1044721420415176705', '1104874060465483779', '1097571657500291074', '159315901', '1965457393', '167607204', '213867676', '701916703', '58246946', '505012042', '2214937440', '165566523', '57848789', '173435022', '636255659', '4189414594', '3360706637', '222595373', '1090870215196532736', '2464907275', '702623982852378625', '2478932743', '1278002104012025860', '828140486082838528', '2947276901', '1346189228296822788', '962079977213657088', '1063093721460326401', '512329706', '1187458223609135109', '715758838188806144', '763543334', '1255496325375971328', '1260628518175727622', '2752954306', '1160981198417608704', '1254748153', '716683194515525633', '2570003535', '536031620', '902672118667759616', '877212001', '1093465494', '571210546', '464296300', '887004660627898369', '251216658', '243292810', '147015679', '210046840', '581467289', '596528722', '1228965974', '1221551685635575808', '372272752', '186855931', '276210698', '279318348', '205827262', '175255790', '1166463145675776000', '343097868', '777918943499542528', '2846748268', '2841498089', '347503723', '1286741336', '769908481', '475561327', '308766241', '154609465', '1079119048540069888', '323584363', '1595879196', '1227646997336862722', '1912204278', '124857423', '553001561', '1317132660712656899', '3174171407', '119532330', '515677158', '615213560', '1199503866171215873', '1482985987', '560237567', '416737865', '1194299766236237824', '597419709', '846338934', '206198034', '2801056092', '1329467456', '1145961031', '184171256', '1557081218', '152482168', '159446302', '750230203', '187938395', '1162047370676318208', '68568531', '1156768366188748800', '2986522265', '533724677', '1315758313934589956', '186598777', '226356761', '619102560', '231182240', '1276195075412942848', '157045348', '318752496', '839884467103744004', '170084854', '209253827', '786325888350752768', '9355572', '1180125043243790336', '785121685573885953', '176225971', '991843553323167749', '396833408', '2290768997', '1053448552616210433', '324575944', '144369391', '3045674302', '220839752', '318715704', '119516105', '4401960683', '208581183', '220801878', '177158631', '447339311', '287029425', '1289288647', '2434802634', '1001557147812024320', '191894244', '60939248', '3901806351', '748560139', '1921454730', '1228260645713457153', '67145360', '943094244927066112', '36150263', '948576737868308480', '448339495', '366675990', '1207990835763175424', '567702930', '49351587', '159595691', '1653907866', '41719983', '2529124658', '737408888', '816727661829640203', '1728544358', '1950238710', '582861792', '182613515', '50708460', '1296487626', '360900145', '190697412', '179274820', '193557232', '180185008', '1002742632', '145522534', '289462835', '441257855', '1918342680', '584253486', '3230395696', '141298600', '1281439802', '1116123885613867008', '730197283950624768', '743373733', '1182444567565611009', '4487653995', '1703405216', '1250938304347938816', '837085408706035712', '164824570', '1378456801', '2416599031', '187365820', '128417619', '4826288597', '221960456', '59510830', '4776573621', '954245868', '992901882661269505', '1309187736054755333', '1171610973209341952', '2734670913', '4475915134', '2387866586', '235593406', '2311005938', '2230377516', '1095821155754278913', '932671889113321472', '1102738130', '214624711', '1145577868321275904', '711270422', '1344241575711432704', '1063039675877769216', '231962190', '1106759308979695617', '210628566', '887124757736456194', '350005182', '85159867', '436823875', '180986917', '163859090', '139128236', '2468189521', '3246424408', '1268822861847855105', '289368262', '1614343844', '3671079079', '1173787483865321472', '166868358', '4635242176', '791272646621196288', '1108842295539961856', '896074050', '1237157843440197632', '156018076', '1615250930', '1155232769766842368', '122384979', '1096431145510727681', '1380659480', '311157527', '4452544883', '340297470', '962629700', '1209987175011495936', '210582520', '1246172518005780480', '2430722358', '1275230496436486144', '1210013696', '1353462367', '764825023169306626', '872619346220265475', '390680620', '125581292', '856211266158944262', '886981250996719618', '921737459393794049', '853763138', '3865745969', '1142816555950137345', '910146938833653761', '1012013675975184384', '1267182959762853888', '1150130367178956801', '4438416753', '165093259', '1254060488956223488', '219836248', '836656103161278465', '1147165861050032130', '960175861629636608', '1228392644981805058', '1210755568031240198', '1141416996', '1142767694', '1400169488', '1153097158314332160', '625267646', '1553698752', '851586612140048384', '3399637036', '225539130', '2595713042', '394995982', '1182807428234203136', '208650573', '1048759634549460992', '1164706163943981058', '1132114926963744769', '437509546', '871869180542320641', '1189085849713025024', '1079433728496156672', '1001797813653704704', '415801720', '1272497220', '850717135378710528', '200317616', '4252324761', '2279333654', '186218634', '4499580976', '717420972932997121', '170505141', '3420937186', '248774270', '818720437', '486083556', '2424583066', '186619530', '4551773986', '174432681', '989913071765344257', '189269331', '174935432', '1304078776129781767', '1324856371460923397', '221348999', '2585406520', '1201903153098240000', '627772376', '573859110', '931108060889837568', '399438135', '1288255400425541633', '837186873143488514', '4814260083', '1255148194628956160', '1918875967', '3040098627', '14871001', '1172351427726979072', '1253360286125502465', '4601569703', '186594101', '1287381079578599425', '932767020608868359', '935568623476838401', '145299107', '167192685', '318637575', '1223023950537613312', '84456967', '238221519', '4860697042', '2785640831', '1161536622283972608', '196757633', '1243336495588655106', '2279537209', '977925657782050817', '569248206', '4588868777', '752686857847185408', '500964169', '3763467682', '149096668', '1046546238391427078', '1097967643078942723', '1345546526068760576', '4623665805', '1602280158', '1013568744', '1638171056', '352773186', '2737212379', '803496560', '2637058777', '711542738160914432', '138517841', '1725975044', '1016855981349855232', '1300138627742273536', '174104151', '1129910133260206081', '180887700', '3323576145', '893536148865376256', '870334146', '1159189744347226113', '1308132749572796417', '2549454855', '1214218172594708482', '2726780987', '770043118435598337', '1156756891428671489', '187055464', '234955754', '1865510774', '271670899', '1321223652', '219518707', '1296302241771597824', '154736589', '1078444105087307776', '1354236170188763136', '1867893876', '217021979', '1163799311219605504', '4069676002', '313059437', '753931777', '114888147', '774398382295187457', '39397930', '3024192069', '3263300051', '425084557', '942930698226339840', '837807578411319304', '122124578', '80405391', '356210372', '2800235369', '355925749', '2796881605', '1327989493429903360', '464146386', '203262898', '1349812784582844416', '2494239348', '1320768655618150401', '144321014', '4226685621', '921568430985183232', '162430251', '2891582482', '4433441123', '987784782', '1245538381544775685', '252100862', '2624356467', '590371251', '901592023504998400', '778084677743771648', '144335090', '751857395920412672', '858093531528912896', '1281437457112760325', '2953294101', '2712625611', '1230119523069632512', '2546401201', '1352575203008720896', '2842312017', '1229449674', '250337999', '787239459771322368', '923856511', '2818127456', '2982159502', '703010998882586624', '893794274059448320', '911698673272262657', '216960357', '234100567', '83043060', '1212718019849248768', '4197307521', '2564495622', '922327003', '9656262', '3052839865', '352672174', '717429123644264450', '3028713425', '151228631', '177975675', '480166062', '734526060566577156', '187054630', '2771094389', '179612088', '149512965', '309406560', '1077007639', '1155808057', '1069380884', '174868120', '702628126526939139', '2176441578', '567857076', '968661409516187648', '1186661007357292545', '163473259', '151119951', '2168642235', '179583066', '206711161', '1365607806', '306868953', '2641344732', '258353004', '1109881757640388608', '4493774475', '2212559645', '1087158188670140416', '750998852585611264', '1051277207014961152', '1286140275316924416', '167163879', '336206026', '363968366', '531857078', '2162459267', '1008730775385190400', '1115122813', '1072665633509249025', '793227367', '784775816144154624', '1244343151478751232', '4812945322', '2763528787', '183360370', '1225160783736209410', '1112450241536712704', '1253187858', '902335244916883456', '748709314299330565', '746737855515459584', '83978758', '200166637', '36294697', '149635289', '3433311046', '2878334116', '304194061', '124599878', '150042229', '306548069', '2359829110', '279611416', '147545844', '1323389352', '181019063', '836357806651490306', '2335405759', '1713610669', '795172656', '930603304362676225', '2387764495', '1040562716170182656', '1210633227473436678', '1355363725', '3407113847', '2611634647', '1041039133026729985', '2784323303', '867968149', '231092403', '186610631', '1126812481391878144', '1256982563748536320', '1050061305418317825', '2761647657', '1257418400189632515', '605093426', '756948186598633472', '1040356122396450816', '1237187718066647041', '154675928', '151022272', '1171384413948710916', '1299861580482572288', '67662804', '1097601594743492609', '4873896923', '154522259', '740226843589107712', '254316467', '792447789590601728', '171527079', '763835887', '321700929', '2427659702', '1103761165975515138', '752408832', '624194997', '138836451', '466887457', '1109463268467376128', '923617919283683329', '1305871173142671361', '748481091657400320', '826182091889135616', '49377563', '1331298680327065600', '1193702320917364736', '180576886', '1216447844468563968', '231166374', '267960594', '805768832', '4278515001', '155639783', '2778302255', '195977636', '89458947', '349739110', '2561940666', '809807728394850304', '314886392', '4871564415', '1299707646501629952', '138900965', '85154393', '1131925891', '1366950570565763072', '848301539844399104', '1580608093', '4270874422', '1329076976989048845', '842060825418424326', '294894358', '1046474274', '179722483', '186939880', '511099914', '1276240099', '278043257', '4068087389', '1247989374819741699', '2615903030', '1398528416', '81514901', '148596884', '1314723900585111554', '1075758796465717249', '158893543', '1303798985593966592', '321075608', '1332769275661197314', '3075829840', '1014187610279940096', '980981617148743680', '1097980406123642880', '4115223197', '1953162006', '981026551801307136', '981182195804049408', '1309563877663944704', '3073209898', '1154172502182158337', '1578022368', '421417889', '974830959949500421', '2338886822', '854169805', '1129908970745995265', '2179219634', '2244142592', '202641033', '244636022', '1359560423377432580', '173627498', '129249318', '3045267155', '2250749316', '4584326189', '445041328', '131290543', '23658326', '1192180940489056257', '1062521606', '23488456', '1283189939811778562', '339764320', '1020416343840043014', '144966010', '184589949', '1156595840225619975', '591349570', '864606221369737221', '881875341396119552', '626534453', '3056934905', '4515126989', '1189220689032699906', '1241066361482366976', '979470951380373505', '1594248601', '2386139208', '1156304257139838980', '132488188', '1061658842558357509', '1184570400455430144', '4730265027', '89784831', '1281932797624688641', '1258019298', '140864718', '4870756271', '344323148', '1155203772', '756202151500742656', '896766889472516096', '142398815', '263132977', '48123352', '1292544543028654081', '770785708399267840', '226302371', '2193959486', '977348210', '1090279929542070272', '1222564297307492353', '1012047325433421824', '109379993', '64440636', '576323549', '1038098638499733505', '1106328251952218112', '173196184', '1258124173236453376', '127750359', '1309603418965671936', '1215702502995263488', '3396345580', '1678724041', '442885540', '1020528339860295680', '1179591746193428480', '605909241', '238256132', '197934806', '879472360549736448', '623549871', '1115825029', '855245167145742337', '1002016201713901569', '712711851344269312', '976232587378266118', '2643660209', '1219651859117477890', '1131243011734687744', '291681176', '346116994', '726563296351019009', '4869498521', '1616066359', '2417606766', '1361933204', '1155179119505760256', '180837232', '3408894718', '1912713548', '189931443', '287927824', '849493242', '1220663558003924992', '2560539311', '222540239', '105188197', '2415174325', '586571159', '1697661450', '184413750', '3939103277', '112444210', '42968250', '595444778', '151021998', '150678121', '620107148', '1537594296', '58542907', '177356424', '813868333', '1219426252353916929', '1255121363481825281', '1494328922', '2385126518', '222104895', '335949057', '4069763853', '611329737', '848357827349446656', '1201150889374998529', '1233605027899625472', '1212901368', '426960818', '1458226741', '853657010654638081', '133038713', '1246062412090019845', '1022231850641752084', '877271954474094592', '1167294839618031616', '4130443509', '21756021', '14760741', '2985933628', '2904621773', '1110978001829806080', '2957071', '2593609794', '143214556', '892185408150413312', '216450943', '4266988839', '175585313', '311626371', '2744816612', '4844140947', '1257366654385782785', '1270355222', '3002420470', '1614901866', '151000917', '627982845', '37065253', '164350783', '119961863', '345509382', '151488137', '965631177012006915', '3090557869', '48574953', '192409157', '2506094713', '1170855681966190592', '2231464864', '1495929151', '165282629', '186583503', '1006126823107973120', '738966139', '142075278', '27389440', '1021868004659875842', '147712187', '949926727', '1287158828253970439', '853690936467103745', '772919920740929537', '1182953690', '205102605', '186874745', '1073425848466845697', '739111348953583617', '1106281298044305408', '3956457143', '1312619638635802624', '1331196707024015361', '1157003904078483457', '4776368601', '213149056', '1265595547320307713', '252337355', '1204920265634959360', '4784428354', '4333227687', '200634653', '1122597934523191296', '301450203', '3301995418', '1277806417', '3199502339', '996129826191888386', '1241907366657916928', '1374922694', '141741514', '2281795569', '83476790', '2416217585', '1039242194790612993', '598671995', '104187557', '1270509507236560896', '162841742', '1031704946725605376', '208551676', '269460262', '400345339', '1254033464829136899', '1136930659157630976', '2608901618', '833556013', '1182478689843458050', '1149075433', '1240376917980782595', '1305907424499507200', '1019989381', '3320117737', '181007001', '361377272', '1347293616595742722', '367236231', '2157773328', '2963884374', '118432991', '911310561316605952', '706585919353200642', '603101679', '2462017754', '210106528', '278570673', '2536251273', '1098387020811067392', '2488321856', '50661819', '865316176200687617', '179681992', '109266668', '827602806395826176', '1165674374', '1027316209736396801', '740204964824424448', '493033896', '1100417155999428608', '3939548781', '1343226990', '1480445917', '2168318397', '181018485', '1233038621638320130', '1104783608', '24539494', '546337051', '4646184941', '2837644071', '2708763009', '743594840689086465', '868198442924945409', '87335263', '2742599465', '135978929', '3022568535', '193045025', '1209272155713748995', '4010899792', '1331797370032492545', '4848204664', '1175072544', '4331318849', '4190068455', '4870933341', '974849885861285890', '51786212', '730054862776324100', '1188194953018707969', '4817817028', '2788791354', '3475600469', '891433923015827457', '840284543647137794', '1269318574595866624', '199112737', '447898635', '1635745038', '1410398455', '1224325956002861058', '1239840115', '1133057805739540480', '4799206293', '1240765806771830787', '913402611822399489', '2601963678', '1128137902087655424', '1295646177195687937', '1359267271148003332', '576714888', '153132108', '161717892', '132993370', '90636784', '1219002218776494088', '706786072441782272', '1341159840337580036', '1166088120061894658', '890750600', '1164998304423403522', '107213818', '2696880781', '217280364', '996976201', '178731620', '791419202515169281', '910889568383139840', '2850277455', '1625777142', '1219302815916527618', '208577217', '121580226', '1235582856216358912', '195162412', '2845521571', '154846401', '1157660830755885056', '208670699', '188823641', '4924373523', '1283616403921276928', '176967089', '215334051', '1317228186242064388', '717814312568557568', '719230245224771584', '3314124537', '4691938748', '244356927', '67334466', '265355375', '533228836', '915283754', '1211083539153686528', '132704571', '817749044642639874', '1250191502543904771', '532777851', '785659448882819072', '2442279284', '45737534', '3245000338', '760133241441513472', '1214067908', '853651509787189249', '1268546546888556544', '536739699', '72579487', '2424473006', '3065919058', '58555535', '957291712552022016', '780989552437628934', '146633794', '3025310147', '886351599387496452', '411191232', '226537408', '4002765137', '371932589', '1433581135', '3392014635', '1156572124779339776', '81396324', '953459717237563392', '1194757150662373376', '54625625', '602916183', '1126218430494007297', '168069976', '355949164', '362040147', '955503684733100032', '1264588496', '1293668626705387521', '1007628038786506752', '1368963921210703876', '148316448', '1370427953075662855', '4071661757', '151497085', '1226289316256780295', '1357099329173995523', '1370441774083231750', '351820423', '2150920999', '745311793384398849', '1358376269067517953', '14231863', '1093609535313453058', '346233515', '2728229073', '833114733389737984', '906134744', '221215107', '964937291142660098', '1351945045801316357', '4698349206', '722605561704013825', '472033063', '1260818809491017728', '178170669', '939138718052573184', '572852181', '140117615', '760424965', '187285721', '1165310281578422272', '349351568', '2654493287', '258340055', '781662917829783552', '193953470', '115134805', '124764898', '961540759', '865691485', '4393416809', '185083071', '166645386', '133115327', '943896842', '1189955310594805761', '125995334', '1857719958', '321744493', '2153868241', '309177991', '1279509266437734401', '1219219782', '1344668721642663938', '712757365754437633', '1323607697632186368', '298699627', '779641711119171584', '2450324088', '1148338899749613568', '322974571', '179743566', '297239689', '143685841', '1323694321984540672', '1428120042', '484265815', '585043940', '986794319360258051', '3305019621', '817451162', '4861173152', '1027698769587003393', '873001584896212992', '16501229', '804727238', '2228209194', '159035296', '704679386495242240', '1932230210', '1327974178583171074', '248752052', '1275469734922932229', '1234894156780261376', '918995677623017472', '53093507', '2653120485', '1541015539', '909514336384770048', '1307703640413679617', '4455387803', '243628971', '201680476', '3170749228', '1611495738', '1099389532431101952', '96592659', '961330225979318273', '1294781299866181632', '1144795344301187075', '1252125019473350657', '1107403070068150272', '149765826', '191005607', '1198964222245441536', '2349862945', '453668861', '2862597086', '469493498', '286242883', '970111108173398017', '152740845', '35393868', '425766948', '55526516', '169597372', '309168098', '841246237684842497', '203883293', '281228380', '945394985695956997', '235395147', '2478740644', '337388834', '4491225202', '163291558', '254368320', '895427219262230529', '170083151', '862396653109694464', '186895623', '1663502167', '326983844', '374279644', '151212865', '1273761976070615041', '709941414830993409', '160191238', '339659551', '188936191', '2355502147', '1218145993562230786', '941369008338677761', '303464900', '811642144733667330', '19608892', '1576363154', '2198255803', '1122668568171163648', '732592885334482944', '1071113294', '117293154', '1117161439305900032', '323355037', '3057638821', '1238870466649108481', '290652546', '4868155870', '3397526561', '158741389', '239567844', '1641005204', '3590352574', '772594520978489345', '168787730', '1629193591', '1220823961971429382', '1070849746187812864', '1258842478163230721', '703994168', '551025527', '711710889657962496', '2872872449', '936774490503176192', '1189584182', '1314289344551751683', '1266054652140888070', '318163138', '912458243502432258', '204414826', '272120543', '1080654319005896709', '164239798', '4833880438', '4498816109', '570003908', '1258901442125090818', '3411172191', '782278040059510784', '993602145235755010', '2180160501', '49016005', '579068492', '6969452', '3426271569', '36175685', '4638739156', '461516046', '1293198597874491393', '713344475725176832', '96191961', '208696168', '253367014', '1094966021465751553', '345191254', '802266409858461696', '512649257', '849265590', '371328137', '329338949', '965434327315206145', '1121162624346013696', '1118062572', '97720041', '1071125272739659776', '2539316350', '1066463184880631809', '4269204976', '1925097456', '1074382378108403718', '1319330746390241280', '1142653307925729280', '1428638126', '4537884082', '1229753782046732288', '1149415262220967937', '2419737762', '812466437298262016', '1098941104060317696', '564969145', '1102557009449230336', '4410983477', '151929451', '2805670938', '2338128633', '517721181', '4860070559', '28190201', '3450061', '180769515', '1037299117846921216', '150322396', '714943183118077952', '567293673', '1091819760269099015', '3680974288', '599699421', '211326067', '7790952', '40878742', '1634147678', '3354882316', '711774912', '123754782', '148226406', '209275918', '88281655', '61067280', '799043046', '1093228214690959363', '1088144136119742466', '1211371890062712832', '1049881003840421889', '926326141', '970777200', '1080085459232088064', '1065353441881526273', '716272414', '1041299771560882177', '1077250059589304320', '179686348', '190138516', '185518411', '148752676', '103912705', '122063921', '188976630', '1334662117518151680', '1189481259938078720', '394692588', '281790554', '741117354', '1198249677382127621', '922887363650637825', '4846225031', '1342106661926948864', '941410579071291394', '1092415339', '1101642770547204096', '792831961387728896', '848489304', '1245333067713175553', '426720086', '820828701659189248', '2554646831', '1599168342', '1118362494152716293', '208677536', '377695889', '50340154', '953771867273297920', '114798724', '2470114597', '44323581', '816189338', '1229579508044455937', '167380046', '1289318973763461120', '338773261', '4709202197', '1166876139459162114', '81859738', '18587715', '586088550', '824692280799952896', '1081612748', '39254933', '1226098340804407297', '1358821313872351234', '267439490', '1346335695426695171', '1188188197261627393', '4196448585', '1248654621628825601', '127552808', '1598350321', '2627600063', '122427276', '208912739', '4258300600', '217397505', '1710363024', '1634073974', '177819325', '124349537', '1941468943', '1052264387350843394', '127991688', '491687252', '2810473974', '1144732377819811843', '1013591674457649154', '1164603175762051077', '872516218565144580', '2166641746', '147957685', '1194927674826903552', '188581369', '611993190', '1353358555391385600', '184616936', '1070723948898324481', '1283837267161821184', '839244108040372226', '171139798', '1660587536', '1073328260044476416', '106505606', '19163172', '1282375555892105216', '2707560671', '2493437168', '3417945833', '893598566', '2962605695', '812439608583745536', '1372252292', '4551709877', '2470372500', '1918607276', '794824418', '349426168', '150655052', '3013856031', '949548330', '822284386485866496', '1113217114524065792', '932058905798168576', '719529771193999361', '901492480079785985', '1017564148069208064', '622389534', '1354075647501606913', '573063947', '1237881529872920576', '1143347340255928321', '2795992997', '855618457492213761', '2367440712', '2683635760', '1175385410576498688', '416389548', '953238959827628032', '872361355', '2262950187', '755537431882002433', '1325764537937768450', '3259504181', '557436156', '1291715568257642501', '154225598', '844758563708809216', '3398234404', '1317538069638270976', '135481768', '102280459', '599832376', '757653948', '776523125731233793', '37311476', '1190279587281997827', '149595417', '2735227173', '1254810011240402945', '2756534173', '269154469', '264784582', '929726635', '1185595466664370176', '1543213681', '180282285', '46577442', '258649846', '1216237909675778048', '366317039', '908973199', '796084346730020870', '4855039763', '1072631422236745729', '1321412384', '1149844420541464576', '4231313260', '769001851027161088', '1537885308', '110468150', '148120297', '154087465', '2183282057', '883980642685505536', '257619002', '406196908', '3130980442', '3215216950', '1318193394976493569', '1638319430', '881951556706369536', '703768568', '879816482368172033', '1002340367751106561', '932436882667048960', '1163462081284382722', '889593375871164417', '233283745', '294196618', '109402285', '848525933380341760', '1342944775', '342708897', '889448978584129536', '1175451111777624066', '729483486', '1267925704689291267', '4757409927', '718118661567942664', '187774007', '1055283801184788480', '1322878973232271361', '772463128609251329', '115660898', '743848123676655616', '101047126', '429414986', '739901962288824320', '2963332929', '732304428162764802', '113415672', '18980088', '1074293736455192576', '304725739', '202674135', '1318196397309648896', '1088614723808038913', '151088518', '185070530', '2456253096', '157525270', '1116128720685813760', '1147312644904407045', '251312880', '1126521098', '183039535', '294933622', '176277507', '342243766', '105232424', '878839370622652416', '178489796', '441832632', '618063806', '1007748321858015233', '366603311', '944901194106982400', '128968644', '2885325089', '1231257889945391104', '615623697', '140506376', '802557447852396544', '187633896', '248512639', '893644028155240449', '4717805369', '189681351', '474536044', '282743536', '3137418832', '1244407363588820992', '785237276896989184', '1252974842', '3686635875', '393285785', '1193782036189847554', '1027254488', '3539434576', '134247014', '39237092', '339456458', '485213192', '4730629229', '157073309', '955182380658118660', '1045373905588899841', '1154487090', '57126357', '339291877', '401132961', '4197328487', '196751281', '1242570976719777798', '983436221157388288', '2358621703', '125069588', '2885055390', '2677167472', '1199236028', '3885882688', '201517006', '1942212912', '956492476289863680', '32193526', '1167387571200110592', '1195664871700025346', '208667444', '892210932583215105', '206805133', '1565605044', '3002855571', '228207052', '1320502597451735041', '1304170695426019330', '168930765', '1109116844', '1209184278002765824', '141632044', '253782972', '840677917797539842', '127967503', '809595147734413312', '14150079', '267505636', '1041125573236535296', '175185277', '843890998228992000', '207262095', '943102867354812416', '160811341', '186900540', '1118288982247342080', '121159806', '619530601', '1528687339', '148749882', '106244004', '148579108', '815615054', '512582851', '397281777', '972261502005768195', '2788297011', '1295419630765387777', '1955336053', '1549212204', '181968089', '258941579', '338425310', '206508396', '188589124', '1156268521346805760', '2450116513', '1281379175300046848', '1053743475966074881', '173161966', '63387154', '1157989458', '1244240479', '360804245', '18191631', '1213165225', '734418502770135040', '1337656790', '180759786', '1342067071', '913443752064294912', '187495266', '1266812235931885569', '2150191540', '42704750', '702277429', '498099230', '1187882277042348033', '156056618', '508795925', '158207015', '836810941', '4433462836', '1139012005', '243420606', '2157478725', '341884274', '130590539', '1188815826', '373063362', '3994453337', '157851378', '179358958', '1028073660127608842', '180976750', '571479766', '1130141397431062533', '1294051362922274816', '1162347054443704320', '4761175936', '877742169972461573', '328676490', '2178199621', '4726819287', '1183950171949936640', '2995213379', '161723690', '1030475580419043328', '4421211', '708017221080059904', '1457612034', '580200412', '802928956596961280', '108140345', '1129598502', '2441071865', '852330883', '219830723', '1371080864', '211003878', '1594041422', '441003091', '466137696', '170551836', '179134850', '1516545506', '529783452', '872889288618364929', '1019596865808019456', '2262849073', '1023260048053743616', '271966310', '1250237364007571456', '3393036365', '560133706', '17105179', '192166307', '55339958', '1656123612', '19809476', '4486588942', '1732436408', '2433217600', '188395700', '4728027207', '95063856', '205088752', '3600120742', '1157772574593626112', '2754991108', '118129468', '2419327148', '1498412718', '115469095', '1187158962933776384', '1079415445252460544', '196342207', '1319481720060641281', '1122574846121132032', '198132647', '1178784281822408705', '861917090814582784', '176975606', '1290504805933371395', '136985435', '552944497', '615480715', '3074119110', '4861550391', '4830190606', '745603835159261184', '2585692510', '1407977004', '143540753', '1185655421530456070', '109940398', '57918051', '523951502', '631274714', '145665804', '1316210318847225857', '3130703182', '190494265', '2945261', '186615490', '2448270075', '417228679', '392449722', '185520967', '175849744', '271714997', '309343703', '4229598682', '249940290', '820803668446445568', '910614017441435655', '1243265094538203137', '1296152035398754304', '1547353945', '1039855880', '407126960', '1608345426', '242124701', '2940293674', '2431972032', '1485858877', '1279912195992608768', '108516077', '1123748834042052609', '838910895589838848', '1171945239004831744', '1009684643703066624', '115445385', '1379310157', '1217334256898363392', '968171147648032768', '4259667088', '4213802169', '88798454', '233282576', '722477323161890816', '828160566669803520', '277717219', '701373881999826944', '996098707', '267910043', '3115332111', '864900399786057728', '889200697698385924', '1049008096906043392', '989630785165709313', '1335645133333815304', '1045148905514692608', '119027391', '1025477800831213569', '1260242021031317505', '1250564390149140481', '254569107', '1247502946742538241', '739501809383952384', '1194827718296326144', '1168014745368223744', '201521186', '1171824208021721090', '2885670251', '1019078586899288064', '783675546634948608', '2358909822', '1543389895', '164063462', '186570446', '358532636', '1294765378527166465', '4846733463', '720468266548924416', '1296930730140991488', '2367206749', '437923831', '4258573799', '839485135900839937', '1180685075505123338', '1022135092028866563', '1240233169108033536', '883322402', '1228827138', '2420974958', '509251966', '2327179201', '469473656', '150415030', '277460986', '188961683', '578676784', '924038077940666368', '38276937', '545390487', '1321500808647790595', '101148643', '618223630', '1172094693334749184', '621591226', '1245554991055679489', '525497702', '473469317', '211233455', '848286031707348992', '82238845', '2826994034', '241241738', '64890214', '1149122046363885568', '178447958', '1072141208447791115', '239401867', '156875375', '1181367713974964226', '89998488', '303583072', '1378295832', '73792154', '2860259904', '1007271763032584193', '196866815', '135508277', '150662751', '2930781862', '144700299', '2953215700', '150406742', '252605344', '1286835169769525249', '454607556', '1267210958100987904', '1302411519863513089', '1193651009228333057', '1473276367', '3366215633', '721182994606768128', '255284288', '474949437', '450414163', '152505634', '429372192', '161497051', '126432261', '796828516688003073', '3225628457', '1169620189836697600', '204442157', '3161754767', '3170445873', '4861186108', '1250454896895279104', '2305739503', '254268511', '182175555', '212905523', '1354180596436754443', '1194504745131663360', '1219336231860998144', '3187839785', '248207098', '2986571019', '3142550494', '190374160', '633183128', '1257853752343777280', '1897519646', '1417923006', '1684254168', '905588213225545728', '1189376547016380416', '169637367', '4649825961', '4842955390', '555560649', '325991792', '4928583970', '762346332', '476716299', '2290990874', '335671750', '179285849', '37218678', '342414266', '131067727', '35839931', '594809093', '1013777875554709504', '52247080', '262157214', '230031681', '169610669', '1255347170', '4843951390', '726043918907875328', '1136447223628271622', '937766247592325120', '878026283275497472', '208602041', '558650243', '113233371', '728645812247498754', '1370327316', '78024157', '888398644147257344', '1351621913446141953', '69779913', '1343155806', '282891856', '43410639', '2771336662', '38193722', '2948307736', '880548677814808576', '2243015353', '1202388477058469888', '259330994', '62404244', '1283583499178475526', '1085637430219337728', '862429659274805248', '1192949166', '319258203', '191698882', '1293322147', '170173621', '1242109910235701254', '1065481304', '3049421509', '901908772490276865', '3404787694', '1084466958475673600', '1471993045', '472959699', '158517384', '1526180274', '880916982899638277', '3437394118', '1140378048807784449', '144344150', '579362417', '1035581470134489089', '618636006', '1308878591329996800', '1162550165116477440', '2701106364', '4705175250', '523443923', '301858289', '2208777577', '1279543161547902983', '4276675173', '188528087', '498053451', '151634961', '624098823', '1348284479920627712', '1248447444666462213', '57328871', '700660006', '4056168555', '950527316945526784', '1344338982', '1141202780', '256571264', '1356650631398883332', '769338072265875456', '2189481835', '1262375787891744775', '1320646281274994690', '598031186', '190350834', '954763081', '1269818754692796417', '171761870', '137903824', '4189328128', '2190509481', '49626533', '1139639298', '2607374373', '2752951375', '763218172036120576', '942508231930327041', '162591747', '531234653', '4837626771', '242328459', '1328420488868147201', '83143978', '899416592215404546', '1223255584927076352', '143008399', '2923758148', '4459888222', '1962644767', '3005779293', '1260679291836207106', '727069705043861504', '991121640007364613', '336117114', '2425593576', '42329282', '1253125098778898432', '189354522', '295314662', '81828783', '333561775', '1085702531987267584', '157523545', '182319576', '732717476073639937', '210951137', '2236568400', '198873355', '2355372266', '186626227', '1217621658393026561', '1173738230', '306550705', '545600649', '182126884', '269855545', '1134434172', '1188105757', '158232439', '630445294', '107225460', '176605247', '1075996211629445120', '2375877338', '3034546175', '1273024684469243906', '722040018', '179711725', '208660665', '360981981', '1663742358', '1256941741', '2437546340', '1424028751', '3380535261', '3772999575', '753627015639629825', '327157344', '4777699763', '955955172227862528', '1202926598720278528', '1080962852926746625', '825648036294557696', '79258451', '1223723330315915271', '483255593', '2424631146', '66260862', '345156634', '2554914156', '260783052', '186693898', '751520414262779904', '4158434535', '2876677318', '478802462', '1363247653824438275', '385442766', '451153298', '1334574929291960320', '515541451', '1017582821479723008', '1331636004399296522', '1308506930235805696', '1199674874731646976', '1080650724953018368', '1186050000431792129', '1288166805895294976', '220740596', '1015304686340116480', '194704727', '130999274', '1012051103008124929', '1961086614', '2861077990', '2895126807', '137000487', '175922988', '172403652', '4406204896', '133399291', '1284076777208512512', '1182460775081922560', '2234888678', '752396401804533761', '1307663848812486663', '703752380861571072', '827927437', '573439937', '1336327666220167168', '3345599062', '1181555722838056961', '2431317414', '264818312', '197183903', '1344394565294432256', '512546508', '481771044', '586857611', '1347992505208492032', '1033791055', '96630305', '1153835075135561734', '494321543', '181627839', '317343655', '3359462823', '1344038606776770573', '196791855', '905259073817456640', '201037903', '844242597250060289', '4470624815', '796807787351277568', '884244797145448448', '1403566514', '96786093', '2488328856', '3349155334', '515851310', '173185274', '1119449043304943616', '754126138272776194', '168335614', '147682931', '4227525286', '1194987479243333632', '710028757', '888746710670946304', '1259653757794729984', '169554925', '1189354678632566785', '72672425', '1160893964205088769', '741345507147165696', '220017876', '1096049338541842438', '135989736', '1084866425024643072', '1275959853236850689', '761708622393008128', '894228809792315392', '226770952', '1156894072604364800', '140194818', '187712983', '34604229', '184898913', '1256753151216168965', '134931459', '150475631', '4648182148', '596576023', '77733916', '2949211329', '816234772443840512', '4855223835', '170218345', '801863805751988224', '490436570', '2329111671', '1279778853574115328', '489742420', '817745568', '3222970443', '186804694', '2342401957', '8705572', '191056112', '1188115993291296775', '2591284562', '1339677371201441792', '1280140935540727815', '521877693', '269609700', '1204238669869129728', '4888660258', '3741324202', '1362428486716112897', '1188879510470610949', '3148608361', '126792025', '975142045923803137', '473808536', '1173652489', '1192090486510686215', '159490990', '374117272', '1629334381', '841783402726580225', '703611363206234114', '48018389', '50383985', '1584465643', '187641771', '64776179', '194771734', '308603319', '1925291216', '136418331', '75843603', '159143152', '1261410359879053312', '214621718', '1253762900738654221', '194330653', '226730707', '150045978', '334342857', '277247559', '383815233', '1265778198899568647', '197291550', '1138078724430147587', '990956551', '1613079096', '131673241', '142088876', '487073712', '364666679', '74721799', '884202332120109056', '1184645374503464960', '72893702', '4197644356', '939933146056941573', '781672188625690624', '1234547847846125568', '2869489972', '369823774', '329373627', '216092177', '944659241633288203', '1292710872', '1370363099853766662', '197182198', '3297975034', '136327135', '829699392', '1211799899508891648', '2972254487', '740659323991396352', '1394966850', '1212094962055049216', '847535367569985537', '1381596998', '1361643714377039878', '1118228443', '161409999', '47168974', '1299018303344717825', '22265193', '1218301508850192385', '159922726', '7671542', '1122229988558766081', '812353606171131904', '142739166', '153373867', '198978628', '1316013607226732551', '336331432', '125966570', '153649174', '630635760', '1155184822605819904', '154233651', '2413642003', '1315684263325507586', '1018145038633664512', '1096508084455907329', '1463962374', '1200491745957548033', '1241480407658434560', '1032929849449635840', '550443274', '234936389', '318050854', '305344070', '259247559', '1135765904', '1332039758', '129982584', '339124761', '605844711', '1905846552', '240537876', '2361667458', '1217197817313271810', '167098309', '1200183035653763077', '1306584364780630016', '1152215144493146112', '1010997495256813568', '1222339694', '759781529895657472', '792145524', '1221470323884818434', '1002610072088993793', '927651160160456706', '556056364', '1356691148249702409', '1242653918888427525', '186576775', '147745945', '77261404', '51291522', '321627107', '2756867551', '596017379', '389007843', '120237517', '251680163', '1042330418576596994', '1061414648686227456', '180184306', '1186445277789655040', '145353886', '760283410900328448', '146067314', '235941292', '156037859', '1040253131903459328', '1188194467808985089', '1011384179840385025', '3296113477', '293206946', '107605108', '301468754', '24846230', '604652965', '140559112', '37096159', '322391671', '298829987', '204886886', '7941262', '1215986249040900096', '125392883', '178454532', '192363392', '1272292574301245447', '189158570', '126617861', '1141917993754124288', '266415072', '2320976503', '37758139', '248392470', '353064317', '742771314201624577', '625952932', '760500877220319232', '127958558', '1283398232559833088', '632299153', '1135649316008353797', '4690567100', '1283217508019970048', '4691042239', '4505616767', '148020253', '210802991', '189887380', '1156284681672900608', '419968309', '1197973825792724992', '1132571947349499904', '767399665', '1406821044', '133759006', '169100037', '195383002', '1189236650351702016', '1372374849121890306', '3306040653', '134596543', '1553866404', '905428406455689216', '819608204065800192', '165600943', '415560628', '1074405248465285120', '334881222', '865939940', '4187827947', '1200941821330952193', '1369314804452761608', '1362466802845048834', '1350806618276036612', '117278484', '491413674', '3133762225', '403432280', '3192966597', '1327976454504800259', '583875852', '700068108', '261447088', '186815397', '151534695', '1076532395636076545', '765690786', '1049320750732206082', '1294742052022951937', '181739789', '147676138', '2216157636', '155669017', '282035279', '143123233', '325690637', '140114848', '449412376', '1285084668581285888', '578574284', '328196618', '136706767', '67493438', '179707318', '1149674154163154945', '134111164', '197893257', '139769984', '128678288', '278284180', '158886240', '108291789', '291690318', '460733731', '4625781136', '149645588', '89319031', '419578720', '911584430485118977', '3232388818', '270681720', '1317694545711202304', '1253907697352802305', '737748907153883136', '1242834704870584320', '975794365321932800', '2415978607', '319295957', '1092414868152565760', '1088625761764995072', '166990862', '1061998018214457344', '360230196', '723689256938541057', '2554730222', '1454555190', '2801113918', '99017367', '277025517', '217630960', '952920589', '1098928825713520646', '71009257', '1730667439', '53485506', '855454070', '807988081718689792', '1259280078292295681', '2416376876', '1172600122577956864', '4498404381', '142397824', '1149483014952509440', '2904226445', '3370203149', '69376237', '952608255443898369', '38060435', '246607956', '1317634087042076672', '856924116', '768543999464509441', '41032276', '487722732', '2678141046', '1350879153252425731', '1008790212636479489', '920754871409827841', '1306239086655672323', '151741709', '42097354', '2152275342', '746839283126968320', '13053492', '1302799272145027073', '173704306', '893547771030097920', '920620404552724481', '724516251247190016', '3376891702', '359585623', '461655938', '904169669988421632', '155373480', '1047856898', '1112805434656780288', '933885478847352832', '147408388', '89854131', '1266692491614588929', '340684933', '4749429393', '16672021', '482239145', '284047640', '2719749279', '140529078', '1398166676', '1214661793', '275028283', '1611203822', '1316913848687919104', '3165161980', '1262963077', '2683367654', '266119453', '2471349656', '3045650828', '28579128', '1357966351', '2389856510', '863188477193707520', '23050203', '783865884804775936', '478096032', '733802054322376707', '318832003', '3033772564', '62410282', '23719107', '111741470', '146620823', '988542048415383552', '4809940162', '1129913656521707521', '2825270140', '893887299108425728', '856180001389019138', '242343862', '710298064813223937', '210419904', '1048804517406560256', '2820504040', '170557871', '3027450279', '1282087700934340611', '1352440252565245954', '55468726', '1139559092', '3993998915', '984087072435769344', '554570699', '294411705', '319928293', '278270871', '1324618586388910080', '242625296', '1167196416', '869545709481201667', '419943380', '157560917', '753728690845061121', '572902742', '216106179', '775521159060267008', '53820901', '1276707065050824704', '250443272', '857975486655365121', '307999656', '1355528076785029124', '1244380603987959808', '936371950783549441', '567495657', '170144166', '1185659613276004352', '738526767661649920', '310418658', '550476836', '583052859', '2331251798', '51671126', '917945914802745345', '1344756281240858627', '763808739472371712', '4342115733', '831143402611707905', '3384469000', '4160545157', '145741959', '1915408536', '283718500', '98761388', '569539724', '336059071', '2500349617', '67229075', '1232188498515505152', '1032651813886066688', '869553308721184769', '1289619392', '716665549942571008', '1208081218195087360', '99348268', '1369690733574316034', '811424048', '396989150', '193280369', '145466503', '56962423', '201565414', '1168233803787251714', '709179032206708736', '138184383', '1319147111213109249', '1341934022918811649', '94808628', '554626836', '130215393', '1386455966', '305416366', '1418136042', '944737234309341184', '1326321621683089410', '2680537824', '2824024553', '1025042705246838784', '730899477654081537', '2358605920', '1335673621960921091', '2624267721', '154980560', '327120324', '1070640741741981696', '179596600', '1236688057543393281', '1291605559108612096', '1266144706838368256', '1342452249491079169', '2858606275', '713673247', '3437084579', '102855322', '876949913866731520', '2540915268', '868817197', '888241315493814277', '1277999094', '3710106989', '130354549', '946127545099005952', '140822223', '1891655984', '206778115', '294905883', '213129679', '902225102', '739558621063876608', '575239311', '129489629', '1370191267355836418', '4561044795', '901905246192066561', '159697386', '86150422', '1351325143998619655', '1134980660156915713', '741763948375113728', '1209013521956122626', '1050168083778871302', '187173329', '1046401091422818304', '1276111296208023553', '1328993572469739521', '2172290234', '1352303230756282369', '4852078414', '742152854039859200', '1237083228655288322', '2353760573', '980617607350030336', '108865216', '824801433379811328', '1016204690', '1082616627496173569', '283762641', '206487991', '1052323930839633920', '942090497367199745', '1253662436755898374', '2254989393', '179527759', '432944194', '1155283361033805824', '184237858', '867232352', '3031696796', '260481701', '1663350523', '839554172274020355', '193212813', '1336361429281214465', '2836414883', '2163842593', '928705625445556225', '972215348996034560', '781871113211092992', '1183822235619991552', '155322693', '1096940893150633984', '1246047954265346052', '1493616596', '893079726134353922', '975403380096069632', '610057122', '1370482376564965382', '1218876858', '3418714978', '2359704761', '225145116', '1326052218', '486949519', '196420069', '231076163', '67380772', '1220387042858872832', '1219219926759755777', '2324061439', '2482666340', '1073269774531129344', '903937493539725312', '134596606', '2332162021', '180086022', '4703039364', '1235617356283547649', '2613803826', '1356072719322853376', '1255934362199240710', '1206673885187444738', '2238143395', '265418081', '537665233', '152435629', '2287218816', '485262768', '232687939', '748342165', '2983476761', '1244875459', '1322229443306364928', '1077587935946555393', '2589921782', '2736455524', '1308257245793267712', '882731195834003457', '714948132434546688', '1311735576', '177942846', '1063709328', '1343746294301548545', '94237739', '1070345320943509505', '199387789', '227868211', '1914520982', '86632738', '118878820', '141327690', '173939496', '4197260183', '3298630245', '889336992231809024', '876225889025085441', '281194478', '901622103396552705', '781776114', '3960923056', '876169369650434048', '156078243', '2881252791', '1324052159579774976', '490958030', '852079916', '250245966', '171732427', '727706622194233346', '156824371', '2750775489', '373186248', '1368234500', '1237446284690276352', '3073852251', '141027864', '806127179306336258', '1139906940', '268468502', '29032459', '78185391', '19055241', '306472456', '1204872879751540736', '276987924', '2760447566', '201748934', '328223615', '234357270', '172119146', '746123742573662210', '204980591', '210152430', '1485208662', '85089899', '609123326', '296915439', '885626592529190915', '138178021', '3373326538', '170107350', '1348830334557835265', '821758699', '2690788899', '213821816', '88927116', '1115403616247058437', '841431193908367360', '2821225149', '18898168', '213633289', '420694530', '703896408', '1747333177', '135635672', '2557772984', '1213753074', '1048504060872220677', '2828570811', '544887816', '1033421448629702657', '2612636101', '1063556017164828673', '3131227931', '1344100118', '1656679944', '2370717732', '3665245097', '842901157', '1195797397105983489', '1141116444798795778', '364304602', '849782839801524224', '69800760', '295982030', '340962455', '1275265883045351424', '171266117', '952228929439457281', '3028952854', '1085294169554382848', '2628794173', '1364568619', '144750908', '2400296419', '187071064', '833671850', '2597372696', '635572582', '151186838', '749080145034637313', '3165521253', '420020785', '179709215', '151945976', '833954581', '29270036', '1165677762801262594', '2465348510', '757559605', '302008946', '1292794243757596674', '742745122815807488', '74316447', '49743454', '380487654', '1356747559314878469', '114401630', '1128715099554963457', '106537905', '1339874966100176896', '237845376', '786226742574755840', '2471585863', '2782454134', '227378737', '4626984256', '730567711017848832', '2726893935', '1004848037208969216', '1088913285766881281', '718566686153170945', '4323917001', '1311727996953337857', '205737695', '1337220781433106433', '2540508565', '187330639', '594844253', '2986366737', '149351572', '831612278042742784', '206241888', '1161817665918459904', '2861715868', '172707644', '1245721455956045824', '2370077589', '731408970', '2886199449', '196291739', '577280058', '1224041249323307009', '1054452526429470726', '1286062617187033088', '1268293454435692548', '969410997927768064', '1218927601902850051', '1442236609', '362312202', '1009490036621004802', '169113710', '1717288734', '1548052574', '245021048', '1341720787070414851', '153449654', '194330610', '183446128', '2890106843', '383458978', '178089144', '1383348187', '3060128991', '970447021948719104', '70414730', '48359660', '148201730', '224008567', '2432577514', '1078756839569920000', '4239931084', '1187498598004674560', '1159160942619500544', '1286294358', '178424019', '335081821', '1375985810', '976549020721172480', '4049021603', '4862319465', '1039571129613078529', '168849281', '101466705', '4050465335', '1344653507585040390', '332305405', '937274383', '43232370', '203575952', '1215247381073100801', '1371325473284894723', '719325852920594432', '4837696744', '966669078755672066', '165438598', '1099358013465468928', '340231397', '1321922007324381184', '1156416474392797185', '2902457518', '2237980691', '370478018', '254794775', '1470181062', '354443739', '3206698373', '195538930', '2330723140', '4417466061', '1164908636', '1273728870336905219', '955183701373210624', '922292263', '752538788', '536858083', '195018767', '1263140451349139459', '1345902409692930048', '1361482571142598658', '347340814', '381896364', '1243606257472286720', '1710560101', '335092058', '4286647702', '1338606804968878082', '223571003', '173591605', '3723570797', '1068373620097982465', '196342724', '724711872776249345', '1187891762318192640', '1066852177942102018', '208789709', '375123678', '351981681', '243846064', '4253114637', '146695878', '276210761', '360861089', '1015616840956104705', '830885125747593217', '953048806437851137', '2531359745', '187581443', '1084207618141360128', '770131894801399808', '1179190459', '222308805', '813804262614564868', '222531610', '12763522', '146631761', '3384615124', '490336219', '1113137204', '318119740', '1320922799653986305', '110446008', '368963840', '187737589', '27129818', '4175723770', '1243022201810550785', '171510876', '297767050', '1171518785720700928', '167674894', '94116623', '973681020200521730', '4495763723', '351789146', '1054384603069325312', '159993463', '4778174477', '177612041', '1287904592571899904', '4902537826', '803990678661435392', '254332074', '756945730170920960', '176673574', '1281071338430648320', '1193294520596783110', '701830206542258176', '2235473404', '2159459339', '150013267', '1245097814025211904', '1193667299737325568', '2574584230', '190454110', '1202276508', '758424068957831168', '4145398043', '260394332', '757942808', '171901333', '1412792414', '1205220073700577280', '3756447263', '204623876', '34330580', '843868338438787072', '1372025012', '1258460990', '2823448065', '1319195282', '220861731', '189389926', '119190116', '145276350', '183476628', '1265390321610960896', '1334707051', '848489190', '1097635261217951748', '1125429453314830336', '2947286673', '99160766', '1377831036', '705231625769132032', '1323144797121613826', '158156805', '144236530', '211600427', '1253779036951756800', '186287577', '715713128923795458', '1348444848551043074', '151107478', '494218672', '1191540692822249472', '1216076818584940545', '1232112270156713984', '3245260756', '1239283809239158784', '1096915514', '415031883', '1190767836', '3028718010', '124883739', '455116939', '273786651', '1002817833242382337', '225666682', '3718817721', '190142908', '3297489136', '273592879', '1191126689235054594', '1061643374', '3255052365', '853339022', '4703770231', '3332886232', '1175142159403630593', '4830229167', '176276685', '188442685', '3316003625', '1206992479045783554', '1303510098468372488', '700731250214973441', '272414473', '2453439166', '186132917', '170012707', '1599732480', '45735064', '1961266548', '186677887', '1070143885177995265', '1146623439106662400', '185012962', '135264221', '1162133144843300865', '945777090242207744', '158352889', '1338305927318016001', '208693643', '159584942', '1306969076963647490', '1253136349949018113', '205080537', '1228821708', '2698871801', '968670139', '1155253546394275840', '1295124857399762945', '143254173', '3154507437', '193537121', '1205712871302283264', '1309212678250991617', '1312865803390398466', '1056234834', '237504868', '1122185393368125440', '254858848', '1270739298434809857', '1318891785859497987', '67822415', '2673439637', '305560576', '4449919888', '1339745965448847365', '3377812745', '1278788328', '128032991', '1351290720238370824', '513051520', '1327274068438085640', '984893812341399553', '1032422459662786561', '147812741', '150653964', '470408037', '195854127', '1163864587118292992', '1082733009105809415', '2254877250', '1202671785327693826', '1310340847', '1046101104151461888', '199038582', '921608311002329090', '149177676', '4915799221', '1699615368', '173608031', '286377500', '3411036436', '2861681379', '349923903', '1341166163590598657', '403177236', '333598130', '994431243537338373', '1314547518064263168', '1188598369394008064', '2981594310', '2728314335', '867022580', '265187533', '718135766535299072', '820625425', '509673183', '469349784', '2464502696', '204614680', '287194322', '408402302', '1498592516', '262422301', '1011312969936973826', '633758749', '1131776096582684672', '341090455', '185370097', '1162444672289165313', '1086501990', '17089547', '1395804331', '1243305727269187586', '201543742', '72413649', '102458313', '60812956', '7727292', '1321909825706598412', '79899227', '1286480942819926018', '139187533', '704849325512216577', '220050502', '95049750', '211647718', '1018702575804256258', '2927744313', '82459649', '888367821146771456', '270904755', '271395205', '63102522', '1156377139731714049', '1059434582', '245350506', '1048984881131401217', '199444435', '92991216', '1307925620026945536', '1069066854', '292443531', '260814423', '1290448794140774400', '135607522', '1104116307484700672', '74652949', '119176094', '69415618', '3287015694', '982094748872654848', '3014877580', '481574267', '1212477183400108033', '4270011442', '202703390', '1185610554678923265', '358430626', '835935778530344960', '334406566', '1283083758187556865', '199696776', '998672430435569665', '159999798', '336984318', '1185694326489264129', '1351348833008168962', '245153343', '868932446', '545021982', '1979298152', '750117781266427904', '3227037382', '1053026875809943552', '876575329', '1160682155690905600', '57996881', '1339974666979586053', '3304322998', '1661146687', '191146384', '156494981', '1256710400323784704', '208976888', '48153465', '1180885464267534342', '2435979926', '254359387', '26952449', '3374854499', '1023008492117008384', '3179757299', '32779622', '1141747417844461570', '845703963823521793', '68333497', '229983088', '2788493685', '790557218', '1325226125954605058', '155773273', '2960226371', '1452978350', '831287425624375296', '144007022', '1329562546039365636', '1346778079751004161', '127066112', '60418470', '876357420', '1015236306639704066', '1227609854707150848', '106844985', '1145857085604802562', '22210953', '299809857', '578656274', '48162572', '186670336', '933034746061447169', '2904580162', '1017423073711095809', '175471431', '941444788406116352', '195971293', '1278851185202642946', '1223831475419852800', '175933707', '2792856278', '35737577', '208697212', '869603341478899715', '2589778093', '1073206317035241472', '488976692', '982788756548866049', '4925346508', '177624382', '1128767635', '343451265', '773127342818463744', '256121263', '1154072448', '4517917293', '1329415273103958019', '2280278693', '30141145', '186113337', '219679751', '997333362', '2393220954', '2453275273', '1263882036479094784', '4867527039', '2706843014', '2627226332', '765311228340240389', '1355874018', '934789917158395904', '1253466655650467849', '1044197900597825536', '838622136', '819727860432826368', '186897434', '1166735160483753987', '1279368781', '1211458087132905472', '1623498038', '61325428', '155748349', '236330229', '817557498', '822558392313057283', '145677457', '985512385569001472', '725123061352161280', '145880116', '4083267719', '385750323', '240093454', '186912015', '314745119', '582447410', '1085677544530165760', '1280974526524915712', '3128778121', '4231340601', '37604291', '1199338696845099008', '1223058093908676608', '3773036901', '4197997654', '453317300', '4708618055', '141219844', '127139189', '1469684185', '181227132', '165454308', '369235677', '817357825', '560539866', '1188555981539684354', '1081379430407331841', '1350032350973976577', '1352316858557485057', '258973068', '926059149020073985', '123899205', '70248668', '297964000', '1129553291216596994', '1879307035', '497456438', '1167541278', '277849392', '554788395', '122802136', '154601225', '66690483', '1121876788676898816', '2328894075', '719583620135055361', '761654166863347712', '324610191', '133003956', '1072845526717095936', '618621330', '2587282750', '2646393271', '210806817', '1186034876274958338', '289593370', '146944071', '994742885412196354', '3234235424', '1085147879638003715', '1038461929', '159999499', '813799336635154432', '111310269', '227690592', '3016331523', '183801594', '1205993432147206144', '1170950023', '3426411809', '199456931', '1576431600', '53475888', '572066027', '540842304', '327523821', '157997877', '592332417', '3224697389', '131042590', '1351915532', '1109263298309091329', '1016541606948716545', '1112156080937799680', '3092495621', '1071544278290190336', '150625560', '1308436079167578113', '1216398004267159552', '172934084', '1226918752912105474', '541023337', '58255123', '1245081044', '304124461', '73586230', '166321284', '1284724867', '155571192', '1066111549276856320', '4553047815', '2337191473', '4747304488', '1253677011328958464', '1124477627341922304', '1277405779247628289', '1120402321123549191', '182152255', '735476886097285120', '2939710983', '1267709089624338433', '1000627262', '930968340998352898', '554610589', '1362093498602823683', '170674132', '823263466052026369', '818708761946759168', '982080997004070912', '742851009551171584', '735665228726317056', '959923146764771328', '1248677266177101826', '1179911265235488770', '366034282', '1184310677621673984', '213959776', '733973790', '706306466320420864', '1067009096', '160213800', '1340972741860716544', '87373086', '2280823302', '1198198435', '1344081379894693890', '990780334605242368', '1330595036933877762', '2610095479', '247815064', '1367235814338486282', '187501385', '969374168683810816', '897972791374483456', '409653528', '380396879', '228370979', '7697752', '451031019', '140313018', '142903417', '876856419231911936', '1861344680', '175203380', '93672814', '183710995', '1327793809745440769', '38356387', '1348759728743211011', '111187700', '1206941376082042887', '74771699', '253350127', '1360325776965517314', '210743246', '813338124', '935171180', '14212389', '2953109662', '1309277480298188801', '1191346525529681921', '1036331749314359296', '1252381817811939328', '1331507988', '153867477', '2213164394', '1183575182906216448', '2822019341', '353036483', '241621057', '82653916', '1944595165', '1373437430', '1435660476', '1062042813238575104', '38738248', '1130607589723648000', '911165120', '929628072', '114275785', '2931689950', '147824914', '1336487759276507137', '343039238', '1321944552878518277', '718102862', '617626003', '204850383', '148540819', '74608060', '715672847646113792', '249081421', '2933669279', '315528341', '1183752328299663360', '1195184377', '99784623', '160746104', '10494132', '314107528', '117791449', '1523669762', '1027021084049252352', '145726095', '2649509616', '114247329', '305997862', '820267261479030786', '483333360', '755484648', '2731909201', '1467043896', '1112685412701650945', '1340742833171554310', '989996834159579136', '1337910429557854210', '364661184', '446430223', '519695752', '1222627866543824902', '129366866', '224983041', '187600846', '742244414', '1135779378', '998368511289327616', '1055875568342851585', '1365337236942843909', '1083411924849700864', '1365479837406740480', '3393002093', '2803911490', '3198958095', '984765805270306817', '2627345962', '1294946407342907392', '2574187924', '804348143957659648', '163571108', '47552034', '278356077', '285762620', '1124092931432906753', '93647610', '344196055', '3053376876', '96669949', '4518903413', '355250624', '337472943', '170403412', '263546448', '3315479614', '1355655282', '1291100780389371904', '1138945009812721664', '2960987861', '153530369', '255715225', '270877919', '565541692', '1005473803315613696', '915990028647649280', '145008857', '751535556484538368', '1088189817878470657', '909217381964292099', '1236318405008986117', '198460799', '1947927558', '155039847', '159917445', '2644392425', '1310350493349281792', '1270173079956787200', '229580649', '2162786018', '33123688', '1192209178632302593', '712688053790367744', '163638084', '787061976832835585', '940513237', '227042671', '2337155725', '1117647036', '975747110971822080', '1342552140313743360', '956360142907469826', '1328462361229975552', '178894581', '1018545835133374470', '3004645121', '170329267', '2804171612', '922168319741919233', '1460818248', '1202018728759713795', '1317592526505807875', '1349512242727890946', '1330713127', '55895565', '1230664960067489792', '366107475', '1112980358063161345', '364438340', '596784269', '1002350137040089091', '179218663', '711840493', '1072698983984889856', '267073900', '2220122653', '72875562', '2474538061', '890672843587014659', '720761170433601536', '1168037113968955392', '1222164128027967488', '762237043', '1689289278', '157474738', '278675852', '970853614104272897', '2818715179', '1346602747089580033', '865382532', '1301542227114590215', '3355781567', '2398575610', '1237140605395972097', '498940479', '1232702781624111104', '1203495488999370752', '920713123493040130', '547115986', '2317365982', '785145042763526144', '529756364', '138030010', '862114613235777536', '539465072', '408681791', '271530025', '209323005', '1134861426068205568', '498169416', '1296809783874420736', '1087582528200880128', '858984690', '1398113016', '310377136', '145322126', '1007472864159780864', '1355966214636498945', '3330435293', '993903500038934528', '230892450', '1156560326948794368', '112297632', '1221972307184361472', '1134760424266706944', '4902765989', '166822485', '151736014', '1365803931830521857', '111323693', '2192719321', '568361867', '2302051538', '305739339', '862463887', '553197180', '1898897678', '1283193788744204296', '150535250', '119707380', '734434884303917057', '1315998385921556481', '1329574763962961922', '1314325541445603329', '746541413131755520', '146574785', '1329110239317209092', '2910997354', '887080731675066368', '1274516222386806789', '2947700681', '1855477596', '1684593242', '2920374460', '239010423', '881659818', '936072823', '1237688402096594944', '535024035', '187093615', '1437089672', '97344945', '283124536', '1304702599044759552', '1133930019397537797', '1278638803285159938', '2462058186', '342599765', '289519739', '1292998951', '4062265877', '1254183327340335111', '258126888', '195396765', '953582243250950145', '181044587', '74275092', '401046164', '4126381347', '1342561378054373378', '388032029', '1220868601395195909', '1021774992890060800', '1204607298', '1320503150638452736', '1253032440286846978', '940639639895007235', '940030362184331265', '285359796', '860217843593338881', '2349285776', '1243166510127943680', '1101614966', '571395543', '462856628', '1220692152801529856', '1111825076968701952', '28626460', '468620838', '1067454721517150209', '3184942515', '587775836', '889920091525189632', '1128643063805562881', '455092629', '389822311', '3328404041', '286333407', '787388124737499137', '10179222', '200632783', '502239656', '392929312', '208626039', '1364300603044823043', '1671001153', '1234811650957565952', '383462284', '42101254', '382750802', '1120431555288141824', '578722695', '251393033', '79662028', '450068609', '1268972367302340608', '153246229', '45722562', '45577711', '429569347', '334967590', '101566558', '1476494786', '114157858', '1349386962826911745', '3293888624', '3298391801', '1263138737543921666', '880762092093100032', '1212111949711867904', '1056961226738200581', '142363929', '91567531', '2648815165', '1160674554152398848', '726959329899859969', '1320754175484039172', '95674094', '1005910803734781955', '1282477385363988482', '415554572', '167088330', '216086635', '1269679666182438919', '912310287696527360', '3339556085', '1184836214068781057', '144067994', '785116430', '1493031072', '2163252277', '321709996', '1126756123', '755955468', '169614481', '468597234', '918263812360491010', '381074052', '621983773', '82680322', '828474431337070592', '1194018279658074112', '3037795367', '957008378181619712', '2731923057', '880239418459774976', '460593206', '85707552', '1250027882266714113', '559126465', '1340063242845114368', '1187943807045775360', '1162521180022169600', '132288508', '220494098', '17011228', '1048717362235682816', '634866214', '208911873', '1242615251113312256', '273030575', '1037097262856450048', '936944242013949953', '3293855205', '232389925', '4809988821', '1039984351579176967', '2693191872', '1133799288709025794', '118539891', '80468378', '169490763', '1082404538831855622', '256185014', '1202412463871922176', '147225872', '1351025339275890697', '185802797', '117825098', '835930963301580801', '1159176860334526465', '1135274330391285760', '1173972501984108546', '1497177410', '755296902', '156693882', '1073572449940312064', '4220204146', '979825869924569088', '1292587754329604096', '1153816531769470976', '2408901827', '766062433', '1131661879930171396', '35760595', '573257325', '749710678211067904', '1241187344520294401', '351703660', '911004557748162560', '862466905', '3031822811', '979035539130249216', '721053432321327105', '52829536', '1341803415773560833', '1363346606960095234', '946332522', '147647383', '952144022', '3991258929', '1385792792', '766431794', '273492863', '141754186', '104518929', '345391770', '1165599990795952128', '1305219539890823170', '820137406552805376', '341599340', '307619876', '9732212', '108104637', '1032767658989707266', '186970084', '744703980719190016', '1298591473970089985', '1040016451124555781', '1062099852664979457', '755439216604110854', '459547045', '213895985', '118238693', '50771835', '811315530', '892561634', '1114267997387010048', '4876280356', '2792961306', '1133135417455337474', '51927636', '1239934458792415233', '322664710', '187770424', '395091343', '227746628', '2717368768', '1098661291781210112', '3044724364', '404045190', '3406442531', '2568210558', '138225908', '157301929', '542124009', '154131858', '148031006', '142192618', '997495791924195328', '917769468381671425', '4921521105', '1979590704', '2535690367', '130334955', '1566839424', '329845018', '948246114167345153', '260287629', '86651818', '212674225', '714628196986200064', '1674430020', '487996141', '1044759349946720261', '1036355249768939520', '1143313621080006657', '1400310733', '1245067004945539072', '1129029216027258880', '828061860', '1241731164932620288', '38592524', '206283778', '1164630318', '763767368', '1157377558821920769', '1106194570398834688', '1330442826', '1305926074174443521', '224600888', '556876308', '1227457794', '749408785286955012', '1458155988', '1695126750', '3125481622', '844543980054437889', '1109642639916306433', '186630336', '1155530131', '723280495', '3699665541', '131027881', '241991728', '308700887', '150279664', '707788523', '473406064', '3407944763', '362018762', '236122526', '95683808', '190099423', '187062128', '421621681', '1184702670269026306', '122238229', '1604482998', '138016222', '50114357', '896869283229298688', '2622322203', '330045547', '2508232309', '722823174786834433', '1011030655340306432', '777092375575429120', '217314123', '812077818616180738', '482540226', '103169891', '391563752', '1113517359866744832', '186691980', '1146493560339992577', '704489983894233088', '259540391', '867123451', '1211340891375333376', '776119831796051968', '159620450', '778374184598659073', '2728640021', '869934653377040384', '767205584022147072', '1069304358519676928', '1220078480915910656', '3940656501', '1305316308729434112', '3385231330', '743528677', '1390716944', '314218742', '147396058', '2732159566', '1608850344', '939533054040858625', '407774672', '502062476', '4707642087', '1588475821', '713347016085086208', '730157811720556544', '45629563', '349796552', '109353330', '130205916', '1177173980', '708908895226437632', '56148610', '1232137041820950528', '561193480', '748914602881187844', '151133982', '1025577048562126848', '2327785448', '129051294', '1525713744', '1031978457830445058', '489956161', '1026788691078008833', '1116698946561282048', '3394518712', '798239711559086080', '145869662', '1606138230', '146977599', '51888140', '619541918', '130015769', '1055486029988356096', '751159220007993344', '147704163', '1123075286759870464', '1070449002133495808', '606745102', '1597702597', '703614766460358656', '1337941844706140160', '1287899767507431424', '744006076434112512', '1491401647', '897599384413765634', '1188526193408118786', '384914964', '796524731709214720', '144998002', '334949540', '1244268852520849408', '1067086488', '783445581385654272', '173280493', '953610768582365184', '3977057477', '1100197359076679681', '4530312995', '1206358226251456515', '813154819275898884', '1115416026492092422', '177771740', '1353140635', '172421172', '729465089624027136', '1166467610340450305', '1115805937678409729', '1219998168869371905', '4197379403', '788915709908836352', '256622509', '145993542', '342409176', '718869079726145536', '2871559015', '961362432240254978', '170678546', '166187097', '554075191', '931325196417617925', '523323062', '1118890128737484800', '1255062255575740416', '965421662', '1231254490839425024', '2411324736', '949766595055845376', '257012526', '1014284625592639489', '980671335608274944', '1029017123924975616', '146637044', '1103774230884294657', '359167086', '306344380', '392895389', '1699174052', '918283795018678272', '783741387485356032', '186578241', '968992231431471104', '259848956', '899412346078195713', '1240280836450275329', '1303663416918376448', '4632129255', '2358858062', '53663485', '985705492067618817', '4166415130', '940153657', '1149030860454338560', '155265371', '542778574', '168682450', '1692759114', '908392811552178176', '724230590451572740', '1115585226', '136486006', '732820116', '1165287120052936704', '266658698', '1873909063', '1403488051', '1227592589076987904', '926809110787457024', '200579058', '909425029858947073', '927899625423560704', '1003973569729236992', '2540343170', '187259643', '1075611464', '127661797', '805166086056513536', '788751846672306177', '2184307610', '559110069', '1075568367128506369', '1705649064', '138493765', '2446331327', '1116121465395527680', '1196184062983122944', '474621154', '214299342', '1334730765079359489', '575371885', '1367276184384524288', '152028221', '1284552595198152705', '187415678', '149324853', '1913183065', '208707718', '215273104', '2733829305', '960974208', '337214993', '4110133097', '1142175597176795138', '199681983', '1047915926589530113', '1310377816689709056', '714225600844677121', '1614303062', '129012362', '1131999232058109953', '1049416545850535938', '224006928', '119501213', '901775987297456128', '1010466910042034177', '533557473', '1084207186421657601', '207137421', '1204406253633576960', '740657122132779009', '4525284563', '1152010456090984449', '2464768911', '834140119972069377', '1327744813', '1009509154636156929', '1359232452837969921', '2275474051', '185191033', '206649165', '1217853678780080129', '3297264748', '1354155929168654339', '1921651202', '248427690', '553837759', '1100624763146375168', '1181772458766016512', '1183603529010876416', '854399711477977088', '3244341772', '1461269677', '480089728', '3382569207', '2951836275', '885964696657985536', '958901864342290433', '2327851029', '1113461717256822785', '156440602', '4205826436', '850003102937878528', '1316131417546526723', '1333166485926195200', '959276307224846336', '4540253957', '775634466727485440', '1279183687788175360', '341886682', '1454964866', '967903166925885441', '1031552800541626370', '1587507522', '299140937', '1297190311492542468', '1174838285828591616', '266901286', '1240822646314500098', '2235584392', '55032234', '556324266', '1304628517', '171269567', '160096698', '1204415049780957184', '2960854924', '1044174843774676993', '602328702', '1033052272744386561', '256263794', '159565776', '256160900', '789709872', '239337558', '177775774', '756169784', '753947514', '76395464', '2487023200', '1228575327384981505', '783216518', '162859510', '991766215201878016', '332297663', '2753335654', '874354932', '156049196', '3124205710', '308741724', '87844715', '1261982834379677696', '773244435115216896', '2423323544', '170181771', '332565381', '363294196', '1094769639962353664', '966068289280585728', '128586188', '3165460643', '3402257224', '1350736050', '68465559', '4630503857', '808662931143622656', '1203352441913270272', '1250500412', '170080737', '164042957', '157527418', '169877023', '1267946382', '153934784', '1080706512', '340038582', '1671251730', '2994932649', '137155433', '17442958', '1499338496', '1239309523', '1266852572', '3828990255', '162419093', '1395813811', '259236495', '777652316770070528', '1012385148', '1035593430339145728', '785464039346475008', '423701885', '702146368', '562171833', '1134052128', '3001823405', '811435687', '4770349349', '1117428280808882181', '988449612959748096', '3181289477', '2996453567', '1342887461081534466', '186899011', '367982156', '1188190934', '144935788', '1199264474', '2786262796', '1122969414771662848', '1209212118526021638', '1240345572458053632', '22929942', '111691164', '111689642', '1362863152631853058', '882658154', '2477247393', '1031638038', '1032360916397056000', '1249080407578021889', '4175605816', '129678467', '185789299', '4182854236', '1267942951', '972541484070244355', '174094703', '432164932', '1078758683532845056', '1356294462863978503', '818879102195269632', '1520174131', '371877059', '167244829', '993299255975694342', '3335857209', '2344390955', '4146058467', '1351457090372595716', '394449623', '2197073732', '170534953', '1239315196876816386', '186585084', '4333294174', '702263563', '328708607', '747435239597834240', '3362382382', '146837071', '3234417293', '618369857', '75578070', '252857279', '179363184', '972369608', '304383977', '64710077', '1233411802828025857', '1298355042953592834', '725173422360264704', '170228032', '1200829217333747712', '319405579', '1016863555612749824', '193104418', '903709496123551745', '2801671458', '331732212', '1058433039137681416', '333140159', '1192426805812178944', '1367568610357575681', '343731254', '1131266473408774145', '381261477', '160606788', '1218297326709723136', '281122467', '253012990', '748256170205450240', '2520273789', '83707929', '1346509117', '714492116462907396', '1341476503159234560', '1014554927522308096', '960579239375458304', '208561140', '3131046527', '993907418999517191', '2334825976', '744282006', '2459804617', '254689520', '1181214689923088387', '1294042293658361856', '164474243', '2551924409', '3251574515', '2275213020', '263886658', '568862796', '1277981901874008068', '1263907504544759808', '197629738', '255157309', '30805676', '750119174', '40695103', '516484496', '1270136584420106244', '4104006747', '1129996067850862593', '77225078', '294903530', '1410029347', '1297219471', '948298506611150848', '285075677', '1258352010635751426', '1269729149666631681', '1109578182338981889', '191294871', '73207775', '1242948444777525250', '162255990', '56505676', '841007899', '890008019039383552', '1446639564', '3365331527', '1155350999319683072', '128900648', '1315065046893035521', '1104415596165451776', '1658937450', '1346911890371346433', '769184934695145473', '932838421088829440', '1212914267134889985', '1153511172232163328', '1305611625966325760', '1722597798', '226166954', '225256212', '1301065738745262080', '2493221430', '1262552210342326278', '907402083929817088', '179751737', '2233531986', '858739181031501826', '398280668', '1206396634453749760', '1299503479539597318', '834937377772695553', '2559406976', '840292476971843584', '908354601228935169', '164620547', '197969736', '1172949331323867136', '146886655', '109202185', '173616248', '2821437681', '209904923', '1323839890858135553', '908520758149881857', '143725635', '1115798204229066752', '967955094338719744', '984448926395793408', '1261741030325485568', '2755967921', '31508330', '2209617655', '755882641', '98944362', '915471595', '335667131', '1303213455936286720', '944467517543723009', '953008518721949696', '1262778417524727810', '1311640922761895942', '2688063625', '2436875445', '258749544', '30615034', '89258666', '2268028310', '213342429', '401942695', '1115902813', '148209254', '1210715587', '17810548', '788091807942971393', '1433751968', '188845982', '1354268882060587010', '197172977', '831837625', '813611773', '703273953096306688', '58605618', '330688963', '1240114881631748100', '771841009', '144017601', '143548638', '226793289', '935501995', '1123009790249193474', '598858190', '1549501116', '164820731', '319294428', '1115700553734975488', '12416092', '169277863', '135511112', '311239665', '35987013', '2917823817', '148034732', '145043868', '926337725187477504', '569629951', '2947608801', '284285603', '256115296', '147696136', '353136184', '4908938639', '2546351544', '208595169', '256904765', '749432117214478336', '1258808797377826816', '2598846716', '1673387354', '1154114297066348544', '127534251', '268429235', '2190613203', '37862753', '200320223', '2922191457', '73979487', '866480575066099712', '759887521367162880', '1234679055913570304', '358357364', '333721325', '1269413416072032256', '1051923781780983809', '2836913614', '1211018094497239042', '774392146749194242', '1225181107592859649', '1245049171415007233', '2691443240', '1468326103', '175915129', '1153062900950548484', '177356448', '4360834402', '1137529340365803521', '1032760615805308928', '871544116710170626', '111938861', '831689362001764352', '155388668', '137171185', '15010378', '496332802', '26163791', '621955688', '91889703', '1354486014', '147151237', '16797246', '554438396', '1029353462', '75178358', '2386003861', '128060336', '51971734', '498315687', '337280454', '218504591', '228166150', '1241859515085197314', '1130614167071801344', '798574012003708928', '1261415517782507521', '552156486', '1529402443', '1322043139562098690', '382253977', '1233156688255029253', '447461196', '1219979669178658823', '1892024395', '1144749945137876992', '16417374', '1289338335278792704', '191623167', '2237584224', '748906138805075968', '175108094', '261398769', '1251950562180022273', '1047548474412154881', '1075080699298934784', '3302021326', '262384534', '230755625', '1105308265636868096', '1080480518708301827', '67187171', '716405539023024130', '158986226', '1138445494093602817', '164407049', '408420579', '184177959', '988599322089590784', '1095845390207848450', '2553337102', '25380098', '565191699', '1365623600926109696', '3096238017', '207690344', '36583382', '101153554', '151620422', '104374311', '934861940345790464', '970600318022094852', '834161355313836034', '3161929384', '1231621324684001284', '1205771539', '2651725046', '1230646052426047489', '973058958364758016', '300658094', '182236886', '558326265', '106156632', '503422896', '867901351', '187317943', '277289445', '133692652', '222441441', '382829308', '1238619614877270016', '120960340', '1434736855', '753751028701487104', '4342230335', '125033928', '611803401', '165679314', '717868107994382336', '1298093615726510082', '179628754', '3359261770', '780093978918195200', '1217953728562712576', '2405383852', '208406441', '937902146', '1140387057547776000', '1295419188849315840', '193782586', '149550817', '40566448', '473122519', '1238444144739201028', '1308185913466540033', '140905124', '134243884', '350479388', '1947224671', '1240417293303255041', '138163256', '954531983455027201', '73626049', '36066983', '741231514248175616', '133539091', '126458762', '168688928', '216873068', '29022242', '1105995792622542848', '244737519', '547109656', '448400820', '137117907', '1196135351640834049', '334320139', '152000875', '2935737693', '2925179363', '89864312', '818435210', '1029763591434633216', '896538651961819137', '117660336', '2830500130', '857542193703157762', '727258832121004033', '753430775475892224', '1367224128869122055', '270144571', '1157484846861705218', '4493878043', '208635039', '247540617', '111297080', '385397559', '39339002', '1300465036096405510', '1224417606595153921', '4454642973', '1236631860249272321', '117558942', '430102075', '1266964123088310272', '370256146', '2887063803', '135243010', '710254714672250880', '952446068', '607363668', '1334566085916585995', '180148945', '921501979', '1134936422534832129', '344348362', '630494123', '2350802246', '805297478', '1323261588', '169588820', '1072395516', '752955541', '1002512694900133889', '246367459', '1179862991333920768', '1255602088161181701', '3092512882', '1695281659', '220199227', '208606701', '273679561', '1205241897054326785', '208552870', '1291880001034428418', '1371085722', '863495503', '1049705679504793600', '423563335', '1255173498', '460539746', '407909164', '9976792', '79288988', '1129802952770768896', '317402698', '176967475', '12084182', '459766922', '89261869', '1905762896', '3339309107', '138651482', '1244327686161551361', '2924111223', '3227421323', '787070076516270080', '1152214285529034753', '634979847', '1101503721069051904', '1007043728106774528', '2417049960', '246128227', '534626234', '1594284228', '2163868406', '1143285331954999296', '438771141', '165647670', '2163895051', '3127415769', '1003347343398395906', '396816166', '131011940', '1120460168465137670', '838253609670361088', '228154739', '732703538074226688', '718098656101015552', '1140266505541693440', '4737433997', '1299206058200702976', '1336474607021338626', '1326891343382278144', '1321463936', '1194014798050217985', '2729201739', '476282544', '1330932770961580033', '242461059', '3093496389', '4197729755', '731198960468168704', '195749512', '114023496', '144696785', '1282768789734645761', '209766240', '28924313', '153679726', '596978456', '920489334008090625', '2220273704', '164315243', '160642771', '199022623', '209709010', '1164519145', '252343888', '152641500', '3159915400', '618648498', '888792941317279744', '77300486', '3220375469', '145650665', '249254278', '209095840', '1008059419945504771', '75570831', '724421596056805377', '584069488', '2895296475', '1345436183027965952', '36810763', '768075044958380032', '1362039510310256640', '936942513792995328', '354722290', '888392401886334976', '140288170', '926586762658447360', '700450924817465344', '1343946365370576896', '196729447', '4190190903', '1234152872562089984', '335546187', '243415539', '151159392', '1306613267276730369', '53913397', '1019197532130500613', '1249892637085237258', '410103064', '239108438', '1344201481386422272', '276517334', '164316311', '2669427966', '175902894', '363836113', '381642653', '1304406421761593349', '1282669310461317124', '1290019059552092162', '1346934531278991366', '840438568732487682', '197943178', '143998514', '246997901', '976943796515721216', '193710494', '19625528', '197072002', '274611100', '1089592799589289987', '158173535', '51400925', '1110603129102454784', '877748421649735681', '1071863456', '1349406667981664257', '1347016613862760452', '179465002', '141735808', '1299010349425983489', '1034619189464584192', '1637860956', '352242793', '721475928', '1708102267', '715038347618594818', '634742295', '1554431820', '1193673917560500225', '772979760540577792', '1188966095715209216', '170764259', '3028177010', '21928784', '399819230', '1092073947259125760', '37099219', '420512626', '187326126', '120285404', '1241773464', '959105629947383813', '737703277677182976', '2199749040', '1367336064', '2793241679', '46544037', '1127100661', '840418392', '86574872', '3429201268', '1292632232792862722', '171466079', '816043171', '1186682004915535874', '1133525046046208000', '321135505', '2902448487', '732952040452788224', '2892799234', '1170820031665586176', '1247201677884772353', '1216558972913770496', '1121049199313924096', '1240429828878340103', '140449712', '140380097', '2278382340', '227127607', '1248651153337913346', '1353881308586532865', '164065883', '2877598333', '64318204', '1120749728', '719113379844079616', '1265072086013403136', '2207989204', '2661070385', '631867024', '1171921290233569281', '760193617164111872', '778260640058241024', '4836022131', '492268114', '1079774363396816897', '992323758', '179112456', '1260205002', '352751604', '198695533', '2539373832', '2961490763', '88240679', '1232360636744638475', '278729877', '2998255182', '545558698', '52692768', '1271623798882742280', '902726359780384769', '1166854367842095104', '446448342', '159521945', '173701088', '232477378', '1287546384699318272', '1286108228565245955', '896921451755909120', '172874040', '246400162', '1358093625205415940', '350036000', '844949999100289024', '41442804', '235365379', '1038243462506848256', '1224332286495199232', '1315136658061303811', '209035374', '705143071340634112', '1165122334937821185', '4309607596', '1245397226161143810', '16320746', '154593866', '713017753', '111144639', '1153376467692208129', '830054304849465344', '1262696926962728961', '907618097791733761', '174868768', '189447865', '2616529244', '837127831649943553', '1707879144', '500564618', '756423866', '956573862912806914', '2785929057', '716439331', '195912813', '1363843650870992899', '4880064478', '845869753377935360', '1297251510846464005', '346281213', '857308446093443076', '190832763', '201790574', '1034885899690156032', '165267532', '721918676295933953', '1922116586', '1329428006', '34420565', '168141963', '740240574654078976', '560755115', '1182513959687065600', '1554266594', '3347133273', '147265696', '275375366', '2375026058', '1081950707585036291', '1141462061953757189', '105319284', '2845611337', '2167068277', '1208847010050314240', '1287609831008940033', '226675903', '1283825284790341634', '319920348', '148762797', '575114025', '804815344422551552', '2349629721', '1251589027', '3264452290', '269011481', '347612256', '295287129', '912026826733703170', '1090156166', '318806329', '521803400', '992247446', '2543258951', '716017154', '2259805654', '182831320', '1201632355246596100', '172203161', '287464577', '271171814', '2285568505', '41765338', '2299985431', '2694293436', '142718717', '244175447', '1867825560', '207609087', '133034235', '40738243', '1788134766', '938567997958053888', '170411601', '995213874', '155344285', '74335629', '67056271', '1539808711', '1367170041003847682', '4528167683', '965551230339682309', '208576359', '1358943585236889601', '744345694916468736', '2279165520', '1631058384', '409669035', '2408743312', '1247696032852578309', '131667133', '143572153', '3294562175', '327079521', '887993216', '349896414', '1021514993643282432', '185675740', '821338166976278529', '1347178334397063168', '1257852552764436491', '131371340', '484050777', '1362832656526946305', '1163194886352461824', '713392311170891778', '208560524', '139689780', '1337394909368692736', '57451024', '2901731235', '1676213389', '2585727765', '2838747339', '1045323119911743489', '1166389504372019200', '1354216676095619079', '1344882610300997633', '1797991639', '1029818610682929153', '4334019921', '72692319', '82694817', '184823088', '3495047296', '62616992', '1005663917555765249', '1354153968373559296', '796098950', '62130862', '178117504', '974076606', '166853291', '1217912913173843973', '3193538138', '320519119', '177611920', '2978461678', '4828186090', '603932718', '145027515', '771415750460502016', '507818632', '4027523122', '279023788', '855818407811461121', '181761613', '197629791', '1153268285179334656', '2262996556', '98864604', '976179338696708096', '178009404', '888209840044158976', '322684889', '338615663', '726933241370951680', '1157002754440798209', '1375386068', '210921967', '221991310', '2927471464', '2946638477', '1056008667324125186', '1546833397', '3508080508', '1230686337092771840', '488779671', '177357962', '136103349', '2245492210', '101317177', '2347704639', '3344056341', '150072632', '257282547', '1135277910053572608', '147249337', '946551584703606785', '171997422', '323588781', '9798472', '157871685', '1071174975346884608', '542791126', '1733736894', '367345138', '2654850542', '1271264243887865859', '785813172', '1253362561', '287910464', '417917347', '181266318', '355143906', '1188637112578514945', '1171782875928322054', '1106891827', '21309431', '3829746449', '327139324', '716764722285162496', '291406304', '863246514', '475550088', '1691529644', '579275120', '1571540016', '4127801056', '509631248', '256065638', '209689289', '1283423146545160195', '146219170', '2559598251', '104394500', '1084358814', '580826094', '2279530651', '742394061500383233', '1120637604', '735269682790473733', '22847403', '176442061', '1317097009309011969', '1370912198348918789', '969040712259002368', '2964787966', '3299898099', '75120285', '159135332', '797265517', '63236535', '149304504', '529015416', '207825138', '61596652', '1083351792921047042', '165317314', '1099534706', '144944627', '3515042789', '628681424', '1654117826', '307701809', '1245168980182130689', '427510072', '1279441386748686337', '1185325241771462656', '2218598620', '3984004577', '1253421494673133573', '1038620202', '891007963820961793', '49627951', '729085823895789568', '313975851', '869637831437758465', '4919887565', '458255903', '1164788211798855681', '1128662079320334336', '155633400', '138091807', '1215037711112908800', '3397919831', '4496196508', '170107736', '159588921', '1037166229008646144', '2204233079', '2723740299', '2369852395', '986749999', '883444339409645568', '307358509', '933074082987413504', '1086691769847349250', '169632584', '290205544', '1194742200929796097', '4431809908', '32688201', '1241387440625061894', '4278149319', '4247589557', '32230551', '148124989', '30289581', '166144048', '144648117', '4822605220', '234792345', '586586734', '2627015590', '3365171374', '572699492', '956208685566562308', '2809511758', '1100986844844617730', '1179104639222009857', '1148384126044725248', '209115437', '706244118', '1192190531503316993', '2700745967', '253171077', '35833001', '119348551', '1125722636359798786', '227436528', '182032412', '1587531607', '182804460', '561783999', '558035570', '1323759976624644100', '34352095', '520262601', '953241049', '48886900', '4218021381', '2564194159', '2991145329', '137021461', '368022086', '349257670', '875765979392954369', '276086282', '79218186', '1326324875154305026', '997213405420359682', '551383809', '2457356160', '868683352198578176', '1279469768437833728', '71307028', '822573130694742017', '1129842882574200832', '3144763474', '2422349313', '116576431', '1516793227', '937829149258977280', '1286950014963548161', '960854418', '1269538902', '233608810', '518119397', '979115976829603841', '1357037967219564546', '88569987', '1258809497839194123', '1215681965401214976', '914066858', '114852403', '156982827', '243217113', '93208190', '97588702', '51266139', '626249876', '2365787448', '1001981829270917120', '29558390', '1227754150794006528', '89897189', '240823406', '1313196654430912513', '744692796016201728', '71170360', '719242977697247232', '249514089', '910687904799879169', '116831953', '1180874618875338754', '551439426', '3361669804', '146060086', '910710548932808705', '1286700490663899136', '1604724103', '951651181', '4405363815', '4520483079', '54338577', '987017638340710401', '475771333', '716801926919299072', '2765092665', '773356294581395456', '129026132', '182090189', '403141407', '1104870656292909056', '1084525988250353664', '148903513', '179325731', '163376928', '208260097', '41627971', '732568968', '633700365', '791101818071838720', '3408109487', '725034787', '2334363008', '217305628', '718904797282332672', '1132306189944070144', '81978919', '1301694950', '2159724481', '869844921716543489', '1205508704898039808', '1114420052', '195243419', '1006282885664526336', '297166324', '14102860', '104239528', '3082436751', '3034943843', '213006466', '222866100', '415007859', '701570385142226945', '265677567', '3261472218', '290788133', '1707420272', '1585126626', '1244990093393362945', '1002294923801038848', '628609766', '586184963', '383233079', '564147694', '1241502668461346816', '54102284', '1268217503811067905', '2429241823', '1499825328', '320959123', '1014504100497645568', '141380231', '478000980', '72088590', '129853646', '3225588705', '382117143', '2462568312', '607639673', '4194888215', '1205159338295345153', '167275354', '632006861', '1264932784663126016', '311992193', '100855129', '605797435', '2164836392', '71077023', '181705949', '118084443', '2416272848', '1730030624', '4493784808', '1370990556000686080', '1159185348301336576', '352816465', '178133635', '1163089618948018176', '2805685381', '1236485268', '4923832215', '3056514086', '2162122750', '1323018528182730753', '1276933975332790275', '608460706', '1422755167', '884526169827180545', '1213118837542932480', '165535781', '148436244', '122796283', '971948199773577218', '1921794654', '216889490', '2887453037', '147373356', '1390474225', '42309582', '321261268', '323627617', '3341832959', '1187146883334135814', '4361639481', '304085673', '2364701246', '1065454481469566976', '1149036545720147968', '174853549', '1336899386', '602212701', '943274544319561728', '2515705545', '2314907253', '272064340', '3344051025', '1034569116', '1035595902893936640', '715204806923694080', '57195194', '4492473796', '2333775343', '714255642291265536', '1345059548151902210', '145741077', '571905427', '193851497', '262489939', '798301039464222720', '194963164', '226337007', '1241778936952033280', '187684755', '1323916845196468225', '208776929', '186615708', '1348786636591669249', '797971478012628992', '1328846974024626181', '1032293539059834880', '1300779361172369408', '1277144680573042689', '174869487', '515795716', '1050074047722254337', '1368349668', '567237242', '1220313484652662784', '134518663', '621235504', '3557052615', '251929464', '255581407', '2641217056', '321605438', '1332023682726846464', '51470392', '1162548859484196864', '1184689101917839360', '77051397', '214777467', '1290004615287771136', '1341623600227512321', '1520229254', '1298690680945090567', '507749964', '829076673454862337', '1067142218274750466', '1347876999784787973', '28593627', '1103388760199311366', '1317604201384595456', '1157777219617472516', '2192865210', '178071720', '4795042227', '3356524343', '224028974', '184015215', '707629177172840448', '148923650', '1240421628078698498', '1030148788390965248', '752935232932835328', '1642171645', '1269196407795310592', '253078737', '1012679534322339848', '483257576', '329074274', '1580696912', '1153894587817222144', '1859159172', '1151495602099904513', '1106332361371856897', '274735155', '1338794743153745921', '1170492297299013633', '1268209079249444865', '896074551616049152', '1221455735260958720', '733455713494806528', '146628940', '1063432372841005056', '1713508874', '343127318', '253842211', '582203069', '1154590224', '1857488414', '158377129', '398950618', '610407269', '767776468847980544', '777896745380507648', '123367928', '128101143', '727133575', '882003917617418240', '1323088763057295363', '2511117965', '731884237226442753', '415020891', '1832128142', '243388411', '74645182', '765749551', '159930206', '202170329', '1555557127', '227617563', '1015444266842288128', '374172093', '811732992', '44492903', '135671781', '104783952', '1333088743', '138888638', '1646343414', '179697047', '190476940', '88802786', '78299365', '357147910', '167899610', '519414102', '161486137', '4778739286', '64649961', '227111691', '3383316785', '2844286416', '807009455032401921', '4582729756', '881545243660877825', '891981590427054083', '108506858', '223737630', '166963622', '1254522070769246214', '1687368936', '293009766', '1363418570', '331615538', '181302200', '1165232941364076544', '246431541', '220430596', '1281199647323828225', '1294472329423196167', '1347559823307644929', '9549132', '218574492', '823610660', '1064741583910776834', '200302248', '1026626318404870144', '174509570', '51870280', '1347182030761684996', '1879490089', '431929368', '141839270', '142436221', '41977887', '741974048', '8308152', '425423882', '480917540', '20409612', '309718762', '178160887', '2932292761', '1279923455618699265', '1252615956876210176', '255342862', '837500557724160002', '1371806798', '136512552', '1024769036108881923', '3078455297', '2802957863', '727605460115836929', '87347976', '208314338', '768564596080840704', '4574341095', '147746486', '120827845', '158147947', '294975659', '842445649656307712', '241282866', '998553644', '155566978', '7519602', '67827069', '1187368901077864448', '1388282906', '11830952', '279295559', '44669594', '281240600', '922694222846799872', '578762628', '942426223996743680', '181383222', '164460168', '158153591', '803782687475585028', '1230328570926583808', '583215020', '140169251', '556257706', '51813043', '105374776', '2861752425', '1221263518898565121', '2692384361', '1968684919', '399137253', '1229449606179758085', '145026997', '198690673', '970611543946784769', '1299862468680912908', '27420442', '1147906509952696320', '217245804', '377948122', '562844246', '1190112649163476994', '1228881724463046656', '1852097473', '3248608307', '1299170608715042816', '434560060', '201019464', '263865213', '170470425', '139789688', '828712889645146112', '177381937', '240239572', '438482494', '1354449413414989835', '875191848339419142', '40021980', '1235557422250500096', '953074803392598016', '301179300', '172999288', '202824848', '158637293', '1094394094481260544', '4443230782', '312915000', '118513744', '175509127', '499211420', '201079166', '526450169', '1686621692', '728365879923253248', '1193968411891638272', '186900555', '208310558', '223333246', '4624948529', '162451906', '1939414022', '1279243256', '554573116', '877884232722501632', '1321305554', '1249805383172001796', '189304530', '307976282', '136312728', '1189012268111060992', '112445545', '4301648476', '314641996', '1944890221', '1084113532248051713', '121205032', '305390521', '119453155', '305099818', '1108839073903452160', '410327547', '1349343656617136128', '488975088', '895490797998571521', '309195600', '182565140', '239567889', '1086270578', '158111238', '1272450275018780672', '391858214', '1301513255601549312', '1089549398', '841724179720372224', '190375643', '1271353065833193473', '351719846', '1249051913477373952', '208620001', '2995806425', '20609480', '158497464', '135371236', '163603320', '492226910', '853774313727684608', '179783379', '394934847', '460520101', '154715189', '788471326361153537', '730372372365193216', '1223651758213357571', '187364589', '141444139', '1100190251853770755', '1575822104', '1435487131', '1611502134', '3054764301', '268401185', '39672614', '896193071989370880', '1042706978', '1135647823599427585', '561569923', '741667637567049728', '1548925620', '1358415961', '441076584', '68205347', '2717938131', '1257509973082476545', '86199249', '56768709', '386216880', '316110562', '2359832353', '188322431', '2906884203', '2527885123', '290193211', '1332781670886498309', '1461171193', '2750753050', '1365542107', '744237211', '1235589976685006848', '4914035099', '1026473144599625729', '703152872', '1346830939146645504', '208752951', '1062681283908771842', '529772376', '348004544', '2510656505', '3349245275', '229370600', '343431119', '2264708130', '3294856065', '1162168942460309504', '2229147482', '242828181', '212319838', '1875306188', '1257482734236241922', '1126149852', '1061634388776153088', '2609809930', '2312177845', '892147790100525057', '1321075952', '4448740767', '286502636', '2480042229', '1413746881', '1117525621', '877888124264886275', '2941285473', '1237860436470456325', '72870817', '727217586111393792', '4499457315', '746325589', '205103664', '225556156', '242105517', '143123975', '2949695067', '2319905065', '379855823', '721278240', '376477641', '1318630196531122177', '1241939001860292611', '177460485', '44698651', '626657330', '3294464877', '3319990589', '844014835042058241', '890207161', '107751240', '261949620', '4767685239', '165770151', '194128777', '1033713185445081088', '1127561694706794498', '1298197006104629248', '25825047', '1150122049769226240', '724765167163183104', '177435406', '151520084', '151985805', '860680593373351936', '197791122', '3010763988', '360995328', '325010888', '1149416079892070401', '272942273', '1246570179859013633', '175018244', '734399873743769600', '1292055535529926657', '759580449161248768', '299307795', '716838588', '17654089', '188115803', '467492132', '154357452', '188785229', '1242172522319220743', '2149552530', '149206757', '259286491', '2439217410', '99987341', '355576723', '3258507945', '4691236476', '2527595041', '2596425055', '2190642205', '61454343', '4020654755', '721783939468173312', '1105196259332317184', '904104582594342916', '988920263671779329', '1177425864885264384', '90876418', '1340844935092834305', '195568972', '2480707969', '134456538', '248808880', '1353681461933649922', '809734064', '909296076796186625', '145450554', '1246784383', '1403847804', '2313709279', '990727302114930688', '347351796', '827626401134178305', '1211334918367662081', '911027710109130758', '2244070220', '1030107438199058432', '1005445688757489667', '915695329240125440', '311042482', '114320061', '91683909', '743199412957102080', '1255520703866179584', '764470296', '969923041105993728', '1365485978165600256', '1286607618', '208634790', '1013057283004170241', '1130247906001391624', '1604981575', '301492316', '119072054', '193419774', '2168443306', '163606239', '1344036850051244032', '110202961', '952773571', '201288108', '1215216387322470400', '1142122732668239872', '208413101', '938773595106443265', '1345218623493861380', '2320311399', '1046975384070365184', '864589442', '1329016390825734147', '829401204329414657', '1114261105881362432', '707321641202814978', '1118593958387617792', '388490861', '290329419', '1107064053355241473', '980178047893753857', '9812592', '628584154', '140578672', '1136740320153149443', '248594150', '102348840', '1311305769044893696', '825008970435854336', '303771018', '1679409738', '276370656', '3810270974', '2208103782', '193489320', '879369960887390208', '43116914', '961313949814837248', '3642540443', '976994190', '289672379', '9426752', '1116375370062864385', '301488346', '2501802037', '1243657357403529222', '256649230', '1036321040467742723', '1194601247053139968', '133346711', '454893732', '922189028060999683', '285405708', '775824097129496578', '899942869808623616', '96358734', '1252583754', '309172658', '66257573', '3064700062', '151734578', '1285380092798087168', '2166739507', '209359633', '1319095765', '236193489', '3007412165', '261717110', '209328384', '135554733', '54320058', '332490667', '104894993', '900271822465380352', '108623222', '175234569', '1074091148749230081', '600561959', '391109305', '1244986485406863362', '456184752', '762134499622780928', '1103595560764878848', '1004458319099068423', '810611806150520836', '738775161353043970', '439678036', '228364497', '273949940', '144603549', '859736926647185408', '314075920', '22466237', '324931499', '960928702333939713', '1005465452116676608', '1179376742772957184', '317578294', '1049462292470013952', '1040334944969601024', '311679926', '183896225', '548821505', '1162070841561092102', '29794546', '1132296198159851520', '3424307381', '301394575', '3110050877', '858682567', '795453303224147968', '3226803329', '807313489618419712', '49698175', '1177195601114611712', '4196235327', '1141262652', '204817424', '2660419755', '862793294337765377', '57152559', '1057433570900406275', '293497324', '730258788', '397763031', '2765208719', '1165650276000440325', '3335211843', '180173625', '373165807', '213085218', '1317573418779332610', '1048424713331134464', '1055292721584316418', '335025023', '1298772969129488384', '2583140046', '148681357', '35744749', '18650315', '136503259', '1093543319467163648', '481975041', '821827713950515200', '3793260399', '60439734', '1674446316', '954006500107841537', '2717005805', '2159339254', '4715115095', '164665488', '1281372909035028480', '825521246', '233389689', '2996503700', '1310144829477785601', '980903664490635264', '1165403892265476096', '2305401146', '1197234448108011521', '3119319749', '174096782', '1621346238', '1222249865285132289', '176819357', '232390035', '876625779572035585', '788718036513591297', '132335089', '180809488', '186949989', '153913929', '396920233', '129798848', '2968307206', '736089367', '2932460692', '494313939', '1108892582745178112', '733479177081475076', '801114705796407298', '1222086776', '156336457', '1347217501554429952', '128819764', '1335320535748784133', '326376462', '475794122', '173893542', '137883716', '242182408', '1170494331008028673', '397199261', '747281093737406464', '187377030', '244190037', '139850815', '336632643', '906206342557421568', '340695714', '1252450331016994816', '784831968160669696', '601499048', '752140087', '75603470', '2661229229', '40698223', '344940001', '1892212711', '4040411441', '2493684049', '307486991', '344881181', '2588754364', '488116078', '1244260104', '186860963', '1083863349283225600', '174831487', '1855058784', '121952126', '1258784385740025864', '144326104', '871144289295904768', '1353081697898819586', '1357516629647761408', '1130975391051583497', '4021363749', '631414489', '1250580820240338944', '1298357538883358720', '1238142784273625090', '775783053348245504', '1316587040268529664', '198022623', '1165733409358045195', '725324693142691840', '4617419783', '52469541', '293825505', '490636475', '67210156', '3005999141', '342138686', '4739843962', '2345409651', '3427248795', '48966397', '1394204360', '824638331069825025', '361822064', '121127090', '82275085', '43746288', '146144873', '1897886713', '989174783786053635', '547934750', '903899304', '1318958156', '140857224', '2300419872', '880123893226373126', '1260004561647001600', '3395614366', '1160668717069545474', '148445663', '538847953', '1236766925067292675', '4624652921', '371527797', '3311072896', '209237579', '356984416', '188900390', '3383773881', '1331739410182909957', '921508267225907205', '368600084', '4138779101', '1221835464715403264', '150317365', '82675674', '519529372', '1626262531', '1040282548121821185', '153653271', '1364240832644153346', '523486445', '1249556167', '226805977', '420707928', '248976466', '2708523298', '1352536165', '816776609936134145', '1437215929', '954626191', '1321869910448943105', '1345494782903250950', '1256344910745284609', '935853567109468160', '3610121554', '1225224687560675328', '909060172781322240', '250889799', '2725404197', '2373150309', '195323868', '56564748', '900024756552040448', '988062589803487232', '280723383', '186591201', '985221828544290818', '741040185375363072', '120264387', '1241707697784983555', '2412553350', '3700995741', '833832584', '154253934', '1296157717208485889', '937441433883168768', '559943146', '464270164', '302313046', '208270814', '351144670', '903035537052848129', '748645637097459716', '1263232703924711431', '2726851856', '186484265', '1130592571271581696', '985383653852229632', '1089288529014857728', '51630292', '1173952150956838912', '163269498', '149119226', '838076556195086336', '785578560', '67001890', '127665374', '282198872', '94937810', '1284211238533320704', '1569336692', '436987573', '1188584446368321536', '1196272260899917824', '254670770', '204443786', '257052076', '1308431444', '909219552944410624', '1158352715342393346', '982382851458027520', '160003183', '109140146', '724338968221855744', '229715682', '832616558576836609', '279294876', '726851503303102464', '58685006', '51538880', '540455482', '92041361', '3198370677', '1349721751559798790', '921111954894319616', '908779258520199168', '288019286', '1235485946126229505', '1191481572433780737', '146554258', '1095119175813603328', '1133921853372846082', '905501650324004864', '728580507341066240', '1121626537835544576', '634264179', '4025065647', '1341672509373079553', '313657486', '1208391977831739392', '974653580530651138', '966719385158213632', '1224425991289933825', '1266421725799026688', '75851654', '349000518', '145350858', '758039097160204288', '1253490741751566340', '913513096144211968', '520719310', '872405329', '126998883', '199443255', '4870796369', '195929488', '208625782', '2540279683', '96105082', '1170750922756165639', '3011463333', '398513955', '1395047238', '915958742', '1086020973445427201', '165876035', '479069805', '76496646', '170125193', '1003359188444164098', '2765706388', '1283484163354562566', '233942203', '711529935412838401', '2989735102', '1012760409760296961', '245371271', '276145630', '220143328', '1022839265225568256', '2828134642', '816857102090203136', '1362698784266944513', '185373552', '1290456118737723392', '1309609083847221249', '705754381', '51581290', '2862569044', '158120141', '142778635', '716857078304935936', '1007131587228692481', '202342780', '1269335098886967301', '1653957115', '281729765', '991161287840329734', '1938134778', '494974702', '2729349725', '126613956', '325233102', '1157604001304784896', '11289792', '925507909596909571', '1119394500919615494', '1180619412992385024', '216447004', '2745307886', '2359493995', '596303775', '89798737', '188413041', '235294660', '1739675750', '813015055', '145706374', '240775243', '253184353', '145802621', '297663996', '186375788', '199709720', '1275259528444026880', '1318285961562816512', '2351940138', '2560027255', '177019042', '546325498', '1321891941567631362', '1077931425276616706', '1016398046', '887851611359502336', '158792141', '176018500', '1362336750438408193', '4163243091', '206024673', '315320072', '721332361', '158538534', '51833278', '338114537', '1326385701424861184', '4128168615', '1245817952366190596', '935800273', '878277169251856384', '929609567687860224', '4596529996', '73757243', '231418958', '2357616485', '1350501807387193349', '1190001991440883712', '40836620', '226010019', '113679736', '4745170156', '457648837', '3015948319', '159602028', '187738320', '1103387646380949504', '34057511', '171970268', '174847283', '169702698', '4540141155', '1494746587', '171451883', '1188531668086337537', '199465815', '186856266', '141053332', '76136038', '719652528728707072', '39085833', '1180954118350938117', '1356960633766498310', '76310655', '1347238232396853254', '729396440800309249', '1065235133756784640', '1193677243232468992', '731613998207143936', '537259438', '2309097582', '201766655', '312700216', '216118168', '140202063', '208147583', '809831190', '800879140291354624', '1099983689725997056', '202637072', '138879479', '2475106641', '1300538383136100353', '598963192', '3290481442', '208654573', '1166020969577799680', '2398169220', '1542375637', '2168469250', '1224307182658818049', '75372610', '844231450530648064', '1337381787622846468', '184615103', '1313196624928223241', '45941354', '1170499663', '987851245586182144', '842581637514846208', '1164678944601325568', '429969383', '1100008267705651200', '838949384', '128065864', '1113858140968247298', '767845388', '1281608758062460929', '311988623', '1253433905534742529', '117258389', '524603212', '186818471', '1161386880023367680', '1045772499257098240', '629441846', '1121207440874274816', '104037810', '3041200805', '1186430741330251776', '1671167712', '3350748929', '44955901', '110267572', '3252488392', '1242981920830562306', '4443532882', '4776916222', '2906324140', '187538606', '191669401', '223468843', '1225580228740812801', '3370895733', '2464603111', '2043051', '1161798202389123079', '1177401134002200576', '1242154507', '23713403', '542671696', '11865722', '2352394681', '1905178711', '42269932', '1206395532127735808', '125484158', '1004905187671199747', '872941176000827396', '893812281150144517', '190207102', '4194633257', '4212845729', '1220870954701742080', '155727266', '1300967898765238277', '177252745', '137411905', '4220156140', '711339485959757824', '211178314', '4855731579', '303944701', '1160581935242067968', '203215796', '76422474', '478350470', '65106920', '532677812', '151315216', '1068872452497989632', '197289818', '74739964', '203395056', '50778394', '67724044', '17946795', '48323640', '184531257', '396036076', '1142523247839387650', '564546502', '20434882', '277988219', '88778227', '933574259158470661', '1340825139458535432', '1071174908091269121', '921553402970148864', '2350294314', '349713622', '349326889', '111404577', '4464950849', '560742995', '2317417494', '1035224785163304960', '74568630', '899442443656978432', '900832572', '3152588777', '108739926', '264259993', '2956613373', '153265399', '1262182116', '2996316510', '595467425', '154051473', '5835972', '882367094', '1042000339627589632', '1438946659', '173624053', '914496671840702464', '913952404286197761', '96436166', '41227025', '525479564', '142962575', '2278485025', '1002743816200310784', '1546777428', '756073988', '255175194', '2629679337', '925836225315065857', '939946871467933696', '362230875', '2528601255', '162920714', '1624241750', '968689596', '2603982499', '2244024735', '1325897155', '252438193', '922357287481757697', '128139480', '93784948', '410815933', '20509756', '2824777716', '1018533134', '1208203436182966272', '147895066', '207862777', '119320260', '272421053', '134621582', '324132332', '605937708', '182025021', '239009408', '538748425', '157159557', '275688266', '1076269718020018177', '2703216612', '250234714', '357245888', '3485336775', '1006395997898059776', '635580461', '1284582910910246913', '1161593694128152576', '402321878', '948751118015893504', '226803756', '4893563615', '2647893499', '143870905', '176508401', '12477882', '2763439256', '259976071', '362618457', '4871194606', '196788822', '280562930', '245205858', '1362073858120052737', '221036561', '4635617842', '1238278167816798210', '1251891049867468811', '1243863200828919810', '946900478129995777', '272210398', '153044633', '881751678', '1206012314', '2657222561', '127872008', '870812044790050816', '352477015', '1078694346524889088', '888762848264036352', '186960270', '1353072206348128265', '92172867', '1338905873326989312', '464447558', '601193880', '170318098', '560781314', '442458438', '146621283', '304035406', '1232511880612192256', '111049720', '84488836', '186596888', '753689152776962048', '4493415735', '743094485941358592', '995304068452179974', '436217614', '249834415', '1089559024620789762', '1245816796655038476', '968823926267760640', '867084306962894848', '2332367522', '193868173', '354976710', '2724026735', '102128926', '705835900866072576', '405128305', '181442512', '361589390', '2435792070', '1200420188501528583', '1241033185175240704', '1659636854', '3845639003', '852297691044425728', '1220062717949759490', '4442288019', '825751054843265024', '115131295', '1160658437413453825', '46962416', '202877974', '849979242', '2890798935', '208648062', '3355533215', '1329176214460915712', '1181550214768971776', '1241874768569274368', '342465718', '60239907', '2355353503', '204796560', '1380090487', '1240846306572206080', '1121202555105816577', '596773471', '216107037', '1284896379580579842', '139919645', '974765396061540354', '2769136001', '491832691', '246190006', '1266499376148594689', '2876452570', '745339783', '1028845317444259840', '719690726641164288', '1140730023869067264', '147420443', '4839826433', '1294035604070633473', '2982376815', '361449010', '1140609908792025088', '41284894', '2767961373', '230535685', '1005120384847568897', '1308254296841105409', '147627205', '2150901022', '202392790', '1189334113234366465', '1353117961268191232', '1345022755335532551', '1129914738949926912', '332431489', '3025024143', '1146803611088883712', '786224111512985600', '1248587681363365888', '1125478031999610881', '179515698', '312696011', '306448731', '40883424', '253481058', '228127068', '844352439922950144', '1110648243485065216', '2769280281', '1259623032282386433', '1024997977943953410', '284225527', '1043813260225581056', '1034962468530008064', '212967132', '4285290443', '102133975', '1226991031197020167', '1353525285413658624', '771354000', '455943160', '768273042', '223952708', '2352723157', '4558833346', '2386167566', '509303240', '885264176381403137', '546440283', '848972411089367043', '952161753475018753', '1047764989', '1038523137443422208', '866175656354340865', '713209489898471424', '468030196', '52793033', '761311858301235200', '1288600383426830336', '1158772793753911297', '109372023', '792372626643619840', '350676820', '1249446470', '1251879145925152769', '1320783198104813569', '3226241759', '800912421028147200', '83359859', '611329207', '1158809650818686976', '1028443179442491397', '42271371', '296044994', '759647145167319040', '221008263', '3001023418', '256727466', '242104903', '1220011163620122625', '709485488135086080', '3432385150', '14541101', '43928706', '731251866840014849', '1308086654540886016', '1118650202783670273', '1355218914700107779', '186656743', '1173298758', '938514109842288641', '168349300', '1122701485', '1197143243818971136', '1705539680', '883754100789301248', '57242581', '116313517', '2448435668', '4537175847', '134605624', '159968813', '475408248', '378982113', '171266038', '1245098282147250182', '1252790401477619717', '1205941761115336704', '431211621', '1231673227979694084', '1089676435940392960', '1011378459111763968', '315489713', '158105787', '2553393119', '865271663583268864', '154785800', '371924045', '1351174645823795204', '1184483672', '286411549', '613770835', '166970332', '1415659434', '829314821225066496', '1021942432680894464', '1229362173757083650', '146876667', '1337013863900979202', '27437800', '3866750728', '1684842697', '3431453813', '246135586', '73485513', '1335689501558108166', '460625032', '175828028', '175076240', '143135629', '2614127241', '244104833', '2458596549', '4197210873', '230052196', '967982390726586368', '2588435474', '2185096220', '177344569', '1199320338661859328', '2943946313', '227512425', '1148943825383186432', '289060020', '492803221', '38335921', '707211748', '167983391', '1229894436886401025', '187676774', '155400473', '1482974864', '240315342', '1173207557822963712', '311171526', '1306825927385640960', '1296183742004854784', '131674890', '145498402', '2523065834', '1352930725', '2831936617', '348243889', '1049349235131473920', '940594704319700993', '23714448', '760960848902950912', '492685867', '1381867915', '1096660215670456320', '781326794918096896', '257167033', '223327546', '49601974', '986801155', '57418188', '1251946045904486400', '1283114954212737025', '171992545', '1095872570182823936', '164461276', '1061821732661747712', '987962258', '200480245', '732243544430264321', '2548466070', '70057395', '325755428', '359791727', '396777291', '1216492249120485378', '2350555667', '992756818953822208', '4135535363', '997988687471415296', '1022033203', '1112538344460877824', '128013208', '362083915', '985682095887527937', '802840771', '111375636', '87096121', '1332708198118289408', '29958859', '3799405575', '1037650442770153478', '1360767962140049409', '61234458', '1353735604132065281', '356376840', '196583740', '742261140764413953', '1010705413', '158878992', '1695384984', '171183668', '172888605', '1223562672', '109624142', '738140320995500034', '310424968', '1666591518', '481623184', '2323192124', '171495770', '175888555', '52196604', '2459950690', '1259851061059346439', '833265319', '3377601', '130253318', '305131389', '741622723', '177005322', '30256218', '158056277', '3266374322', '2270991664', '184647050', '1099374073111552001', '142094078', '99709289', '1036212193', '1335445152404561922', '754006952502501376', '1259954252417556483', '1042599949156999169', '214668948', '2794445819', '457468040', '116091473', '114814075', '27067619', '67882527', '140954871', '891375166080655361', '129934313', '1003356132910518273', '73936862', '364629257', '74538670', '139271002', '159980880', '60095649', '3135531244', '138098000', '894228018960486401', '301500997', '1053795086683856897', '131982472', '4354982777', '1274120980194103296', '1491357037', '1144385038403985408', '2557192298', '143608646', '1251685549313794051', '154267119', '945798631860461569', '1184895934213382144', '140860981', '85466374', '1081119027265748992', '1296491134529789954', '1251897239561285632', '107582191', '1243354625572397056', '1090000748459581441', '254307984', '1229170825028349952', '1197223428429959170', '287904782', '338505321', '564909511', '171988716', '181306415', '238551978', '220876835', '235396618', '3421061332', '335101650', '179590288', '2645387561', '382753072', '1141100611414482944', '163882660', '1135484426329178112', '153061071', '1566827875', '1007042097868935168', '810557337949925376', '910146673535520769', '19994617', '700785752808955904', '182406775', '4843916997', '2743599124', '88350782', '1255483116271132674', '4889019081', '241784234', '938400321080094722', '1001287888888352773', '290302603', '1324871731425718284', '1171767038320218112', '901599721889857536', '1073266333264035840', '14625760', '1222652513335357441', '1006944982933090304', '187210003', '15678854', '4794701239', '166866466', '292458412', '182128019', '2727513978', '1161799407416893440', '886711257730093056', '3167419863', '2323372273', '1349783199749206017', '371965718', '138922158', '627443911', '522727262', '1107823645655748608', '208557883', '551981377', '2769391799', '157151068', '1244745846', '159942973', '172905676', '1156619417909944321', '1276775322415923201', '1331653573151698954', '467575703', '289976151', '171721977', '2590891690', '1309087153', '955569727157555201', '1112356974', '1847788578', '1320155618267795456', '1068597716', '1192418126585094144', '1109209940', '1257116737717354502', '1285047218626584576', '567468662', '705753148800045056', '112822128', '1556206579', '2205585320', '2209736826', '173122830', '913851340840931328', '2240275842', '1284915539152908288', '1017014915905843200', '1152574232', '754259918', '162437449', '172905807', '814373666', '1649276222', '395965179', '238783806', '172830037', '1335973821376028673', '192067588', '942468433375059969', '357775417', '306282117', '703419624', '147412506', '138068749', '15669427', '232110195', '67094428', '454761578', '801087476022575105', '1348334698930573320', '1036096082881724416', '941859831073341442', '1604370595', '2306890662', '210281811', '1210686576256307206', '1358165211207905282', '1270878784598740992', '895417010', '1273673960543129601', '885542383', '975749638807609347', '752170446884311040', '299387135', '1031567808', '844933952', '9713242', '866825793359536133', '471587538', '128661177', '4690099999', '184607443', '314874613', '1285258292982317058', '1210050590', '87363118', '2271833782', '160288728', '208753739', '177352025', '111511873', '67207970', '145423127', '525693353', '146184893', '2353168952', '2369493301', '1084712089', '976279352894771202', '161302854', '1011367170', '41648463', '612532996', '501950486', '59227932', '257981798', '1242614406225297414', '1252064232851546112', '4360033337', '1349745907584135170', '4197591263', '1296292255951618051', '352559324', '161154459', '1358011770292600833', '1087975170533400576', '943833429933805569', '196160921', '3063990479', '3412975283', '314647989', '1183553462493204480', '823080633345966081', '467841010', '333631833', '573306654', '203891744', '66054070', '208645875', '595214967', '95470983', '4717861899', '4750006408', '1067161716', '789232543', '907109553023721473', '4174334422', '2387662028', '114597566', '324500200', '1250118162571501570', '254141188', '1007053410351374337', '1697837851', '359957144', '766480913320579072', '718264030436175873', '4148248965', '1447823168', '1349663293', '2349369183', '1306033736358801409', '1537653132', '844631365', '268971045', '342877165', '4819142877', '891307526', '1251322922536505350', '180919392', '137574089', '860550045787140098', '43931819', '497234482', '525538686', '573203560', '153518294', '2376514615', '462274572', '859382582903013376', '1126172199407239168', '275081731', '187095169', '753056065193971716', '1219057606741954561', '853784739479683073', '340579354', '337920960', '1244938560698044419', '51177955', '725757278956212224', '803812378332856320', '3723551909', '915021088043696129', '435221122', '762612416', '862659313415925760', '1227608610777313280', '192208402', '195197197', '904397273899167745', '164897379', '37094608', '345063935', '17042220', '371241399', '1037123144669126657', '18760638', '4406287341', '1227315417238134784', '888380629888495619', '783055052068052992', '1213799001037787136', '1183537595013304322', '1867891189', '714421396655448069', '1242586204102627335', '154960505', '3194863324', '383473483', '197306598', '289656027', '1298766490804654080', '4777637548', '1252364129421180928', '955220588410392578', '104042668', '1223012824949100544', '1570651556', '73935840', '822857536399347713', '180193477', '125117108', '1245739867', '1428160320', '1738469275', '74783418', '344939034', '2437042620', '857307102099816450', '231305027', '1173541832', '102480973', '200081004', '179669951', '2328915864', '946185744', '1273668558875168775', '2860557363', '3540901457', '14779015', '938482345', '4288799417', '167128478', '2765244448', '587426494', '854139646409928704', '543642664', '114572119', '207314531', '3908930669', '1544378821', '1008023261387677696', '188598574', '2767329246', '584810441', '3027242627', '180909894', '134805116', '913871657835663360', '1237724031467560961', '595742210', '3028262879', '187311492', '300464932', '1259503017293987840', '13158772', '2379494317', '2177139286', '224036878', '1234211684169998338', '1274058039495098373', '830940026586423297', '361372635', '2987069902', '550518002', '868805690', '1594864236', '91159899', '779735263765532672', '1341172995080019968', '2165876184', '211169940', '111180188', '36664884', '84016224', '1344310679277330434', '202797028', '325735030', '115968666', '2636127485', '150285599', '757232985968082944', '129360593', '1244764798493036545', '897218600037212161', '179302170', '122611030', '830981603954421761', '796674541934223360', '848193698', '1220163912718540800', '2436827208', '803667752', '173348160', '564682653', '4836745408', '1329766694', '1211104250182291456', '4111238584', '4631319263', '1528205671', '1122981282743451649', '1528669764', '2243392332', '4301877083', '362757718', '277051756', '3245735321', '1234867681834291201', '949103877483319297', '1347580824112287744', '986029222404739072', '1167795465791971328', '1180844262054912001', '3153998255', '274532892', '2715197615', '264147962', '225982647', '1188563364945022976', '2935084643', '99225301', '1259995012923822080', '186132731', '2408295277', '4197767967', '203772685', '1230594191924899841', '1304426030782910470', '2265974690', '157812708', '1362223376576770051', '4780250435', '2804834407', '152663158', '1097537909262045185', '3772580962', '1005993807605837829', '1121975736250851329', '734047893460516864', '4464549820', '1011153944', '1267119671456739329', '737741044880658432', '2422539725', '180101459', '1098257023022624769', '837806932585025538', '1110601941468565504', '127853186', '1087838470209499136', '1050837684359446533', '1209546908', '796884961', '195603073', '292462547', '149004973', '4749674602', '389086737', '41023765', '1353723232818507777', '1219717499064930304', '151317587', '935667552818225152', '188525384', '1243228805470334976', '308099147', '959553138335342592', '902884315058634753', '2846083090', '2450142072', '1355483566407348225', '3006809145', '139766311', '54646446', '1069201017676410880', '4028889471', '3044875205', '1303732546157645826', '2721494861', '472405744', '1208044816904474624', '1202429448', '1189548326972252160', '1140439199923003392', '1438210056', '3027499199', '972873872', '2524121015', '829861039533654017', '296752118', '907244917877026816', '197092904', '2349473132', '399639273', '775791715546501120', '224470275', '115195105', '150327924', '147688199', '984169503289434113', '1211297899335704576', '1184280752000765952', '1291181211310788608', '249802757', '3000367372', '210334762', '1353736819700064258', '1710988159', '830273994', '3219274413', '1250604050166530048', '100358168', '755310985', '1180887796325765120', '165544917', '165096694', '862430689819602945', '1130236669804859395', '705586417', '138190955', '153506617', '974774415815790593', '1154961519186235393', '202692130', '956189040', '131540481', '811719374935560194', '1263290229810704393', '1041384435210493952', '3703103362', '863532752129458180', '3438861214', '1345768268557148161', '157223193', '17057904', '316138945', '250684636', '131237270', '971183602401796097', '852867931', '805303296', '1307418017303875584', '325254177', '1226166336226766849', '1289631592441425921', '187059258', '1165505476987183104', '176385015', '2942385669', '1243266127607848964', '2941437491', '1023693307896061952', '278744750', '614037279', '1309905756158910473', '809288169292238848', '2436154026', '162050128', '149596287', '1132659569329627136', '190447546', '1260701962485542912', '716704107642425344', '377822226', '754105986286104576', '155966497', '334879732', '1362507329757995011', '2333176204', '1139237404785725440', '396554010', '1169439654157914113', '966381811495505920', '92425891', '1316010859886333952', '1203023639597195264', '140538137', '4078769423', '1460917074', '167229480', '1247971697531203587', '960874548', '292654310', '1310361585597198337', '1380623233', '1142546892242456576', '2361800066', '1694197596', '175568773', '825537000', '1124826164009238529', '4194049528', '849415542763130880', '1257848773067366402', '242607222', '213634291', '1305635524879831040', '852638004460093441', '271199996', '1018883870710738944', '211565784', '1146620528', '1167554185920950274', '1197236051414257666', '3087313836', '1137410524134744064', '259763826', '153631069', '4561084275', '1295120353837146117', '192331341', '816024738589982720', '865594055190818817', '4808212222', '178995064', '3788642063', '2533551518', '210927572', '775125866733068289', '1317210389680164864', '1183807583880187904', '1356052834639355905', '845991988554059776', '4779391756', '748980771931709440', '1036027208442281986', '1280290226', '169513911', '1161406005827309568', '4830434841', '747462324953448448', '1159620589516140545', '707633806476517376', '1309135373122121729', '208165465', '1266146466235637760', '2545873020', '1230107791173603328', '3901261414', '1227985600998989825', '145329447', '3419943699', '1008782176610144256', '1157078873974235137', '827886906671243264', '1689379274', '1050418659888390152', '190337474', '163661224', '2335989295', '186280689', '2828754742', '263754748', '3095105310', '3382359922', '900013566018936832', '1644341802', '1329226386', '348213542', '309951638', '728249351814926336', '485282298', '1044980035642425347', '407294283', '236454760', '181232300', '3368419893', '251166174', '1034508356436877313', '336164891', '748401642', '767155995671982080', '1017029928628387846', '1014901323236626432', '1111357633976565761', '716282224', '1049690888933380097', '2490283934', '190434769', '1290296934725558277', '4087087275', '1193787278', '1354905774686875649', '1216501633036754945', '1659527748', '829890822824943616', '192755213', '2595631321', '517485247', '1302351437779918849', '1074411735065481216', '1013846859872395265', '2394972941', '1291124688429752325', '1205980838975983619', '1219747840987160579', '282833933', '1002163575463522304', '800842329636634625', '113659088', '1342844526', '996529701031161865', '252100000', '4365050801', '1533953118', '702509333565857793', '212697914', '75231027', '1032282282252492800', '1275209392892325888', '4486055565', '4826246397', '2313072111', '1303032477905190914', '39831569', '1611512233', '1171547257633726465', '2593787585', '1131512950957793280', '839104133227499521', '1057407209783640065', '714381385', '2325441230', '727666847051616256', '2342503538', '972607370', '185007458', '4461352887', '72425560', '238258844', '151955647', '271148086', '939485119', '1252962370005151744', '198883031', '1139212742487924739', '1214946375206686720', '316910421', '1180984333005475842', '105270287', '953879132', '903047798647640068', '756645318708588544', '1244015640', '569416360', '206184452', '1322936824105414657', '188524624', '774581886', '1027606846864089089', '162537995', '3386799940', '3493621518', '887156181483048960', '4812370257', '872664229', '1326736190', '711656542479781888', '2338546143', '594358648', '174016857', '3367964339', '1324657944613523457', '600710938', '154965274', '1262800034753634304', '1332505906228174849', '1332380010406096896', '1075211636', '700823119993425920', '1165050368432193537', '2582526618', '881267766447230980', '2570104899', '375502775', '4900008699', '160617292', '1045339257576071168', '1186580481023893505', '86185915', '2191811787', '1490275704', '1321283526679998464', '171729196', '508799001', '1096381861834772480', '1031218769358729217', '1036993921308610560', '941837048771735552', '1113260766155743233', '1121521491554832384', '3421276240', '353964646', '942974620696809472', '1189595374635368449', '276274050', '2355705025', '859489247086206977', '1228796774', '82813129', '2990156955', '1266161713', '1173020492057522176', '238215010', '4824875320', '92590985', '150030377', '357403601', '2198937012', '144531097', '3044714165', '1159064509551644672', '1357355785827811329', '1909623991', '181103645', '1257028917006868481', '1033340821486166017', '2418905506', '1470901284', '197411266', '3028088058', '4843889267', '144730094', '1038643712', '262906202', '3239194919', '59121315', '438397335', '320349416', '1078350376204730368', '927912322127089664', '1123221661401210880', '139437252', '550124147', '164709366', '1324397612284391426', '2728254677', '1041766013652676608', '2243295479', '149662270', '2960852535', '272192654', '21111224', '1337068069101965314', '899019102', '1246092379251257346', '1684606404', '1187550564097445889', '1352084966293860353', '82691832', '983846514987622400', '305870855', '828413870', '180091959', '175709076', '4902462892', '795837298839605250', '216392814', '833907972', '536045808', '1333880333348048896', '1114836230', '981588014', '167589328', '2166944480', '3382424512', '423752042', '331968118', '2377722129', '1070318189010186240', '196652230', '291771744', '158869286', '54400625', '607828392', '158019784', '3417847973', '4028158234', '1023174711239430144', '133684226', '1307484720830320641', '799391353750876165', '1334069011869523975', '908452741701398528', '347966788', '163162392', '38497430', '855433794', '66666856', '162873142', '1169735640', '492795999', '1352367286880006157', '32332130', '1011430309', '2366410560', '1238371979000008705', '359096965', '1167173617106542592', '166692322', '1269377538884882432', '335727501', '145389084', '376361136', '344972683', '514192660', '303824205', '1106388392680542209', '1040106564756090880', '1431377611', '188481486', '327004869', '1301600714893021185', '516122862', '443866105', '1656802459', '709450006537904128', '1178404743779147776', '4800022036', '3320921013', '1624663386', '226387687', '1102702129', '276123821', '1214533590001889280', '1019204847646715904', '3904967063', '793525874326921216', '51345577', '252250883', '1201944994464063489', '19403453', '410950278', '754305847103197185', '2412575347', '279156124', '194733144', '172830081', '1324488820251860992', '168346426', '344251241', '167174248', '172055945', '894527778929987584', '180748742', '828658015758905344', '419129325', '985274068990558208', '4093595878', '1293993120972058624', '200343171', '1194464264884490240', '780873641550635009', '2802397790', '3386586467', '184513438', '2496563910', '168234074', '159658740', '453777531', '117288686', '951956444', '310677495', '1175242290043990017', '186593162', '2757779650', '942854763170992131', '4647418456', '4091936741', '713860473310076928', '3296043861', '198982201', '630320617', '2898373264', '1110026622458056704', '59787383', '776184755570282496', '1218241886667886593', '533278919', '2207426402', '758106994997923840', '1074694374901059584', '1336829328865325056', '2236311158', '172130975', '476242503', '560106540', '174370889', '3035275227', '191860299', '191448260', '1464638041', '1175076765628338178', '54617598', '1122579088550633477', '173835795', '134176998', '2168494561', '142375788', '325697563', '892397441772924928', '1202034837458182144', '178971328', '14432776', '2381191612', '98829073', '891510511531167744', '193116750', '630511435', '485931923', '89161900', '1243353029656674305', '148128645', '2321317278', '130916621', '766403370', '357179501', '1161052102665392128', '339454419', '91103160', '1059767209046740992', '2416875776', '3226959003', '1189314515130900491', '1344082345339609090', '437918220', '239633202', '2976872849', '226367576', '182809592', '436815044', '120885742', '852357576', '836760132830769152', '3246423167', '66322710', '2232318271', '822819278911107072', '127776841', '1209400458097385472', '146841623', '1296717765273935877', '1241077867297021953', '218629699', '1283923533287043073', '1083378989475991553', '263776793', '3786225736', '4043305996', '881349856916365312', '4261090151', '1205991346697375747', '1400116596', '736411692331106304', '1167612411106549760', '534433695', '273148425', '161134257', '866398950399594496', '139576290', '18116742', '992097493142982656', '1343995343009099776', '1194447685220282370', '501192281', '4466250023', '802163426000850944', '2802688882', '1010132027360804864', '164679213', '2373504493', '907136610', '788912879382724608', '163231176', '437642920', '1576010624', '137034147', '2178828769', '906767045047484418', '702407455', '213698271', '319237811', '258595094', '1123644326968549385', '1616926892', '4172287703', '717191521724981248', '3065962127', '594812506', '944040511', '21781049', '2267756708', '185434863', '2973625259', '2174676724', '1289038416848596996', '262840886', '196902089', '563093291', '1935296545', '934838210', '1531044830', '2912070189', '965223216', '2591876556', '3073194580', '1095470201448075265', '210719602', '1308900787981086720', '1357423730448871427', '162880289', '1263698947903815685', '1222212433168740354', '186911403', '146565506', '177663928', '187067988', '991854984', '40501695', '718094375377612804', '1120717824299814912', '3024185075', '28633244', '117793564', '477778881', '4730494336', '2580165527', '191516243', '57829913', '582279699', '3340060239', '1634511739', '901616815721373696', '132738712', '2802459665', '388628001', '1044050419150934016', '716953184', '2897627692', '1593589956', '129798882', '455150535', '373665367', '97140440', '103001571', '951633115', '166801998', '960502097048457216', '178483002', '820003165001105409', '415805812', '1095355291', '1048845445', '4730221708', '48541827', '182998829', '846087693050269700', '1327586210789945346', '171110904', '187755932', '151949387', '1189566531610595329', '3003538165', '3903608242', '170041841', '1193695009817743360', '4648076896', '1050045698207608832', '145665681', '187371907', '775856867000057857', '500329921', '3023208790', '829399342016520193', '911180816', '2937827289', '2901547251', '1239609576', '278191114', '747890815217860608', '2600863764', '4505729433', '396308984', '186903853', '184200898', '595721796', '1256326929529135104', '108640281', '1237856028730908672', '895354771812622336', '4149551965', '4694481390', '797005746', '300304395', '221587753', '888146569270353926', '427734727', '16552669', '1054509209507766272', '186586731', '987512352902991873', '1102184689492807680', '2751685973', '1321996780163260418', '1055916046916485120', '1051487810757242880', '136724834', '1483710126', '150929032', '229613485', '469246786', '570507285', '124184418', '1166451375926128641', '758432870046240777', '1175531363568619522', '210813654', '2884653928', '1799365298', '2421178262', '188470862', '537779287', '4496951962', '1326890964489744384', '355857927', '2870958821', '77890418', '168551322', '543760099', '457936350', '948795422', '965016066475905026', '87066919', '929574097020956672', '1670475145', '1099462045014069248', '2596362229', '595192182', '33430491', '318711008', '1489399164', '39683135', '899295314494054400', '342980255', '365688694', '3394132509', '131899046', '1198744862', '1281675789621170177', '41758160', '1113513051616088064', '57806552', '31035700', '36792273', '155304152', '997048018783363072', '90550063', '2706697412', '1151286415797473280', '992510221871435777', '32485590', '761930485698334721', '81190413', '1281353198821871616', '92983369', '155594140', '2611768156', '7824352', '111129163', '1242844794', '153167189', '392359254', '2352039367', '153264885', '1324025812220317698', '184915348', '1060872768516956160', '150934466', '18761819', '719177972', '815580721', '226797425', '792356610', '198959942', '229553319', '171592780', '836085600944025601', '1208601167804194816', '95578799', '106469703', '225428761', '151128833', '883495513294864384', '54308993', '1287986006256492544', '495525729', '2925232044', '1155399542734561280', '933323882', '2246024810', '1047241802808545282', '1069798191607017472', '133956465', '1345764803315429376', '1407765644', '1234640540693606400', '1021187500092678144', '1340113655208271873', '98821985', '810526134429487104', '129363520', '1333555998511034368', '121514851', '145375777', '970328844', '1187401798556012547', '1975564712', '590602303', '49821852', '1412435060', '95809361', '629617184', '50130973', '3006504929', '84368855', '165269619', '186593793', '2961997336', '2252205606', '1280164555650367489', '983675893108367360', '887606650642812929', '974809158', '52775247', '295893043', '2351780215', '2825607552', '759805570039762949', '829747428', '1204829010481623040', '1012428390194966529', '109714931', '1260736507', '1215759676874395648', '629214213', '2395547340', '856026423714340864', '15572962', '1190772792544894977', '1258048349040783360', '1244597798', '264531626', '838264898190598144', '1079484597828812801', '596501435', '151281359', '4249457457', '453404298', '531704609', '1262511860', '280022746', '2713457243', '2355180087', '711728969226305536', '3393000880', '1473498006', '2738660375', '164097895', '1488097778', '739318164', '330010925', '914670798836834305', '1062008930442887168', '1362183691762610176', '695950987228540928', '913418974364389376', '234856963', '821214981056331778', '119202039', '4710940635', '193491454', '142510095', '1024805341438074881', '2700886485', '984499693232312321', '968293273', '1045717531', '41259028', '1096832688110161925', '113121550', '1905302827', '410377491', '3405755488', '2298160011', '1100017507', '3921478223', '899044902654365696', '309349067', '346212709', '2997444376', '878663865302753281', '1260622812911460353', '1164354038307205120', '4841771693', '716982355571970048', '1197174769872969728', '2537749436', '202653201', '4191294015', '3381202673', '1097089105', '714896328996884481', '209764121', '1006899970321014792', '1126554818888261632', '146564719', '1625574702', '1952991', '1100111034591907840', '1183550815', '3665584036', '1349188472', '4197399609', '4167620799', '896123283988459520', '210274796', '717840063984504836', '2182142194', '1157246827', '254380588', '777066368', '866144164794257409', '249982739', '2594720637', '248531695', '4906588589', '1243186810395787264', '963570445743247361', '1031336857643180032', '1307496121191862272', '431316346', '269806816', '1485487646', '2880224117', '891809924761739265', '749828593', '280141360', '1252049536249462784', '1438195184', '1278394532908982273', '1016884471474327553', '925357643882991616', '72424988', '4191923434', '978483686881546240', '1155893194246230016', '1334148664596500483', '234441059', '1541783899', '1336757426192781316', '1233770238547759107', '1334117576352403457', '1075461754052927488', '864167669297274881', '1261758355539927040', '1273197644', '1013466012963008512', '170857908', '817046209873530880', '2832567957', '169154717', '1129891678926581761', '244200735', '2190560277', '1782486925', '2256004650', '155664598', '980830951', '1125153699620372487', '907445238792368128', '1352261113400979456', '3911458251', '1204088199443865601', '1291882842344099842', '2157327342', '1334099674219896833', '1334963473978187780', '296553322', '196411264', '1266776502357671937', '1201192526683820034', '17557030', '527797017', '1153286425850327041', '134570766', '1354264648514744321', '858461045211496448', '1350863248569081859', '1502053561', '1022892985699258370', '193935571', '200743508', '266948671', '710865728870686720', '3308370502', '157772779', '2319950959', '126755500', '1208216041303814145', '757896318', '581421131', '140468158', '1649245686', '734125260480610304', '26644308', '107561069', '206384781', '915726122394034177', '145990731', '1125146496704421890', '4627516295', '167120831', '1237549100477931520', '1194557155', '188679281', '900515616', '497164268', '1143950771559555073', '147078123', '1012884336', '293577762', '1309479445', '1058413174897238016', '1109323608462102528', '238885135', '528716709', '151419014', '69091475', '195886809', '204344729', '354747584', '836808035507048449', '149307794', '1488475178', '128047706', '3701296475', '975079712', '284821763', '1975059986', '405601249', '906338659', '1074951097125617665', '44181699', '253227758', '188402974', '17009888', '3034009654', '1158393038273691651', '243051750', '956021221837156353', '1359343072694464512', '54043802', '77221803', '3303387964', '1274897709435101184', '736705573672996864', '2218063107', '3371375109', '1061623291', '444838492', '541144145', '1558603836', '412533031', '126460465', '1297283279008215043', '853883515', '3153242404', '208512320', '2825099506', '89259235', '2361863516', '2205221334', '340608971', '112012087', '3418776058', '1024370994574712832', '119507409', '162902440', '1248252504523059200', '1212140608539594752', '894378417092689921', '300249685', '1169667756335214592', '875882243364982784', '1088158477082599425', '1297642819809615874', '126307503', '4195935034', '169491528', '951526661476020224', '1284504497411194886', '1286373099177422852', '183392877', '257658545', '295941965', '76338946', '3022179809', '2894532125', '447575411', '1193869221555556353', '171714069', '412647356', '94322337', '731124589321846784', '987634736', '4206531664', '1354966662777348101', '1059410003348652032', '817483361153384453', '1032811143553789952', '1359686949842386947', '462257460', '1170777693010485248', '1262764130420707331', '2165548399', '82997791', '1025101808', '379465688', '886754531450777600', '20468279', '91620302', '3202730908', '2961145895', '107157189', '466035898', '342257526', '267915638', '78698160', '1120338066269511685', '3656503461', '771843842530242560', '4196614576', '173987729', '1221478750115835904', '1031567135917699072', '935617523474665472', '812482873961877506', '1351510656172896257', '566843867', '822341323', '271385386', '462369720', '312071487', '355771659', '166640751', '164096999', '2463421321', '200733756', '390260786', '4195784841', '136608479', '1281706673707638784', '953731125502980096', '258234041', '197090653', '905923555002605570', '541086350', '923231865695326208', '1691248789', '600101471', '707869039637487616', '4257495988', '4146258917', '777979589108768769', '336957593', '1349735398126231561', '1281640890549907457', '823529753902743553', '609490105', '2984702004', '1057099848615370753', '3008110492', '141789881', '949376259326398464', '2722033818', '1347381064667430914', '170035816', '1002971732544774151', '811417296', '143574593', '758678281919012864', '225954345', '389727906', '189255008', '3347413991', '712060086', '1247355154753560576', '567544707', '317930610', '1235020273734356992', '836959202', '1024162581727141888', '1059148646', '212402927', '171587516', '812328355802607616', '1054754103983816705', '892249584', '739225995979395073', '974194712', '975365156212543488', '1140701371492163585', '1382230580', '352665443', '916258954300272640', '1315216946720378881', '135028675', '1041277975', '1160781981610848256', '152833227', '208587522', '1312745458528399361', '1904296490', '1000149593936551938', '974027715702640645', '303455483', '569623067', '209109161', '1353843878370177025', '1347548547684724737', '254107957', '540251788', '142913469', '40931469', '81690656', '1310936106817511424', '2804447342', '406793610', '1321180350643658753', '820044026', '52925848', '863610637', '86587382', '1063566999744327680', '333613686', '384040967', '134548067', '1732595851', '3793845681', '1269780486420905984', '1200497517064007680', '160212994', '210840034', '151268645', '339948717', '726389023938371585', '2960739585', '135109534', '4247148406', '339213277', '158595273', '1325266310331293696', '311143961', '360792547', '2751628565', '225566265', '1193645199890751488', '2213490589', '126693633', '890401456985165825', '1261069470421979136', '1338939386336043021', '142244936', '2386956488', '206171400', '464020169', '381279347', '146268876', '309201526', '1019317156750741506', '300390610', '144976561', '739328912', '349974312', '144202310', '163272372', '171566971', '42923085', '310273500', '1055200613120774149', '200245009', '278067945', '1223824810846957568', '1373498509', '115299839', '1358532594384703490', '555642161', '133552474', '1248651180068216839', '1849671619', '1368240533622128648', '407615404', '173347509', '887472265499217921', '1240570457453101056', '21316101', '184245180', '3004770011', '767742', '143828738', '4195855120', '3112019957', '167918366', '621905071', '439704904', '893954003603779587', '388036620', '711690851525763073', '1120083102', '1131949006337261570', '1123058379591700483', '3091522401', '131310260', '788446193080791040', '968596562', '122207673', '1369385587', '172141880', '698899823278297088', '214986628', '894236154094112768', '355045904', '928005602428809216', '2241579526', '49482270', '1181900708616048640', '248754659', '151305188', '1275567665684328450', '4428375419', '1225783765651292161', '967772300132126721', '18638753', '176149063', '1300531178047442944', '166805538', '3448052957', '1102169692792389632', '1922974531', '150857966', '888909833424035842', '1039222364821770241', '2645763876', '2677074587', '138790217', '1082815581143949313', '1212958979480883200', '135165305', '162915463', '1044929228461027328', '834958472059973632', '975555319651815424', '390382852', '1283033988316237826', '807206091201384448', '3388441061', '1240790049232486401', '1128286216141660165', '735047664', '705538482786213888', '1490483659', '138608757', '33076490', '113868870', '125528134', '183277310', '1073587808462348290', '1281785786493534208', '170876848', '2343244606', '142013709', '149519051', '919820970852077568', '547378071', '1088454358541295617', '3065748729', '262963529', '1337202511', '1128869431', '1333456253700501509', '169114287', '229963473', '1030092428819292161', '1074124580', '3380375447', '937477669066862592', '28655692', '1257845442869702663', '1303835963546898432', '2685214193', '700724501554864128', '4907354273', '102462127', '1333400339463217156', '1025331843309232128', '182319400', '1176902372263682050', '163513874', '615946452', '1076226156439982082', '836369558764158977', '4896706619', '129177649', '731517308649103360', '1120408591796776960', '1249203480759357440', '186988994', '224491225', '990204254324514819', '131068673', '1115990483505958913', '305893717', '731679439', '186696833', '2727044719', '3409573929', '2447767196', '1171886027268677633', '292601461', '367620703', '966818503524323328', '985249877616680964', '1348725512714256385', '892569378511892480', '206985786', '1068908814718705664', '3011590881', '230036927', '347856344', '1318774764', '4846393606', '977345161', '1162776758879510528', '2850358032', '1150092204402192385', '162082807', '993661679371243520', '94465260', '35885642', '182894556', '352658764', '2373377140', '1323495589', '140920012', '1355254378068922368', '1327451770801561603', '1870046222', '150944737', '36435126', '276111635', '1360956012702945281', '745754406159847424', '527677057', '2657924021', '2953054617', '1220704871176966146', '1540058652', '885912162996277249', '1307096529182785537', '297688777', '2978666349', '190499498', '451856467', '1251004167944052739', '252123139', '818229818', '105826958', '715591929128488962', '722390299050422272', '153556654', '254383730', '165246439', '607718040', '215516923', '3321305493', '284795400', '186941686', '4232856832', '111662626', '293319403', '1663386330', '849003079', '1015893787', '20816312', '480453846', '144614900', '3577649488', '2847353651', '66998289', '254358886', '88823330', '201134526', '281310423', '1357812984', '153487456', '1124487716631085056', '1921546903', '2326791757', '846834859138015234', '270134230', '1119659546753019909', '891319834138607616', '322237511', '1112996442', '2220633485', '978891414', '835152516392316930', '177780800', '192933362', '1210315291227545601', '864129326', '1273407497358004224', '1059204091077898240', '1326938939744194561', '1460996976', '1254086180649435136', '239947135', '313958700', '1318934759003820032', '826951111', '1323193026', '179358101', '1408338306', '1884213451', '190841514', '1068259700741939202', '1334737799900237824', '125146569', '122512450', '4214194317', '99640978', '188459838', '1131636208608645120', '916837734324621312', '17541335', '1242828590808522753', '1195855915', '158622681', '1273729342686756868', '504708522', '1676670056', '1277298636125360129', '1290133177', '884205710137065472', '347610542', '134507318', '146429383', '891726276305842176', '90781670', '849332336', '256239024', '29223956', '153113451', '884802435398676484', '129547883', '1352254687567884290', '485765583', '3962427973', '957769597024899075', '2494241209', '1162018617971658752', '1291399677280231425', '2657889472', '373143990', '210955858', '1643060006', '176913902', '77212548', '2378670722', '1921866583', '29237210', '4197154127', '172987418', '1082041898469126144', '161939197', '142364808', '1219043073260433408', '4229821691', '804524809724055552', '1258224947429871621', '32401333', '132638001', '34855688', '1076690845', '925497828436213762', '2784649609', '2190556763', '1040258091269451776', '4867443759', '371319138', '1355780258272866305', '2950409632', '322432866', '459270241', '1190361600710107139', '155735528', '28865158', '1570435753', '134793408', '820632388149645313', '1357899891691954183', '724789022137159681', '957455883679813634', '2947855187', '168166387', '3112204691', '853758699617345536', '3438680637', '721521137855893504', '4702782553', '15186930', '1113616724996370432', '874641825440706560', '1052497820706623488', '2267163098', '893518116092641284', '158963231', '1363287336952414216', '315481931', '4684396326', '1244968748', '1169397652372545537', '3379393625', '1267883990914142209', '1224796846633181184', '1302295920327958529', '305374949', '1111375662114357249', '159263465', '151110316', '1094739504806719488', '1254558578444304391', '1244786247295533056', '2691421178', '195203030', '1323661761946525697', '2586529574', '164907756', '165153642', '1254246780570611712', '606371375', '1571684947', '844340209810583552', '1309983746477694976', '462299550', '855668113', '984058797927878657', '4544997983', '3280049824', '204516556', '1324150517510131714', '4006516679', '1244591848343195653', '381300506', '4915331338', '146643429', '1330827123888705536', '191287108', '1378707362', '1104450589', '1341029424997806081', '1184900168489062400', '925191286382002176', '900937727612395521', '730970684969508864', '4890528797', '3882094395', '152689921', '65634865', '357742193', '4195795468', '337802928', '331329197', '2513354977', '4376982796', '800384310159155200', '3264791584', '425042276', '2500071991', '1259984442694787073', '617399797', '933846530662060033', '1616028294', '595600211', '749756964146667522', '1546850352', '938556368604356608', '2367597577', '769579399', '1044094812230692864', '1264339340047667209', '1251949273404628995', '1276273651768328194', '269913219', '2861849056', '1187332091656261632', '988096767865556995', '94807837', '1645513915', '565110689', '180963715', '307609052', '190694078', '119615367', '460673132', '388831616', '340873476', '1181059141936275457', '1204892134249250818', '492398887', '541729388', '3417765693', '1317538134243016705', '1262114208688324612', '175078910', '357941050', '886942963', '172420804', '1470346340', '474813476', '239092368', '701224095321616384', '883153468852252672', '1037998272', '148950204', '275936207', '167959196', '1236654556915867649', '1285710219725680644', '958381976804843520', '861662886577528834', '254624254', '3923237717', '2615802178', '800806266826129408', '706642764621070337', '1161834416420864000', '981697103654203392', '714662368396120065', '137548919', '4694121186', '269044006', '2427882692', '76114241', '2741738677', '1317941128675643394', '2398513122', '1187809561', '161465079', '525606093', '2585995525', '1281343694906548235', '1118206269872136192', '940727076952387584', '3221677125', '523588152', '305594111', '1014613334203740161', '2481155959', '264745512', '137881279', '315074198', '518528683', '765083450', '259895860', '704274595', '1158661325662359552', '175186500', '3196795904', '745588428738273280', '2358111823', '908004932', '1308906634211622913', '189517274', '162530007', '782038517727780864', '1340922110', '167974728', '1261177914600587264', '4244220100', '51026303', '1154460755808399360', '61048192', '145681203', '4418485277', '701747465091940352', '2349686254', '1296494318274977797', '1275830097627492353', '1020399992', '1148807621551566851', '1132844545052413952', '211907418', '58563653', '203158447', '81289660', '1141152136635588608', '2394509578', '1241764618076381186', '258962608', '166816573', '4079383995', '168945549', '1394533238', '203236587', '911095716281507841', '1171941177316323328', '1599621128', '1241498590977167360', '932608939862249472', '460682250', '1134422789505585152', '1333004620491321345', '1297881567461859329', '2821323155', '876113586459947008', '1244972889809584130', '3331754746', '748643459125350401', '774614122583425024', '197629797', '1319041188293451776', '1365317537387458562', '831270319147122688', '727980188764528640', '402115113', '168795910', '146883825', '863127058687381504', '128186251', '1283506449809903616', '938580211473502208', '347465340', '288212562', '1239693013581955073', '1059149285567148032', '1365032577921388550', '1356142351', '1081150437477285888', '2308532468', '2524037754', '899590326930812928', '162720983', '152362027', '1182007007873818628', '2868186695', '1265248837', '288258577', '4706506342', '700966381194452992', '4657484961', '2351684859', '3642882136', '1387218732', '1245286831010299905', '998024270893678593', '142168261', '348167041', '981701137110831104', '4796914342', '990157084560850944', '990232663284994049', '215489665', '2439552350', '937907701450813440', '2411847625', '778638897983197184', '197037668', '194437761', '1289396018182791168', '103870845', '3331733134', '3050904728', '619582210', '65652672', '2887828713', '1305233221140074497', '109873888', '77776482', '2821284635', '104695438', '895358418801881088', '563109889', '711727057739390976', '254278549', '4150961663', '356208552', '312855179', '243504632', '289685744', '197887054', '3330215751', '2474234061', '127058280', '2473047031', '548819019', '31125272', '943673095', '3104943729', '1292286117937586176', '942685542', '1078000163803856896', '4195778182', '1031673038213971970', '187712570', '202777768', '848841349', '289483813', '213047203', '300247355', '780282288886124544', '375914262', '387333627', '172513446', '829150305338216448', '1373029640', '395069182', '851169510824566785', '4828294709', '268333568', '1320927895838248961', '79063686', '121854027', '3308797101', '1104163332943212544', '1303101390483587073', '1007701226', '397570077', '209442975', '774416256', '1353351603613556742', '801373639543287808', '1284446856', '833071487615631360', '224883076', '137124916', '2727271285', '986044169603993600', '620278419', '933146968985088000', '2205557256', '1418348443', '210600465', '180409861', '1247282148', '1260182604', '550969550', '1176841331211218947', '122479401', '899050675165962240', '479031937', '1918582201', '75928573', '1001215412162433024', '375328704', '41520971', '208555341', '181427864', '301520138', '198617704', '250390438', '3075951017', '3232205727', '35734350', '1293113010941296640', '226365433', '836569743003889667', '898889847544401921', '747864505', '1385709282', '3342026669', '2235985033', '898883808791080960', '1156322737981448192', '1029663452372058112', '328826983', '1087554325', '1324573702260953089', '3347154485', '752686079862530048', '1299898600365920256', '632649406', '1245795616644648960', '633909707', '868143940922257408', '1431189150', '877151043540275200', '842800116', '1074800809', '822585816530685952', '1286690792178962432', '145099317', '1016745081079033856', '1042238268203515904', '204068040', '1160660202284363776', '1419271801', '1250903682377494530', '398475210', '562998765', '158091450', '1346469215801286659', '752977337520680960', '1105044008', '810835466', '1182089766164189186', '1038593844298825729', '35343627', '4583276429', '140482181', '165752996', '165939472', '176219367', '4228515028', '174564003', '108486034', '206523785', '1193833636681932800', '2319011108', '1031634826430955520', '1268628635398832129', '2990717458', '562601076', '1147508751500566529', '3379773274', '3234141110', '972651399459852289', '19830156', '1168811787082444803', '210916539', '395460791', '932755838', '3361790968', '1351321861360136192', '153579782', '3404943808', '1014471457', '1079689660329353216', '4700293332', '936698656111190016', '1131213283770404865', '158159633', '1332707904', '1207044312548171776', '4229819405', '304210277', '563942221', '412803531', '2545967424', '752949872', '1306973255455174656', '96821317', '133773758', '412775477', '2192362521', '460289140', '4228285406', '820445154', '106627404', '338135731', '1341918759515205633', '1193870642602532864', '1322189531156762624', '1197191495901732865', '3405190318', '2688383556', '56914638', '747740004265369600', '485727506', '311456049', '106244468', '712312407662665730', '2634109745', '1470606434', '828692557555175424', '711945027036061696', '885991504287805441', '378058322', '201418332', '801746385565581314', '3519621322', '1332055131542740993', '396931413', '1373373836', '157174597', '4352043327', '1227948072946274309', '980869896', '987885930', '457228955', '730205760005644289', '1176100138886094848', '1079797688986685441', '1266516211527024647', '389107980', '159310150', '727185295', '1136045776285642752', '928615400279035907', '358372576', '735609586787323904', '166715167', '878992977183596544', '256507822', '221493331', '186752056', '1148037574025523201', '2412942698', '194773741', '285079466', '2244102043', '1311792507051814912', '484542905', '985275875007651840', '101589067', '1280524568931840000', '1283095940040200192', '132360268', '187994187', '1348660218650099712', '905047140073910272', '4246553123', '211754257', '3602668577', '206258912', '279721295', '1242120430804176903', '1052555696', '881073379809402880', '4298007214', '553046275', '779076428675579904', '1278906255092994050', '1240977900679110658', '1936218452', '1154578256', '1241865433944338432', '2279393971', '1195481646109265920', '1293575421812932613', '3167009014', '1195411956536160258', '261295146', '608732489', '420938017', '1246486183', '1239971276296458240', '861001943577178112', '981861984651169793', '1186123522386608129', '1198552866799136768', '1268170616445767680', '1159068185762684929', '706450510774194176', '61086170', '734177570', '794685930', '2788673838', '2793489809', '1360794277090066434', '1367997889377632258', '157862973', '1062035358', '405033502', '89302585', '119011535', '964389859', '1243013545580728322', '1080542409262592005', '1130423334783586305', '355138589', '965791870419861504', '249884482', '51496921', '3332878137', '2792983314', '1224711256818487301', '1493606816', '1585979654', '990095300416196608', '1923383425', '243624610', '242078816', '542894860', '453503883', '1685504899', '879753876731244548', '1259210232552656896', '527376832', '834852281271070720', '1229883178015391747', '191251788', '198274431', '441360164', '3342662645', '414996532', '130369104', '143846632', '208562667', '133856501', '966782190083362816', '1362695688', '2763231340', '31058772', '164255244', '1093233150', '4729835986', '1341846459264720903', '1262117276', '283215052', '1184379738', '1104796755714105344', '555567684', '1142090612654714880', '180091212', '1243913432056954882', '921200941940002816', '1357055470612152323', '911380005543956480', '892487600363233280', '1963023030', '967914730340995072', '1244603413935112192', '4107530218', '1130271614728327178', '1157043923862380544', '953598983024402433', '1361466351047557127', '3040877171', '212395313', '215866414', '940796581305028608', '924293715652415488', '1302839402889203712', '833765075194433536', '1300038862945869831', '1245964397115314177', '2646167546', '1316929064771473409', '134570730', '2509021922', '19398656', '158813456', '225436555', '3341472713', '1054178266628677632', '3340115255', '468662346', '1242558339302723585', '1357962648', '198648380', '1249901151253925888', '1278935140333490182', '900058836165439489', '701104425935495168', '1234935760979136515', '1683874868', '811619500093276162', '4513776082', '146530233', '356559687', '863693312154361857', '1019358110945894401', '395629521', '1079164682831884290', '154670487', '1737822523', '3085316073', '182584160', '27282929', '1621463827', '150322590', '1138154475896659968', '976095805231771648', '3423197380', '210163969', '371249369', '418892865', '757213136638402560', '558152455', '1067417344459329537', '150783792', '245919793', '910592900', '142953046', '625964559', '1104837208450756613', '172914596', '1491181741', '58255989', '1210619041674649600', '734917232480911361', '134446695', '1719408702', '710068244820918272', '323650880', '1317490976118669314', '4127613747', '3306315923', '780013559535263744', '1142499966797135872', '740898956113219584', '416713332', '1370120582', '1129577413648814082', '2508375672', '1064253181771874305', '1221548727158104065', '149562434', '433593757', '362789258', '1027386969737838592', '1319812499139710978', '789304350606753793', '1393513753', '58019923', '2161470344', '218668081', '279780818', '1297284971816726528', '1021523502967517184', '783032767', '1334066908006658048', '134627020', '2876902090', '1192135262', '841356086187819008', '282055845', '374016545', '1132743102857400323', '1215303266071908352', '2238052470', '778235497', '955621407135854595', '1833869725', '152698176', '1033827803857338369', '2582538624', '1378402116', '476878822', '171104859', '257669392', '148739144', '2652476147', '440264040', '2360832798', '292991715', '105878680', '144136352', '1135676425120428033', '1660441399', '386536190', '1113923314769170435', '983864539094638592', '1901435053', '3054077091', '187924236', '931938757', '1224524381436698624', '2810637101', '52385944', '1624049390', '1201683961778515968', '946122633246060544', '1114314284', '509309279', '1349761339321933824', '711077052', '1122199312438636545', '816577208', '1327794794', '123423021', '1196043997933907968', '2800536822', '1332453260', '616569048', '1324800131435290627', '894287449', '2322227536', '1022258186924040192', '145226919', '989636779773956096', '1327660148295340040', '315549002', '1301548188839612417', '786905477925965824', '771457536386011136', '1932088231', '484388098', '269075166', '1262429642708996101', '189748670', '2974482839', '3177901324', '209274138', '148468508', '259131065', '348781988', '4775973353', '2244561593', '1926423816', '709625322', '4112681121', '1665003607', '196984141', '4198580872', '2707071458', '173319884', '1235540506664415236', '1231973315306192896', '384980265', '304830228', '152355423', '201562860', '1168313142151192580', '1220553441136824321', '217655290', '1343046782692028416', '4835378301', '584080168', '412328446', '1448294852', '460564271', '3306948551', '185896404', '733864428525998080', '311809018', '359134184', '714255035497123841', '2157476468', '2907117886', '244285016', '1207662978205663233', '1639236997', '356267659', '1024835950059372544', '264579210', '234884863', '145741365', '186454605', '177275786', '1483041949', '1109644032400068608', '1171405208573923330', '463821588', '1206193337562206211', '209580092', '1877339065', '305358074', '149543218', '512851028', '1130244433188929536', '112028810', '161705636', '1264549786067361792', '946844729639165958', '1267825190173421578', '1265423437855633417', '819430778593538048', '1723671890', '2950389857', '151721351', '771160276288806913', '1327658848296046594', '1222814335086596096', '156625271', '992058662716833792', '2288882732', '890697788761272324', '1569327955', '98690427', '1143177299459792897', '2274415596', '4474855757', '1226826296392605696', '2786609149', '711330806501867520', '40159087', '194383573', '2759970287', '74139544', '279316676', '756618252466450432', '1010185957', '3436273414', '2321371674', '132259319', '1012679506400825344', '177372559', '2222209070', '2618816634', '1156192234120916993', '2993727526', '353846622', '732970664', '3293658728', '747540614', '2257274364', '707179068', '1152352228910538752', '96675833', '1115883091', '1128705531097620485', '817197009291644928', '179278951', '711710409322057728', '32968177', '202134738', '972610623531044865', '1216489546231304195', '1473364278', '475216421', '1263939464738504704', '35287139', '997919166198894593', '28819631', '4389288700', '1087557349643075586', '2938865843', '94169507', '993210444574789632', '307203046', '1216087219385049088', '452322698', '2282704909', '2265471129', '308732737', '3226829801', '1350600558021931008', '1319045692036423680', '2555787870', '1325199970820087809', '210946600', '156658037', '504516259', '292492391', '140905679', '235406256', '1417046396', '134952668', '1319404698764517378', '169197346', '119807494', '114820431', '382131872', '1245488545692778503', '1277187474943553536', '753230825437659137', '875752395397111809', '75129598', '51331575', '1132481241511604224', '114569351', '308697078', '1347705570', '1120351527649128449', '747473897612775424', '1154371049246666754', '611174504', '788143327694688256', '1082426512396177408', '470839643', '1354472227157192709', '512321775', '753037993926127616', '730665301', '2589687051', '169802481', '82834618', '139526142', '878495844', '4386052095', '1348989134593994752', '904149962', '176835482', '318029951', '140292231', '63146484', '188725578', '1000404356431302656', '171783490', '112008875', '144736879', '35934073', '1179774240263938051', '138805010', '102544997', '90282566', '155048609', '109266541', '377075822', '2427285942', '1188315691658760192', '541386759', '185276644', '1317505147484971009', '51864348', '705205336509173760', '184635030', '1272368094644666375', '945808942378242048', '1229927197747679233', '1337079505228357637', '856143439444021248', '28599985', '175019685', '2450479806', '793201037641453568', '2857853465', '1255427112', '1323701298584342530', '1345781949089067009', '2741273945', '2377968728', '213063552', '1155458209060139008', '587805308', '1018959978382622720', '167994974', '197815899', '94615447', '407476984', '220102060', '1264545240414687232', '68005250', '1195096897352032256', '282806614', '1003136101', '1210369038536327170', '145244211', '469260983', '781246649456816128', '352724640', '213457777', '1546039261', '200214631', '178247857', '158129270', '1019288340758257670', '1241519564409749506', '2803807374', '1040005172', '769301046', '822046079592124416', '7573932', '225489831', '104916189', '1344630662670725120', '2170948302', '345580203', '321616979', '1225841282674810880', '1204470723848200192', '722403534', '136818964', '112248421', '541278115', '466790953', '378740055', '555594384', '64188812', '2255025068', '223634333', '226433241', '388640908', '1093402680', '424420521', '1243228079906045952', '901872544260788228', '2788865564', '560769609', '138039861', '31420962', '179266210', '718516691551002625', '30037053', '1265158022', '746512298', '1125421568', '594737100', '715026832052076546', '889180083138830336', '478296540', '396840005', '1048331936584945664', '187568655', '93475451', '1483499491', '156425682', '187747220', '705254590497886208', '16049210', '150371245', '1300395522', '344968849', '573236569', '114996899', '408923281', '1165546411871612929', '102979889', '308445427', '125132765', '1213257465447403520', '346683914', '911036692731236354', '244150816', '525775647', '1336422384618909700', '230634228', '2194833329', '2990372127', '953051873531105281', '1105595826330628098', '835951962298417152', '605626771', '20472315', '209667012', '1364385920846352394', '54086463', '11408772', '547198311', '261290445', '831298961734565888', '1182121454', '1262031650906669058', '136726115', '140476192', '145020921', '70783677', '4238370747', '2952590811', '1185663203411406849', '4875742516', '341767394', '143632806', '260779920', '319802534', '200956081', '2677245940', '1032478310406737920', '1057073271928172545', '885313713779113987', '61327076', '2323040362', '1396103227', '976979930641829888', '2268823546', '198344678', '310212858', '157418991', '1138229250950139905', '1210256219161665542', '185921027', '1304874441143463936', '393463145', '124013143', '425477752', '200716201', '329959787', '1564573544', '1157031948335890432', '2909578384', '994695006576312325', '3093511649', '574714602', '326264388', '87497712', '35169194', '1075621104448888832', '875546161758842881', '177927558', '1333163270', '186899301', '387154615', '2850778213', '1007635591935250433', '4766711901', '3153065597', '2530431493', '2166901937', '583034380', '749745688616075266', '1282650823521193986', '1273615474463584256', '207824592', '410820096', '932356505722122243', '742854776', '182113287', '4847543525', '95664112', '1115391193800638464', '1126993768488501248', '1260626196347355137', '938799969447931904', '627423611', '1635652122', '329423843', '195581723', '217080751', '622980883', '40177336', '1415869598', '4252163513', '154913302', '3307717499', '1123404169862426624', '206857883', '188994783', '1098636288', '1212146290340945920', '732639007746740225', '1237041725476155395', '99012512', '952706332913815554', '2615385212', '1372602343', '3346585505', '148043643', '183231616', '1269090536876630017', '859572384', '1546071637', '1244781815262576640', '2163774819', '1262073094895796229', '3797231722', '1261768982933262337', '7921792', '1242448427604234242', '222556666', '382353329', '166174123', '51742161', '1035529424287002624', '879535834516664320', '139199404', '1027726183486644224', '2406803028', '623412196', '620228810', '1133861566242316288', '1050056786', '11307992', '1704641653', '1062479266703704065', '1241511511388020738', '1351158050179207180', '1912989577', '180529208', '2353608873', '80610577', '2758107153', '2272086048', '226718943', '1234577585885110273', '820986301470097408', '2993588327', '1048645724047589376', '200364986', '4464547227', '288582381', '129796121', '70275491', '1016511468', '174388595', '973602693003595777', '1183573874765643776', '1216591897', '57142523', '1188573000729333761', '197576678', '983365428', '176912858', '1075744758', '186695445', '264493738', '1242205745329975299', '964459528581517312', '228002479', '1660439300', '370993465', '3235859277', '936946406362894336', '132762269', '295856819', '854713411543891968', '86659414', '930620197920272385', '4251597346', '1194446178848563200', '168053519', '48791386', '1169148557309427712', '257891448', '4286312655', '2555725473', '790365384', '247397134', '2234982313', '854337511', '135217033', '117782091', '292498071', '2815318430', '1188848649159303170', '148510749', '222642832', '1100889438501130241', '772423428271968256', '1031655314863661061', '90735736', '840618931077419008', '994395061', '304729293', '1038313441159786496', '1107603284', '152417666', '174287322', '1103869589929250816', '1254012035714736128', '185977861', '739482054564413440', '267173622', '190625902', '714970030165909506', '345068665', '1328969790921302018', '1472586673', '137554146', '1337414704336080896', '288787507', '148062805', '2199842281', '334760319', '212194086', '1934250506', '866068421607391233', '1208254890008629250', '2174243174', '1345661509', '3171889006', '720727699', '2896208890', '155410980', '1666360489', '858748171304017920', '1298039364203634688', '2857667871', '1061427368064098304', '157424408', '44689118', '1188201284937179137', '276217710', '480972689', '147018778', '14632838', '158040110', '1370129485358567429', '138058517', '2762863945', '805181798405775360', '1145758453350195207', '357135436', '1692444019', '365151651', '958346686853730305', '272218363', '541765150', '726615926', '1346237576265555974', '966144104387227650', '1029003349591564289', '1282314087289028608', '710042905797369856', '3333298648', '1080606603655761920', '1299065333970591750', '545739595', '1272276883640659970', '2588288759', '1293681898250735616', '1348773779984568323', '1872835538', '175880008', '219815509', '1295837798361116679', '472655358', '304785114', '1071421131473739777', '1341727350396956673', '1029068383', '134623268', '171722307', '4476226696', '1321642225600761856', '990046365291024384', '597683994', '1581600392', '1215360893137178624', '52941644', '880068853', '4485928005', '1251207030976757761', '488165564', '1331668639335018496', '4193307977', '47284952', '4314442757', '1478015100', '1322276006166695937', '4508685375', '1955161189', '123600806', '1250900538927001604', '1462159868', '452441801', '1235944045433798658', '589115702', '538105105', '10311862', '267692264', '187346133', '551428489', '208790675', '330051135', '153387934', '1303019938924421120', '180206409', '177767829', '438872423', '2960249675', '960253462775783425', '2436221322', '213429420', '977494225', '1533593437', '1112369730244038656', '3919866160', '1133170120518275073', '192745328', '1540652365', '4861163010', '873134386325200896', '912837689673752576', '981137320849133569', '4746742163', '1019959709049282560', '1354754641339285505', '2204205763', '201095221', '1161120269735538688', '744345850827137025', '122081213', '141744080', '358450710', '300037674', '335063933', '301580188', '368653057', '2576818496', '406610676', '144288146', '856893056', '68559603', '54579715', '398247902', '284277449', '831454214', '534293400', '3036148468', '150385218', '1918440972', '777867572289077248', '901617023024865280', '986378790443118593', '436248692', '2809516432', '335557199', '335007216', '197815144', '1034564064658313217', '1046047291', '4144307007', '826464748757741569', '2544213553', '1344367606212554760', '878249437344268288', '362750311', '506518944', '319229626', '724548129324961792', '870665252', '2809398479', '726452454', '169361965', '188524254', '2202285183', '95077764', '1252980740', '2746406908', '239466759', '1137721057056571392', '1042586753717157889', '1245468695926898688', '1017815835690328064', '307694306', '1348339478742650884', '503618415', '630456717', '320553098', '305552579', '287816648', '2272126248', '1650992642', '232673199', '976823101', '1138907865417170944', '150636514', '209589162', '224405545', '94710912', '1207460026308288518', '961084753', '500493566', '274147343', '468043261', '192074041', '163154950', '2984358695', '462818043', '1291844994433724416', '1306254388210610176', '2838838121', '1120462803222114307', '1158440996893548545', '2374188374', '632985563', '735505110', '2241721303', '1523857958', '312069513', '193800523', '226728907', '1104765613', '1318289257027559425', '1131613962', '1136388393468907520', '1184286924', '79336588', '1009034509', '1079602177918812160', '458090372', '153583799', '2606059905', '2218605446', '1638974898', '1314442076', '991393505560944640', '1112418556443021313', '391036503', '2260726081', '3029304513', '492254211', '1462980258', '137520894', '273639747', '153558552', '522403529', '856148588405149698', '1165647337592643585', '743060235129126912', '223384646', '1283665347036565504', '258848381', '1245472596801589248', '163955298', '62411223', '1240407597779488771', '102112152', '133831254', '2819604663', '2319405038', '193125459', '239632194', '891511246368985089', '730178656690180096', '3665260523', '1366077263792504837', '1359347260790865922', '993893636088778753', '1266359609234579456', '1276697634850430977', '2352206084', '618551775', '870727776340455424', '200374021', '1337193381571809280', '148152933', '147252077', '1080467688634413056', '1371275097378582534', '725309958137454592', '1151840381010612225', '1111229422567415808', '64091390', '61680803', '1103775431075991553', '930360146', '99664022', '1163598032765669376', '949822594957697024', '1337252026632327170', '301116784', '841285575177076736', '717455184327213058', '261952869', '952307074226114561', '750340064', '790102489', '41923656', '69213435', '163198473', '2590900442', '188410657', '956804559644610560', '797512650569773056', '49233269', '2713598831', '975634032561147904', '30650572', '154615909', '177339953', '40306562', '411180686', '426166393', '2731438565', '150080166', '1658565350', '1436789827', '2856943169', '208712655', '386485633', '364940648', '1071113982', '179352196', '1238851765820366851', '1852688832', '615754769', '2671239595', '208681564', '37082801', '523954441', '106519506', '228593879', '2196893040', '86591214', '160635641', '169360051', '205398567', '1014706968206995456', '750185928862396416', '290934129', '1093949985949970432', '630502893', '604087744', '1437212527', '170900383', '1905615637', '104875472', '50679212', '82922646', '897484804379336704', '153241267', '217642001', '269897241', '58780303', '1482333253', '1054901136837218305', '3080457675', '142801436', '209220551', '87055027', '2818384897', '1941783972', '746115233006006272', '3259323826', '348827030', '157513287', '145630132', '352841923', '271484562', '879106347928780800', '14980337', '146051016', '965926615032180736', '850767680734941184', '3112004758', '928960593461219328', '171943322', '998326004585320448', '1288226807947440128', '148804834', '1476509101', '1706235570', '49796843', '625146889', '727078068', '269987879', '1286380682256809992', '76442903', '1081784950213541888', '252668207', '800945202', '255803834', '150796442', '2777620839', '1107682370843488256', '1250071980784697344', '1012274454', '282527853', '944101865641439232', '1243282914542006276', '2480951190', '333192747', '1257022198004568066', '1346481188966342659', '2949365092', '3306631060', '148871926', '3012703912', '2218631096', '234578272', '721137362055643136', '1297289216272015360', '1074142112931868672', '175615258', '1098897920', '798572748343771136', '2722832732', '102542270', '77025881', '456621890', '1268222909014773761', '150758281', '1272223348160901120', '3066030407', '140921535', '1060660722764537857', '415517096', '1245405113109315584', '2753020001', '1309677169027821568', '989862638531301376', '1460776508', '1356521513877458944', '704458071272247296', '1013246291055345664', '1296080105404588032', '4203144815', '2222029117', '786355642118369280', '2218407281', '3147131053', '241814441', '4902525513', '1340040473134678017', '51889576', '1236502473671684096', '3691484117', '1202410195978215426', '420387278', '1209502328551817217', '501198359', '1246281523', '828150164', '222158839', '438887277', '162099721', '1329805563862142979', '926246919097200640', '447986040', '18294235', '350510695', '381620515', '803916788', '116204007', '66228985', '1260945229', '1047247291613175809', '2353285654', '305029444', '1325332261', '934672402805592064', '1174840558109569025', '86934294', '2670916986', '785713689408245760', '197591206', '2818599958', '2684268584', '274212855', '2883595991', '219899459', '4842414623', '3379474751', '284314896', '1330571320967516160', '226794596', '165633511', '2758629001', '493574282', '226768885', '36469849', '161710182', '1064202146290249728', '965024768', '159583398', '1108077372698517505', '146031217', '116063072', '137020204', '977101146', '40798704', '1576804604', '831307756191760388', '345780889', '1021840266133684225', '26562665', '18900198', '48906091', '911517085', '3313181663', '3711716956', '4919355545', '204039436', '2888532544', '1147158554895364097', '251843666', '215775585', '134600193', '983832001563242496', '788520157454995456', '911501126326816769', '197076459', '51946792', '849569514', '2309973263', '3175958832', '573099841', '1208554412215611392', '632595725', '157037926', '150910036', '761003210211549184', '1043356680', '323773616', '1357967540639719424', '313462866', '152919277', '486822064', '842866507', '910548619295641602', '522845361', '42967757', '71540437', '753742497202012160', '1214287785944698880', '4826059733', '790541942484598784', '251613179', '821171096582062080', '348999484', '1114969580408115201', '282615991', '182565315', '1165899375350046720', '154692121', '263784933', '1092997300664844289', '145655561', '1414047918', '1511585562', '294759767', '261423076', '371541386', '574681961', '1470895902', '2242999086', '1329815728959139848', '40021861', '138361979', '1258910782835785730', '886892029', '1026714764', '1164760311389249536', '2238240343', '617681598', '1104649801', '152908451', '852572192734892032', '1306317559', '2225202121', '425405477', '627912549', '1532437994', '1026986161976369152', '198042957', '875618144949215232', '15655922', '701549162383482880', '1016801504', '197905571', '1122987759445127168', '192722210', '45154681', '868156226777088000', '279426350', '393358235', '1711548704', '189975266', '977214600914456577', '788660215', '764100259899400192', '133715150', '3342193571', '41231081', '4865669111', '21203832', '2293808102', '237082936', '1046558893302853632', '246872007', '1231968975459885057', '1068526244805861376', '211278376', '186977818', '341665581', '139784441', '536816510', '769537878', '255744033', '636598777', '2861679311', '952985774', '158158879', '331934769', '262949677', '174433977', '3091156348', '931642538171256832', '157338065', '142828700', '230814361', '2939869727', '1597299600', '157536405', '98758958', '453764656', '1590023768', '1363703866819293190', '58391027', '174503251', '784202420578619392', '1060674530564341760', '1317285847948005377', '1108489998523871233', '1161434054010593281', '203369028', '4160175261', '1362552136631005184', '207450318', '4869988217', '1329514048254259205', '54959237', '877283810605510658', '325118692', '276437746', '396872063', '46278456', '573837055', '410750634', '584987568', '2737607334', '197219397', '193803704', '1290669399838425090', '125085129', '291496724', '281871876', '467534996', '853271142', '348627852', '1285278061089427456', '324661794', '1244816592770404352', '177944624', '1291749194219302915', '294227787', '37213469', '229706470', '962893477', '891607632611618816', '823937708426989568', '63794146', '2563741315', '151045393', '100554465', '113600346', '185198902', '162142085', '274779976', '15663205', '436366833', '706288334117666816', '1329087143361187843', '1003552782517927936', '1293923097142341632', '4197963088', '1347194911720960005', '142158209', '1319008624413376516', '396828133', '63334504', '2899903528', '1007873798459265024', '226548790', '2279354906', '1349901101068333057', '42418128', '803377901857017857', '2300893153', '4202772262', '151329511', '1411516082', '1210667045144141824', '839712733', '1237024986931646464', '1035955177893900289', '319989784', '3418816516', '3017564161', '180298297', '1070758430338621441', '4195011353', '319919104', '762777483360014336', '977251116185477120', '109410463', '729417224042254336', '1185842067651682304', '790665319958319104', '1341182205436018690', '1343303610344632320', '1357057088141357058', '144463107', '1256655769921105920', '5031441', '304676422', '574674158', '214199824', '232200801', '784770975502065664', '1477765723', '369853346', '29167047', '397593012', '817381027593195520', '344387496', '3132004871', '363074665', '3736470622', '11183402', '423384875', '281855021', '324073883', '145772649', '2455358330', '27589426', '390472365', '594825168', '43994157', '13194592', '14615607', '1042597931025608705', '423756071', '346256284', '984158580831113220', '813028689743114241', '1155763188', '1283248803575930880', '4858684211', '4827388379', '899636464136400900', '1128802532971732998', '872703679', '1287171845586857985', '1154894221272375297', '381632350', '739259737448009729', '840320488333299714', '377628329', '874984440', '1074223981', '2222517178', '1317503959184138240', '989116568129953792', '2223661614', '2440186327', '1122229402832703490', '165472863', '557319566', '360786607', '970355207711395840', '1187730375285657600', '942596016204861440', '539035466', '1133709450823569410', '3024514187', '1888499617', '1133343323803009024', '718426782505021440', '1340346647033884673', '1177567209041928193', '69237104', '1267966186614030338', '2813715228', '4483796482', '53847384', '167911240', '4143186933', '1149386372278554624', '4482268096', '4550182613', '1144040871702269952', '153511751', '2173117904', '1219068280146624513', '700788133177139200', '3931435583', '155322464', '208646224', '334004566', '350306158', '789415809537875968', '826964373629452289', '213271175', '2883209175', '826962183900762112', '254615536', '59198053', '1250066918733725697', '344403166', '2319125883', '2984514437', '580067190', '33524608', '297592666', '1229673108405178368', '1111975268128907264', '90187575', '846512190', '2544233248', '1337901990', '1233466394970402822', '1364725663', '1142781834721419265', '270052906', '729137666202193920', '1082762265831637008', '896900875578470400', '2207405155', '74208349', '219346628', '295362548', '30672016', '28002781', '887459856', '478732513', '738805760931549184', '1135587619646128128', '1131060040054517762', '1336619703813480449', '336576214', '137002398', '75477100', '1238450749371224071', '1188816106036908032', '4204581617', '140287890', '706915817842196480', '3159245725', '1039715071893618689', '3063992825', '582961171', '1025178666', '1311746883526766594', '46891602', '1194389602368413696', '164433186', '204159646', '1001522970580398082', '765898057', '106607811', '278380213', '210171970', '1130484730636439552', '488570962', '129862088', '1115089537179496448', '273177700', '811700275434110977', '850851067642478594', '152857101', '1271782293204590594', '197783809', '920605773176213504', '1947984955', '75592737', '189566555', '124571972', '3238463967', '1210335348556992514', '1212819751644196864', '1150867165677010951', '904591491070386176', '512783009', '169884650', '20812292', '1021471391600824322', '907085260768366594', '2984716645', '153148497', '179346830', '1070362994973032448', '1963711802', '1367978422958518279', '727116708', '956826860566056960', '1242058047331143682', '1377853657', '1299859647013302277', '1339054712', '931102730', '242705790', '1340892411837485056', '416378712', '278256344', '4066059074', '1000539455109976064', '1323329106', '745689483597709313', '132699963', '1624468212', '879033867335815170', '784826836085800960', '992181408759144449', '210227446', '23751665', '2330570390', '254313482', '1220870484633554944', '268449784', '1234101200917794817', '144240038', '874077122', '412379197', '1365295135899209730', '2485385343', '199581644', '1211004254296498176', '168522847', '1263681818198519808', '72897937', '10038362', '490785642', '150392433', '733765978279010304', '172510763', '1340731062327111680', '938780113730260992', '145615350', '3270505015', '3776984181', '264451985', '1634235037', '2530241037', '1220439586188529664', '4429581449', '1239943788166070277', '1003944230543294464', '195863904', '280539142', '4164931', '358856182', '124540187', '188873723', '1258431110863818752', '1229798260887429121', '1334156605', '2155897331', '802934778', '133464534', '2888261650', '443193579', '896569466464722944', '2450525137', '516113169', '965986004602621952', '17367124', '4190373749', '1064953864959524865', '109525870', '927596328653344768', '946574088100896770', '1122548664629641216', '1001540589530304512', '1351267381721624576', '3379271843', '161970257', '514480993', '1628428602', '1118228331789520899', '2351553227', '865671390', '1213871755053256704', '153461130', '1087226506366062593', '929179629134532608', '217288412', '474484078', '1942189994', '1296969412113825792', '501850309', '780942554594414594', '930128916', '63331244', '301709608', '167243835', '413481176', '97588880', '2386296824', '2724940998', '39392527', '1206959853563994114', '523220915', '847937162', '227373165', '425849553', '800050595503702018', '227127529', '1005816376156663812', '1010574181', '506132288', '6859342', '72906953', '865242130125651968', '1024703501933453312', '1162150184366874626', '182921752', '345439840', '57796010', '279710254', '1262236647418220544', '1035519864507645952', '77235640', '23129379', '2326702317', '1285700613427298306', '154636845', '1239978760348348417', '1268180613087088640', '898996441045192704', '1423347878', '37356974', '465098774', '1134349112', '1036401463411593216', '254574791', '304692573', '227083426', '196188892', '831856531444473856', '140826181', '1179789999266504704', '974466345013252096', '197243470', '140455989', '180545636', '1378400787454435333', '148059348', '2688025814', '864248493078183936', '1023252321822810112', '1291589942', '130721279', '27738185', '1353536921742540800', '1179898760131952640', '1370255626404831232', '181809879', '1379108652334903297', '4198276349', '197181427', '192255724', '803155110', '147707496', '1243889102975623169', '372207867', '819008750099066880', '318741250', '142294245', '2369848597', '2372440289', '149300928', '2617734466', '209294335', '813038373850017792', '274866621', '630657820', '3447672321', '1274825870474194944', '305112925', '157513957', '3300950223', '986774780950073344', '181554143', '2651500225', '114367330', '1264577561671151617', '105523892', '122638550', '979937583244431362', '73572777', '701066895626260480', '360831822', '1243508850189381632', '3308369567', '322208321', '37279668', '87493550', '1278027827124883459', '2800294961', '165920264', '3375748060', '1286410788585037824', '228425478', '452432005', '1238977515898748928', '193940416', '266866430', '3184680060', '1340919630592917504', '1152122665932611584', '2201516119', '974833572891721729', '149023998', '443269544', '63731412', '739141263996358656', '254642233', '1429056793', '1241810942557597697', '2882429367', '1008891593477251072', '151606428', '983427625', '1262524154848464897', '181360590', '161507498', '1329211861271797760', '139939549', '54639492', '2713609511', '1246330404832858112', '1450456700', '777308232113086464', '1099823818896564224', '403792711', '1125781789111476224', '1237815682324148225', '1256600611413544960', '1554612204', '415537589', '3372267965', '2441202873', '277273471', '1025756137', '1345864414029897729', '487608231', '385042123', '621229394', '1111707685769150468', '404224129', '138089139', '1596439058', '181601944', '1007278833580601345', '73010217', '2761416256', '2688326642', '2777381549', '1144600840176640006', '1703736949', '1226905522126884871', '59648280', '867035974953574401', '1194658941772402689', '260017162', '136605221', '150808419', '839152902430212096', '1368285502164631554', '786800826', '162038634', '2463591144', '1284257042665025537', '914503721228423168', '1395656521', '3912231', '818473236', '1253773430056460291', '869720237746290688', '1095777986199126016', '1259661594772062214', '18678351', '1048591017740566534', '1178522323583942657', '155476301', '2858016454', '128964457', '319931795', '868637196', '64681292', '1277368936363896833', '160045704', '1053377961540378624', '2999764158', '1048962688582406144', '1244265837483229184', '299115858', '73033355', '1281957229600681988', '1253809587544875010', '1311798804245606401', '1017852845478072320', '4519530461', '74167000', '1475539686', '706301794159349760', '302048874', '199650079', '917066683126374400', '186527193', '911706342', '981424110566871040', '782997876318363649', '625935041', '227000919', '1003224462', '994608081769295873', '1169966216959713280', '1279241281483530240', '353385636', '1286081388744237059', '378079341', '4151396422', '1007766686156709894', '4136505197', '105631309', '460441436', '1041126776288636929', '191927165', '1687218920', '112048836', '855254478534172672', '153130919', '226621766', '1928103948', '27257793', '1261317151635443713', '1139998945', '2175141252', '1265048568295030789', '935452322', '4266640516', '559064556', '167200112', '100798620', '738057513921351680', '115043576', '185761019', '17930794', '75124130', '199146775', '12716872', '568472239', '1240705284529684480', '60149596', '2481003715', '2159801845', '1257465251139854337', '2493320806', '1205666131', '1352754754158473217', '336335093', '4889884907', '161815781', '1034205010727497728', '55718628', '54450419', '53167501', '142702154', '249384959', '2291885252', '4427090195', '967504689498640384', '950028005497364480', '2878132942', '1233552373131423744', '826518567491403777', '1266506900365066241', '2186458313', '730450242185859072', '1292133899204800513', '173649243', '1133753738508808193', '710330206704242688', '1380857239', '922581043907121152', '1276993703941492738', '1132344198567530503', '156377877', '334844049', '906922471', '3078880287', '1241848259938856961', '1379289428', '893574759648296960', '1029188130673516549', '3073682571', '812871524352921601', '484483463', '150811888', '51282327', '1258095824', '779457216369819648', '71690754', '1687274384', '2308405559', '2289962781', '779541044', '810542363185729536', '1936029138', '203159416', '437905985', '1000836036178608130', '718937916043632640', '1034844271021576192', '275582805', '2202254215', '723976466812272640', '754182205', '718910401153474561', '2293043287', '453365008', '91333779', '114831781', '125337797', '66201574', '1376744348', '1254461122348023809', '2914872137', '276048292', '1237178984384925697', '1243511602554470401', '271621500', '1119968597152096258', '127481307', '1183856699645612037', '721550965', '1226231465240858624', '365192605', '4584266555', '741300005798051840', '990325248', '748263974', '111592733', '21820588', '187758027', '986615144062078976', '1563975666', '460649225', '597404722', '242466774', '126118752', '1247869501418455040', '1169770126306086912', '305802798', '522680070', '1497602300', '2594239946', '1157821093798957057', '310366272', '1163212317229768705', '189559745', '3232155965', '3873516383', '1345517690316877825', '520712143', '407485159', '165858601', '3411128117', '2633419573', '1188499701370445829', '205030825', '319194827', '142827339', '3594803175', '627625338', '615600060', '1428162847', '180189851', '1446744576', '747471912771686401', '1088970385067044864', '2545324961', '889577719452905472', '210274248', '1082684533', '2823229278', '110586493', '1160718267733938176', '2742699471', '1361864154', '138214410', '1320576820396331009', '2688886679', '414755573', '2461645902', '345624195', '1542048469', '278248364', '4836660910', '370813766', '715602694623404033', '809784498', '198347615', '1024087492880986113', '187098574', '575131836', '181284454', '238883974', '1284958411428368385', '2786013233', '740225331433443329', '910755871969431552', '1264407920780947459', '1231381169503166465', '1048101296', '1177275761482522624', '3253692676', '786243803980062720', '291387096', '1186996497503719428', '748630781577269248', '2203520982', '1271498920577949696', '1358809568931889161', '259958105', '334169694', '1118344002112299009', '4852180227', '345391389', '910370284716294148', '986262985252507650', '1112432397633630210', '1195315943670464512', '191259782', '808053023247335424', '140274734', '83863047', '1278900560540979206', '272702668', '195291565', '2595739767', '158872395', '1357402436932038658', '1144618234622152704', '2595442320', '913488290', '180404928', '1160737539818500097', '4109143947', '1144945565458997250', '549427655', '832778861809016832', '714449476069535744', '1665608731', '277494869', '971155064478945280', '1319099068623298560', '3515271317', '1104764237816217601', '761709382036062209', '3063968692', '2338980110', '1082281988520857600', '453400207', '2858562535', '532745897', '19246983', '1075945133701513216', '1240446333359661057', '1242586270053826562', '2545075369', '165950921', '2358693590', '187638203', '155686619', '855731994696835072', '842544373862748160', '36656007', '1178087176267059202', '146153141', '1341411663942184960', '1080416596705845248', '1377640549050675207', '1368164173', '1358101328258600961', '1350543600610902022', '184568364', '24032670', '380015784', '1036349983291846657', '211568474', '2655037042', '184625990', '2922907419', '939272240427913216', '152299336', '127585963', '1241763440194129920', '358806486', '2746868634', '81900035', '1942232330', '1368357152', '4254489910', '186706861', '1383850728', '208187704', '148445742', '22719296', '628778665', '247159679', '1243307882155773955', '1281471061', '12117762', '156415182', '1167216174972702724', '584727590', '3201792010', '1006942603', '1047623078270980096', '184169074', '971470111042342913', '1485895477', '1350033602323615744', '4025904431', '111704355', '890032533517348867', '796115823291142145', '1037520198214053890', '2314793569', '1216603560739131392', '390304154', '1603612400', '976302104926179328', '2904979707', '1157422980428980224', '977372501901705222', '1042583240832364544', '791072587891834880', '737036512328593409', '87609643', '109101055', '55771820', '1257215509692649472', '3314306795', '765620085939662848', '181294688', '1349799414823604226', '254823560', '595910060', '775105460865265664', '3255256882', '751243807157526528', '991768446982639617', '1257773316594597889', '1343284945838600193', '186227794', '127163121', '1349728069112614917', '1671743112', '804579821913337856', '2398296710', '1421736704', '144942739', '573115204', '109748956', '60385554', '37465591', '1000712214842675201', '2411612466', '1105437966', '105830614', '349013361', '300919094', '60118380', '283675536', '3033786377', '173617704', '138944480', '3023171106', '2206528081', '160090843', '1187117755239161858', '2213070324', '326958684', '167130632', '106553027', '1182396517895868432', '1345613639181598726', '161396280', '1310595524786032641', '826244576268734464', '827694334006935552', '1009137068', '1040747370537996290', '2183242150', '925503948735250432', '186275246', '2437285741', '249435051', '1057448042159321088', '2854753576', '1163628875479470080', '239894537', '905849875132276745', '567655065', '114662437', '991244181816397825', '357638275', '191965081', '171343642', '747576601819385857', '164900117', '1247705434758287361', '217103401', '140825793', '136143292', '859085940102504450', '1336019122887516163', '211126306', '1276292806538153986', '4778659942', '1292537850630680579', '205003373', '741038066', '1241161579422498829', '189149036', '3044386697', '943528001442021376', '1242257706439700480', '2810531629', '4144928860', '277496022', '1210542591072178177', '1447685431', '1036587868653805569', '234128879', '1167162478377283586', '492578545', '592278525', '183249218', '1692428540', '1220219434197028864', '181260750', '4793901022', '1361960408', '182392508', '110634845', '4187655208', '269618302', '1710945955', '1063803262103621633', '769606899893403649', '152021475', '123047717', '185279041', '1279892627953987590', '137880878', '719280106179571712', '730381498063400960', '3884826857', '1272526019262656514', '212767511', '975230367266373633', '387321810', '776646018', '1847408640', '2350475906', '198781802', '465291855', '590354329', '905566472524754944', '196289373', '440888103', '167988540', '2555614814', '695729642276286469', '4188850217', '413430728', '154317015', '3002929425', '168695861', '718046103652941825', '514667327', '69198878', '476078094', '795699343655366656', '1207768400564563969', '747236894761684992', '1592149986', '849303929338961920', '4293597436', '1607038494', '151549649', '3130782616', '923655844293677056', '39336367', '13792042', '43109519', '1058887872026173445', '2734866437', '2525948156', '365308293', '139456874', '1375949804', '1283505107401924610', '2555726052', '1288586705067560967', '1210686265529655296', '3255306472', '777027502346735616', '348849442', '4331947587', '955940332495081472', '392947130', '310308110', '190122951', '1204488836', '196441234', '936852398', '1256041014227279872', '268815788', '163492649', '143795703', '2709539702', '1107331799154413574', '27324793', '1209142219237556229', '1171868983898857479', '3085422230', '1099625043095683075', '2372279978', '1222461727', '1040191136755855360', '211352370', '3302398083', '119719340', '1302429251262648325', '203486215', '104399735', '159251973', '365802932', '2497374299', '1321548554482180096', '1015486685336035328', '311785039', '959395586146480128', '191949058', '1332449558362808320', '1217183667895906305', '146615006', '4476068423', '175044733', '1250417943634014208', '1080885068', '199306937', '1229521005992800257', '158231803', '1078420910951092225', '723033421', '963622026425569282', '197392979', '887299824', '240538201', '1243621077827358722', '102498982', '722050535994572800', '324062901', '1299167053723688961', '1323124524', '4851595347', '748176453984993280', '1300860772940214272', '161744015', '182941653', '4779931576', '783439417', '205236162', '705823531276378113', '794305191940124673', '41620341', '1712662638', '764243', '1098227043391676416', '58368019', '1222217153455235073', '17922534', '570441629', '1264586977317392384', '152391226', '208845480', '218183052', '985883410882232327', '197670557', '394821710', '1160745168112377856', '2982247174', '3302954212', '199352298', '1116136734', '1300756575188066304', '868762292', '932059704775380993', '1294279547026898944', '1091557522476015620', '136441372', '139720419', '129317953', '203510964', '826963761982500865', '228451738', '3331386099', '2260744951', '1291740502975483905', '1350930032751992839', '984496772834910210', '1202600716847779840', '3153893019', '175494868', '877885927393251329', '362892316', '1359654180743479299', '1207713682718969856', '584099652', '384980125', '752240579560534016', '92575645', '2584671668', '710909951384756225', '1234169741432033280', '1208261019258294272', '970748973236461568', '4513515918', '603019295', '893977932', '146870588', '1183537518525997058', '897910914455941120', '462078747', '1256017041527640064', '207728340', '132000001', '1158430230849212416', '361338946', '729486510148489217', '1323691178651508737', '197780380', '1249743847', '81253503', '191329651', '388538896', '1421735412', '964483867515211777', '627602327', '85966466', '265022047', '758491037727850496', '887355087651209216', '1312471137155190784', '167195798', '312688930', '952189524276404224', '1299160691836940290', '76067448', '550531411', '1295701913812570113', '1358257290881736704', '321652274', '1241264754', '131343701', '2690279606', '1152978724456996864', '138927041', '1156130522', '902014911282384897', '196043943', '216062258', '168752439', '345775287', '1267590077447917570', '971400474103635968', '1245495598192738306', '700859930216177664', '910597284320116738', '236622401', '493573263', '1349480766749757448', '1254190896314232832', '334967920', '156008432', '1170912894902505472', '237832819', '323574088', '108972859', '1126110956025712640', '1256968404256329730', '1317304326679822336', '872454696413409280', '828320190098206720', '792930775', '387431776', '178482837', '1408984716', '2544862520', '798618059850256384', '3372820041', '187530934', '254163123', '286204334', '807749899', '38668054', '362040004', '2759103792', '4670755697', '1202049792152616961', '943110028231364608', '169193726', '163320155', '1068093764844048384', '208665668', '139225637', '1344951632', '1184612540103516160', '130684166', '274768692', '460119406', '240809427', '212404470', '346193313', '286835938', '1539904808', '4704674962', '1532230255', '457305596', '508000927', '2424575540', '360247495', '1543609580', '292048968', '4219818922', '5639542', '183290655', '454375616', '171694210', '327623626', '2860977796', '3327786045', '1036945595624251392', '1240040231681830914', '741803922', '4789535543', '764296338020368385', '996476180239933442', '257160923', '1222297315098202113', '1024476209642659840', '289518547', '827883173103140872', '143771313', '2930047271', '1094696116149465088', '1123781957538783235', '301672293', '1055935625386438657', '889588220853407748', '809720129156050944', '4729318888', '2817712296', '2694649675', '532258214', '842536356303855616', '36426583', '1027613396659838976', '517813826', '395692378', '110523860', '140545734', '161354969', '247805604', '56458354', '848196974188797952', '61592564', '292751600', '277236373', '534657206', '4039994608', '1194954606549381120', '1250577332', '887868822862127104', '3438634197', '4228763367', '234178440', '1061783473', '226536982', '1149778245883191301', '110630477', '1323346685888745472', '1271971542302416897', '434532644', '4745198609', '166355908', '764082547936591872', '1143913072173735936', '384115945', '1018824554', '748772319233921025', '1465254331', '1253159323490037761', '2788762619', '2285546923', '1177305186475360256', '163082855', '2838132382', '140470987', '291768559', '1160965281252089857', '2233715439', '3344605853', '3830201955', '154898495', '818180546945761280', '705097329687322624', '1262428442097864705', '3099742378', '4427346575', '262698080', '867367044', '78014946', '723501474257506304', '1434727801', '758468016967393280', '1244433330', '991852092817059840', '80418315', '1365848803', '118500882', '1072145755677319173', '84972519', '91444031', '170851808', '182419723', '49970054', '1891600470', '3288411929', '98498439', '748878487138729984', '480043557', '104662079', '248673558', '2630477471', '1861363302', '1041765370665869317', '161313551', '276146815', '550720338', '730124051369332736', '2670926164', '3009334558', '399167196', '901806558954360833', '917743724104429568', '967246564119994368', '1465566780', '1278443944846729218', '1285450299356913665', '1321300525', '1579348412', '4858081437', '824508079', '4833298491', '290257038', '1129092072', '785586210836090880', '2677993811', '314951375', '271110807', '1202506176975519747', '1392710300', '880919801551618049', '162187490', '145677364', '138928919', '258632087', '293587439', '366381582', '30703916', '75911447', '1377614287', '1313156965040873474', '201978989', '1086873752141484035', '1264977440406978560', '369488337', '311064586', '204514427', '3091889688', '1301543785915125761', '877189331647180806', '2261234451', '68052894', '77213895', '43564780', '377076947', '989260988947091457', '232410590', '146165555', '854079882', '1286088761802096640', '92548346', '605964844', '1140326282711982086', '739995798029623296', '1343950119461408769', '1249224899954184194', '14227320', '127456074', '1244261695863885826', '187022810', '752594113971630080', '1065447231094964224', '569428397', '114925226', '50662540', '997654071707422721', '475049584', '245013296', '171524029', '706299049171886086', '104054908', '92561797', '1303837980717723648', '143878008', '923564355207270400', '1149786800', '1261689597685379074', '781671780880613376', '593722839', '1361526861357006848', '180277849', '1252274493940289539', '487652658', '743422225873780737', '357531482', '3340486445', '2202351998', '155292581', '2321913848', '321597832', '123327130', '278878373', '146537390', '1248396275516690432', '1192546404989906944', '395463092', '108753554', '209876067', '1242489065942941696', '713422914670956544', '4497194248', '228142817', '3249948204', '1365825050', '2525769032', '1267167753867268099', '156635992', '187977599', '252909522', '622427573', '2926324613', '3109190002', '50106077', '4275617080', '1405733570', '2311490583', '241581672', '58275626', '1338320281526538240', '1195023122401026048', '1255732728772857857', '1142570984584732673', '118745133', '1314407023237361669', '1201586180598444032', '2418004610', '3472928117', '522829119', '933059313937145856', '1494557162', '1309488355101609986', '1377378624', '19886419', '1286291748487073800', '368583496', '231187746', '1164653543174877186', '785541246', '1112046810829336577', '4230969435', '231486483', '632644934', '191170621', '169984786', '2206901067', '285436904', '2308875857', '1130263439207784451', '482696440', '2571982664', '3999384471', '1244422864109010947', '1190379957823901697', '286650712', '1265805827182661633', '1336695963788992513', '192012139', '240702828', '143924125', '1317530918119157760', '177402586', '1296203433842802689', '299742591', '118550156', '175092987', '1292646955420704769', '124699832', '1357529583617249281', '2279044430', '1963612285', '776504276', '1131888017680023555', '724118767211569152', '2874162252', '187027088', '358551336', '2332156453', '973626795332431873', '1068340248097230849', '1281653379702370305', '1382005890', '2565166402', '739960967782662145', '1256049485081427968', '547165172', '1170866257', '1319677711971962882', '348780903', '272997286', '1312789698478211073', '864334227445137409', '1180434504953090049', '1659934592', '590370584', '731284272', '1369655120', '278186100', '403778208', '1105682959884083200', '55864444', '1114212209637380100', '159296024', '146554716', '29114684', '4551154859', '176302193', '960263233880973315', '381813536', '4197708767', '1217526725585838080', '1708842553', '987118674485137409', '213331485', '724595741893746688', '1326811260', '2473710575', '2373301724', '359760859', '87462356', '404777181', '1029435874726105088', '185839621', '1175068130445529089', '1299476232271261696', '594775511', '2401546344', '137510408', '866639252041453568', '1291398972603600896', '376232988', '261940448', '499360772', '880026091091628033', '61010799', '156848930', '1183438238100393985', '164886790', '3350741069', '126380468', '1220114855836966918', '2596649589', '1104909408964882432', '3439484687', '254511850', '136758424', '127879319', '118033283', '1171840716961697796', '422674296', '221503960', '1183795178517209088', '1188639776544559106', '554826460', '150519130', '717254809', '4820034381', '10245062', '134013272', '249463532', '4373844855', '1219761603060563971', '708352423312678913', '1102022562803011586', '4611352306', '866973294938947584', '144976428', '1340657963858595840', '235688281', '988246471303663617', '763518288605347840', '1654030746', '1372614950', '1278838453', '980640898462703618', '1203439825895989251', '1237797972613763073', '527029806', '787435333', '54310973', '1181064568182857728', '199939464', '990914060', '163846240', '146875989', '150827389', '255629244', '1306616913817202690', '372467913', '909260043727638529', '444282590', '917503055494512641', '908452296845139968', '138535558', '2895300713', '4270562897', '1035574730777157633', '806041344', '1078660870673256448', '139116555', '4028708099', '1090869222', '187976444', '878985152', '1494958010', '1340079161638051840', '2747013183', '1062161485445640192', '1241824682669756418', '808264602', '1102016396182126592', '82761139', '1223847491373801472', '277457851', '227491249', '2828503477', '225983990', '110774025', '2272237573', '144896037', '1346795041558310913', '1534766197', '357842503', '881479061968695297', '146507107', '35111663', '582936221', '71441870', '926451685', '1140476449', '42434329', '167477905', '254310662', '207602567', '2463988771', '1041339335692365824', '114495393', '2893492641', '164941598', '810546571494494208', '152453413', '2533677529', '145866322', '122124844', '57686497', '15082708', '1137788859713040386', '784800045749116928', '919421268', '169093987', '1162141358720729089', '1036790809969025024', '183071448', '317759419', '326494441', '1279159624088924167', '72121392', '305288371', '2334139796', '714250136994648065', '291917336', '170416040', '1073411633769267200', '374790858', '714100867935387648', '1196475839380107265', '191269850', '171164494', '172167065', '335520079', '2996461635', '337698003', '1344597934399250438', '1274559443661991936', '835302672580370432', '531207987', '151493448', '1193168425771831297', '288350901', '1168324184067518468', '1021491868411076609', '744560023880237057', '4144776443', '580198735', '313046254', '181336743', '598870037', '181593299', '1301884448', '1004530878', '359600992', '1199848113751678976', '365020102', '2799043572', '454232849', '266898015', '333514336', '1256754977667719168', '1614161174', '3297337786', '1426249141', '1296534336628494337', '2788019061', '172993005', '2954117085', '1028897172', '186565741', '881438958', '718195760869806080', '42938993', '160988385', '145299592', '26736103', '97222494', '584795536', '13516352', '1184438546817531904', '126162348', '1275066907087929346', '168747386', '112778430', '1259856222922162180', '45393745', '131377136', '297765894', '2549418173', '274117397', '124835771', '114319712', '280683146', '906525960', '196746262', '239283386', '1030781521', '57679915', '290618945', '169460303', '318726710', '1101223129', '735106878', '1146596856', '202347117', '1152322402182938624', '16941652', '4635770236', '860441228', '1291529069948018689', '1087776997911216128', '2282938484', '1011791589046448128', '965426478', '1282889125', '69468956', '2758278531', '612204043', '61207058', '1142990740324278274', '307179105', '59149024', '1083047503405166594', '1284996634825367552', '2613717896', '184158676', '136096018', '210300679', '907276464', '195219132', '1283993344889229312', '140937822', '291941131', '33609614', '752243893484285952', '141655625', '215403665', '171709615', '1017174424011923456', '182149053', '182609802', '183280654', '3075453035', '1395550513', '1140378610886414338', '159555221', '735413179', '1339242699975745537', '875033914196336641', '1341108253544034304', '253262910', '2679109831', '462242719', '143239304', '1174836000620761090', '1330500832350113793', '775354988155564033', '856713331113066496', '392357015', '1379677315131658242', '1920100074', '4851633436', '309774894', '1329694039', '220248706', '61351429', '593944030', '127980774', '100683328', '172636364', '1299048408385302528', '385896476', '28649059', '2930013593', '150487149', '857015892198252544', '1179512371716472832', '1206655706', '2563490953', '827162293842669570', '3429320807', '1171114959528452097', '808913808752316417', '3195187325', '774842677456211968', '548537340', '1036558850462285825', '150377047', '1281757016', '84342167', '243053378', '298667032', '100579825', '324405883', '4701961646', '314959912', '568696723', '1212039302235873288', '320430387', '66372998', '844333645', '2218795063', '391561946', '176368997', '1344240161933111297', '177827446', '1000017357534883840', '1331454810508423169', '96635050', '200673696', '156516022', '119867501', '3082066600', '1181396463491981314', '780281', '277720578', '868498874981396482', '350204256', '862733066971774978', '1179811472110706688', '2898735091', '1321079742276243456', '262443155', '592467210', '3462687556', '2998500897', '870035428556120065', '331234479', '129665187', '131056136', '408625650', '1152056077434986496', '384614029', '111799652', '448134753', '207064740', '1272138311503622152', '132609519', '1954572703', '999119957085573121', '1634546323', '1125104286206238720', '365771799', '1036306405215690752', '328300795', '1195097699055521793', '1086692603494612994', '90740609', '2780221864', '1282827483709087746', '1228194273520078848', '1113240128363872256', '925537764472492032', '748224478363136000', '1255639057209659392', '147622944', '196888473', '140943304', '293688006', '1154763164', '375784759', '339133361', '925860704149803009', '2713165067', '226008154', '881167176', '1018862598', '93012958', '598743188', '1080424931547070464', '36334268', '945883755754991618', '832591659129044992', '68027704', '581595876', '238682666', '1239677645438189568', '883343869', '164804924', '254819155', '2908158593', '1963736772', '545619847', '189279946', '1171095407470022656', '919305620', '1534111550', '176871533', '901598953829015552', '263443738', '149652774', '700923667815997440', '1328747665132314628', '191426849', '1018291045078044672', '15103097', '602919400', '597068496', '1654269456', '1242550393369792512', '145427770', '78713309', '14084259', '28816993', '1034787009653604352', '126616638', '2973844913', '1130581525152632832', '1343663273485471744', '1145203000014725120', '1166510427259506693', '8258222', '745037197691191296', '1346244261776416775', '1251701906621202432', '1329100881858621440', '521652013', '1260588751753039878', '4578446537', '788486281382727680', '597480847', '1275524439153807361', '190407030', '376269869', '1013957236366987264', '1208414486564085765', '271516240', '1533025874', '2537592680', '56469571', '1015473985327452161', '1150778116962430977', '759230906', '1219979032672063494', '922174020446978048', '1249779322224881675', '4867334224', '1289836493637287937', '340763424', '292292742', '308489611', '258122913', '1900739514', '332662130', '179199426', '1342959146728087553', '883120119085453312', '2230541658', '214061656', '1077188113', '160516263', '760154182120857600', '2775975418', '2295344996', '885936999689052161', '875496976384655360', '1176005274605445120', '863174706874208260', '1182509069812326401', '701947216202752000', '2510780461', '154858479', '712058891241136128', '519706681', '1347122851925651456', '1252702418141351937', '370901922', '2743322419', '1109140780508241920', '36206294', '1220009333636915200', '262495947', '1136012116744388614', '185702157', '1245376283242045441', '213834189', '935118859', '1365338080916439049', '62517385', '745778460', '36559510', '155496039', '1534205515', '893204294979248130', '801229369280696324', '52285114', '780201142378721280', '2617610895', '725745979203457024', '1155582700574715904', '3481414288', '1084208924', '757670977778114561', '755639394', '1032092392890032128', '442098374', '170142150', '1006387781629894656', '314667113', '1082350384176353281', '1271352148362776576', '2603721217', '2453496102', '337348333', '1192874989491556354', '1378003734', '174167538', '1279942226504757249', '370460006', '1315493117513134082', '722465536374894592', '2434808931', '143580706', '3053654857', '1912958581', '2947815767', '764955600451239936', '866683873', '4799242468', '1289443476552261632', '77626628', '408238083', '1645277029', '1337898313933332481', '815988545269727232', '803632771499520000', '1043732383', '1186411810209042432', '138096050', '117187816', '283638057', '1254204598312669186', '823971391821250560', '77141652', '36587816', '285253798', '840813067', '217668398', '145061766', '1003957716', '215095522', '209390637', '1187120433268744192', '2572946862', '315545408', '1248318315031924737', '1002226485632143360', '161393028', '716800940540575749', '308648421', '715871692464250880', '138827837', '1328721848796930049', '1237551744617414656', '66385555', '602266743', '1183723365619634176', '2933142465', '1126665102764253185', '570432293', '394467454', '146261847', '215360530', '407185581', '101633770', '45555377', '1332105264888156161', '180065470', '1165799953257684992', '399798958', '1183213101254098944', '710830425040621568', '60785796', '3313422429', '260995211', '1474942237', '636690492', '535568675', '1090831435974565889', '125802512', '591622728', '3074014469', '42394401', '312497682', '4496776463', '1273584588913348614', '524790292', '931500908315336707', '272277497', '1251912734528151552', '3219877797', '1286678579397505034', '3355551249', '239575307', '114836590', '855820486311325697', '255833300', '810098280', '70300617', '162800815', '480994571', '1420883161', '7658762', '1074377658', '2973080601', '148711988', '1080403697971220480', '119269713', '627930448', '8859932', '152387035', '853081982', '1452675337', '145388187', '1731914714', '4792014023', '96044411', '592221583', '1245756992716709888', '118869860', '1167134286518128641', '2429894414', '170186437', '427048768', '702323670', '154694910', '161319423', '1161953086337888257', '440272088', '171716958', '221118495', '1268360074029936646', '171285919', '120392199', '271161060', '109350611', '972447080718401537', '158554609', '146178630', '106603003', '1095732915286274048', '1310714424697794560', '4254734002', '1219966998765096960', '2492390995', '322977527', '1615803702', '1284214828282912768', '1263290694', '872935175948300288', '1532035112', '193716320', '864915902042705921', '454998408', '813441726161518592', '1031218633', '849049689186070529', '922616959472152577', '708281820098531328', '113750102', '4561412317', '803368742', '362122109', '1026326278910234625', '1171977980161269760', '1264686639248551936', '3002420746', '2986018215', '336359572', '2848274933', '2293080324', '1245156741727256576', '817502209', '2473114260', '168003943', '259227841', '285846708', '199763093', '233918724', '2492428952', '172562574', '2529249803', '179990422', '1026769555', '1935996103', '1730229084', '334162335', '1155984704719470592', '537579145', '2857749683', '1068694704710189056', '187253648', '1207648447123333120', '259374445', '83690658', '1463247259', '44670655', '1277545069919252481', '825875476384215040', '185744727', '70942293', '187588055', '1300410981126987776', '1131587335064301569', '1303143653536301056', '2374235737', '2881828480', '779498082916503552', '573695295', '1158512652', '786733881122848768', '3003584093', '1327298682857943040', '258765276', '1264618187754213376', '151883281', '543543292', '1380077610', '3347830151', '2896065219', '1334133747239817217', '1551738338', '603032045', '85001214', '232427078', '317342786', '3059581895', '1186646619833491456', '1359298619065700352', '145368383', '187340995', '1413875478', '1107709726597492742', '1191589398804086784', '179679166', '3316539741', '1124914481723789312', '150661483', '130566340', '2470601145', '1062155238386339840', '225984678', '188878941', '1346839736607010816', '1290407923156504580', '1101596927651651585', '23542581', '4220404227', '107052280', '844587133', '2544127856', '2862589908', '147352386', '378377725', '626691768', '1217263401379991552', '1133931350279557120', '986018283160850432', '899262488', '1278013883115024384', '1088226955336527872', '603884627', '1176276780115775489', '151133864', '1314723830435282945', '256288163', '409597791', '443168675', '1201997479673319424', '140637100', '1191424400', '1132764753158463489', '4122416554', '174036046', '203769304', '2782436321', '193406126', '1000431658191945728', '3034783799', '1241813580485472259', '1062051442356297728', '87452661', '98022918', '1317020288', '247989622', '198297342', '8489422', '17049977', '89574037', '75445503', '263665160', '174504385', '9973482', '206869571', '311504156', '1298039409812467713', '1708065342', '3032938167', '1139937225527967744', '890952085944053760', '44040084', '1174323025086492672', '166834387', '1094790311010861056', '3165375717', '145814664', '706272564', '1201607639286894592', '1323259122', '1333517132114636802', '26149728', '1196814437849686016', '519518014', '104639518', '800351391923306496', '881183617342418944', '209751729', '706303051', '1761839443', '748669002982039553', '148572827', '610235412', '991150390006730752', '287157353', '157109181', '891464812043145216', '186872962', '1413292652', '2740819583', '78204972', '3177468157', '1021158212601556997', '169933936', '1250328632', '178701976', '617373833', '1353188408', '1025387894', '317422463', '994346766224035840', '206391025', '162859967', '724245458', '154742238', '243682046', '737061790870327296', '90720446', '264418825', '1164894182', '1255504745315414022', '2482792899', '978699688420560897', '121411889', '1104585257439895557', '704684826', '766696016305414144', '2688471824', '1970092831', '255817427', '338145987', '4749446241', '186811418', '187534093', '1012879613641609219', '1295695157354954753', '3196415338', '226779527', '2196706855', '908776234959687682', '1303496987346698241', '1118632026385584128', '219113542', '1496440238', '441443667', '1083084817472860160', '2912910220', '78374389', '441313352', '717047078', '293138233', '141449543', '116050434', '1358273048747589633', '924355909459042304', '146590365', '4163067381', '3195790419', '16665012', '182353207', '350651164', '848033544', '1007618232344367106', '3038082053', '871125589', '1211847944820813824', '76432986', '371483764', '1329828999619547138', '134443998', '263150457', '2549629677', '1548509378', '616608478', '1311814565383090178', '178419125', '1170125137506684928', '49408559', '167826780', '1239934339699400705', '1480704414', '1263304901532291072', '192018644', '28870492', '136008998', '129093877', '2305912220', '4410306869', '2355218442', '1445305027', '1089622774593789953', '1351626890474356737', '187035140', '1204702424814018560', '251881004', '1250129346', '4899777213', '967040529635700738', '2527648176', '782051075834650624', '158232493', '1289660192037253131', '362523768', '146222372', '3050663625', '1293592278', '4530104253', '3355974554', '860125316030894082', '1217278987925323776', '274570740', '331284143', '325661487', '1268997737359593474', '3102164663', '2891580537', '159141935', '1955141634', '1215220560709455872', '1016079524', '1208570649200992256', '144029502', '3173200871', '832485444', '895733811807477760', '3371600439', '249741736', '317306038', '318528405', '38078499', '780980779', '1030895492362895370', '296928155', '755645274', '398218199', '248689373', '1079918201050484736', '42375959', '1292553579358814212', '145704672', '2765271995', '376392183', '178241451', '3324235743', '470913377', '31413616', '1209987972', '92269408', '1187037698118377474', '999031882015789057', '876553202', '53183375', '555366183', '616620789', '396853396', '1043197438096486402', '802801086', '1346068643029901313', '419205526', '16609980', '700687997037973504', '1198593616261844992', '3018414280', '1208189267899551750', '285116896', '1155086240305287168', '952377630468247554', '366713453', '1118249508', '1340743472', '944669602633736192', '2545084469', '1153113140005146624', '833859141185712128', '1020693698', '3212704941', '842220381532524544', '188083059', '395637275', '3296103840', '170719344', '2340210000', '3027273997', '148530273', '434268915', '1001977923010727940', '90966284', '1187144934605967362', '203566236', '147367814', '18510490', '1332003396358909953', '4485276113', '439454206', '869410580473499648', '366387477', '29185814', '608769771', '202922392', '523990168', '190009545', '274634448', '4161303617', '243022330', '721321080284127232', '1277372368906850305', '342173490', '62139262', '36214525', '3950406677', '287938116', '215396550', '62409174', '1363649842078224386', '1334550891630882818', '272190345', '36579239', '1147642664', '2276520595', '1332925923067355137', '1189026026782941184', '3227258164', '45852653', '1288430473795055617', '3411450591', '130207653', '2338452385', '139887975', '3199481717', '981657463291305984', '1045457941657276417', '380411401', '1238622374548975621', '291824255', '2785508721', '186575629', '323419614', '298770970', '924906454502531072', '1140365819106533376', '2891999873', '245376253', '3315964239', '973171608', '991062316929167360', '101779650', '291411341', '1968887310', '851815196263940098', '882744119357038592', '763021909969739776', '1097671388037554185', '722595300', '1337419949585870853', '1302779319710887936', '2255876516', '702184202', '430281681', '339719405', '274243783', '3207244079', '251852710', '2759269829', '2303931503', '364310919', '250177017', '187630124', '1393691606', '3364006965', '1230946147281362944', '167186894', '2835534015', '9712842', '363193182', '64294060', '54374218', '181265225', '126425282', '737408508027633664', '947858215', '4883891560', '284972761', '1533806282', '1650948870', '200348065', '435071866', '731622529928990721', '533707510', '807840669050044417', '516836837', '1161456647350493184', '950521221346742272', '35765421', '757703486205198336', '1258246081', '1233787767236239360', '127718219', '114711285', '1266596082936614912', '219976147', '212246653', '725105222113214464', '1572979118', '1607502048', '1266799175729119237', '1270885332012146688', '3087505091', '199095963', '149250571', '2777341060', '2155363015', '726119237236973568', '1315716486', '154234377', '1138103524598923271', '3093702082', '548553533', '3340190619', '705414308', '2778485094', '950497964446961666', '959790426826919937', '886047504487387136', '193924716', '197639400', '759884461416652801', '858732780536180737', '133876132', '615339183', '771764172', '271169674', '809213932686704640', '783016140784238593', '150445830', '843998192412889089', '1573241478', '1157866141051707392', '736074200', '113460455', '165618932', '432000251', '4760302517', '816442097830100994', '491338717', '185821865', '257210878', '1129756395379843072', '749688955898040320', '109456727', '209667300', '150627191', '1140276369714241537', '168183222', '257921878', '4860151030', '1106299176017629184', '3060249923', '36001888', '217063086', '2347148849', '133982737', '1469391320', '1145131140430389248', '163230713', '363455130', '35450983', '1185280830', '309075651', '193432157', '1027550738518618112', '144674661', '108497292', '238258846', '149211792', '214598940', '580901415', '399019661', '1147233138751475714', '596478323', '816216258', '263250360', '926148610013712385', '291106552', '1214590156017152000', '3202440778', '709039606596046848', '191222011', '1028080922074251264', '979329064736608257', '1129827228487999489', '988457196', '90962905', '164303238', '1287448749057421312', '1320901193653211141', '1126649260555083777', '181697404', '70724306', '250621136', '150643733', '2851912725', '821093847312769024', '614844856', '1351568673320951812', '2998965255', '365856900', '3088706097', '1918960652', '1045766832', '357630856', '1001535549197385728', '162901722', '982687199983472640', '603142773', '448013435', '143968528', '1120505430092984325', '834005322779987968', '295885867', '223948294', '4239482422', '305547601', '1048264052038934529', '1175269988950839296', '4901567957', '209202597', '171247018', '179946019', '309150605', '796428110556184576', '1149807560', '978818170076188672', '1229754557904904194', '44856219', '1305118959281352704', '892397010099331073', '1443644600', '719327364132507648', '833983197952274432', '4911590212', '986201754667769858', '451080067', '186884335', '1252409519109550080', '4822969515', '428267951', '2762517411', '134250775', '1316196328037376001', '1062053110712020993', '1084641918519255041', '945311274220638208', '584979429', '225723546', '1024018149006614530', '178176933', '492819809', '1267264754327990272', '757767882', '3239337748', '578592914', '852040604', '210606358', '457828084', '1215882773967392768', '1187083268098809862', '156258291', '1200424421284073473', '892209824', '627076140', '78653115', '173685151', '2470180568', '49336378', '2298905316', '1566985651', '160744644', '913568144', '353917928', '1016613631', '997851398640369664', '988528590844190720', '836699924234440705', '1466032532', '178404422', '36859499', '4632893727', '1214541551768129537', '547646812', '4779052221', '1079185258648604674', '162833144', '176887471', '568679861', '1117552275956875264', '253335253', '266123746', '892456175672995841', '138770941', '905878292271681536', '2774996938', '360870005', '497034029', '1058929604373688320', '898227758744182784', '724304806135881728', '202231385', '198840045', '1331225376580919298', '143999000', '766322088', '4443617919', '137132027', '179347687', '713205481', '711536026125266944', '970582548', '1237797222886113284', '958334316', '2485878390', '51861188', '15201665', '139111129', '1353035450', '2447104984', '1364964123390455813', '134920599', '185380599', '762793130034946048', '196362385', '1267604924755476482', '1227701460797923328', '3297327064', '435057662', '191573610', '1179871158340128773', '2950945841', '190894647', '146536753', '82692517', '1196105000553975809', '1081339364', '2502284101', '137865840', '1198669276841938944', '445367019', '1307454387573477382', '22033703', '3403561745', '2429492712', '1107637210281590784', '4561661353', '827972672768339968', '2163335256', '925723814926999552', '1315076777459552256', '1083495628112568320', '174686940', '85811759', '1361789516495925251', '1009515450378616833', '26325179', '186645342', '3569809037', '2351182947', '951491449538871296', '1074511161922600960', '4496986997', '59570870', '169664152', '1282716033783037953', '1144253102524174339', '1240259358530953216', '4200830735', '297703689', '110794694', '347883015', '1333369475324915716', '143277380', '208572667', '239882353', '901263805052747779', '1132249327', '1539379135', '298874963', '895418731', '148388210', '312874818', '1281719682416902146', '2932149737', '721561134', '914830512', '83452277', '1212065172077965312', '750460758916497408', '1618757839', '2374424073', '743269557335363584', '714629174816858113', '1202864943974043648', '258760582', '4230508360', '163696702', '713741422000807937', '37994587', '1388459966', '747428958', '759233426469875713', '447288253', '4158124287', '2200590228', '1480037053', '167987695', '353970945', '55292972', '2440893852', '343440972', '418070657', '726199855446691840', '549790869', '326009390', '1298965227439095809', '221486871', '1314229531901911040', '146948001', '230500374', '190067727', '4376538532', '1220449643970158602', '868322646240485377', '749379297018871808', '170125630', '1561381333', '804013925687771136', '814817697846464513', '139444611', '943629842330812416', '173284970', '499887525', '250316706', '158861673', '58909740', '172603681', '3806132123', '1345423350315819009', '195179046', '195195724', '2147767538', '2820880847', '291298781', '106765920', '236229660', '282299453', '27579446', '188820390', '125981047', '767355905700757504', '167995406', '236057804', '4310820135', '3226676235', '58741089', '1187198100361957376', '820659438193360897', '1106927376', '1020477188162949121', '1152935296142577666', '958445541691715584', '1209784207943356416', '48351046', '801518909392355334', '1923087462', '367158010', '10823582', '922501500743581696', '1463708960', '1255943911', '47997376', '280652533', '610139504', '2429605466', '886041232480378880', '1042941127', '45143204', '1099502780010688512', '306235487', '972883830976720901', '258573153', '2479117576', '44403422', '1247403630', '834196553942310912', '2800208657', '573208343', '1287986380308713472', '899801311', '36310118', '3371761885', '1165579216387289089', '83012816', '1228847729146810378', '754488942859317249', '882723429543182336', '4076387662', '146284888', '501233558', '809020516312944640', '941062180920807424', '4866698813', '2729515640', '1079877279470272512', '798551947087331328', '83762393', '702557562307284992', '190068755', '707003865057644544', '1477515074', '150487604', '4729537995', '118218011', '7388272', '348217259', '780388940', '178230867', '252303168', '621377023', '174842462', '192736123', '196172891', '322985557', '1179398402758643713', '134468239', '2527471495', '1003357255763406851', '520011368', '147346808', '136458082', '449712065', '257273380', '208553735', '1339415557003685891', '2393548910', '1671701228', '759395153882836992', '156312513', '282208045', '859537459348213760', '97580521', '131996333', '1348322090', '158699779', '237282706', '130001063', '271160560', '869334331', '136623105', '4212169792', '939487793402740737', '1529027010', '707388301', '304008852', '1135629578288975872', '1261050606', '2367838038', '174897356', '187044209', '2400141307', '139718762', '288993691', '17257544', '78433661', '4704853298', '705754466784567296', '2233630770', '261920713', '1061381399696064519', '1284291946807209987', '1455830954', '462883358', '2773483398', '297811640', '248368134', '148979411', '1898693030', '112809557', '1102190514357633025', '1622441845', '764205840303874048', '1395871410', '1049688429053845504', '1871264742', '1240621262059253762', '882438848000778240', '2715133627', '41973235', '1517843449', '3980825055', '2753583710', '1218013970373709825', '700269317', '1335852110', '1321945101883551745', '118723132', '379597735', '363192050', '200293010', '202811774', '4190554215', '2494097592', '368343782', '428345783', '233618176', '1150962017215361024', '1362044352', '1066512982400741376', '760923882727542786', '2646348703', '63841428', '746754583138078725', '30802453', '324079972', '17945665', '117183228', '766548828', '1212126546741227520', '111708602', '174074470', '2874231824', '1047518592865095681', '364603402', '201907692', '1286373138029305856', '1242983271165812736', '1291737836', '152049218', '717442689101348866', '183205408', '158793641', '517915372', '2830761059', '932007700715712512', '1260776556009488384', '851599148411478017', '257233750', '1556282023', '974498616818786304', '625524887', '1219807802685829120', '2967009730', '1136745253044723725', '214870544', '1000164687013609473', '513703637', '1049725827427065856', '1971997680', '1070631875151044608', '2307000126', '557876230', '866666232589799424', '1149356028628275206', '482389177', '1017881912', '88337703', '234625659', '96469004', '84030418', '145496009', '4250911888', '127852137', '3664921821', '273707123', '1239263833249558528', '450098050', '249618215', '1300237688746975232', '68513868', '442247879', '1327866578763919361', '201299499', '226781908', '818872387', '1327122544185516034', '625235615', '82946210', '756924438575190016', '2811938517', '71953858', '181602646', '139552619', '991344960', '3503789117', '508395390', '310349013', '78175347', '1067105683', '39281622', '274737084', '260414047', '277577826', '307537167', '932981036702629888', '953760216629334016', '15750760', '964614961040384005', '226370054', '1432084152', '1065236317720756226', '1326985918700527618', '310339730', '3867042136', '316946162', '1035027004536573952', '1023742783079763968', '1902047539', '293613743', '1030266781968023552', '32961083', '17934673', '2848180313', '1102089084', '720699100627406852', '288368569', '4808092486', '194071210', '1540577461', '839095743612923906', '455448286', '273544651', '494235628', '1178843324578447361', '1328180980914466817', '184496693', '4505217507', '4816236335', '100057086', '2448657036', '273110112', '773931327250960385', '56219230', '1311447240490315776', '716156613523083264', '818860255899688962', '319661334', '871520290588815361', '1313941535273222144', '1630860108', '139886144', '751709156', '187743373', '157845769', '1215471336811913216', '147831260', '1216648655094063104', '195769785', '186584578', '967028631158579203', '337995606', '1099407949443809283', '1311726240546594816', '714547254405832704', '862720971756777472', '605498697', '3352528895', '2924888601', '157189794', '1541463253', '1063060047998173187', '306516255', '1206715044', '2355010883', '910641066797346816', '626669524', '82429883', '2337452678', '1387834346', '196420717', '1007814846', '78358066', '196215445', '729633726930554880', '3399620836', '56741286', '897536827418177536', '1185562665697075202', '1333523133521924096', '1261735348675260416', '990352149174542339', '1161233989916680193', '1138952053630390276', '4827043473', '1251223398866391040', '157433175', '1029074339692531712', '1860302834', '1038982110068047872', '150443205', '185848501', '151213974', '109295783', '1343453575', '902346935624978432', '1041068692937699328', '40433343', '751306526275538944', '252016342', '383412949', '3255277906', '340383579', '2277592465', '1252061609079508993', '2821910091', '199665529', '110189306', '1073048223294648320', '229748302', '196673208', '144019628', '1313913789666996225', '119246313', '1090688516139466759', '829517291427659776', '299187868', '968456009013518336', '1064931502423752705', '1355474373990375424', '3872876571', '2619908628', '2806561697', '208543060', '1121603022302449666', '24661045', '181991857', '92805031', '1493361516', '290876434', '293714642', '199638189', '1593921276', '964214750258368517', '3000997735', '1241919311314399232', '2802441075', '3158192996', '1350639977194004481', '150455818', '197480677', '895499790', '1319261285767352320', '3319474127', '154014898', '2957453503', '849658484', '119222636', '1241430945145794565', '2806687800', '1257177984072589318', '1255590382097874950', '3883425316', '1148191391719333888', '381240666', '487101813', '931662991627575297', '2865879108', '1463472608', '2926104028', '1105314302272126976', '2281149956', '1240392186', '204307727', '536840523', '594723838', '50678035', '1299808046433042432', '279304973', '1182973364', '447903968', '1040746472210399232', '1142603597353496582', '1346200468016525312', '1264988496885940226', '1304483728656404483', '4217340117', '1354836894744506370', '988715761', '254874072', '1223383395369136129', '1333005412656930816', '3254835796', '1714702182', '1165035699885789189', '2977332046', '1350157357', '93013527', '2465253895', '299742420', '335079111', '519812508', '1042060677102403585', '183668514', '776134541408952320', '127943857', '479997249', '636908009', '3295208955', '1322750185', '364878367', '216535976', '491644641', '1273575836919238657', '224660518', '3146617168', '1266031488325365770', '2502233379', '98978680', '778950481536311296', '329980288', '254687033', '193831082', '384479536', '1058431608108261376', '1468576285', '1227425921457672192', '1358496094041362435', '864297239308623874', '2279532121', '159951797', '1261286936842571776', '728983779742781449', '148591544', '1149466740562321408', '321791509', '336587847', '3918688756', '1172515975297740803', '1149686188393017344', '1149492167070629888', '143859469', '190793394', '1379554375', '1151691321687662593', '4310162237', '33024510', '2377177987', '967485021991919621', '146591803', '192246573', '324646945', '38889939', '634675227', '1247756365', '1303580546556198912', '3091409849', '168680479', '840750128', '824803071905628160', '85123028', '713692427', '128263619', '117919873', '67763973', '37084373', '1288038055719337984', '1280993524469596160', '990237445068386304', '40409158', '127990169', '136838022', '777174464752656385', '1368358284688846850', '99094351', '3709156353', '1188913757080211462', '816616194971201536', '874119200205418497', '153155727', '2881298375', '391762179', '438042045', '208563398', '2617224901', '1346802220390637569', '484399936', '1438846776', '518019234', '102824289', '149616090', '168933236', '193189356', '160343476', '2184576314', '1917992215', '190323575', '160243624', '241247552', '170433827', '2972447404', '1141808977229090817', '1295553013030039559', '1037731604196728833', '571881753', '1160962657', '159906302', '1233947923056123911', '2178114513', '1178566250', '2157968311', '376447682', '145021392', '185034282', '327133082', '951479809187729408', '1265340518', '257194757', '583015215', '1616319282', '175666439', '155390892', '797843442210603012', '2740605262', '1196951117705490434', '455968551', '106502690', '770357359', '3674571801', '328828950', '319916123', '180847336', '382809022', '171633001', '194978116', '1057052247123812352', '196453975', '1882142424', '1153836420894744576', '3453177377', '153092008', '59605039', '1245015915642736642', '155975642', '1219977784325484544', '2395337552', '334965114', '1316120581394386944', '1332326508', '2372273293', '69758276', '183722632', '154664219', '74727242', '1352600401', '2784694421', '1350799987697922048', '775140269071171589', '119273582', '1294795841300037632', '57086455', '1035614056328175616', '1360583610', '395665990', '2445301891', '1197584635502440448', '631608137', '154693502', '155753159', '193386038', '1869581977', '144287340', '1036347290703802368', '394448415', '869208187911753730', '17637728', '765376129058369536', '619453055', '172175345', '1260218403505287170', '3342152410', '390405895', '1112178861977075713', '2770741533', '716385448654929920', '61633358', '1177390227578642434', '114526843', '343143035', '1141194924697817089', '1320145003277156353', '2267671520', '10427162', '55837807', '1677027607', '11636302', '65090367', '12725692', '40925330', '17897222', '164408349', '1509340274', '343826408', '1069748498063593478', '973248883', '824223656', '1308533379659427840', '438843437', '4498519701', '134991183', '27803439', '302947829', '620985621', '17105128', '246102773', '970095292119961601', '278787352', '1364355655981797377', '308169027', '3044735043', '1259954839737503750', '134590539', '192319838', '1385413520', '2530987818', '379397321', '1654379617', '13399182', '1315462867429273600', '2799224644', '1311337495', '2893266730', '257263702', '1030063258768691200', '1961749778', '287502592', '144599300', '27586430', '5033321', '2431166646', '705133882', '403786635', '2338643536', '374290255', '4861078497', '90677444', '2266520852', '4627423997', '1196574364625506304', '250802466', '635052603', '1160776646', '1114246405768536065', '315992271', '90545134', '177342424', '920748746182418432', '1467914340', '752232822', '289730232', '492519780', '3332130657', '1057382977259352064', '913025083597377536', '373794049', '253525938', '1242566925785485314', '920082176', '820090699672682496', '568729901', '831187769405894656', '1429204638', '1309888986941468674', '4552866855', '124321494', '846373550160273409', '596251856', '1158982622', '1280236583086624771', '1316561217624969216', '3399387839', '142829070', '707543122352410624', '419525370', '1230584998593515520', '4822487164', '752356802', '2693713508', '2593605120', '284144846', '1239952087527706634', '48007268', '96188622', '802663853226074112', '2535614959', '1229858283541889024', '201826074', '1201632565058252801', '505551531', '161529090', '985907108', '156637398', '158974302', '2416156812', '146069184', '236658816', '340064470', '1347366811', '1092251825603072000', '1250228342', '2889195315', '4033506796', '434985065', '966760245845549059', '1233175224260157442', '145813205', '2227923436', '1235842105966071809', '150503387', '127402354', '1062413284215848963', '998919052012806149', '173861700', '305413243', '1274125188242825221', '51168627', '571327361', '4127311558', '508351841', '1024833500', '326278321', '2872912198', '90464201', '2942875288', '1053470284630683648', '1169756487612358656', '1347551156', '1511738096', '95433157', '569325204', '251900320', '1323686922217267202', '71348621', '1305246780045623299', '1003045182420475905', '987450380', '440492105', '436047359', '324489857', '373096582', '965670048005349376', '770542945', '198030836', '942619238', '1201863298175655949', '1469799768', '128030544', '1336814472204341248', '208545116', '144984618', '3170981873', '737226774', '60008007', '154753354', '151045358', '1222423229316333568', '181023894', '153204650', '965217715807023104', '382222532', '40099100', '597021449', '32702499', '209290194', '1205604058054168576', '2234594107', '3347264195', '191905571', '2372271513', '2336211387', '1341085534073069569', '596742871', '1708813938', '2645694343', '431691687', '2693534743', '2446573070', '1626569310', '1182119776006660097', '2420794266', '143156457', '3027008761', '2731279367', '205971415', '210972271', '1947393690', '238815025', '1245479794151772167', '746092887935455232', '2806480757', '208687574', '1337118149997694976', '100302259', '2645854853', '1250904628851625985', '620305819', '250339837', '740017267308630017', '1574012707', '4828121290', '1299715526529351680', '196434595', '141329420', '594798576', '1247887554411552779', '196139276', '867109742', '732546276076736513', '189378709', '485084363', '1260068436048252928', '883808683230101504', '866713134', '331916940', '352305915', '1019190055536070656', '165109542', '154738110', '383864423', '3122730435', '3296269040', '1280699730104848389', '189634899', '184134867', '2919883156', '2455408164', '1245024901', '147218237', '2331854983', '194429808', '1013160867226177536', '820231555', '490841563', '4197473325', '435988823', '163189129', '2772199487', '935647876314796032', '212643109', '156101418', '1240073312065196032', '197552598', '134841165', '211685442', '2668381278', '1114000484359200769', '917045885187641344', '15457168', '394816861', '94826247', '146685464', '281187085', '31546898', '2178330104', '2951675945', '1170834626899787777', '1032780151413714944', '1152940130593923073', '1373331087020199936', '4155936063', '80053041', '277314874', '1287951481602297858', '1052058230342455296', '185420245', '863857170', '194241001', '1113558527862366208', '3318228004', '289709303', '62674785', '1347901545690648577', '2279945105', '1156622305801510912', '922871213785075714', '380557992', '614761323', '335002402', '2341185654', '344994538', '37091452', '417443041', '828596237813297156', '785342061801246720', '3307455832', '113663451', '3080774247', '212757361', '2702016566', '1105537207065108481', '1160303024855760896', '1018800489004240898', '1416321378', '2431086664', '63577835', '966196641224183808', '455017874', '1345834468695805952', '299357084', '731630970', '323528708', '169574592', '1683928806', '754824618159013888', '1348274856228483072', '179174857', '363330068', '737064023951298560', '372624003', '4920421845', '861299384880947200', '1481155772', '3360722351', '1310281362197352451', '151918923', '259491375', '1284925471445127171', '1251691045223649283', '157821211', '1366464857395109888', '879718000039010304', '4546139842', '189282258', '2555672165', '1167797841575723008', '43167904', '2822019899', '764273495085871105', '1080233630247591936', '841805564', '2416164962', '164851455', '2447953159', '388676577', '1140738747564253184', '3885960087', '145339827', '1145851491397308417', '2398526442', '759925364122497024', '556632336', '2361585750', '719371537', '1462248667', '912500989', '1246906948047581184', '387348237', '1098711044753707008', '359016361', '170793720', '1220151193', '115701187', '993912632783421440', '2763526672', '924831814165848064', '81122215', '139909513', '239723082', '915651426336038917', '725333329420099584', '106300390', '1262875065521184769', '181279520', '716309133218209792', '146554860', '2352293238', '956317848', '1340827949466079235', '187355261', '146496506', '238392779', '912318170622545920', '147468677', '2936372735', '1017092128713990144', '775147722231910400', '2402065369', '1421218686', '1142790233764839429', '297047437', '1355897037682831360', '635579175', '489578619', '138250133', '332003162', '3322153582', '2898248405', '182170115', '2532023327', '1654124605', '941330092709564416', '172078612', '195955983', '114585592', '169202761', '725109201299714048', '174076304', '2862927019', '123112516', '955952382', '866528455', '1346573844631482369', '896339665', '1143810060', '4766768640', '1210480778', '1155557011100188676', '314094237', '126353156', '225235145', '1274453817887789056', '3100672497', '2284347960', '947996207863009280', '404398175', '35555281', '363821504', '152747199', '296330347', '76519963', '185835639', '234480927', '264288624', '103723500', '711704448', '35727892', '948623186', '1077774856983363584', '1486009549', '903179275200860160', '4029010581', '1340710190', '199475450', '4354336468', '3161509474', '133953362', '1216703367910699008', '787799941838151680', '358131078', '580297119', '1204887925886013440', '2156398361', '2299931495', '1360855466', '1416708114', '769372906900090880', '2227657820', '1210852209795072000', '1069202613533634560', '1034825511720157185', '811002252', '970041207920488448', '126075161', '751147646', '405235817', '52238304', '161933526', '1359119566320906241', '182174813', '1356281173278908418', '1356250030953418754', '954869107379396610', '1097856826048163840', '603298308', '398644017', '1362701162', '147741744', '378505959', '1178825973086769152', '1032459532671311872', '129258272', '108313351', '168317458', '853530721', '178823441', '98275521', '394230108', '453938558', '952871743445700610', '1285977348', '942927902554849280', '73107311', '1214217010751520768', '733656433141678080', '488976727', '2358769113', '144161306', '157441348', '4749283865', '754148220658446336', '257242592', '4780182268', '1310703436887982080', '190935835', '921361584', '73168299', '1267912008768335873', '3652678755', '3030297088', '158233577', '46367966', '138261504', '1213456970256019456', '3300461865', '1383390438', '797054094', '141695343', '285739711', '68591970', '150344708', '50925952', '124637931', '928811934', '1078699274999922689', '2160812840', '2895565085', '1270871664', '126432916', '2319446535', '197979535', '1087552931883298816', '813909331', '999343274413514752', '700819061031047168', '772764667752157184', '2823769299', '222649929', '37312595', '155017742', '310851569', '718224297869864963', '1205218322909933570', '806554621116350465', '3347285321', '397607207', '1275830232000475142', '827066509', '290880929', '314361072', '194331907', '1335362240589991944', '312081056', '165033288', '1332367473925103621', '2484029928', '724598325857673216', '1086810923241820160', '1220097334991839238', '867396710854774787', '747277550758436865', '1194617698124255240', '1007820205601574914', '1075890461070508033', '555800839', '1176155085484756993', '7178612', '1140317361821626368', '906631609985781761', '842903291172470784', '414384736', '168945089', '450089254', '348432729', '556034685', '113666527', '88034667', '2231832291', '470441221', '2321872682', '280596656', '1052238642993922048', '969040309', '382269031', '2608918643', '1032457518625239040', '160940681', '124627222', '134968181', '895689450', '2424397513', '862392738087665665', '161499679', '161144768', '2924364578', '143913042', '56776483', '299894452', '2523825218', '2577433808', '2714357890', '3027553581', '374666658', '295928937', '526619743', '2876549013', '379934976', '1327647355198459906', '185275723', '2878228660', '896830289070182402', '190981118', '581911635', '2282532421', '56044829', '3406024732', '1202529474', '965023412', '880566605750644736', '1689380767', '197116104', '1976999304', '4805379683', '1095340499072765952', '187520787', '2736174937', '929763719457968128', '348550859', '7377622', '134296976', '20156540', '15029095', '291866648', '617362019', '3077292416', '217933191', '254727812', '579495237', '2445113661', '39219117', '790931413197582336', '1364146462683242496', '2190437776', '1187256756', '1204213617400467457', '192322845', '1080821737', '2569609512', '58714177', '221251655', '35623059', '213780123', '1129218913', '235559928', '452972677', '548896813', '2427252966', '258083794', '738682995758895104', '4909554106', '303386674', '153815917', '329823575', '3104852338', '350390399', '150371630', '3239016197', '132014476', '117651070', '232180988', '135313102', '133381258', '723312856603738112', '1297645076252971012', '1220474308071514113', '487604544', '1226348307875758080', '120199297', '286364198', '4892268489', '1366905507563323394', '1088796412320583681', '184654869', '200511382', '1288880218334265345', '152116110', '4578214276', '126330851', '1226502419988828161', '184580811', '4026579689', '1029510434594975746', '2391909106', '760196308938395648', '205976278', '416322549', '941077374929657856', '2993127844', '1273682753523875841', '3000069317', '2603971238', '1236727030970015750', '907520195417296896', '1363986985715662850', '69866060', '7802892', '1210040694183809024', '194459450', '271719700', '801267667806158849', '2474251159', '1019076555308445696', '3842156183', '153227851', '1230285464990633989', '973310713', '468040173', '3807320535', '1296266243704594432', '502027453', '1325971011305672706', '1171243650396971009', '1180267700934909952', '1163085730551402501', '173946210', '548077746', '144280562', '334969152', '308744013', '68551123', '2314852895', '821783028', '949379615713382401', '1288600583478411269', '1134273294247628800', '1164324695912718337', '855624726', '1295871446548455424', '1072867820910702592', '778397810', '719910049', '1912716470', '314228431', '36150479', '1356676698943725581', '118832528', '60205648', '949125359949135872', '782816633224036352', '619712099', '45981105', '1083021004929155072', '1223173406', '241249583', '846758318634909699', '268387275', '982340198', '2702146094', '157863662', '1122819460715433985', '1336334464092229634', '143998353', '994919058373009408', '105446139', '1424040612', '957365200365158401', '1109555465766293505', '809055115', '3809082676', '75117766', '197183612', '976146259982635008', '548045235', '910627677119352832', '1035286907863920641', '845674183052943363', '4860128765', '45053279', '1681691281', '187252834', '78149948', '1012460613505896449', '45402720', '1287575446465523713', '1117447810675302401', '160539220', '941443124706140160', '180747505', '1551537043', '753480312', '1310078541963440128', '1213630003549573120', '909520300592828417', '186658141', '393216002', '2440409088', '487170803', '150420242', '1223207687770513409', '1350862728697696257', '1263326653238951937', '79672462', '1202951216512282626', '289118417', '2928105994', '1164554541414670336', '167907705', '2397012764', '776423706402971648', '830912700557512709', '1284829958167298050', '180152744', '1407604644', '123374658', '20723512', '191017020', '841091866078539776', '1236440263230357505', '799164709807280128', '311731444', '1292259254024523777', '205996335', '1037836552729255937', '212059820', '140235303', '895879952', '2191625292', '43748845', '18433503', '350628266', '1643451271', '35943987', '322729258', '1242123742983131138', '235653816', '2157279348', '157760780', '1296771969329881095', '2279476794', '2445364141', '339339668', '65773677', '2338377464', '547268691', '395405345', '266747048', '1358453083', '99888564', '2544567618', '69059107', '1341453867045810179', '228717827', '1320167248154296321', '541325828', '146648001', '2273904519', '219835705', '1228148972', '715738831090229248', '73882160', '2650034074', '842695100', '3287974414', '29707352', '226955231', '809892919129817089', '141280115', '2350012362', '214516796', '39565241', '573251405', '53387775', '32184719', '892149047796039682', '1333609988741324800', '905165068454813698', '174460637', '454230311', '1510904856', '1277301975206502400', '1171303843814092801', '2336969852', '80471026', '770497645', '184581602', '3117023434', '766370042187485184', '840511843', '75876915', '1239952127566413824', '2834702403', '4721313463', '216801295', '1468644384', '385677102', '17971830', '1729371104', '576611597', '1130482834550992896', '1164917611320283136', '332543511', '1301615215176568832', '182925466', '2400567445', '1297390837', '1206366696203866113', '1183813972815962114', '140980147', '2379696240', '828327429844369409', '1174340723581292545', '1662535304', '473890472', '4636031733', '1357531572610736129', '316068412', '144891873', '283775174', '967201095712952321', '790259987494866944', '1121229339763384320', '1033318097636286464', '942770938147430400', '162039572', '790536183910653952', '1209160666382245888', '1155786604704927744', '176974376', '1179917536126816256', '151611653', '312894277', '990632027316801542', '839725304302211072', '288001364', '192223897', '3338359467', '604995476', '330046741', '718233057346588672', '1277824836', '149949941', '1038127354739077120', '182804533', '4474622003', '1327556625016688641', '712030795410579456', '745067553114963970', '452555890', '324575947', '1084939458', '194132645', '749398325816922112', '305672277', '323471895', '2874156523', '196388574', '990952746', '127851654', '166369476', '1342926253', '1045895704386973697', '3293605564', '749696618958577664', '1048959020', '1498943581', '162769375', '2740107411', '209003727', '3402023547', '112764082', '3341414722', '37087283', '422826801', '44394152', '2817444740', '209144450', '538602358', '346826139', '279706455', '1023014382551408645', '1351240767591886852', '857268405593886721', '1363437546', '971919787717742593', '123601390', '4459417233', '172353254', '1167769251308101634', '739110172895903745', '127299711', '330757260', '1041075576012890112', '1339760053', '759105279430692864', '2317742246', '1134818094759784448', '355038856', '1204170850917855232', '1252059207106519041', '1388584746', '935279420', '1152559186699591680', '147995297', '4237170443', '1119309515994931200', '1369307121314103301', '1277981073582907395', '1234575325280993282', '31385461', '241280983', '113671065', '201234647', '923627942768467969', '3022268663', '4779733966', '137351741', '826559078050701313', '1026965693550526466', '900167522', '881198519574564864', '1342932762181984257', '1039652669319770112', '128127507', '635604538', '1370053205086892037', '1338784607932739585', '1284609921368182790', '1295416386156666880', '955108360080240640', '138312513', '2371183357', '73208090', '746348457007386624', '242138972', '510750952', '852326736264122368', '1104388094', '170807200', '2969160016', '349448199', '873761250949419008', '711234337442816000', '1569097310', '1137404225108025344', '952871054', '98880805', '151104110', '151510588', '3991293023', '1189005165866733569', '1283566936916398080', '159990973', '147644613', '350508181', '161239419', '4138632795', '128621897', '1313188538524094464', '1440908784', '1139505143664259073', '162516223', '1579326655', '3215810809', '141450060', '1568951060', '770750722866577408', '168335783', '831555451', '995438127249526789', '153440686', '2829803165', '353201418', '2549476467', '338688581', '1242844953488830464', '196218450', '1274103256281645057', '1039302237074411520', '906685075282124800', '884860959478743041', '1349846337056075782', '4197612563', '151251961', '164234619', '1172297108201836544', '1235642089981054977', '2570023515', '1016636862', '923187352914276352', '140159380', '1045048767601356800', '243817631', '840291639100899330', '1426707871', '126800398', '4921048149', '540434743', '1331201697805459458', '743758741', '2207965686', '862058688118480897', '43154159', '41128345', '65418057', '40684679', '950085594478202880', '349021462', '283221097', '27904594', '3000581', '1394657004', '311703912', '902682664058138624', '1108550949923180547', '86159982', '1293238022394257409', '839718996', '1340043509169057792', '1143173028618088448', '177531124', '247558769', '4899431267', '193579954', '176119552', '760312346', '853693451837349888', '146262066', '771161916941168640', '1204095611341025282', '594570161', '94697371', '1615667414', '1392183650', '1262096498399031297', '324146195', '973988404856795144', '967787625661784065', '1087679322851344385', '171754382', '131651804', '159139218', '2471689291', '234596704', '37044475', '2863284671', '1252663955547459586', '833755118097010689', '859951173104697345', '8596402', '307621546', '573191013', '2730097443', '172920587', '1304845098308579328', '897231682385956865', '592468423', '1017839618987839490', '1300453111', '563349301', '730897878', '1308892732333666304', '178184902', '193020648', '890392738667081728', '179290854', '1544295571', '381276807', '159131314', '1661121440', '220453848', '1597222548', '1029501918564032513', '1247301808030191617', '433117469', '1089668553018695680', '1231221477669773312', '336242713', '1311076972076896257', '4153011443', '735642077640417283', '314824409', '1634207976', '293192956', '392852790', '1514983562', '158814958', '979044674', '184130224', '2321639246', '254333217', '551787247', '1200574075061645312', '1215078256816349184', '1222006718344912896', '553134478', '147716517', '335874207', '170086875', '154967870', '866438761688780804', '849702297655443456', '471552475', '101060386', '1152755346', '1280126575271456768', '839182078335926272', '213857996', '246037559', '2840586377', '37216149', '1283477623465746434', '142014736', '1046114558832783360', '120594535', '716475408', '201755000', '1350873221936119819', '68542326', '330100434', '2256245567', '1036649987768311808', '1299539942088101888', '191596724', '1201679218440101889', '315449260', '172125346', '1248332995288801285', '883288170', '3701352916', '841448453163122688', '1079352954904346624', '273139702', '1319598567296741377', '3305098461', '2266001923', '1272970550185545729', '910115126832967681', '524364476', '356417099', '751586774', '906528942', '284014925', '1270917100295553026', '726919142', '228518150', '1165124437', '189294376', '10718792', '3328378659', '2791282846', '69953322', '2355150775', '717502002', '148958167', '111600251', '3123825856', '1945417908', '396791253', '21203443', '2946592859', '889911496846823425', '2959815729', '860258491', '325684081', '102776532', '125883002', '1025172291154526212', '143544144', '1056696241', '4856839851', '3097263413', '1017057000780369920', '1207773979928399875', '738545830307729408', '3925652253', '336937138', '1164160995054542848', '924455617972129792', '1086495564424986624', '3086825085', '177732658', '1162046357210828800', '1150885036876533760', '1129873161955303424', '140461350', '187350698', '1359206209933479947', '178091758', '1551420468', '947745530', '1031237894382530560', '251815211', '57768434', '1214258422218014721', '234996238', '149493823', '260820225', '1312084390072274944', '1339742768', '278554624', '3031756757', '743206798199500800', '1081034944980443136', '80124913', '260773916', '1350899572256759811', '3422874839', '907814141443878912', '184069666', '1294644105578975233', '3004433164', '191337158', '710603627388395520', '327430636', '333595645', '143514842', '701728464597078016', '428561643', '1009920625', '24905712', '1154356349565841408', '553000102', '17626692', '166704830', '96901611', '354692102', '900049833603608576', '957953906', '527793147', '968004011508019200', '568648111', '1162795914764984321', '318996082', '538437261', '1347012902063120391', '2776355458', '1344589600006828032', '221138047', '331899332', '172919783', '199108854', '3308686677', '321389148', '331963261', '2168733268', '1326910895491076096', '831678966532599808', '1370536194073899016', '611358469', '1313244103128346626', '1377227124210335745', '1171033824693764096', '3504635355', '252628274', '3312045363', '1132392783996739584', '3374818731', '858087305592152064', '929499376912912384', '1331306093037936654', '1362470092320215040', '747930224470462465', '1246891426614575104', '1293245585718484993', '273272856', '1240911979700682753', '188088123', '160721883', '1347661963594264588', '186528862', '838226097636507649', '790378241185968128', '1198792183433891843', '842469357192151041', '761806056515330048', '471520343', '968729468885000194', '1156248539426693125', '1491852109', '3959829436', '224318255', '466139339', '1328536519083220992', '720992047', '447599712', '70976165', '51824276', '3312489561', '1300793995627462658', '1043813342580756485', '154579114', '174864434', '1224070848996433920', '780679423', '729696237516115970', '2322910415', '2734241729', '3349535585', '2385986570', '4132835722', '887272848', '1640665352', '3427903755', '1297400295320891392', '331937236', '1117870516361211905', '254317872', '48487770', '1083713273814548480', '94005976', '1308578827338240001', '1234925484', '1905425730', '925484959', '1468821030', '147319521', '61843618', '1176903171152781312', '160762565', '276759410', '2686869089', '254349459', '1166168949593124865', '364846815', '1188344939106787329', '877297781823746048', '142122077', '1072322476594618369', '1134576222955028480', '17683410', '281781606', '1163658378733858822', '795407623701098497', '147083822', '150878906', '399585824', '2294703543', '817261712042651648', '3000520089', '209659788', '1358874084235436033', '988416240250228737', '76465915', '1337493414200434689', '129181055', '915201002', '821007001799061505', '358479634', '1139450634', '917072594767089665', '1044265231705415680', '1078442539844292610', '2788958343', '1070756645163229187', '359509238', '767038284849680384', '3381003869', '316675382', '1141080518', '1272049219243773952', '246975020', '3475949657', '189274364', '185011973', '720624986', '556338101', '168658402', '1347282840610861057', '170411896', '4064587697', '1103802463705026561', '185778576', '35569456', '2793240117', '6639352', '132665510', '1061307491076710400', '1248350591161716738', '403232552', '574625286', '1141752457233674240', '1658121882', '580870610', '139204794', '851050082', '1245546216064237568', '182075979', '1241007622288965633', '787471142093201408', '1261092544831782913', '1047393637317971968', '1002999735186227206', '1237833702', '579349060', '1418727174', '1289015190', '3302089397', '190004533', '1237145263921336323', '51573083', '1340972973109473284', '484711341', '181782187', '119233073', '1711720831', '1277394409336733697', '1026140876836356097', '931974454233763840', '186964337', '363652787', '307544773', '370446571', '46501605', '709896641441091585', '1009206395022004231', '547708885', '300361650', '4839128938', '307037194', '134849388', '4377341003', '389714202', '621947027', '719200065', '96889243', '1112395945222778881', '287868119', '407408165', '1184312095392878592', '796326915707641856', '2426818007', '410235178', '462990600', '1124473933439406080', '2204642759', '58354752', '1237414558865727489', '493721511', '1291841395', '183088828', '1278924988284915712', '268507828', '128101823', '282646083', '145266513', '1888012398', '1241118194103996420', '1101472866044964864', '716803839010205700', '42637609', '1227259336059125760', '869266786130288640', '275563863', '847202461844680705', '1359247376402292739', '858063531501072386', '1339388228634370049', '1193522148826140672', '222269467', '146176256', '2528484050', '1327310331367088129', '171953870', '1235399517022941185', '126760513', '2732594115', '1348390498956959744', '1184942260036816903', '534744485', '1326592746', '1259956980258570240', '177965969', '384859664', '189689139', '449479764', '840509305', '1326556732844339202', '225198513', '971360082754768896', '1038990392237215744', '84227387', '417313542', '4825231918', '2485229460', '417021026', '255731501', '201778033', '110814805', '150679065', '610319414', '309026205', '1122339864643551232', '128688978', '2284224133', '1356650920445173770', '500234676', '1067254184087617537', '425135557', '1051221002859044864', '60723854', '167958404', '963234785006096385', '3131221444', '976830659087011841', '178927294', '70570712', '815055472990552064', '1372001766', '162463321', '922134329127505921', '3097387588', '1243693018152153089', '4195765563', '306184313', '1123843477', '1130287426449158144', '2683142335', '1007403439440257025', '634289262', '165602631', '2750828935', '789643964', '1046140878', '2548527344', '391067333', '905582059590230016', '1321045011610349568', '175367354', '299612820', '987337243131109376', '3703125982', '903824287', '752316075375755265', '266278223', '324054400', '961266301', '2991159081', '183184266', '810053286', '125780743', '841729916332888065', '1128489758907412480', '1091089080975310848', '408779896', '541885411', '14412159', '229961277', '4214175689', '1129546771', '279104758', '4710169767', '1180105105', '591435730', '1136763780258570246', '172993804', '2896358441', '180610864', '1674586171', '160570306', '1355328558567215107', '2962287057', '158464633', '554434208', '2242587008', '209106767', '1344116547426594816', '2347050723', '1264696596', '1279131314', '195110536', '495080814', '130638442', '877689051557638144', '45705227', '1297933116129017857', '362815466', '1328731526679453696', '1089675710107697152', '838911678070861824', '410675072', '297164469', '3019031794', '2341274851', '115591150', '138555927', '1267262847660314624', '1241435920173326347', '1154205336187940864', '1045117028733001728', '3307972757', '532591207', '1279547158664970242', '124359730', '1032135034793349125', '39803705', '1006908039193079808', '3011176601', '87578596', '280269556', '1203078144267313153', '159880214', '910623260647284736', '946396878932971521', '45844483', '79325236', '1332141084', '182217068', '1260023169198374914', '844900789810331649', '144557321', '1242597068', '4893454060', '145440088', '329699082', '1247581230', '1271874793734889474', '177765367', '159855765', '73760765', '216731118', '282282827', '619254684', '1354838365091323910', '318065575', '391631870', '252313904', '1053909260', '2676551710', '216358879', '54047691', '485124540', '197225841', '2585073017', '706207326', '712245133593415680', '329709724', '809701698', '3078246939', '392882848', '51890503', '242006989', '468096343', '316837825', '1061021007404826624', '1359150922279116805', '83164471', '1218543542450184194', '148066026', '294734498', '994069290', '154015027', '1533176420', '2181074292', '603310350', '1263225894652579841', '217122434', '1221841935884783617', '1240745970268344320', '1219046957756362758', '1192503985741148160', '165156482', '888954067359236096', '144389212', '3016116261', '4041839195', '1189444495034601472', '166339807', '1115278234147364864', '1370331490958114818', '725437657887719425', '1324470245818511363', '742780879467085824', '208672634', '1126385348072882177', '4320705633', '2352325188', '727259125', '2777509775', '189682802', '4190263247', '904050018524553216', '150673380', '147832930', '183997763', '1144843064407711744', '150381418', '242390939', '146144286', '915068132', '176592046', '167897010', '2750848096', '1317943619005878272', '877532201252003841', '374084157', '180591745', '918118109147484160', '3637648517', '915933416', '128944477', '286784162', '498516695', '1284136812810842114', '1129788016069959680', '1063067269809475584', '940342252894871558', '779860504009445376', '1973929124', '235711373', '2356813609', '741575452674928640', '1097711691788414976', '1241548604575289344', '2227138879', '204509784', '615367359', '2940224644', '1161708715', '1263255855174205442', '1928933628', '327651017', '115144663', '52052634', '4800209955', '1265525678', '400550983', '1300798792883724291', '2688331615', '814442781611528194', '150123286', '316226395', '129701255', '747230145346404352', '4297679901', '118500492', '226186514', '194159504', '382775333', '162018366', '1216497177188601856', '369020457', '239240293', '1243615737496944640', '701632842', '294843211', '1298808720579796992', '1599537792', '104477847', '2149387671', '801502237', '150462497', '256615107', '1189684746110087170', '196404949', '119157110', '60350667', '602156635', '148984299', '4451443900', '1316100826151215105', '169684937', '1636847220', '107569202', '2918674329', '282817391', '926433138754146304', '358159745', '42526495', '513289112', '2176152505', '1186365604497969152', '2784732833', '30314503', '164099099', '191182384', '78699496', '107864416', '892887891864674304', '3578154081', '51589813', '828249345900298241', '208808504', '155087602', '4617417255', '1199368242076225536', '1541452674', '1240339345271336961', '792233472', '1223247719168385024', '2885748983', '3312537519', '703034535177535488', '780521006007975936', '958322249857200129', '159033916', '251290379', '127967904', '3343274693', '469563434', '2889156680', '296979150', '1267838024643198977', '1159309092655120384', '923115840', '528470536', '1236800600341430272', '1613387232', '804515472167288834', '618287806', '1323437986982305796', '716775414362939392', '1043170312458776576', '1206384134', '1079804682602770437', '342682166', '1311146790247378946', '392342267', '374774423', '838962540', '296988930', '130159763', '1032201210470846465', '17678576', '1191845574531780608', '10185582', '1112360245', '1068682785873952768', '697041288189894657', '3041427490', '184929825', '838229954848559105', '15847976', '323579185', '238775686', '1248093681732800513', '1110366601', '3920364557', '788445625352347648', '337344272', '51341567', '723511081298214912', '336706010', '2324007980', '885474348202643456', '1088202276278362112', '567309943', '1195127066271858688', '1087468519', '1100600643587330048', '1130111869363130369', '3195015371', '1499068771', '369083907', '8565932', '76531557', '984481214789767169', '133327378', '1197959237332275200', '204512279', '959366485775929344', '1332361444495601669', '179298322', '1400365178', '168781719', '474429535', '959128680403472385', '1468205730', '1379713712', '1616751595', '1269656770424778753', '1354555885473947656', '4197950961', '169290793', '1335131340', '176782618', '1162484045701365760', '4657089975', '1571385084', '1700907966', '1254588021292371968', '3107781868', '1348193396', '1260765483747422208', '1281728307784974336', '1246299744755949569', '1039357357032177666', '2353535449', '208671388', '1233660161673302017', '586657240', '260569992', '616704455', '3492480137', '1251267390576513025', '143989797', '196407771', '410414512', '1367699058', '1390990754', '833101900400713730', '23213866', '1253116205788991489', '1203077158668771328', '1270831711316836352', '2500529215', '803354946', '2282076733', '1106532346600271872', '3083840063', '2615964388', '809508495812919296', '995555512581312512', '49707864', '178785179', '163057274', '1345148643045756929', '3106374298', '198598621', '4822107471', '145484232', '4315419561', '1752758238', '1183520368021200896', '591555753', '1188987639829016576', '241336521', '273698964', '702885044487135236', '1245724621258842114', '1330949208212377601', '3042288375', '1302656940602949634', '3428146061', '3054616563', '412736789', '851916934941736961', '2640898771', '2194352021', '1100389874581102598', '374275858', '838689884', '183305445', '1045749220458860544', '1219749523', '1185738338990460928', '717067333462790144', '186094218', '2673580998', '1303372851572084737', '69283771', '110310713', '40733398', '929858168515162112', '824783545948319745', '1166481545315704832', '2437068752', '1120701346817220608', '2223866479', '1230992810', '1304808830136651777', '1358118572342603777', '1950261500', '65214935', '1277357093465587718', '177054088', '1206346406', '472516969', '1084662608299466752', '70462772', '1060196358014013440', '603342818', '1373102090', '972913946', '2576428315', '1222591086595579905', '991171832869945344', '1433308357', '402958255', '2833460994', '767363937826471936', '3002994363', '1116660650', '923661511532400642', '739898445826281472', '1215300917588910080', '1618775839', '153818792', '1290447970891116544', '1258106551119884289', '145414019', '211680263', '2192587416', '1079558500655792129', '1160933265269764096', '335507863', '956019604547096576', '160961767', '4869460355', '1246799144', '845351361252380676', '3217414559', '1328891852737671171', '1354628471486611459', '1172895041179791360', '1599599684', '1002260764747616260', '4188760169', '1157790648025702401', '3366701164', '26785429', '242544368', '20008010', '778104787510431744', '1002949494277922816', '1221787899026378754', '812038425738117121', '2738102068', '891296900145713153', '985672747', '728734606388760576', '178061564', '718402183931281409', '17625970', '210683999', '1257808814', '150796950', '161353938', '3353420296', '10771982', '872306288994246657', '172192541', '840719975174283265', '1212710824696897539', '1244007723538284546', '1209877999518191617', '784684647267565568', '157884426', '4903209735', '151102946', '3352557767', '533589375', '806565787347648513', '153417150', '1289333666137636865', '960287859851874305', '4906553237', '1064726923828502533', '382059856', '47660655', '139279206', '192651499', '331131935', '146222478', '484440245', '1041635467844702208', '108505438', '410709667', '1556937426', '569591380', '2766080385', '1329993563271258114', '196237872', '2419443422', '382750102', '160639994', '2949060131', '1359336754675908611', '159245965', '1176839764684759048', '8474942', '218492031', '332397110', '812039228892835841', '301641729', '128908623', '338936666', '4874088383', '2345318126', '256260076', '1299453012214071296', '2784962981', '1161246822528094208', '2560400645', '65789202', '298670653', '776195490', '2311120413', '140063451', '3318003082', '292071849', '118375153', '1161086034790309888', '593001655', '1139989309451329536', '1218687937862426625', '1336442550308265985', '1347979629940924420', '1332509676638965765', '189015338', '2500508888', '805326139', '965324097428377600', '442017990', '804067300383084546', '155729641', '86116342', '213855331', '300372586', '295993746', '208797302', '1196208275567579139', '1148720455987146752', '950020472716054529', '69437186', '187805337', '294362236', '592849646', '1106888494914383873', '1389614246', '258778665', '3342091721', '259921962', '1318244484002553858', '138519555', '2454143292', '1298130898076999680', '789564989258493952', '15129738', '445558645', '1313070755035467776', '760310642779758592', '849643542460997633', '3359467833', '1200435643400282112', '738719944460865536', '3091917742', '94444834', '1153967452289732610', '792073504514514944', '2152270980', '388623466', '1756576562', '1520304470', '1332999080805609472', '255079082', '2489216395', '969378853272608768', '795134223942381573', '3307687744', '235273272', '1653626418', '3312375790', '996153622885994498', '1155848442150817796', '207580264', '1164233616160899072', '324098663', '137085674', '2601902491', '183020017', '2820266009', '2770022485', '2582858150', '835193024946688001', '173629020', '857649318152556544', '3122004155', '93951231', '833734938', '186798308', '1113838366141952006', '1153479389256044544', '1160760657295368192', '19337830', '84153536', '156307956', '971775517', '4399309409', '2966823279', '915346745655218176', '1329028732183601156', '1133697039114657798', '130361175', '944239746', '2776982911', '1355442326592778240', '211291185', '979169961917730816', '429058631', '237011944', '507648107', '367326762', '127530138', '2553279694', '200715707', '462254161', '1290477438', '210781492', '147679552', '804432247', '1137908365', '153551628', '3374610795', '881965327738949632', '937731742781370369', '256327775', '271698970', '705317155', '2621210123', '199691893', '138067621', '1084156570085277698', '800069592022323200', '1245742325042733056', '4820112503', '603386271', '1108417040120012804', '83756469', '77853824', '1289639369922490373', '167861130', '1295009477364715520', '142310218', '2207980004', '1249841741349486599', '895383480053444609', '2986843666', '377054565', '301192533', '1265352495351697414', '174373518', '2169335559', '1220891189655883776', '985657419568222209', '1192617339310751744', '304646603', '2339744858', '1320547086207692806', '2734892073', '872175676236984320', '2728036815', '176776917', '800879202744631296', '187290088', '1025066669994139648', '159934340', '938578811725152256', '4443608241', '2309035736', '3217498420', '286393889', '1102936651993702400', '26742847', '995759272406417409', '234224350', '3351522946', '1207305980293324800', '1271314130541002753', '1256334643554590721', '812405270307540993', '726806718', '1679653772', '1254817239863353345', '4850520537', '1320900443015434242', '753003701892157440', '2278152380', '3131407821', '774440547746537472', '1428846013', '214682571', '1218675990454591489', '832413294', '1337078125218455562', '1125797047444090880', '1666542252']\""
      ]
     },
     "execution_count": 110,
     "metadata": {},
     "output_type": "execute_result"
    }
   ],
   "source": [
    "com_1"
   ]
  },
  {
   "cell_type": "code",
   "execution_count": 112,
   "metadata": {},
   "outputs": [],
   "source": [
    "#Se exportan los csv para ambas comunidades\n",
    "comm_1 = pd.DataFrame(eval(com_1)).rename(columns={0:'comm_1'})\n",
    "comm_1.to_csv('comm_1.csv')\n",
    "comm_2 = pd.DataFrame(eval(com_2)).rename(columns={0:'comm_2'})\n",
    "comm_2.to_csv('comm_2.csv')"
   ]
  }
 ],
 "metadata": {
  "kernelspec": {
   "display_name": "Python 3",
   "language": "python",
   "name": "python3"
  },
  "language_info": {
   "codemirror_mode": {
    "name": "ipython",
    "version": 3
   },
   "file_extension": ".py",
   "mimetype": "text/x-python",
   "name": "python",
   "nbconvert_exporter": "python",
   "pygments_lexer": "ipython3",
   "version": "3.8.5"
  }
 },
 "nbformat": 4,
 "nbformat_minor": 5
}
