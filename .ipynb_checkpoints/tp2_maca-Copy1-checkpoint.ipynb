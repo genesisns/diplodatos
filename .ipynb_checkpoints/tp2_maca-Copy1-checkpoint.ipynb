{
 "cells": [
  {
   "cell_type": "markdown",
   "metadata": {
    "id": "FLNfSeZxhs_m"
   },
   "source": [
    "# 1. Trabajo Práctico N°2: de Analisis + Curación"
   ]
  },
  {
   "cell_type": "markdown",
   "metadata": {
    "id": "_RhjOElDhs_n"
   },
   "source": [
    "# Trabajo Práctico N°2: Análisis Exploratorio y Curación de Datos"
   ]
  },
  {
   "cell_type": "markdown",
   "metadata": {
    "id": "Ch-rvEmahs_n"
   },
   "source": [
    "## Introducción\n",
    "\n",
    "Este trabajo práctico intenta continuar la exploración de los datasets planteados en el [primer trabajo práctico](https://github.com/luisdvlpr/diplodatos2021-datasets/blob/main/TP1_Analisis_y_Visualizacion/enunciado_tp1_analisis_y_visualizacion.ipynb)\n",
    "\n",
    "En el primer práctico pudimos notar algunas características propias de las series temporales y en particular del dominio del comportamiento de un ecommerce genérico. Muchas de ellas son __series no estacionarias__, ya que la caracterización de estas distribuciones ( media, varianza ) cambian a través del tiempo y se observan ademas alguna tendencias. __Por otra parte se se distinguen patrones de estacionalidad, por ej. semanal__. \n",
    "\n",
    "Lo anterior trae __consecuencias__ directas en la selección de las metodologías adecuadas para abordar las problemáticas de tratamiento de __valores faltantes__, detección de __outliers__ y la construcción de __modelos predictivos__.\n",
    "\n",
    "Por otra parte, debe notarse que el tamaño de las economías de cada pais y la adopción de los hábitos de uso de estas plataformas en cada uno de ellos hace que el uso de cantidad de sesiones no sea una medida adecuada para compararles. Entonces, el análisis de estas series se centra por lo general en el cambio porcentual de los precios en vez del cambio en los valores absolutos. Esto resulta en que en vez de modelar los índices originales, previamente se habitúa realizar una __transformación logarítmica__ o trabajar con la __tasa de conversión__ a fin de expresarlos en un __único métrica que les caracterice__ para evitar distorsiones debidas a los tamaños de sus economías y hábitos de uso."
   ]
  },
  {
   "cell_type": "markdown",
   "metadata": {
    "id": "qTWMOQr4hs_r"
   },
   "source": [
    "# Consignas del trabajo práctico N°2\n",
    "\n",
    "El objetivo general del práctico es realizar algunas tareas de __preprocesamiento__ de los datos y luego __analizar las series obtenidas__ de dicho preprocesamiento en forma similar a la empleada en el TP1.\n",
    "\n",
    "Se proponen las siguientes actividades orientadoras, sin perjuicio de que se puedan incorporar análisis adicionales:\n",
    "\n",
    "#### Tratamiento de faltantes\n",
    "\n",
    "- Identificar valores perdidos, huecos en los datos ej: aquellos días para los que no hubo datos\n",
    "\n",
    "- Identificar aquellos valores \"sospechosos\", debido al dropout ( o perdida de sesiones) a medidas que avanzas en \n",
    "  las pantallas la cantidad de sesiones en la pantalla posterior es menor/igual al de su predecesora\n",
    "\n",
    "- Imputar los valores sospechoso con otros que tengan sentido dentro del dominio segun lo explicado en el punto anterior\n",
    "\n",
    "- Imputar los faltantes debidos a fallas de medición usando un algoritmo adecuado para series temporales, \n",
    "  por ejemplo splines, interpolaciones, valores de medias/medianas móviles por ventana de tiempo\n",
    "\n",
    "- Comparar los valores originales vs los imputados y juzgue si los valores se mantienen dentro de parametros aceptables, ¿Como justificaría que dichos valores imputados tienen sentido en su analisis?\n",
    "\n",
    "\n",
    "#### Transformaciones\n",
    "\n",
    "Obtener las siguientes series transformadas:\n",
    "\n",
    "- Los logaritmos naturales de los índices. \n",
    "\n",
    "- Las tasas de conversion.\n",
    "\n",
    "#### Exploración de las series transformadas\n",
    "\n",
    "Reutilizar parte del código del TP1 para analizar las series transformadas. En una primera etapa se puede trabajar con solo una de las series resultantes de tomar logaritmo natural y una serie de tasa de conversión.\n",
    "\n",
    "- Analizar las distribuciones por medio de gráficos y medidas de estadística descriptiva.\n",
    "\n",
    "- Dichas distribuciones, ¿se mantienen relativamente inalteradas en el tiempo?\n",
    "\n",
    "- ¿Hay outliers?\n",
    "\n",
    "- Estudiar la evolución temporal de las series. ¿En qué sentido tienden a moverse? ¿Tienden a moverse en forma conjunta?  ¿Siempre se da dicho patrón? ¿Hay períodos de crisis? En caso de que existan crisis / eventos , ¿Son globales o propias de sites individuales? \n",
    "\n",
    "- To Be defined: De ser definido, podemos establecer un grupo de control versus ls valores imputados y establecer \n",
    "  que tan buenos resultaron los métodos ejecutados para rellenar los valores respecto de los deseables\n",
    "\n",
    "#### Opcional\n",
    "- Graficar e interpretar las funciones de autocorrelación (ACF) y autocorrelación parcial (PACF).\n",
    "- Explorar la volatilidad de las series, por ejemplo graficando las desviaciones estándar móviles.\n",
    "\n",
    "## Fecha de entrega\n",
    "\n",
    "- __Versión preliminar: 03/07__ \n",
    "\n",
    "- __Version final: 07/07__\n",
    "\n",
    "## Condiciones de entrega\n",
    "\n",
    "Realizar un informe en el cual se presenten los resultados y conclusiones del análisis realizado. El mismo puede orientarse para un público técnico pero que desconoce los aspectos propios del problema como sus compañeros de clase. Dicho informe puede ser un notebook, a condición de que en el mismo se explique un análisis escrito suficientemente detallado de los resultados. \n"
   ]
  },
  {
   "cell_type": "markdown",
   "metadata": {
    "id": "FSOcMB7_hs_o"
   },
   "source": [
    "### ***1- CARGA DEL DATASET***"
   ]
  },
  {
   "cell_type": "code",
   "execution_count": 1,
   "metadata": {
    "id": "W9xRpKrfhs_p"
   },
   "outputs": [],
   "source": [
    "import numpy as np\n",
    "import pandas as pd\n",
    "import seaborn as sns\n",
    " \n",
    "%matplotlib inline\n",
    "import matplotlib.pyplot as plt"
   ]
  },
  {
   "cell_type": "code",
   "execution_count": 2,
   "metadata": {
    "id": "m29DC95rhs_p"
   },
   "outputs": [],
   "source": [
    "# algunas configuraciones generales para el desarrollo del trabajo\n",
    "plt.rcParams['figure.figsize'] = (12, 9)\n",
    "pd.options.display.float_format = '{:20,.2f}'.format #configuración para sacar la notación cientifica"
   ]
  },
  {
   "cell_type": "code",
   "execution_count": 3,
   "metadata": {
    "id": "h6wcW6zqhs_p"
   },
   "outputs": [],
   "source": [
    "data_orig = pd.read_csv(\n",
    "    'https://raw.githubusercontent.com/luisepifanio/diplodatos2021-datasets/main/TP2_Analisis_y_Curacion/datasets/traffic_AR_CL_UY.csv', \n",
    "    usecols = [\"Fecha\", \"flow\", \"Site\", \"Device\", \"Loading\", \"Shipping\", \"Payments\", \"Review\", \"Congrats\"], \n",
    "    parse_dates=[\"Fecha\"],index_col=[\"Fecha\"])\n",
    "traffic_data=data_orig.copy()"
   ]
  },
  {
   "cell_type": "code",
   "execution_count": 5,
   "metadata": {
    "id": "Pf2CJipbhs_q"
   },
   "outputs": [],
   "source": [
    "#filtramos los datos para trabajar solo con los datos correspondientes a Mercado libre Argentina (MLA), flujo directo, desktop y android\n",
    "\n",
    "traffic_data = traffic_data[traffic_data.Site==(\"MLA\")]\n",
    "traffic_data = traffic_data[traffic_data.flow==(\"direct\")]\n",
    "traffic_data = traffic_data[(traffic_data.Device==(\"Android\"))|(traffic_data.Device==(\"Desktop\"))]\n",
    "\n",
    "#agrupamos las columnas que corresponden a las etapas de compra de interés (excluimos del análisis a \"loading\" por falta de relevancia. \n",
    "cols_etapas = ['Shipping', 'Payments', 'Review', 'Congrats']"
   ]
  },
  {
   "cell_type": "markdown",
   "metadata": {
    "id": "3uNN2fC9hs_s"
   },
   "source": [
    "### ***2- DATOS FALTANTES***"
   ]
  },
  {
   "cell_type": "markdown",
   "metadata": {},
   "source": [
    "En un primer momento se identifica si el dataset incluye valores faltantes denominados como \"nan\" (\"Not a number\"). Esto puede haber sucedido por una falla en la medición, o por algún problema en el procesamiento de los mismos."
   ]
  },
  {
   "cell_type": "code",
   "execution_count": 6,
   "metadata": {
    "id": "_audyYk2hs_v",
    "outputId": "551fb10e-12ae-4812-d0c1-f31cb9a78afa",
    "scrolled": true
   },
   "outputs": [
    {
     "data": {
      "text/html": [
       "<div>\n",
       "<style scoped>\n",
       "    .dataframe tbody tr th:only-of-type {\n",
       "        vertical-align: middle;\n",
       "    }\n",
       "\n",
       "    .dataframe tbody tr th {\n",
       "        vertical-align: top;\n",
       "    }\n",
       "\n",
       "    .dataframe thead th {\n",
       "        text-align: right;\n",
       "    }\n",
       "</style>\n",
       "<table border=\"1\" class=\"dataframe\">\n",
       "  <thead>\n",
       "    <tr style=\"text-align: right;\">\n",
       "      <th></th>\n",
       "      <th>flow</th>\n",
       "      <th>Site</th>\n",
       "      <th>Loading</th>\n",
       "      <th>Shipping</th>\n",
       "      <th>Payments</th>\n",
       "      <th>Review</th>\n",
       "      <th>Congrats</th>\n",
       "    </tr>\n",
       "    <tr>\n",
       "      <th>Device</th>\n",
       "      <th></th>\n",
       "      <th></th>\n",
       "      <th></th>\n",
       "      <th></th>\n",
       "      <th></th>\n",
       "      <th></th>\n",
       "      <th></th>\n",
       "    </tr>\n",
       "  </thead>\n",
       "  <tbody>\n",
       "    <tr>\n",
       "      <th>Android</th>\n",
       "      <td>0</td>\n",
       "      <td>0</td>\n",
       "      <td>0</td>\n",
       "      <td>1</td>\n",
       "      <td>0</td>\n",
       "      <td>2</td>\n",
       "      <td>0</td>\n",
       "    </tr>\n",
       "    <tr>\n",
       "      <th>Desktop</th>\n",
       "      <td>0</td>\n",
       "      <td>0</td>\n",
       "      <td>0</td>\n",
       "      <td>0</td>\n",
       "      <td>0</td>\n",
       "      <td>0</td>\n",
       "      <td>0</td>\n",
       "    </tr>\n",
       "  </tbody>\n",
       "</table>\n",
       "</div>"
      ],
      "text/plain": [
       "         flow  Site  Loading  Shipping  Payments  Review  Congrats\n",
       "Device                                                            \n",
       "Android     0     0        0         1         0       2         0\n",
       "Desktop     0     0        0         0         0       0         0"
      ]
     },
     "execution_count": 6,
     "metadata": {},
     "output_type": "execute_result"
    }
   ],
   "source": [
    "#Datos faltantes según el tipo de DEVICE\n",
    "traffic_data.drop('Device', 1).isna().groupby(traffic_data.Device, sort=False).sum()"
   ]
  },
  {
   "cell_type": "markdown",
   "metadata": {
    "id": "7WHJ4pk_hs_u"
   },
   "source": [
    "Solo tres datos aparecen como faltantes en el dataset, dos de ellos en la etapa de review y uno en la etapa de shipping. Los tres pertenecen al device ANDROID. En DESKTOP no se presentan datos faltantes."
   ]
  },
  {
   "cell_type": "code",
   "execution_count": 7,
   "metadata": {
    "id": "8jjQDNmahs_u",
    "outputId": "c411f618-c834-4225-8ac4-a9eb76e4a25b"
   },
   "outputs": [
    {
     "data": {
      "text/html": [
       "<div>\n",
       "<style scoped>\n",
       "    .dataframe tbody tr th:only-of-type {\n",
       "        vertical-align: middle;\n",
       "    }\n",
       "\n",
       "    .dataframe tbody tr th {\n",
       "        vertical-align: top;\n",
       "    }\n",
       "\n",
       "    .dataframe thead th {\n",
       "        text-align: right;\n",
       "    }\n",
       "</style>\n",
       "<table border=\"1\" class=\"dataframe\">\n",
       "  <thead>\n",
       "    <tr style=\"text-align: right;\">\n",
       "      <th></th>\n",
       "      <th>Shipping</th>\n",
       "      <th>Payments</th>\n",
       "      <th>Review</th>\n",
       "      <th>Congrats</th>\n",
       "    </tr>\n",
       "    <tr>\n",
       "      <th>Fecha</th>\n",
       "      <th></th>\n",
       "      <th></th>\n",
       "      <th></th>\n",
       "      <th></th>\n",
       "    </tr>\n",
       "  </thead>\n",
       "  <tbody>\n",
       "    <tr>\n",
       "      <th>2019-03-22</th>\n",
       "      <td>169,846.00</td>\n",
       "      <td>138177</td>\n",
       "      <td>nan</td>\n",
       "      <td>89890</td>\n",
       "    </tr>\n",
       "    <tr>\n",
       "      <th>2019-05-07</th>\n",
       "      <td>nan</td>\n",
       "      <td>172472</td>\n",
       "      <td>121,321.00</td>\n",
       "      <td>113250</td>\n",
       "    </tr>\n",
       "    <tr>\n",
       "      <th>2019-08-27</th>\n",
       "      <td>223,993.00</td>\n",
       "      <td>180928</td>\n",
       "      <td>nan</td>\n",
       "      <td>113464</td>\n",
       "    </tr>\n",
       "  </tbody>\n",
       "</table>\n",
       "</div>"
      ],
      "text/plain": [
       "                       Shipping  Payments               Review  Congrats\n",
       "Fecha                                                                   \n",
       "2019-03-22           169,846.00    138177                  nan     89890\n",
       "2019-05-07                  nan    172472           121,321.00    113250\n",
       "2019-08-27           223,993.00    180928                  nan    113464"
      ]
     },
     "execution_count": 7,
     "metadata": {},
     "output_type": "execute_result"
    }
   ],
   "source": [
    "#localizamos los datos faltantes en el dataset original\n",
    "traffic_data[cols_etapas][traffic_data['Shipping'].isnull()|traffic_data['Review'].isnull()]"
   ]
  },
  {
   "cell_type": "markdown",
   "metadata": {
    "id": "cuPswmtohs_v"
   },
   "source": [
    "Podemos identificar que los 3 datos faltantes corresponden a los devices Android sin estar correlacionados entre sí, con fechas diferentes en cada caso: 22 de Marzo, 7 de Mayo y 27 de Agosto de 2019."
   ]
  },
  {
   "cell_type": "markdown",
   "metadata": {
    "id": "H_QwrCUChs_v"
   },
   "source": [
    "### ***3- DATOS NULOS***"
   ]
  },
  {
   "cell_type": "markdown",
   "metadata": {},
   "source": [
    "Otro caso que puede surgir es que los valores del dataset no sean missing values, sino datos nulos, es decir, observaciones igualadas a cero. En este caso, y si no surge del conocimiento de dominio que esto sea correcto por algún hecho puntual, estos ceros deben ser identificados y luego imputados con valores acorde al dominio."
   ]
  },
  {
   "cell_type": "code",
   "execution_count": 8,
   "metadata": {
    "id": "-3FQuW-Ehs_v",
    "outputId": "2726f679-bb81-46c1-cff5-d0c8f3d20ace",
    "scrolled": true
   },
   "outputs": [
    {
     "data": {
      "text/plain": [
       "Loading     4\n",
       "Shipping    4\n",
       "Payments    4\n",
       "Review      4\n",
       "Congrats    4\n",
       "dtype: int64"
      ]
     },
     "execution_count": 8,
     "metadata": {},
     "output_type": "execute_result"
    }
   ],
   "source": [
    "#buscamos los datos nulos e identificamos en qué columnas se encuentran.\n",
    "cols_null = traffic_data[traffic_data == 0].count(axis=0)\n",
    "cols_null[cols_null > 0]"
   ]
  },
  {
   "cell_type": "code",
   "execution_count": 9,
   "metadata": {
    "id": "jCe1tzI2hs_w",
    "outputId": "82d2d61a-8759-4a36-d6aa-d7f1e0e9d69a",
    "scrolled": true
   },
   "outputs": [
    {
     "data": {
      "text/html": [
       "<div>\n",
       "<style scoped>\n",
       "    .dataframe tbody tr th:only-of-type {\n",
       "        vertical-align: middle;\n",
       "    }\n",
       "\n",
       "    .dataframe tbody tr th {\n",
       "        vertical-align: top;\n",
       "    }\n",
       "\n",
       "    .dataframe thead th {\n",
       "        text-align: right;\n",
       "    }\n",
       "</style>\n",
       "<table border=\"1\" class=\"dataframe\">\n",
       "  <thead>\n",
       "    <tr style=\"text-align: right;\">\n",
       "      <th></th>\n",
       "      <th>flow</th>\n",
       "      <th>Site</th>\n",
       "      <th>Device</th>\n",
       "      <th>Loading</th>\n",
       "      <th>Shipping</th>\n",
       "      <th>Payments</th>\n",
       "      <th>Review</th>\n",
       "      <th>Congrats</th>\n",
       "    </tr>\n",
       "    <tr>\n",
       "      <th>Fecha</th>\n",
       "      <th></th>\n",
       "      <th></th>\n",
       "      <th></th>\n",
       "      <th></th>\n",
       "      <th></th>\n",
       "      <th></th>\n",
       "      <th></th>\n",
       "      <th></th>\n",
       "    </tr>\n",
       "  </thead>\n",
       "  <tbody>\n",
       "    <tr>\n",
       "      <th>2019-12-05</th>\n",
       "      <td>direct</td>\n",
       "      <td>MLA</td>\n",
       "      <td>Android</td>\n",
       "      <td>0</td>\n",
       "      <td>0.00</td>\n",
       "      <td>0</td>\n",
       "      <td>0.00</td>\n",
       "      <td>0</td>\n",
       "    </tr>\n",
       "    <tr>\n",
       "      <th>2019-12-05</th>\n",
       "      <td>direct</td>\n",
       "      <td>MLA</td>\n",
       "      <td>Desktop</td>\n",
       "      <td>0</td>\n",
       "      <td>0.00</td>\n",
       "      <td>0</td>\n",
       "      <td>0.00</td>\n",
       "      <td>0</td>\n",
       "    </tr>\n",
       "    <tr>\n",
       "      <th>2019-12-06</th>\n",
       "      <td>direct</td>\n",
       "      <td>MLA</td>\n",
       "      <td>Android</td>\n",
       "      <td>0</td>\n",
       "      <td>0.00</td>\n",
       "      <td>0</td>\n",
       "      <td>0.00</td>\n",
       "      <td>0</td>\n",
       "    </tr>\n",
       "    <tr>\n",
       "      <th>2019-12-06</th>\n",
       "      <td>direct</td>\n",
       "      <td>MLA</td>\n",
       "      <td>Desktop</td>\n",
       "      <td>0</td>\n",
       "      <td>0.00</td>\n",
       "      <td>0</td>\n",
       "      <td>0.00</td>\n",
       "      <td>0</td>\n",
       "    </tr>\n",
       "  </tbody>\n",
       "</table>\n",
       "</div>"
      ],
      "text/plain": [
       "              flow Site   Device  Loading             Shipping  Payments  \\\n",
       "Fecha                                                                      \n",
       "2019-12-05  direct  MLA  Android        0                 0.00         0   \n",
       "2019-12-05  direct  MLA  Desktop        0                 0.00         0   \n",
       "2019-12-06  direct  MLA  Android        0                 0.00         0   \n",
       "2019-12-06  direct  MLA  Desktop        0                 0.00         0   \n",
       "\n",
       "                         Review  Congrats  \n",
       "Fecha                                      \n",
       "2019-12-05                 0.00         0  \n",
       "2019-12-05                 0.00         0  \n",
       "2019-12-06                 0.00         0  \n",
       "2019-12-06                 0.00         0  "
      ]
     },
     "execution_count": 9,
     "metadata": {},
     "output_type": "execute_result"
    }
   ],
   "source": [
    "#buscamos en el data set el conjunto de datos correspondientes a los casos donde se encuentran los valores nulos\n",
    "columns = traffic_data.columns.tolist()\n",
    "columns\n",
    "traffic_data_null = traffic_data[(traffic_data.iloc[:,:] == 0).any(axis=1)]\n",
    "traffic_data_null"
   ]
  },
  {
   "cell_type": "markdown",
   "metadata": {
    "id": "TXSSfpgbhs_w"
   },
   "source": [
    "Podemos afirmar que solo hay dos fechas con valores iguales a 0. Ambos se corresponden a los mismos días tanto para Android como para Desktop: 5 y 6 de Diciembre de 2019. Dos días consecutivos. Podemos pensar que el motivo es alguna falla en la toma de datos generales de mercado libre argentina que impactó en ambos devices. \n",
    "En ambos casos, todas las etapas son 0, por ello los convertiremos en Nan y luego los imputaremos."
   ]
  },
  {
   "cell_type": "code",
   "execution_count": 10,
   "metadata": {
    "id": "P5m-zREvhs_w"
   },
   "outputs": [],
   "source": [
    "#Reemplazamos los valos nulos por nan\n",
    "traffic_data = traffic_data.replace([0], np.nan)"
   ]
  },
  {
   "cell_type": "code",
   "execution_count": 11,
   "metadata": {
    "scrolled": false
   },
   "outputs": [
    {
     "data": {
      "text/html": [
       "<div>\n",
       "<style scoped>\n",
       "    .dataframe tbody tr th:only-of-type {\n",
       "        vertical-align: middle;\n",
       "    }\n",
       "\n",
       "    .dataframe tbody tr th {\n",
       "        vertical-align: top;\n",
       "    }\n",
       "\n",
       "    .dataframe thead th {\n",
       "        text-align: right;\n",
       "    }\n",
       "</style>\n",
       "<table border=\"1\" class=\"dataframe\">\n",
       "  <thead>\n",
       "    <tr style=\"text-align: right;\">\n",
       "      <th></th>\n",
       "      <th>Shipping</th>\n",
       "      <th>Payments</th>\n",
       "      <th>Review</th>\n",
       "      <th>Congrats</th>\n",
       "    </tr>\n",
       "    <tr>\n",
       "      <th>Fecha</th>\n",
       "      <th></th>\n",
       "      <th></th>\n",
       "      <th></th>\n",
       "      <th></th>\n",
       "    </tr>\n",
       "  </thead>\n",
       "  <tbody>\n",
       "    <tr>\n",
       "      <th>2019-12-05</th>\n",
       "      <td>nan</td>\n",
       "      <td>nan</td>\n",
       "      <td>nan</td>\n",
       "      <td>nan</td>\n",
       "    </tr>\n",
       "    <tr>\n",
       "      <th>2019-12-05</th>\n",
       "      <td>nan</td>\n",
       "      <td>nan</td>\n",
       "      <td>nan</td>\n",
       "      <td>nan</td>\n",
       "    </tr>\n",
       "    <tr>\n",
       "      <th>2019-12-06</th>\n",
       "      <td>nan</td>\n",
       "      <td>nan</td>\n",
       "      <td>nan</td>\n",
       "      <td>nan</td>\n",
       "    </tr>\n",
       "    <tr>\n",
       "      <th>2019-12-06</th>\n",
       "      <td>nan</td>\n",
       "      <td>nan</td>\n",
       "      <td>nan</td>\n",
       "      <td>nan</td>\n",
       "    </tr>\n",
       "  </tbody>\n",
       "</table>\n",
       "</div>"
      ],
      "text/plain": [
       "                       Shipping             Payments               Review  \\\n",
       "Fecha                                                                       \n",
       "2019-12-05                  nan                  nan                  nan   \n",
       "2019-12-05                  nan                  nan                  nan   \n",
       "2019-12-06                  nan                  nan                  nan   \n",
       "2019-12-06                  nan                  nan                  nan   \n",
       "\n",
       "                       Congrats  \n",
       "Fecha                            \n",
       "2019-12-05                  nan  \n",
       "2019-12-05                  nan  \n",
       "2019-12-06                  nan  \n",
       "2019-12-06                  nan  "
      ]
     },
     "execution_count": 11,
     "metadata": {},
     "output_type": "execute_result"
    }
   ],
   "source": [
    "#verificamos\n",
    "traffic_data['2019-12-05':'2019-12-06'][cols_etapas]"
   ]
  },
  {
   "cell_type": "markdown",
   "metadata": {},
   "source": [
    "####  ***4- VALORES PERDIDOS***"
   ]
  },
  {
   "cell_type": "markdown",
   "metadata": {},
   "source": [
    "Otra instancia en la limpieza y el preprocesamiento de datos cuando se trabaja con series de tiempo implica identificar si la serie saltea una o más fechas. "
   ]
  },
  {
   "cell_type": "code",
   "execution_count": 12,
   "metadata": {},
   "outputs": [
    {
     "name": "stdout",
     "output_type": "stream",
     "text": [
      "El periodo de tiempo analizado es de 488 días.\n",
      "En Android tenemos: 488 y en Desktop: 488 por lo que concluímos que los datasets de ambos devices estan completos.\n"
     ]
    }
   ],
   "source": [
    "traffic_data_android = traffic_data[traffic_data.Device==(\"Android\")]\n",
    "traffic_data_desktop = traffic_data[traffic_data.Device==(\"Desktop\")]\n",
    "\n",
    "traffic_data_len = traffic_data.index.nunique()\n",
    "print(\"El periodo de tiempo analizado es de\",  traffic_data_len , \"días.\")\n",
    "\n",
    "traffic_data_len_android = len(traffic_data_android.index)\n",
    "traffic_data_len_desktop = len(traffic_data_android.index)\n",
    "\n",
    "print(\"En Android tenemos:\", traffic_data_len_android,\"y en Desktop:\", traffic_data_len_desktop, \"por lo que concluímos que los datasets de ambos devices estan completos.\")"
   ]
  },
  {
   "cell_type": "markdown",
   "metadata": {},
   "source": [
    "### ***5- DATOS SOSPECHOSOS***"
   ]
  },
  {
   "cell_type": "markdown",
   "metadata": {},
   "source": [
    "Habiendo ya identificado los valores problemáticos más evidentes, analizaremos las series de datos para identificar valores sospechosos, ya con conocimiento de dominio.\n",
    "En primer lugar se verá si existen fechas en las cuales la lógica de funnel no se cumple, es decir, que en una etapa posterior del proceso de compra se cuenta con más transacciones que en una etapa anterior. Para ello se calculan las tasas de conversión entre las etapas y se verifica si hay alguna superior a uno."
   ]
  },
  {
   "cell_type": "code",
   "execution_count": 14,
   "metadata": {},
   "outputs": [],
   "source": [
    "#agregamos columnas relativas a las tasas de conversión entre las diferentes etapas de compra\n",
    "\n",
    "df_traffic=traffic_data.copy()\n",
    "df_traffic[\"Shipping-Payments\"] = df_traffic[\"Payments\"] / df_traffic[\"Shipping\"]\n",
    "df_traffic[\"Payments-Review\"] = df_traffic[\"Review\"] / df_traffic[\"Payments\"]\n",
    "df_traffic[\"Review-Congrats\"] = df_traffic[\"Congrats\"] / df_traffic[\"Review\"]\n",
    "df_traffic[\"Shipping-Congrats\"] = df_traffic[\"Congrats\"] / df_traffic[\"Shipping\"]\n",
    "\n",
    "#agrupamos las columnas de índices para evaluar su comportamiento por separado de las etapas\n",
    "cols_indices = ['Shipping-Payments', 'Payments-Review', 'Review-Congrats', 'Shipping-Congrats']\n",
    "\n",
    "#agregamos columnas relativas a las fechas ya que nos interesa el comportamiento temporal\n",
    "df_traffic[\"Weekday\"] = df_traffic.index.day_name()\n",
    "df_traffic[\"Month\"] = df_traffic.index.month_name()\n",
    "df_traffic[\"Year\"] = df_traffic.index.year\n",
    "new = df_traffic[\"Month\"].copy().astype(str)\n",
    "new1 = df_traffic[\"Year\"].copy().astype(str)\n",
    "df_traffic[\"Months\"]= new.str.cat(new1, sep =\"-\")\n",
    "\n"
   ]
  },
  {
   "cell_type": "code",
   "execution_count": 15,
   "metadata": {
    "id": "33s2aH6hhs_w",
    "outputId": "c3239ba0-56be-40f7-8824-aa2b8e7886c3"
   },
   "outputs": [
    {
     "data": {
      "text/html": [
       "<div>\n",
       "<style scoped>\n",
       "    .dataframe tbody tr th:only-of-type {\n",
       "        vertical-align: middle;\n",
       "    }\n",
       "\n",
       "    .dataframe tbody tr th {\n",
       "        vertical-align: top;\n",
       "    }\n",
       "\n",
       "    .dataframe thead th {\n",
       "        text-align: right;\n",
       "    }\n",
       "</style>\n",
       "<table border=\"1\" class=\"dataframe\">\n",
       "  <thead>\n",
       "    <tr style=\"text-align: right;\">\n",
       "      <th></th>\n",
       "      <th>flow</th>\n",
       "      <th>Site</th>\n",
       "      <th>Device</th>\n",
       "      <th>Loading</th>\n",
       "      <th>Shipping</th>\n",
       "      <th>Payments</th>\n",
       "      <th>Review</th>\n",
       "      <th>Congrats</th>\n",
       "      <th>Shipping-Payments</th>\n",
       "      <th>Payments-Review</th>\n",
       "      <th>Review-Congrats</th>\n",
       "      <th>Shipping-Congrats</th>\n",
       "      <th>Weekday</th>\n",
       "      <th>Month</th>\n",
       "      <th>Year</th>\n",
       "      <th>Months</th>\n",
       "    </tr>\n",
       "    <tr>\n",
       "      <th>Fecha</th>\n",
       "      <th></th>\n",
       "      <th></th>\n",
       "      <th></th>\n",
       "      <th></th>\n",
       "      <th></th>\n",
       "      <th></th>\n",
       "      <th></th>\n",
       "      <th></th>\n",
       "      <th></th>\n",
       "      <th></th>\n",
       "      <th></th>\n",
       "      <th></th>\n",
       "      <th></th>\n",
       "      <th></th>\n",
       "      <th></th>\n",
       "      <th></th>\n",
       "    </tr>\n",
       "  </thead>\n",
       "  <tbody>\n",
       "  </tbody>\n",
       "</table>\n",
       "</div>"
      ],
      "text/plain": [
       "Empty DataFrame\n",
       "Columns: [flow, Site, Device, Loading, Shipping, Payments, Review, Congrats, Shipping-Payments, Payments-Review, Review-Congrats, Shipping-Congrats, Weekday, Month, Year, Months]\n",
       "Index: []"
      ]
     },
     "execution_count": 15,
     "metadata": {},
     "output_type": "execute_result"
    }
   ],
   "source": [
    "#Buscamos en el dataset observaciones que no cumplan con la lógica del funnel, que presenten en una etapa previa menos\n",
    "#observaciones que en una posterior\n",
    "columns = df_traffic.columns.tolist()\n",
    "columns\n",
    "df_traffic_sospechoso = df_traffic[(df_traffic[cols_indices].iloc[:,:] > 1).any(axis=1)]\n",
    "df_traffic_sospechoso"
   ]
  },
  {
   "cell_type": "markdown",
   "metadata": {},
   "source": [
    "Como se puede observar en la última celda, no se identificaron casos en los cuales una tasa de conversión fuera superior a uno. Es por ello que procederemos a analizar si existen outliers en el dataset que deban ser tratados."
   ]
  },
  {
   "cell_type": "code",
   "execution_count": 16,
   "metadata": {},
   "outputs": [
    {
     "data": {
      "text/html": [
       "<div>\n",
       "<style scoped>\n",
       "    .dataframe tbody tr th:only-of-type {\n",
       "        vertical-align: middle;\n",
       "    }\n",
       "\n",
       "    .dataframe tbody tr th {\n",
       "        vertical-align: top;\n",
       "    }\n",
       "\n",
       "    .dataframe thead th {\n",
       "        text-align: right;\n",
       "    }\n",
       "</style>\n",
       "<table border=\"1\" class=\"dataframe\">\n",
       "  <thead>\n",
       "    <tr style=\"text-align: right;\">\n",
       "      <th></th>\n",
       "      <th>Shipping</th>\n",
       "      <th>Payments</th>\n",
       "      <th>Review</th>\n",
       "      <th>Congrats</th>\n",
       "    </tr>\n",
       "  </thead>\n",
       "  <tbody>\n",
       "    <tr>\n",
       "      <th>count</th>\n",
       "      <td>971.00</td>\n",
       "      <td>972.00</td>\n",
       "      <td>970.00</td>\n",
       "      <td>972.00</td>\n",
       "    </tr>\n",
       "    <tr>\n",
       "      <th>mean</th>\n",
       "      <td>181,541.90</td>\n",
       "      <td>148,428.32</td>\n",
       "      <td>103,622.26</td>\n",
       "      <td>97,196.05</td>\n",
       "    </tr>\n",
       "    <tr>\n",
       "      <th>std</th>\n",
       "      <td>102,431.53</td>\n",
       "      <td>82,304.53</td>\n",
       "      <td>54,368.80</td>\n",
       "      <td>49,451.14</td>\n",
       "    </tr>\n",
       "    <tr>\n",
       "      <th>min</th>\n",
       "      <td>28,722.00</td>\n",
       "      <td>3,823.00</td>\n",
       "      <td>2,597.00</td>\n",
       "      <td>2,538.00</td>\n",
       "    </tr>\n",
       "    <tr>\n",
       "      <th>25%</th>\n",
       "      <td>114,433.00</td>\n",
       "      <td>96,055.25</td>\n",
       "      <td>71,472.25</td>\n",
       "      <td>68,528.50</td>\n",
       "    </tr>\n",
       "    <tr>\n",
       "      <th>50%</th>\n",
       "      <td>162,331.00</td>\n",
       "      <td>130,287.50</td>\n",
       "      <td>90,169.50</td>\n",
       "      <td>85,017.00</td>\n",
       "    </tr>\n",
       "    <tr>\n",
       "      <th>75%</th>\n",
       "      <td>234,561.00</td>\n",
       "      <td>189,188.00</td>\n",
       "      <td>133,115.75</td>\n",
       "      <td>124,910.25</td>\n",
       "    </tr>\n",
       "    <tr>\n",
       "      <th>max</th>\n",
       "      <td>537,723.00</td>\n",
       "      <td>444,330.00</td>\n",
       "      <td>286,162.00</td>\n",
       "      <td>264,742.00</td>\n",
       "    </tr>\n",
       "  </tbody>\n",
       "</table>\n",
       "</div>"
      ],
      "text/plain": [
       "                  Shipping             Payments               Review  \\\n",
       "count               971.00               972.00               970.00   \n",
       "mean            181,541.90           148,428.32           103,622.26   \n",
       "std             102,431.53            82,304.53            54,368.80   \n",
       "min              28,722.00             3,823.00             2,597.00   \n",
       "25%             114,433.00            96,055.25            71,472.25   \n",
       "50%             162,331.00           130,287.50            90,169.50   \n",
       "75%             234,561.00           189,188.00           133,115.75   \n",
       "max             537,723.00           444,330.00           286,162.00   \n",
       "\n",
       "                  Congrats  \n",
       "count               972.00  \n",
       "mean             97,196.05  \n",
       "std              49,451.14  \n",
       "min               2,538.00  \n",
       "25%              68,528.50  \n",
       "50%              85,017.00  \n",
       "75%             124,910.25  \n",
       "max             264,742.00  "
      ]
     },
     "execution_count": 16,
     "metadata": {},
     "output_type": "execute_result"
    }
   ],
   "source": [
    "df_traffic[cols_etapas].describe()"
   ]
  },
  {
   "cell_type": "markdown",
   "metadata": {},
   "source": [
    "Llaman la atención los valores mínimos de las etapas Payments, Review y Congrats, ya que son sustancialmente inferiores a los valores normales para estas transacciones. A continuación ubicamos los mismos temporalmente."
   ]
  },
  {
   "cell_type": "code",
   "execution_count": 17,
   "metadata": {
    "scrolled": true
   },
   "outputs": [
    {
     "data": {
      "text/html": [
       "<div>\n",
       "<style scoped>\n",
       "    .dataframe tbody tr th:only-of-type {\n",
       "        vertical-align: middle;\n",
       "    }\n",
       "\n",
       "    .dataframe tbody tr th {\n",
       "        vertical-align: top;\n",
       "    }\n",
       "\n",
       "    .dataframe thead th {\n",
       "        text-align: right;\n",
       "    }\n",
       "</style>\n",
       "<table border=\"1\" class=\"dataframe\">\n",
       "  <thead>\n",
       "    <tr style=\"text-align: right;\">\n",
       "      <th></th>\n",
       "      <th>flow</th>\n",
       "      <th>Site</th>\n",
       "      <th>Device</th>\n",
       "      <th>Loading</th>\n",
       "      <th>Shipping</th>\n",
       "      <th>Payments</th>\n",
       "      <th>Review</th>\n",
       "      <th>Congrats</th>\n",
       "    </tr>\n",
       "    <tr>\n",
       "      <th>Fecha</th>\n",
       "      <th></th>\n",
       "      <th></th>\n",
       "      <th></th>\n",
       "      <th></th>\n",
       "      <th></th>\n",
       "      <th></th>\n",
       "      <th></th>\n",
       "      <th></th>\n",
       "    </tr>\n",
       "  </thead>\n",
       "  <tbody>\n",
       "    <tr>\n",
       "      <th>2019-12-04</th>\n",
       "      <td>direct</td>\n",
       "      <td>MLA</td>\n",
       "      <td>Desktop</td>\n",
       "      <td>146,932.00</td>\n",
       "      <td>138,124.00</td>\n",
       "      <td>3,823.00</td>\n",
       "      <td>2,597.00</td>\n",
       "      <td>2,538.00</td>\n",
       "    </tr>\n",
       "  </tbody>\n",
       "</table>\n",
       "</div>"
      ],
      "text/plain": [
       "              flow Site   Device              Loading             Shipping  \\\n",
       "Fecha                                                                        \n",
       "2019-12-04  direct  MLA  Desktop           146,932.00           138,124.00   \n",
       "\n",
       "                       Payments               Review             Congrats  \n",
       "Fecha                                                                      \n",
       "2019-12-04             3,823.00             2,597.00             2,538.00  "
      ]
     },
     "execution_count": 17,
     "metadata": {},
     "output_type": "execute_result"
    }
   ],
   "source": [
    "traffic_data[(traffic_data['Payments']<3900)|(traffic_data['Review']<2600)|(traffic_data['Congrats']<2600)]"
   ]
  },
  {
   "cell_type": "markdown",
   "metadata": {},
   "source": [
    "Todos estos valores atípicos se dieron el 4 de Diciembre de 2019, un día antes de que el dataset presentara datos nulos en todas sus etapas durante dos días. En el siguiente boxplot puede verse que los mismos son outliers y, por consiguiente, se procederá a reemplazarlos por valores nulos para su posterior imputación."
   ]
  },
  {
   "cell_type": "code",
   "execution_count": 18,
   "metadata": {},
   "outputs": [
    {
     "data": {
      "text/plain": [
       "Text(0.5, 1.0, 'Etapas')"
      ]
     },
     "execution_count": 18,
     "metadata": {},
     "output_type": "execute_result"
    },
    {
     "data": {
      "image/png": "[encoded data removed]",
      "text/plain": [
       "<Figure size 1080x360 with 1 Axes>"
      ]
     },
     "metadata": {
      "needs_background": "light"
     },
     "output_type": "display_data"
    }
   ],
   "source": [
    "#Verificamos con un boxenplot que dichos mínimos son outliers\n",
    "plt.rcParams['figure.figsize'] = (15, 5)\n",
    "sns.boxenplot(data=traffic_data[cols_etapas], orient = \"h\", palette='hls')\n",
    "plt.title('Etapas', size=15)"
   ]
  },
  {
   "cell_type": "code",
   "execution_count": 19,
   "metadata": {},
   "outputs": [],
   "source": [
    "#Reemplazamos los valores minimos por NaNs\n",
    "df_traffic = df_traffic.replace([3823, 2597, 2538], np.nan)"
   ]
  },
  {
   "cell_type": "code",
   "execution_count": 25,
   "metadata": {},
   "outputs": [
    {
     "data": {
      "text/html": [
       "<div>\n",
       "<style scoped>\n",
       "    .dataframe tbody tr th:only-of-type {\n",
       "        vertical-align: middle;\n",
       "    }\n",
       "\n",
       "    .dataframe tbody tr th {\n",
       "        vertical-align: top;\n",
       "    }\n",
       "\n",
       "    .dataframe thead th {\n",
       "        text-align: right;\n",
       "    }\n",
       "</style>\n",
       "<table border=\"1\" class=\"dataframe\">\n",
       "  <thead>\n",
       "    <tr style=\"text-align: right;\">\n",
       "      <th></th>\n",
       "      <th>Shipping</th>\n",
       "      <th>Payments</th>\n",
       "      <th>Review</th>\n",
       "      <th>Congrats</th>\n",
       "    </tr>\n",
       "    <tr>\n",
       "      <th>Fecha</th>\n",
       "      <th></th>\n",
       "      <th></th>\n",
       "      <th></th>\n",
       "      <th></th>\n",
       "    </tr>\n",
       "  </thead>\n",
       "  <tbody>\n",
       "    <tr>\n",
       "      <th>2019-12-04</th>\n",
       "      <td>316,308.00</td>\n",
       "      <td>254,268.00</td>\n",
       "      <td>167,259.00</td>\n",
       "      <td>152,173.00</td>\n",
       "    </tr>\n",
       "    <tr>\n",
       "      <th>2019-12-04</th>\n",
       "      <td>138,124.00</td>\n",
       "      <td>nan</td>\n",
       "      <td>nan</td>\n",
       "      <td>nan</td>\n",
       "    </tr>\n",
       "  </tbody>\n",
       "</table>\n",
       "</div>"
      ],
      "text/plain": [
       "                       Shipping             Payments               Review  \\\n",
       "Fecha                                                                       \n",
       "2019-12-04           316,308.00           254,268.00           167,259.00   \n",
       "2019-12-04           138,124.00                  nan                  nan   \n",
       "\n",
       "                       Congrats  \n",
       "Fecha                            \n",
       "2019-12-04           152,173.00  \n",
       "2019-12-04                  nan  "
      ]
     },
     "execution_count": 25,
     "metadata": {},
     "output_type": "execute_result"
    }
   ],
   "source": [
    "#verificamos\n",
    "df_traffic['2019-12-04':'2019-12-04'][cols_etapas]"
   ]
  },
  {
   "cell_type": "markdown",
   "metadata": {
    "id": "ayH59fMmhs_8"
   },
   "source": [
    "### ***6- IMPUTACIÓN DE VALORES FALTANTES/NULOS/ATÍPICOS***"
   ]
  },
  {
   "cell_type": "markdown",
   "metadata": {},
   "source": [
    "Previo a la imputación corroboramos la teoría del comportamiento de compra en función al día de la semana. \n",
    "Para eso, analizamos por separado cada device durante 10 semanas.\n"
   ]
  },
  {
   "cell_type": "code",
   "execution_count": 26,
   "metadata": {},
   "outputs": [],
   "source": [
    "# volvemos a definir los dos datasets de interes con las nuevas columnas\n",
    "df_traffic_desktop = df_traffic[df_traffic.Device==(\"Desktop\")]\n",
    "df_traffic_android = df_traffic[df_traffic.Device==(\"Android\")]"
   ]
  },
  {
   "cell_type": "code",
   "execution_count": 86,
   "metadata": {},
   "outputs": [
    {
     "data": {
      "text/plain": [
       "<matplotlib.legend.Legend at 0x2009ba694c0>"
      ]
     },
     "execution_count": 86,
     "metadata": {},
     "output_type": "execute_result"
    },
    {
     "data": {
      "image/png": "[encoded data removed]",
      "text/plain": [
       "<Figure size 1080x360 with 1 Axes>"
      ]
     },
     "metadata": {
      "needs_background": "light"
     },
     "output_type": "display_data"
    }
   ],
   "source": [
    "plt.plot(df_traffic_android['2019-08-24':'2019-11-03'][\"Congrats\"], marker='.', alpha=0.5, linestyle='dashed', label='Android')\n",
    "plt.plot(df_traffic_desktop['2019-08-24':'2019-11-03'][\"Congrats\"], marker='*', alpha=0.5, linestyle='solid', label='Desktop')\n",
    "\n",
    "plt.ylabel('Congrats')\n",
    "plt.legend()"
   ]
  },
  {
   "cell_type": "code",
   "execution_count": 84,
   "metadata": {},
   "outputs": [
    {
     "data": {
      "text/plain": [
       "<matplotlib.legend.Legend at 0x2009bd216d0>"
      ]
     },
     "execution_count": 84,
     "metadata": {},
     "output_type": "execute_result"
    },
    {
     "data": {
      "image/png": "[encoded data removed]",
      "text/plain": [
       "<Figure size 1080x360 with 1 Axes>"
      ]
     },
     "metadata": {
      "needs_background": "light"
     },
     "output_type": "display_data"
    }
   ],
   "source": [
    "day_order = [\"Monday\", \"Tuesday\", \"Wednesday\", \"Thursday\", \"Friday\", \"Saturday\", \"Sunday\"]\n",
    "plt.plot(df_traffic_android.groupby([\"Weekday\"])[\"Congrats\"].median().reindex(day_order),  marker='.', alpha=0.5, linestyle='dashed', label='Android')\n",
    "plt.plot(df_traffic_desktop.groupby([\"Weekday\"])[\"Congrats\"].median().reindex(day_order), marker='*', alpha=0.5, linestyle='solid', label='Desktop')\n",
    "\n",
    "plt.ylabel('Congrats')\n",
    "plt.legend()\n"
   ]
  },
  {
   "cell_type": "markdown",
   "metadata": {
    "id": "4YH8lANPhs_8"
   },
   "source": [
    "Para poder trabajar con las series, se procederá a imputar tanto los datos faltantes como los nulos de las etapas de compra en cada device por separado. Para ello, se trabajará con la mediana del mes anterior a la fecha en la que se dan los valores faltantes y nulos, considerando el día semanal a imputar dado que el comportamiento de los usuarios tiene variación según el día de la semana que se trate. "
   ]
  },
  {
   "cell_type": "code",
   "execution_count": null,
   "metadata": {},
   "outputs": [],
   "source": [
    "df_traffic[cols_etapas].isnull().groupby(df_traffic.Device).sum()"
   ]
  },
  {
   "cell_type": "markdown",
   "metadata": {},
   "source": [
    "#### ***Imputación en Android***"
   ]
  },
  {
   "cell_type": "code",
   "execution_count": null,
   "metadata": {},
   "outputs": [],
   "source": [
    "#Identificamos los valores que hay que imputar de la columna \"Review\"\n",
    "df_traffic_android[df_traffic_android['Review'].isnull()]"
   ]
  },
  {
   "cell_type": "markdown",
   "metadata": {},
   "source": [
    "Imputación del 22/03/2019"
   ]
  },
  {
   "cell_type": "code",
   "execution_count": null,
   "metadata": {
    "scrolled": false
   },
   "outputs": [],
   "source": [
    "#Para realizar la imputación del 22/03/2019, calculamos la mediana de los viernes del mes anterior\n",
    "df_traffic_android.loc['2019-02-21':'2019-03-21'].groupby('Weekday').median()\n"
   ]
  },
  {
   "cell_type": "code",
   "execution_count": null,
   "metadata": {
    "scrolled": true
   },
   "outputs": [],
   "source": [
    "#Para imputar el valor de Review faltante, multiplicamos el valor de la etapa anterior (\"Payments\") del 22-03-2019 por el valor de la mediana del ìndice PAYMENTS-REVIEW de los viernes del mes anterior.\n",
    "df_traffic.loc['2019-03-22', 'Review'].replace(np.nan, 138177*0.71, inplace=True)"
   ]
  },
  {
   "cell_type": "code",
   "execution_count": null,
   "metadata": {
    "scrolled": true
   },
   "outputs": [],
   "source": [
    "#Verificamos la imputación del valor\n",
    "df_traffic['2019-03-22':'2019-03-22']"
   ]
  },
  {
   "cell_type": "markdown",
   "metadata": {},
   "source": [
    "Imputación del 27/08/2019"
   ]
  },
  {
   "cell_type": "code",
   "execution_count": null,
   "metadata": {},
   "outputs": [],
   "source": [
    "#Para realizar la imputación del 27/07/2019, calculamos la mediana de los jueves del mes anterior\n",
    "df_traffic_android.loc['2019-07-26':'2019-08-26'].groupby('Weekday').median()"
   ]
  },
  {
   "cell_type": "code",
   "execution_count": null,
   "metadata": {},
   "outputs": [],
   "source": [
    "#Para imputar el valor de Review faltante, multiplicamos el valor de la etapa anterior (\"Payments\") del 27/08/2019 por el valor de la mediana del ìndice PAYMENTS-REVIEW de los jueves del mes anterior.\n",
    "df_traffic.loc['2019-08-27', 'Review'].replace(np.nan, 180928*0.67, inplace=True)"
   ]
  },
  {
   "cell_type": "code",
   "execution_count": null,
   "metadata": {},
   "outputs": [],
   "source": [
    "#Verificamos la imputación del valor\n",
    "\n",
    "df_traffic['2019-08-27':'2019-08-27']"
   ]
  },
  {
   "cell_type": "markdown",
   "metadata": {},
   "source": [
    "Imputación del 07/05/2019"
   ]
  },
  {
   "cell_type": "code",
   "execution_count": null,
   "metadata": {
    "scrolled": true
   },
   "outputs": [],
   "source": [
    "#Identificamos los valores que hay que imputar de la columna \"Shipping\"\n",
    "\n",
    "df_traffic_android[df_traffic_android['Shipping'].isnull()]"
   ]
  },
  {
   "cell_type": "code",
   "execution_count": null,
   "metadata": {
    "scrolled": false
   },
   "outputs": [],
   "source": [
    "#Para realizar la imputación del 07/05/2019, calculamos la mediana de los martes del mes anterior\n",
    "df_traffic_android.loc['2019-04-06':'2019-05-06'].groupby('Weekday').median()"
   ]
  },
  {
   "cell_type": "code",
   "execution_count": null,
   "metadata": {
    "scrolled": false
   },
   "outputs": [],
   "source": [
    "#Para imputar el valor de Shipping faltante, dividimos el valor de la etapa posterior (\"Payments\") del  07/05/2019 por el valor de la mediana del ìndice SHIPPING-PAYMENTS de los Martes del mes anterior.\n",
    "\n",
    "df_traffic.loc['2019-05-07', 'Shipping'].replace(np.nan, 172472//0.81, inplace=True) "
   ]
  },
  {
   "cell_type": "code",
   "execution_count": null,
   "metadata": {
    "scrolled": true
   },
   "outputs": [],
   "source": [
    "#Verificamos la imputación del valor\n",
    "\n",
    "df_traffic.loc[df_traffic.index=='2019-05-07']"
   ]
  },
  {
   "cell_type": "markdown",
   "metadata": {},
   "source": [
    "#### ***IMPUTACIÓN PRIMERA SEMANA DICIEMBRE 2019***\n",
    "#### ***Imputación en Android***"
   ]
  },
  {
   "cell_type": "code",
   "execution_count": null,
   "metadata": {
    "scrolled": true
   },
   "outputs": [],
   "source": [
    "#Identificamos los valores que hay que imputar de la columna \"Review\"\n",
    "\n",
    "df_traffic[df_traffic['Review'].isnull()]"
   ]
  },
  {
   "cell_type": "code",
   "execution_count": null,
   "metadata": {},
   "outputs": [],
   "source": [
    "#Analizamos en el data set de Android la mediana del mes anterior a la semana del 5 y 6 de Diciembre según el día semanal\n",
    "df_traffic_android.loc['2019-11-01':'2019-12-03'].groupby('Weekday').median()"
   ]
  },
  {
   "cell_type": "code",
   "execution_count": null,
   "metadata": {},
   "outputs": [],
   "source": [
    "#Imputamos de manera directa cada valor faltante por la mediana particular en función de los valores correspondientes al día Jueves \n",
    "df_traffic.loc[(df_traffic['Device']==\"Android\") & (df_traffic.index=='2019-12-05'), 'Loading'] = 252376\n",
    "\n",
    "df_traffic.loc[(df_traffic['Device']==\"Android\") & (df_traffic.index=='2019-12-05'), 'Shipping'] = 242040\n",
    "\n",
    "df_traffic.loc[(df_traffic['Device']==\"Android\") & (df_traffic.index=='2019-12-05'), 'Payments'] = 194563\n",
    "\n",
    "df_traffic.loc[(df_traffic['Device']==\"Android\") & (df_traffic.index=='2019-12-05'), 'Review'] = 129871\n",
    "\n",
    "df_traffic.loc[(df_traffic['Device']==\"Android\") & (df_traffic.index=='2019-12-05'), 'Congrats'] = 118687"
   ]
  },
  {
   "cell_type": "code",
   "execution_count": null,
   "metadata": {},
   "outputs": [],
   "source": [
    "#Imputamos de manera directa cada valor faltante por la mediana particular en función de los valores correspondientes al día Viernes \n",
    "\n",
    "df_traffic.loc[(df_traffic['Device']==\"Android\") & (df_traffic.index=='2019-12-06'), 'Loading'] = 226481\n",
    "\n",
    "df_traffic.loc[(df_traffic['Device']==\"Android\") & (df_traffic.index=='2019-12-06'), 'Shipping'] =216858\n",
    "\n",
    "df_traffic.loc[(df_traffic['Device']==\"Android\") & (df_traffic.index=='2019-12-06'), 'Payments'] = 177255\n",
    "\n",
    "df_traffic.loc[(df_traffic['Device']==\"Android\") & (df_traffic.index=='2019-12-06'), 'Review'] = 124110\n",
    "\n",
    "df_traffic.loc[(df_traffic['Device']==\"Android\") & (df_traffic.index=='2019-12-06'), 'Congrats'] = 114309"
   ]
  },
  {
   "cell_type": "markdown",
   "metadata": {},
   "source": [
    "#### ***Imputación en Desktop***"
   ]
  },
  {
   "cell_type": "code",
   "execution_count": null,
   "metadata": {
    "scrolled": true
   },
   "outputs": [],
   "source": [
    "#Analizamos en el data set de Desktop la mediana del mes anterior a la semana del 4, 5 y 6 de Diciembre según el día semanal\n",
    "df_traffic_desktop.loc['2019-11-01':'2019-12-03'].groupby('Weekday').median()"
   ]
  },
  {
   "cell_type": "code",
   "execution_count": null,
   "metadata": {},
   "outputs": [],
   "source": [
    "#Para imputar el valor de cada etapa faltante, multiplicamos el valor de la etapa anterior del 04/12/2019 por el valor de la mediana del ìndice correspondiente a los miércoles del mes anterior.\n",
    "\n",
    "df_traffic.loc['2019-12-04', 'Payments'].replace(np.nan, 138124*0.85, inplace=True)\n",
    "df_traffic.loc['2019-12-04', 'Review'].replace(np.nan, 138124*0.85*0.78, inplace=True)\n",
    "df_traffic.loc['2019-12-04', 'Congrats'].replace(np.nan, 138124*0.85*0.78*0.98, inplace=True)"
   ]
  },
  {
   "cell_type": "code",
   "execution_count": null,
   "metadata": {
    "scrolled": true
   },
   "outputs": [],
   "source": [
    "df_traffic_desktop.loc['2019-11-01':'2019-12-03'].groupby('Weekday').median()"
   ]
  },
  {
   "cell_type": "code",
   "execution_count": null,
   "metadata": {},
   "outputs": [],
   "source": [
    "df_traffic.loc[(df_traffic['Device']==\"Desktop\") & (df_traffic.index=='2019-12-05'), 'Loading'] = 117014\n",
    "\n",
    "df_traffic.loc[(df_traffic['Device']==\"Desktop\") & (df_traffic.index=='2019-12-05'), 'Shipping'] = 110404\n",
    "\n",
    "df_traffic.loc[(df_traffic['Device']==\"Desktop\") & (df_traffic.index=='2019-12-05'), 'Payments'] = 93722\n",
    "\n",
    "df_traffic.loc[(df_traffic['Device']==\"Desktop\") & (df_traffic.index=='2019-12-05'), 'Review'] = 72371\n",
    "\n",
    "df_traffic.loc[(df_traffic['Device']==\"Desktop\") & (df_traffic.index=='2019-12-05'), 'Congrats'] = 69970\n"
   ]
  },
  {
   "cell_type": "code",
   "execution_count": null,
   "metadata": {},
   "outputs": [],
   "source": [
    "df_traffic.loc[(df_traffic['Device']==\"Desktop\") & (df_traffic.index=='2019-12-06'), 'Loading'] = 108649\n",
    "\n",
    "df_traffic.loc[(df_traffic['Device']==\"Desktop\") & (df_traffic.index=='2019-12-06'), 'Shipping'] = 101930\n",
    "\n",
    "df_traffic.loc[(df_traffic['Device']==\"Desktop\") & (df_traffic.index=='2019-12-06'), 'Payments'] = 86767\n",
    "\n",
    "df_traffic.loc[(df_traffic['Device']==\"Desktop\") & (df_traffic.index=='2019-12-06'), 'Review'] = 67833\n",
    "\n",
    "df_traffic.loc[(df_traffic['Device']==\"Desktop\") & (df_traffic.index=='2019-12-06'), 'Congrats'] = 66191"
   ]
  },
  {
   "cell_type": "code",
   "execution_count": null,
   "metadata": {},
   "outputs": [],
   "source": [
    "df_traffic.loc['2019-12-05':'2019-12-06']"
   ]
  },
  {
   "cell_type": "markdown",
   "metadata": {},
   "source": [
    "### ***Chequeo de valores nulos***"
   ]
  },
  {
   "cell_type": "code",
   "execution_count": null,
   "metadata": {},
   "outputs": [],
   "source": [
    "#localizamos los datos faltantes en el dataset original\n",
    "df_traffic[df_traffic['Shipping'].isnull()|df_traffic['Review'].isnull()]"
   ]
  },
  {
   "cell_type": "markdown",
   "metadata": {},
   "source": [
    "Podemos observar que ya no quedaron valores nulos en el dataset. "
   ]
  },
  {
   "cell_type": "markdown",
   "metadata": {},
   "source": [
    "### ***7- RECÁLCULO DE LOS ÍNDICES***"
   ]
  },
  {
   "cell_type": "code",
   "execution_count": null,
   "metadata": {},
   "outputs": [],
   "source": [
    "#Recalculamos las columnas de indice\n",
    "df_traffic[\"Shipping-Payments\"] = df_traffic[\"Payments\"] / df_traffic[\"Shipping\"]\n",
    "df_traffic[\"Payments-Review\"] = df_traffic[\"Review\"] / df_traffic[\"Payments\"]\n",
    "df_traffic[\"Review-Congrats\"] = df_traffic[\"Congrats\"] / df_traffic[\"Review\"]\n",
    "df_traffic[\"Shipping-Congrats\"] = df_traffic[\"Congrats\"] / df_traffic[\"Shipping\"]\n",
    "\n",
    "#agrupamos las columnas de índices para evaluar su comportamiento por separado de las etapas\n",
    "cols_indices = ['Shipping-Payments', 'Payments-Review', 'Review-Congrats', 'Shipping-Congrats']\n",
    "\n",
    "# volvemos a definir los dos datasets de interes con las nuevas columnas\n",
    "df_traffic_desktop = df_traffic[df_traffic.Device==(\"Desktop\")]\n",
    "df_traffic_android = df_traffic[df_traffic.Device==(\"Android\")]"
   ]
  },
  {
   "cell_type": "code",
   "execution_count": null,
   "metadata": {},
   "outputs": [],
   "source": [
    "#Buscamos en el dataset observaciones que no cumplan con la lógica del funnel, que presenten en una etapa previa menos\n",
    "#observaciones que en una posterior para verificar si la imputación resultó lógica\n",
    "columns = df_traffic.columns.tolist()\n",
    "columns\n",
    "df_traffic_sospechoso = df_traffic[(df_traffic[cols_indices].iloc[:,:] > 1).any(axis=1)]\n",
    "df_traffic_sospechoso"
   ]
  },
  {
   "cell_type": "markdown",
   "metadata": {},
   "source": [
    "Luego de la imputación no hay valores sospechosos que rompan la lógica del dropout entre etapas."
   ]
  },
  {
   "cell_type": "code",
   "execution_count": null,
   "metadata": {
    "id": "g6NG3qifhs__",
    "scrolled": false
   },
   "outputs": [],
   "source": [
    "#Analizamos con un boxenplot para identificar en caso de haber imputado outliers\n",
    "plt.rcParams['figure.figsize'] = (15, 5)\n",
    "sns.boxenplot(data=df_traffic[cols_etapas], orient = \"h\", palette='hls')\n",
    "plt.title('Etapas', size=15)"
   ]
  },
  {
   "cell_type": "markdown",
   "metadata": {},
   "source": [
    "Vemos que los outliers detectados anteriormente han desaparecido y no se generaron nuevos valores outliers."
   ]
  },
  {
   "cell_type": "markdown",
   "metadata": {},
   "source": [
    "### ***7- TRANSFORMACIÓN LOGARÍTMICA***"
   ]
  },
  {
   "cell_type": "code",
   "execution_count": null,
   "metadata": {},
   "outputs": [],
   "source": [
    "#Agregamos una columna donde guardamos los valores transformados logarítmicamente\n",
    "cols_etapas_log=['Shipping(log)',\n",
    " 'Payments(log)',\n",
    " 'Review(log)',\n",
    " 'Congrats(log)']"
   ]
  },
  {
   "cell_type": "code",
   "execution_count": null,
   "metadata": {},
   "outputs": [],
   "source": [
    "#Realizamos la transformación de los índices\n",
    "df_traffic[cols_etapas_log] = np.log(df_traffic[cols_etapas])"
   ]
  },
  {
   "cell_type": "code",
   "execution_count": null,
   "metadata": {},
   "outputs": [],
   "source": [
    "#Recalculamos las columnas de indice\n",
    "df_traffic[\"Shipping-Payments-log\"] = df_traffic[\"Payments(log)\"] / df_traffic[\"Shipping(log)\"]\n",
    "df_traffic[\"Payments-Review-log\"] = df_traffic[\"Review(log)\"] / df_traffic[\"Payments(log)\"]\n",
    "df_traffic[\"Review-Congrats-log\"] = df_traffic[\"Congrats(log)\"] / df_traffic[\"Review(log)\"]\n",
    "df_traffic[\"Shipping-Congrats-log\"] = df_traffic[\"Congrats(log)\"] / df_traffic[\"Shipping(log)\"]\n",
    "\n",
    "#agrupamos las columnas de índices para evaluar su comportamiento por separado de las etapas\n",
    "cols_indices_log=['Shipping-Payments(log)', 'Payments-Review(log)', 'Review-Congrats(log)', 'Shipping-Congrats(log)']\n",
    "\n",
    "# volvemos a definir los dos datasets de interes con las nuevas columnas\n",
    "df_traffic_desktop = df_traffic[df_traffic.Device==(\"Desktop\")]\n",
    "df_traffic_android = df_traffic[df_traffic.Device==(\"Android\")]"
   ]
  },
  {
   "cell_type": "code",
   "execution_count": null,
   "metadata": {},
   "outputs": [],
   "source": [
    "df_traffic[df_traffic[\"Device\"]==\"Android\"][cols_etapas_log].plot( marker='.', alpha=0.5, linestyle='-',sharey=\"all\", figsize=(20, 10)).set_title(\"ANDROID - etapas log\")\n",
    "df_traffic[df_traffic[\"Device\"]==\"Desktop\"][cols_etapas_log].plot( marker='.', alpha=0.5, linestyle='-',sharey=\"all\", figsize=(20, 10)).set_title(\"DESKTOP - etapas log\")"
   ]
  },
  {
   "cell_type": "code",
   "execution_count": null,
   "metadata": {},
   "outputs": [],
   "source": [
    "df_traffic.describe()"
   ]
  },
  {
   "cell_type": "code",
   "execution_count": null,
   "metadata": {},
   "outputs": [],
   "source": [
    "df_traffic_android[cols_etapas_log].describe()"
   ]
  },
  {
   "cell_type": "code",
   "execution_count": null,
   "metadata": {},
   "outputs": [],
   "source": [
    "df_traffic_desktop[cols_etapas_log].describe()"
   ]
  },
  {
   "cell_type": "code",
   "execution_count": null,
   "metadata": {},
   "outputs": [],
   "source": [
    "plt.plot(df_traffic_android.groupby([\"Weekday\"])[\"Shipping-Congrats\"].median(), marker='.', alpha=0.5, linestyle='dashed', label='Android')\n",
    "\n",
    "plt.plot(df_traffic_desktop.groupby([\"Weekday\"])[\"Shipping-Congrats\"].median(), marker='*', alpha=0.5, linestyle='solid', label='Desktop')\n"
   ]
  },
  {
   "cell_type": "code",
   "execution_count": null,
   "metadata": {},
   "outputs": [],
   "source": []
  }
 ],
 "metadata": {
  "colab": {
   "name": "entrega2.ipynb",
   "provenance": []
  },
  "kernelspec": {
   "display_name": "Python 3",
   "language": "python",
   "name": "python3"
  },
  "language_info": {
   "codemirror_mode": {
    "name": "ipython",
    "version": 3
   },
   "file_extension": ".py",
   "mimetype": "text/x-python",
   "name": "python",
   "nbconvert_exporter": "python",
   "pygments_lexer": "ipython3",
   "version": "3.8.5"
  }
 },
 "nbformat": 4,
 "nbformat_minor": 1
}
