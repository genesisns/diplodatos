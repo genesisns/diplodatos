{
 "cells": [
  {
   "cell_type": "markdown",
   "metadata": {},
   "source": [
    "# 1. Trabajo Práctico N°2: de Analisis + Curación"
   ]
  },
  {
   "cell_type": "markdown",
   "metadata": {},
   "source": [
    "# Trabajo Práctico N°2: Análisis Exploratorio y Curación de Datos"
   ]
  },
  {
   "cell_type": "markdown",
   "metadata": {},
   "source": [
    "## Introducción\n",
    "\n",
    "Este trabajo práctico intenta continúa la exploración de los datasets planteados en el [primer trabajo práctico](https://github.com/luisdvlpr/diplodatos2021-datasets/blob/main/TP1_Analisis_y_Visualizacion/enunciado_tp1_analisis_y_visualizacion.ipynb)\n",
    "\n",
    "En el primer práctico pudimos notar algunas características propias de las series temporales y en particular del dominio del comportamiento de un ecommerce genérico. Muchas de ellas son __series no estacionarias__, ya que la caracterización de estas distribuciones ( media, varianza ) cambian a través del tiempo y se observan ademas alguna tendencias. __Por otra parte se se distinguen patrones de estacionalidad, por ej. semanal__. \n",
    "\n",
    "Lo anterior trae __consecuencias__ directas en la selección de las metodologías adecuadas para abordar las problemáticas de tratamiento de __valores faltantes__, detección de __outliers__ y la construcción de __modelos predictivos__.\n",
    "\n",
    "Por otra parte, debe notarse que el tamaño de las economías de cada pais y la adopción de los hábitos de uso de estas plataformas en cada uno de ellos hace que el uso de cantidad de sesiones no sea una medida adecuada para compararles. Entonces, el análisis de estas series se centra por lo general en el cambio porcentual de los precios en vez del cambio en los valores absolutos. Esto resulta en que en vez de modelar los índices originales, previamente se habitúa realizar una __transformación logarítmica__ o trabajar con la __tasa de conversión__ a fin de expresarlos en un __único métrica que les caracterice__ para evitar distorsiones debidas a los tamaños de sus economías y hábitos de uso."
   ]
  },
  {
   "cell_type": "markdown",
   "metadata": {},
   "source": [
    "### Carga del dataset"
   ]
  },
  {
   "cell_type": "code",
   "execution_count": 34,
   "metadata": {},
   "outputs": [],
   "source": [
    "import numpy as np\n",
    "import pandas as pd\n",
    "import seaborn as sns\n",
    " \n",
    "%matplotlib inline\n",
    "import matplotlib.pyplot as plt"
   ]
  },
  {
   "cell_type": "code",
   "execution_count": 35,
   "metadata": {},
   "outputs": [],
   "source": [
    "# some config\n",
    "\n",
    "plt.rcParams['figure.figsize'] = (12, 9)\n",
    "pd.options.display.float_format = '{:20,.2f}'.format #configuración para sacar la notación cientifica"
   ]
  },
  {
   "cell_type": "code",
   "execution_count": 36,
   "metadata": {},
   "outputs": [],
   "source": [
    "#cambie parse_dates=True, por la columna especifica de fecha para que aplique el tipo de formato e indexe por fecha\n",
    "data_orig = pd.read_csv(\n",
    "    'https://raw.githubusercontent.com/luisepifanio/diplodatos2021-datasets/main/TP2_Analisis_y_Curacion/datasets/traffic_AR_CL_UY.csv', \n",
    "    usecols = [\"Fecha\", \"flow\", \"Site\", \"Device\", \"Loading\", \"Shipping\", \"Payments\", \"Review\", \"Congrats\"], \n",
    "    parse_dates=[\"Fecha\"],index_col=[\"Fecha\"]\n",
    ")\n",
    "traffic_data=data_orig.copy()"
   ]
  },
  {
   "cell_type": "code",
   "execution_count": 37,
   "metadata": {},
   "outputs": [],
   "source": [
    "#filtramos los datos para trabajar solo con MLA, flujo directo, desktop y android\n",
    "\n",
    "traffic_data = traffic_data[traffic_data.Site==(\"MLA\")]\n",
    "traffic_data = traffic_data[traffic_data.flow==(\"direct\")]\n",
    "traffic_data = traffic_data[(traffic_data.Device==(\"Android\"))|(traffic_data.Device==(\"Desktop\"))]\n"
   ]
  },
  {
   "cell_type": "code",
   "execution_count": 38,
   "metadata": {},
   "outputs": [],
   "source": [
    "#agregamos columnas relativas a las fechas\n",
    "\n",
    "df_traffic=traffic_data.copy()\n",
    "df_traffic[\"Weekday\"] = traffic_data.index.day_name()\n",
    "df_traffic[\"Month\"] = traffic_data.index.month_name()\n",
    "df_traffic[\"Year\"] = traffic_data.index.year\n",
    "new = df_traffic[\"Month\"].copy().astype(str)\n",
    "new1 = df_traffic[\"Year\"].copy().astype(str)\n",
    "df_traffic[\"Months\"]= new.str.cat(new1, sep =\"-\")"
   ]
  },
  {
   "cell_type": "code",
   "execution_count": 39,
   "metadata": {},
   "outputs": [],
   "source": [
    "#agregamos columnas relativas a las tasas de conversión entre las diferentes etapas de compra\n",
    "df_traffic[\"Shipping-Payments\"] = df_traffic[\"Payments\"] / df_traffic[\"Shipping\"]\n",
    "df_traffic[\"Payments-Review\"] = df_traffic[\"Review\"] / df_traffic[\"Payments\"]\n",
    "df_traffic[\"Review-Congrats\"] = df_traffic[\"Congrats\"] / df_traffic[\"Review\"]\n",
    "df_traffic[\"Shipping-Congrats\"] = df_traffic[\"Congrats\"] / df_traffic[\"Shipping\"]\n",
    "\n",
    "#agrupamos las columnas según sean etapas de compra o índices para evaluar su comportamiento por separado\n",
    "cols_indices = ['Shipping-Payments', 'Payments-Review', 'Review-Congrats', 'Shipping-Congrats']\n",
    "cols_etapas = ['Shipping', 'Payments', 'Review', 'Congrats']\n",
    "\n",
    "# volvemos a definir los dos datasets de interes con las nuevas columnas\n",
    "df_traffic_desktop = df_traffic[df_traffic.Device==(\"Desktop\")]\n",
    "df_traffic_android = df_traffic[df_traffic.Device==(\"Android\")]"
   ]
  },
  {
   "cell_type": "markdown",
   "metadata": {},
   "source": [
    "# Consignas del trabajo práctico N°2\n",
    "\n",
    "El objetivo general del práctico es realizar algunas tareas de __preprocesamiento__ de los datos y luego __analizar las series obtenidas__ de dicho preprocesamiento en forma similar a la empleada en el TP1.\n",
    "\n",
    "Se proponen las siguientes actividades orientadoras, sin perjuicio de que se puedan incorporar análisis adicionales:\n",
    "\n",
    "#### Tratamiento de faltantes\n",
    "\n",
    "- Identificar valores perdidos, huecos en los datos ej: aquellos días para los que no hubo datos\n",
    "\n",
    "- Identificar aquellos valores \"sospechosos\", debido al dropout ( o perdida de sesiones) a medidas que avanzas en \n",
    "  las pantallas la cantidad de sesiones en la pantalla posterior es menor/igual al de su predecesora\n",
    "\n",
    "- Imputar los valores sospechoso con otros que tengan sentido dentro del dominio segun lo explicado en el punto anterior\n",
    "\n",
    "- Imputar los faltantes debidos a fallas de medición usando un algoritmo adecuado para series temporales, \n",
    "  por ejemplo splines, interpolaciones, valores de medias/medianas móviles por ventana de tiempo\n",
    "\n",
    "- Comparar los valores originales vs los imputados y juzgue si los valores se mantienen dentro de parametros aceptables, ¿Como justificaría que dichos valores imputados tienen sentido en su analisis?\n",
    "\n",
    "\n",
    "#### Transformaciones\n",
    "\n",
    "Obtener las siguientes series transformadas:\n",
    "\n",
    "- Los logaritmos naturales de los índices. \n",
    "\n",
    "- Las tasas de conversion.\n",
    "\n",
    "#### Exploración de las series transformadas\n",
    "\n",
    "Reutilizar parte del código del TP1 para analizar las series transformadas. En una primera etapa se puede trabajar con solo una de las series resultantes de tomar logaritmo natural y una serie de tasa de conversión.\n",
    "\n",
    "- Analizar las distribuciones por medio de gráficos y medidas de estadística descriptiva.\n",
    "\n",
    "- Dichas distribuciones, ¿se mantienen relativamente inalteradas en el tiempo?\n",
    "\n",
    "- ¿Hay outliers?\n",
    "\n",
    "- Estudiar la evolución temporal de las series. ¿En qué sentido tienden a moverse? ¿Tienden a moverse en forma conjunta?  ¿Siempre se da dicho patrón? ¿Hay períodos de crisis? En caso de que existan crisis / eventos , ¿Son globales o propias de sites individuales? \n",
    "\n",
    "- To Be defined: De ser definido, podemos establecer un grupo de control versus ls valores imputados y establecer \n",
    "  que tan buenos resultaron los métodos ejecutados para rellenar los valores respecto de los deseables\n",
    "\n",
    "#### Opcional\n",
    "- Graficar e interpretar las funciones de autocorrelación (ACF) y autocorrelación parcial (PACF).\n",
    "- Explorar la volatilidad de las series, por ejemplo graficando las desviaciones estándar móviles.\n",
    "\n",
    "## Fecha de entrega\n",
    "\n",
    "- __Versión preliminar: 03/07__ \n",
    "\n",
    "- __Version final: 07/07__\n",
    "\n",
    "## Condiciones de entrega\n",
    "\n",
    "Realizar un informe en el cual se presenten los resultados y conclusiones del análisis realizado. El mismo puede orientarse para un público técnico pero que desconoce los aspectos propios del problema como sus compañeros de clase. Dicho informe puede ser un notebook, a condición de que en el mismo se explique un análisis escrito suficientemente detallado de los resultados. \n"
   ]
  },
  {
   "cell_type": "markdown",
   "metadata": {},
   "source": [
    "***DATOS FALTANTES***"
   ]
  },
  {
   "cell_type": "code",
   "execution_count": 43,
   "metadata": {
    "scrolled": true
   },
   "outputs": [
    {
     "data": {
      "text/plain": [
       "flow                 0\n",
       "Site                 0\n",
       "Device               0\n",
       "Loading              0\n",
       "Shipping             1\n",
       "Payments             0\n",
       "Review               2\n",
       "Congrats             0\n",
       "Weekday              0\n",
       "Month                0\n",
       "Year                 0\n",
       "Months               0\n",
       "Shipping-Payments    5\n",
       "Payments-Review      6\n",
       "Review-Congrats      6\n",
       "Shipping-Congrats    5\n",
       "dtype: int64"
      ]
     },
     "execution_count": 43,
     "metadata": {},
     "output_type": "execute_result"
    }
   ],
   "source": [
    "#buscamos si hay datos faltantes\n",
    "df_traffic.isnull().sum()"
   ]
  },
  {
   "cell_type": "markdown",
   "metadata": {},
   "source": [
    "Solo tres datos aparecen como no valores en el dataset, dos de ellos el la etapa de review y uno en la etapa de shipping. De las columnas agregadas, varias muestran datos faltantes."
   ]
  },
  {
   "cell_type": "code",
   "execution_count": 46,
   "metadata": {},
   "outputs": [
    {
     "data": {
      "text/html": [
       "<div>\n",
       "<style scoped>\n",
       "    .dataframe tbody tr th:only-of-type {\n",
       "        vertical-align: middle;\n",
       "    }\n",
       "\n",
       "    .dataframe tbody tr th {\n",
       "        vertical-align: top;\n",
       "    }\n",
       "\n",
       "    .dataframe thead th {\n",
       "        text-align: right;\n",
       "    }\n",
       "</style>\n",
       "<table border=\"1\" class=\"dataframe\">\n",
       "  <thead>\n",
       "    <tr style=\"text-align: right;\">\n",
       "      <th></th>\n",
       "      <th>flow</th>\n",
       "      <th>Site</th>\n",
       "      <th>Device</th>\n",
       "      <th>Loading</th>\n",
       "      <th>Shipping</th>\n",
       "      <th>Payments</th>\n",
       "      <th>Review</th>\n",
       "      <th>Congrats</th>\n",
       "      <th>Weekday</th>\n",
       "      <th>Month</th>\n",
       "      <th>Year</th>\n",
       "      <th>Months</th>\n",
       "      <th>Shipping-Payments</th>\n",
       "      <th>Payments-Review</th>\n",
       "      <th>Review-Congrats</th>\n",
       "      <th>Shipping-Congrats</th>\n",
       "    </tr>\n",
       "    <tr>\n",
       "      <th>Fecha</th>\n",
       "      <th></th>\n",
       "      <th></th>\n",
       "      <th></th>\n",
       "      <th></th>\n",
       "      <th></th>\n",
       "      <th></th>\n",
       "      <th></th>\n",
       "      <th></th>\n",
       "      <th></th>\n",
       "      <th></th>\n",
       "      <th></th>\n",
       "      <th></th>\n",
       "      <th></th>\n",
       "      <th></th>\n",
       "      <th></th>\n",
       "      <th></th>\n",
       "    </tr>\n",
       "  </thead>\n",
       "  <tbody>\n",
       "    <tr>\n",
       "      <th>2019-03-22</th>\n",
       "      <td>direct</td>\n",
       "      <td>MLA</td>\n",
       "      <td>Android</td>\n",
       "      <td>179146</td>\n",
       "      <td>169,846.00</td>\n",
       "      <td>138177</td>\n",
       "      <td>NaN</td>\n",
       "      <td>89890</td>\n",
       "      <td>Friday</td>\n",
       "      <td>March</td>\n",
       "      <td>2019</td>\n",
       "      <td>March-2019</td>\n",
       "      <td>0.81</td>\n",
       "      <td>NaN</td>\n",
       "      <td>NaN</td>\n",
       "      <td>0.53</td>\n",
       "    </tr>\n",
       "    <tr>\n",
       "      <th>2019-05-07</th>\n",
       "      <td>direct</td>\n",
       "      <td>MLA</td>\n",
       "      <td>Android</td>\n",
       "      <td>224056</td>\n",
       "      <td>NaN</td>\n",
       "      <td>172472</td>\n",
       "      <td>121,321.00</td>\n",
       "      <td>113250</td>\n",
       "      <td>Tuesday</td>\n",
       "      <td>May</td>\n",
       "      <td>2019</td>\n",
       "      <td>May-2019</td>\n",
       "      <td>NaN</td>\n",
       "      <td>0.70</td>\n",
       "      <td>0.93</td>\n",
       "      <td>NaN</td>\n",
       "    </tr>\n",
       "    <tr>\n",
       "      <th>2019-08-27</th>\n",
       "      <td>direct</td>\n",
       "      <td>MLA</td>\n",
       "      <td>Android</td>\n",
       "      <td>236701</td>\n",
       "      <td>223,993.00</td>\n",
       "      <td>180928</td>\n",
       "      <td>NaN</td>\n",
       "      <td>113464</td>\n",
       "      <td>Tuesday</td>\n",
       "      <td>August</td>\n",
       "      <td>2019</td>\n",
       "      <td>August-2019</td>\n",
       "      <td>0.81</td>\n",
       "      <td>NaN</td>\n",
       "      <td>NaN</td>\n",
       "      <td>0.51</td>\n",
       "    </tr>\n",
       "  </tbody>\n",
       "</table>\n",
       "</div>"
      ],
      "text/plain": [
       "              flow Site   Device  Loading             Shipping  Payments  \\\n",
       "Fecha                                                                      \n",
       "2019-03-22  direct  MLA  Android   179146           169,846.00    138177   \n",
       "2019-05-07  direct  MLA  Android   224056                  NaN    172472   \n",
       "2019-08-27  direct  MLA  Android   236701           223,993.00    180928   \n",
       "\n",
       "                         Review  Congrats  Weekday   Month  Year       Months  \\\n",
       "Fecha                                                                           \n",
       "2019-03-22                  NaN     89890   Friday   March  2019   March-2019   \n",
       "2019-05-07           121,321.00    113250  Tuesday     May  2019     May-2019   \n",
       "2019-08-27                  NaN    113464  Tuesday  August  2019  August-2019   \n",
       "\n",
       "              Shipping-Payments      Payments-Review      Review-Congrats  \\\n",
       "Fecha                                                                       \n",
       "2019-03-22                 0.81                  NaN                  NaN   \n",
       "2019-05-07                  NaN                 0.70                 0.93   \n",
       "2019-08-27                 0.81                  NaN                  NaN   \n",
       "\n",
       "              Shipping-Congrats  \n",
       "Fecha                            \n",
       "2019-03-22                 0.53  \n",
       "2019-05-07                  NaN  \n",
       "2019-08-27                 0.51  "
      ]
     },
     "execution_count": 46,
     "metadata": {},
     "output_type": "execute_result"
    }
   ],
   "source": [
    "#fechas con datos faltantes en el dataset original\n",
    "df_traffic[df_traffic['Shipping'].isnull()|df_traffic['Review'].isnull()]"
   ]
  },
  {
   "cell_type": "code",
   "execution_count": 58,
   "metadata": {
    "scrolled": true
   },
   "outputs": [
    {
     "data": {
      "text/html": [
       "<div>\n",
       "<style scoped>\n",
       "    .dataframe tbody tr th:only-of-type {\n",
       "        vertical-align: middle;\n",
       "    }\n",
       "\n",
       "    .dataframe tbody tr th {\n",
       "        vertical-align: top;\n",
       "    }\n",
       "\n",
       "    .dataframe thead th {\n",
       "        text-align: right;\n",
       "    }\n",
       "</style>\n",
       "<table border=\"1\" class=\"dataframe\">\n",
       "  <thead>\n",
       "    <tr style=\"text-align: right;\">\n",
       "      <th></th>\n",
       "      <th>flow</th>\n",
       "      <th>Site</th>\n",
       "      <th>Device</th>\n",
       "      <th>Loading</th>\n",
       "      <th>Shipping</th>\n",
       "      <th>Payments</th>\n",
       "      <th>Review</th>\n",
       "      <th>Congrats</th>\n",
       "      <th>Weekday</th>\n",
       "      <th>Month</th>\n",
       "      <th>Year</th>\n",
       "      <th>Months</th>\n",
       "      <th>Shipping-Payments</th>\n",
       "      <th>Payments-Review</th>\n",
       "      <th>Review-Congrats</th>\n",
       "      <th>Shipping-Congrats</th>\n",
       "    </tr>\n",
       "    <tr>\n",
       "      <th>Fecha</th>\n",
       "      <th></th>\n",
       "      <th></th>\n",
       "      <th></th>\n",
       "      <th></th>\n",
       "      <th></th>\n",
       "      <th></th>\n",
       "      <th></th>\n",
       "      <th></th>\n",
       "      <th></th>\n",
       "      <th></th>\n",
       "      <th></th>\n",
       "      <th></th>\n",
       "      <th></th>\n",
       "      <th></th>\n",
       "      <th></th>\n",
       "      <th></th>\n",
       "    </tr>\n",
       "  </thead>\n",
       "  <tbody>\n",
       "    <tr>\n",
       "      <th>2019-03-22</th>\n",
       "      <td>direct</td>\n",
       "      <td>MLA</td>\n",
       "      <td>Android</td>\n",
       "      <td>179146</td>\n",
       "      <td>169,846.00</td>\n",
       "      <td>138177</td>\n",
       "      <td>NaN</td>\n",
       "      <td>89890</td>\n",
       "      <td>Friday</td>\n",
       "      <td>March</td>\n",
       "      <td>2019</td>\n",
       "      <td>March-2019</td>\n",
       "      <td>0.81</td>\n",
       "      <td>NaN</td>\n",
       "      <td>NaN</td>\n",
       "      <td>0.53</td>\n",
       "    </tr>\n",
       "    <tr>\n",
       "      <th>2019-05-07</th>\n",
       "      <td>direct</td>\n",
       "      <td>MLA</td>\n",
       "      <td>Android</td>\n",
       "      <td>224056</td>\n",
       "      <td>NaN</td>\n",
       "      <td>172472</td>\n",
       "      <td>121,321.00</td>\n",
       "      <td>113250</td>\n",
       "      <td>Tuesday</td>\n",
       "      <td>May</td>\n",
       "      <td>2019</td>\n",
       "      <td>May-2019</td>\n",
       "      <td>NaN</td>\n",
       "      <td>0.70</td>\n",
       "      <td>0.93</td>\n",
       "      <td>NaN</td>\n",
       "    </tr>\n",
       "    <tr>\n",
       "      <th>2019-08-27</th>\n",
       "      <td>direct</td>\n",
       "      <td>MLA</td>\n",
       "      <td>Android</td>\n",
       "      <td>236701</td>\n",
       "      <td>223,993.00</td>\n",
       "      <td>180928</td>\n",
       "      <td>NaN</td>\n",
       "      <td>113464</td>\n",
       "      <td>Tuesday</td>\n",
       "      <td>August</td>\n",
       "      <td>2019</td>\n",
       "      <td>August-2019</td>\n",
       "      <td>0.81</td>\n",
       "      <td>NaN</td>\n",
       "      <td>NaN</td>\n",
       "      <td>0.51</td>\n",
       "    </tr>\n",
       "    <tr>\n",
       "      <th>2019-12-05</th>\n",
       "      <td>direct</td>\n",
       "      <td>MLA</td>\n",
       "      <td>Android</td>\n",
       "      <td>0</td>\n",
       "      <td>0.00</td>\n",
       "      <td>0</td>\n",
       "      <td>0.00</td>\n",
       "      <td>0</td>\n",
       "      <td>Thursday</td>\n",
       "      <td>December</td>\n",
       "      <td>2019</td>\n",
       "      <td>December-2019</td>\n",
       "      <td>NaN</td>\n",
       "      <td>NaN</td>\n",
       "      <td>NaN</td>\n",
       "      <td>NaN</td>\n",
       "    </tr>\n",
       "    <tr>\n",
       "      <th>2019-12-05</th>\n",
       "      <td>direct</td>\n",
       "      <td>MLA</td>\n",
       "      <td>Desktop</td>\n",
       "      <td>0</td>\n",
       "      <td>0.00</td>\n",
       "      <td>0</td>\n",
       "      <td>0.00</td>\n",
       "      <td>0</td>\n",
       "      <td>Thursday</td>\n",
       "      <td>December</td>\n",
       "      <td>2019</td>\n",
       "      <td>December-2019</td>\n",
       "      <td>NaN</td>\n",
       "      <td>NaN</td>\n",
       "      <td>NaN</td>\n",
       "      <td>NaN</td>\n",
       "    </tr>\n",
       "    <tr>\n",
       "      <th>2019-12-06</th>\n",
       "      <td>direct</td>\n",
       "      <td>MLA</td>\n",
       "      <td>Android</td>\n",
       "      <td>0</td>\n",
       "      <td>0.00</td>\n",
       "      <td>0</td>\n",
       "      <td>0.00</td>\n",
       "      <td>0</td>\n",
       "      <td>Friday</td>\n",
       "      <td>December</td>\n",
       "      <td>2019</td>\n",
       "      <td>December-2019</td>\n",
       "      <td>NaN</td>\n",
       "      <td>NaN</td>\n",
       "      <td>NaN</td>\n",
       "      <td>NaN</td>\n",
       "    </tr>\n",
       "    <tr>\n",
       "      <th>2019-12-06</th>\n",
       "      <td>direct</td>\n",
       "      <td>MLA</td>\n",
       "      <td>Desktop</td>\n",
       "      <td>0</td>\n",
       "      <td>0.00</td>\n",
       "      <td>0</td>\n",
       "      <td>0.00</td>\n",
       "      <td>0</td>\n",
       "      <td>Friday</td>\n",
       "      <td>December</td>\n",
       "      <td>2019</td>\n",
       "      <td>December-2019</td>\n",
       "      <td>NaN</td>\n",
       "      <td>NaN</td>\n",
       "      <td>NaN</td>\n",
       "      <td>NaN</td>\n",
       "    </tr>\n",
       "  </tbody>\n",
       "</table>\n",
       "</div>"
      ],
      "text/plain": [
       "              flow Site   Device  Loading             Shipping  Payments  \\\n",
       "Fecha                                                                      \n",
       "2019-03-22  direct  MLA  Android   179146           169,846.00    138177   \n",
       "2019-05-07  direct  MLA  Android   224056                  NaN    172472   \n",
       "2019-08-27  direct  MLA  Android   236701           223,993.00    180928   \n",
       "2019-12-05  direct  MLA  Android        0                 0.00         0   \n",
       "2019-12-05  direct  MLA  Desktop        0                 0.00         0   \n",
       "2019-12-06  direct  MLA  Android        0                 0.00         0   \n",
       "2019-12-06  direct  MLA  Desktop        0                 0.00         0   \n",
       "\n",
       "                         Review  Congrats   Weekday     Month  Year  \\\n",
       "Fecha                                                                 \n",
       "2019-03-22                  NaN     89890    Friday     March  2019   \n",
       "2019-05-07           121,321.00    113250   Tuesday       May  2019   \n",
       "2019-08-27                  NaN    113464   Tuesday    August  2019   \n",
       "2019-12-05                 0.00         0  Thursday  December  2019   \n",
       "2019-12-05                 0.00         0  Thursday  December  2019   \n",
       "2019-12-06                 0.00         0    Friday  December  2019   \n",
       "2019-12-06                 0.00         0    Friday  December  2019   \n",
       "\n",
       "                   Months    Shipping-Payments      Payments-Review  \\\n",
       "Fecha                                                                 \n",
       "2019-03-22     March-2019                 0.81                  NaN   \n",
       "2019-05-07       May-2019                  NaN                 0.70   \n",
       "2019-08-27    August-2019                 0.81                  NaN   \n",
       "2019-12-05  December-2019                  NaN                  NaN   \n",
       "2019-12-05  December-2019                  NaN                  NaN   \n",
       "2019-12-06  December-2019                  NaN                  NaN   \n",
       "2019-12-06  December-2019                  NaN                  NaN   \n",
       "\n",
       "                Review-Congrats    Shipping-Congrats  \n",
       "Fecha                                                 \n",
       "2019-03-22                  NaN                 0.53  \n",
       "2019-05-07                 0.93                  NaN  \n",
       "2019-08-27                  NaN                 0.51  \n",
       "2019-12-05                  NaN                  NaN  \n",
       "2019-12-05                  NaN                  NaN  \n",
       "2019-12-06                  NaN                  NaN  \n",
       "2019-12-06                  NaN                  NaN  "
      ]
     },
     "execution_count": 58,
     "metadata": {},
     "output_type": "execute_result"
    }
   ],
   "source": [
    "#fechas con Nan en las columnas de indice.\n",
    "missing = df_traffic[pd.isnull(df_traffic).any(axis=1)]\n",
    "missing"
   ]
  },
  {
   "cell_type": "markdown",
   "metadata": {},
   "source": [
    "El dataset presenta valores nulos tanto en las columnas originales como en las columnas indice, especialmente para aquellos casos donde el indice debía usar un input Nan, o bien donde se generaba una división en 0 por falta de datos. "
   ]
  },
  {
   "cell_type": "code",
   "execution_count": 60,
   "metadata": {},
   "outputs": [
    {
     "data": {
      "text/html": [
       "<div>\n",
       "<style scoped>\n",
       "    .dataframe tbody tr th:only-of-type {\n",
       "        vertical-align: middle;\n",
       "    }\n",
       "\n",
       "    .dataframe tbody tr th {\n",
       "        vertical-align: top;\n",
       "    }\n",
       "\n",
       "    .dataframe thead th {\n",
       "        text-align: right;\n",
       "    }\n",
       "</style>\n",
       "<table border=\"1\" class=\"dataframe\">\n",
       "  <thead>\n",
       "    <tr style=\"text-align: right;\">\n",
       "      <th></th>\n",
       "      <th>flow</th>\n",
       "      <th>Site</th>\n",
       "      <th>Loading</th>\n",
       "      <th>Shipping</th>\n",
       "      <th>Payments</th>\n",
       "      <th>Review</th>\n",
       "      <th>Congrats</th>\n",
       "      <th>Weekday</th>\n",
       "      <th>Month</th>\n",
       "      <th>Year</th>\n",
       "      <th>Months</th>\n",
       "      <th>Shipping-Payments</th>\n",
       "      <th>Payments-Review</th>\n",
       "      <th>Review-Congrats</th>\n",
       "      <th>Shipping-Congrats</th>\n",
       "    </tr>\n",
       "    <tr>\n",
       "      <th>Device</th>\n",
       "      <th></th>\n",
       "      <th></th>\n",
       "      <th></th>\n",
       "      <th></th>\n",
       "      <th></th>\n",
       "      <th></th>\n",
       "      <th></th>\n",
       "      <th></th>\n",
       "      <th></th>\n",
       "      <th></th>\n",
       "      <th></th>\n",
       "      <th></th>\n",
       "      <th></th>\n",
       "      <th></th>\n",
       "      <th></th>\n",
       "    </tr>\n",
       "  </thead>\n",
       "  <tbody>\n",
       "    <tr>\n",
       "      <th>Android</th>\n",
       "      <td>0</td>\n",
       "      <td>0</td>\n",
       "      <td>0</td>\n",
       "      <td>1</td>\n",
       "      <td>0</td>\n",
       "      <td>2</td>\n",
       "      <td>0</td>\n",
       "      <td>0</td>\n",
       "      <td>0</td>\n",
       "      <td>0</td>\n",
       "      <td>0</td>\n",
       "      <td>3</td>\n",
       "      <td>4</td>\n",
       "      <td>4</td>\n",
       "      <td>3</td>\n",
       "    </tr>\n",
       "    <tr>\n",
       "      <th>Desktop</th>\n",
       "      <td>0</td>\n",
       "      <td>0</td>\n",
       "      <td>0</td>\n",
       "      <td>0</td>\n",
       "      <td>0</td>\n",
       "      <td>0</td>\n",
       "      <td>0</td>\n",
       "      <td>0</td>\n",
       "      <td>0</td>\n",
       "      <td>0</td>\n",
       "      <td>0</td>\n",
       "      <td>2</td>\n",
       "      <td>2</td>\n",
       "      <td>2</td>\n",
       "      <td>2</td>\n",
       "    </tr>\n",
       "  </tbody>\n",
       "</table>\n",
       "</div>"
      ],
      "text/plain": [
       "         flow  Site  Loading  Shipping  Payments  Review  Congrats  Weekday  \\\n",
       "Device                                                                        \n",
       "Android     0     0        0         1         0       2         0        0   \n",
       "Desktop     0     0        0         0         0       0         0        0   \n",
       "\n",
       "         Month  Year  Months  Shipping-Payments  Payments-Review  \\\n",
       "Device                                                             \n",
       "Android      0     0       0                  3                4   \n",
       "Desktop      0     0       0                  2                2   \n",
       "\n",
       "         Review-Congrats  Shipping-Congrats  \n",
       "Device                                       \n",
       "Android                4                  3  \n",
       "Desktop                2                  2  "
      ]
     },
     "execution_count": 60,
     "metadata": {},
     "output_type": "execute_result"
    }
   ],
   "source": [
    "#buscamos si hay datos faltantes.. se puede buscar con .isna() o con .isnull()\n",
    "missing.drop('Device', 1).isna().groupby(missing.Device, sort=False).sum()"
   ]
  },
  {
   "cell_type": "markdown",
   "metadata": {},
   "source": [
    "Podemos identificar que los 3 datos faltantes corresponden a los devices Android, mientras que Desktop solo presenta Nans en las columnas indice para los dos días que están sin dato: 5 y 6 de diciembre de 2019."
   ]
  },
  {
   "cell_type": "markdown",
   "metadata": {},
   "source": [
    "***DATOS NULOS***"
   ]
  },
  {
   "cell_type": "code",
   "execution_count": 67,
   "metadata": {
    "scrolled": true
   },
   "outputs": [
    {
     "data": {
      "text/plain": [
       "Loading     4\n",
       "Shipping    4\n",
       "Payments    4\n",
       "Review      4\n",
       "Congrats    4\n",
       "dtype: int64"
      ]
     },
     "execution_count": 67,
     "metadata": {},
     "output_type": "execute_result"
    }
   ],
   "source": [
    "#buscamos los datos nulos e identificamos en qué columnas se encuentran..\n",
    "cols_null_D = df_traffic[df_traffic == 0].count(axis=0)\n",
    "cols_null_D[cols_null_D > 0]"
   ]
  },
  {
   "cell_type": "code",
   "execution_count": 86,
   "metadata": {
    "scrolled": true
   },
   "outputs": [
    {
     "data": {
      "text/html": [
       "<div>\n",
       "<style scoped>\n",
       "    .dataframe tbody tr th:only-of-type {\n",
       "        vertical-align: middle;\n",
       "    }\n",
       "\n",
       "    .dataframe tbody tr th {\n",
       "        vertical-align: top;\n",
       "    }\n",
       "\n",
       "    .dataframe thead th {\n",
       "        text-align: right;\n",
       "    }\n",
       "</style>\n",
       "<table border=\"1\" class=\"dataframe\">\n",
       "  <thead>\n",
       "    <tr style=\"text-align: right;\">\n",
       "      <th></th>\n",
       "      <th>flow</th>\n",
       "      <th>Site</th>\n",
       "      <th>Device</th>\n",
       "      <th>Loading</th>\n",
       "      <th>Shipping</th>\n",
       "      <th>Payments</th>\n",
       "      <th>Review</th>\n",
       "      <th>Congrats</th>\n",
       "      <th>Weekday</th>\n",
       "      <th>Month</th>\n",
       "      <th>Year</th>\n",
       "      <th>Months</th>\n",
       "      <th>Shipping-Payments</th>\n",
       "      <th>Payments-Review</th>\n",
       "      <th>Review-Congrats</th>\n",
       "      <th>Shipping-Congrats</th>\n",
       "    </tr>\n",
       "    <tr>\n",
       "      <th>Fecha</th>\n",
       "      <th></th>\n",
       "      <th></th>\n",
       "      <th></th>\n",
       "      <th></th>\n",
       "      <th></th>\n",
       "      <th></th>\n",
       "      <th></th>\n",
       "      <th></th>\n",
       "      <th></th>\n",
       "      <th></th>\n",
       "      <th></th>\n",
       "      <th></th>\n",
       "      <th></th>\n",
       "      <th></th>\n",
       "      <th></th>\n",
       "      <th></th>\n",
       "    </tr>\n",
       "  </thead>\n",
       "  <tbody>\n",
       "    <tr>\n",
       "      <th>2019-12-05</th>\n",
       "      <td>direct</td>\n",
       "      <td>MLA</td>\n",
       "      <td>Android</td>\n",
       "      <td>0</td>\n",
       "      <td>0.00</td>\n",
       "      <td>0</td>\n",
       "      <td>0.00</td>\n",
       "      <td>0</td>\n",
       "      <td>Thursday</td>\n",
       "      <td>December</td>\n",
       "      <td>2019</td>\n",
       "      <td>December-2019</td>\n",
       "      <td>NaN</td>\n",
       "      <td>NaN</td>\n",
       "      <td>NaN</td>\n",
       "      <td>NaN</td>\n",
       "    </tr>\n",
       "    <tr>\n",
       "      <th>2019-12-05</th>\n",
       "      <td>direct</td>\n",
       "      <td>MLA</td>\n",
       "      <td>Desktop</td>\n",
       "      <td>0</td>\n",
       "      <td>0.00</td>\n",
       "      <td>0</td>\n",
       "      <td>0.00</td>\n",
       "      <td>0</td>\n",
       "      <td>Thursday</td>\n",
       "      <td>December</td>\n",
       "      <td>2019</td>\n",
       "      <td>December-2019</td>\n",
       "      <td>NaN</td>\n",
       "      <td>NaN</td>\n",
       "      <td>NaN</td>\n",
       "      <td>NaN</td>\n",
       "    </tr>\n",
       "    <tr>\n",
       "      <th>2019-12-06</th>\n",
       "      <td>direct</td>\n",
       "      <td>MLA</td>\n",
       "      <td>Android</td>\n",
       "      <td>0</td>\n",
       "      <td>0.00</td>\n",
       "      <td>0</td>\n",
       "      <td>0.00</td>\n",
       "      <td>0</td>\n",
       "      <td>Friday</td>\n",
       "      <td>December</td>\n",
       "      <td>2019</td>\n",
       "      <td>December-2019</td>\n",
       "      <td>NaN</td>\n",
       "      <td>NaN</td>\n",
       "      <td>NaN</td>\n",
       "      <td>NaN</td>\n",
       "    </tr>\n",
       "    <tr>\n",
       "      <th>2019-12-06</th>\n",
       "      <td>direct</td>\n",
       "      <td>MLA</td>\n",
       "      <td>Desktop</td>\n",
       "      <td>0</td>\n",
       "      <td>0.00</td>\n",
       "      <td>0</td>\n",
       "      <td>0.00</td>\n",
       "      <td>0</td>\n",
       "      <td>Friday</td>\n",
       "      <td>December</td>\n",
       "      <td>2019</td>\n",
       "      <td>December-2019</td>\n",
       "      <td>NaN</td>\n",
       "      <td>NaN</td>\n",
       "      <td>NaN</td>\n",
       "      <td>NaN</td>\n",
       "    </tr>\n",
       "  </tbody>\n",
       "</table>\n",
       "</div>"
      ],
      "text/plain": [
       "              flow Site   Device  Loading             Shipping  Payments  \\\n",
       "Fecha                                                                      \n",
       "2019-12-05  direct  MLA  Android        0                 0.00         0   \n",
       "2019-12-05  direct  MLA  Desktop        0                 0.00         0   \n",
       "2019-12-06  direct  MLA  Android        0                 0.00         0   \n",
       "2019-12-06  direct  MLA  Desktop        0                 0.00         0   \n",
       "\n",
       "                         Review  Congrats   Weekday     Month  Year  \\\n",
       "Fecha                                                                 \n",
       "2019-12-05                 0.00         0  Thursday  December  2019   \n",
       "2019-12-05                 0.00         0  Thursday  December  2019   \n",
       "2019-12-06                 0.00         0    Friday  December  2019   \n",
       "2019-12-06                 0.00         0    Friday  December  2019   \n",
       "\n",
       "                   Months  Shipping-Payments  Payments-Review  \\\n",
       "Fecha                                                           \n",
       "2019-12-05  December-2019                NaN              NaN   \n",
       "2019-12-05  December-2019                NaN              NaN   \n",
       "2019-12-06  December-2019                NaN              NaN   \n",
       "2019-12-06  December-2019                NaN              NaN   \n",
       "\n",
       "            Review-Congrats  Shipping-Congrats  \n",
       "Fecha                                           \n",
       "2019-12-05              NaN                NaN  \n",
       "2019-12-05              NaN                NaN  \n",
       "2019-12-06              NaN                NaN  \n",
       "2019-12-06              NaN                NaN  "
      ]
     },
     "execution_count": 86,
     "metadata": {},
     "output_type": "execute_result"
    }
   ],
   "source": [
    "#Buscamos otras filas con valor 0\n",
    "columns = df_traffic.columns.tolist()\n",
    "columns\n",
    "df_traffic_zero = df_traffic[(df_traffic.iloc[:,:] == 0).any(axis=1)]\n",
    "df_traffic_zero"
   ]
  },
  {
   "cell_type": "markdown",
   "metadata": {},
   "source": [
    "Luego de extender la búsqueda podemos afirmar que solo hay dos fechas con valores iguales a 0. En ambos casos, todas las etapas son 0, por ello los convertiremos en Nan y luego los imputaremos."
   ]
  },
  {
   "cell_type": "code",
   "execution_count": 87,
   "metadata": {},
   "outputs": [],
   "source": [
    "df_traffic = df_traffic.replace(['0', 0], np.nan)"
   ]
  },
  {
   "cell_type": "code",
   "execution_count": null,
   "metadata": {},
   "outputs": [],
   "source": [
    "#df_traffic_desktop[cols_etapas].plot( marker='.', alpha=0.5, linestyle='-', figsize=(20, 10)).set_title(\"DESKTOP\")\n",
    "plt.rcParams['figure.figsize'] = (15, 5)\n",
    "sns.boxenplot(data=df_traffic_desktop[cols_etapas], orient=\"h\", palette='hls')\n",
    "plt.title('Etapas-DESKTOP', size=15)\n"
   ]
  },
  {
   "cell_type": "code",
   "execution_count": null,
   "metadata": {},
   "outputs": [],
   "source": [
    "sns.boxenplot(data=df_traffic_android[cols_etapas], orient=\"h\", palette='hls')\n",
    "plt.title('Etapas-ANDROID', size=15)\n"
   ]
  },
  {
   "cell_type": "code",
   "execution_count": null,
   "metadata": {},
   "outputs": [],
   "source": [
    "sns.boxenplot(data=df_traffic[cols_indices], orient=\"h\", palette='hls')\n",
    "plt.title('Indices-DESKTOP', size=15)"
   ]
  },
  {
   "cell_type": "code",
   "execution_count": null,
   "metadata": {},
   "outputs": [],
   "source": [
    "sns.boxenplot(data=df_traffic_android[cols_indices], orient=\"h\", palette='hls')\n",
    "plt.title('Indices-ANDROID', size=15)"
   ]
  },
  {
   "cell_type": "code",
   "execution_count": null,
   "metadata": {},
   "outputs": [],
   "source": [
    "df_traffic_desktop[cols_etapas].plot( marker='.', alpha=0.5, linestyle='-',sharey=\"all\", figsize=(20, 10)).set_title(\"DESKTOP-Etapas\")\n",
    "df_traffic_desktop[cols_indices].plot( marker='.', alpha=0.5, linestyle='-',sharey=\"all\", figsize=(20, 10)).set_title(\"DESKTOP-Indices\")"
   ]
  },
  {
   "cell_type": "code",
   "execution_count": null,
   "metadata": {},
   "outputs": [],
   "source": [
    "df_traffic_android[cols_etapas].plot( marker='.', alpha=0.5, linestyle='-',sharey=\"all\", figsize=(20, 10)).set_title(\"ANDROID-Etapas\")\n",
    "df_traffic_android[cols_indices].plot( marker='.', alpha=0.5, linestyle='-',sharey=\"all\", figsize=(20, 10)).set_title(\"ANDROID-Indices\")"
   ]
  },
  {
   "cell_type": "code",
   "execution_count": null,
   "metadata": {},
   "outputs": [],
   "source": [
    "df_traffic_desktop[cols_indices].describe()"
   ]
  },
  {
   "cell_type": "code",
   "execution_count": null,
   "metadata": {},
   "outputs": [],
   "source": [
    "#analizamos los valores mínimos de cada índice que representan el 1% del total de los datos \n",
    "#el 1% de cada índice representa a 5 valores. Juntando los de cada índice podemos ver que al ser el total 12, cuando deberian ser 20 por lo que hay 8 casos que comparten fecha.\n",
    "df_traffic_android_1ind= df_traffic_desktop[(df_traffic_desktop[\"Shipping-Payments\"]<df_traffic_desktop[\"Shipping-Payments\"].quantile(0.01))|(df_traffic_desktop[\"Payments-Review\"]<df_traffic_desktop[\"Payments-Review\"].quantile(0.01))|(df_traffic_desktop[\"Review-Congrats\"]<df_traffic_desktop[\"Review-Congrats\"].quantile(0.01))|(df_traffic_desktop[\"Shipping-Congrats\"]<df_traffic_desktop[\"Shipping-Congrats\"].quantile(0.01))]\n",
    "df_traffic_android_1ind.shape"
   ]
  },
  {
   "cell_type": "code",
   "execution_count": null,
   "metadata": {},
   "outputs": [],
   "source": [
    "df_traffic_android_1ind= df_traffic_android[(df_traffic_android[\"Shipping-Payments\"]<df_traffic_android[\"Shipping-Payments\"].quantile(0.01))|(df_traffic_android[\"Payments-Review\"]<df_traffic_android[\"Payments-Review\"].quantile(0.01))|(df_traffic_android[\"Review-Congrats\"]<df_traffic_android[\"Review-Congrats\"].quantile(0.01))|(df_traffic_android[\"Shipping-Congrats\"]<df_traffic_android[\"Shipping-Congrats\"].quantile(0.01))]\n",
    "dates_min_ind_A=df_traffic_android_1ind.index"
   ]
  },
  {
   "cell_type": "code",
   "execution_count": null,
   "metadata": {},
   "outputs": [],
   "source": [
    "dates_min_ind_D = df_traffic_android_1ind.index"
   ]
  },
  {
   "cell_type": "code",
   "execution_count": null,
   "metadata": {},
   "outputs": [],
   "source": [
    "df_traffic_android_1ind"
   ]
  },
  {
   "cell_type": "code",
   "execution_count": null,
   "metadata": {},
   "outputs": [],
   "source": [
    "#chequeamos la distribución de frecuencia según el día semanal\n",
    "df_traffic_android_1ind.Weekday.value_counts()"
   ]
  },
  {
   "cell_type": "code",
   "execution_count": null,
   "metadata": {},
   "outputs": [],
   "source": [
    "#chequeamos la distribuciòn de frecuencia según el mes y años... Podemos asumir que los 5 días correspondientes a marzo 2020 se deben al impacto social del anuncio de las restricciones iniciales del confinamiento por la pandemia\n",
    "df_traffic_android_1ind.Months.value_counts()"
   ]
  },
  {
   "cell_type": "code",
   "execution_count": null,
   "metadata": {},
   "outputs": [],
   "source": [
    "#compartidos entre SP- SC: 3 (3/5)\n",
    "df_traffic_desktop_1indSP_SC= df_traffic_desktop[(df_traffic_desktop[\"Shipping-Payments\"]<df_traffic_desktop[\"Shipping-Payments\"].quantile(0.01))&(df_traffic_desktop[\"Shipping-Congrats\"]<df_traffic_desktop[\"Shipping-Congrats\"].quantile(0.01))]\n",
    "df_traffic_desktop_1indSP_SC"
   ]
  },
  {
   "cell_type": "code",
   "execution_count": null,
   "metadata": {},
   "outputs": [],
   "source": [
    "#compartidos entre PR- SC: 5 (5/5)\n",
    "df_traffic_desktop_1indPRSC= df_traffic_desktop[(df_traffic_desktop[\"Payments-Review\"]<df_traffic_desktop[\"Payments-Review\"].quantile(0.01))&(df_traffic_desktop[\"Shipping-Congrats\"]<df_traffic_desktop[\"Shipping-Congrats\"].quantile(0.01))]\n",
    "df_traffic_desktop_1indPRSC"
   ]
  },
  {
   "cell_type": "code",
   "execution_count": null,
   "metadata": {
    "scrolled": true
   },
   "outputs": [],
   "source": [
    "#df_traffic_desktop.loc[df_traffic_desktop[\"Shipping-Payment\"]<df_traffic_desktop[\"Shipping-Payment\"].quantile(0.01)]"
   ]
  },
  {
   "cell_type": "code",
   "execution_count": null,
   "metadata": {},
   "outputs": [],
   "source": [
    "#df_traffic_desktop.loc[df_traffic_desktop[\"Payment-Review\"]<df_traffic_desktop[\"Payment-Review\"].quantile(0.01)]"
   ]
  },
  {
   "cell_type": "code",
   "execution_count": null,
   "metadata": {
    "scrolled": true
   },
   "outputs": [],
   "source": [
    "#df_traffic_desktop.loc[df_traffic_desktop[\"Review-Congrats\"]<df_traffic_desktop[\"Review-Congrats\"].quantile(0.01)]"
   ]
  },
  {
   "cell_type": "code",
   "execution_count": null,
   "metadata": {},
   "outputs": [],
   "source": [
    "#df_traffic_desktop.loc[df_traffic_desktop[\"Shipping-Congrats\"]<df_traffic_desktop[\"Shipping-Congrats\"].quantile(0.01)]"
   ]
  },
  {
   "cell_type": "code",
   "execution_count": null,
   "metadata": {},
   "outputs": [],
   "source": [
    "df_traffic_desktop_1DIF= df_traffic_desktop[df_traffic_desktop[\"Congrats\"]>df_traffic_desktop[\"Shipping\"]]\n",
    "df_traffic_desktop_1DIF\n",
    "#Verificamos que no haya ninguna secuencia con valores superiores respecto a su etapa posterior"
   ]
  },
  {
   "cell_type": "code",
   "execution_count": null,
   "metadata": {},
   "outputs": [],
   "source": [
    "df_traffic_desktop[cols_indices].describe()"
   ]
  },
  {
   "cell_type": "code",
   "execution_count": null,
   "metadata": {
    "scrolled": true
   },
   "outputs": [],
   "source": [
    "df_traffic_desktop[(df_traffic_desktop[\"Review-Congrats\"]>0.99)]"
   ]
  },
  {
   "cell_type": "markdown",
   "metadata": {},
   "source": [
    "no hay tal dato sospechoso\n"
   ]
  },
  {
   "cell_type": "code",
   "execution_count": null,
   "metadata": {},
   "outputs": [],
   "source": [
    "df_traffic_desktop_1et= df_traffic_desktop[(df_traffic_desktop[\"Shipping\"]<df_traffic_desktop[\"Shipping\"].quantile(0.01))|(df_traffic_desktop[\"Payments\"]<df_traffic_desktop[\"Payments\"].quantile(0.01))|(df_traffic_desktop[\"Review\"]<df_traffic_desktop[\"Review\"].quantile(0.01))|(df_traffic_desktop[\"Congrats\"]<df_traffic_desktop[\"Congrats\"].quantile(0.01))]\n",
    "dates_min_et_D=df_traffic_desktop_1et.index"
   ]
  },
  {
   "cell_type": "code",
   "execution_count": null,
   "metadata": {},
   "outputs": [],
   "source": [
    "df_traffic_android_1et= df_traffic_android[(df_traffic_android[\"Shipping\"]<df_traffic_android[\"Shipping\"].quantile(0.01))|(df_traffic_android[\"Payments\"]<df_traffic_android[\"Payments\"].quantile(0.01))|(df_traffic_android[\"Review\"]<df_traffic_android[\"Review\"].quantile(0.01))|(df_traffic_android[\"Congrats\"]<df_traffic_android[\"Congrats\"].quantile(0.01))]\n",
    "dates_min_et_A=df_traffic_android_1et.index"
   ]
  },
  {
   "cell_type": "markdown",
   "metadata": {},
   "source": [
    "**FECHAS DE ANALISIS**"
   ]
  },
  {
   "cell_type": "code",
   "execution_count": null,
   "metadata": {},
   "outputs": [],
   "source": [
    "#consideramos las fechas obtenidas de los datos que representan el 1% mìnimo de los ìndices y de las etapas. \n",
    "dates_min_D = dates_min_ind_D | dates_min_et_D\n",
    "dates_min_D"
   ]
  },
  {
   "cell_type": "code",
   "execution_count": null,
   "metadata": {},
   "outputs": [],
   "source": [
    "dates_min_A = dates_min_ind_A | dates_min_et_A\n",
    "dates_min_A"
   ]
  },
  {
   "cell_type": "code",
   "execution_count": null,
   "metadata": {},
   "outputs": [],
   "source": [
    "#df_traffic_desktop.loc[df_traffic_desktop[\"Shipping\"]<df_traffic_desktop[\"Shipping\"].quantile(0.01)]"
   ]
  },
  {
   "cell_type": "code",
   "execution_count": null,
   "metadata": {},
   "outputs": [],
   "source": [
    "#df_traffic_desktop.loc[df_traffic_desktop[\"Payments\"]<df_traffic_desktop[\"Payments\"].quantile(0.01)]"
   ]
  },
  {
   "cell_type": "code",
   "execution_count": null,
   "metadata": {},
   "outputs": [],
   "source": [
    "#df_traffic_desktop.loc[df_traffic_desktop[\"Review\"]<df_traffic_desktop[\"Review\"].quantile(0.01)]"
   ]
  },
  {
   "cell_type": "code",
   "execution_count": null,
   "metadata": {},
   "outputs": [],
   "source": [
    "#df_traffic_desktop.loc[df_traffic_desktop[\"Congrats\"]<df_traffic_desktop[\"Congrats\"].quantile(0.01)]"
   ]
  },
  {
   "cell_type": "code",
   "execution_count": null,
   "metadata": {},
   "outputs": [],
   "source": []
  },
  {
   "cell_type": "markdown",
   "metadata": {},
   "source": [
    "## Referencias adicionales\n",
    "\n",
    "[pandas e interpolate ]( https://pandas.pydata.org/docs/reference/api/pandas.Series.interpolate.html)\n",
    "\n",
    "[Manejo de valores perdidos]( https://pandas-docs.github.io/pandas-docs-travis/user_guide/missing_data.html )\n",
    "\n",
    "https://towardsdatascience.com/a-practical-guide-on-missing-values-with-pandas-8fb3e0b46c24\n",
    "\n",
    "https://towardsdatascience.com/handling-missing-values-the-exclusive-pythonic-guide-9aa883835655\n"
   ]
  },
  {
   "cell_type": "code",
   "execution_count": null,
   "metadata": {},
   "outputs": [],
   "source": [
    "df_traffic_android = df_traffic_android.replace(['0', 0], np.nan)\n"
   ]
  },
  {
   "cell_type": "code",
   "execution_count": null,
   "metadata": {},
   "outputs": [],
   "source": [
    "df_traffic_android_nan = df_traffic_android[(df_traffic_android[\"Review\"].isna())|(df_traffic_android[\"Shipping\"].isna())]\n",
    "df_traffic_android_nan"
   ]
  },
  {
   "cell_type": "code",
   "execution_count": null,
   "metadata": {},
   "outputs": [],
   "source": [
    "kinds = ('linear', 'index', 'pad', 'values', 'nearest', 'zero', 'slinear',\n",
    "         'quadratic', 'cubic', 'barycentric', 'krogh', 'akima',\n",
    "         'from_derivatives', 'pchip', 'spline', 'polynomial')\n",
    "traffic_data_A_int = df_traffic_android.interpolate()"
   ]
  },
  {
   "cell_type": "code",
   "execution_count": null,
   "metadata": {},
   "outputs": [],
   "source": [
    "tt=traffic_data_A_int[traffic_data_A_int['Months']==\"December-2019\"]\n",
    "tt[tt['Weekday']==\"Friday\"]"
   ]
  },
  {
   "cell_type": "code",
   "execution_count": null,
   "metadata": {},
   "outputs": [],
   "source": [
    "df_traffic_android['2019-03':'2019-08'][cols_etapas].plot( marker='.', alpha=0.5, linestyle='-',sharey=\"all\",figsize=(20, 10)).set_title(\"ANDROID-Etapas\")\n",
    "df_traffic_android['2019-03':'2019-08'][cols_indices].plot( marker='.', alpha=0.5, linestyle='-',sharey=\"all\", figsize=(20, 10)).set_title(\"ANDROID-Indices\")"
   ]
  },
  {
   "cell_type": "code",
   "execution_count": null,
   "metadata": {},
   "outputs": [],
   "source": [
    "traffic_data_A_int['2019-12'][cols_etapas].plot( marker='.', alpha=0.5, linestyle='-',sharey=\"all\", figsize=(20, 10)).set_title(\"ANDROID INTERP-Etapas\")\n",
    "traffic_data_A_int['2019-12'][cols_indices].plot( marker='.', alpha=0.5, linestyle='-',sharey=\"all\", figsize=(20, 10)).set_title(\"ANDROID INTERP-Indices\")"
   ]
  },
  {
   "cell_type": "code",
   "execution_count": null,
   "metadata": {},
   "outputs": [],
   "source": [
    "#traffic_data_A_intC = df_traffic_android.interpolate(method='cubic')\n",
    "#traffic_data_A_intC[traffic_data_A_intC['Payments']==172472]"
   ]
  },
  {
   "cell_type": "code",
   "execution_count": null,
   "metadata": {
    "scrolled": true
   },
   "outputs": [],
   "source": [
    "#traffic_data_A_intP = df_traffic_android.interpolate(method='polynomial', order=3 )\n",
    "#traffic_data_A_intP[traffic_data_A_intP['Payments']==172472]"
   ]
  },
  {
   "cell_type": "markdown",
   "metadata": {},
   "source": [
    "Tanto la interpolación cúbica como la polinomial de 3er orden fueron descartadas dado que los valores imputados no eran lógicos. "
   ]
  },
  {
   "cell_type": "code",
   "execution_count": null,
   "metadata": {},
   "outputs": [],
   "source": [
    "#convertimos los ceros a nan\n",
    "df_traffic = df_traffic.replace(['0', 0], np.nan)"
   ]
  },
  {
   "cell_type": "code",
   "execution_count": null,
   "metadata": {},
   "outputs": [],
   "source": [
    "#interpolamos el data set completo de android y desktop\n",
    "df_traffic_int=df_traffic.interpolate()"
   ]
  },
  {
   "cell_type": "code",
   "execution_count": null,
   "metadata": {},
   "outputs": [],
   "source": [
    "#recalculamos las tasas de conversión entre las diferentes etapas de compra luego de haber interpolado\n",
    "df_traffic_int[\"Shipping-Payments\"] = df_traffic_int[\"Payments\"] / df_traffic_int[\"Shipping\"]\n",
    "df_traffic_int[\"Payments-Review\"] = df_traffic_int[\"Review\"] / df_traffic_int[\"Payments\"]\n",
    "df_traffic_int[\"Review-Congrats\"] = df_traffic_int[\"Congrats\"] / df_traffic_int[\"Review\"]\n",
    "df_traffic_int[\"Shipping-Congrats\"] = df_traffic_int[\"Congrats\"] / df_traffic_int[\"Shipping\"]"
   ]
  },
  {
   "cell_type": "code",
   "execution_count": null,
   "metadata": {},
   "outputs": [],
   "source": [
    "cols_indices"
   ]
  },
  {
   "cell_type": "code",
   "execution_count": null,
   "metadata": {
    "scrolled": true
   },
   "outputs": [],
   "source": [
    "cols_indices_log=['Shipping-Payments(log)',\n",
    " 'Payments-Review(log)',\n",
    " 'Review-Congrats(log)',\n",
    " 'Shipping-Congrats(log)']\n",
    "cols_indices_log"
   ]
  },
  {
   "cell_type": "code",
   "execution_count": null,
   "metadata": {},
   "outputs": [],
   "source": [
    "df_traffic[cols_indices_log] = np.log(df_traffic[cols_indices])"
   ]
  },
  {
   "cell_type": "code",
   "execution_count": null,
   "metadata": {},
   "outputs": [],
   "source": [
    "df_traffic_int[cols_indices_log] = np.log(df_traffic_int[cols_indices])"
   ]
  },
  {
   "cell_type": "code",
   "execution_count": null,
   "metadata": {},
   "outputs": [],
   "source": [
    "df_traffic_int.head()"
   ]
  },
  {
   "cell_type": "code",
   "execution_count": null,
   "metadata": {},
   "outputs": [],
   "source": [
    "# volvemos a definir los dos datasets de interes con las nuevas columnas\n",
    "df_traffic_int_desktop = df_traffic_int[df_traffic_int.Device==(\"Desktop\")]\n",
    "df_traffic_int_android = df_traffic_int[df_traffic_int.Device==(\"Android\")]"
   ]
  },
  {
   "cell_type": "code",
   "execution_count": null,
   "metadata": {},
   "outputs": [],
   "source": [
    "df_traffic[df_traffic_int[\"Device\"]==\"Android\"][cols_indices_log].plot( marker='.', alpha=0.5, linestyle='-',sharey=\"all\", figsize=(20, 10), ylim=[-1,0]).set_title(\"ANDROID - indices log\")\n",
    "df_traffic_int[df_traffic_int[\"Device\"]==\"Android\"][cols_indices_log].plot( marker='.', alpha=0.5, linestyle='-',sharey=\"all\", figsize=(20, 10),).set_title(\"ANDROID interpolada indices log\")"
   ]
  },
  {
   "cell_type": "code",
   "execution_count": null,
   "metadata": {},
   "outputs": [],
   "source": [
    "df_traffic[df_traffic_int[\"Device\"]==\"Desktop\"][cols_indices_log].plot( marker='.', alpha=0.5, linestyle='-',sharey=\"all\", figsize=(20, 10), ylim=[-1,0]).set_title(\"DESKTOP - indices log\")\n",
    "df_traffic_int[df_traffic_int[\"Device\"]==\"Desktop\"][cols_indices_log].plot( marker='.', alpha=0.5, linestyle='-',sharey=\"all\", figsize=(20, 10),).set_title(\"DESKTOP interpolada indices log\")"
   ]
  },
  {
   "cell_type": "code",
   "execution_count": null,
   "metadata": {},
   "outputs": [],
   "source": [
    "df_traffic[cols_indices_log].describe()"
   ]
  },
  {
   "cell_type": "code",
   "execution_count": null,
   "metadata": {},
   "outputs": [],
   "source": [
    "df_traffic_int[cols_indices_log].describe()"
   ]
  },
  {
   "cell_type": "code",
   "execution_count": null,
   "metadata": {},
   "outputs": [],
   "source": []
  }
 ],
 "metadata": {
  "kernelspec": {
   "display_name": "Python 3",
   "language": "python",
   "name": "python3"
  },
  "language_info": {
   "codemirror_mode": {
    "name": "ipython",
    "version": 3
   },
   "file_extension": ".py",
   "mimetype": "text/x-python",
   "name": "python",
   "nbconvert_exporter": "python",
   "pygments_lexer": "ipython3",
   "version": "3.8.10"
  }
 },
 "nbformat": 4,
 "nbformat_minor": 2
}
