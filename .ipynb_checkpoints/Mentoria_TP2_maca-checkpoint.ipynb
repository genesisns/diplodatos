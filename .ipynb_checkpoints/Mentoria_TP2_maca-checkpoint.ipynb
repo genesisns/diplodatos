{
 "cells": [
  {
   "cell_type": "markdown",
   "metadata": {
    "id": "FLNfSeZxhs_m"
   },
   "source": [
    "# 1. Trabajo Práctico N°2: de Analisis + Curación"
   ]
  },
  {
   "cell_type": "markdown",
   "metadata": {
    "id": "_RhjOElDhs_n"
   },
   "source": [
    "# Trabajo Práctico N°2: Análisis Exploratorio y Curación de Datos"
   ]
  },
  {
   "cell_type": "markdown",
   "metadata": {
    "id": "Ch-rvEmahs_n"
   },
   "source": [
    "## Introducción\n",
    "\n",
    "Este trabajo práctico intenta continúa la exploración de los datasets planteados en el [primer trabajo práctico](https://github.com/luisdvlpr/diplodatos2021-datasets/blob/main/TP1_Analisis_y_Visualizacion/enunciado_tp1_analisis_y_visualizacion.ipynb)\n",
    "\n",
    "En el primer práctico pudimos notar algunas características propias de las series temporales y en particular del dominio del comportamiento de un ecommerce genérico. Muchas de ellas son __series no estacionarias__, ya que la caracterización de estas distribuciones ( media, varianza ) cambian a través del tiempo y se observan ademas alguna tendencias. __Por otra parte se se distinguen patrones de estacionalidad, por ej. semanal__. \n",
    "\n",
    "Lo anterior trae __consecuencias__ directas en la selección de las metodologías adecuadas para abordar las problemáticas de tratamiento de __valores faltantes__, detección de __outliers__ y la construcción de __modelos predictivos__.\n",
    "\n",
    "Por otra parte, debe notarse que el tamaño de las economías de cada pais y la adopción de los hábitos de uso de estas plataformas en cada uno de ellos hace que el uso de cantidad de sesiones no sea una medida adecuada para compararles. Entonces, el análisis de estas series se centra por lo general en el cambio porcentual de los precios en vez del cambio en los valores absolutos. Esto resulta en que en vez de modelar los índices originales, previamente se habitúa realizar una __transformación logarítmica__ o trabajar con la __tasa de conversión__ a fin de expresarlos en un __único métrica que les caracterice__ para evitar distorsiones debidas a los tamaños de sus economías y hábitos de uso."
   ]
  },
  {
   "cell_type": "markdown",
   "metadata": {
    "id": "qTWMOQr4hs_r"
   },
   "source": [
    "# Consignas del trabajo práctico N°2\n",
    "\n",
    "El objetivo general del práctico es realizar algunas tareas de __preprocesamiento__ de los datos y luego __analizar las series obtenidas__ de dicho preprocesamiento en forma similar a la empleada en el TP1.\n",
    "\n",
    "Se proponen las siguientes actividades orientadoras, sin perjuicio de que se puedan incorporar análisis adicionales:\n",
    "\n",
    "#### Tratamiento de faltantes\n",
    "\n",
    "- Identificar valores perdidos, huecos en los datos ej: aquellos días para los que no hubo datos\n",
    "\n",
    "- Identificar aquellos valores \"sospechosos\", debido al dropout ( o perdida de sesiones) a medidas que avanzas en \n",
    "  las pantallas la cantidad de sesiones en la pantalla posterior es menor/igual al de su predecesora\n",
    "\n",
    "- Imputar los valores sospechoso con otros que tengan sentido dentro del dominio segun lo explicado en el punto anterior\n",
    "\n",
    "- Imputar los faltantes debidos a fallas de medición usando un algoritmo adecuado para series temporales, \n",
    "  por ejemplo splines, interpolaciones, valores de medias/medianas móviles por ventana de tiempo\n",
    "\n",
    "- Comparar los valores originales vs los imputados y juzgue si los valores se mantienen dentro de parametros aceptables, ¿Como justificaría que dichos valores imputados tienen sentido en su analisis?\n",
    "\n",
    "\n",
    "#### Transformaciones\n",
    "\n",
    "Obtener las siguientes series transformadas:\n",
    "\n",
    "- Los logaritmos naturales de los índices. \n",
    "\n",
    "- Las tasas de conversion.\n",
    "\n",
    "#### Exploración de las series transformadas\n",
    "\n",
    "Reutilizar parte del código del TP1 para analizar las series transformadas. En una primera etapa se puede trabajar con solo una de las series resultantes de tomar logaritmo natural y una serie de tasa de conversión.\n",
    "\n",
    "- Analizar las distribuciones por medio de gráficos y medidas de estadística descriptiva.\n",
    "\n",
    "- Dichas distribuciones, ¿se mantienen relativamente inalteradas en el tiempo?\n",
    "\n",
    "- ¿Hay outliers?\n",
    "\n",
    "- Estudiar la evolución temporal de las series. ¿En qué sentido tienden a moverse? ¿Tienden a moverse en forma conjunta?  ¿Siempre se da dicho patrón? ¿Hay períodos de crisis? En caso de que existan crisis / eventos , ¿Son globales o propias de sites individuales? \n",
    "\n",
    "- To Be defined: De ser definido, podemos establecer un grupo de control versus ls valores imputados y establecer \n",
    "  que tan buenos resultaron los métodos ejecutados para rellenar los valores respecto de los deseables\n",
    "\n",
    "#### Opcional\n",
    "- Graficar e interpretar las funciones de autocorrelación (ACF) y autocorrelación parcial (PACF).\n",
    "- Explorar la volatilidad de las series, por ejemplo graficando las desviaciones estándar móviles.\n",
    "\n",
    "## Fecha de entrega\n",
    "\n",
    "- __Versión preliminar: 03/07__ \n",
    "\n",
    "- __Version final: 07/07__\n",
    "\n",
    "## Condiciones de entrega\n",
    "\n",
    "Realizar un informe en el cual se presenten los resultados y conclusiones del análisis realizado. El mismo puede orientarse para un público técnico pero que desconoce los aspectos propios del problema como sus compañeros de clase. Dicho informe puede ser un notebook, a condición de que en el mismo se explique un análisis escrito suficientemente detallado de los resultados. \n"
   ]
  },
  {
   "cell_type": "markdown",
   "metadata": {
    "id": "FSOcMB7_hs_o"
   },
   "source": [
    "### ***1- CARGA DEL DATASET***"
   ]
  },
  {
   "cell_type": "code",
   "execution_count": 1,
   "metadata": {
    "id": "W9xRpKrfhs_p"
   },
   "outputs": [],
   "source": [
    "import numpy as np\n",
    "import pandas as pd\n",
    "import seaborn as sns\n",
    " \n",
    "%matplotlib inline\n",
    "import matplotlib.pyplot as plt"
   ]
  },
  {
   "cell_type": "code",
   "execution_count": 2,
   "metadata": {
    "id": "m29DC95rhs_p"
   },
   "outputs": [],
   "source": [
    "# some config\n",
    "\n",
    "plt.rcParams['figure.figsize'] = (12, 9)\n",
    "pd.options.display.float_format = '{:20,.2f}'.format #configuración para sacar la notación cientifica"
   ]
  },
  {
   "cell_type": "code",
   "execution_count": 3,
   "metadata": {
    "id": "h6wcW6zqhs_p"
   },
   "outputs": [],
   "source": [
    "data_orig = pd.read_csv(\n",
    "    'https://raw.githubusercontent.com/luisepifanio/diplodatos2021-datasets/main/TP2_Analisis_y_Curacion/datasets/traffic_AR_CL_UY.csv', \n",
    "    usecols = [\"Fecha\", \"flow\", \"Site\", \"Device\", \"Loading\", \"Shipping\", \"Payments\", \"Review\", \"Congrats\"], \n",
    "    parse_dates=[\"Fecha\"],index_col=[\"Fecha\"])\n",
    "traffic_data=data_orig.copy()"
   ]
  },
  {
   "cell_type": "code",
   "execution_count": 4,
   "metadata": {
    "id": "Pf2CJipbhs_q"
   },
   "outputs": [],
   "source": [
    "#filtramos los datos para trabajar solo con MLA, flujo directo, desktop y android\n",
    "\n",
    "traffic_data = traffic_data[traffic_data.Site==(\"MLA\")]\n",
    "traffic_data = traffic_data[traffic_data.flow==(\"direct\")]\n",
    "traffic_data = traffic_data[(traffic_data.Device==(\"Android\"))|(traffic_data.Device==(\"Desktop\"))]\n",
    "\n",
    "#agrupamos las columnas que sean etapas de compra de interés. \n",
    "cols_etapas = ['Shipping', 'Payments', 'Review', 'Congrats']"
   ]
  },
  {
   "cell_type": "markdown",
   "metadata": {
    "id": "3uNN2fC9hs_s"
   },
   "source": [
    "### ***2- DATOS FALTANTES***"
   ]
  },
  {
   "cell_type": "markdown",
   "metadata": {},
   "source": [
    "En un primer momento se identifica si el dataset incluye valores \"Not a number\". Esto puede haber sucedido por una falla en la medición, o por algún problema en el procesamiento de los mismos."
   ]
  },
  {
   "cell_type": "code",
   "execution_count": 5,
   "metadata": {
    "id": "_audyYk2hs_v",
    "outputId": "551fb10e-12ae-4812-d0c1-f31cb9a78afa",
    "scrolled": true
   },
   "outputs": [
    {
     "data": {
      "text/html": [
       "<div>\n",
       "<style scoped>\n",
       "    .dataframe tbody tr th:only-of-type {\n",
       "        vertical-align: middle;\n",
       "    }\n",
       "\n",
       "    .dataframe tbody tr th {\n",
       "        vertical-align: top;\n",
       "    }\n",
       "\n",
       "    .dataframe thead th {\n",
       "        text-align: right;\n",
       "    }\n",
       "</style>\n",
       "<table border=\"1\" class=\"dataframe\">\n",
       "  <thead>\n",
       "    <tr style=\"text-align: right;\">\n",
       "      <th></th>\n",
       "      <th>flow</th>\n",
       "      <th>Site</th>\n",
       "      <th>Loading</th>\n",
       "      <th>Shipping</th>\n",
       "      <th>Payments</th>\n",
       "      <th>Review</th>\n",
       "      <th>Congrats</th>\n",
       "    </tr>\n",
       "    <tr>\n",
       "      <th>Device</th>\n",
       "      <th></th>\n",
       "      <th></th>\n",
       "      <th></th>\n",
       "      <th></th>\n",
       "      <th></th>\n",
       "      <th></th>\n",
       "      <th></th>\n",
       "    </tr>\n",
       "  </thead>\n",
       "  <tbody>\n",
       "    <tr>\n",
       "      <th>Android</th>\n",
       "      <td>0</td>\n",
       "      <td>0</td>\n",
       "      <td>0</td>\n",
       "      <td>1</td>\n",
       "      <td>0</td>\n",
       "      <td>2</td>\n",
       "      <td>0</td>\n",
       "    </tr>\n",
       "    <tr>\n",
       "      <th>Desktop</th>\n",
       "      <td>0</td>\n",
       "      <td>0</td>\n",
       "      <td>0</td>\n",
       "      <td>0</td>\n",
       "      <td>0</td>\n",
       "      <td>0</td>\n",
       "      <td>0</td>\n",
       "    </tr>\n",
       "  </tbody>\n",
       "</table>\n",
       "</div>"
      ],
      "text/plain": [
       "         flow  Site  Loading  Shipping  Payments  Review  Congrats\n",
       "Device                                                            \n",
       "Android     0     0        0         1         0       2         0\n",
       "Desktop     0     0        0         0         0       0         0"
      ]
     },
     "execution_count": 5,
     "metadata": {},
     "output_type": "execute_result"
    }
   ],
   "source": [
    "#Datos faltantes según el tipo de DEVICE\n",
    "traffic_data.drop('Device', 1).isna().groupby(traffic_data.Device, sort=False).sum()"
   ]
  },
  {
   "cell_type": "markdown",
   "metadata": {
    "id": "7WHJ4pk_hs_u"
   },
   "source": [
    "Solo tres datos aparecen como faltantes en el dataset, dos de ellos en la etapa de review y uno en la etapa de shipping. Los tres pertenecen al device ANDROID. En DESKTOP no se presentan datos faltantes."
   ]
  },
  {
   "cell_type": "code",
   "execution_count": 6,
   "metadata": {
    "id": "8jjQDNmahs_u",
    "outputId": "c411f618-c834-4225-8ac4-a9eb76e4a25b"
   },
   "outputs": [
    {
     "data": {
      "text/html": [
       "<div>\n",
       "<style scoped>\n",
       "    .dataframe tbody tr th:only-of-type {\n",
       "        vertical-align: middle;\n",
       "    }\n",
       "\n",
       "    .dataframe tbody tr th {\n",
       "        vertical-align: top;\n",
       "    }\n",
       "\n",
       "    .dataframe thead th {\n",
       "        text-align: right;\n",
       "    }\n",
       "</style>\n",
       "<table border=\"1\" class=\"dataframe\">\n",
       "  <thead>\n",
       "    <tr style=\"text-align: right;\">\n",
       "      <th></th>\n",
       "      <th>flow</th>\n",
       "      <th>Site</th>\n",
       "      <th>Device</th>\n",
       "      <th>Loading</th>\n",
       "      <th>Shipping</th>\n",
       "      <th>Payments</th>\n",
       "      <th>Review</th>\n",
       "      <th>Congrats</th>\n",
       "    </tr>\n",
       "    <tr>\n",
       "      <th>Fecha</th>\n",
       "      <th></th>\n",
       "      <th></th>\n",
       "      <th></th>\n",
       "      <th></th>\n",
       "      <th></th>\n",
       "      <th></th>\n",
       "      <th></th>\n",
       "      <th></th>\n",
       "    </tr>\n",
       "  </thead>\n",
       "  <tbody>\n",
       "    <tr>\n",
       "      <th>2019-03-22</th>\n",
       "      <td>direct</td>\n",
       "      <td>MLA</td>\n",
       "      <td>Android</td>\n",
       "      <td>179146</td>\n",
       "      <td>169,846.00</td>\n",
       "      <td>138177</td>\n",
       "      <td>NaN</td>\n",
       "      <td>89890</td>\n",
       "    </tr>\n",
       "    <tr>\n",
       "      <th>2019-05-07</th>\n",
       "      <td>direct</td>\n",
       "      <td>MLA</td>\n",
       "      <td>Android</td>\n",
       "      <td>224056</td>\n",
       "      <td>NaN</td>\n",
       "      <td>172472</td>\n",
       "      <td>121,321.00</td>\n",
       "      <td>113250</td>\n",
       "    </tr>\n",
       "    <tr>\n",
       "      <th>2019-08-27</th>\n",
       "      <td>direct</td>\n",
       "      <td>MLA</td>\n",
       "      <td>Android</td>\n",
       "      <td>236701</td>\n",
       "      <td>223,993.00</td>\n",
       "      <td>180928</td>\n",
       "      <td>NaN</td>\n",
       "      <td>113464</td>\n",
       "    </tr>\n",
       "  </tbody>\n",
       "</table>\n",
       "</div>"
      ],
      "text/plain": [
       "              flow Site   Device  Loading             Shipping  Payments  \\\n",
       "Fecha                                                                      \n",
       "2019-03-22  direct  MLA  Android   179146           169,846.00    138177   \n",
       "2019-05-07  direct  MLA  Android   224056                  NaN    172472   \n",
       "2019-08-27  direct  MLA  Android   236701           223,993.00    180928   \n",
       "\n",
       "                         Review  Congrats  \n",
       "Fecha                                      \n",
       "2019-03-22                  NaN     89890  \n",
       "2019-05-07           121,321.00    113250  \n",
       "2019-08-27                  NaN    113464  "
      ]
     },
     "execution_count": 6,
     "metadata": {},
     "output_type": "execute_result"
    }
   ],
   "source": [
    "#localizamos los datos faltantes en el dataset original\n",
    "traffic_data[traffic_data['Shipping'].isnull()|traffic_data['Review'].isnull()]"
   ]
  },
  {
   "cell_type": "markdown",
   "metadata": {
    "id": "cuPswmtohs_v"
   },
   "source": [
    "Podemos identificar que los 3 datos faltantes corresponden a los devices Android sin estar correlacionados entre sí, con fechas diferentes en cada caso: 22 de Marzo, 7 de Mayo y 27 de Agosto de 2019."
   ]
  },
  {
   "cell_type": "markdown",
   "metadata": {
    "id": "H_QwrCUChs_v"
   },
   "source": [
    "### ***3- DATOS NULOS***"
   ]
  },
  {
   "cell_type": "markdown",
   "metadata": {},
   "source": [
    "Otro caso que puede surgir es que los valores del dataset no sean missing values, sino datos nulos, es decir, observaciones igualadas a cero. En este caso, y si no surge del conocimiento de dominio que esto sea correcto por algún hecho puntual, estos ceros deben ser identificados y luego imputados con valores acorde al dominio."
   ]
  },
  {
   "cell_type": "code",
   "execution_count": 7,
   "metadata": {
    "id": "-3FQuW-Ehs_v",
    "outputId": "2726f679-bb81-46c1-cff5-d0c8f3d20ace",
    "scrolled": true
   },
   "outputs": [
    {
     "data": {
      "text/plain": [
       "Loading     4\n",
       "Shipping    4\n",
       "Payments    4\n",
       "Review      4\n",
       "Congrats    4\n",
       "dtype: int64"
      ]
     },
     "execution_count": 7,
     "metadata": {},
     "output_type": "execute_result"
    }
   ],
   "source": [
    "#buscamos los datos nulos e identificamos en qué columnas se encuentran..\n",
    "cols_null = traffic_data[traffic_data == 0].count(axis=0)\n",
    "cols_null[cols_null > 0]"
   ]
  },
  {
   "cell_type": "code",
   "execution_count": 8,
   "metadata": {
    "id": "jCe1tzI2hs_w",
    "outputId": "82d2d61a-8759-4a36-d6aa-d7f1e0e9d69a",
    "scrolled": true
   },
   "outputs": [
    {
     "data": {
      "text/html": [
       "<div>\n",
       "<style scoped>\n",
       "    .dataframe tbody tr th:only-of-type {\n",
       "        vertical-align: middle;\n",
       "    }\n",
       "\n",
       "    .dataframe tbody tr th {\n",
       "        vertical-align: top;\n",
       "    }\n",
       "\n",
       "    .dataframe thead th {\n",
       "        text-align: right;\n",
       "    }\n",
       "</style>\n",
       "<table border=\"1\" class=\"dataframe\">\n",
       "  <thead>\n",
       "    <tr style=\"text-align: right;\">\n",
       "      <th></th>\n",
       "      <th>flow</th>\n",
       "      <th>Site</th>\n",
       "      <th>Device</th>\n",
       "      <th>Loading</th>\n",
       "      <th>Shipping</th>\n",
       "      <th>Payments</th>\n",
       "      <th>Review</th>\n",
       "      <th>Congrats</th>\n",
       "    </tr>\n",
       "    <tr>\n",
       "      <th>Fecha</th>\n",
       "      <th></th>\n",
       "      <th></th>\n",
       "      <th></th>\n",
       "      <th></th>\n",
       "      <th></th>\n",
       "      <th></th>\n",
       "      <th></th>\n",
       "      <th></th>\n",
       "    </tr>\n",
       "  </thead>\n",
       "  <tbody>\n",
       "    <tr>\n",
       "      <th>2019-12-05</th>\n",
       "      <td>direct</td>\n",
       "      <td>MLA</td>\n",
       "      <td>Android</td>\n",
       "      <td>0</td>\n",
       "      <td>0.00</td>\n",
       "      <td>0</td>\n",
       "      <td>0.00</td>\n",
       "      <td>0</td>\n",
       "    </tr>\n",
       "    <tr>\n",
       "      <th>2019-12-05</th>\n",
       "      <td>direct</td>\n",
       "      <td>MLA</td>\n",
       "      <td>Desktop</td>\n",
       "      <td>0</td>\n",
       "      <td>0.00</td>\n",
       "      <td>0</td>\n",
       "      <td>0.00</td>\n",
       "      <td>0</td>\n",
       "    </tr>\n",
       "    <tr>\n",
       "      <th>2019-12-06</th>\n",
       "      <td>direct</td>\n",
       "      <td>MLA</td>\n",
       "      <td>Android</td>\n",
       "      <td>0</td>\n",
       "      <td>0.00</td>\n",
       "      <td>0</td>\n",
       "      <td>0.00</td>\n",
       "      <td>0</td>\n",
       "    </tr>\n",
       "    <tr>\n",
       "      <th>2019-12-06</th>\n",
       "      <td>direct</td>\n",
       "      <td>MLA</td>\n",
       "      <td>Desktop</td>\n",
       "      <td>0</td>\n",
       "      <td>0.00</td>\n",
       "      <td>0</td>\n",
       "      <td>0.00</td>\n",
       "      <td>0</td>\n",
       "    </tr>\n",
       "  </tbody>\n",
       "</table>\n",
       "</div>"
      ],
      "text/plain": [
       "              flow Site   Device  Loading             Shipping  Payments  \\\n",
       "Fecha                                                                      \n",
       "2019-12-05  direct  MLA  Android        0                 0.00         0   \n",
       "2019-12-05  direct  MLA  Desktop        0                 0.00         0   \n",
       "2019-12-06  direct  MLA  Android        0                 0.00         0   \n",
       "2019-12-06  direct  MLA  Desktop        0                 0.00         0   \n",
       "\n",
       "                         Review  Congrats  \n",
       "Fecha                                      \n",
       "2019-12-05                 0.00         0  \n",
       "2019-12-05                 0.00         0  \n",
       "2019-12-06                 0.00         0  \n",
       "2019-12-06                 0.00         0  "
      ]
     },
     "execution_count": 8,
     "metadata": {},
     "output_type": "execute_result"
    }
   ],
   "source": [
    "#buscamos en el data set el conjunto de datos correspondientes a los casos donde se encuentran los valores nulos\n",
    "columns = traffic_data.columns.tolist()\n",
    "columns\n",
    "traffic_data_null = traffic_data[(traffic_data.iloc[:,:] == 0).any(axis=1)]\n",
    "traffic_data_null"
   ]
  },
  {
   "cell_type": "markdown",
   "metadata": {
    "id": "TXSSfpgbhs_w"
   },
   "source": [
    "Podemos afirmar que solo hay dos fechas con valores iguales a 0. Ambos se corresponden a los mismos días tanto para Android como para Desktop: 5 y 6 de Diciembre de 2019. Dos días consecutivos.\n",
    "En ambos casos, todas las etapas son 0, por ello los convertiremos en Nan y luego los imputaremos."
   ]
  },
  {
   "cell_type": "code",
   "execution_count": 9,
   "metadata": {
    "id": "P5m-zREvhs_w"
   },
   "outputs": [],
   "source": [
    "#Reemplazamos los valos nulos por nan\n",
    "traffic_data = traffic_data.replace(['0', 0], np.nan)"
   ]
  },
  {
   "cell_type": "code",
   "execution_count": 10,
   "metadata": {
    "scrolled": true
   },
   "outputs": [
    {
     "data": {
      "text/html": [
       "<div>\n",
       "<style scoped>\n",
       "    .dataframe tbody tr th:only-of-type {\n",
       "        vertical-align: middle;\n",
       "    }\n",
       "\n",
       "    .dataframe tbody tr th {\n",
       "        vertical-align: top;\n",
       "    }\n",
       "\n",
       "    .dataframe thead th {\n",
       "        text-align: right;\n",
       "    }\n",
       "</style>\n",
       "<table border=\"1\" class=\"dataframe\">\n",
       "  <thead>\n",
       "    <tr style=\"text-align: right;\">\n",
       "      <th></th>\n",
       "      <th>flow</th>\n",
       "      <th>Site</th>\n",
       "      <th>Device</th>\n",
       "      <th>Loading</th>\n",
       "      <th>Shipping</th>\n",
       "      <th>Payments</th>\n",
       "      <th>Review</th>\n",
       "      <th>Congrats</th>\n",
       "    </tr>\n",
       "    <tr>\n",
       "      <th>Fecha</th>\n",
       "      <th></th>\n",
       "      <th></th>\n",
       "      <th></th>\n",
       "      <th></th>\n",
       "      <th></th>\n",
       "      <th></th>\n",
       "      <th></th>\n",
       "      <th></th>\n",
       "    </tr>\n",
       "  </thead>\n",
       "  <tbody>\n",
       "    <tr>\n",
       "      <th>2019-12-05</th>\n",
       "      <td>direct</td>\n",
       "      <td>MLA</td>\n",
       "      <td>Android</td>\n",
       "      <td>NaN</td>\n",
       "      <td>NaN</td>\n",
       "      <td>NaN</td>\n",
       "      <td>NaN</td>\n",
       "      <td>NaN</td>\n",
       "    </tr>\n",
       "    <tr>\n",
       "      <th>2019-12-05</th>\n",
       "      <td>direct</td>\n",
       "      <td>MLA</td>\n",
       "      <td>Desktop</td>\n",
       "      <td>NaN</td>\n",
       "      <td>NaN</td>\n",
       "      <td>NaN</td>\n",
       "      <td>NaN</td>\n",
       "      <td>NaN</td>\n",
       "    </tr>\n",
       "    <tr>\n",
       "      <th>2019-12-06</th>\n",
       "      <td>direct</td>\n",
       "      <td>MLA</td>\n",
       "      <td>Android</td>\n",
       "      <td>NaN</td>\n",
       "      <td>NaN</td>\n",
       "      <td>NaN</td>\n",
       "      <td>NaN</td>\n",
       "      <td>NaN</td>\n",
       "    </tr>\n",
       "    <tr>\n",
       "      <th>2019-12-06</th>\n",
       "      <td>direct</td>\n",
       "      <td>MLA</td>\n",
       "      <td>Desktop</td>\n",
       "      <td>NaN</td>\n",
       "      <td>NaN</td>\n",
       "      <td>NaN</td>\n",
       "      <td>NaN</td>\n",
       "      <td>NaN</td>\n",
       "    </tr>\n",
       "  </tbody>\n",
       "</table>\n",
       "</div>"
      ],
      "text/plain": [
       "              flow Site   Device  Loading  Shipping  Payments  Review  \\\n",
       "Fecha                                                                   \n",
       "2019-12-05  direct  MLA  Android      NaN       NaN       NaN     NaN   \n",
       "2019-12-05  direct  MLA  Desktop      NaN       NaN       NaN     NaN   \n",
       "2019-12-06  direct  MLA  Android      NaN       NaN       NaN     NaN   \n",
       "2019-12-06  direct  MLA  Desktop      NaN       NaN       NaN     NaN   \n",
       "\n",
       "            Congrats  \n",
       "Fecha                 \n",
       "2019-12-05       NaN  \n",
       "2019-12-05       NaN  \n",
       "2019-12-06       NaN  \n",
       "2019-12-06       NaN  "
      ]
     },
     "execution_count": 10,
     "metadata": {},
     "output_type": "execute_result"
    }
   ],
   "source": [
    "#verificamos\n",
    "traffic_data['2019-12-05':'2019-12-06']"
   ]
  },
  {
   "cell_type": "markdown",
   "metadata": {},
   "source": [
    "####  ***4- VALORES PERDIDOS***"
   ]
  },
  {
   "cell_type": "markdown",
   "metadata": {},
   "source": [
    "Otra instancia en la limpieza y el preprocesamiento de datos cuando se trabaja con series de tiempo implica identificar si la serie saltea una o más fechas. "
   ]
  },
  {
   "cell_type": "code",
   "execution_count": 11,
   "metadata": {},
   "outputs": [
    {
     "name": "stdout",
     "output_type": "stream",
     "text": [
      "El periodo de tiempo analizado es de 488 días.\n",
      "En Android tenemos: 488 y en Desktop: 488 por lo que concluímos que los datasets de ambos devices estan completos\n"
     ]
    }
   ],
   "source": [
    "traffic_data_android = traffic_data[traffic_data.Device==(\"Android\")]\n",
    "traffic_data_desktop = traffic_data[traffic_data.Device==(\"Desktop\")]\n",
    "\n",
    "traffic_data_len = traffic_data.index.nunique()\n",
    "print(\"El periodo de tiempo analizado es de\",  traffic_data_len , \"días.\")\n",
    "\n",
    "traffic_data_len_android = len(traffic_data_android.index)\n",
    "traffic_data_len_desktop = len(traffic_data_android.index)\n",
    "\n",
    "print(\"En Android tenemos:\", traffic_data_len_android,\"y en Desktop:\", traffic_data_len_desktop, \"por lo que concluímos que los datasets de ambos devices estan completos\")"
   ]
  },
  {
   "cell_type": "markdown",
   "metadata": {},
   "source": [
    "### ***5- DATOS SOSPECHOSOS***"
   ]
  },
  {
   "cell_type": "markdown",
   "metadata": {},
   "source": [
    "Habiendo ya identificado los valores problemáticos más evidentes, analizaremos las series de datos para identificar valores sospechosos, ya con conocimiento de dominio.\n",
    "En primer lugar se verá si existen fechas en las cuales la lógica de funnel no se cumple, es decir, que en una etapa posterior del proceso de compra se cuenta con más transacciones que en una etapa anterior. Para ello se calculan las tasas de conversión entre las etapas y se verifica si hay alguna superior a uno."
   ]
  },
  {
   "cell_type": "code",
   "execution_count": 12,
   "metadata": {},
   "outputs": [],
   "source": [
    "#agregamos columnas relativas a las tasas de conversión entre las diferentes etapas de compra\n",
    "\n",
    "#no agregaría las columnas de los índices hasta no imputar los valores NaN, así tenemos menos datos que imputar\n",
    "\n",
    "df_traffic=traffic_data.copy()\n",
    "df_traffic[\"Shipping-Payments\"] = df_traffic[\"Payments\"] / df_traffic[\"Shipping\"]\n",
    "df_traffic[\"Payments-Review\"] = df_traffic[\"Review\"] / df_traffic[\"Payments\"]\n",
    "df_traffic[\"Review-Congrats\"] = df_traffic[\"Congrats\"] / df_traffic[\"Review\"]\n",
    "df_traffic[\"Shipping-Congrats\"] = df_traffic[\"Congrats\"] / df_traffic[\"Shipping\"]\n",
    "\n",
    "#agrupamos las columnas de índices para evaluar su comportamiento por separado de las etapas\n",
    "cols_indices = ['Shipping-Payments', 'Payments-Review', 'Review-Congrats', 'Shipping-Congrats']\n",
    "\n",
    "#agregamos columnas relativas a las fechas ya que nos interesa el comportamiento temporal\n",
    "df_traffic[\"Weekday\"] = df_traffic.index.day_name()\n",
    "df_traffic[\"Month\"] = df_traffic.index.month_name()\n",
    "df_traffic[\"Year\"] = df_traffic.index.year\n",
    "new = df_traffic[\"Month\"].copy().astype(str)\n",
    "new1 = df_traffic[\"Year\"].copy().astype(str)\n",
    "df_traffic[\"Months\"]= new.str.cat(new1, sep =\"-\")\n",
    "\n",
    "# volvemos a definir los dos datasets de interes con las nuevas columnas\n",
    "df_traffic_desktop = df_traffic[df_traffic.Device==(\"Desktop\")]\n",
    "df_traffic_android = df_traffic[df_traffic.Device==(\"Android\")]"
   ]
  },
  {
   "cell_type": "code",
   "execution_count": 13,
   "metadata": {
    "id": "33s2aH6hhs_w",
    "outputId": "c3239ba0-56be-40f7-8824-aa2b8e7886c3"
   },
   "outputs": [
    {
     "data": {
      "text/html": [
       "<div>\n",
       "<style scoped>\n",
       "    .dataframe tbody tr th:only-of-type {\n",
       "        vertical-align: middle;\n",
       "    }\n",
       "\n",
       "    .dataframe tbody tr th {\n",
       "        vertical-align: top;\n",
       "    }\n",
       "\n",
       "    .dataframe thead th {\n",
       "        text-align: right;\n",
       "    }\n",
       "</style>\n",
       "<table border=\"1\" class=\"dataframe\">\n",
       "  <thead>\n",
       "    <tr style=\"text-align: right;\">\n",
       "      <th></th>\n",
       "      <th>flow</th>\n",
       "      <th>Site</th>\n",
       "      <th>Device</th>\n",
       "      <th>Loading</th>\n",
       "      <th>Shipping</th>\n",
       "      <th>Payments</th>\n",
       "      <th>Review</th>\n",
       "      <th>Congrats</th>\n",
       "      <th>Shipping-Payments</th>\n",
       "      <th>Payments-Review</th>\n",
       "      <th>Review-Congrats</th>\n",
       "      <th>Shipping-Congrats</th>\n",
       "      <th>Weekday</th>\n",
       "      <th>Month</th>\n",
       "      <th>Year</th>\n",
       "      <th>Months</th>\n",
       "    </tr>\n",
       "    <tr>\n",
       "      <th>Fecha</th>\n",
       "      <th></th>\n",
       "      <th></th>\n",
       "      <th></th>\n",
       "      <th></th>\n",
       "      <th></th>\n",
       "      <th></th>\n",
       "      <th></th>\n",
       "      <th></th>\n",
       "      <th></th>\n",
       "      <th></th>\n",
       "      <th></th>\n",
       "      <th></th>\n",
       "      <th></th>\n",
       "      <th></th>\n",
       "      <th></th>\n",
       "      <th></th>\n",
       "    </tr>\n",
       "  </thead>\n",
       "  <tbody>\n",
       "  </tbody>\n",
       "</table>\n",
       "</div>"
      ],
      "text/plain": [
       "Empty DataFrame\n",
       "Columns: [flow, Site, Device, Loading, Shipping, Payments, Review, Congrats, Shipping-Payments, Payments-Review, Review-Congrats, Shipping-Congrats, Weekday, Month, Year, Months]\n",
       "Index: []"
      ]
     },
     "execution_count": 13,
     "metadata": {},
     "output_type": "execute_result"
    }
   ],
   "source": [
    "#Buscamos en el dataset observaciones que no cumplan con la lógica del funnel, que presenten en una etapa previa menos\n",
    "#observaciones que en una posterior\n",
    "columns = df_traffic.columns.tolist()\n",
    "columns\n",
    "df_traffic_sospechoso = df_traffic[(df_traffic[cols_indices].iloc[:,:] > 1).any(axis=1)]\n",
    "df_traffic_sospechoso"
   ]
  },
  {
   "cell_type": "markdown",
   "metadata": {},
   "source": [
    "Como se puede observar en la última celda, no se identificaron casos en los cuales una tasa de conversión fuera superior a uno. Es por ello que procederemos a analizar si existen outliers en el dataset que deban ser tratados."
   ]
  },
  {
   "cell_type": "code",
   "execution_count": 14,
   "metadata": {},
   "outputs": [
    {
     "data": {
      "text/html": [
       "<div>\n",
       "<style scoped>\n",
       "    .dataframe tbody tr th:only-of-type {\n",
       "        vertical-align: middle;\n",
       "    }\n",
       "\n",
       "    .dataframe tbody tr th {\n",
       "        vertical-align: top;\n",
       "    }\n",
       "\n",
       "    .dataframe thead th {\n",
       "        text-align: right;\n",
       "    }\n",
       "</style>\n",
       "<table border=\"1\" class=\"dataframe\">\n",
       "  <thead>\n",
       "    <tr style=\"text-align: right;\">\n",
       "      <th></th>\n",
       "      <th>Loading</th>\n",
       "      <th>Shipping</th>\n",
       "      <th>Payments</th>\n",
       "      <th>Review</th>\n",
       "      <th>Congrats</th>\n",
       "      <th>Shipping-Payments</th>\n",
       "      <th>Payments-Review</th>\n",
       "      <th>Review-Congrats</th>\n",
       "      <th>Shipping-Congrats</th>\n",
       "      <th>Year</th>\n",
       "    </tr>\n",
       "  </thead>\n",
       "  <tbody>\n",
       "    <tr>\n",
       "      <th>count</th>\n",
       "      <td>972.00</td>\n",
       "      <td>971.00</td>\n",
       "      <td>972.00</td>\n",
       "      <td>970.00</td>\n",
       "      <td>972.00</td>\n",
       "      <td>971.00</td>\n",
       "      <td>970.00</td>\n",
       "      <td>970.00</td>\n",
       "      <td>971.00</td>\n",
       "      <td>976.00</td>\n",
       "    </tr>\n",
       "    <tr>\n",
       "      <th>mean</th>\n",
       "      <td>192,955.77</td>\n",
       "      <td>181,541.90</td>\n",
       "      <td>148,428.32</td>\n",
       "      <td>103,622.26</td>\n",
       "      <td>97,196.05</td>\n",
       "      <td>0.82</td>\n",
       "      <td>0.71</td>\n",
       "      <td>0.95</td>\n",
       "      <td>0.56</td>\n",
       "      <td>2,019.37</td>\n",
       "    </tr>\n",
       "    <tr>\n",
       "      <th>std</th>\n",
       "      <td>109,318.01</td>\n",
       "      <td>102,431.53</td>\n",
       "      <td>82,304.53</td>\n",
       "      <td>54,368.80</td>\n",
       "      <td>49,451.14</td>\n",
       "      <td>0.04</td>\n",
       "      <td>0.06</td>\n",
       "      <td>0.03</td>\n",
       "      <td>0.08</td>\n",
       "      <td>0.48</td>\n",
       "    </tr>\n",
       "    <tr>\n",
       "      <th>min</th>\n",
       "      <td>30,819.00</td>\n",
       "      <td>28,722.00</td>\n",
       "      <td>3,823.00</td>\n",
       "      <td>2,597.00</td>\n",
       "      <td>2,538.00</td>\n",
       "      <td>0.03</td>\n",
       "      <td>0.50</td>\n",
       "      <td>0.86</td>\n",
       "      <td>0.02</td>\n",
       "      <td>2,019.00</td>\n",
       "    </tr>\n",
       "    <tr>\n",
       "      <th>25%</th>\n",
       "      <td>121,197.25</td>\n",
       "      <td>114,433.00</td>\n",
       "      <td>96,055.25</td>\n",
       "      <td>71,472.25</td>\n",
       "      <td>68,528.50</td>\n",
       "      <td>0.81</td>\n",
       "      <td>0.67</td>\n",
       "      <td>0.92</td>\n",
       "      <td>0.49</td>\n",
       "      <td>2,019.00</td>\n",
       "    </tr>\n",
       "    <tr>\n",
       "      <th>50%</th>\n",
       "      <td>171,517.00</td>\n",
       "      <td>162,331.00</td>\n",
       "      <td>130,287.50</td>\n",
       "      <td>90,169.50</td>\n",
       "      <td>85,017.00</td>\n",
       "      <td>0.82</td>\n",
       "      <td>0.71</td>\n",
       "      <td>0.94</td>\n",
       "      <td>0.55</td>\n",
       "      <td>2,019.00</td>\n",
       "    </tr>\n",
       "    <tr>\n",
       "      <th>75%</th>\n",
       "      <td>247,064.25</td>\n",
       "      <td>234,561.00</td>\n",
       "      <td>189,188.00</td>\n",
       "      <td>133,115.75</td>\n",
       "      <td>124,910.25</td>\n",
       "      <td>0.85</td>\n",
       "      <td>0.77</td>\n",
       "      <td>0.97</td>\n",
       "      <td>0.63</td>\n",
       "      <td>2,020.00</td>\n",
       "    </tr>\n",
       "    <tr>\n",
       "      <th>max</th>\n",
       "      <td>563,592.00</td>\n",
       "      <td>537,723.00</td>\n",
       "      <td>444,330.00</td>\n",
       "      <td>286,162.00</td>\n",
       "      <td>264,742.00</td>\n",
       "      <td>0.88</td>\n",
       "      <td>0.81</td>\n",
       "      <td>1.00</td>\n",
       "      <td>0.68</td>\n",
       "      <td>2,020.00</td>\n",
       "    </tr>\n",
       "  </tbody>\n",
       "</table>\n",
       "</div>"
      ],
      "text/plain": [
       "                   Loading             Shipping             Payments  \\\n",
       "count               972.00               971.00               972.00   \n",
       "mean            192,955.77           181,541.90           148,428.32   \n",
       "std             109,318.01           102,431.53            82,304.53   \n",
       "min              30,819.00            28,722.00             3,823.00   \n",
       "25%             121,197.25           114,433.00            96,055.25   \n",
       "50%             171,517.00           162,331.00           130,287.50   \n",
       "75%             247,064.25           234,561.00           189,188.00   \n",
       "max             563,592.00           537,723.00           444,330.00   \n",
       "\n",
       "                    Review             Congrats    Shipping-Payments  \\\n",
       "count               970.00               972.00               971.00   \n",
       "mean            103,622.26            97,196.05                 0.82   \n",
       "std              54,368.80            49,451.14                 0.04   \n",
       "min               2,597.00             2,538.00                 0.03   \n",
       "25%              71,472.25            68,528.50                 0.81   \n",
       "50%              90,169.50            85,017.00                 0.82   \n",
       "75%             133,115.75           124,910.25                 0.85   \n",
       "max             286,162.00           264,742.00                 0.88   \n",
       "\n",
       "           Payments-Review      Review-Congrats    Shipping-Congrats  \\\n",
       "count               970.00               970.00               971.00   \n",
       "mean                  0.71                 0.95                 0.56   \n",
       "std                   0.06                 0.03                 0.08   \n",
       "min                   0.50                 0.86                 0.02   \n",
       "25%                   0.67                 0.92                 0.49   \n",
       "50%                   0.71                 0.94                 0.55   \n",
       "75%                   0.77                 0.97                 0.63   \n",
       "max                   0.81                 1.00                 0.68   \n",
       "\n",
       "                      Year  \n",
       "count               976.00  \n",
       "mean              2,019.37  \n",
       "std                   0.48  \n",
       "min               2,019.00  \n",
       "25%               2,019.00  \n",
       "50%               2,019.00  \n",
       "75%               2,020.00  \n",
       "max               2,020.00  "
      ]
     },
     "execution_count": 14,
     "metadata": {},
     "output_type": "execute_result"
    }
   ],
   "source": [
    "df_traffic.describe()"
   ]
  },
  {
   "cell_type": "markdown",
   "metadata": {},
   "source": [
    "Llaman la atención los valores mínimos de las etapas Payments, Review y Congrats, ya que son sustancialmente superior a los valores normales para estas transacciones. A continuación ubicamos los mismos temporalmente."
   ]
  },
  {
   "cell_type": "code",
   "execution_count": 15,
   "metadata": {
    "scrolled": true
   },
   "outputs": [
    {
     "data": {
      "text/html": [
       "<div>\n",
       "<style scoped>\n",
       "    .dataframe tbody tr th:only-of-type {\n",
       "        vertical-align: middle;\n",
       "    }\n",
       "\n",
       "    .dataframe tbody tr th {\n",
       "        vertical-align: top;\n",
       "    }\n",
       "\n",
       "    .dataframe thead th {\n",
       "        text-align: right;\n",
       "    }\n",
       "</style>\n",
       "<table border=\"1\" class=\"dataframe\">\n",
       "  <thead>\n",
       "    <tr style=\"text-align: right;\">\n",
       "      <th></th>\n",
       "      <th>flow</th>\n",
       "      <th>Site</th>\n",
       "      <th>Device</th>\n",
       "      <th>Loading</th>\n",
       "      <th>Shipping</th>\n",
       "      <th>Payments</th>\n",
       "      <th>Review</th>\n",
       "      <th>Congrats</th>\n",
       "      <th>Shipping-Payments</th>\n",
       "      <th>Payments-Review</th>\n",
       "      <th>Review-Congrats</th>\n",
       "      <th>Shipping-Congrats</th>\n",
       "      <th>Weekday</th>\n",
       "      <th>Month</th>\n",
       "      <th>Year</th>\n",
       "      <th>Months</th>\n",
       "    </tr>\n",
       "    <tr>\n",
       "      <th>Fecha</th>\n",
       "      <th></th>\n",
       "      <th></th>\n",
       "      <th></th>\n",
       "      <th></th>\n",
       "      <th></th>\n",
       "      <th></th>\n",
       "      <th></th>\n",
       "      <th></th>\n",
       "      <th></th>\n",
       "      <th></th>\n",
       "      <th></th>\n",
       "      <th></th>\n",
       "      <th></th>\n",
       "      <th></th>\n",
       "      <th></th>\n",
       "      <th></th>\n",
       "    </tr>\n",
       "  </thead>\n",
       "  <tbody>\n",
       "    <tr>\n",
       "      <th>2019-12-04</th>\n",
       "      <td>direct</td>\n",
       "      <td>MLA</td>\n",
       "      <td>Desktop</td>\n",
       "      <td>146,932.00</td>\n",
       "      <td>138,124.00</td>\n",
       "      <td>3,823.00</td>\n",
       "      <td>2,597.00</td>\n",
       "      <td>2,538.00</td>\n",
       "      <td>0.03</td>\n",
       "      <td>0.68</td>\n",
       "      <td>0.98</td>\n",
       "      <td>0.02</td>\n",
       "      <td>Wednesday</td>\n",
       "      <td>December</td>\n",
       "      <td>2019</td>\n",
       "      <td>December-2019</td>\n",
       "    </tr>\n",
       "  </tbody>\n",
       "</table>\n",
       "</div>"
      ],
      "text/plain": [
       "              flow Site   Device              Loading             Shipping  \\\n",
       "Fecha                                                                        \n",
       "2019-12-04  direct  MLA  Desktop           146,932.00           138,124.00   \n",
       "\n",
       "                       Payments               Review             Congrats  \\\n",
       "Fecha                                                                       \n",
       "2019-12-04             3,823.00             2,597.00             2,538.00   \n",
       "\n",
       "              Shipping-Payments      Payments-Review      Review-Congrats  \\\n",
       "Fecha                                                                       \n",
       "2019-12-04                 0.03                 0.68                 0.98   \n",
       "\n",
       "              Shipping-Congrats    Weekday     Month  Year         Months  \n",
       "Fecha                                                                      \n",
       "2019-12-04                 0.02  Wednesday  December  2019  December-2019  "
      ]
     },
     "execution_count": 15,
     "metadata": {},
     "output_type": "execute_result"
    }
   ],
   "source": [
    "df_traffic[(df_traffic['Payments']<4000)|(df_traffic['Review']<2600)|(df_traffic['Congrats']<2600)]"
   ]
  },
  {
   "cell_type": "markdown",
   "metadata": {},
   "source": [
    "Todos estos valores atípicos se dieron el 4 de ciciembre de 2019, un día antes de que el dataset presentara datos nulos en todas sus etapas durante dos días. En el siguiente boxplot puede verse que los mismos son outliers y, por consiguiente, se procederá a reemplazarlos por valores nulos para su posterior imputación."
   ]
  },
  {
   "cell_type": "code",
   "execution_count": 16,
   "metadata": {},
   "outputs": [
    {
     "data": {
      "text/plain": [
       "Text(0.5, 1.0, 'Etapas')"
      ]
     },
     "execution_count": 16,
     "metadata": {},
     "output_type": "execute_result"
    },
    {
     "data": {
      "image/png": "[encoded data removed]",
      "text/plain": [
       "<Figure size 1080x360 with 1 Axes>"
      ]
     },
     "metadata": {
      "needs_background": "light"
     },
     "output_type": "display_data"
    }
   ],
   "source": [
    "#Analizamos con un boxenplot si se trata de outliers\n",
    "plt.rcParams['figure.figsize'] = (15, 5)\n",
    "sns.boxenplot(data=df_traffic[cols_etapas], orient = \"h\", palette='hls')\n",
    "plt.title('Etapas', size=15)"
   ]
  },
  {
   "cell_type": "code",
   "execution_count": 17,
   "metadata": {},
   "outputs": [],
   "source": [
    "#Reemplazamos los valores minimos por NaNs\n",
    "df_traffic = df_traffic.replace([3823, 2597, 2538], np.nan)"
   ]
  },
  {
   "cell_type": "markdown",
   "metadata": {
    "id": "ayH59fMmhs_8"
   },
   "source": [
    "### ***6- IMPUTACIÓN DE VALORES FALTANTES/NULOS/ATÍPICOS**"
   ]
  },
  {
   "cell_type": "markdown",
   "metadata": {
    "id": "4YH8lANPhs_8"
   },
   "source": [
    "Para poder trabajar con las series, se procederá a imputar tanto los datos faltantes como los nulos. Para ello, se trabajará con la mediana de las dos semanas anteriores a la semana en la que se dan los valores faltantes y nulos. "
   ]
  },
  {
   "cell_type": "code",
   "execution_count": 18,
   "metadata": {},
   "outputs": [
    {
     "data": {
      "text/html": [
       "<div>\n",
       "<style scoped>\n",
       "    .dataframe tbody tr th:only-of-type {\n",
       "        vertical-align: middle;\n",
       "    }\n",
       "\n",
       "    .dataframe tbody tr th {\n",
       "        vertical-align: top;\n",
       "    }\n",
       "\n",
       "    .dataframe thead th {\n",
       "        text-align: right;\n",
       "    }\n",
       "</style>\n",
       "<table border=\"1\" class=\"dataframe\">\n",
       "  <thead>\n",
       "    <tr style=\"text-align: right;\">\n",
       "      <th></th>\n",
       "      <th>flow</th>\n",
       "      <th>Site</th>\n",
       "      <th>Device</th>\n",
       "      <th>Loading</th>\n",
       "      <th>Shipping</th>\n",
       "      <th>Payments</th>\n",
       "      <th>Review</th>\n",
       "      <th>Congrats</th>\n",
       "      <th>Shipping-Payments</th>\n",
       "      <th>Payments-Review</th>\n",
       "      <th>Review-Congrats</th>\n",
       "      <th>Shipping-Congrats</th>\n",
       "      <th>Weekday</th>\n",
       "      <th>Month</th>\n",
       "      <th>Year</th>\n",
       "      <th>Months</th>\n",
       "    </tr>\n",
       "    <tr>\n",
       "      <th>Device</th>\n",
       "      <th></th>\n",
       "      <th></th>\n",
       "      <th></th>\n",
       "      <th></th>\n",
       "      <th></th>\n",
       "      <th></th>\n",
       "      <th></th>\n",
       "      <th></th>\n",
       "      <th></th>\n",
       "      <th></th>\n",
       "      <th></th>\n",
       "      <th></th>\n",
       "      <th></th>\n",
       "      <th></th>\n",
       "      <th></th>\n",
       "      <th></th>\n",
       "    </tr>\n",
       "  </thead>\n",
       "  <tbody>\n",
       "    <tr>\n",
       "      <th>Android</th>\n",
       "      <td>0</td>\n",
       "      <td>0</td>\n",
       "      <td>0</td>\n",
       "      <td>2</td>\n",
       "      <td>3</td>\n",
       "      <td>2</td>\n",
       "      <td>4</td>\n",
       "      <td>2</td>\n",
       "      <td>3</td>\n",
       "      <td>4</td>\n",
       "      <td>4</td>\n",
       "      <td>3</td>\n",
       "      <td>0</td>\n",
       "      <td>0</td>\n",
       "      <td>0</td>\n",
       "      <td>0</td>\n",
       "    </tr>\n",
       "    <tr>\n",
       "      <th>Desktop</th>\n",
       "      <td>0</td>\n",
       "      <td>0</td>\n",
       "      <td>0</td>\n",
       "      <td>2</td>\n",
       "      <td>2</td>\n",
       "      <td>3</td>\n",
       "      <td>3</td>\n",
       "      <td>3</td>\n",
       "      <td>2</td>\n",
       "      <td>2</td>\n",
       "      <td>2</td>\n",
       "      <td>2</td>\n",
       "      <td>0</td>\n",
       "      <td>0</td>\n",
       "      <td>0</td>\n",
       "      <td>0</td>\n",
       "    </tr>\n",
       "  </tbody>\n",
       "</table>\n",
       "</div>"
      ],
      "text/plain": [
       "         flow  Site  Device  Loading  Shipping  Payments  Review  Congrats  \\\n",
       "Device                                                                       \n",
       "Android     0     0       0        2         3         2       4         2   \n",
       "Desktop     0     0       0        2         2         3       3         3   \n",
       "\n",
       "         Shipping-Payments  Payments-Review  Review-Congrats  \\\n",
       "Device                                                         \n",
       "Android                  3                4                4   \n",
       "Desktop                  2                2                2   \n",
       "\n",
       "         Shipping-Congrats  Weekday  Month  Year  Months  \n",
       "Device                                                    \n",
       "Android                  3        0      0     0       0  \n",
       "Desktop                  2        0      0     0       0  "
      ]
     },
     "execution_count": 18,
     "metadata": {},
     "output_type": "execute_result"
    }
   ],
   "source": [
    "df_traffic.isnull().groupby(df_traffic.Device).sum()"
   ]
  },
  {
   "cell_type": "markdown",
   "metadata": {},
   "source": [
    "#### ***Imputación en Android***"
   ]
  },
  {
   "cell_type": "code",
   "execution_count": 19,
   "metadata": {},
   "outputs": [
    {
     "data": {
      "text/html": [
       "<div>\n",
       "<style scoped>\n",
       "    .dataframe tbody tr th:only-of-type {\n",
       "        vertical-align: middle;\n",
       "    }\n",
       "\n",
       "    .dataframe tbody tr th {\n",
       "        vertical-align: top;\n",
       "    }\n",
       "\n",
       "    .dataframe thead th {\n",
       "        text-align: right;\n",
       "    }\n",
       "</style>\n",
       "<table border=\"1\" class=\"dataframe\">\n",
       "  <thead>\n",
       "    <tr style=\"text-align: right;\">\n",
       "      <th></th>\n",
       "      <th>flow</th>\n",
       "      <th>Site</th>\n",
       "      <th>Device</th>\n",
       "      <th>Loading</th>\n",
       "      <th>Shipping</th>\n",
       "      <th>Payments</th>\n",
       "      <th>Review</th>\n",
       "      <th>Congrats</th>\n",
       "      <th>Shipping-Payments</th>\n",
       "      <th>Payments-Review</th>\n",
       "      <th>Review-Congrats</th>\n",
       "      <th>Shipping-Congrats</th>\n",
       "      <th>Weekday</th>\n",
       "      <th>Month</th>\n",
       "      <th>Year</th>\n",
       "      <th>Months</th>\n",
       "    </tr>\n",
       "    <tr>\n",
       "      <th>Fecha</th>\n",
       "      <th></th>\n",
       "      <th></th>\n",
       "      <th></th>\n",
       "      <th></th>\n",
       "      <th></th>\n",
       "      <th></th>\n",
       "      <th></th>\n",
       "      <th></th>\n",
       "      <th></th>\n",
       "      <th></th>\n",
       "      <th></th>\n",
       "      <th></th>\n",
       "      <th></th>\n",
       "      <th></th>\n",
       "      <th></th>\n",
       "      <th></th>\n",
       "    </tr>\n",
       "  </thead>\n",
       "  <tbody>\n",
       "    <tr>\n",
       "      <th>2019-03-22</th>\n",
       "      <td>direct</td>\n",
       "      <td>MLA</td>\n",
       "      <td>Android</td>\n",
       "      <td>179,146.00</td>\n",
       "      <td>169,846.00</td>\n",
       "      <td>138,177.00</td>\n",
       "      <td>NaN</td>\n",
       "      <td>89,890.00</td>\n",
       "      <td>0.81</td>\n",
       "      <td>NaN</td>\n",
       "      <td>NaN</td>\n",
       "      <td>0.53</td>\n",
       "      <td>Friday</td>\n",
       "      <td>March</td>\n",
       "      <td>2019</td>\n",
       "      <td>March-2019</td>\n",
       "    </tr>\n",
       "    <tr>\n",
       "      <th>2019-08-27</th>\n",
       "      <td>direct</td>\n",
       "      <td>MLA</td>\n",
       "      <td>Android</td>\n",
       "      <td>236,701.00</td>\n",
       "      <td>223,993.00</td>\n",
       "      <td>180,928.00</td>\n",
       "      <td>NaN</td>\n",
       "      <td>113,464.00</td>\n",
       "      <td>0.81</td>\n",
       "      <td>NaN</td>\n",
       "      <td>NaN</td>\n",
       "      <td>0.51</td>\n",
       "      <td>Tuesday</td>\n",
       "      <td>August</td>\n",
       "      <td>2019</td>\n",
       "      <td>August-2019</td>\n",
       "    </tr>\n",
       "    <tr>\n",
       "      <th>2019-12-05</th>\n",
       "      <td>direct</td>\n",
       "      <td>MLA</td>\n",
       "      <td>Android</td>\n",
       "      <td>NaN</td>\n",
       "      <td>NaN</td>\n",
       "      <td>NaN</td>\n",
       "      <td>NaN</td>\n",
       "      <td>NaN</td>\n",
       "      <td>NaN</td>\n",
       "      <td>NaN</td>\n",
       "      <td>NaN</td>\n",
       "      <td>NaN</td>\n",
       "      <td>Thursday</td>\n",
       "      <td>December</td>\n",
       "      <td>2019</td>\n",
       "      <td>December-2019</td>\n",
       "    </tr>\n",
       "    <tr>\n",
       "      <th>2019-12-06</th>\n",
       "      <td>direct</td>\n",
       "      <td>MLA</td>\n",
       "      <td>Android</td>\n",
       "      <td>NaN</td>\n",
       "      <td>NaN</td>\n",
       "      <td>NaN</td>\n",
       "      <td>NaN</td>\n",
       "      <td>NaN</td>\n",
       "      <td>NaN</td>\n",
       "      <td>NaN</td>\n",
       "      <td>NaN</td>\n",
       "      <td>NaN</td>\n",
       "      <td>Friday</td>\n",
       "      <td>December</td>\n",
       "      <td>2019</td>\n",
       "      <td>December-2019</td>\n",
       "    </tr>\n",
       "  </tbody>\n",
       "</table>\n",
       "</div>"
      ],
      "text/plain": [
       "              flow Site   Device              Loading             Shipping  \\\n",
       "Fecha                                                                        \n",
       "2019-03-22  direct  MLA  Android           179,146.00           169,846.00   \n",
       "2019-08-27  direct  MLA  Android           236,701.00           223,993.00   \n",
       "2019-12-05  direct  MLA  Android                  NaN                  NaN   \n",
       "2019-12-06  direct  MLA  Android                  NaN                  NaN   \n",
       "\n",
       "                       Payments  Review             Congrats  \\\n",
       "Fecha                                                          \n",
       "2019-03-22           138,177.00     NaN            89,890.00   \n",
       "2019-08-27           180,928.00     NaN           113,464.00   \n",
       "2019-12-05                  NaN     NaN                  NaN   \n",
       "2019-12-06                  NaN     NaN                  NaN   \n",
       "\n",
       "              Shipping-Payments  Payments-Review  Review-Congrats  \\\n",
       "Fecha                                                               \n",
       "2019-03-22                 0.81              NaN              NaN   \n",
       "2019-08-27                 0.81              NaN              NaN   \n",
       "2019-12-05                  NaN              NaN              NaN   \n",
       "2019-12-06                  NaN              NaN              NaN   \n",
       "\n",
       "              Shipping-Congrats   Weekday     Month  Year         Months  \n",
       "Fecha                                                                     \n",
       "2019-03-22                 0.53    Friday     March  2019     March-2019  \n",
       "2019-08-27                 0.51   Tuesday    August  2019    August-2019  \n",
       "2019-12-05                  NaN  Thursday  December  2019  December-2019  \n",
       "2019-12-06                  NaN    Friday  December  2019  December-2019  "
      ]
     },
     "execution_count": 19,
     "metadata": {},
     "output_type": "execute_result"
    }
   ],
   "source": [
    "#todo lo que hay que imputar\n",
    "df_traffic_android[df_traffic_android['Review'].isnull()]"
   ]
  },
  {
   "cell_type": "code",
   "execution_count": 20,
   "metadata": {},
   "outputs": [
    {
     "data": {
      "text/plain": [
       "Loading                       187,450.50\n",
       "Shipping                      177,984.50\n",
       "Payments                      144,332.00\n",
       "Review                         99,426.00\n",
       "Congrats                       93,201.00\n",
       "Shipping-Payments                   0.81\n",
       "Payments-Review                     0.69\n",
       "Review-Congrats                     0.94\n",
       "Shipping-Congrats                   0.52\n",
       "Year                            2,019.00\n",
       "dtype: float64"
      ]
     },
     "execution_count": 20,
     "metadata": {},
     "output_type": "execute_result"
    }
   ],
   "source": [
    "#mediana de las semanas de marzo que necesitamos\n",
    "df_traffic_android['2019-03-14':'2019-03-21'].median()"
   ]
  },
  {
   "cell_type": "code",
   "execution_count": 21,
   "metadata": {},
   "outputs": [
    {
     "name": "stderr",
     "output_type": "stream",
     "text": [
      "C:\\Users\\Magui\\anaconda3\\lib\\site-packages\\pandas\\core\\series.py:4509: SettingWithCopyWarning: \n",
      "A value is trying to be set on a copy of a slice from a DataFrame\n",
      "\n",
      "See the caveats in the documentation: https://pandas.pydata.org/pandas-docs/stable/user_guide/indexing.html#returning-a-view-versus-a-copy\n",
      "  return super().replace(\n"
     ]
    }
   ],
   "source": [
    "df_traffic.loc['2019-03-22', 'Review'].replace(np.nan, 138177*0.69, inplace=True)"
   ]
  },
  {
   "cell_type": "code",
   "execution_count": 22,
   "metadata": {},
   "outputs": [
    {
     "data": {
      "text/html": [
       "<div>\n",
       "<style scoped>\n",
       "    .dataframe tbody tr th:only-of-type {\n",
       "        vertical-align: middle;\n",
       "    }\n",
       "\n",
       "    .dataframe tbody tr th {\n",
       "        vertical-align: top;\n",
       "    }\n",
       "\n",
       "    .dataframe thead th {\n",
       "        text-align: right;\n",
       "    }\n",
       "</style>\n",
       "<table border=\"1\" class=\"dataframe\">\n",
       "  <thead>\n",
       "    <tr style=\"text-align: right;\">\n",
       "      <th></th>\n",
       "      <th>flow</th>\n",
       "      <th>Site</th>\n",
       "      <th>Device</th>\n",
       "      <th>Loading</th>\n",
       "      <th>Shipping</th>\n",
       "      <th>Payments</th>\n",
       "      <th>Review</th>\n",
       "      <th>Congrats</th>\n",
       "      <th>Shipping-Payments</th>\n",
       "      <th>Payments-Review</th>\n",
       "      <th>Review-Congrats</th>\n",
       "      <th>Shipping-Congrats</th>\n",
       "      <th>Weekday</th>\n",
       "      <th>Month</th>\n",
       "      <th>Year</th>\n",
       "      <th>Months</th>\n",
       "    </tr>\n",
       "    <tr>\n",
       "      <th>Fecha</th>\n",
       "      <th></th>\n",
       "      <th></th>\n",
       "      <th></th>\n",
       "      <th></th>\n",
       "      <th></th>\n",
       "      <th></th>\n",
       "      <th></th>\n",
       "      <th></th>\n",
       "      <th></th>\n",
       "      <th></th>\n",
       "      <th></th>\n",
       "      <th></th>\n",
       "      <th></th>\n",
       "      <th></th>\n",
       "      <th></th>\n",
       "      <th></th>\n",
       "    </tr>\n",
       "  </thead>\n",
       "  <tbody>\n",
       "    <tr>\n",
       "      <th>2019-03-22</th>\n",
       "      <td>direct</td>\n",
       "      <td>MLA</td>\n",
       "      <td>Android</td>\n",
       "      <td>179,146.00</td>\n",
       "      <td>169,846.00</td>\n",
       "      <td>138,177.00</td>\n",
       "      <td>95,342.13</td>\n",
       "      <td>89,890.00</td>\n",
       "      <td>0.81</td>\n",
       "      <td>NaN</td>\n",
       "      <td>NaN</td>\n",
       "      <td>0.53</td>\n",
       "      <td>Friday</td>\n",
       "      <td>March</td>\n",
       "      <td>2019</td>\n",
       "      <td>March-2019</td>\n",
       "    </tr>\n",
       "    <tr>\n",
       "      <th>2019-03-22</th>\n",
       "      <td>direct</td>\n",
       "      <td>MLA</td>\n",
       "      <td>Desktop</td>\n",
       "      <td>112,147.00</td>\n",
       "      <td>106,408.00</td>\n",
       "      <td>91,762.00</td>\n",
       "      <td>72,190.00</td>\n",
       "      <td>70,180.00</td>\n",
       "      <td>0.86</td>\n",
       "      <td>0.79</td>\n",
       "      <td>0.97</td>\n",
       "      <td>0.66</td>\n",
       "      <td>Friday</td>\n",
       "      <td>March</td>\n",
       "      <td>2019</td>\n",
       "      <td>March-2019</td>\n",
       "    </tr>\n",
       "  </tbody>\n",
       "</table>\n",
       "</div>"
      ],
      "text/plain": [
       "              flow Site   Device              Loading             Shipping  \\\n",
       "Fecha                                                                        \n",
       "2019-03-22  direct  MLA  Android           179,146.00           169,846.00   \n",
       "2019-03-22  direct  MLA  Desktop           112,147.00           106,408.00   \n",
       "\n",
       "                       Payments               Review             Congrats  \\\n",
       "Fecha                                                                       \n",
       "2019-03-22           138,177.00            95,342.13            89,890.00   \n",
       "2019-03-22            91,762.00            72,190.00            70,180.00   \n",
       "\n",
       "              Shipping-Payments      Payments-Review      Review-Congrats  \\\n",
       "Fecha                                                                       \n",
       "2019-03-22                 0.81                  NaN                  NaN   \n",
       "2019-03-22                 0.86                 0.79                 0.97   \n",
       "\n",
       "              Shipping-Congrats Weekday  Month  Year      Months  \n",
       "Fecha                                                             \n",
       "2019-03-22                 0.53  Friday  March  2019  March-2019  \n",
       "2019-03-22                 0.66  Friday  March  2019  March-2019  "
      ]
     },
     "execution_count": 22,
     "metadata": {},
     "output_type": "execute_result"
    }
   ],
   "source": [
    "df_traffic['2019-03-22':'2019-03-22']"
   ]
  },
  {
   "cell_type": "code",
   "execution_count": 23,
   "metadata": {},
   "outputs": [
    {
     "data": {
      "text/plain": [
       "Loading                       222,054.00\n",
       "Shipping                      209,607.50\n",
       "Payments                      167,252.00\n",
       "Review                        110,225.50\n",
       "Congrats                      101,450.50\n",
       "Shipping-Payments                   0.80\n",
       "Payments-Review                     0.65\n",
       "Review-Congrats                     0.92\n",
       "Shipping-Congrats                   0.48\n",
       "Year                            2,019.00\n",
       "dtype: float64"
      ]
     },
     "execution_count": 23,
     "metadata": {},
     "output_type": "execute_result"
    }
   ],
   "source": [
    "#mediana de las semanas de agosto que necesitamos\n",
    "df_traffic_android['2019-08-19':'2019-08-26'].median()"
   ]
  },
  {
   "cell_type": "code",
   "execution_count": 24,
   "metadata": {},
   "outputs": [
    {
     "name": "stderr",
     "output_type": "stream",
     "text": [
      "C:\\Users\\Magui\\anaconda3\\lib\\site-packages\\pandas\\core\\series.py:4509: SettingWithCopyWarning: \n",
      "A value is trying to be set on a copy of a slice from a DataFrame\n",
      "\n",
      "See the caveats in the documentation: https://pandas.pydata.org/pandas-docs/stable/user_guide/indexing.html#returning-a-view-versus-a-copy\n",
      "  return super().replace(\n"
     ]
    }
   ],
   "source": [
    "df_traffic.loc['2019-08-27', 'Review'].replace(np.nan, 180928*0.65, inplace=True)"
   ]
  },
  {
   "cell_type": "code",
   "execution_count": 25,
   "metadata": {},
   "outputs": [
    {
     "data": {
      "text/html": [
       "<div>\n",
       "<style scoped>\n",
       "    .dataframe tbody tr th:only-of-type {\n",
       "        vertical-align: middle;\n",
       "    }\n",
       "\n",
       "    .dataframe tbody tr th {\n",
       "        vertical-align: top;\n",
       "    }\n",
       "\n",
       "    .dataframe thead th {\n",
       "        text-align: right;\n",
       "    }\n",
       "</style>\n",
       "<table border=\"1\" class=\"dataframe\">\n",
       "  <thead>\n",
       "    <tr style=\"text-align: right;\">\n",
       "      <th></th>\n",
       "      <th>flow</th>\n",
       "      <th>Site</th>\n",
       "      <th>Device</th>\n",
       "      <th>Loading</th>\n",
       "      <th>Shipping</th>\n",
       "      <th>Payments</th>\n",
       "      <th>Review</th>\n",
       "      <th>Congrats</th>\n",
       "      <th>Shipping-Payments</th>\n",
       "      <th>Payments-Review</th>\n",
       "      <th>Review-Congrats</th>\n",
       "      <th>Shipping-Congrats</th>\n",
       "      <th>Weekday</th>\n",
       "      <th>Month</th>\n",
       "      <th>Year</th>\n",
       "      <th>Months</th>\n",
       "    </tr>\n",
       "    <tr>\n",
       "      <th>Fecha</th>\n",
       "      <th></th>\n",
       "      <th></th>\n",
       "      <th></th>\n",
       "      <th></th>\n",
       "      <th></th>\n",
       "      <th></th>\n",
       "      <th></th>\n",
       "      <th></th>\n",
       "      <th></th>\n",
       "      <th></th>\n",
       "      <th></th>\n",
       "      <th></th>\n",
       "      <th></th>\n",
       "      <th></th>\n",
       "      <th></th>\n",
       "      <th></th>\n",
       "    </tr>\n",
       "  </thead>\n",
       "  <tbody>\n",
       "    <tr>\n",
       "      <th>2019-08-27</th>\n",
       "      <td>direct</td>\n",
       "      <td>MLA</td>\n",
       "      <td>Android</td>\n",
       "      <td>236,701.00</td>\n",
       "      <td>223,993.00</td>\n",
       "      <td>180,928.00</td>\n",
       "      <td>117,603.20</td>\n",
       "      <td>113,464.00</td>\n",
       "      <td>0.81</td>\n",
       "      <td>NaN</td>\n",
       "      <td>NaN</td>\n",
       "      <td>0.51</td>\n",
       "      <td>Tuesday</td>\n",
       "      <td>August</td>\n",
       "      <td>2019</td>\n",
       "      <td>August-2019</td>\n",
       "    </tr>\n",
       "    <tr>\n",
       "      <th>2019-08-27</th>\n",
       "      <td>direct</td>\n",
       "      <td>MLA</td>\n",
       "      <td>Desktop</td>\n",
       "      <td>124,108.00</td>\n",
       "      <td>118,209.00</td>\n",
       "      <td>102,472.00</td>\n",
       "      <td>76,035.00</td>\n",
       "      <td>74,640.00</td>\n",
       "      <td>0.87</td>\n",
       "      <td>0.74</td>\n",
       "      <td>0.98</td>\n",
       "      <td>0.63</td>\n",
       "      <td>Tuesday</td>\n",
       "      <td>August</td>\n",
       "      <td>2019</td>\n",
       "      <td>August-2019</td>\n",
       "    </tr>\n",
       "  </tbody>\n",
       "</table>\n",
       "</div>"
      ],
      "text/plain": [
       "              flow Site   Device              Loading             Shipping  \\\n",
       "Fecha                                                                        \n",
       "2019-08-27  direct  MLA  Android           236,701.00           223,993.00   \n",
       "2019-08-27  direct  MLA  Desktop           124,108.00           118,209.00   \n",
       "\n",
       "                       Payments               Review             Congrats  \\\n",
       "Fecha                                                                       \n",
       "2019-08-27           180,928.00           117,603.20           113,464.00   \n",
       "2019-08-27           102,472.00            76,035.00            74,640.00   \n",
       "\n",
       "              Shipping-Payments      Payments-Review      Review-Congrats  \\\n",
       "Fecha                                                                       \n",
       "2019-08-27                 0.81                  NaN                  NaN   \n",
       "2019-08-27                 0.87                 0.74                 0.98   \n",
       "\n",
       "              Shipping-Congrats  Weekday   Month  Year       Months  \n",
       "Fecha                                                                \n",
       "2019-08-27                 0.51  Tuesday  August  2019  August-2019  \n",
       "2019-08-27                 0.63  Tuesday  August  2019  August-2019  "
      ]
     },
     "execution_count": 25,
     "metadata": {},
     "output_type": "execute_result"
    }
   ],
   "source": [
    "df_traffic['2019-08-27':'2019-08-27']"
   ]
  },
  {
   "cell_type": "code",
   "execution_count": 26,
   "metadata": {},
   "outputs": [
    {
     "data": {
      "text/html": [
       "<div>\n",
       "<style scoped>\n",
       "    .dataframe tbody tr th:only-of-type {\n",
       "        vertical-align: middle;\n",
       "    }\n",
       "\n",
       "    .dataframe tbody tr th {\n",
       "        vertical-align: top;\n",
       "    }\n",
       "\n",
       "    .dataframe thead th {\n",
       "        text-align: right;\n",
       "    }\n",
       "</style>\n",
       "<table border=\"1\" class=\"dataframe\">\n",
       "  <thead>\n",
       "    <tr style=\"text-align: right;\">\n",
       "      <th></th>\n",
       "      <th>flow</th>\n",
       "      <th>Site</th>\n",
       "      <th>Device</th>\n",
       "      <th>Loading</th>\n",
       "      <th>Shipping</th>\n",
       "      <th>Payments</th>\n",
       "      <th>Review</th>\n",
       "      <th>Congrats</th>\n",
       "      <th>Shipping-Payments</th>\n",
       "      <th>Payments-Review</th>\n",
       "      <th>Review-Congrats</th>\n",
       "      <th>Shipping-Congrats</th>\n",
       "      <th>Weekday</th>\n",
       "      <th>Month</th>\n",
       "      <th>Year</th>\n",
       "      <th>Months</th>\n",
       "    </tr>\n",
       "    <tr>\n",
       "      <th>Fecha</th>\n",
       "      <th></th>\n",
       "      <th></th>\n",
       "      <th></th>\n",
       "      <th></th>\n",
       "      <th></th>\n",
       "      <th></th>\n",
       "      <th></th>\n",
       "      <th></th>\n",
       "      <th></th>\n",
       "      <th></th>\n",
       "      <th></th>\n",
       "      <th></th>\n",
       "      <th></th>\n",
       "      <th></th>\n",
       "      <th></th>\n",
       "      <th></th>\n",
       "    </tr>\n",
       "  </thead>\n",
       "  <tbody>\n",
       "    <tr>\n",
       "      <th>2019-12-04</th>\n",
       "      <td>direct</td>\n",
       "      <td>MLA</td>\n",
       "      <td>Desktop</td>\n",
       "      <td>146,932.00</td>\n",
       "      <td>138,124.00</td>\n",
       "      <td>NaN</td>\n",
       "      <td>NaN</td>\n",
       "      <td>NaN</td>\n",
       "      <td>0.03</td>\n",
       "      <td>0.68</td>\n",
       "      <td>0.98</td>\n",
       "      <td>0.02</td>\n",
       "      <td>Wednesday</td>\n",
       "      <td>December</td>\n",
       "      <td>2019</td>\n",
       "      <td>December-2019</td>\n",
       "    </tr>\n",
       "    <tr>\n",
       "      <th>2019-12-05</th>\n",
       "      <td>direct</td>\n",
       "      <td>MLA</td>\n",
       "      <td>Android</td>\n",
       "      <td>NaN</td>\n",
       "      <td>NaN</td>\n",
       "      <td>NaN</td>\n",
       "      <td>NaN</td>\n",
       "      <td>NaN</td>\n",
       "      <td>NaN</td>\n",
       "      <td>NaN</td>\n",
       "      <td>NaN</td>\n",
       "      <td>NaN</td>\n",
       "      <td>Thursday</td>\n",
       "      <td>December</td>\n",
       "      <td>2019</td>\n",
       "      <td>December-2019</td>\n",
       "    </tr>\n",
       "    <tr>\n",
       "      <th>2019-12-05</th>\n",
       "      <td>direct</td>\n",
       "      <td>MLA</td>\n",
       "      <td>Desktop</td>\n",
       "      <td>NaN</td>\n",
       "      <td>NaN</td>\n",
       "      <td>NaN</td>\n",
       "      <td>NaN</td>\n",
       "      <td>NaN</td>\n",
       "      <td>NaN</td>\n",
       "      <td>NaN</td>\n",
       "      <td>NaN</td>\n",
       "      <td>NaN</td>\n",
       "      <td>Thursday</td>\n",
       "      <td>December</td>\n",
       "      <td>2019</td>\n",
       "      <td>December-2019</td>\n",
       "    </tr>\n",
       "    <tr>\n",
       "      <th>2019-12-06</th>\n",
       "      <td>direct</td>\n",
       "      <td>MLA</td>\n",
       "      <td>Android</td>\n",
       "      <td>NaN</td>\n",
       "      <td>NaN</td>\n",
       "      <td>NaN</td>\n",
       "      <td>NaN</td>\n",
       "      <td>NaN</td>\n",
       "      <td>NaN</td>\n",
       "      <td>NaN</td>\n",
       "      <td>NaN</td>\n",
       "      <td>NaN</td>\n",
       "      <td>Friday</td>\n",
       "      <td>December</td>\n",
       "      <td>2019</td>\n",
       "      <td>December-2019</td>\n",
       "    </tr>\n",
       "    <tr>\n",
       "      <th>2019-12-06</th>\n",
       "      <td>direct</td>\n",
       "      <td>MLA</td>\n",
       "      <td>Desktop</td>\n",
       "      <td>NaN</td>\n",
       "      <td>NaN</td>\n",
       "      <td>NaN</td>\n",
       "      <td>NaN</td>\n",
       "      <td>NaN</td>\n",
       "      <td>NaN</td>\n",
       "      <td>NaN</td>\n",
       "      <td>NaN</td>\n",
       "      <td>NaN</td>\n",
       "      <td>Friday</td>\n",
       "      <td>December</td>\n",
       "      <td>2019</td>\n",
       "      <td>December-2019</td>\n",
       "    </tr>\n",
       "  </tbody>\n",
       "</table>\n",
       "</div>"
      ],
      "text/plain": [
       "              flow Site   Device              Loading             Shipping  \\\n",
       "Fecha                                                                        \n",
       "2019-12-04  direct  MLA  Desktop           146,932.00           138,124.00   \n",
       "2019-12-05  direct  MLA  Android                  NaN                  NaN   \n",
       "2019-12-05  direct  MLA  Desktop                  NaN                  NaN   \n",
       "2019-12-06  direct  MLA  Android                  NaN                  NaN   \n",
       "2019-12-06  direct  MLA  Desktop                  NaN                  NaN   \n",
       "\n",
       "            Payments  Review  Congrats    Shipping-Payments  \\\n",
       "Fecha                                                         \n",
       "2019-12-04       NaN     NaN       NaN                 0.03   \n",
       "2019-12-05       NaN     NaN       NaN                  NaN   \n",
       "2019-12-05       NaN     NaN       NaN                  NaN   \n",
       "2019-12-06       NaN     NaN       NaN                  NaN   \n",
       "2019-12-06       NaN     NaN       NaN                  NaN   \n",
       "\n",
       "                Payments-Review      Review-Congrats    Shipping-Congrats  \\\n",
       "Fecha                                                                       \n",
       "2019-12-04                 0.68                 0.98                 0.02   \n",
       "2019-12-05                  NaN                  NaN                  NaN   \n",
       "2019-12-05                  NaN                  NaN                  NaN   \n",
       "2019-12-06                  NaN                  NaN                  NaN   \n",
       "2019-12-06                  NaN                  NaN                  NaN   \n",
       "\n",
       "              Weekday     Month  Year         Months  \n",
       "Fecha                                                 \n",
       "2019-12-04  Wednesday  December  2019  December-2019  \n",
       "2019-12-05   Thursday  December  2019  December-2019  \n",
       "2019-12-05   Thursday  December  2019  December-2019  \n",
       "2019-12-06     Friday  December  2019  December-2019  \n",
       "2019-12-06     Friday  December  2019  December-2019  "
      ]
     },
     "execution_count": 26,
     "metadata": {},
     "output_type": "execute_result"
    }
   ],
   "source": [
    "df_traffic[df_traffic['Review'].isnull()]"
   ]
  },
  {
   "cell_type": "code",
   "execution_count": 27,
   "metadata": {
    "scrolled": true
   },
   "outputs": [
    {
     "data": {
      "text/plain": [
       "Loading                       119,935.00\n",
       "Shipping                      112,811.00\n",
       "Payments                       95,304.00\n",
       "Review                         73,870.00\n",
       "Congrats                       72,023.00\n",
       "Shipping-Payments                   0.84\n",
       "Payments-Review                     0.76\n",
       "Review-Congrats                     0.97\n",
       "Shipping-Congrats                   0.63\n",
       "Year                            2,019.00\n",
       "dtype: float64"
      ]
     },
     "execution_count": 27,
     "metadata": {},
     "output_type": "execute_result"
    }
   ],
   "source": [
    "#mediana de las semanas de agosto que necesitamos\n",
    "df_traffic_desktop['2019-11-27':'2019-12-03'].median()"
   ]
  },
  {
   "cell_type": "code",
   "execution_count": 28,
   "metadata": {},
   "outputs": [
    {
     "name": "stderr",
     "output_type": "stream",
     "text": [
      "C:\\Users\\Magui\\anaconda3\\lib\\site-packages\\pandas\\core\\series.py:4509: SettingWithCopyWarning: \n",
      "A value is trying to be set on a copy of a slice from a DataFrame\n",
      "\n",
      "See the caveats in the documentation: https://pandas.pydata.org/pandas-docs/stable/user_guide/indexing.html#returning-a-view-versus-a-copy\n",
      "  return super().replace(\n"
     ]
    }
   ],
   "source": [
    "df_traffic.loc['2019-12-04', 'Payments'].replace(np.nan, 138124*0.84, inplace=True)\n",
    "df_traffic.loc['2019-12-04', 'Review'].replace(np.nan, 138124*0.84*0.76, inplace=True)\n",
    "df_traffic.loc['2019-12-04', 'Congrats'].replace(np.nan, 138124*0.84*0.76*0.97, inplace=True)"
   ]
  },
  {
   "cell_type": "code",
   "execution_count": 29,
   "metadata": {
    "scrolled": true
   },
   "outputs": [
    {
     "data": {
      "text/html": [
       "<div>\n",
       "<style scoped>\n",
       "    .dataframe tbody tr th:only-of-type {\n",
       "        vertical-align: middle;\n",
       "    }\n",
       "\n",
       "    .dataframe tbody tr th {\n",
       "        vertical-align: top;\n",
       "    }\n",
       "\n",
       "    .dataframe thead th {\n",
       "        text-align: right;\n",
       "    }\n",
       "</style>\n",
       "<table border=\"1\" class=\"dataframe\">\n",
       "  <thead>\n",
       "    <tr style=\"text-align: right;\">\n",
       "      <th></th>\n",
       "      <th>Loading</th>\n",
       "      <th>Shipping</th>\n",
       "      <th>Payments</th>\n",
       "      <th>Review</th>\n",
       "      <th>Congrats</th>\n",
       "      <th>Shipping-Payments</th>\n",
       "      <th>Payments-Review</th>\n",
       "      <th>Review-Congrats</th>\n",
       "      <th>Shipping-Congrats</th>\n",
       "      <th>Year</th>\n",
       "    </tr>\n",
       "    <tr>\n",
       "      <th>Weekday</th>\n",
       "      <th></th>\n",
       "      <th></th>\n",
       "      <th></th>\n",
       "      <th></th>\n",
       "      <th></th>\n",
       "      <th></th>\n",
       "      <th></th>\n",
       "      <th></th>\n",
       "      <th></th>\n",
       "      <th></th>\n",
       "    </tr>\n",
       "  </thead>\n",
       "  <tbody>\n",
       "    <tr>\n",
       "      <th>Friday</th>\n",
       "      <td>108,648.00</td>\n",
       "      <td>101,930.00</td>\n",
       "      <td>86,767.00</td>\n",
       "      <td>67,833.00</td>\n",
       "      <td>66,191.00</td>\n",
       "      <td>0.85</td>\n",
       "      <td>0.78</td>\n",
       "      <td>0.98</td>\n",
       "      <td>0.65</td>\n",
       "      <td>2019</td>\n",
       "    </tr>\n",
       "    <tr>\n",
       "      <th>Monday</th>\n",
       "      <td>150,301.00</td>\n",
       "      <td>141,573.00</td>\n",
       "      <td>121,093.00</td>\n",
       "      <td>94,276.00</td>\n",
       "      <td>91,933.00</td>\n",
       "      <td>0.85</td>\n",
       "      <td>0.78</td>\n",
       "      <td>0.97</td>\n",
       "      <td>0.64</td>\n",
       "      <td>2019</td>\n",
       "    </tr>\n",
       "    <tr>\n",
       "      <th>Saturday</th>\n",
       "      <td>52,243.00</td>\n",
       "      <td>48,816.00</td>\n",
       "      <td>40,903.00</td>\n",
       "      <td>30,022.00</td>\n",
       "      <td>29,232.00</td>\n",
       "      <td>0.84</td>\n",
       "      <td>0.72</td>\n",
       "      <td>0.97</td>\n",
       "      <td>0.59</td>\n",
       "      <td>2019</td>\n",
       "    </tr>\n",
       "    <tr>\n",
       "      <th>Sunday</th>\n",
       "      <td>48,978.00</td>\n",
       "      <td>45,426.00</td>\n",
       "      <td>37,222.00</td>\n",
       "      <td>27,217.00</td>\n",
       "      <td>26,724.00</td>\n",
       "      <td>0.83</td>\n",
       "      <td>0.73</td>\n",
       "      <td>0.97</td>\n",
       "      <td>0.59</td>\n",
       "      <td>2019</td>\n",
       "    </tr>\n",
       "    <tr>\n",
       "      <th>Thursday</th>\n",
       "      <td>117,014.00</td>\n",
       "      <td>110,404.50</td>\n",
       "      <td>93,722.00</td>\n",
       "      <td>72,371.50</td>\n",
       "      <td>69,970.00</td>\n",
       "      <td>0.85</td>\n",
       "      <td>0.77</td>\n",
       "      <td>0.97</td>\n",
       "      <td>0.62</td>\n",
       "      <td>2019</td>\n",
       "    </tr>\n",
       "    <tr>\n",
       "      <th>Tuesday</th>\n",
       "      <td>133,687.00</td>\n",
       "      <td>125,652.00</td>\n",
       "      <td>107,123.00</td>\n",
       "      <td>83,293.00</td>\n",
       "      <td>80,926.00</td>\n",
       "      <td>0.85</td>\n",
       "      <td>0.78</td>\n",
       "      <td>0.97</td>\n",
       "      <td>0.64</td>\n",
       "      <td>2019</td>\n",
       "    </tr>\n",
       "    <tr>\n",
       "      <th>Wednesday</th>\n",
       "      <td>122,951.00</td>\n",
       "      <td>115,670.50</td>\n",
       "      <td>98,365.00</td>\n",
       "      <td>76,553.00</td>\n",
       "      <td>74,750.00</td>\n",
       "      <td>0.85</td>\n",
       "      <td>0.78</td>\n",
       "      <td>0.98</td>\n",
       "      <td>0.64</td>\n",
       "      <td>2019</td>\n",
       "    </tr>\n",
       "  </tbody>\n",
       "</table>\n",
       "</div>"
      ],
      "text/plain": [
       "                       Loading             Shipping             Payments  \\\n",
       "Weekday                                                                    \n",
       "Friday              108,648.00           101,930.00            86,767.00   \n",
       "Monday              150,301.00           141,573.00           121,093.00   \n",
       "Saturday             52,243.00            48,816.00            40,903.00   \n",
       "Sunday               48,978.00            45,426.00            37,222.00   \n",
       "Thursday            117,014.00           110,404.50            93,722.00   \n",
       "Tuesday             133,687.00           125,652.00           107,123.00   \n",
       "Wednesday           122,951.00           115,670.50            98,365.00   \n",
       "\n",
       "                        Review             Congrats    Shipping-Payments  \\\n",
       "Weekday                                                                    \n",
       "Friday               67,833.00            66,191.00                 0.85   \n",
       "Monday               94,276.00            91,933.00                 0.85   \n",
       "Saturday             30,022.00            29,232.00                 0.84   \n",
       "Sunday               27,217.00            26,724.00                 0.83   \n",
       "Thursday             72,371.50            69,970.00                 0.85   \n",
       "Tuesday              83,293.00            80,926.00                 0.85   \n",
       "Wednesday            76,553.00            74,750.00                 0.85   \n",
       "\n",
       "               Payments-Review      Review-Congrats    Shipping-Congrats  Year  \n",
       "Weekday                                                                         \n",
       "Friday                    0.78                 0.98                 0.65  2019  \n",
       "Monday                    0.78                 0.97                 0.64  2019  \n",
       "Saturday                  0.72                 0.97                 0.59  2019  \n",
       "Sunday                    0.73                 0.97                 0.59  2019  \n",
       "Thursday                  0.77                 0.97                 0.62  2019  \n",
       "Tuesday                   0.78                 0.97                 0.64  2019  \n",
       "Wednesday                 0.78                 0.98                 0.64  2019  "
      ]
     },
     "execution_count": 29,
     "metadata": {},
     "output_type": "execute_result"
    }
   ],
   "source": [
    "df_traffic_desktop.loc['2019-11-01':'2019-12-03'].groupby('Weekday').median()"
   ]
  },
  {
   "cell_type": "code",
   "execution_count": 30,
   "metadata": {},
   "outputs": [
    {
     "ename": "AttributeError",
     "evalue": "'numpy.float64' object has no attribute 'replace'",
     "output_type": "error",
     "traceback": [
      "\u001b[1;31m---------------------------------------------------------------------------\u001b[0m",
      "\u001b[1;31mAttributeError\u001b[0m                            Traceback (most recent call last)",
      "\u001b[1;32m<ipython-input-30-05173dbdfe66>\u001b[0m in \u001b[0;36m<module>\u001b[1;34m\u001b[0m\n\u001b[1;32m----> 1\u001b[1;33m \u001b[0mdf_traffic\u001b[0m\u001b[1;33m[\u001b[0m\u001b[0mdf_traffic\u001b[0m\u001b[1;33m.\u001b[0m\u001b[0mDevice\u001b[0m\u001b[1;33m==\u001b[0m\u001b[1;34m\"Desktop\"\u001b[0m\u001b[1;33m]\u001b[0m\u001b[1;33m.\u001b[0m\u001b[0mloc\u001b[0m\u001b[1;33m[\u001b[0m\u001b[1;34m'2019-12-05'\u001b[0m\u001b[1;33m,\u001b[0m \u001b[1;34m'Loading'\u001b[0m\u001b[1;33m]\u001b[0m\u001b[1;33m.\u001b[0m\u001b[0mreplace\u001b[0m\u001b[1;33m(\u001b[0m\u001b[0mnp\u001b[0m\u001b[1;33m.\u001b[0m\u001b[0mnan\u001b[0m\u001b[1;33m,\u001b[0m \u001b[1;36m117014.00\u001b[0m\u001b[1;33m,\u001b[0m \u001b[0minplace\u001b[0m\u001b[1;33m=\u001b[0m\u001b[1;32mTrue\u001b[0m\u001b[1;33m)\u001b[0m\u001b[1;33m\u001b[0m\u001b[1;33m\u001b[0m\u001b[0m\n\u001b[0m\u001b[0;32m      2\u001b[0m \u001b[0mdf_traffic\u001b[0m\u001b[1;33m[\u001b[0m\u001b[0mdf_traffic\u001b[0m\u001b[1;33m.\u001b[0m\u001b[0mDevice\u001b[0m\u001b[1;33m==\u001b[0m\u001b[1;34m\"Desktop\"\u001b[0m\u001b[1;33m]\u001b[0m\u001b[1;33m.\u001b[0m\u001b[0mloc\u001b[0m\u001b[1;33m[\u001b[0m\u001b[1;34m'2019-12-05'\u001b[0m\u001b[1;33m,\u001b[0m \u001b[1;34m'Shipping'\u001b[0m\u001b[1;33m]\u001b[0m\u001b[1;33m.\u001b[0m\u001b[0mreplace\u001b[0m\u001b[1;33m(\u001b[0m\u001b[0mnp\u001b[0m\u001b[1;33m.\u001b[0m\u001b[0mnan\u001b[0m\u001b[1;33m,\u001b[0m \u001b[1;36m110404.50\u001b[0m\u001b[1;33m,\u001b[0m \u001b[0minplace\u001b[0m\u001b[1;33m=\u001b[0m\u001b[1;32mTrue\u001b[0m\u001b[1;33m)\u001b[0m\u001b[1;33m\u001b[0m\u001b[1;33m\u001b[0m\u001b[0m\n\u001b[0;32m      3\u001b[0m \u001b[0mdf_traffic\u001b[0m\u001b[1;33m[\u001b[0m\u001b[0mdf_traffic\u001b[0m\u001b[1;33m.\u001b[0m\u001b[0mDevice\u001b[0m\u001b[1;33m==\u001b[0m\u001b[1;34m\"Desktop\"\u001b[0m\u001b[1;33m]\u001b[0m\u001b[1;33m.\u001b[0m\u001b[0mloc\u001b[0m\u001b[1;33m[\u001b[0m\u001b[1;34m'2019-12-05'\u001b[0m\u001b[1;33m,\u001b[0m \u001b[1;34m'Payments'\u001b[0m\u001b[1;33m]\u001b[0m\u001b[1;33m.\u001b[0m\u001b[0mreplace\u001b[0m\u001b[1;33m(\u001b[0m\u001b[0mnp\u001b[0m\u001b[1;33m.\u001b[0m\u001b[0mnan\u001b[0m\u001b[1;33m,\u001b[0m \u001b[1;36m93722.00\u001b[0m\u001b[1;33m,\u001b[0m \u001b[0minplace\u001b[0m\u001b[1;33m=\u001b[0m\u001b[1;32mTrue\u001b[0m\u001b[1;33m)\u001b[0m\u001b[1;33m\u001b[0m\u001b[1;33m\u001b[0m\u001b[0m\n\u001b[0;32m      4\u001b[0m \u001b[0mdf_traffic\u001b[0m\u001b[1;33m[\u001b[0m\u001b[0mdf_traffic\u001b[0m\u001b[1;33m.\u001b[0m\u001b[0mDevice\u001b[0m\u001b[1;33m==\u001b[0m\u001b[1;34m\"Desktop\"\u001b[0m\u001b[1;33m]\u001b[0m\u001b[1;33m.\u001b[0m\u001b[0mloc\u001b[0m\u001b[1;33m[\u001b[0m\u001b[1;34m'2019-12-05'\u001b[0m\u001b[1;33m,\u001b[0m \u001b[1;34m'Review'\u001b[0m\u001b[1;33m]\u001b[0m\u001b[1;33m.\u001b[0m\u001b[0mreplace\u001b[0m\u001b[1;33m(\u001b[0m\u001b[0mnp\u001b[0m\u001b[1;33m.\u001b[0m\u001b[0mnan\u001b[0m\u001b[1;33m,\u001b[0m \u001b[1;36m73371.50\u001b[0m\u001b[1;33m,\u001b[0m \u001b[0minplace\u001b[0m\u001b[1;33m=\u001b[0m\u001b[1;32mTrue\u001b[0m\u001b[1;33m)\u001b[0m\u001b[1;33m\u001b[0m\u001b[1;33m\u001b[0m\u001b[0m\n\u001b[0;32m      5\u001b[0m \u001b[0mdf_traffic\u001b[0m\u001b[1;33m[\u001b[0m\u001b[0mdf_traffic\u001b[0m\u001b[1;33m.\u001b[0m\u001b[0mDevice\u001b[0m\u001b[1;33m==\u001b[0m\u001b[1;34m\"Desktop\"\u001b[0m\u001b[1;33m]\u001b[0m\u001b[1;33m.\u001b[0m\u001b[0mloc\u001b[0m\u001b[1;33m[\u001b[0m\u001b[1;34m'2019-12-05'\u001b[0m\u001b[1;33m,\u001b[0m \u001b[1;34m'Congrats'\u001b[0m\u001b[1;33m]\u001b[0m\u001b[1;33m.\u001b[0m\u001b[0mreplace\u001b[0m\u001b[1;33m(\u001b[0m\u001b[0mnp\u001b[0m\u001b[1;33m.\u001b[0m\u001b[0mnan\u001b[0m\u001b[1;33m,\u001b[0m \u001b[1;36m69970.00\u001b[0m\u001b[1;33m,\u001b[0m \u001b[0minplace\u001b[0m\u001b[1;33m=\u001b[0m\u001b[1;32mTrue\u001b[0m\u001b[1;33m)\u001b[0m\u001b[1;33m\u001b[0m\u001b[1;33m\u001b[0m\u001b[0m\n",
      "\u001b[1;31mAttributeError\u001b[0m: 'numpy.float64' object has no attribute 'replace'"
     ]
    }
   ],
   "source": [
    "df_traffic[df_traffic.Device==\"Desktop\"].loc['2019-12-05', 'Loading'].replace(np.nan, 117014.00, inplace=True)\n",
    "df_traffic[df_traffic.Device==\"Desktop\"].loc['2019-12-05', 'Shipping'].replace(np.nan, 110404.50, inplace=True)\n",
    "df_traffic[df_traffic.Device==\"Desktop\"].loc['2019-12-05', 'Payments'].replace(np.nan, 93722.00, inplace=True)\n",
    "df_traffic[df_traffic.Device==\"Desktop\"].loc['2019-12-05', 'Review'].replace(np.nan, 73371.50, inplace=True)\n",
    "df_traffic[df_traffic.Device==\"Desktop\"].loc['2019-12-05', 'Congrats'].replace(np.nan, 69970.00, inplace=True)"
   ]
  },
  {
   "cell_type": "code",
   "execution_count": null,
   "metadata": {
    "id": "6E6hstRihs_8"
   },
   "outputs": [],
   "source": [
    "# explicar porque este método"
   ]
  },
  {
   "cell_type": "code",
   "execution_count": null,
   "metadata": {},
   "outputs": [],
   "source": [
    "df_traf_int = df_traf.interpolate()"
   ]
  },
  {
   "cell_type": "code",
   "execution_count": null,
   "metadata": {},
   "outputs": [],
   "source": [
    "#generamos una copia para volver a agregarle las columnas de interes \n",
    "df_traffic2=df_traf_int.copy()\n",
    "\n",
    "#columnas de índices\n",
    "df_traffic2[\"Shipping-Payments\"] = df_traffic2[\"Payments\"] / df_traffic2[\"Shipping\"]\n",
    "df_traffic2[\"Payments-Review\"] = df_traffic2[\"Review\"] / df_traffic2[\"Payments\"]\n",
    "df_traffic2[\"Review-Congrats\"] = df_traffic2[\"Congrats\"] / df_traffic2[\"Review\"]\n",
    "df_traffic2[\"Shipping-Congrats\"] = df_traffic2[\"Congrats\"] / df_traffic2[\"Shipping\"]\n",
    "\n",
    "#columnas relativas a las fechas\n",
    "df_traffic2[\"Weekday\"] = df_traf_int.index.day_name()\n",
    "df_traffic2[\"Month\"] = df_traf_int.index.month_name()\n",
    "df_traffic2[\"Year\"] = df_traf_int.index.year\n",
    "new = df_traffic2[\"Month\"].copy().astype(str)\n",
    "new1 = df_traffic2[\"Year\"].copy().astype(str)\n",
    "df_traffic2[\"Months\"]= new.str.cat(new1, sep =\"-\")\n",
    "\n",
    "# volvemos a definir los dos datasets de interes con las nuevas columnas\n",
    "df_traffic2_desktop = df_traffic2[df_traffic2.Device==(\"Desktop\")]\n",
    "df_traffic2_android = df_traffic2[df_traffic2.Device==(\"Android\")]"
   ]
  },
  {
   "cell_type": "code",
   "execution_count": null,
   "metadata": {
    "scrolled": true
   },
   "outputs": [],
   "source": [
    "#Lo primero a verificar imputando los valores, es no romper la lógica del drop-out manteniendo los indices de conversión menores a 1\n",
    "df_traffic2[cols_indices].describe()"
   ]
  },
  {
   "cell_type": "markdown",
   "metadata": {},
   "source": [
    "Pudimos observar que los mètodos: lineal por defecto, cñubico, polinomial de 3 orden, spline de 2 orden, pchip, akima,  no fueron útiles dado que ciertos índices tienen valores mayores a uno. Todo lo de abajo no tiene sentido seguir desarrollando hasta no encontrar un método de interpolación que no nos rompa todo.\n"
   ]
  },
  {
   "cell_type": "code",
   "execution_count": null,
   "metadata": {},
   "outputs": [],
   "source": [
    "#Observamos el dataframe en la primera semana de \n",
    "df_traffic2['2019-12-05':'2019-12-06']"
   ]
  },
  {
   "cell_type": "code",
   "execution_count": null,
   "metadata": {
    "id": "-Jkd7djFhs_8",
    "outputId": "3cadc2c5-59ad-45c8-e506-c45d91a9ba70"
   },
   "outputs": [],
   "source": [
    "#Observamos el dataframe en la primera semana de \n",
    "df_traffic2['2019-12-05':'2019-12-06']"
   ]
  },
  {
   "cell_type": "code",
   "execution_count": null,
   "metadata": {},
   "outputs": [],
   "source": [
    "#volvemos a analizamos el comportamiento en dicho mes según el día de la semana\n",
    "df_traffic2_desktop['2019-12'].groupby('Weekday')[cols_indices].std()"
   ]
  },
  {
   "cell_type": "markdown",
   "metadata": {},
   "source": [
    "Los días imputadis corresponden a Jueves y Viernes donde podemos notar un claro aumento de la desviación estandar."
   ]
  },
  {
   "cell_type": "code",
   "execution_count": null,
   "metadata": {
    "id": "XyZw4noQhs_8",
    "outputId": "7ce3ff9e-4f07-4923-ee52-2234dd5250e4"
   },
   "outputs": [],
   "source": [
    "df_traffic_android['2019-03':'2019-08'][cols_etapas].plot( marker='.', alpha=0.5, linestyle='-',sharey=\"all\",figsize=(20, 10)).set_title(\"ANDROID-Etapas\")\n",
    "df_traffic_android['2019-03':'2019-08'][cols_indices].plot( marker='.', alpha=0.5, linestyle='-',sharey=\"all\", figsize=(20, 10)).set_title(\"ANDROID-Indices\")"
   ]
  },
  {
   "cell_type": "code",
   "execution_count": null,
   "metadata": {
    "id": "jgKNw3j5hs_9"
   },
   "outputs": [],
   "source": [
    "df_traffic2_android['2019-12'][cols_etapas].plot( marker='.', alpha=0.5, linestyle='-',sharey=\"all\", figsize=(20, 10)).set_title(\"ANDROID INTERP-Etapas\")\n",
    "df_traffic2_android['2019-12'][cols_indices].plot( marker='.', alpha=0.5, linestyle='-',sharey=\"all\", figsize=(20, 10)).set_title(\"ANDROID INTERP-Indices\")"
   ]
  },
  {
   "cell_type": "markdown",
   "metadata": {
    "id": "VDtRv02Vhs_9"
   },
   "source": [
    "Tanto la interpolación cúbica como la polinomial de 3er orden fueron descartadas dado que los valores imputados no eran lógicos. "
   ]
  },
  {
   "cell_type": "code",
   "execution_count": null,
   "metadata": {
    "id": "Z68bvOwshs_-",
    "scrolled": true
   },
   "outputs": [],
   "source": [
    "cols_indices_log=['Shipping-Payments(log)',\n",
    " 'Payments-Review(log)',\n",
    " 'Review-Congrats(log)',\n",
    " 'Shipping-Congrats(log)']\n",
    "cols_indices_log"
   ]
  },
  {
   "cell_type": "code",
   "execution_count": null,
   "metadata": {
    "id": "2QP7aw4Rhs_-"
   },
   "outputs": [],
   "source": [
    "df_traffic[cols_indices_log] = np.log(df_traffic[cols_indices])"
   ]
  },
  {
   "cell_type": "code",
   "execution_count": null,
   "metadata": {
    "id": "SqlmhsZ4hs_-"
   },
   "outputs": [],
   "source": [
    "df_traffic_int[cols_indices_log] = np.log(df_traffic_int[cols_indices])"
   ]
  },
  {
   "cell_type": "code",
   "execution_count": null,
   "metadata": {
    "id": "d89VDW5hhs_-"
   },
   "outputs": [],
   "source": [
    "df_traffic_int.head()"
   ]
  },
  {
   "cell_type": "code",
   "execution_count": null,
   "metadata": {
    "id": "Ke2hZhfXhs_-"
   },
   "outputs": [],
   "source": [
    "# volvemos a definir los dos datasets de interes con las nuevas columnas\n",
    "df_traffic_int_desktop = df_traffic_int[df_traffic_int.Device==(\"Desktop\")]\n",
    "df_traffic_int_android = df_traffic_int[df_traffic_int.Device==(\"Android\")]"
   ]
  },
  {
   "cell_type": "code",
   "execution_count": null,
   "metadata": {
    "id": "766M1IE0hs__"
   },
   "outputs": [],
   "source": [
    "df_traffic[df_traffic_int[\"Device\"]==\"Android\"][cols_indices_log].plot( marker='.', alpha=0.5, linestyle='-',sharey=\"all\", figsize=(20, 10), ylim=[-1,0]).set_title(\"ANDROID - indices log\")\n",
    "df_traffic_int[df_traffic_int[\"Device\"]==\"Android\"][cols_indices_log].plot( marker='.', alpha=0.5, linestyle='-',sharey=\"all\", figsize=(20, 10),).set_title(\"ANDROID interpolada indices log\")"
   ]
  },
  {
   "cell_type": "code",
   "execution_count": null,
   "metadata": {
    "id": "N_oEX05dhs__"
   },
   "outputs": [],
   "source": [
    "df_traffic[df_traffic_int[\"Device\"]==\"Desktop\"][cols_indices_log].plot( marker='.', alpha=0.5, linestyle='-',sharey=\"all\", figsize=(20, 10), ylim=[-1,0]).set_title(\"DESKTOP - indices log\")\n",
    "df_traffic_int[df_traffic_int[\"Device\"]==\"Desktop\"][cols_indices_log].plot( marker='.', alpha=0.5, linestyle='-',sharey=\"all\", figsize=(20, 10),).set_title(\"DESKTOP interpolada indices log\")"
   ]
  },
  {
   "cell_type": "code",
   "execution_count": null,
   "metadata": {
    "id": "qTHU2UEbhs__"
   },
   "outputs": [],
   "source": [
    "df_traffic[cols_indices_log].describe()"
   ]
  },
  {
   "cell_type": "code",
   "execution_count": null,
   "metadata": {
    "id": "O1EopTchhs__"
   },
   "outputs": [],
   "source": [
    "df_traffic_int[cols_indices_log].describe()"
   ]
  },
  {
   "cell_type": "code",
   "execution_count": null,
   "metadata": {
    "id": "g6NG3qifhs__"
   },
   "outputs": [],
   "source": []
  }
 ],
 "metadata": {
  "colab": {
   "name": "entrega2.ipynb",
   "provenance": []
  },
  "kernelspec": {
   "display_name": "Python 3",
   "language": "python",
   "name": "python3"
  },
  "language_info": {
   "codemirror_mode": {
    "name": "ipython",
    "version": 3
   },
   "file_extension": ".py",
   "mimetype": "text/x-python",
   "name": "python",
   "nbconvert_exporter": "python",
   "pygments_lexer": "ipython3",
   "version": "3.8.8"
  }
 },
 "nbformat": 4,
 "nbformat_minor": 1
}
