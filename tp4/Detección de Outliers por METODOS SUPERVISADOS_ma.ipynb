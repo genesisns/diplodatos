{
 "cells": [
  {
   "cell_type": "markdown",
   "metadata": {},
   "source": [
    "## DETECCIÓN DE OUTLIERS POR MÉTODOS SUPERVISADOS"
   ]
  },
  {
   "cell_type": "markdown",
   "metadata": {},
   "source": [
    "El objetivo del trabajo es encontrar los métodos de detección de outliers que mejor respondan a las series de tiempo que venimos analizando. Para ello se van a analizar dos modelos: support vector machine (SVM), un algoritmo de aprendizaje automático supervisado que utilizar hiperplanos en espacios multidimensionales para separar observaciones de una clase, de otras. Sin embargo, este método es utilizado además en problemas de una sola clase y está entrenado para encontrar que se etiqueta como \"normal\", y así poder diferenciar anomalías. Además, se utilizará el metodo de decision tree classifier. Ambos desde el paquete de sklearn.\n",
    "Los métodos se consideran supervisados porque el modelo es entrenado con la etiqueta que se esta buscando predecir."
   ]
  },
  {
   "cell_type": "code",
   "execution_count": 7,
   "metadata": {},
   "outputs": [
    {
     "name": "stdout",
     "output_type": "stream",
     "text": [
      "numpy       1.19.2\n",
      "pandas      1.2.4 \n",
      "matplotlib  3.3.2 \n",
      "sklearn     0.24.2\n"
     ]
    }
   ],
   "source": [
    "import numpy as np\n",
    "print(f\"{'numpy':<11} {np.__version__:<6}\")\n",
    "\n",
    "import pandas as pd\n",
    "print(f\"{'pandas':<11} {pd.__version__:<6}\")\n",
    "\n",
    "import matplotlib\n",
    "print(f\"{'matplotlib':<11} {matplotlib.__version__:<6}\")\n",
    "\n",
    "import matplotlib.pyplot as plt\n",
    "\n",
    "from sklearn import __version__ as sklearn_version\n",
    "print(f\"{'sklearn':<11} {sklearn_version:<6}\")\n",
    "\n",
    "from sklearn.compose import ColumnTransformer\n",
    "from sklearn.impute import SimpleImputer\n",
    "from sklearn.pipeline import Pipeline\n",
    "from sklearn.preprocessing import OneHotEncoder\n",
    "from sklearn.preprocessing import StandardScaler\n",
    "from sklearn.svm import OneClassSVM\n",
    "from sklearn.tree import DecisionTreeClassifier\n",
    "from sklearn.metrics import mean_absolute_error, recall_score\n",
    "\n",
    "import itertools"
   ]
  },
  {
   "cell_type": "code",
   "execution_count": 8,
   "metadata": {},
   "outputs": [],
   "source": [
    "from sklearn import set_config\n",
    "set_config(display=\"diagram\")"
   ]
  },
  {
   "cell_type": "markdown",
   "metadata": {},
   "source": [
    "En esta sección se desarrolla una función que imprime un reporte de los resultados del modelo"
   ]
  },
  {
   "cell_type": "code",
   "execution_count": 9,
   "metadata": {},
   "outputs": [],
   "source": [
    "from sklearn.metrics import classification_report, precision_score, recall_score, f1_score, precision_recall_fscore_support\n",
    "\n",
    "def print_report( Y_test, Y_preds ):\n",
    "    print('MAE                                         : %.3f'% mean_absolute_error(Y_test, Y_preds))\n",
    "    print('Precision                                   : %.3f'% precision_score(Y_test, Y_preds))\n",
    "    print('Recall                                      : %.3f'% recall_score(Y_test, Y_preds))\n",
    "    print('F1-Score                                    : %.3f'% f1_score(Y_test, Y_preds))\n",
    "    print('\\nPrecision Recall F1-Score Support Per Class : \\n', precision_recall_fscore_support(Y_test, Y_preds))\n",
    "    print('\\nClassification Report                       : ')\n",
    "    print(classification_report(Y_test, Y_preds))"
   ]
  },
  {
   "cell_type": "markdown",
   "metadata": {},
   "source": [
    "Asimismo se configura la matriz de confusión con la que se analizará el problema"
   ]
  },
  {
   "cell_type": "code",
   "execution_count": 10,
   "metadata": {},
   "outputs": [],
   "source": [
    "# Model Evaluation\n",
    "from sklearn.metrics import confusion_matrix\n",
    "\n",
    "def confusion_matrix_plot( Y_test, Y_preds ):\n",
    "\n",
    "    conf_mat = confusion_matrix(Y_test, Y_preds)\n",
    "    print(conf_mat)\n",
    "    with plt.style.context(('ggplot', 'seaborn')):\n",
    "        fig = plt.figure(figsize=(6,6), num=1)\n",
    "        plt.imshow(conf_mat, interpolation='nearest',cmap= plt.cm.Blues )\n",
    "        plt.xticks([0,1],[0,1])\n",
    "        plt.yticks([0,1],[0,1])\n",
    "        plt.xlabel('Predicted Label')\n",
    "        plt.ylabel('Actual Label')\n",
    "        for i, j in itertools.product(range(conf_mat.shape[0]), range(conf_mat.shape[1])):\n",
    "                    plt.text(j, i,conf_mat[i, j], horizontalalignment=\"center\",color=\"red\")\n",
    "        plt.grid(None)\n",
    "        plt.title('Confusion Matrix')\n",
    "        plt.colorbar()\n",
    "        plt.show()"
   ]
  },
  {
   "cell_type": "code",
   "execution_count": 11,
   "metadata": {},
   "outputs": [],
   "source": [
    "# Data Loading\n",
    "df0: pd.DataFrame = pd.read_csv(\n",
    "    \"traffic_AR_CL_UY+features+column_classifier.csv\",\n",
    "    parse_dates=[\"Fecha\"]\n",
    ")\n",
    "\n",
    "df0[\"Fecha\"] = pd.to_datetime(df0[\"Fecha\"], utc=True)\n"
   ]
  },
  {
   "cell_type": "code",
   "execution_count": 12,
   "metadata": {},
   "outputs": [
    {
     "name": "stdout",
     "output_type": "stream",
     "text": [
      "<class 'pandas.core.frame.DataFrame'>\n",
      "RangeIndex: 7712 entries, 0 to 7711\n",
      "Data columns (total 27 columns):\n",
      " #   Column               Non-Null Count  Dtype              \n",
      "---  ------               --------------  -----              \n",
      " 0   Fecha                7712 non-null   datetime64[ns, UTC]\n",
      " 1   Site                 7712 non-null   object             \n",
      " 2   flow                 7712 non-null   object             \n",
      " 3   Device               7712 non-null   object             \n",
      " 4   Loading              7712 non-null   int64              \n",
      " 5   Shipping             7712 non-null   int64              \n",
      " 6   Payments             7712 non-null   int64              \n",
      " 7   Review               7712 non-null   int64              \n",
      " 8   Congrats             7712 non-null   int64              \n",
      " 9   missing              7712 non-null   bool               \n",
      " 10  day_of_week          7712 non-null   int64              \n",
      " 11  month                7712 non-null   int64              \n",
      " 12  year                 7712 non-null   int64              \n",
      " 13  Shipping_ratio       7712 non-null   float64            \n",
      " 14  Payments_ratio       7712 non-null   float64            \n",
      " 15  Review_ratio         7712 non-null   float64            \n",
      " 16  Congrats_ratio       7712 non-null   float64            \n",
      " 17  TOTAL                7712 non-null   float64            \n",
      " 18  input_on_Shipping    7712 non-null   bool               \n",
      " 19  missing_on_Shipping  7712 non-null   bool               \n",
      " 20  input_on_Payments    7712 non-null   bool               \n",
      " 21  missing_on_Payments  7712 non-null   bool               \n",
      " 22  input_on_Review      7712 non-null   bool               \n",
      " 23  missing_on_Review    7712 non-null   bool               \n",
      " 24  input_on_Congrats    7712 non-null   bool               \n",
      " 25  missing_on_Congrats  7712 non-null   bool               \n",
      " 26  anomaly              7712 non-null   bool               \n",
      "dtypes: bool(10), datetime64[ns, UTC](1), float64(5), int64(8), object(3)\n",
      "memory usage: 1.1+ MB\n"
     ]
    }
   ],
   "source": [
    "df0.info()"
   ]
  },
  {
   "cell_type": "markdown",
   "metadata": {},
   "source": [
    "Como en los trabajos anteriores, trabajamos solo con un subset de los datos:"
   ]
  },
  {
   "cell_type": "code",
   "execution_count": 13,
   "metadata": {},
   "outputs": [],
   "source": [
    "site   = \"MLA\"\n",
    "flow   = \"direct\"\n",
    "device = \"iOS\"\n",
    "\n",
    "result: pd.DataFrame = df0.query(\n",
    "        f\"\"\" Site == \"{site}\" and flow == '{flow}' and Device == '{device}' \"\"\"\n",
    "    )\n"
   ]
  },
  {
   "cell_type": "code",
   "execution_count": 14,
   "metadata": {},
   "outputs": [],
   "source": [
    "# Column / Feature Selection\n",
    "data = result[[\"Fecha\", \"Site\", \"flow\",\"Device\",\"Loading\",\"Shipping\",\"Payments\",\"Review\",\"Congrats\",\"TOTAL\",\"anomaly\"]]\n"
   ]
  },
  {
   "cell_type": "code",
   "execution_count": 15,
   "metadata": {},
   "outputs": [
    {
     "name": "stdout",
     "output_type": "stream",
     "text": [
      "<class 'pandas.core.frame.DataFrame'>\n",
      "Int64Index: 488 entries, 7 to 7701\n",
      "Data columns (total 11 columns):\n",
      " #   Column    Non-Null Count  Dtype              \n",
      "---  ------    --------------  -----              \n",
      " 0   Fecha     488 non-null    datetime64[ns, UTC]\n",
      " 1   Site      488 non-null    object             \n",
      " 2   flow      488 non-null    object             \n",
      " 3   Device    488 non-null    object             \n",
      " 4   Loading   488 non-null    int64              \n",
      " 5   Shipping  488 non-null    int64              \n",
      " 6   Payments  488 non-null    int64              \n",
      " 7   Review    488 non-null    int64              \n",
      " 8   Congrats  488 non-null    int64              \n",
      " 9   TOTAL     488 non-null    float64            \n",
      " 10  anomaly   488 non-null    bool               \n",
      "dtypes: bool(1), datetime64[ns, UTC](1), float64(1), int64(5), object(3)\n",
      "memory usage: 42.4+ KB\n"
     ]
    }
   ],
   "source": [
    "data.info()"
   ]
  },
  {
   "cell_type": "code",
   "execution_count": 16,
   "metadata": {},
   "outputs": [
    {
     "name": "stdout",
     "output_type": "stream",
     "text": [
      "False    0.922131\n",
      "True     0.077869\n",
      "Name: anomaly, dtype: float64\n"
     ]
    },
    {
     "data": {
      "text/plain": [
       "<AxesSubplot:title={'center':'Classes distribution'}>"
      ]
     },
     "execution_count": 16,
     "metadata": {},
     "output_type": "execute_result"
    },
    {
     "data": {
      "image/png": "[encoded data removed]",
      "text/plain": [
       "<Figure size 432x288 with 1 Axes>"
      ]
     },
     "metadata": {
      "needs_background": "light"
     },
     "output_type": "display_data"
    }
   ],
   "source": [
    "print(data.anomaly.value_counts(normalize=True))\n",
    "data[\"anomaly\"].value_counts().plot(kind=\"bar\", title=\"Classes distribution\")\n"
   ]
  },
  {
   "cell_type": "markdown",
   "metadata": {},
   "source": [
    "Podemos ver que el dataset está desbalanceado, presentandose una relación muy desigual entre datos clasificados como outliers y datos normales (lo que no es sorprendente). Esto hace que al momento de entrenar el modelo tengamos que tener en cuenta la estratificación necesaria para que el entrenamiento sea correcto."
   ]
  },
  {
   "cell_type": "code",
   "execution_count": 17,
   "metadata": {},
   "outputs": [
    {
     "name": "stderr",
     "output_type": "stream",
     "text": [
      "<ipython-input-17-5dcc771d4818>:6: SettingWithCopyWarning: \n",
      "A value is trying to be set on a copy of a slice from a DataFrame.\n",
      "Try using .loc[row_indexer,col_indexer] = value instead\n",
      "\n",
      "See the caveats in the documentation: https://pandas.pydata.org/pandas-docs/stable/user_guide/indexing.html#returning-a-view-versus-a-copy\n",
      "  data[\"class\"] = data[\"anomaly\"].map(map_class)\n"
     ]
    },
    {
     "data": {
      "text/plain": [
       "7      -1\n",
       "19     -1\n",
       "31      1\n",
       "43     -1\n",
       "55     -1\n",
       "       ..\n",
       "7629    1\n",
       "7647   -1\n",
       "7665   -1\n",
       "7683    1\n",
       "7701   -1\n",
       "Name: class, Length: 488, dtype: int64"
      ]
     },
     "execution_count": 17,
     "metadata": {},
     "output_type": "execute_result"
    }
   ],
   "source": [
    "map_class = { \n",
    "    True : 1,  # Anomalies on class 1\n",
    "    False: -1  # Normal on class -1\n",
    "}\n",
    "\n",
    "data[\"class\"] = data[\"anomaly\"].map(map_class)\n",
    "\n",
    "target_name = \"class\"\n",
    "target = data[target_name]\n",
    "target"
   ]
  },
  {
   "cell_type": "code",
   "execution_count": 18,
   "metadata": {},
   "outputs": [
    {
     "data": {
      "text/html": [
       "<div>\n",
       "<style scoped>\n",
       "    .dataframe tbody tr th:only-of-type {\n",
       "        vertical-align: middle;\n",
       "    }\n",
       "\n",
       "    .dataframe tbody tr th {\n",
       "        vertical-align: top;\n",
       "    }\n",
       "\n",
       "    .dataframe thead th {\n",
       "        text-align: right;\n",
       "    }\n",
       "</style>\n",
       "<table border=\"1\" class=\"dataframe\">\n",
       "  <thead>\n",
       "    <tr style=\"text-align: right;\">\n",
       "      <th></th>\n",
       "      <th>Site</th>\n",
       "      <th>flow</th>\n",
       "      <th>Device</th>\n",
       "      <th>Loading</th>\n",
       "      <th>Shipping</th>\n",
       "      <th>Payments</th>\n",
       "      <th>Review</th>\n",
       "      <th>Congrats</th>\n",
       "      <th>TOTAL</th>\n",
       "    </tr>\n",
       "  </thead>\n",
       "  <tbody>\n",
       "    <tr>\n",
       "      <th>7</th>\n",
       "      <td>MLA</td>\n",
       "      <td>direct</td>\n",
       "      <td>iOS</td>\n",
       "      <td>29215</td>\n",
       "      <td>27378</td>\n",
       "      <td>23245</td>\n",
       "      <td>17899</td>\n",
       "      <td>16835</td>\n",
       "      <td>0.615</td>\n",
       "    </tr>\n",
       "    <tr>\n",
       "      <th>19</th>\n",
       "      <td>MLA</td>\n",
       "      <td>direct</td>\n",
       "      <td>iOS</td>\n",
       "      <td>22275</td>\n",
       "      <td>20572</td>\n",
       "      <td>17103</td>\n",
       "      <td>12304</td>\n",
       "      <td>11421</td>\n",
       "      <td>0.555</td>\n",
       "    </tr>\n",
       "    <tr>\n",
       "      <th>31</th>\n",
       "      <td>MLA</td>\n",
       "      <td>direct</td>\n",
       "      <td>iOS</td>\n",
       "      <td>18784</td>\n",
       "      <td>17220</td>\n",
       "      <td>13968</td>\n",
       "      <td>9617</td>\n",
       "      <td>8865</td>\n",
       "      <td>0.515</td>\n",
       "    </tr>\n",
       "    <tr>\n",
       "      <th>43</th>\n",
       "      <td>MLA</td>\n",
       "      <td>direct</td>\n",
       "      <td>iOS</td>\n",
       "      <td>24166</td>\n",
       "      <td>22199</td>\n",
       "      <td>18156</td>\n",
       "      <td>12852</td>\n",
       "      <td>11881</td>\n",
       "      <td>0.535</td>\n",
       "    </tr>\n",
       "    <tr>\n",
       "      <th>55</th>\n",
       "      <td>MLA</td>\n",
       "      <td>direct</td>\n",
       "      <td>iOS</td>\n",
       "      <td>29237</td>\n",
       "      <td>27081</td>\n",
       "      <td>22501</td>\n",
       "      <td>16484</td>\n",
       "      <td>15372</td>\n",
       "      <td>0.568</td>\n",
       "    </tr>\n",
       "  </tbody>\n",
       "</table>\n",
       "</div>"
      ],
      "text/plain": [
       "   Site    flow Device  Loading  Shipping  Payments  Review  Congrats  TOTAL\n",
       "7   MLA  direct    iOS    29215     27378     23245   17899     16835  0.615\n",
       "19  MLA  direct    iOS    22275     20572     17103   12304     11421  0.555\n",
       "31  MLA  direct    iOS    18784     17220     13968    9617      8865  0.515\n",
       "43  MLA  direct    iOS    24166     22199     18156   12852     11881  0.535\n",
       "55  MLA  direct    iOS    29237     27081     22501   16484     15372  0.568"
      ]
     },
     "execution_count": 18,
     "metadata": {},
     "output_type": "execute_result"
    }
   ],
   "source": [
    "# We drop from our data the target column to train our model\n",
    "data = data.drop( columns = [ target_name , \"anomaly\" , \"Fecha\"] )\n",
    "data.head()"
   ]
  },
  {
   "cell_type": "markdown",
   "metadata": {},
   "source": [
    "Generamos los datasets para los modelos"
   ]
  },
  {
   "cell_type": "code",
   "execution_count": 19,
   "metadata": {},
   "outputs": [],
   "source": [
    "from sklearn.model_selection import train_test_split\n",
    "\n",
    "X_train, X_test, y_train, y_test = train_test_split(data, target, test_size=0.15, random_state=999983)\n",
    "\n",
    "# display(X_train)\n",
    "# display(y_train)"
   ]
  },
  {
   "cell_type": "markdown",
   "metadata": {},
   "source": [
    "Para estructurar el tratamiento de los datos se genera un pipeline de preprocesamiento de los datos, donde se aplica OneHotEncoder a las variables categóricas y un método de imputación y de estandarización a las numéricas."
   ]
  },
  {
   "cell_type": "code",
   "execution_count": 20,
   "metadata": {},
   "outputs": [],
   "source": [
    "# define individual transformers in a pipeline\n",
    "categorical_preprocessing = Pipeline([\n",
    "    ('ohe', OneHotEncoder())\n",
    "])\n",
    "numerical_preprocessing = Pipeline([\n",
    "    ('imputation', SimpleImputer()),\n",
    "    ('scaler', StandardScaler())\n",
    "])\n",
    "\n",
    "# define which transformer applies to which columns\n",
    "preprocess = ColumnTransformer([\n",
    "    ('categorical_preprocessing', categorical_preprocessing, [\"Site\", \"flow\",\"Device\"]),\n",
    "    ('numerical_preprocessing', numerical_preprocessing, [\"Loading\",\"Shipping\",\"Payments\",\"Review\",\"Congrats\",\"TOTAL\"])\n",
    "])\n",
    "\n",
    "# define clasifier\n",
    "#outliers_fraction = 0.09\n",
    "#model = OneClassSVM(nu=outliers_fraction, kernel=\"rbf\", gamma=0.02)\n",
    "\n",
    "# create the final pipeline with preprocessing steps and \n",
    "# the final classifier step\n",
    "#pipeline = Pipeline([\n",
    "#    ('preprocess', preprocess),\n",
    "#    ('clf', model )\n",
    "#])\n",
    "\n",
    "#pipeline"
   ]
  },
  {
   "cell_type": "markdown",
   "metadata": {},
   "source": [
    "Probamos dos modelos buscando sus mejores hiperparámetros con gridsearch. Primero: oneclass SVM y luego decision tree classifier"
   ]
  },
  {
   "cell_type": "code",
   "execution_count": 21,
   "metadata": {},
   "outputs": [],
   "source": [
    "from sklearn.model_selection import GridSearchCV\n",
    "from sklearn.metrics import f1_score, make_scorer"
   ]
  },
  {
   "cell_type": "markdown",
   "metadata": {},
   "source": [
    "**MODEL: ONE CLASS SVM**"
   ]
  },
  {
   "cell_type": "code",
   "execution_count": 22,
   "metadata": {},
   "outputs": [],
   "source": [
    "# define clasifier\n",
    "model_ocsvm = OneClassSVM()\n",
    "\n",
    "# create the final pipeline with preprocessing steps and classifier step\n",
    "pipeline = Pipeline([\n",
    "    ('preprocess', preprocess),\n",
    "    ('clf', model_ocsvm )\n",
    "])\n",
    "\n",
    "parameters = {\n",
    "    'clf__kernel': [\"linear\",\"poly\", \"rbf\", \"sigmoid\"],\n",
    "    #'clf__degree': [2, 3 , 4],\n",
    "    'clf__nu': [0.001, 0.01, 0.05, 0.1, 0.5, 0.9, 0.99],\n",
    "    'clf__gamma': [\"scale\",\"auto\" ]\n",
    "  }\n"
   ]
  },
  {
   "cell_type": "markdown",
   "metadata": {},
   "source": [
    "PROBAMOS EL MODELO CON EL SCORING RECALL"
   ]
  },
  {
   "cell_type": "markdown",
   "metadata": {},
   "source": [
    "Para encontrar la mejor combinación de hiperparámetros posible hacemos uso de Gridsearch, buscando maximizar el recall."
   ]
  },
  {
   "cell_type": "code",
   "execution_count": 23,
   "metadata": {},
   "outputs": [
    {
     "data": {
      "text/html": [
       "<style>#sk-9b23cea1-e04c-43a6-a109-918e2501ca60 {color: black;background-color: white;}#sk-9b23cea1-e04c-43a6-a109-918e2501ca60 pre{padding: 0;}#sk-9b23cea1-e04c-43a6-a109-918e2501ca60 div.sk-toggleable {background-color: white;}#sk-9b23cea1-e04c-43a6-a109-918e2501ca60 label.sk-toggleable__label {cursor: pointer;display: block;width: 100%;margin-bottom: 0;padding: 0.2em 0.3em;box-sizing: border-box;text-align: center;}#sk-9b23cea1-e04c-43a6-a109-918e2501ca60 div.sk-toggleable__content {max-height: 0;max-width: 0;overflow: hidden;text-align: left;background-color: #f0f8ff;}#sk-9b23cea1-e04c-43a6-a109-918e2501ca60 div.sk-toggleable__content pre {margin: 0.2em;color: black;border-radius: 0.25em;background-color: #f0f8ff;}#sk-9b23cea1-e04c-43a6-a109-918e2501ca60 input.sk-toggleable__control:checked~div.sk-toggleable__content {max-height: 200px;max-width: 100%;overflow: auto;}#sk-9b23cea1-e04c-43a6-a109-918e2501ca60 div.sk-estimator input.sk-toggleable__control:checked~label.sk-toggleable__label {background-color: #d4ebff;}#sk-9b23cea1-e04c-43a6-a109-918e2501ca60 div.sk-label input.sk-toggleable__control:checked~label.sk-toggleable__label {background-color: #d4ebff;}#sk-9b23cea1-e04c-43a6-a109-918e2501ca60 input.sk-hidden--visually {border: 0;clip: rect(1px 1px 1px 1px);clip: rect(1px, 1px, 1px, 1px);height: 1px;margin: -1px;overflow: hidden;padding: 0;position: absolute;width: 1px;}#sk-9b23cea1-e04c-43a6-a109-918e2501ca60 div.sk-estimator {font-family: monospace;background-color: #f0f8ff;margin: 0.25em 0.25em;border: 1px dotted black;border-radius: 0.25em;box-sizing: border-box;}#sk-9b23cea1-e04c-43a6-a109-918e2501ca60 div.sk-estimator:hover {background-color: #d4ebff;}#sk-9b23cea1-e04c-43a6-a109-918e2501ca60 div.sk-parallel-item::after {content: \"\";width: 100%;border-bottom: 1px solid gray;flex-grow: 1;}#sk-9b23cea1-e04c-43a6-a109-918e2501ca60 div.sk-label:hover label.sk-toggleable__label {background-color: #d4ebff;}#sk-9b23cea1-e04c-43a6-a109-918e2501ca60 div.sk-serial::before {content: \"\";position: absolute;border-left: 1px solid gray;box-sizing: border-box;top: 2em;bottom: 0;left: 50%;}#sk-9b23cea1-e04c-43a6-a109-918e2501ca60 div.sk-serial {display: flex;flex-direction: column;align-items: center;background-color: white;}#sk-9b23cea1-e04c-43a6-a109-918e2501ca60 div.sk-item {z-index: 1;}#sk-9b23cea1-e04c-43a6-a109-918e2501ca60 div.sk-parallel {display: flex;align-items: stretch;justify-content: center;background-color: white;}#sk-9b23cea1-e04c-43a6-a109-918e2501ca60 div.sk-parallel-item {display: flex;flex-direction: column;position: relative;background-color: white;}#sk-9b23cea1-e04c-43a6-a109-918e2501ca60 div.sk-parallel-item:first-child::after {align-self: flex-end;width: 50%;}#sk-9b23cea1-e04c-43a6-a109-918e2501ca60 div.sk-parallel-item:last-child::after {align-self: flex-start;width: 50%;}#sk-9b23cea1-e04c-43a6-a109-918e2501ca60 div.sk-parallel-item:only-child::after {width: 0;}#sk-9b23cea1-e04c-43a6-a109-918e2501ca60 div.sk-dashed-wrapped {border: 1px dashed gray;margin: 0.2em;box-sizing: border-box;padding-bottom: 0.1em;background-color: white;position: relative;}#sk-9b23cea1-e04c-43a6-a109-918e2501ca60 div.sk-label label {font-family: monospace;font-weight: bold;background-color: white;display: inline-block;line-height: 1.2em;}#sk-9b23cea1-e04c-43a6-a109-918e2501ca60 div.sk-label-container {position: relative;z-index: 2;text-align: center;}#sk-9b23cea1-e04c-43a6-a109-918e2501ca60 div.sk-container {display: inline-block;position: relative;}</style><div id=\"sk-9b23cea1-e04c-43a6-a109-918e2501ca60\" class\"sk-top-container\"><div class=\"sk-container\"><div class=\"sk-item sk-dashed-wrapped\"><div class=\"sk-label-container\"><div class=\"sk-label sk-toggleable\"><input class=\"sk-toggleable__control sk-hidden--visually\" id=\"f969baa2-dea3-49e6-aa99-a127312b1039\" type=\"checkbox\" ><label class=\"sk-toggleable__label\" for=\"f969baa2-dea3-49e6-aa99-a127312b1039\">GridSearchCV</label><div class=\"sk-toggleable__content\"><pre>GridSearchCV(estimator=Pipeline(steps=[('preprocess',\n",
       "                                        ColumnTransformer(transformers=[('categorical_preprocessing',\n",
       "                                                                         Pipeline(steps=[('ohe',\n",
       "                                                                                          OneHotEncoder())]),\n",
       "                                                                         ['Site',\n",
       "                                                                          'flow',\n",
       "                                                                          'Device']),\n",
       "                                                                        ('numerical_preprocessing',\n",
       "                                                                         Pipeline(steps=[('imputation',\n",
       "                                                                                          SimpleImputer()),\n",
       "                                                                                         ('scaler',\n",
       "                                                                                          StandardScaler())]),\n",
       "                                                                         ['Loading',\n",
       "                                                                          'Shipping',\n",
       "                                                                          'Payments',\n",
       "                                                                          'Review',\n",
       "                                                                          'Congrats',\n",
       "                                                                          'TOTAL'])])),\n",
       "                                       ('clf', OneClassSVM())]),\n",
       "             param_grid={'clf__gamma': ['scale', 'auto'],\n",
       "                         'clf__kernel': ['linear', 'poly', 'rbf', 'sigmoid'],\n",
       "                         'clf__nu': [0.001, 0.01, 0.05, 0.1, 0.5, 0.9, 0.99]},\n",
       "             scoring='recall')</pre></div></div></div><div class=\"sk-parallel\"><div class=\"sk-parallel-item\"><div class=\"sk-item\"><div class=\"sk-serial\"><div class=\"sk-item\"><div class=\"sk-serial\"><div class=\"sk-item sk-dashed-wrapped\"><div class=\"sk-label-container\"><div class=\"sk-label sk-toggleable\"><input class=\"sk-toggleable__control sk-hidden--visually\" id=\"63d536c5-5982-494f-9217-47e381dfbcdd\" type=\"checkbox\" ><label class=\"sk-toggleable__label\" for=\"63d536c5-5982-494f-9217-47e381dfbcdd\">preprocess: ColumnTransformer</label><div class=\"sk-toggleable__content\"><pre>ColumnTransformer(transformers=[('categorical_preprocessing',\n",
       "                                 Pipeline(steps=[('ohe', OneHotEncoder())]),\n",
       "                                 ['Site', 'flow', 'Device']),\n",
       "                                ('numerical_preprocessing',\n",
       "                                 Pipeline(steps=[('imputation',\n",
       "                                                  SimpleImputer()),\n",
       "                                                 ('scaler', StandardScaler())]),\n",
       "                                 ['Loading', 'Shipping', 'Payments', 'Review',\n",
       "                                  'Congrats', 'TOTAL'])])</pre></div></div></div><div class=\"sk-parallel\"><div class=\"sk-parallel-item\"><div class=\"sk-item\"><div class=\"sk-label-container\"><div class=\"sk-label sk-toggleable\"><input class=\"sk-toggleable__control sk-hidden--visually\" id=\"96b2259c-0318-491d-ae24-54107d7d271a\" type=\"checkbox\" ><label class=\"sk-toggleable__label\" for=\"96b2259c-0318-491d-ae24-54107d7d271a\">categorical_preprocessing</label><div class=\"sk-toggleable__content\"><pre>['Site', 'flow', 'Device']</pre></div></div></div><div class=\"sk-serial\"><div class=\"sk-item\"><div class=\"sk-serial\"><div class=\"sk-item\"><div class=\"sk-estimator sk-toggleable\"><input class=\"sk-toggleable__control sk-hidden--visually\" id=\"c93d371a-5166-4b1d-afa9-f7da61228b57\" type=\"checkbox\" ><label class=\"sk-toggleable__label\" for=\"c93d371a-5166-4b1d-afa9-f7da61228b57\">OneHotEncoder</label><div class=\"sk-toggleable__content\"><pre>OneHotEncoder()</pre></div></div></div></div></div></div></div></div><div class=\"sk-parallel-item\"><div class=\"sk-item\"><div class=\"sk-label-container\"><div class=\"sk-label sk-toggleable\"><input class=\"sk-toggleable__control sk-hidden--visually\" id=\"3c32222b-84c4-4592-89d6-ea357ed60cbd\" type=\"checkbox\" ><label class=\"sk-toggleable__label\" for=\"3c32222b-84c4-4592-89d6-ea357ed60cbd\">numerical_preprocessing</label><div class=\"sk-toggleable__content\"><pre>['Loading', 'Shipping', 'Payments', 'Review', 'Congrats', 'TOTAL']</pre></div></div></div><div class=\"sk-serial\"><div class=\"sk-item\"><div class=\"sk-serial\"><div class=\"sk-item\"><div class=\"sk-estimator sk-toggleable\"><input class=\"sk-toggleable__control sk-hidden--visually\" id=\"0caa68b9-d801-4d68-bc30-41d79fd4ad62\" type=\"checkbox\" ><label class=\"sk-toggleable__label\" for=\"0caa68b9-d801-4d68-bc30-41d79fd4ad62\">SimpleImputer</label><div class=\"sk-toggleable__content\"><pre>SimpleImputer()</pre></div></div></div><div class=\"sk-item\"><div class=\"sk-estimator sk-toggleable\"><input class=\"sk-toggleable__control sk-hidden--visually\" id=\"45dacf1d-ee37-4497-b981-a92abf368e9b\" type=\"checkbox\" ><label class=\"sk-toggleable__label\" for=\"45dacf1d-ee37-4497-b981-a92abf368e9b\">StandardScaler</label><div class=\"sk-toggleable__content\"><pre>StandardScaler()</pre></div></div></div></div></div></div></div></div></div></div><div class=\"sk-item\"><div class=\"sk-estimator sk-toggleable\"><input class=\"sk-toggleable__control sk-hidden--visually\" id=\"3cef8188-8ee6-41fe-aa53-31e9d86b16a6\" type=\"checkbox\" ><label class=\"sk-toggleable__label\" for=\"3cef8188-8ee6-41fe-aa53-31e9d86b16a6\">OneClassSVM</label><div class=\"sk-toggleable__content\"><pre>OneClassSVM()</pre></div></div></div></div></div></div></div></div></div></div></div></div>"
      ],
      "text/plain": [
       "GridSearchCV(estimator=Pipeline(steps=[('preprocess',\n",
       "                                        ColumnTransformer(transformers=[('categorical_preprocessing',\n",
       "                                                                         Pipeline(steps=[('ohe',\n",
       "                                                                                          OneHotEncoder())]),\n",
       "                                                                         ['Site',\n",
       "                                                                          'flow',\n",
       "                                                                          'Device']),\n",
       "                                                                        ('numerical_preprocessing',\n",
       "                                                                         Pipeline(steps=[('imputation',\n",
       "                                                                                          SimpleImputer()),\n",
       "                                                                                         ('scaler',\n",
       "                                                                                          StandardScaler())]),\n",
       "                                                                         ['Loading',\n",
       "                                                                          'Shipping',\n",
       "                                                                          'Payments',\n",
       "                                                                          'Review',\n",
       "                                                                          'Congrats',\n",
       "                                                                          'TOTAL'])])),\n",
       "                                       ('clf', OneClassSVM())]),\n",
       "             param_grid={'clf__gamma': ['scale', 'auto'],\n",
       "                         'clf__kernel': ['linear', 'poly', 'rbf', 'sigmoid'],\n",
       "                         'clf__nu': [0.001, 0.01, 0.05, 0.1, 0.5, 0.9, 0.99]},\n",
       "             scoring='recall')"
      ]
     },
     "execution_count": 23,
     "metadata": {},
     "output_type": "execute_result"
    }
   ],
   "source": [
    "# initialize \n",
    "grid_pipeline_ocsvm_recall = GridSearchCV(pipeline,parameters, scoring=\"recall\")\n",
    "#display(pipeline.get_params().keys())\n",
    "# fit\n",
    "grid_pipeline_ocsvm_recall.fit(X_train,y_train)"
   ]
  },
  {
   "cell_type": "code",
   "execution_count": 24,
   "metadata": {},
   "outputs": [
    {
     "data": {
      "text/html": [
       "<div>\n",
       "<style scoped>\n",
       "    .dataframe tbody tr th:only-of-type {\n",
       "        vertical-align: middle;\n",
       "    }\n",
       "\n",
       "    .dataframe tbody tr th {\n",
       "        vertical-align: top;\n",
       "    }\n",
       "\n",
       "    .dataframe thead th {\n",
       "        text-align: right;\n",
       "    }\n",
       "</style>\n",
       "<table border=\"1\" class=\"dataframe\">\n",
       "  <thead>\n",
       "    <tr style=\"text-align: right;\">\n",
       "      <th></th>\n",
       "      <th>mean_fit_time</th>\n",
       "      <th>std_fit_time</th>\n",
       "      <th>mean_score_time</th>\n",
       "      <th>std_score_time</th>\n",
       "      <th>param_clf__gamma</th>\n",
       "      <th>param_clf__kernel</th>\n",
       "      <th>param_clf__nu</th>\n",
       "      <th>params</th>\n",
       "      <th>split0_test_score</th>\n",
       "      <th>split1_test_score</th>\n",
       "      <th>split2_test_score</th>\n",
       "      <th>split3_test_score</th>\n",
       "      <th>split4_test_score</th>\n",
       "      <th>mean_test_score</th>\n",
       "      <th>std_test_score</th>\n",
       "      <th>rank_test_score</th>\n",
       "    </tr>\n",
       "  </thead>\n",
       "  <tbody>\n",
       "    <tr>\n",
       "      <th>35</th>\n",
       "      <td>0.003571</td>\n",
       "      <td>0.007142</td>\n",
       "      <td>0.013151</td>\n",
       "      <td>0.004962</td>\n",
       "      <td>auto</td>\n",
       "      <td>poly</td>\n",
       "      <td>0.001</td>\n",
       "      <td>{'clf__gamma': 'auto', 'clf__kernel': 'poly', ...</td>\n",
       "      <td>1.0</td>\n",
       "      <td>1.0</td>\n",
       "      <td>1.0</td>\n",
       "      <td>1.0</td>\n",
       "      <td>1.0</td>\n",
       "      <td>1.0</td>\n",
       "      <td>0.0</td>\n",
       "      <td>1</td>\n",
       "    </tr>\n",
       "    <tr>\n",
       "      <th>36</th>\n",
       "      <td>0.005385</td>\n",
       "      <td>0.004397</td>\n",
       "      <td>0.009442</td>\n",
       "      <td>0.005061</td>\n",
       "      <td>auto</td>\n",
       "      <td>poly</td>\n",
       "      <td>0.01</td>\n",
       "      <td>{'clf__gamma': 'auto', 'clf__kernel': 'poly', ...</td>\n",
       "      <td>1.0</td>\n",
       "      <td>1.0</td>\n",
       "      <td>1.0</td>\n",
       "      <td>1.0</td>\n",
       "      <td>1.0</td>\n",
       "      <td>1.0</td>\n",
       "      <td>0.0</td>\n",
       "      <td>1</td>\n",
       "    </tr>\n",
       "    <tr>\n",
       "      <th>37</th>\n",
       "      <td>0.010181</td>\n",
       "      <td>0.000413</td>\n",
       "      <td>0.005585</td>\n",
       "      <td>0.000488</td>\n",
       "      <td>auto</td>\n",
       "      <td>poly</td>\n",
       "      <td>0.05</td>\n",
       "      <td>{'clf__gamma': 'auto', 'clf__kernel': 'poly', ...</td>\n",
       "      <td>1.0</td>\n",
       "      <td>1.0</td>\n",
       "      <td>1.0</td>\n",
       "      <td>1.0</td>\n",
       "      <td>1.0</td>\n",
       "      <td>1.0</td>\n",
       "      <td>0.0</td>\n",
       "      <td>1</td>\n",
       "    </tr>\n",
       "    <tr>\n",
       "      <th>7</th>\n",
       "      <td>0.003974</td>\n",
       "      <td>0.006053</td>\n",
       "      <td>0.009454</td>\n",
       "      <td>0.007721</td>\n",
       "      <td>scale</td>\n",
       "      <td>poly</td>\n",
       "      <td>0.001</td>\n",
       "      <td>{'clf__gamma': 'scale', 'clf__kernel': 'poly',...</td>\n",
       "      <td>1.0</td>\n",
       "      <td>1.0</td>\n",
       "      <td>1.0</td>\n",
       "      <td>1.0</td>\n",
       "      <td>1.0</td>\n",
       "      <td>1.0</td>\n",
       "      <td>0.0</td>\n",
       "      <td>1</td>\n",
       "    </tr>\n",
       "    <tr>\n",
       "      <th>8</th>\n",
       "      <td>0.015629</td>\n",
       "      <td>0.000017</td>\n",
       "      <td>0.000000</td>\n",
       "      <td>0.000000</td>\n",
       "      <td>scale</td>\n",
       "      <td>poly</td>\n",
       "      <td>0.01</td>\n",
       "      <td>{'clf__gamma': 'scale', 'clf__kernel': 'poly',...</td>\n",
       "      <td>1.0</td>\n",
       "      <td>1.0</td>\n",
       "      <td>1.0</td>\n",
       "      <td>1.0</td>\n",
       "      <td>1.0</td>\n",
       "      <td>1.0</td>\n",
       "      <td>0.0</td>\n",
       "      <td>1</td>\n",
       "    </tr>\n",
       "  </tbody>\n",
       "</table>\n",
       "</div>"
      ],
      "text/plain": [
       "    mean_fit_time  std_fit_time  mean_score_time  std_score_time  \\\n",
       "35       0.003571      0.007142         0.013151        0.004962   \n",
       "36       0.005385      0.004397         0.009442        0.005061   \n",
       "37       0.010181      0.000413         0.005585        0.000488   \n",
       "7        0.003974      0.006053         0.009454        0.007721   \n",
       "8        0.015629      0.000017         0.000000        0.000000   \n",
       "\n",
       "   param_clf__gamma param_clf__kernel param_clf__nu  \\\n",
       "35             auto              poly         0.001   \n",
       "36             auto              poly          0.01   \n",
       "37             auto              poly          0.05   \n",
       "7             scale              poly         0.001   \n",
       "8             scale              poly          0.01   \n",
       "\n",
       "                                               params  split0_test_score  \\\n",
       "35  {'clf__gamma': 'auto', 'clf__kernel': 'poly', ...                1.0   \n",
       "36  {'clf__gamma': 'auto', 'clf__kernel': 'poly', ...                1.0   \n",
       "37  {'clf__gamma': 'auto', 'clf__kernel': 'poly', ...                1.0   \n",
       "7   {'clf__gamma': 'scale', 'clf__kernel': 'poly',...                1.0   \n",
       "8   {'clf__gamma': 'scale', 'clf__kernel': 'poly',...                1.0   \n",
       "\n",
       "    split1_test_score  split2_test_score  split3_test_score  \\\n",
       "35                1.0                1.0                1.0   \n",
       "36                1.0                1.0                1.0   \n",
       "37                1.0                1.0                1.0   \n",
       "7                 1.0                1.0                1.0   \n",
       "8                 1.0                1.0                1.0   \n",
       "\n",
       "    split4_test_score  mean_test_score  std_test_score  rank_test_score  \n",
       "35                1.0              1.0             0.0                1  \n",
       "36                1.0              1.0             0.0                1  \n",
       "37                1.0              1.0             0.0                1  \n",
       "7                 1.0              1.0             0.0                1  \n",
       "8                 1.0              1.0             0.0                1  "
      ]
     },
     "execution_count": 24,
     "metadata": {},
     "output_type": "execute_result"
    }
   ],
   "source": [
    "results_ocsvm_recall = grid_pipeline_ocsvm_recall.cv_results_\n",
    "\n",
    "df_ocsvm_recall = pd.DataFrame(results_ocsvm_recall)\n",
    "df_ocsvm_recall.sort_values(by='rank_test_score').head()"
   ]
  },
  {
   "cell_type": "code",
   "execution_count": 25,
   "metadata": {},
   "outputs": [
    {
     "data": {
      "text/html": [
       "<div>\n",
       "<style scoped>\n",
       "    .dataframe tbody tr th:only-of-type {\n",
       "        vertical-align: middle;\n",
       "    }\n",
       "\n",
       "    .dataframe tbody tr th {\n",
       "        vertical-align: top;\n",
       "    }\n",
       "\n",
       "    .dataframe thead th {\n",
       "        text-align: right;\n",
       "    }\n",
       "</style>\n",
       "<table border=\"1\" class=\"dataframe\">\n",
       "  <thead>\n",
       "    <tr style=\"text-align: right;\">\n",
       "      <th></th>\n",
       "      <th>param_clf__kernel</th>\n",
       "      <th>param_clf__nu</th>\n",
       "      <th>param_clf__gamma</th>\n",
       "      <th>mean_test_score</th>\n",
       "      <th>std_test_score</th>\n",
       "      <th>rank_test_score</th>\n",
       "    </tr>\n",
       "  </thead>\n",
       "  <tbody>\n",
       "    <tr>\n",
       "      <th>35</th>\n",
       "      <td>poly</td>\n",
       "      <td>0.001</td>\n",
       "      <td>auto</td>\n",
       "      <td>1.0</td>\n",
       "      <td>0.0</td>\n",
       "      <td>1</td>\n",
       "    </tr>\n",
       "    <tr>\n",
       "      <th>36</th>\n",
       "      <td>poly</td>\n",
       "      <td>0.01</td>\n",
       "      <td>auto</td>\n",
       "      <td>1.0</td>\n",
       "      <td>0.0</td>\n",
       "      <td>1</td>\n",
       "    </tr>\n",
       "    <tr>\n",
       "      <th>37</th>\n",
       "      <td>poly</td>\n",
       "      <td>0.05</td>\n",
       "      <td>auto</td>\n",
       "      <td>1.0</td>\n",
       "      <td>0.0</td>\n",
       "      <td>1</td>\n",
       "    </tr>\n",
       "    <tr>\n",
       "      <th>7</th>\n",
       "      <td>poly</td>\n",
       "      <td>0.001</td>\n",
       "      <td>scale</td>\n",
       "      <td>1.0</td>\n",
       "      <td>0.0</td>\n",
       "      <td>1</td>\n",
       "    </tr>\n",
       "    <tr>\n",
       "      <th>8</th>\n",
       "      <td>poly</td>\n",
       "      <td>0.01</td>\n",
       "      <td>scale</td>\n",
       "      <td>1.0</td>\n",
       "      <td>0.0</td>\n",
       "      <td>1</td>\n",
       "    </tr>\n",
       "  </tbody>\n",
       "</table>\n",
       "</div>"
      ],
      "text/plain": [
       "   param_clf__kernel param_clf__nu param_clf__gamma  mean_test_score  \\\n",
       "35              poly         0.001             auto              1.0   \n",
       "36              poly          0.01             auto              1.0   \n",
       "37              poly          0.05             auto              1.0   \n",
       "7               poly         0.001            scale              1.0   \n",
       "8               poly          0.01            scale              1.0   \n",
       "\n",
       "    std_test_score  rank_test_score  \n",
       "35             0.0                1  \n",
       "36             0.0                1  \n",
       "37             0.0                1  \n",
       "7              0.0                1  \n",
       "8              0.0                1  "
      ]
     },
     "execution_count": 25,
     "metadata": {},
     "output_type": "execute_result"
    }
   ],
   "source": [
    "df_ocsvm_recall[['param_clf__kernel', 'param_clf__nu',\"param_clf__gamma\", 'mean_test_score', 'std_test_score', 'rank_test_score']].sort_values(by='rank_test_score').head()"
   ]
  },
  {
   "cell_type": "code",
   "execution_count": 26,
   "metadata": {},
   "outputs": [
    {
     "data": {
      "text/plain": [
       "{'clf__gamma': 'scale', 'clf__kernel': 'poly', 'clf__nu': 0.001}"
      ]
     },
     "execution_count": 26,
     "metadata": {},
     "output_type": "execute_result"
    }
   ],
   "source": [
    "grid_pipeline_ocsvm_recall.best_params_"
   ]
  },
  {
   "cell_type": "markdown",
   "metadata": {},
   "source": [
    "Habiendo encontrado los mejores hiperparámetros entrenamos el modelo con los mismos y analizamos los resultados a través de una matriz de confusión\n"
   ]
  },
  {
   "cell_type": "code",
   "execution_count": 27,
   "metadata": {},
   "outputs": [
    {
     "name": "stdout",
     "output_type": "stream",
     "text": [
      "[[ 6 61]\n",
      " [ 0  7]]\n"
     ]
    },
    {
     "data": {
      "image/png": "[encoded data removed]",
      "text/plain": [
       "<Figure size 432x432 with 2 Axes>"
      ]
     },
     "metadata": {},
     "output_type": "display_data"
    },
    {
     "name": "stdout",
     "output_type": "stream",
     "text": [
      "MAE                                         : 1.649\n",
      "Precision                                   : 0.103\n",
      "Recall                                      : 1.000\n",
      "F1-Score                                    : 0.187\n",
      "\n",
      "Precision Recall F1-Score Support Per Class : \n",
      " (array([1.        , 0.10294118]), array([0.08955224, 1.        ]), array([0.16438356, 0.18666667]), array([67,  7], dtype=int64))\n",
      "\n",
      "Classification Report                       : \n",
      "              precision    recall  f1-score   support\n",
      "\n",
      "          -1       1.00      0.09      0.16        67\n",
      "           1       0.10      1.00      0.19         7\n",
      "\n",
      "    accuracy                           0.18        74\n",
      "   macro avg       0.55      0.54      0.18        74\n",
      "weighted avg       0.92      0.18      0.17        74\n",
      "\n"
     ]
    }
   ],
   "source": [
    "model_ocsvm_bestrecall = OneClassSVM(gamma= \"scale\", kernel=\"poly\", nu=0.001) #tomamos los valores de .best_params_\n",
    "pipeline = Pipeline([\n",
    "    ('preprocess', preprocess),\n",
    "    ('clf', model_ocsvm_bestrecall )\n",
    "])\n",
    "\n",
    "pipeline.fit(X_train,y_train)\n",
    "\n",
    "yhat_bestrecall = pipeline.predict(X_test)\n",
    "\n",
    "# evaluate predictions with best parameters\n",
    "confusion_matrix_plot(y_test, yhat_bestrecall)\n",
    "print_report(y_test, yhat_bestrecall )\n"
   ]
  },
  {
   "cell_type": "markdown",
   "metadata": {},
   "source": [
    "Para maximizar el recall el modelo opta por predecir todo como outlier, por lo que no tiene una buena performance. A continuación probamos maximizar el F1, que es más apropiado por ser un dataset desbalanceado."
   ]
  },
  {
   "cell_type": "markdown",
   "metadata": {},
   "source": [
    "PROBAMOS EL MODELO CON EL SCORING F1"
   ]
  },
  {
   "cell_type": "code",
   "execution_count": 28,
   "metadata": {},
   "outputs": [
    {
     "data": {
      "text/html": [
       "<style>#sk-3a7f4991-53a7-4d24-aea6-e7fbda585f65 {color: black;background-color: white;}#sk-3a7f4991-53a7-4d24-aea6-e7fbda585f65 pre{padding: 0;}#sk-3a7f4991-53a7-4d24-aea6-e7fbda585f65 div.sk-toggleable {background-color: white;}#sk-3a7f4991-53a7-4d24-aea6-e7fbda585f65 label.sk-toggleable__label {cursor: pointer;display: block;width: 100%;margin-bottom: 0;padding: 0.2em 0.3em;box-sizing: border-box;text-align: center;}#sk-3a7f4991-53a7-4d24-aea6-e7fbda585f65 div.sk-toggleable__content {max-height: 0;max-width: 0;overflow: hidden;text-align: left;background-color: #f0f8ff;}#sk-3a7f4991-53a7-4d24-aea6-e7fbda585f65 div.sk-toggleable__content pre {margin: 0.2em;color: black;border-radius: 0.25em;background-color: #f0f8ff;}#sk-3a7f4991-53a7-4d24-aea6-e7fbda585f65 input.sk-toggleable__control:checked~div.sk-toggleable__content {max-height: 200px;max-width: 100%;overflow: auto;}#sk-3a7f4991-53a7-4d24-aea6-e7fbda585f65 div.sk-estimator input.sk-toggleable__control:checked~label.sk-toggleable__label {background-color: #d4ebff;}#sk-3a7f4991-53a7-4d24-aea6-e7fbda585f65 div.sk-label input.sk-toggleable__control:checked~label.sk-toggleable__label {background-color: #d4ebff;}#sk-3a7f4991-53a7-4d24-aea6-e7fbda585f65 input.sk-hidden--visually {border: 0;clip: rect(1px 1px 1px 1px);clip: rect(1px, 1px, 1px, 1px);height: 1px;margin: -1px;overflow: hidden;padding: 0;position: absolute;width: 1px;}#sk-3a7f4991-53a7-4d24-aea6-e7fbda585f65 div.sk-estimator {font-family: monospace;background-color: #f0f8ff;margin: 0.25em 0.25em;border: 1px dotted black;border-radius: 0.25em;box-sizing: border-box;}#sk-3a7f4991-53a7-4d24-aea6-e7fbda585f65 div.sk-estimator:hover {background-color: #d4ebff;}#sk-3a7f4991-53a7-4d24-aea6-e7fbda585f65 div.sk-parallel-item::after {content: \"\";width: 100%;border-bottom: 1px solid gray;flex-grow: 1;}#sk-3a7f4991-53a7-4d24-aea6-e7fbda585f65 div.sk-label:hover label.sk-toggleable__label {background-color: #d4ebff;}#sk-3a7f4991-53a7-4d24-aea6-e7fbda585f65 div.sk-serial::before {content: \"\";position: absolute;border-left: 1px solid gray;box-sizing: border-box;top: 2em;bottom: 0;left: 50%;}#sk-3a7f4991-53a7-4d24-aea6-e7fbda585f65 div.sk-serial {display: flex;flex-direction: column;align-items: center;background-color: white;}#sk-3a7f4991-53a7-4d24-aea6-e7fbda585f65 div.sk-item {z-index: 1;}#sk-3a7f4991-53a7-4d24-aea6-e7fbda585f65 div.sk-parallel {display: flex;align-items: stretch;justify-content: center;background-color: white;}#sk-3a7f4991-53a7-4d24-aea6-e7fbda585f65 div.sk-parallel-item {display: flex;flex-direction: column;position: relative;background-color: white;}#sk-3a7f4991-53a7-4d24-aea6-e7fbda585f65 div.sk-parallel-item:first-child::after {align-self: flex-end;width: 50%;}#sk-3a7f4991-53a7-4d24-aea6-e7fbda585f65 div.sk-parallel-item:last-child::after {align-self: flex-start;width: 50%;}#sk-3a7f4991-53a7-4d24-aea6-e7fbda585f65 div.sk-parallel-item:only-child::after {width: 0;}#sk-3a7f4991-53a7-4d24-aea6-e7fbda585f65 div.sk-dashed-wrapped {border: 1px dashed gray;margin: 0.2em;box-sizing: border-box;padding-bottom: 0.1em;background-color: white;position: relative;}#sk-3a7f4991-53a7-4d24-aea6-e7fbda585f65 div.sk-label label {font-family: monospace;font-weight: bold;background-color: white;display: inline-block;line-height: 1.2em;}#sk-3a7f4991-53a7-4d24-aea6-e7fbda585f65 div.sk-label-container {position: relative;z-index: 2;text-align: center;}#sk-3a7f4991-53a7-4d24-aea6-e7fbda585f65 div.sk-container {display: inline-block;position: relative;}</style><div id=\"sk-3a7f4991-53a7-4d24-aea6-e7fbda585f65\" class\"sk-top-container\"><div class=\"sk-container\"><div class=\"sk-item sk-dashed-wrapped\"><div class=\"sk-label-container\"><div class=\"sk-label sk-toggleable\"><input class=\"sk-toggleable__control sk-hidden--visually\" id=\"d6af225f-9671-498a-9011-819e8b59e882\" type=\"checkbox\" ><label class=\"sk-toggleable__label\" for=\"d6af225f-9671-498a-9011-819e8b59e882\">GridSearchCV</label><div class=\"sk-toggleable__content\"><pre>GridSearchCV(estimator=Pipeline(steps=[('preprocess',\n",
       "                                        ColumnTransformer(transformers=[('categorical_preprocessing',\n",
       "                                                                         Pipeline(steps=[('ohe',\n",
       "                                                                                          OneHotEncoder())]),\n",
       "                                                                         ['Site',\n",
       "                                                                          'flow',\n",
       "                                                                          'Device']),\n",
       "                                                                        ('numerical_preprocessing',\n",
       "                                                                         Pipeline(steps=[('imputation',\n",
       "                                                                                          SimpleImputer()),\n",
       "                                                                                         ('scaler',\n",
       "                                                                                          StandardScaler())]),\n",
       "                                                                         ['Loading',\n",
       "                                                                          'Shipping',\n",
       "                                                                          'Payments',\n",
       "                                                                          'Review',\n",
       "                                                                          'Congrats',\n",
       "                                                                          'TOTAL'])])),\n",
       "                                       ('clf',\n",
       "                                        OneClassSVM(kernel='poly', nu=0.001))]),\n",
       "             param_grid={'clf__gamma': ['scale', 'auto'],\n",
       "                         'clf__kernel': ['linear', 'poly', 'rbf', 'sigmoid'],\n",
       "                         'clf__nu': [0.001, 0.01, 0.05, 0.1, 0.5, 0.9, 0.99]},\n",
       "             scoring='f1')</pre></div></div></div><div class=\"sk-parallel\"><div class=\"sk-parallel-item\"><div class=\"sk-item\"><div class=\"sk-serial\"><div class=\"sk-item\"><div class=\"sk-serial\"><div class=\"sk-item sk-dashed-wrapped\"><div class=\"sk-label-container\"><div class=\"sk-label sk-toggleable\"><input class=\"sk-toggleable__control sk-hidden--visually\" id=\"b432ae98-2413-44cb-a794-04a69adff8eb\" type=\"checkbox\" ><label class=\"sk-toggleable__label\" for=\"b432ae98-2413-44cb-a794-04a69adff8eb\">preprocess: ColumnTransformer</label><div class=\"sk-toggleable__content\"><pre>ColumnTransformer(transformers=[('categorical_preprocessing',\n",
       "                                 Pipeline(steps=[('ohe', OneHotEncoder())]),\n",
       "                                 ['Site', 'flow', 'Device']),\n",
       "                                ('numerical_preprocessing',\n",
       "                                 Pipeline(steps=[('imputation',\n",
       "                                                  SimpleImputer()),\n",
       "                                                 ('scaler', StandardScaler())]),\n",
       "                                 ['Loading', 'Shipping', 'Payments', 'Review',\n",
       "                                  'Congrats', 'TOTAL'])])</pre></div></div></div><div class=\"sk-parallel\"><div class=\"sk-parallel-item\"><div class=\"sk-item\"><div class=\"sk-label-container\"><div class=\"sk-label sk-toggleable\"><input class=\"sk-toggleable__control sk-hidden--visually\" id=\"4b724e08-d191-4e78-95c5-fd93fcb13413\" type=\"checkbox\" ><label class=\"sk-toggleable__label\" for=\"4b724e08-d191-4e78-95c5-fd93fcb13413\">categorical_preprocessing</label><div class=\"sk-toggleable__content\"><pre>['Site', 'flow', 'Device']</pre></div></div></div><div class=\"sk-serial\"><div class=\"sk-item\"><div class=\"sk-serial\"><div class=\"sk-item\"><div class=\"sk-estimator sk-toggleable\"><input class=\"sk-toggleable__control sk-hidden--visually\" id=\"71bf97f7-3492-401e-bff1-adf48568ac4a\" type=\"checkbox\" ><label class=\"sk-toggleable__label\" for=\"71bf97f7-3492-401e-bff1-adf48568ac4a\">OneHotEncoder</label><div class=\"sk-toggleable__content\"><pre>OneHotEncoder()</pre></div></div></div></div></div></div></div></div><div class=\"sk-parallel-item\"><div class=\"sk-item\"><div class=\"sk-label-container\"><div class=\"sk-label sk-toggleable\"><input class=\"sk-toggleable__control sk-hidden--visually\" id=\"71a7225f-cabc-4494-a3e4-ee8f3506056f\" type=\"checkbox\" ><label class=\"sk-toggleable__label\" for=\"71a7225f-cabc-4494-a3e4-ee8f3506056f\">numerical_preprocessing</label><div class=\"sk-toggleable__content\"><pre>['Loading', 'Shipping', 'Payments', 'Review', 'Congrats', 'TOTAL']</pre></div></div></div><div class=\"sk-serial\"><div class=\"sk-item\"><div class=\"sk-serial\"><div class=\"sk-item\"><div class=\"sk-estimator sk-toggleable\"><input class=\"sk-toggleable__control sk-hidden--visually\" id=\"a58fbf67-ff18-4938-99bd-85900aa2ced8\" type=\"checkbox\" ><label class=\"sk-toggleable__label\" for=\"a58fbf67-ff18-4938-99bd-85900aa2ced8\">SimpleImputer</label><div class=\"sk-toggleable__content\"><pre>SimpleImputer()</pre></div></div></div><div class=\"sk-item\"><div class=\"sk-estimator sk-toggleable\"><input class=\"sk-toggleable__control sk-hidden--visually\" id=\"28dd9783-fbfc-4652-a0a4-945fe6213efe\" type=\"checkbox\" ><label class=\"sk-toggleable__label\" for=\"28dd9783-fbfc-4652-a0a4-945fe6213efe\">StandardScaler</label><div class=\"sk-toggleable__content\"><pre>StandardScaler()</pre></div></div></div></div></div></div></div></div></div></div><div class=\"sk-item\"><div class=\"sk-estimator sk-toggleable\"><input class=\"sk-toggleable__control sk-hidden--visually\" id=\"ce725eff-3c32-4200-a5e7-34a3772df82f\" type=\"checkbox\" ><label class=\"sk-toggleable__label\" for=\"ce725eff-3c32-4200-a5e7-34a3772df82f\">OneClassSVM</label><div class=\"sk-toggleable__content\"><pre>OneClassSVM(kernel='poly', nu=0.001)</pre></div></div></div></div></div></div></div></div></div></div></div></div>"
      ],
      "text/plain": [
       "GridSearchCV(estimator=Pipeline(steps=[('preprocess',\n",
       "                                        ColumnTransformer(transformers=[('categorical_preprocessing',\n",
       "                                                                         Pipeline(steps=[('ohe',\n",
       "                                                                                          OneHotEncoder())]),\n",
       "                                                                         ['Site',\n",
       "                                                                          'flow',\n",
       "                                                                          'Device']),\n",
       "                                                                        ('numerical_preprocessing',\n",
       "                                                                         Pipeline(steps=[('imputation',\n",
       "                                                                                          SimpleImputer()),\n",
       "                                                                                         ('scaler',\n",
       "                                                                                          StandardScaler())]),\n",
       "                                                                         ['Loading',\n",
       "                                                                          'Shipping',\n",
       "                                                                          'Payments',\n",
       "                                                                          'Review',\n",
       "                                                                          'Congrats',\n",
       "                                                                          'TOTAL'])])),\n",
       "                                       ('clf',\n",
       "                                        OneClassSVM(kernel='poly', nu=0.001))]),\n",
       "             param_grid={'clf__gamma': ['scale', 'auto'],\n",
       "                         'clf__kernel': ['linear', 'poly', 'rbf', 'sigmoid'],\n",
       "                         'clf__nu': [0.001, 0.01, 0.05, 0.1, 0.5, 0.9, 0.99]},\n",
       "             scoring='f1')"
      ]
     },
     "execution_count": 28,
     "metadata": {},
     "output_type": "execute_result"
    }
   ],
   "source": [
    "# initialize \n",
    "grid_pipeline_ocsvm_f1 = GridSearchCV(pipeline,parameters, scoring=\"f1\")\n",
    "#display(pipeline.get_params().keys())\n",
    "# fit\n",
    "grid_pipeline_ocsvm_f1.fit(X_train,y_train)"
   ]
  },
  {
   "cell_type": "code",
   "execution_count": 29,
   "metadata": {},
   "outputs": [
    {
     "data": {
      "text/html": [
       "<div>\n",
       "<style scoped>\n",
       "    .dataframe tbody tr th:only-of-type {\n",
       "        vertical-align: middle;\n",
       "    }\n",
       "\n",
       "    .dataframe tbody tr th {\n",
       "        vertical-align: top;\n",
       "    }\n",
       "\n",
       "    .dataframe thead th {\n",
       "        text-align: right;\n",
       "    }\n",
       "</style>\n",
       "<table border=\"1\" class=\"dataframe\">\n",
       "  <thead>\n",
       "    <tr style=\"text-align: right;\">\n",
       "      <th></th>\n",
       "      <th>mean_fit_time</th>\n",
       "      <th>std_fit_time</th>\n",
       "      <th>mean_score_time</th>\n",
       "      <th>std_score_time</th>\n",
       "      <th>param_clf__gamma</th>\n",
       "      <th>param_clf__kernel</th>\n",
       "      <th>param_clf__nu</th>\n",
       "      <th>params</th>\n",
       "      <th>split0_test_score</th>\n",
       "      <th>split1_test_score</th>\n",
       "      <th>split2_test_score</th>\n",
       "      <th>split3_test_score</th>\n",
       "      <th>split4_test_score</th>\n",
       "      <th>mean_test_score</th>\n",
       "      <th>std_test_score</th>\n",
       "      <th>rank_test_score</th>\n",
       "    </tr>\n",
       "  </thead>\n",
       "  <tbody>\n",
       "    <tr>\n",
       "      <th>33</th>\n",
       "      <td>0.013386</td>\n",
       "      <td>0.006906</td>\n",
       "      <td>0.003126</td>\n",
       "      <td>0.006251</td>\n",
       "      <td>auto</td>\n",
       "      <td>linear</td>\n",
       "      <td>0.9</td>\n",
       "      <td>{'clf__gamma': 'auto', 'clf__kernel': 'linear'...</td>\n",
       "      <td>0.285714</td>\n",
       "      <td>0.777778</td>\n",
       "      <td>0.333333</td>\n",
       "      <td>0.129032</td>\n",
       "      <td>0.148148</td>\n",
       "      <td>0.334801</td>\n",
       "      <td>0.234870</td>\n",
       "      <td>1</td>\n",
       "    </tr>\n",
       "    <tr>\n",
       "      <th>5</th>\n",
       "      <td>0.012940</td>\n",
       "      <td>0.006526</td>\n",
       "      <td>0.006685</td>\n",
       "      <td>0.007338</td>\n",
       "      <td>scale</td>\n",
       "      <td>linear</td>\n",
       "      <td>0.9</td>\n",
       "      <td>{'clf__gamma': 'scale', 'clf__kernel': 'linear...</td>\n",
       "      <td>0.285714</td>\n",
       "      <td>0.777778</td>\n",
       "      <td>0.333333</td>\n",
       "      <td>0.129032</td>\n",
       "      <td>0.148148</td>\n",
       "      <td>0.334801</td>\n",
       "      <td>0.234870</td>\n",
       "      <td>1</td>\n",
       "    </tr>\n",
       "    <tr>\n",
       "      <th>34</th>\n",
       "      <td>0.009618</td>\n",
       "      <td>0.007365</td>\n",
       "      <td>0.009624</td>\n",
       "      <td>0.007870</td>\n",
       "      <td>auto</td>\n",
       "      <td>linear</td>\n",
       "      <td>0.99</td>\n",
       "      <td>{'clf__gamma': 'auto', 'clf__kernel': 'linear'...</td>\n",
       "      <td>0.000000</td>\n",
       "      <td>0.518519</td>\n",
       "      <td>0.285714</td>\n",
       "      <td>0.285714</td>\n",
       "      <td>0.125000</td>\n",
       "      <td>0.242989</td>\n",
       "      <td>0.174661</td>\n",
       "      <td>3</td>\n",
       "    </tr>\n",
       "    <tr>\n",
       "      <th>6</th>\n",
       "      <td>0.016522</td>\n",
       "      <td>0.001780</td>\n",
       "      <td>0.006248</td>\n",
       "      <td>0.007652</td>\n",
       "      <td>scale</td>\n",
       "      <td>linear</td>\n",
       "      <td>0.99</td>\n",
       "      <td>{'clf__gamma': 'scale', 'clf__kernel': 'linear...</td>\n",
       "      <td>0.000000</td>\n",
       "      <td>0.518519</td>\n",
       "      <td>0.285714</td>\n",
       "      <td>0.285714</td>\n",
       "      <td>0.125000</td>\n",
       "      <td>0.242989</td>\n",
       "      <td>0.174661</td>\n",
       "      <td>3</td>\n",
       "    </tr>\n",
       "    <tr>\n",
       "      <th>12</th>\n",
       "      <td>0.018201</td>\n",
       "      <td>0.004015</td>\n",
       "      <td>0.008483</td>\n",
       "      <td>0.007771</td>\n",
       "      <td>scale</td>\n",
       "      <td>poly</td>\n",
       "      <td>0.9</td>\n",
       "      <td>{'clf__gamma': 'scale', 'clf__kernel': 'poly',...</td>\n",
       "      <td>0.307692</td>\n",
       "      <td>0.526316</td>\n",
       "      <td>0.000000</td>\n",
       "      <td>0.153846</td>\n",
       "      <td>0.222222</td>\n",
       "      <td>0.242015</td>\n",
       "      <td>0.174286</td>\n",
       "      <td>5</td>\n",
       "    </tr>\n",
       "  </tbody>\n",
       "</table>\n",
       "</div>"
      ],
      "text/plain": [
       "    mean_fit_time  std_fit_time  mean_score_time  std_score_time  \\\n",
       "33       0.013386      0.006906         0.003126        0.006251   \n",
       "5        0.012940      0.006526         0.006685        0.007338   \n",
       "34       0.009618      0.007365         0.009624        0.007870   \n",
       "6        0.016522      0.001780         0.006248        0.007652   \n",
       "12       0.018201      0.004015         0.008483        0.007771   \n",
       "\n",
       "   param_clf__gamma param_clf__kernel param_clf__nu  \\\n",
       "33             auto            linear           0.9   \n",
       "5             scale            linear           0.9   \n",
       "34             auto            linear          0.99   \n",
       "6             scale            linear          0.99   \n",
       "12            scale              poly           0.9   \n",
       "\n",
       "                                               params  split0_test_score  \\\n",
       "33  {'clf__gamma': 'auto', 'clf__kernel': 'linear'...           0.285714   \n",
       "5   {'clf__gamma': 'scale', 'clf__kernel': 'linear...           0.285714   \n",
       "34  {'clf__gamma': 'auto', 'clf__kernel': 'linear'...           0.000000   \n",
       "6   {'clf__gamma': 'scale', 'clf__kernel': 'linear...           0.000000   \n",
       "12  {'clf__gamma': 'scale', 'clf__kernel': 'poly',...           0.307692   \n",
       "\n",
       "    split1_test_score  split2_test_score  split3_test_score  \\\n",
       "33           0.777778           0.333333           0.129032   \n",
       "5            0.777778           0.333333           0.129032   \n",
       "34           0.518519           0.285714           0.285714   \n",
       "6            0.518519           0.285714           0.285714   \n",
       "12           0.526316           0.000000           0.153846   \n",
       "\n",
       "    split4_test_score  mean_test_score  std_test_score  rank_test_score  \n",
       "33           0.148148         0.334801        0.234870                1  \n",
       "5            0.148148         0.334801        0.234870                1  \n",
       "34           0.125000         0.242989        0.174661                3  \n",
       "6            0.125000         0.242989        0.174661                3  \n",
       "12           0.222222         0.242015        0.174286                5  "
      ]
     },
     "execution_count": 29,
     "metadata": {},
     "output_type": "execute_result"
    }
   ],
   "source": [
    "results_ocsvm_f1 = grid_pipeline_ocsvm_f1.cv_results_\n",
    "\n",
    "df_ocsvm_f1 = pd.DataFrame(results_ocsvm_f1)\n",
    "df_ocsvm_f1.sort_values(by='rank_test_score').head()"
   ]
  },
  {
   "cell_type": "code",
   "execution_count": 30,
   "metadata": {},
   "outputs": [
    {
     "data": {
      "text/html": [
       "<div>\n",
       "<style scoped>\n",
       "    .dataframe tbody tr th:only-of-type {\n",
       "        vertical-align: middle;\n",
       "    }\n",
       "\n",
       "    .dataframe tbody tr th {\n",
       "        vertical-align: top;\n",
       "    }\n",
       "\n",
       "    .dataframe thead th {\n",
       "        text-align: right;\n",
       "    }\n",
       "</style>\n",
       "<table border=\"1\" class=\"dataframe\">\n",
       "  <thead>\n",
       "    <tr style=\"text-align: right;\">\n",
       "      <th></th>\n",
       "      <th>param_clf__kernel</th>\n",
       "      <th>param_clf__nu</th>\n",
       "      <th>param_clf__gamma</th>\n",
       "      <th>mean_test_score</th>\n",
       "      <th>std_test_score</th>\n",
       "      <th>rank_test_score</th>\n",
       "    </tr>\n",
       "  </thead>\n",
       "  <tbody>\n",
       "    <tr>\n",
       "      <th>33</th>\n",
       "      <td>linear</td>\n",
       "      <td>0.9</td>\n",
       "      <td>auto</td>\n",
       "      <td>0.334801</td>\n",
       "      <td>0.234870</td>\n",
       "      <td>1</td>\n",
       "    </tr>\n",
       "    <tr>\n",
       "      <th>5</th>\n",
       "      <td>linear</td>\n",
       "      <td>0.9</td>\n",
       "      <td>scale</td>\n",
       "      <td>0.334801</td>\n",
       "      <td>0.234870</td>\n",
       "      <td>1</td>\n",
       "    </tr>\n",
       "    <tr>\n",
       "      <th>34</th>\n",
       "      <td>linear</td>\n",
       "      <td>0.99</td>\n",
       "      <td>auto</td>\n",
       "      <td>0.242989</td>\n",
       "      <td>0.174661</td>\n",
       "      <td>3</td>\n",
       "    </tr>\n",
       "    <tr>\n",
       "      <th>6</th>\n",
       "      <td>linear</td>\n",
       "      <td>0.99</td>\n",
       "      <td>scale</td>\n",
       "      <td>0.242989</td>\n",
       "      <td>0.174661</td>\n",
       "      <td>3</td>\n",
       "    </tr>\n",
       "    <tr>\n",
       "      <th>12</th>\n",
       "      <td>poly</td>\n",
       "      <td>0.9</td>\n",
       "      <td>scale</td>\n",
       "      <td>0.242015</td>\n",
       "      <td>0.174286</td>\n",
       "      <td>5</td>\n",
       "    </tr>\n",
       "  </tbody>\n",
       "</table>\n",
       "</div>"
      ],
      "text/plain": [
       "   param_clf__kernel param_clf__nu param_clf__gamma  mean_test_score  \\\n",
       "33            linear           0.9             auto         0.334801   \n",
       "5             linear           0.9            scale         0.334801   \n",
       "34            linear          0.99             auto         0.242989   \n",
       "6             linear          0.99            scale         0.242989   \n",
       "12              poly           0.9            scale         0.242015   \n",
       "\n",
       "    std_test_score  rank_test_score  \n",
       "33        0.234870                1  \n",
       "5         0.234870                1  \n",
       "34        0.174661                3  \n",
       "6         0.174661                3  \n",
       "12        0.174286                5  "
      ]
     },
     "execution_count": 30,
     "metadata": {},
     "output_type": "execute_result"
    }
   ],
   "source": [
    "df_ocsvm_f1[['param_clf__kernel', 'param_clf__nu',\"param_clf__gamma\", 'mean_test_score', 'std_test_score', 'rank_test_score']].sort_values(by='rank_test_score').head()"
   ]
  },
  {
   "cell_type": "code",
   "execution_count": 31,
   "metadata": {},
   "outputs": [
    {
     "data": {
      "text/plain": [
       "{'clf__gamma': 'scale', 'clf__kernel': 'linear', 'clf__nu': 0.9}"
      ]
     },
     "execution_count": 31,
     "metadata": {},
     "output_type": "execute_result"
    }
   ],
   "source": [
    "grid_pipeline_ocsvm_f1.best_params_"
   ]
  },
  {
   "cell_type": "code",
   "execution_count": 32,
   "metadata": {},
   "outputs": [
    {
     "name": "stdout",
     "output_type": "stream",
     "text": [
      "[[49 18]\n",
      " [ 2  5]]\n"
     ]
    },
    {
     "data": {
      "image/png": "[encoded data removed]",
      "text/plain": [
       "<Figure size 432x432 with 2 Axes>"
      ]
     },
     "metadata": {},
     "output_type": "display_data"
    },
    {
     "name": "stdout",
     "output_type": "stream",
     "text": [
      "MAE                                         : 0.541\n",
      "Precision                                   : 0.217\n",
      "Recall                                      : 0.714\n",
      "F1-Score                                    : 0.333\n",
      "\n",
      "Precision Recall F1-Score Support Per Class : \n",
      " (array([0.96078431, 0.2173913 ]), array([0.73134328, 0.71428571]), array([0.83050847, 0.33333333]), array([67,  7], dtype=int64))\n",
      "\n",
      "Classification Report                       : \n",
      "              precision    recall  f1-score   support\n",
      "\n",
      "          -1       0.96      0.73      0.83        67\n",
      "           1       0.22      0.71      0.33         7\n",
      "\n",
      "    accuracy                           0.73        74\n",
      "   macro avg       0.59      0.72      0.58        74\n",
      "weighted avg       0.89      0.73      0.78        74\n",
      "\n"
     ]
    }
   ],
   "source": [
    "model_ocsvm_bestf1 = OneClassSVM(gamma= \"scale\", kernel=\"linear\", nu=0.9)\n",
    "pipeline = Pipeline([\n",
    "    ('preprocess', preprocess),\n",
    "    ('clf', model_ocsvm_bestf1 )\n",
    "])\n",
    "\n",
    "pipeline.fit(X_train,y_train)\n",
    "\n",
    "yhat_bestf1 = pipeline.predict(X_test)\n",
    "\n",
    "# evaluate predictions with best parameters\n",
    "confusion_matrix_plot(y_test, yhat_bestf1)\n",
    "print_report(y_test, yhat_bestf1 )\n"
   ]
  },
  {
   "cell_type": "markdown",
   "metadata": {},
   "source": [
    "Podemos ver que en este caso si bien la recall cayó a 0.72, el f1 score mejoró fuertemente. "
   ]
  },
  {
   "cell_type": "markdown",
   "metadata": {},
   "source": [
    "**MODEL: DECISION TREE**\n",
    "directamente con F1 dado que con recall es mucho el costo de maximizar su valor."
   ]
  },
  {
   "cell_type": "markdown",
   "metadata": {},
   "source": [
    "En esta sección vamos a probar con un modelo de árbol de decisión, para ver si conseguimos mejores resultados."
   ]
  },
  {
   "cell_type": "code",
   "execution_count": 33,
   "metadata": {},
   "outputs": [],
   "source": [
    "from sklearn.tree import DecisionTreeClassifier\n",
    "\n",
    "# define classifier\n",
    "model_dt = DecisionTreeClassifier(random_state=0)\n",
    "\n",
    "# create the final pipeline with preprocessing steps and classifier step\n",
    "pipeline = Pipeline([\n",
    "    ('preprocess', preprocess),\n",
    "    ('clf', model_dt )\n",
    "])\n",
    "\n",
    "parameters = {\n",
    "    'clf__criterion': ['gini','entropy'],\n",
    "    'clf__max_depth': range(1,20,1),\n",
    "    'clf__min_samples_leaf': range(1,10,1)\n",
    "    #'clf__min_samples_split' : range(1,50,2)\n",
    "}"
   ]
  },
  {
   "cell_type": "code",
   "execution_count": 34,
   "metadata": {},
   "outputs": [
    {
     "data": {
      "text/html": [
       "<style>#sk-3412ec7d-2be0-48b7-8951-f823789d6833 {color: black;background-color: white;}#sk-3412ec7d-2be0-48b7-8951-f823789d6833 pre{padding: 0;}#sk-3412ec7d-2be0-48b7-8951-f823789d6833 div.sk-toggleable {background-color: white;}#sk-3412ec7d-2be0-48b7-8951-f823789d6833 label.sk-toggleable__label {cursor: pointer;display: block;width: 100%;margin-bottom: 0;padding: 0.2em 0.3em;box-sizing: border-box;text-align: center;}#sk-3412ec7d-2be0-48b7-8951-f823789d6833 div.sk-toggleable__content {max-height: 0;max-width: 0;overflow: hidden;text-align: left;background-color: #f0f8ff;}#sk-3412ec7d-2be0-48b7-8951-f823789d6833 div.sk-toggleable__content pre {margin: 0.2em;color: black;border-radius: 0.25em;background-color: #f0f8ff;}#sk-3412ec7d-2be0-48b7-8951-f823789d6833 input.sk-toggleable__control:checked~div.sk-toggleable__content {max-height: 200px;max-width: 100%;overflow: auto;}#sk-3412ec7d-2be0-48b7-8951-f823789d6833 div.sk-estimator input.sk-toggleable__control:checked~label.sk-toggleable__label {background-color: #d4ebff;}#sk-3412ec7d-2be0-48b7-8951-f823789d6833 div.sk-label input.sk-toggleable__control:checked~label.sk-toggleable__label {background-color: #d4ebff;}#sk-3412ec7d-2be0-48b7-8951-f823789d6833 input.sk-hidden--visually {border: 0;clip: rect(1px 1px 1px 1px);clip: rect(1px, 1px, 1px, 1px);height: 1px;margin: -1px;overflow: hidden;padding: 0;position: absolute;width: 1px;}#sk-3412ec7d-2be0-48b7-8951-f823789d6833 div.sk-estimator {font-family: monospace;background-color: #f0f8ff;margin: 0.25em 0.25em;border: 1px dotted black;border-radius: 0.25em;box-sizing: border-box;}#sk-3412ec7d-2be0-48b7-8951-f823789d6833 div.sk-estimator:hover {background-color: #d4ebff;}#sk-3412ec7d-2be0-48b7-8951-f823789d6833 div.sk-parallel-item::after {content: \"\";width: 100%;border-bottom: 1px solid gray;flex-grow: 1;}#sk-3412ec7d-2be0-48b7-8951-f823789d6833 div.sk-label:hover label.sk-toggleable__label {background-color: #d4ebff;}#sk-3412ec7d-2be0-48b7-8951-f823789d6833 div.sk-serial::before {content: \"\";position: absolute;border-left: 1px solid gray;box-sizing: border-box;top: 2em;bottom: 0;left: 50%;}#sk-3412ec7d-2be0-48b7-8951-f823789d6833 div.sk-serial {display: flex;flex-direction: column;align-items: center;background-color: white;}#sk-3412ec7d-2be0-48b7-8951-f823789d6833 div.sk-item {z-index: 1;}#sk-3412ec7d-2be0-48b7-8951-f823789d6833 div.sk-parallel {display: flex;align-items: stretch;justify-content: center;background-color: white;}#sk-3412ec7d-2be0-48b7-8951-f823789d6833 div.sk-parallel-item {display: flex;flex-direction: column;position: relative;background-color: white;}#sk-3412ec7d-2be0-48b7-8951-f823789d6833 div.sk-parallel-item:first-child::after {align-self: flex-end;width: 50%;}#sk-3412ec7d-2be0-48b7-8951-f823789d6833 div.sk-parallel-item:last-child::after {align-self: flex-start;width: 50%;}#sk-3412ec7d-2be0-48b7-8951-f823789d6833 div.sk-parallel-item:only-child::after {width: 0;}#sk-3412ec7d-2be0-48b7-8951-f823789d6833 div.sk-dashed-wrapped {border: 1px dashed gray;margin: 0.2em;box-sizing: border-box;padding-bottom: 0.1em;background-color: white;position: relative;}#sk-3412ec7d-2be0-48b7-8951-f823789d6833 div.sk-label label {font-family: monospace;font-weight: bold;background-color: white;display: inline-block;line-height: 1.2em;}#sk-3412ec7d-2be0-48b7-8951-f823789d6833 div.sk-label-container {position: relative;z-index: 2;text-align: center;}#sk-3412ec7d-2be0-48b7-8951-f823789d6833 div.sk-container {display: inline-block;position: relative;}</style><div id=\"sk-3412ec7d-2be0-48b7-8951-f823789d6833\" class\"sk-top-container\"><div class=\"sk-container\"><div class=\"sk-item sk-dashed-wrapped\"><div class=\"sk-label-container\"><div class=\"sk-label sk-toggleable\"><input class=\"sk-toggleable__control sk-hidden--visually\" id=\"7d13ede7-7963-4374-8f1c-21453f7891f0\" type=\"checkbox\" ><label class=\"sk-toggleable__label\" for=\"7d13ede7-7963-4374-8f1c-21453f7891f0\">GridSearchCV</label><div class=\"sk-toggleable__content\"><pre>GridSearchCV(estimator=Pipeline(steps=[('preprocess',\n",
       "                                        ColumnTransformer(transformers=[('categorical_preprocessing',\n",
       "                                                                         Pipeline(steps=[('ohe',\n",
       "                                                                                          OneHotEncoder())]),\n",
       "                                                                         ['Site',\n",
       "                                                                          'flow',\n",
       "                                                                          'Device']),\n",
       "                                                                        ('numerical_preprocessing',\n",
       "                                                                         Pipeline(steps=[('imputation',\n",
       "                                                                                          SimpleImputer()),\n",
       "                                                                                         ('scaler',\n",
       "                                                                                          StandardScaler())]),\n",
       "                                                                         ['Loading',\n",
       "                                                                          'Shipping',\n",
       "                                                                          'Payments',\n",
       "                                                                          'Review',\n",
       "                                                                          'Congrats',\n",
       "                                                                          'TOTAL'])])),\n",
       "                                       ('clf',\n",
       "                                        DecisionTreeClassifier(random_state=0))]),\n",
       "             param_grid={'clf__criterion': ['gini', 'entropy'],\n",
       "                         'clf__max_depth': range(1, 20),\n",
       "                         'clf__min_samples_leaf': range(1, 10)},\n",
       "             scoring='f1')</pre></div></div></div><div class=\"sk-parallel\"><div class=\"sk-parallel-item\"><div class=\"sk-item\"><div class=\"sk-serial\"><div class=\"sk-item\"><div class=\"sk-serial\"><div class=\"sk-item sk-dashed-wrapped\"><div class=\"sk-label-container\"><div class=\"sk-label sk-toggleable\"><input class=\"sk-toggleable__control sk-hidden--visually\" id=\"59f2775f-33ef-47cf-970f-d7516325d2ea\" type=\"checkbox\" ><label class=\"sk-toggleable__label\" for=\"59f2775f-33ef-47cf-970f-d7516325d2ea\">preprocess: ColumnTransformer</label><div class=\"sk-toggleable__content\"><pre>ColumnTransformer(transformers=[('categorical_preprocessing',\n",
       "                                 Pipeline(steps=[('ohe', OneHotEncoder())]),\n",
       "                                 ['Site', 'flow', 'Device']),\n",
       "                                ('numerical_preprocessing',\n",
       "                                 Pipeline(steps=[('imputation',\n",
       "                                                  SimpleImputer()),\n",
       "                                                 ('scaler', StandardScaler())]),\n",
       "                                 ['Loading', 'Shipping', 'Payments', 'Review',\n",
       "                                  'Congrats', 'TOTAL'])])</pre></div></div></div><div class=\"sk-parallel\"><div class=\"sk-parallel-item\"><div class=\"sk-item\"><div class=\"sk-label-container\"><div class=\"sk-label sk-toggleable\"><input class=\"sk-toggleable__control sk-hidden--visually\" id=\"7f88afae-311d-49ec-ae8f-7ef8ecfc92c7\" type=\"checkbox\" ><label class=\"sk-toggleable__label\" for=\"7f88afae-311d-49ec-ae8f-7ef8ecfc92c7\">categorical_preprocessing</label><div class=\"sk-toggleable__content\"><pre>['Site', 'flow', 'Device']</pre></div></div></div><div class=\"sk-serial\"><div class=\"sk-item\"><div class=\"sk-serial\"><div class=\"sk-item\"><div class=\"sk-estimator sk-toggleable\"><input class=\"sk-toggleable__control sk-hidden--visually\" id=\"58323a88-208e-4737-a18f-5a2da4ff7e09\" type=\"checkbox\" ><label class=\"sk-toggleable__label\" for=\"58323a88-208e-4737-a18f-5a2da4ff7e09\">OneHotEncoder</label><div class=\"sk-toggleable__content\"><pre>OneHotEncoder()</pre></div></div></div></div></div></div></div></div><div class=\"sk-parallel-item\"><div class=\"sk-item\"><div class=\"sk-label-container\"><div class=\"sk-label sk-toggleable\"><input class=\"sk-toggleable__control sk-hidden--visually\" id=\"cdad16ff-14bb-4eeb-b8cc-bea9c94f0a9a\" type=\"checkbox\" ><label class=\"sk-toggleable__label\" for=\"cdad16ff-14bb-4eeb-b8cc-bea9c94f0a9a\">numerical_preprocessing</label><div class=\"sk-toggleable__content\"><pre>['Loading', 'Shipping', 'Payments', 'Review', 'Congrats', 'TOTAL']</pre></div></div></div><div class=\"sk-serial\"><div class=\"sk-item\"><div class=\"sk-serial\"><div class=\"sk-item\"><div class=\"sk-estimator sk-toggleable\"><input class=\"sk-toggleable__control sk-hidden--visually\" id=\"c0eb8371-8713-459e-abdb-f54ef4fc71c8\" type=\"checkbox\" ><label class=\"sk-toggleable__label\" for=\"c0eb8371-8713-459e-abdb-f54ef4fc71c8\">SimpleImputer</label><div class=\"sk-toggleable__content\"><pre>SimpleImputer()</pre></div></div></div><div class=\"sk-item\"><div class=\"sk-estimator sk-toggleable\"><input class=\"sk-toggleable__control sk-hidden--visually\" id=\"9dbb0125-9a93-46b9-92e3-0f0b6bfaab6c\" type=\"checkbox\" ><label class=\"sk-toggleable__label\" for=\"9dbb0125-9a93-46b9-92e3-0f0b6bfaab6c\">StandardScaler</label><div class=\"sk-toggleable__content\"><pre>StandardScaler()</pre></div></div></div></div></div></div></div></div></div></div><div class=\"sk-item\"><div class=\"sk-estimator sk-toggleable\"><input class=\"sk-toggleable__control sk-hidden--visually\" id=\"66e47a96-e4a7-4863-8cda-eff700da617e\" type=\"checkbox\" ><label class=\"sk-toggleable__label\" for=\"66e47a96-e4a7-4863-8cda-eff700da617e\">DecisionTreeClassifier</label><div class=\"sk-toggleable__content\"><pre>DecisionTreeClassifier(random_state=0)</pre></div></div></div></div></div></div></div></div></div></div></div></div>"
      ],
      "text/plain": [
       "GridSearchCV(estimator=Pipeline(steps=[('preprocess',\n",
       "                                        ColumnTransformer(transformers=[('categorical_preprocessing',\n",
       "                                                                         Pipeline(steps=[('ohe',\n",
       "                                                                                          OneHotEncoder())]),\n",
       "                                                                         ['Site',\n",
       "                                                                          'flow',\n",
       "                                                                          'Device']),\n",
       "                                                                        ('numerical_preprocessing',\n",
       "                                                                         Pipeline(steps=[('imputation',\n",
       "                                                                                          SimpleImputer()),\n",
       "                                                                                         ('scaler',\n",
       "                                                                                          StandardScaler())]),\n",
       "                                                                         ['Loading',\n",
       "                                                                          'Shipping',\n",
       "                                                                          'Payments',\n",
       "                                                                          'Review',\n",
       "                                                                          'Congrats',\n",
       "                                                                          'TOTAL'])])),\n",
       "                                       ('clf',\n",
       "                                        DecisionTreeClassifier(random_state=0))]),\n",
       "             param_grid={'clf__criterion': ['gini', 'entropy'],\n",
       "                         'clf__max_depth': range(1, 20),\n",
       "                         'clf__min_samples_leaf': range(1, 10)},\n",
       "             scoring='f1')"
      ]
     },
     "execution_count": 34,
     "metadata": {},
     "output_type": "execute_result"
    }
   ],
   "source": [
    "# initialize \n",
    "grid_pipeline_dt_f1 = GridSearchCV(pipeline,parameters, scoring=\"f1\")\n",
    "#display(pipeline.get_params().keys())\n",
    "# fit\n",
    "grid_pipeline_dt_f1.fit(X_train,y_train)"
   ]
  },
  {
   "cell_type": "code",
   "execution_count": 35,
   "metadata": {},
   "outputs": [
    {
     "data": {
      "text/html": [
       "<div>\n",
       "<style scoped>\n",
       "    .dataframe tbody tr th:only-of-type {\n",
       "        vertical-align: middle;\n",
       "    }\n",
       "\n",
       "    .dataframe tbody tr th {\n",
       "        vertical-align: top;\n",
       "    }\n",
       "\n",
       "    .dataframe thead th {\n",
       "        text-align: right;\n",
       "    }\n",
       "</style>\n",
       "<table border=\"1\" class=\"dataframe\">\n",
       "  <thead>\n",
       "    <tr style=\"text-align: right;\">\n",
       "      <th></th>\n",
       "      <th>mean_fit_time</th>\n",
       "      <th>std_fit_time</th>\n",
       "      <th>mean_score_time</th>\n",
       "      <th>std_score_time</th>\n",
       "      <th>param_clf__criterion</th>\n",
       "      <th>param_clf__max_depth</th>\n",
       "      <th>param_clf__min_samples_leaf</th>\n",
       "      <th>params</th>\n",
       "      <th>split0_test_score</th>\n",
       "      <th>split1_test_score</th>\n",
       "      <th>split2_test_score</th>\n",
       "      <th>split3_test_score</th>\n",
       "      <th>split4_test_score</th>\n",
       "      <th>mean_test_score</th>\n",
       "      <th>std_test_score</th>\n",
       "      <th>rank_test_score</th>\n",
       "    </tr>\n",
       "  </thead>\n",
       "  <tbody>\n",
       "    <tr>\n",
       "      <th>170</th>\n",
       "      <td>0.016526</td>\n",
       "      <td>0.001788</td>\n",
       "      <td>0.000000</td>\n",
       "      <td>0.000000</td>\n",
       "      <td>gini</td>\n",
       "      <td>19</td>\n",
       "      <td>9</td>\n",
       "      <td>{'clf__criterion': 'gini', 'clf__max_depth': 1...</td>\n",
       "      <td>0.8</td>\n",
       "      <td>1.0</td>\n",
       "      <td>1.0</td>\n",
       "      <td>0.857143</td>\n",
       "      <td>1.0</td>\n",
       "      <td>0.931429</td>\n",
       "      <td>0.085905</td>\n",
       "      <td>1</td>\n",
       "    </tr>\n",
       "    <tr>\n",
       "      <th>53</th>\n",
       "      <td>0.008628</td>\n",
       "      <td>0.002238</td>\n",
       "      <td>0.006095</td>\n",
       "      <td>0.004438</td>\n",
       "      <td>gini</td>\n",
       "      <td>6</td>\n",
       "      <td>9</td>\n",
       "      <td>{'clf__criterion': 'gini', 'clf__max_depth': 6...</td>\n",
       "      <td>0.8</td>\n",
       "      <td>1.0</td>\n",
       "      <td>1.0</td>\n",
       "      <td>0.857143</td>\n",
       "      <td>1.0</td>\n",
       "      <td>0.931429</td>\n",
       "      <td>0.085905</td>\n",
       "      <td>1</td>\n",
       "    </tr>\n",
       "    <tr>\n",
       "      <th>62</th>\n",
       "      <td>0.010143</td>\n",
       "      <td>0.000015</td>\n",
       "      <td>0.004300</td>\n",
       "      <td>0.004604</td>\n",
       "      <td>gini</td>\n",
       "      <td>7</td>\n",
       "      <td>9</td>\n",
       "      <td>{'clf__criterion': 'gini', 'clf__max_depth': 7...</td>\n",
       "      <td>0.8</td>\n",
       "      <td>1.0</td>\n",
       "      <td>1.0</td>\n",
       "      <td>0.857143</td>\n",
       "      <td>1.0</td>\n",
       "      <td>0.931429</td>\n",
       "      <td>0.085905</td>\n",
       "      <td>1</td>\n",
       "    </tr>\n",
       "    <tr>\n",
       "      <th>71</th>\n",
       "      <td>0.010138</td>\n",
       "      <td>0.000009</td>\n",
       "      <td>0.006084</td>\n",
       "      <td>0.004245</td>\n",
       "      <td>gini</td>\n",
       "      <td>8</td>\n",
       "      <td>9</td>\n",
       "      <td>{'clf__criterion': 'gini', 'clf__max_depth': 8...</td>\n",
       "      <td>0.8</td>\n",
       "      <td>1.0</td>\n",
       "      <td>1.0</td>\n",
       "      <td>0.857143</td>\n",
       "      <td>1.0</td>\n",
       "      <td>0.931429</td>\n",
       "      <td>0.085905</td>\n",
       "      <td>1</td>\n",
       "    </tr>\n",
       "    <tr>\n",
       "      <th>80</th>\n",
       "      <td>0.011761</td>\n",
       "      <td>0.003626</td>\n",
       "      <td>0.004072</td>\n",
       "      <td>0.004206</td>\n",
       "      <td>gini</td>\n",
       "      <td>9</td>\n",
       "      <td>9</td>\n",
       "      <td>{'clf__criterion': 'gini', 'clf__max_depth': 9...</td>\n",
       "      <td>0.8</td>\n",
       "      <td>1.0</td>\n",
       "      <td>1.0</td>\n",
       "      <td>0.857143</td>\n",
       "      <td>1.0</td>\n",
       "      <td>0.931429</td>\n",
       "      <td>0.085905</td>\n",
       "      <td>1</td>\n",
       "    </tr>\n",
       "  </tbody>\n",
       "</table>\n",
       "</div>"
      ],
      "text/plain": [
       "     mean_fit_time  std_fit_time  mean_score_time  std_score_time  \\\n",
       "170       0.016526      0.001788         0.000000        0.000000   \n",
       "53        0.008628      0.002238         0.006095        0.004438   \n",
       "62        0.010143      0.000015         0.004300        0.004604   \n",
       "71        0.010138      0.000009         0.006084        0.004245   \n",
       "80        0.011761      0.003626         0.004072        0.004206   \n",
       "\n",
       "    param_clf__criterion param_clf__max_depth param_clf__min_samples_leaf  \\\n",
       "170                 gini                   19                           9   \n",
       "53                  gini                    6                           9   \n",
       "62                  gini                    7                           9   \n",
       "71                  gini                    8                           9   \n",
       "80                  gini                    9                           9   \n",
       "\n",
       "                                                params  split0_test_score  \\\n",
       "170  {'clf__criterion': 'gini', 'clf__max_depth': 1...                0.8   \n",
       "53   {'clf__criterion': 'gini', 'clf__max_depth': 6...                0.8   \n",
       "62   {'clf__criterion': 'gini', 'clf__max_depth': 7...                0.8   \n",
       "71   {'clf__criterion': 'gini', 'clf__max_depth': 8...                0.8   \n",
       "80   {'clf__criterion': 'gini', 'clf__max_depth': 9...                0.8   \n",
       "\n",
       "     split1_test_score  split2_test_score  split3_test_score  \\\n",
       "170                1.0                1.0           0.857143   \n",
       "53                 1.0                1.0           0.857143   \n",
       "62                 1.0                1.0           0.857143   \n",
       "71                 1.0                1.0           0.857143   \n",
       "80                 1.0                1.0           0.857143   \n",
       "\n",
       "     split4_test_score  mean_test_score  std_test_score  rank_test_score  \n",
       "170                1.0         0.931429        0.085905                1  \n",
       "53                 1.0         0.931429        0.085905                1  \n",
       "62                 1.0         0.931429        0.085905                1  \n",
       "71                 1.0         0.931429        0.085905                1  \n",
       "80                 1.0         0.931429        0.085905                1  "
      ]
     },
     "execution_count": 35,
     "metadata": {},
     "output_type": "execute_result"
    }
   ],
   "source": [
    "results_dt_f1 = grid_pipeline_dt_f1.cv_results_\n",
    "\n",
    "df_dt_f1 = pd.DataFrame(results_dt_f1)\n",
    "df_dt_f1.sort_values(by='rank_test_score').head()"
   ]
  },
  {
   "cell_type": "code",
   "execution_count": 36,
   "metadata": {},
   "outputs": [
    {
     "data": {
      "text/html": [
       "<div>\n",
       "<style scoped>\n",
       "    .dataframe tbody tr th:only-of-type {\n",
       "        vertical-align: middle;\n",
       "    }\n",
       "\n",
       "    .dataframe tbody tr th {\n",
       "        vertical-align: top;\n",
       "    }\n",
       "\n",
       "    .dataframe thead th {\n",
       "        text-align: right;\n",
       "    }\n",
       "</style>\n",
       "<table border=\"1\" class=\"dataframe\">\n",
       "  <thead>\n",
       "    <tr style=\"text-align: right;\">\n",
       "      <th></th>\n",
       "      <th>param_clf__criterion</th>\n",
       "      <th>param_clf__max_depth</th>\n",
       "      <th>param_clf__min_samples_leaf</th>\n",
       "      <th>mean_test_score</th>\n",
       "      <th>std_test_score</th>\n",
       "      <th>rank_test_score</th>\n",
       "    </tr>\n",
       "  </thead>\n",
       "  <tbody>\n",
       "    <tr>\n",
       "      <th>170</th>\n",
       "      <td>gini</td>\n",
       "      <td>19</td>\n",
       "      <td>9</td>\n",
       "      <td>0.931429</td>\n",
       "      <td>0.085905</td>\n",
       "      <td>1</td>\n",
       "    </tr>\n",
       "    <tr>\n",
       "      <th>53</th>\n",
       "      <td>gini</td>\n",
       "      <td>6</td>\n",
       "      <td>9</td>\n",
       "      <td>0.931429</td>\n",
       "      <td>0.085905</td>\n",
       "      <td>1</td>\n",
       "    </tr>\n",
       "    <tr>\n",
       "      <th>62</th>\n",
       "      <td>gini</td>\n",
       "      <td>7</td>\n",
       "      <td>9</td>\n",
       "      <td>0.931429</td>\n",
       "      <td>0.085905</td>\n",
       "      <td>1</td>\n",
       "    </tr>\n",
       "    <tr>\n",
       "      <th>71</th>\n",
       "      <td>gini</td>\n",
       "      <td>8</td>\n",
       "      <td>9</td>\n",
       "      <td>0.931429</td>\n",
       "      <td>0.085905</td>\n",
       "      <td>1</td>\n",
       "    </tr>\n",
       "    <tr>\n",
       "      <th>80</th>\n",
       "      <td>gini</td>\n",
       "      <td>9</td>\n",
       "      <td>9</td>\n",
       "      <td>0.931429</td>\n",
       "      <td>0.085905</td>\n",
       "      <td>1</td>\n",
       "    </tr>\n",
       "  </tbody>\n",
       "</table>\n",
       "</div>"
      ],
      "text/plain": [
       "    param_clf__criterion param_clf__max_depth param_clf__min_samples_leaf  \\\n",
       "170                 gini                   19                           9   \n",
       "53                  gini                    6                           9   \n",
       "62                  gini                    7                           9   \n",
       "71                  gini                    8                           9   \n",
       "80                  gini                    9                           9   \n",
       "\n",
       "     mean_test_score  std_test_score  rank_test_score  \n",
       "170         0.931429        0.085905                1  \n",
       "53          0.931429        0.085905                1  \n",
       "62          0.931429        0.085905                1  \n",
       "71          0.931429        0.085905                1  \n",
       "80          0.931429        0.085905                1  "
      ]
     },
     "execution_count": 36,
     "metadata": {},
     "output_type": "execute_result"
    }
   ],
   "source": [
    "df_dt_f1[['param_clf__criterion', 'param_clf__max_depth',\"param_clf__min_samples_leaf\", 'mean_test_score', 'std_test_score', 'rank_test_score']].sort_values(by='rank_test_score').head()"
   ]
  },
  {
   "cell_type": "code",
   "execution_count": 37,
   "metadata": {},
   "outputs": [
    {
     "data": {
      "text/plain": [
       "{'clf__criterion': 'gini', 'clf__max_depth': 2, 'clf__min_samples_leaf': 9}"
      ]
     },
     "execution_count": 37,
     "metadata": {},
     "output_type": "execute_result"
    }
   ],
   "source": [
    "grid_pipeline_dt_f1.best_params_"
   ]
  },
  {
   "cell_type": "markdown",
   "metadata": {},
   "source": [
    "Habiendo obtenido la mejor combinación de hiperparámetros procedemos a fittear el modelo"
   ]
  },
  {
   "cell_type": "code",
   "execution_count": 38,
   "metadata": {},
   "outputs": [
    {
     "name": "stdout",
     "output_type": "stream",
     "text": [
      "[[65  2]\n",
      " [ 1  6]]\n"
     ]
    },
    {
     "data": {
      "image/png": "[encoded data removed]",
      "text/plain": [
       "<Figure size 432x432 with 2 Axes>"
      ]
     },
     "metadata": {},
     "output_type": "display_data"
    },
    {
     "name": "stdout",
     "output_type": "stream",
     "text": [
      "MAE                                         : 0.081\n",
      "Precision                                   : 0.750\n",
      "Recall                                      : 0.857\n",
      "F1-Score                                    : 0.800\n",
      "\n",
      "Precision Recall F1-Score Support Per Class : \n",
      " (array([0.98484848, 0.75      ]), array([0.97014925, 0.85714286]), array([0.97744361, 0.8       ]), array([67,  7], dtype=int64))\n",
      "\n",
      "Classification Report                       : \n",
      "              precision    recall  f1-score   support\n",
      "\n",
      "          -1       0.98      0.97      0.98        67\n",
      "           1       0.75      0.86      0.80         7\n",
      "\n",
      "    accuracy                           0.96        74\n",
      "   macro avg       0.87      0.91      0.89        74\n",
      "weighted avg       0.96      0.96      0.96        74\n",
      "\n"
     ]
    }
   ],
   "source": [
    "model_dt_bestf1 = DecisionTreeClassifier(random_state=0, criterion= \"gini\", max_depth=2, min_samples_leaf=9)\n",
    "pipeline = Pipeline([\n",
    "    ('preprocess', preprocess),\n",
    "    ('clf', model_dt_bestf1 )\n",
    "])\n",
    "\n",
    "pipeline.fit(X_train,y_train)\n",
    "\n",
    "yhat_bestf1 = pipeline.predict(X_test)\n",
    "\n",
    "# evaluate predictions with best parameters\n",
    "confusion_matrix_plot(y_test, yhat_bestf1)\n",
    "print_report(y_test, yhat_bestf1 )\n"
   ]
  },
  {
   "cell_type": "markdown",
   "metadata": {},
   "source": [
    "En términos generales el modelo de árbol de decisión tiene mejor resultado tanto en precision como en recall, por lo cual el F1 es superior al logrado con Support Vector Machines.\n",
    "A continuación se muestran los outliers detectados en la serie temporal con este método."
   ]
  },
  {
   "cell_type": "code",
   "execution_count": 39,
   "metadata": {},
   "outputs": [
    {
     "data": {
      "image/png": "[encoded data removed]",
      "text/plain": [
       "<Figure size 1152x288 with 1 Axes>"
      ]
     },
     "metadata": {
      "needs_background": "light"
     },
     "output_type": "display_data"
    }
   ],
   "source": [
    "fig, ax = plt.subplots(figsize=(16,4))\n",
    "a = result.loc[ result[\"anomaly\"] == 1 , [\"Fecha\" , \"TOTAL\"] ] #anomaly\n",
    "\n",
    "ax.plot(result[\"Fecha\"], result[\"TOTAL\"], color='blue')\n",
    "ax.scatter(a[\"Fecha\"],a[\"TOTAL\"], color='red')\n",
    "\n",
    "plt.show();"
   ]
  },
  {
   "cell_type": "markdown",
   "metadata": {},
   "source": [
    "Como se puede observar en el gráfico, el modelo resulta bastante completo al identificar outliers. Encuentra outliers tanto por encima como por debajo de la tendencia de la serie, anticipa cambios de tendencia (pre/post-covid19) y luego encuentra una nueva normalidad solo remarcando como outliers los últimos valores de la serie."
   ]
  }
 ],
 "metadata": {
  "kernelspec": {
   "display_name": "Python 3",
   "language": "python",
   "name": "python3"
  },
  "language_info": {
   "codemirror_mode": {
    "name": "ipython",
    "version": 3
   },
   "file_extension": ".py",
   "mimetype": "text/x-python",
   "name": "python",
   "nbconvert_exporter": "python",
   "pygments_lexer": "ipython3",
   "version": "3.8.5"
  }
 },
 "nbformat": 4,
 "nbformat_minor": 4
}
